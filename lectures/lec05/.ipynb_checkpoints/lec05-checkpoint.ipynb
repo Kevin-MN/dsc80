{
 "cells": [
  {
   "cell_type": "code",
   "execution_count": null,
   "id": "af746811",
   "metadata": {
    "slideshow": {
     "slide_type": "skip"
    }
   },
   "outputs": [],
   "source": [
    "import pandas as pd\n",
    "import numpy as np\n",
    "import os\n",
    "\n",
    "import matplotlib.pyplot as plt\n",
    "# plt.rcParams['figure.figsize'] = (10, 5)\n",
    "plt.style.use('seaborn-white')   # seaborn custom plot style\n",
    "plt.rc('figure', dpi=100, figsize=(10, 5))   # set default size/resolution\n",
    "plt.rc('font', size=12)   # font size"
   ]
  },
  {
   "cell_type": "markdown",
   "id": "345a4005",
   "metadata": {
    "slideshow": {
     "slide_type": "slide"
    }
   },
   "source": [
    "# Lecture 5 – Unfaithful Data, Hypothesis Testing\n",
    "\n",
    "## DSC 80, Spring 2022"
   ]
  },
  {
   "cell_type": "markdown",
   "id": "3dddebf0",
   "metadata": {
    "slideshow": {
     "slide_type": "slide"
    }
   },
   "source": [
    "### Announcements\n",
    "\n",
    "- Project 1 is released!\n",
    "    - The Checkpoint is due **tomorrow at 11:59PM**.\n",
    "    - The whole project is due on **Thursday, April 14th at 11:59PM**.\n",
    "    - Use [this sheet](https://docs.google.com/spreadsheets/d/1PMtGpd4U6rYBn6Ut6eHQzSo4PdBwluU-ppx87ROy_N8/edit#gid=0) to find a pair programming partner.\n",
    "- Lab 2 is due on **Monday, April 11th at 11:59PM**.\n",
    "- There is only one discussion section now, on Wednesdays from **7-8:30PM**."
   ]
  },
  {
   "cell_type": "markdown",
   "id": "1283dedb",
   "metadata": {
    "slideshow": {
     "slide_type": "slide"
    }
   },
   "source": [
    "### Agenda\n",
    "\n",
    "- Unfaithful data.\n",
    "- Missing values.\n",
    "- Hypothesis testing."
   ]
  },
  {
   "cell_type": "markdown",
   "id": "2c9ada96",
   "metadata": {
    "slideshow": {
     "slide_type": "slide"
    }
   },
   "source": [
    "## Unfaithful data"
   ]
  },
  {
   "cell_type": "markdown",
   "id": "280ddcad",
   "metadata": {
    "slideshow": {
     "slide_type": "slide"
    }
   },
   "source": [
    "### Is the data \"faithful\" to the DGP?\n",
    "\n",
    "- In other words, how well does the data represent reality?\n",
    "\n",
    "- Does the data contain unrealistic or \"incorrect\" values?\n",
    "    - Dates in the future for events in the past.\n",
    "    - Locations that don't exist.\n",
    "    - Negative counts.\n",
    "    - Misspellings of names.\n",
    "    - Large outliers."
   ]
  },
  {
   "cell_type": "markdown",
   "id": "3761b06a",
   "metadata": {
    "slideshow": {
     "slide_type": "slide"
    }
   },
   "source": [
    "### Is the data \"faithful\" to the DGP?\n",
    "    \n",
    "- Does the data violate obvious dependencies?\n",
    "    - Age and birthday don't match. \n",
    "- Was the data entered by hand?\n",
    "     - Spelling errors.\n",
    "     - Fields shifted.\n",
    "     - Did the form require fields or provide default values?  \n",
    "- Are there obvious signs of data falsification (aka \"curbstoning\")?\n",
    "    - Repeated names.\n",
    "    - Fake looking email addresses.\n",
    "    - Repeated use of uncommon names or fields."
   ]
  },
  {
   "cell_type": "markdown",
   "id": "4bc541db",
   "metadata": {
    "slideshow": {
     "slide_type": "slide"
    }
   },
   "source": [
    "<center><img src='imgs/data-sd.png' width=70%></center>"
   ]
  },
  {
   "cell_type": "markdown",
   "id": "3d72d38e",
   "metadata": {
    "slideshow": {
     "slide_type": "slide"
    }
   },
   "source": [
    "### Example: Police vehicle stops 🚔\n",
    "\n",
    "The dataset we're working with contains all of the vehicle stops that the San Diego Police Department made in 2016.\n",
    "\n",
    "<center><img src=\"imgs/image_5.png\"/></center>"
   ]
  },
  {
   "cell_type": "markdown",
   "id": "a5216968",
   "metadata": {
    "slideshow": {
     "slide_type": "slide"
    }
   },
   "source": [
    "### General questions\n",
    "\n",
    "1. Check the data types. Notice any issues?\n",
    "2. Do string fields have consistent values?\n",
    "3. Are there missing values that we don't understand?\n",
    "4. Are all values within a reasonable range?\n",
    "5. How do we deal with the messiness we find?"
   ]
  },
  {
   "cell_type": "code",
   "execution_count": null,
   "id": "a46ade43",
   "metadata": {},
   "outputs": [],
   "source": [
    "stops = pd.read_csv('data/vehicle_stops_2016_datasd.csv')\n",
    "stops.head()"
   ]
  },
  {
   "cell_type": "markdown",
   "id": "b2bc5054",
   "metadata": {
    "slideshow": {
     "slide_type": "slide"
    }
   },
   "source": [
    "### Data types\n",
    "* Are the data types correct?\n",
    "* If not, are they easily fixable?"
   ]
  },
  {
   "cell_type": "code",
   "execution_count": null,
   "id": "90a1411b",
   "metadata": {
    "scrolled": true
   },
   "outputs": [],
   "source": [
    "stops.head(1)"
   ]
  },
  {
   "cell_type": "code",
   "execution_count": null,
   "id": "3020fba3",
   "metadata": {
    "scrolled": false
   },
   "outputs": [],
   "source": [
    "stops.info()"
   ]
  },
  {
   "cell_type": "markdown",
   "id": "27c4aa08",
   "metadata": {
    "slideshow": {
     "slide_type": "slide"
    }
   },
   "source": [
    "### Unfaithfulness\n",
    "* Are there suspicious values?\n",
    "* If a value is suspicious, can we trust the observation?\n",
    "* For example, consider `'subject_age'` – some are too high to be true, some are too low to be true."
   ]
  },
  {
   "cell_type": "code",
   "execution_count": null,
   "id": "90008bc6",
   "metadata": {},
   "outputs": [],
   "source": [
    "stops['subject_age'].unique()"
   ]
  },
  {
   "cell_type": "code",
   "execution_count": null,
   "id": "9c0aec15",
   "metadata": {},
   "outputs": [],
   "source": [
    "ages = pd.to_numeric(stops['subject_age'], errors='coerce')\n",
    "ages.describe()"
   ]
  },
  {
   "cell_type": "markdown",
   "id": "829d2e36",
   "metadata": {},
   "source": [
    "Ages range all over the place, from 0 to 220. Was a 220 year old really pulled over?"
   ]
  },
  {
   "cell_type": "code",
   "execution_count": null,
   "id": "47006759",
   "metadata": {},
   "outputs": [],
   "source": [
    "stops.loc[ages > 100]"
   ]
  },
  {
   "cell_type": "code",
   "execution_count": null,
   "id": "00442f8d",
   "metadata": {},
   "outputs": [],
   "source": [
    "ages.loc[(ages >= 0) & (ages < 16)].value_counts()"
   ]
  },
  {
   "cell_type": "code",
   "execution_count": null,
   "id": "6243f705",
   "metadata": {},
   "outputs": [],
   "source": [
    "stops.loc[(ages >= 0) & (ages < 16)]"
   ]
  },
  {
   "cell_type": "markdown",
   "id": "a0356b30",
   "metadata": {
    "slideshow": {
     "slide_type": "slide"
    }
   },
   "source": [
    "### Unfaithful `'subject_age'`\n",
    "\n",
    "* Ages of `'No Age'` and `0` are likely explicit null values.\n",
    "* What do we do about the exceptionally small and large ages?\n",
    "    - Do we throw the entire row away, even if the rest of row is well-formed?\n",
    "* What about the 14 and 15 year olds?\n",
    "    - Each has more than one occurrence – these could be real entries!"
   ]
  },
  {
   "cell_type": "markdown",
   "id": "57928850",
   "metadata": {
    "slideshow": {
     "slide_type": "slide"
    }
   },
   "source": [
    "### Human-entered data\n",
    "* Which fields were likely entered by a human?\n",
    "* Which fields were likely generated by code?\n",
    "    - What was the original source?"
   ]
  },
  {
   "cell_type": "markdown",
   "id": "5e82bcc8",
   "metadata": {},
   "source": [
    "Let's look at all unique stop causes. Notice that there are three different causes related to bicycles, which should probably all fall under the same cause."
   ]
  },
  {
   "cell_type": "code",
   "execution_count": null,
   "id": "dd5f5cba",
   "metadata": {},
   "outputs": [],
   "source": [
    "stops['stop_cause'].value_counts()"
   ]
  },
  {
   "cell_type": "markdown",
   "id": "ebf45889",
   "metadata": {},
   "source": [
    "Let's plot the distribution of ages, within a reasonable range (15 to 85). What do you notice?"
   ]
  },
  {
   "cell_type": "code",
   "execution_count": null,
   "id": "74440a20",
   "metadata": {},
   "outputs": [],
   "source": [
    "# DSC 10 review: what does density=True do?\n",
    "ages.loc[(ages > 15) & (ages <= 85)].plot(kind='hist', density=True, bins=70, ec='w');"
   ]
  },
  {
   "cell_type": "markdown",
   "id": "b3641f5d",
   "metadata": {},
   "source": [
    "Now let's look at the first few and last few rows of `stops`."
   ]
  },
  {
   "cell_type": "code",
   "execution_count": null,
   "id": "e168b5b8",
   "metadata": {},
   "outputs": [],
   "source": [
    "stops[['timestamp', 'stop_date', 'stop_time']].head()"
   ]
  },
  {
   "cell_type": "code",
   "execution_count": null,
   "id": "8e521d4b",
   "metadata": {},
   "outputs": [],
   "source": [
    "stops[['timestamp', 'stop_date', 'stop_time']].tail(10)"
   ]
  },
  {
   "cell_type": "markdown",
   "id": "7dd8c7da",
   "metadata": {},
   "source": [
    "Do you think `'-0:81'` is a time that a computer would record?"
   ]
  },
  {
   "cell_type": "markdown",
   "id": "6abcf98f",
   "metadata": {
    "slideshow": {
     "slide_type": "slide"
    }
   },
   "source": [
    "### Unfaithful data vs. outliers\n",
    "\n",
    "* Unfaithful data are data that don't accurately represent the data generating process.\n",
    "* Outliers are \"unusual\" observations, unlike the rest of the data. They may be real, or they may be unfaithful.\n",
    "    - For instance, it's possible that a 102-year old was pulled over for speeding.\n",
    "* The two are hard to tell apart; doing so often requires research and domain knowledge."
   ]
  },
  {
   "cell_type": "markdown",
   "id": "852b7360",
   "metadata": {
    "slideshow": {
     "slide_type": "slide"
    }
   },
   "source": [
    "### Outliers\n",
    "\n",
    "* **Consistently \"incorrect\" values**.\n",
    "    - Example: Recorded ages of -1 or 99.\n",
    "    - These are often \"default\" values, often used when a value is missing.\n",
    "    - Solution: Change the value to the correct one if it is known!\n",
    "    \n",
    "* **Abnormal artifacts from the data collection process**.\n",
    "    - Example: Spikes in recorded ages at round numbers (25, 30, 35, 40), or spikes in recorded COVID cases on Mondays.\n",
    "    - Solution: Try \"smoothing\", e.g. binning the ages.\n",
    "        \n",
    "* **Unreasonable outliers**.\n",
    "    - Example: Age of 200.\n",
    "    - Solution: Not sure. Could remove the row. Could be indicative of a bug in the data collection process. Could be real!"
   ]
  },
  {
   "cell_type": "markdown",
   "id": "79ddcef6",
   "metadata": {
    "slideshow": {
     "slide_type": "slide"
    }
   },
   "source": [
    "### Reminder: tools 🛠\n",
    "\n",
    "You'll use the following methods regularly when initially exploring a dataset.\n",
    "\n",
    "- `.describe()`: see basic numerical information about a Series/DataFrame.\n",
    "- `.info()`: see data types and the number of missing values in a Series/DataFrame.\n",
    "- `.value_counts()`: see the distribution of a categorical variable.\n",
    "- `.plot(kind='hist')`: plot the distribution of a numerical variable."
   ]
  },
  {
   "cell_type": "markdown",
   "id": "e350c1dc",
   "metadata": {
    "slideshow": {
     "slide_type": "slide"
    }
   },
   "source": [
    "## Missing values"
   ]
  },
  {
   "cell_type": "markdown",
   "id": "22c6210c",
   "metadata": {
    "slideshow": {
     "slide_type": "slide"
    }
   },
   "source": [
    "### Where'd you go?\n",
    "\n",
    "* Missing values in a dataset can occur from:\n",
    "    - Intentional logic, where a value doesn't make sense.\n",
    "    - A non-response in the measurement process.\n",
    "    - Mistakes in the data recording process.\n",
    "    - ...\n",
    "* Another term for \"missing\" is \"null\".\n",
    "    \n",
    "* Missing values are most often encoded with `NULL`, `None`, `NaN`, `''`, etc."
   ]
  },
  {
   "cell_type": "markdown",
   "id": "ff07bcd2",
   "metadata": {
    "slideshow": {
     "slide_type": "slide"
    }
   },
   "source": [
    "### Common representations of \"null\"\n",
    "\n",
    "- All forms of `0` (e.g. `0`, `'0'`, `'zero'`) are common substitutes for null.\n",
    "- -1 is common if a column must be non-negative.\n",
    "- 1900 and 1970 are common if a non-null date is required.\n",
    "    - Remember, Unix time starts counting from January 1, 1970."
   ]
  },
  {
   "cell_type": "markdown",
   "id": "d1ec8bee",
   "metadata": {
    "slideshow": {
     "slide_type": "slide"
    }
   },
   "source": [
    "### Common representations of \"null\"\n",
    "\n",
    "- Some common representations for \"null\" are also real values themselves!\n",
    "- For instance, the point 0°00'00.0\"N+0°00'00.0\"E in the South Atlantic Ocean is called \"Null Island.\"\n",
    "\n",
    "<center><img src='imgs/null.png' width=60%></center>\n",
    "\n",
    "- [This person's name is Mr. Null!](https://www.wired.com/2015/11/null/)"
   ]
  },
  {
   "cell_type": "markdown",
   "id": "5973b231",
   "metadata": {
    "slideshow": {
     "slide_type": "slide"
    }
   },
   "source": [
    "### Missing values in the stops dataset\n",
    "\n",
    "What are the non-`np.NaN` null values in the stops dataset?\n",
    "- Service Area: `'Unknown'`.\n",
    "- Subject Age: `0`, `'No Age'`.\n",
    "- Others?"
   ]
  },
  {
   "cell_type": "code",
   "execution_count": null,
   "id": "8086a49b",
   "metadata": {},
   "outputs": [],
   "source": [
    "stops"
   ]
  },
  {
   "cell_type": "markdown",
   "id": "7f5cc8b1",
   "metadata": {
    "slideshow": {
     "slide_type": "slide"
    }
   },
   "source": [
    "### Finding null values in `pandas`\n",
    "\n",
    "* Null values are encoded using NumPy's `NaN` value, which is of type `float`.\n",
    "* The `isna` method for DataFrame/Series detects missing values.\n",
    "    - It returns a Boolean DataFrame/Series.\n",
    "    - `isnull` is equivalent to `isna`."
   ]
  },
  {
   "cell_type": "code",
   "execution_count": null,
   "id": "cc2af106",
   "metadata": {},
   "outputs": [],
   "source": [
    "type(np.NaN)"
   ]
  },
  {
   "cell_type": "code",
   "execution_count": null,
   "id": "16bf7dfd",
   "metadata": {},
   "outputs": [],
   "source": [
    "# All of the rows where the subject age is missing\n",
    "stops[stops['subject_age'].isna()]"
   ]
  },
  {
   "cell_type": "code",
   "execution_count": null,
   "id": "333e9027",
   "metadata": {},
   "outputs": [],
   "source": [
    "# Proportion of values missing in the subject_age column\n",
    "stops['subject_age'].isna().mean()"
   ]
  },
  {
   "cell_type": "code",
   "execution_count": null,
   "id": "628ddd47",
   "metadata": {},
   "outputs": [],
   "source": [
    "# Proportion of missing values in all columns\n",
    "stops.isna().mean()"
   ]
  },
  {
   "cell_type": "markdown",
   "id": "17fbd610",
   "metadata": {
    "slideshow": {
     "slide_type": "slide"
    }
   },
   "source": [
    "### Dropping observations with null values\n",
    "- The `dropna` method:\n",
    "    - when used on a Series, returns a new Series with all null entries removed.\n",
    "    - when used on a DataFrame, returns a new DataFrame where all rows with at least one null value are removed.\n",
    "- Don't drop rows unless absolutely necessary!\n",
    "    - Usually, there is still useful information in the other columns."
   ]
  },
  {
   "cell_type": "code",
   "execution_count": null,
   "id": "dd5d772e",
   "metadata": {},
   "outputs": [],
   "source": [
    "stops.head()"
   ]
  },
  {
   "cell_type": "code",
   "execution_count": null,
   "id": "eb9d7c69",
   "metadata": {},
   "outputs": [],
   "source": [
    "stops.dropna().head()"
   ]
  },
  {
   "cell_type": "code",
   "execution_count": null,
   "id": "befb1e23",
   "metadata": {},
   "outputs": [],
   "source": [
    "stops.shape"
   ]
  },
  {
   "cell_type": "code",
   "execution_count": null,
   "id": "67194b3b",
   "metadata": {},
   "outputs": [],
   "source": [
    "stops.dropna().shape"
   ]
  },
  {
   "cell_type": "markdown",
   "id": "c003daf9",
   "metadata": {
    "slideshow": {
     "slide_type": "slide"
    }
   },
   "source": [
    "### Dropping observations with null values\n",
    "\n",
    "When used on a DataFrame:\n",
    "\n",
    "* `.dropna()` drops **rows** containing **at least one** null value.\n",
    "* `.dropna(how='all')` drops **rows** containing **only** null values.\n",
    "* `.dropna(axis=1)` drops **columns** containing at least one null value.\n",
    "* Other keyword arguments: `thresh`, `subset`."
   ]
  },
  {
   "cell_type": "code",
   "execution_count": null,
   "id": "0d22faca",
   "metadata": {},
   "outputs": [],
   "source": [
    "nans = pd.DataFrame([[0, 1, np.NaN], [np.NaN, np.NaN, np.NaN], [1, 2, 3]], columns='A B C'.split())\n",
    "nans"
   ]
  },
  {
   "cell_type": "code",
   "execution_count": null,
   "id": "7a94477e",
   "metadata": {},
   "outputs": [],
   "source": [
    "nans.dropna(how='any')"
   ]
  },
  {
   "cell_type": "code",
   "execution_count": null,
   "id": "614fdb5e",
   "metadata": {},
   "outputs": [],
   "source": [
    "nans.dropna(how='all')"
   ]
  },
  {
   "cell_type": "code",
   "execution_count": null,
   "id": "8621f800",
   "metadata": {},
   "outputs": [],
   "source": [
    "nans.dropna(axis=1)"
   ]
  },
  {
   "cell_type": "code",
   "execution_count": null,
   "id": "00028e79",
   "metadata": {},
   "outputs": [],
   "source": [
    "nans.dropna(subset=['A', 'B'])"
   ]
  },
  {
   "cell_type": "markdown",
   "id": "7cb6e5a3",
   "metadata": {
    "slideshow": {
     "slide_type": "slide"
    }
   },
   "source": [
    "### Filling null values\n",
    "\n",
    "The `fillna` method replaces all null values. Specifically:\n",
    "\n",
    "* `.fillna(val)` fills null entries with the value `val`.\n",
    "* `.fillna(dict)` fills null entries using a dictionary `dict` of column/row values.\n",
    "* `.fillna(method='bfill')` and `.fillna(method='ffill')` fill null entries using neighboring non-null entries."
   ]
  },
  {
   "cell_type": "code",
   "execution_count": null,
   "id": "e6880e6d",
   "metadata": {},
   "outputs": [],
   "source": [
    "nans"
   ]
  },
  {
   "cell_type": "code",
   "execution_count": null,
   "id": "22021812",
   "metadata": {},
   "outputs": [],
   "source": [
    "# Filling all NaNs with the same value\n",
    "nans.fillna('billy')"
   ]
  },
  {
   "cell_type": "code",
   "execution_count": null,
   "id": "7574fb5d",
   "metadata": {},
   "outputs": [],
   "source": [
    "# Filling NaNs differently for each column\n",
    "nans.fillna({'A': 'f0', 'B': 'f1', 'C': 'f2'})"
   ]
  },
  {
   "cell_type": "code",
   "execution_count": null,
   "id": "a6549991",
   "metadata": {},
   "outputs": [],
   "source": [
    "# Dictionary of column means\n",
    "# Note that most numerical methods ignore null values\n",
    "means = {c: nans[c].mean() for c in nans.columns}\n",
    "means"
   ]
  },
  {
   "cell_type": "code",
   "execution_count": null,
   "id": "e5303b9f",
   "metadata": {},
   "outputs": [],
   "source": [
    "# Filling NaNs with column means\n",
    "nans.fillna(means)"
   ]
  },
  {
   "cell_type": "code",
   "execution_count": null,
   "id": "7b59a41a",
   "metadata": {},
   "outputs": [],
   "source": [
    "# Another way of doing the same thing\n",
    "nans.apply(lambda x: x.fillna(x.mean()), axis=0)"
   ]
  },
  {
   "cell_type": "code",
   "execution_count": null,
   "id": "2c1f49e7",
   "metadata": {},
   "outputs": [],
   "source": [
    "nans"
   ]
  },
  {
   "cell_type": "code",
   "execution_count": null,
   "id": "0d6921b0",
   "metadata": {},
   "outputs": [],
   "source": [
    "# bfill stands for \"backfill\"\n",
    "nans.fillna(method='bfill')"
   ]
  },
  {
   "cell_type": "code",
   "execution_count": null,
   "id": "ea69ee14",
   "metadata": {},
   "outputs": [],
   "source": [
    "# ffill stands for \"forward fill\"\n",
    "nans.fillna(method='ffill')"
   ]
  },
  {
   "cell_type": "markdown",
   "id": "460871a4",
   "metadata": {
    "slideshow": {
     "slide_type": "slide"
    }
   },
   "source": [
    "### Data types and `np.NaN`\n",
    "\n",
    "* The result of *any* comparison (`==`, `!=`, `<`, `>`) with `np.NaN` is `False`.\n",
    "* Instead, use the function `pd.isna`, which returns whether the argument is `np.NaN` or `None`.\n",
    "    - Can also use `pd.isnull`.\n",
    "* Remember, `NaN` is of type `float` – watch out for type coercion!"
   ]
  },
  {
   "cell_type": "code",
   "execution_count": null,
   "id": "0837281b",
   "metadata": {
    "scrolled": true
   },
   "outputs": [],
   "source": [
    "nans"
   ]
  },
  {
   "cell_type": "code",
   "execution_count": null,
   "id": "5ce90240",
   "metadata": {},
   "outputs": [],
   "source": [
    "np.NaN == np.NaN"
   ]
  },
  {
   "cell_type": "code",
   "execution_count": null,
   "id": "1d2594c3",
   "metadata": {},
   "outputs": [],
   "source": [
    "pd.isna(np.NaN)"
   ]
  },
  {
   "cell_type": "code",
   "execution_count": null,
   "id": "d46790fb",
   "metadata": {},
   "outputs": [],
   "source": [
    "nans.isna()"
   ]
  },
  {
   "cell_type": "code",
   "execution_count": null,
   "id": "1eb1ae5b",
   "metadata": {},
   "outputs": [],
   "source": [
    "nans.isnull()"
   ]
  },
  {
   "cell_type": "code",
   "execution_count": null,
   "id": "d40b870e",
   "metadata": {
    "scrolled": true,
    "slideshow": {
     "slide_type": "-"
    }
   },
   "outputs": [],
   "source": [
    "# Since np.NaN is a float, the Series is of type float despite the two ints\n",
    "pd.Series([0, 1, np.NaN])"
   ]
  },
  {
   "cell_type": "markdown",
   "id": "18d13ced",
   "metadata": {
    "slideshow": {
     "slide_type": "slide"
    }
   },
   "source": [
    "### More soon...\n",
    "\n",
    "- That's all we'll discuss regarding missing values for now.\n",
    "- However, once we recap hypothesis and permutation testing, we will introduce the idea of **imputation**, in which we will learn how to fill missing values using other information in the DataFrame.\n",
    "- Stay tuned!"
   ]
  },
  {
   "cell_type": "markdown",
   "id": "b50c5975",
   "metadata": {
    "slideshow": {
     "slide_type": "slide"
    }
   },
   "source": [
    "## Hypothesis testing"
   ]
  },
  {
   "cell_type": "markdown",
   "id": "e34255f2",
   "metadata": {
    "slideshow": {
     "slide_type": "slide"
    }
   },
   "source": [
    "### Answering questions with confidence 💪\n",
    "\n",
    "Now our data is clean and we're confident that it's faithful to the data generating process."
   ]
  },
  {
   "cell_type": "markdown",
   "id": "0d0d7413",
   "metadata": {
    "slideshow": {
     "slide_type": "fragment"
    }
   },
   "source": [
    "How do we ask questions and draw conclusions about the data generating process, using our observed data?"
   ]
  },
  {
   "cell_type": "markdown",
   "id": "3aec4619",
   "metadata": {
    "slideshow": {
     "slide_type": "slide"
    }
   },
   "source": [
    "Run the following cell to set things up."
   ]
  },
  {
   "cell_type": "code",
   "execution_count": null,
   "id": "b4b5d112",
   "metadata": {},
   "outputs": [],
   "source": [
    "np.random.seed(42)\n",
    "\n",
    "flips = pd.DataFrame(np.random.choice(['H', 'T'], p=[0.55, 0.45], size=(114,1)), columns=['result'])"
   ]
  },
  {
   "cell_type": "markdown",
   "id": "bebefab7",
   "metadata": {
    "slideshow": {
     "slide_type": "slide"
    }
   },
   "source": [
    "### Was the coin fair? 🪙\n",
    "\n",
    "* Given a dataset of coin flips, we want to try and answer the question, \"was the coin fair?\"\n",
    "* Do we \"trust\" the dataset?\n",
    "    * Maybe whoever kept track of the coin flips made some typos.\n",
    "* What is \"fair\"? \n",
    "    - Ideally, we see the exact same number of heads and tails. But how often will that happen exactly?\n",
    "    - What is a reasonable deviation?"
   ]
  },
  {
   "cell_type": "code",
   "execution_count": null,
   "id": "336f5ef4",
   "metadata": {},
   "outputs": [],
   "source": [
    "flips.head()"
   ]
  },
  {
   "cell_type": "code",
   "execution_count": null,
   "id": "748e2635",
   "metadata": {},
   "outputs": [],
   "source": [
    "flips.value_counts()"
   ]
  },
  {
   "cell_type": "code",
   "execution_count": null,
   "id": "f9265eaf",
   "metadata": {},
   "outputs": [],
   "source": [
    "# The to_frame method converts a Series to a DataFrame\n",
    "flips['result'].value_counts().to_frame()"
   ]
  },
  {
   "cell_type": "code",
   "execution_count": null,
   "id": "c7e24320",
   "metadata": {},
   "outputs": [],
   "source": [
    "# Normalized\n",
    "flips['result'].value_counts(normalize=True).to_frame()"
   ]
  },
  {
   "cell_type": "markdown",
   "id": "a5e6b995",
   "metadata": {
    "slideshow": {
     "slide_type": "slide"
    }
   },
   "source": [
    "### Null hypothesis\n",
    "\n",
    "- We start with an initial belief as to how the data was generated, which is called a **null hypothesis**.\n",
    "    - In our example, it is that the coin was fair.\n",
    "    - The null hypothesis must be a **probability model**, i.e. something that we can simulate under.\n",
    "- Somehow, we need to decide whether our observation (e.g. 68 heads and 46 tails) is consistent with that belief.\n",
    "- To make this decision, we will:\n",
    "    - Assume the belief is true.\n",
    "    - Consider all possible outcomes under that assumption, along with their probabilities.\n",
    "        - e.g. if the coin truly was fair, what's the probability of seeing 40% heads? 61% heads? 49% heads?\n",
    "    - See how likely our observation was, under this assumption."
   ]
  },
  {
   "cell_type": "markdown",
   "id": "2d05390d",
   "metadata": {
    "slideshow": {
     "slide_type": "slide"
    }
   },
   "source": [
    "### Test statistics\n",
    "\n",
    "- A **test statistic** is a number that we compute in each repetition of an experiment, to help us make a decision.\n",
    "\n",
    "- Suppose a coin was flipped $N$ times, and $N_H$ flips were heads. Then, each of the following is a test statistic we could choose:\n",
    "\n",
    "    * $N_H$ (number of heads).\n",
    "    * $\\frac{N_H}{N}$ (proportion of heads).\n",
    "    * $N_H - \\frac{N}{2}$ (difference from expected number of heads).\n",
    "    * $|N_H - \\frac{N}{2}|$ (absolute difference from expected number of heads).\n",
    "\n",
    "- The former three would be helpful for the alternative hypothesis \"the coin was biased in favor of heads\" (or tails).\n",
    "- The latter would be helpful for the alternative hypothesis \"the coin was biased.\""
   ]
  },
  {
   "cell_type": "markdown",
   "id": "b564bc8e",
   "metadata": {
    "slideshow": {
     "slide_type": "slide"
    }
   },
   "source": [
    "### Making decisions\n",
    "\n",
    "- After choosing a test statistic, we need to compute the **distribution of the test statistic, under the assumption that the null hypothesis is true** (\"under the null\").\n",
    "    - In DSC 10 and 80, we do this through simulation, which means our calculations are approximate.\n",
    "    - In other courses, you may do this by-hand (e.g. for the coin example you could use the binomial distribution).\n",
    "- Once we have this distribution, we can compute **the probability of seeing an observation as or more extreme than our observation**, under this assumption.\n",
    "    - This is called a **p-value**.\n",
    "- If that probability is very small, it means that the null hypothesis is unlikely to explain our observation, and we should reject it."
   ]
  },
  {
   "cell_type": "markdown",
   "id": "9225d20d",
   "metadata": {
    "slideshow": {
     "slide_type": "slide"
    }
   },
   "source": [
    "### Running a hypothesis test, DSC 10 style\n",
    "\n",
    "Let's use the number of heads ($N_H$) as our test statistic. We need to:\n",
    "1. Compute the **observed value** of the test statistic, i.e. the observed number of heads.\n",
    "2. Simulate values of the test statistic under the null, i.e. under the assumption that the coin was fair.\n",
    "3. Use the resulting distribution to calculate the (approximate) probability of seeing 68 or more heads, under the assumption the coin was fair."
   ]
  },
  {
   "cell_type": "code",
   "execution_count": null,
   "id": "6d0d920d",
   "metadata": {},
   "outputs": [],
   "source": [
    "# This DataFrame contains our \"observed data\"\n",
    "flips.head()"
   ]
  },
  {
   "cell_type": "code",
   "execution_count": null,
   "id": "b966d8bf",
   "metadata": {},
   "outputs": [],
   "source": [
    "# Number of coin flips\n",
    "flips.shape"
   ]
  },
  {
   "cell_type": "code",
   "execution_count": null,
   "id": "37dfa018",
   "metadata": {},
   "outputs": [],
   "source": [
    "# Observed statistic\n",
    "obs = (flips['result'] == 'H').sum()\n",
    "obs"
   ]
  },
  {
   "cell_type": "code",
   "execution_count": null,
   "id": "786eb9c4",
   "metadata": {},
   "outputs": [],
   "source": [
    "# Number of simulations\n",
    "N = 10000\n",
    "\n",
    "# 10000 times, we want to flip a coin 114 times\n",
    "results = []\n",
    "for _ in range(N):\n",
    "    simulation = np.random.choice(['H', 'T'], p=[0.5, 0.5], size=114)\n",
    "    sim_heads = (simulation == 'H').sum()  # Test statistic\n",
    "    results.append(sim_heads)"
   ]
  },
  {
   "cell_type": "markdown",
   "id": "c5c93762",
   "metadata": {},
   "source": [
    "Each entry in `results` is the number of heads in 114 simulated coin flips."
   ]
  },
  {
   "cell_type": "code",
   "execution_count": null,
   "id": "448cd603",
   "metadata": {},
   "outputs": [],
   "source": [
    "results[:10]"
   ]
  },
  {
   "cell_type": "markdown",
   "id": "71ca400c",
   "metadata": {
    "slideshow": {
     "slide_type": "slide"
    }
   },
   "source": [
    "### Plotting the empirical distribution of the test statistic"
   ]
  },
  {
   "cell_type": "code",
   "execution_count": null,
   "id": "ea1e06d0",
   "metadata": {},
   "outputs": [],
   "source": [
    "pd.Series(results).plot(kind='hist', \n",
    "                        density=True,\n",
    "                        bins=np.arange(35, 76, 1),\n",
    "                        ec='w',\n",
    "                        title='Number of Heads in 114 Flips of a Fair Coin');\n",
    "plt.axvline(x=obs, color='red', linewidth=4);"
   ]
  },
  {
   "cell_type": "markdown",
   "id": "1853b657",
   "metadata": {
    "slideshow": {
     "slide_type": "fragment"
    }
   },
   "source": [
    "**Question:** Do you think the coin was fair?"
   ]
  },
  {
   "cell_type": "code",
   "execution_count": null,
   "id": "4837a7e4",
   "metadata": {},
   "outputs": [],
   "source": [
    "(np.array(results) >= obs).mean()"
   ]
  },
  {
   "cell_type": "markdown",
   "id": "52a8f021",
   "metadata": {},
   "source": [
    "- Under the assumption the coin is fair, the probability of seeing 68 or more heads is ~2.5%.\n",
    "    - This is called a **p-value**.\n",
    "- So either:\n",
    "    - The coin is fair and we saw a really rare event, or\n",
    "    - The coin is not fair.\n",
    "- We need a **cutoff** to determine whether to reject the null hypothesis, given this probability."
   ]
  },
  {
   "cell_type": "markdown",
   "id": "43d678d5",
   "metadata": {
    "slideshow": {
     "slide_type": "slide"
    }
   },
   "source": [
    "## Summary, next time"
   ]
  },
  {
   "cell_type": "markdown",
   "id": "7bb29621",
   "metadata": {
    "slideshow": {
     "slide_type": "slide"
    }
   },
   "source": [
    "### Summary\n",
    "\n",
    "- Data cleaning is the process of transforming data so that it is an accurate representation of the data generating process.\n",
    "- Unfaithful data is data that is not representative of the data generating process. When working with messy data, we must look for:\n",
    "    - Missing values (i.e. \"null\" values).\n",
    "    - Incorrect values.\n",
    "- Useful methods to be aware of: `fillna`, `isna`/`isnull`, `dropna`.\n",
    "- Hypothesis testing allows us to make confident conclusions regarding the data generating process, given some observed data.\n",
    "- **Next time:** how to perform a \"faster\" hypothesis test. More test statistics and examples."
   ]
  }
 ],
 "metadata": {
  "celltoolbar": "Slideshow",
  "kernelspec": {
   "display_name": "Python 3 (ipykernel)",
   "language": "python",
   "name": "python3"
  },
  "language_info": {
   "codemirror_mode": {
    "name": "ipython",
    "version": 3
   },
   "file_extension": ".py",
   "mimetype": "text/x-python",
   "name": "python",
   "nbconvert_exporter": "python",
   "pygments_lexer": "ipython3",
   "version": "3.8.12"
  },
  "livereveal": {
   "scroll": true,
   "transition": "none"
  }
 },
 "nbformat": 4,
 "nbformat_minor": 5
}
