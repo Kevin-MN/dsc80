{
 "cells": [
  {
   "cell_type": "code",
   "execution_count": null,
   "id": "vital-florist",
   "metadata": {
    "slideshow": {
     "slide_type": "skip"
    }
   },
   "outputs": [],
   "source": [
    "import pandas as pd\n",
    "import numpy as np\n",
    "\n",
    "import matplotlib.pyplot as plt\n",
    "plt.rcParams['figure.figsize'] = (10, 5)\n",
    "\n",
    "import util"
   ]
  },
  {
   "cell_type": "markdown",
   "id": "juvenile-spending",
   "metadata": {
    "slideshow": {
     "slide_type": "slide"
    }
   },
   "source": [
    "# Lecture 2 – Pandas 🐼\n",
    "\n",
    "## DSC 80, Spring 2022"
   ]
  },
  {
   "cell_type": "markdown",
   "id": "worth-retro",
   "metadata": {
    "slideshow": {
     "slide_type": "slide"
    }
   },
   "source": [
    "### Announcements\n",
    "\n",
    "- Lab 1 is due on **Monday, April 4th at 11:59PM**.\n",
    "    - Watch [this video 🎥](https://youtu.be/FpTo4AM9B30) for setup instructions.\n",
    "- Discussion 1 is today from **7-7:50PM or 8-8:50PM** (in-person in PCNYH 122 or remote via Zoom).\n",
    "    - There was a typo in the discussion times stated in Lecture 1.\n",
    "    - Remember that discussion assignments can be submitted for extra credit!\n",
    "- Don't forget to fill out the [Welcome + Alternate Exams Form](https://docs.google.com/forms/d/e/1FAIpQLSdBKLcPs4Xi0plaIw0MVZ0DyGcvnSZyHxKVC7S7LwEiCchepQ/viewform) by Monday as well."
   ]
  },
  {
   "cell_type": "markdown",
   "id": "collect-installation",
   "metadata": {
    "slideshow": {
     "slide_type": "slide"
    }
   },
   "source": [
    "### Agenda\n",
    "\n",
    "- Wrap up our case study of City of San Diego employee salaries.\n",
    "- Introduction to `pandas`.\n",
    "    - DataFrames, Series, and Indexes.\n",
    "- Selecting rows and columns using `[]` and `loc`. "
   ]
  },
  {
   "cell_type": "markdown",
   "id": "rational-battlefield",
   "metadata": {
    "slideshow": {
     "slide_type": "slide"
    }
   },
   "source": [
    "## The data science lifecycle"
   ]
  },
  {
   "cell_type": "markdown",
   "id": "2f16528d",
   "metadata": {
    "slideshow": {
     "slide_type": "slide"
    }
   },
   "source": [
    "<center><img src=\"imgs/DSLC.png\" width=\"40%\"></center>"
   ]
  },
  {
   "cell_type": "markdown",
   "id": "357c011d",
   "metadata": {
    "slideshow": {
     "slide_type": "slide"
    }
   },
   "source": [
    "### Recap: City of San Diego salary data\n",
    "\n",
    "Our dataset is downloaded from [Transparent California](https://transparentcalifornia.com/salaries/san-diego/)."
   ]
  },
  {
   "cell_type": "code",
   "execution_count": null,
   "id": "8a5ed82b",
   "metadata": {},
   "outputs": [],
   "source": [
    "salary_path = util.safe_download('https://transcal.s3.amazonaws.com/public/export/san-diego-2020.csv')"
   ]
  },
  {
   "cell_type": "code",
   "execution_count": null,
   "id": "4127c44a",
   "metadata": {
    "scrolled": false
   },
   "outputs": [],
   "source": [
    "salaries = pd.read_csv(salary_path)\n",
    "util.anonymize_names(salaries)\n",
    "salaries"
   ]
  },
  {
   "cell_type": "markdown",
   "id": "6d369b06",
   "metadata": {
    "slideshow": {
     "slide_type": "slide"
    }
   },
   "source": [
    "### Question: Does gender influence pay?\n",
    "\n",
    "- Do employees of different genders have similar pay?\n",
    "- The salary dataset we downloaded does not contain employee gender, so we can't answer this question using just the data we have."
   ]
  },
  {
   "cell_type": "code",
   "execution_count": null,
   "id": "c4e9e848",
   "metadata": {},
   "outputs": [],
   "source": [
    "salaries.head()"
   ]
  },
  {
   "cell_type": "markdown",
   "id": "996f83e4",
   "metadata": {},
   "source": [
    "- We **do**, however, have the first name of each employee."
   ]
  },
  {
   "cell_type": "markdown",
   "id": "d547a9ad",
   "metadata": {
    "slideshow": {
     "slide_type": "slide"
    }
   },
   "source": [
    "### Social Security Administration baby names 👶\n",
    "\n",
    "- The US Social Security Administration (SSA) keeps track of the **first name**, **birth year**, and **assigned gender at birth** for all babies born in the US.\n",
    "- We can somehow combine the SSA's dataset with the `salaries` dataset to infer the gender of San Diego employees."
   ]
  },
  {
   "cell_type": "code",
   "execution_count": null,
   "id": "34585915",
   "metadata": {},
   "outputs": [],
   "source": [
    "names_path = util.safe_download('https://www.ssa.gov/oact/babynames/names.zip')"
   ]
  },
  {
   "cell_type": "code",
   "execution_count": null,
   "id": "149ddd06",
   "metadata": {},
   "outputs": [],
   "source": [
    "import pathlib\n",
    "\n",
    "dfs = []\n",
    "for path in pathlib.Path('data/names/').glob('*.txt'):\n",
    "    year = int(str(path)[14:18])\n",
    "    if year >= 1964:\n",
    "        df = pd.read_csv(path, names=['firstname', 'gender', 'count']).assign(year=year)\n",
    "        dfs.append(df)\n",
    "        \n",
    "names = pd.concat(dfs)\n",
    "names"
   ]
  },
  {
   "cell_type": "markdown",
   "id": "2ef9aac5",
   "metadata": {
    "slideshow": {
     "slide_type": "slide"
    }
   },
   "source": [
    "> We began compiling the baby name list in 1997, with names dating back to 1880. At the time of a child’s birth, parents supply the name to us when applying for a child’s Social Security card, thus making Social Security America’s source for the most popular baby names. Please share this with your friends and family—and help us spread the word on social media. - [Social Security’s Top Baby Names for 2020\n",
    "](https://blog.ssa.gov/social-securitys-top-baby-names-for-2020/)"
   ]
  },
  {
   "cell_type": "markdown",
   "id": "150c1e1d",
   "metadata": {
    "slideshow": {
     "slide_type": "slide"
    }
   },
   "source": [
    "### Exploring `names`\n",
    "\n",
    "- The only values of `'gender'` in `names` are `'M'` and `'F'`.\n",
    "- Many names have non-zero counts for both `'M'` and `'F'`.\n",
    "- Most names occur only a few times per year, but a few names occur very often."
   ]
  },
  {
   "cell_type": "code",
   "execution_count": null,
   "id": "95762086",
   "metadata": {},
   "outputs": [],
   "source": [
    "names.head()"
   ]
  },
  {
   "cell_type": "code",
   "execution_count": null,
   "id": "0cc62d36",
   "metadata": {},
   "outputs": [],
   "source": [
    "# Get the count of each unique value in the 'gender' column\n",
    "names['gender'].value_counts()"
   ]
  },
  {
   "cell_type": "code",
   "execution_count": null,
   "id": "5a5691a4",
   "metadata": {
    "scrolled": false
   },
   "outputs": [],
   "source": [
    "# Look at a single name\n",
    "names[names['firstname'] == 'Billy']"
   ]
  },
  {
   "cell_type": "code",
   "execution_count": null,
   "id": "4af44d6c",
   "metadata": {},
   "outputs": [],
   "source": [
    "# Look at various summary statistics\n",
    "names.describe()"
   ]
  },
  {
   "cell_type": "markdown",
   "id": "ff4e15ad",
   "metadata": {
    "slideshow": {
     "slide_type": "slide"
    }
   },
   "source": [
    "### Data Modeling\n",
    "\n",
    "<center><img src=\"imgs/DSLC.png\" width=\"40%\"></center>"
   ]
  },
  {
   "cell_type": "markdown",
   "id": "f478fa08",
   "metadata": {
    "slideshow": {
     "slide_type": "slide"
    }
   },
   "source": [
    "### Determining the most common gender for each name\n",
    "\n",
    "- Recall, our goal is to infer the gender of each San Diego city employee. To do this, we need a mapping of first names to genders."
   ]
  },
  {
   "cell_type": "markdown",
   "id": "b4013f14",
   "metadata": {
    "slideshow": {
     "slide_type": "fragment"
    }
   },
   "source": [
    "- **A (very imperfect) model:** If someone has a name that is predominantly used by gender $g$, we'll infer their gender to be $g$."
   ]
  },
  {
   "cell_type": "markdown",
   "id": "4e34d30f",
   "metadata": {
    "slideshow": {
     "slide_type": "fragment"
    }
   },
   "source": [
    "- **Approach:** Create a DataFrame indexed by `'firstname'` that describes the total number of `'F'` and `'M'` babies in `names` for each unique `'firstname'`.\n",
    "    - If there are more female babies born with a given name than male babies, we will \"classify\" the name as female.\n",
    "    - Otherwise, we will classify the name as male."
   ]
  },
  {
   "cell_type": "markdown",
   "id": "e6616fa0",
   "metadata": {
    "slideshow": {
     "slide_type": "slide"
    }
   },
   "source": [
    "### Determining the most common gender for each name"
   ]
  },
  {
   "cell_type": "code",
   "execution_count": null,
   "id": "8d4edbdd",
   "metadata": {},
   "outputs": [],
   "source": [
    "counts_by_gender = (\n",
    "    names\n",
    "    .groupby(['firstname', 'gender'])\n",
    "    .sum()\n",
    "    .reset_index()\n",
    "    .pivot('firstname', 'gender', 'count')\n",
    "    .fillna(0)\n",
    ")\n",
    "counts_by_gender"
   ]
  },
  {
   "cell_type": "code",
   "execution_count": null,
   "id": "5a409b2d",
   "metadata": {},
   "outputs": [],
   "source": [
    "counts_by_gender['F'] > counts_by_gender['M']"
   ]
  },
  {
   "cell_type": "code",
   "execution_count": null,
   "id": "33de42b7",
   "metadata": {},
   "outputs": [],
   "source": [
    "genders = counts_by_gender.assign(gender=np.where(counts_by_gender['F'] > counts_by_gender['M'], 'F', 'M'))\n",
    "genders"
   ]
  },
  {
   "cell_type": "markdown",
   "id": "32bd1e2f",
   "metadata": {
    "slideshow": {
     "slide_type": "slide"
    }
   },
   "source": [
    "### Adding a `'gender'` column to `salaries`\n",
    "\n",
    "This involves two steps:\n",
    "1. Extracting just the first name from `'Employee Name'`.\n",
    "2. **Merging** `salaries` and `genders`."
   ]
  },
  {
   "cell_type": "code",
   "execution_count": null,
   "id": "d096bed6",
   "metadata": {},
   "outputs": [],
   "source": [
    "# Add firstname column\n",
    "salaries['firstname'] = salaries['Employee Name'].str.split().str[0]\n",
    "salaries"
   ]
  },
  {
   "cell_type": "code",
   "execution_count": null,
   "id": "9ee7b701",
   "metadata": {},
   "outputs": [],
   "source": [
    "# Merge salaries and genders\n",
    "salaries_with_gender = salaries.merge(genders[['gender']], on='firstname', how='left')\n",
    "salaries_with_gender"
   ]
  },
  {
   "cell_type": "markdown",
   "id": "2333cd2a",
   "metadata": {
    "slideshow": {
     "slide_type": "slide"
    }
   },
   "source": [
    "### Predictions and Inference\n",
    "\n",
    "<center><img src=\"imgs/DSLC.png\" width=\"40%\"></center>"
   ]
  },
  {
   "cell_type": "markdown",
   "id": "888cecee",
   "metadata": {
    "slideshow": {
     "slide_type": "slide"
    }
   },
   "source": [
    "### Question: Does gender influence pay?\n",
    "\n",
    "This was our original question. Let's find out!"
   ]
  },
  {
   "cell_type": "code",
   "execution_count": null,
   "id": "719bc011",
   "metadata": {},
   "outputs": [],
   "source": [
    "pd.concat([\n",
    "    salaries_with_gender.groupby('gender')['Total Pay'].describe().T,\n",
    "    salaries_with_gender['Total Pay'].describe().rename('All')\n",
    "], axis=1)"
   ]
  },
  {
   "cell_type": "markdown",
   "id": "b4fb8811",
   "metadata": {
    "slideshow": {
     "slide_type": "fragment"
    }
   },
   "source": [
    "- Unfortunately, there's a fairly large difference between the mean salaries of male employees and female employees.\n",
    "- A similar difference also exists for the median.\n",
    "- Can this difference be explained by random chance?"
   ]
  },
  {
   "cell_type": "markdown",
   "id": "29ece634",
   "metadata": {
    "slideshow": {
     "slide_type": "slide"
    }
   },
   "source": [
    "### A hypothesis test"
   ]
  },
  {
   "cell_type": "markdown",
   "id": "9056a693",
   "metadata": {},
   "source": [
    "- **Null Hypothesis:** Gender is independent of salary, and any observed differences are due to random chance.\n",
    "- **Alternate Hypothesis:** Gender is not independent of salary. Female employees earn less than male employees."
   ]
  },
  {
   "cell_type": "code",
   "execution_count": null,
   "id": "a5b91ec2",
   "metadata": {
    "slideshow": {
     "slide_type": "fragment"
    }
   },
   "outputs": [],
   "source": [
    "n_female = np.count_nonzero(salaries_with_gender['gender'] == 'F')\n",
    "n_female"
   ]
  },
  {
   "cell_type": "markdown",
   "id": "c1fac20d",
   "metadata": {
    "slideshow": {
     "slide_type": "fragment"
    }
   },
   "source": [
    "**Strategy:** \n",
    "- Randomly select 4075 employees from `salaries_with_gender` and compute their median salary.\n",
    "- Repeat this many times.\n",
    "- See where the observed median salary of female employees lies in this empirical distribution."
   ]
  },
  {
   "cell_type": "markdown",
   "id": "36856a35",
   "metadata": {
    "slideshow": {
     "slide_type": "slide"
    }
   },
   "source": [
    "### Running the hypothesis test"
   ]
  },
  {
   "cell_type": "code",
   "execution_count": null,
   "id": "db38ecee",
   "metadata": {
    "scrolled": false
   },
   "outputs": [],
   "source": [
    "# Observed statistic\n",
    "female_median = salaries_with_gender.loc[salaries_with_gender['gender'] == 'F']['Total Pay'].median()\n",
    "\n",
    "# Simulate 1000 samples of size n_female from the population\n",
    "medians = np.array([])\n",
    "for _ in np.arange(1000):\n",
    "    median = salaries_with_gender.sample(n_female)['Total Pay'].median()\n",
    "    medians = np.append(medians, median)\n",
    "\n",
    "medians[:10]"
   ]
  },
  {
   "cell_type": "code",
   "execution_count": null,
   "id": "cf1464f7",
   "metadata": {},
   "outputs": [],
   "source": [
    "title='Median salary of randomly chosen groups from population'\n",
    "pd.Series(medians).plot(kind='hist', density=True, ec='w', title=title);\n",
    "plt.axvline(x=female_median, color='red')\n",
    "plt.legend(['Observed Median Salary of Female Employees', 'Median Salaries of Random Groups']);"
   ]
  },
  {
   "cell_type": "markdown",
   "id": "4c1915e9",
   "metadata": {
    "slideshow": {
     "slide_type": "fragment"
    }
   },
   "source": [
    "- Our hypothesis test has a p-value of 0, so we reject the null.\n",
    "    - Under the assumption that gender is independent of salary, the chance of seeing a median salary this low is essentially 0."
   ]
  },
  {
   "cell_type": "markdown",
   "id": "27d0e657",
   "metadata": {
    "slideshow": {
     "slide_type": "slide"
    }
   },
   "source": [
    "<center><img src=\"imgs/DSLC.png\" width=\"40%\"></center>"
   ]
  },
  {
   "cell_type": "markdown",
   "id": "a292d9e8",
   "metadata": {
    "slideshow": {
     "slide_type": "slide"
    }
   },
   "source": [
    "### Even more questions...\n",
    "\n",
    "While trying to answer one question, many more popped up.\n",
    "\n",
    "* Is our dataset representative of all San Diego employees?\n",
    "* How reliable is our name-to-gender assignment?\n",
    "* How reliable is our join between `salaries` and `names`?\n",
    "* Is the pay disparity between genders correlated to pay-type? Job status? Job type?\n",
    "* What is the **cause** of the disparity?"
   ]
  },
  {
   "cell_type": "markdown",
   "id": "34b2db87",
   "metadata": {
    "slideshow": {
     "slide_type": "slide"
    }
   },
   "source": [
    "### Is our dataset representative of all San Diego employees?\n",
    "\n",
    "- In this case, yes – the dataset we downloaded from [Transparent California](https://transparentcalifornia.com/salaries/san-diego/) is a **census**, meaning that it accounts for all members of the population.\n",
    "- But perhaps `'Total Pay'` is not the most relevant column, as it may include reimbursements that are separate from take-home pay (e.g. gas for driving a car)."
   ]
  },
  {
   "cell_type": "markdown",
   "id": "2c4b5b09",
   "metadata": {
    "slideshow": {
     "slide_type": "slide"
    }
   },
   "source": [
    "### How reliable is our join between `salaries` and `names`?\n",
    "* Are there names in the salaries dataset that aren't in the SSA dataset?\n",
    "    - Who might not be in the SSA dataset? \n",
    "    - Could individuals with those names be biased towards certain salaries?\n",
    "* Does the salaries dataset have a disproportionately large portion of unisex names?\n",
    "* Is it better to use a subset of the SSA dataset (e.g. by state?)\n",
    "    - Do the gender of names typically vary by geography?"
   ]
  },
  {
   "cell_type": "markdown",
   "id": "3b1722f1",
   "metadata": {
    "slideshow": {
     "slide_type": "slide"
    }
   },
   "source": [
    "### How reliable is our join between `salaries` and `names`?"
   ]
  },
  {
   "cell_type": "code",
   "execution_count": null,
   "id": "82d46b5d",
   "metadata": {},
   "outputs": [],
   "source": [
    "salaries_with_gender[salaries_with_gender['gender'].isnull()]"
   ]
  },
  {
   "cell_type": "code",
   "execution_count": null,
   "id": "97bbc251",
   "metadata": {},
   "outputs": [],
   "source": [
    "# Proportion of employees whose names aren't in SSA dataset\n",
    "salaries_with_gender['gender'].isnull().mean()"
   ]
  },
  {
   "cell_type": "code",
   "execution_count": null,
   "id": "2a3ce9f7",
   "metadata": {
    "scrolled": false
   },
   "outputs": [],
   "source": [
    "# Description of total pay by joined vs. not joined\n",
    "(\n",
    "    salaries_with_gender\n",
    "    .assign(joined=salaries_with_gender['gender'].notnull())\n",
    "    .groupby('joined')['Total Pay']\n",
    "    .describe()\n",
    "    .T\n",
    ")"
   ]
  },
  {
   "cell_type": "code",
   "execution_count": null,
   "id": "34215705",
   "metadata": {
    "scrolled": false
   },
   "outputs": [],
   "source": [
    "nonjoins = salaries_with_gender.loc[salaries_with_gender['gender'].isnull()]\n",
    "\n",
    "title = 'Distribution of Salaries'\n",
    "nonjoins['Total Pay'].plot(kind='hist', bins=np.arange(0, 320000, 10000), alpha=0.5, density=True, sharex=True)\n",
    "salaries_with_gender['Total Pay'].plot(kind='hist', bins=np.arange(0, 320000, 10000), alpha=0.5, density=True, sharex=True, title=title)\n",
    "plt.legend(['Not in SSA','All']);"
   ]
  },
  {
   "cell_type": "markdown",
   "id": "636c39c0",
   "metadata": {
    "slideshow": {
     "slide_type": "slide"
    }
   },
   "source": [
    "### How reliable is our join between `salaries` and `names`?\n",
    "\n",
    "**Lesson:** joining to another dataset can bias your sample! "
   ]
  },
  {
   "cell_type": "markdown",
   "id": "018d58fd",
   "metadata": {
    "slideshow": {
     "slide_type": "slide"
    }
   },
   "source": [
    "## Introduction to `pandas`"
   ]
  },
  {
   "cell_type": "markdown",
   "id": "420e9507",
   "metadata": {
    "slideshow": {
     "slide_type": "slide"
    }
   },
   "source": [
    "<center><img src='imgs/babypanda.jpg' width=400></center>"
   ]
  },
  {
   "cell_type": "markdown",
   "id": "8412e023",
   "metadata": {
    "slideshow": {
     "slide_type": "slide"
    }
   },
   "source": [
    "<center><img src='imgs/angrypanda.jpg' width=600></center>"
   ]
  },
  {
   "cell_type": "markdown",
   "id": "a7137020",
   "metadata": {
    "slideshow": {
     "slide_type": "slide"
    }
   },
   "source": [
    "### `pandas`\n",
    "\n",
    "<center><img src='imgs/pandas.png' width=200></center>\n",
    "\n",
    "- `pandas` is **the** Python library for tabular data manipulation.\n",
    "- Before `pandas` was developed, the standard data science workflow involved using multiple languages (Python, R, Java) in a single project.\n",
    "- Wes McKinney, the original developer of `pandas`, wanted a library which would allow everything to be done in Python.\n",
    "    - Python is faster to develop in than Java, and is more production-capable than R."
   ]
  },
  {
   "cell_type": "markdown",
   "id": "d7a959a3",
   "metadata": {
    "slideshow": {
     "slide_type": "slide"
    }
   },
   "source": [
    "### `pandas` data structures\n",
    "\n",
    "There are three key data structures at the core of `pandas`:\n",
    "- DataFrame: 2 dimensional tables.\n",
    "- Series: 1 dimensional (columnar) array.\n",
    "- Index: immutable sequence of column/row labels.\n",
    "\n",
    "<center><img src='imgs/example-df.png' width=600></center>"
   ]
  },
  {
   "cell_type": "markdown",
   "id": "1129f156",
   "metadata": {
    "slideshow": {
     "slide_type": "slide"
    }
   },
   "source": [
    "### Importing `pandas` and related libraries\n",
    "\n",
    "We've already run this at the top of the notebook, so we won't repeat it here. But `pandas` is almost always imported in conjunction with `numpy`:\n",
    "\n",
    "```py\n",
    "import pandas as pd\n",
    "import numpy as np\n",
    "```"
   ]
  },
  {
   "cell_type": "markdown",
   "id": "b20bbfb0",
   "metadata": {
    "slideshow": {
     "slide_type": "slide"
    }
   },
   "source": [
    "### Series are \"slices\"\n",
    "* Rows and columns of DataFrame are stored as `pd.Series`.\n",
    "* A `pd.Series` object is a one-dimensional sequence with labels (index)."
   ]
  },
  {
   "cell_type": "code",
   "execution_count": null,
   "id": "abede254",
   "metadata": {},
   "outputs": [],
   "source": [
    "names"
   ]
  },
  {
   "cell_type": "code",
   "execution_count": null,
   "id": "73cd03dc",
   "metadata": {},
   "outputs": [],
   "source": [
    "names['firstname']"
   ]
  },
  {
   "cell_type": "code",
   "execution_count": null,
   "id": "73afd911",
   "metadata": {},
   "outputs": [],
   "source": [
    "names.iloc[3]"
   ]
  },
  {
   "cell_type": "markdown",
   "id": "da2c9f40",
   "metadata": {
    "slideshow": {
     "slide_type": "slide"
    }
   },
   "source": [
    "### Initializing a Series\n",
    "\n",
    "- The function `pd.Series` can create a new Series, given either an existing sequence or dictionary.\n",
    "- By default, the index will be set to 0, 1, 2, 3,... and the Series will have no \"name\".\n",
    "    - You can use optional `index` and `name` arguments to change this behavior."
   ]
  },
  {
   "cell_type": "code",
   "execution_count": null,
   "id": "9d3ad409",
   "metadata": {},
   "outputs": [],
   "source": [
    "pd.Series([10, 23, 45, 53, 87])"
   ]
  },
  {
   "cell_type": "code",
   "execution_count": null,
   "id": "bcba687a",
   "metadata": {},
   "outputs": [],
   "source": [
    "pd.Series({'a': 10, 'b': 23, 'c': 45, 'd': 53, 'e': 87}, name='people')"
   ]
  },
  {
   "cell_type": "markdown",
   "id": "8ccc93c1",
   "metadata": {
    "slideshow": {
     "slide_type": "slide"
    }
   },
   "source": [
    "### Initializing a DataFrame\n",
    "\n",
    "* `pd.DataFrame` initializes a DataFrame using either: \n",
    "    - a list of rows, or\n",
    "    - a dictionary of columns.\n",
    "* There are various optional arguments: `index`, `columns`, `dtype`, etc.\n",
    "    - To see the signature of a function `f`, run `f?` in a cell (e.g. `pd.DataFrame?`)."
   ]
  },
  {
   "cell_type": "code",
   "execution_count": null,
   "id": "4d5ada48",
   "metadata": {},
   "outputs": [],
   "source": [
    "pd.DataFrame?"
   ]
  },
  {
   "cell_type": "markdown",
   "id": "39af1580",
   "metadata": {
    "slideshow": {
     "slide_type": "slide"
    }
   },
   "source": [
    "### Method 1: Using a list of rows"
   ]
  },
  {
   "cell_type": "code",
   "execution_count": null,
   "id": "829ca325",
   "metadata": {},
   "outputs": [],
   "source": [
    "row_data = [\n",
    "    ['Granger, Hermione', 'A13245986', 1],\n",
    "    ['Potter, Harry', 'A17645384', 1],\n",
    "    ['Weasley, Ron', 'A32438694', 1],\n",
    "    ['Longbottom, Neville', 'A52342436', 1]\n",
    "]\n",
    "\n",
    "row_data"
   ]
  },
  {
   "cell_type": "markdown",
   "id": "9accebc1",
   "metadata": {},
   "source": [
    "By default, the column names are set to 0, 1, 2, ..."
   ]
  },
  {
   "cell_type": "code",
   "execution_count": null,
   "id": "2b9786df",
   "metadata": {},
   "outputs": [],
   "source": [
    "pd.DataFrame(row_data)"
   ]
  },
  {
   "cell_type": "markdown",
   "id": "63385f04",
   "metadata": {},
   "source": [
    "You can change that using the `columns` argument."
   ]
  },
  {
   "cell_type": "code",
   "execution_count": null,
   "id": "b68454cf",
   "metadata": {},
   "outputs": [],
   "source": [
    "pd.DataFrame(row_data, columns=['Name', 'PID', 'LVL'])"
   ]
  },
  {
   "cell_type": "markdown",
   "id": "11503163",
   "metadata": {
    "slideshow": {
     "slide_type": "slide"
    }
   },
   "source": [
    "### Method 2: Using a dictionary of columns"
   ]
  },
  {
   "cell_type": "code",
   "execution_count": null,
   "id": "86889d91",
   "metadata": {},
   "outputs": [],
   "source": [
    "column_dict = {\n",
    "    'Name': ['Granger, Hermione', 'Potter, Harry', 'Weasley, Ron', 'Longbottom, Neville'],\n",
    "    'PID': ['A13245986', 'A17645384', 'A32438694', 'A52342436'],\n",
    "    'LVL': [1, 1, 1, 1]\n",
    "}\n",
    "column_dict"
   ]
  },
  {
   "cell_type": "code",
   "execution_count": null,
   "id": "da92d152",
   "metadata": {},
   "outputs": [],
   "source": [
    "enrollments = pd.DataFrame(column_dict)\n",
    "enrollments"
   ]
  },
  {
   "cell_type": "markdown",
   "id": "3d15dfdc",
   "metadata": {
    "slideshow": {
     "slide_type": "slide"
    }
   },
   "source": [
    "### DataFrame index and column labels\n",
    "\n",
    "- Access column labels with the `columns` attribute.\n",
    "- Access index labels with the `index` attribute.\n",
    "- The default for both is 0-indexed position (0, 1, 2, ...)."
   ]
  },
  {
   "cell_type": "code",
   "execution_count": null,
   "id": "c42eba1b",
   "metadata": {},
   "outputs": [],
   "source": [
    "enrollments.columns"
   ]
  },
  {
   "cell_type": "code",
   "execution_count": null,
   "id": "bcdc70de",
   "metadata": {},
   "outputs": [],
   "source": [
    "enrollments.index"
   ]
  },
  {
   "cell_type": "markdown",
   "id": "fffa5177",
   "metadata": {
    "slideshow": {
     "slide_type": "slide"
    }
   },
   "source": [
    "### Axis\n",
    "\n",
    "- The rows and columns of a DataFrame are both stored as Series.\n",
    "- The **axis** specifies the direction of a slice of a DataFrame.\n",
    "\n",
    "<center><img src='imgs/axis.png' width=300></center>\n",
    "\n",
    "- Axis 0 refers to the index.\n",
    "- Axis 1 refers to the columns."
   ]
  },
  {
   "cell_type": "markdown",
   "id": "608d22e8",
   "metadata": {
    "slideshow": {
     "slide_type": "slide"
    }
   },
   "source": [
    "### DataFrame methods with `axis`"
   ]
  },
  {
   "cell_type": "code",
   "execution_count": null,
   "id": "35a4f3eb",
   "metadata": {},
   "outputs": [],
   "source": [
    "A = pd.DataFrame([[1, 2, 3], [4, 5, 6]], columns=['A', 'B', 'C'])\n",
    "A"
   ]
  },
  {
   "cell_type": "markdown",
   "id": "83c0183f",
   "metadata": {},
   "source": [
    "If we specify `axis=0`, `A.sum` will \"compress\" along axis 0, and keep the column labels intact."
   ]
  },
  {
   "cell_type": "code",
   "execution_count": null,
   "id": "7245b1b8",
   "metadata": {},
   "outputs": [],
   "source": [
    "A.sum(axis=0)"
   ]
  },
  {
   "cell_type": "markdown",
   "id": "e4bb82bc",
   "metadata": {},
   "source": [
    "If we specify `axis=1`, `A.sum` will \"compress\" along axis 1, and keep the row labels (index) intact."
   ]
  },
  {
   "cell_type": "code",
   "execution_count": null,
   "id": "aecaac0f",
   "metadata": {},
   "outputs": [],
   "source": [
    "A.sum(axis=1)"
   ]
  },
  {
   "cell_type": "markdown",
   "id": "8d54b1bb",
   "metadata": {
    "slideshow": {
     "slide_type": "slide"
    }
   },
   "source": [
    "<center><img src='imgs/axis-sum.png' width=600></center>"
   ]
  },
  {
   "cell_type": "markdown",
   "id": "25872988",
   "metadata": {
    "slideshow": {
     "slide_type": "slide"
    }
   },
   "source": [
    "## Selecting rows and columns using `[]` and `loc`"
   ]
  },
  {
   "cell_type": "markdown",
   "id": "7cf76018",
   "metadata": {
    "slideshow": {
     "slide_type": "slide"
    }
   },
   "source": [
    "### Throwback to `babypandas` 👶\n",
    "\n",
    "- In `babypandas`, you accessed columns using the `.get` method.\n",
    "- `.get` also works in `pandas`, but it is not **idiomatic** – people don't usually use it."
   ]
  },
  {
   "cell_type": "code",
   "execution_count": null,
   "id": "30c3e2e8",
   "metadata": {},
   "outputs": [],
   "source": [
    "enrollments"
   ]
  },
  {
   "cell_type": "code",
   "execution_count": null,
   "id": "511edc00",
   "metadata": {},
   "outputs": [],
   "source": [
    "enrollments.get('Name')"
   ]
  },
  {
   "cell_type": "code",
   "execution_count": null,
   "id": "7bd59ea6",
   "metadata": {},
   "outputs": [],
   "source": [
    "# Doesn't error\n",
    "enrollments.get('billy')"
   ]
  },
  {
   "cell_type": "markdown",
   "id": "06612244",
   "metadata": {
    "slideshow": {
     "slide_type": "slide"
    }
   },
   "source": [
    "### Selecting columns with `[]`\n",
    "\n",
    "- The standard way to access a column in `pandas` is by using the `[]` operator.\n",
    "    - Think of a DataFrame as a dictionary of arrays!\n",
    "* Specifying a column name returns the column as a Series.\n",
    "* Specifying a list of column names returns a DataFrame."
   ]
  },
  {
   "cell_type": "code",
   "execution_count": null,
   "id": "f90f8419",
   "metadata": {},
   "outputs": [],
   "source": [
    "enrollments"
   ]
  },
  {
   "cell_type": "code",
   "execution_count": null,
   "id": "91047a9d",
   "metadata": {},
   "outputs": [],
   "source": [
    "# Returns a Series\n",
    "enrollments['Name']"
   ]
  },
  {
   "cell_type": "code",
   "execution_count": null,
   "id": "150a0dd4",
   "metadata": {},
   "outputs": [],
   "source": [
    "# Returns a DataFrame\n",
    "enrollments[['Name', 'PID']]"
   ]
  },
  {
   "cell_type": "code",
   "execution_count": null,
   "id": "d328d814",
   "metadata": {},
   "outputs": [],
   "source": [
    "# 🤔\n",
    "enrollments[['Name']]"
   ]
  },
  {
   "cell_type": "code",
   "execution_count": null,
   "id": "0b032fcb",
   "metadata": {},
   "outputs": [],
   "source": [
    "# KeyError\n",
    "enrollments['billy']"
   ]
  },
  {
   "cell_type": "markdown",
   "id": "9f765271",
   "metadata": {
    "slideshow": {
     "slide_type": "slide"
    }
   },
   "source": [
    "### Selecting columns with attribute notation\n",
    "\n",
    "- It is also possible to access columns using attribute notation, i.e. `.<column name>`.\n",
    "- **Don't do this.**\n",
    "    - What if the column name clashes with a DataFrame method, like `.mean`?\n",
    "    - What if the column name contains spaces or special characters?"
   ]
  },
  {
   "cell_type": "code",
   "execution_count": null,
   "id": "57d962e7",
   "metadata": {},
   "outputs": [],
   "source": [
    "enrollments.LVL"
   ]
  },
  {
   "cell_type": "code",
   "execution_count": null,
   "id": "600128d5",
   "metadata": {},
   "outputs": [],
   "source": [
    "enrollments.mean"
   ]
  },
  {
   "cell_type": "markdown",
   "id": "70f80a67",
   "metadata": {
    "slideshow": {
     "slide_type": "slide"
    }
   },
   "source": [
    "### Selecting rows with `loc`\n",
    "\n",
    "If `df` is a DataFrame, then:\n",
    "* `df.loc[idx]` returns the Series whose index is `idx`.\n",
    "* `df.loc[idx_list]` returns a DataFrame containing the rows whose indexes are in `idx_list`."
   ]
  },
  {
   "cell_type": "code",
   "execution_count": null,
   "id": "da5c8208",
   "metadata": {},
   "outputs": [],
   "source": [
    "enrollments"
   ]
  },
  {
   "cell_type": "code",
   "execution_count": null,
   "id": "554b4190",
   "metadata": {},
   "outputs": [],
   "source": [
    "enrollments.loc[3]"
   ]
  },
  {
   "cell_type": "code",
   "execution_count": null,
   "id": "64732804",
   "metadata": {},
   "outputs": [],
   "source": [
    "enrollments.loc[[1, 3]]"
   ]
  },
  {
   "cell_type": "code",
   "execution_count": null,
   "id": "9543a361",
   "metadata": {},
   "outputs": [],
   "source": [
    "enrollments.loc[[3]]"
   ]
  },
  {
   "cell_type": "markdown",
   "id": "7dd8ebdb",
   "metadata": {
    "slideshow": {
     "slide_type": "slide"
    }
   },
   "source": [
    "### Boolean sequence selection\n",
    "\n",
    "* The `loc` operator also supports Boolean sequences (lists, arrays, Series) as input. \n",
    "* The length of the sequence must be the same as the number of rows in the DataFrame. \n",
    "* The result is a filtered DataFrame, containing only the rows in which the sequence contained `True`."
   ]
  },
  {
   "cell_type": "code",
   "execution_count": null,
   "id": "574a08d5",
   "metadata": {},
   "outputs": [],
   "source": [
    "enrollments"
   ]
  },
  {
   "cell_type": "code",
   "execution_count": null,
   "id": "053a49a5",
   "metadata": {},
   "outputs": [],
   "source": [
    "bool_arr = [\n",
    "    False,  # Hermione\n",
    "    True,   # Harry\n",
    "    False,  # Ron\n",
    "    True    # Neville\n",
    "]\n",
    "\n",
    "enrollments.loc[bool_arr]"
   ]
  },
  {
   "cell_type": "markdown",
   "id": "2149086b",
   "metadata": {
    "slideshow": {
     "slide_type": "slide"
    }
   },
   "source": [
    "### Querying\n",
    "\n",
    "- Comparisons with arrays (Series) result in Boolean arrays (Series).\n",
    "- We can use comparisons along with the `loc` operator to **query** a DataFrame.\n",
    "- Querying is the act of selecting rows in a DataFrame that satisfy certain condition(s)."
   ]
  },
  {
   "cell_type": "code",
   "execution_count": null,
   "id": "2ac22726",
   "metadata": {},
   "outputs": [],
   "source": [
    "enrollments"
   ]
  },
  {
   "cell_type": "code",
   "execution_count": null,
   "id": "f8746b94",
   "metadata": {},
   "outputs": [],
   "source": [
    "enrollments['Name'].str.contains('on')"
   ]
  },
  {
   "cell_type": "code",
   "execution_count": null,
   "id": "d198a9a6",
   "metadata": {},
   "outputs": [],
   "source": [
    "# Rows where Name includes 'on'\n",
    "enrollments.loc[enrollments['Name'].str.contains('on')]"
   ]
  },
  {
   "cell_type": "code",
   "execution_count": null,
   "id": "4456f619",
   "metadata": {},
   "outputs": [],
   "source": [
    "# Rows where the first letter of Name is between A and L\n",
    "enrollments.loc[enrollments['Name'] < 'M']"
   ]
  },
  {
   "cell_type": "markdown",
   "id": "ebd28970",
   "metadata": {},
   "source": [
    "When using a Boolean sequence, e.g. `enrollments['Name'] < 'M'`, `loc` is not strictly necessary:"
   ]
  },
  {
   "cell_type": "code",
   "execution_count": null,
   "id": "6eca190b",
   "metadata": {},
   "outputs": [],
   "source": [
    "enrollments[enrollments['Name'] < 'M']"
   ]
  },
  {
   "cell_type": "markdown",
   "id": "d04684d2",
   "metadata": {
    "slideshow": {
     "slide_type": "slide"
    }
   },
   "source": [
    "### Selecting columns and rows simultaneously\n",
    "\n",
    "So far, we used `[]` to select columns and `loc` to select rows."
   ]
  },
  {
   "cell_type": "code",
   "execution_count": null,
   "id": "b459e821",
   "metadata": {},
   "outputs": [],
   "source": [
    "enrollments.loc[enrollments['Name'] < 'M']['PID']"
   ]
  },
  {
   "cell_type": "markdown",
   "id": "16cd25ee",
   "metadata": {
    "slideshow": {
     "slide_type": "slide"
    }
   },
   "source": [
    "### Selecting columns and rows simultaneously\n",
    "\n",
    "`loc` can also be used to select both rows and columns. The general pattern is:\n",
    "\n",
    "```\n",
    "df.loc[<row selector>, <column selector>]\n",
    "```\n",
    "\n",
    "Examples:\n",
    "- `df.loc[idx_list, col_list]` returns a DataFrame containing the rows in `idx_list` and columns in `col_list`.\n",
    "- `df.loc[bool_arr, col_list]` returns a DataFrame contaning the rows for which `bool_arr` is `True` and columns in `col_list`.\n",
    "- If `:` is used as the first input, all rows are kept. If `:` is used as the second input, all columns are kept."
   ]
  },
  {
   "cell_type": "code",
   "execution_count": null,
   "id": "ce45fbac",
   "metadata": {},
   "outputs": [],
   "source": [
    "enrollments"
   ]
  },
  {
   "cell_type": "code",
   "execution_count": null,
   "id": "f54f009e",
   "metadata": {},
   "outputs": [],
   "source": [
    "enrollments.loc[enrollments['Name'] < 'M', 'PID']"
   ]
  },
  {
   "cell_type": "code",
   "execution_count": null,
   "id": "3e99c8f4",
   "metadata": {},
   "outputs": [],
   "source": [
    "enrollments.loc[enrollments['Name'] < 'M', ['PID']]"
   ]
  },
  {
   "cell_type": "markdown",
   "id": "adef064d",
   "metadata": {
    "slideshow": {
     "slide_type": "slide"
    }
   },
   "source": [
    "### Even more ways of selecting rows and columns\n",
    "\n",
    "In `df.loc[<row selection>, <column selection>]`:\n",
    "\n",
    "- Both the first and second inputs can be Boolean sequences.\n",
    "- Both the first and second inputs can be **slices**, which use `:` syntax (e.g. `0:2`, `'Name': 'PID'`).\n",
    "- If both the first and second inputs are primitives (strings or numbers), the result is a single value, not a DataFrame or Series.\n",
    "- The first input can be a **function** that takes a row as input and returns a Boolean.\n",
    "\n",
    "There are many, many more – see the [`pandas` documentation](https://pandas.pydata.org/docs/user_guide/index.html#user-guide) for more."
   ]
  },
  {
   "cell_type": "code",
   "execution_count": null,
   "id": "46698ffd",
   "metadata": {},
   "outputs": [],
   "source": [
    "enrollments"
   ]
  },
  {
   "cell_type": "code",
   "execution_count": null,
   "id": "9591023b",
   "metadata": {},
   "outputs": [],
   "source": [
    "enrollments.loc[2, 'LVL']"
   ]
  },
  {
   "cell_type": "code",
   "execution_count": null,
   "id": "98e7ed41",
   "metadata": {},
   "outputs": [],
   "source": [
    "enrollments.loc[0:2, 'Name': 'PID']"
   ]
  },
  {
   "cell_type": "markdown",
   "id": "44062920",
   "metadata": {
    "slideshow": {
     "slide_type": "slide"
    }
   },
   "source": [
    "### Don't forget `iloc`!\n",
    "\n",
    "- `iloc` stands for \"integer location\".\n",
    "- `iloc` is like `loc`, but it selects rows and columns based off of integer positions only."
   ]
  },
  {
   "cell_type": "code",
   "execution_count": null,
   "id": "840b4d5b",
   "metadata": {},
   "outputs": [],
   "source": [
    "enrollments"
   ]
  },
  {
   "cell_type": "code",
   "execution_count": null,
   "id": "4c5a82dd",
   "metadata": {},
   "outputs": [],
   "source": [
    "enrollments.iloc[2:4, 0:2]"
   ]
  },
  {
   "cell_type": "code",
   "execution_count": null,
   "id": "078de636",
   "metadata": {},
   "outputs": [],
   "source": [
    "other = enrollments.set_index('Name')\n",
    "other"
   ]
  },
  {
   "cell_type": "code",
   "execution_count": null,
   "id": "16263dcf",
   "metadata": {},
   "outputs": [],
   "source": [
    "other.iloc[2]"
   ]
  },
  {
   "cell_type": "code",
   "execution_count": null,
   "id": "4d1543d1",
   "metadata": {},
   "outputs": [],
   "source": [
    "other.loc[2]"
   ]
  },
  {
   "cell_type": "markdown",
   "id": "087d8d38",
   "metadata": {
    "slideshow": {
     "slide_type": "slide"
    }
   },
   "source": [
    "### Discussion Question\n",
    "\n",
    "Let's return to the `names` DataFrame."
   ]
  },
  {
   "cell_type": "code",
   "execution_count": null,
   "id": "e88963c5",
   "metadata": {},
   "outputs": [],
   "source": [
    "names"
   ]
  },
  {
   "cell_type": "markdown",
   "id": "28d18012",
   "metadata": {},
   "source": [
    "**Question:** How many babies were born with the name `'Billy'` and gender `'M'`?"
   ]
  },
  {
   "cell_type": "code",
   "execution_count": null,
   "id": "8acc7c37",
   "metadata": {},
   "outputs": [],
   "source": [
    "..."
   ]
  },
  {
   "cell_type": "markdown",
   "id": "0e0f6afd",
   "metadata": {
    "slideshow": {
     "slide_type": "slide"
    }
   },
   "source": [
    "### More Practice\n",
    "\n",
    "Consider the DataFrame below."
   ]
  },
  {
   "cell_type": "code",
   "execution_count": null,
   "id": "84d1dd06",
   "metadata": {},
   "outputs": [],
   "source": [
    "jack = pd.DataFrame({1: ['fee', 'fi'], '1': ['fo', 'fum']})\n",
    "jack"
   ]
  },
  {
   "cell_type": "markdown",
   "id": "420f47d8",
   "metadata": {},
   "source": [
    "For each of the following pieces of code, predict what the output will be. Then, uncomment the line of code and see for yourself."
   ]
  },
  {
   "cell_type": "code",
   "execution_count": null,
   "id": "660fa42d",
   "metadata": {},
   "outputs": [],
   "source": [
    "# jack[1]"
   ]
  },
  {
   "cell_type": "code",
   "execution_count": null,
   "id": "ac5ad541",
   "metadata": {},
   "outputs": [],
   "source": [
    "# jack[[1]]"
   ]
  },
  {
   "cell_type": "code",
   "execution_count": null,
   "id": "0c1f7c00",
   "metadata": {},
   "outputs": [],
   "source": [
    "# jack['1']"
   ]
  },
  {
   "cell_type": "code",
   "execution_count": null,
   "id": "24a90b6b",
   "metadata": {},
   "outputs": [],
   "source": [
    "# jack[[1,1]]"
   ]
  },
  {
   "cell_type": "code",
   "execution_count": null,
   "id": "bda6e0f9",
   "metadata": {},
   "outputs": [],
   "source": [
    "# jack.loc[1]"
   ]
  },
  {
   "cell_type": "code",
   "execution_count": null,
   "id": "bb96863b",
   "metadata": {},
   "outputs": [],
   "source": [
    "# jack.loc[jack[1] == 'fo']"
   ]
  },
  {
   "cell_type": "code",
   "execution_count": null,
   "id": "b83cc118",
   "metadata": {},
   "outputs": [],
   "source": [
    "# jack[1, ['1', 1]]"
   ]
  },
  {
   "cell_type": "code",
   "execution_count": null,
   "id": "4a157e2f",
   "metadata": {},
   "outputs": [],
   "source": [
    "# jack.loc[1,1]"
   ]
  },
  {
   "cell_type": "markdown",
   "id": "8e36e417",
   "metadata": {
    "slideshow": {
     "slide_type": "slide"
    }
   },
   "source": [
    "## Summary, next time"
   ]
  },
  {
   "cell_type": "markdown",
   "id": "132e02c8",
   "metadata": {
    "slideshow": {
     "slide_type": "slide"
    }
   },
   "source": [
    "### Summary\n",
    "\n",
    "- `pandas` is **the** library for tabular data manipulation in Python.\n",
    "- There are three key data structures in `pandas`: DataFrame, Series, and Index.\n",
    "- Refer to the lecture notebook and the [`pandas` documentation](https://pandas.pydata.org/docs/user_guide/index.html#user-guide) for tips.\n",
    "- **Next time:** useful methods for working with DataFrames and Series."
   ]
  }
 ],
 "metadata": {
  "celltoolbar": "Slideshow",
  "kernelspec": {
   "display_name": "Python 3 (ipykernel)",
   "language": "python",
   "name": "python3"
  },
  "language_info": {
   "codemirror_mode": {
    "name": "ipython",
    "version": 3
   },
   "file_extension": ".py",
   "mimetype": "text/x-python",
   "name": "python",
   "nbconvert_exporter": "python",
   "pygments_lexer": "ipython3",
   "version": "3.8.12"
  }
 },
 "nbformat": 4,
 "nbformat_minor": 5
}
