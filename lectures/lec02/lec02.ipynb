{
 "cells": [
  {
   "cell_type": "code",
   "execution_count": 1,
   "id": "vital-florist",
   "metadata": {
    "slideshow": {
     "slide_type": "skip"
    }
   },
   "outputs": [],
   "source": [
    "import pandas as pd\n",
    "import numpy as np\n",
    "\n",
    "import matplotlib.pyplot as plt\n",
    "plt.rcParams['figure.figsize'] = (10, 5)\n",
    "\n",
    "import util"
   ]
  },
  {
   "cell_type": "markdown",
   "id": "juvenile-spending",
   "metadata": {
    "slideshow": {
     "slide_type": "slide"
    }
   },
   "source": [
    "# Lecture 2 – Pandas 🐼\n",
    "\n",
    "## DSC 80, Spring 2022"
   ]
  },
  {
   "cell_type": "markdown",
   "id": "worth-retro",
   "metadata": {
    "slideshow": {
     "slide_type": "slide"
    }
   },
   "source": [
    "### Announcements\n",
    "\n",
    "- Lab 1 is due on **Monday, April 4th at 11:59PM**.\n",
    "    - Watch [this video 🎥](https://youtu.be/FpTo4AM9B30) for setup instructions.\n",
    "- Discussion 1 is today from **7-7:50PM or 8-8:50PM** (in-person in PCNYH 122 or remote via Zoom).\n",
    "    - There was a typo in the discussion times stated in Lecture 1.\n",
    "    - Remember that discussion assignments can be submitted for extra credit!\n",
    "- Don't forget to fill out the [Welcome + Alternate Exams Form](https://docs.google.com/forms/d/e/1FAIpQLSdBKLcPs4Xi0plaIw0MVZ0DyGcvnSZyHxKVC7S7LwEiCchepQ/viewform) by Monday as well."
   ]
  },
  {
   "cell_type": "markdown",
   "id": "collect-installation",
   "metadata": {
    "slideshow": {
     "slide_type": "slide"
    }
   },
   "source": [
    "### Agenda\n",
    "\n",
    "- Wrap up our case study of City of San Diego employee salaries.\n",
    "- Introduction to `pandas`.\n",
    "    - DataFrames, Series, and Indexes.\n",
    "- Selecting rows and columns using `[]` and `loc`. "
   ]
  },
  {
   "cell_type": "markdown",
   "id": "rational-battlefield",
   "metadata": {
    "slideshow": {
     "slide_type": "slide"
    }
   },
   "source": [
    "## The data science lifecycle"
   ]
  },
  {
   "cell_type": "markdown",
   "id": "2f16528d",
   "metadata": {
    "slideshow": {
     "slide_type": "slide"
    }
   },
   "source": [
    "<center><img src=\"imgs/DSLC.png\" width=\"40%\"></center>"
   ]
  },
  {
   "cell_type": "markdown",
   "id": "357c011d",
   "metadata": {
    "slideshow": {
     "slide_type": "slide"
    }
   },
   "source": [
    "### Recap: City of San Diego salary data\n",
    "\n",
    "Our dataset is downloaded from [Transparent California](https://transparentcalifornia.com/salaries/san-diego/)."
   ]
  },
  {
   "cell_type": "code",
   "execution_count": 2,
   "id": "8a5ed82b",
   "metadata": {},
   "outputs": [],
   "source": [
    "salary_path = util.safe_download('https://transcal.s3.amazonaws.com/public/export/san-diego-2020.csv')"
   ]
  },
  {
   "cell_type": "code",
   "execution_count": 3,
   "id": "4127c44a",
   "metadata": {
    "scrolled": false
   },
   "outputs": [
    {
     "data": {
      "text/html": [
       "<div>\n",
       "<style scoped>\n",
       "    .dataframe tbody tr th:only-of-type {\n",
       "        vertical-align: middle;\n",
       "    }\n",
       "\n",
       "    .dataframe tbody tr th {\n",
       "        vertical-align: top;\n",
       "    }\n",
       "\n",
       "    .dataframe thead th {\n",
       "        text-align: right;\n",
       "    }\n",
       "</style>\n",
       "<table border=\"1\" class=\"dataframe\">\n",
       "  <thead>\n",
       "    <tr style=\"text-align: right;\">\n",
       "      <th></th>\n",
       "      <th>Employee Name</th>\n",
       "      <th>Job Title</th>\n",
       "      <th>Base Pay</th>\n",
       "      <th>Overtime Pay</th>\n",
       "      <th>Other Pay</th>\n",
       "      <th>Benefits</th>\n",
       "      <th>Total Pay</th>\n",
       "      <th>Total Pay &amp; Benefits</th>\n",
       "      <th>Year</th>\n",
       "      <th>Notes</th>\n",
       "      <th>Agency</th>\n",
       "      <th>Status</th>\n",
       "    </tr>\n",
       "  </thead>\n",
       "  <tbody>\n",
       "    <tr>\n",
       "      <th>0</th>\n",
       "      <td>Michael Xxxx</td>\n",
       "      <td>Police Officer</td>\n",
       "      <td>117691.0</td>\n",
       "      <td>187290.0</td>\n",
       "      <td>13331.00</td>\n",
       "      <td>36380.0</td>\n",
       "      <td>318312.0</td>\n",
       "      <td>354692.0</td>\n",
       "      <td>2020</td>\n",
       "      <td>NaN</td>\n",
       "      <td>San Diego</td>\n",
       "      <td>FT</td>\n",
       "    </tr>\n",
       "    <tr>\n",
       "      <th>1</th>\n",
       "      <td>Gary Xxxx</td>\n",
       "      <td>Police Officer</td>\n",
       "      <td>117691.0</td>\n",
       "      <td>160062.0</td>\n",
       "      <td>42946.00</td>\n",
       "      <td>31795.0</td>\n",
       "      <td>320699.0</td>\n",
       "      <td>352494.0</td>\n",
       "      <td>2020</td>\n",
       "      <td>NaN</td>\n",
       "      <td>San Diego</td>\n",
       "      <td>FT</td>\n",
       "    </tr>\n",
       "    <tr>\n",
       "      <th>2</th>\n",
       "      <td>Eric Xxxx</td>\n",
       "      <td>Fire Engineer</td>\n",
       "      <td>35698.0</td>\n",
       "      <td>204462.0</td>\n",
       "      <td>69121.00</td>\n",
       "      <td>38362.0</td>\n",
       "      <td>309281.0</td>\n",
       "      <td>347643.0</td>\n",
       "      <td>2020</td>\n",
       "      <td>NaN</td>\n",
       "      <td>San Diego</td>\n",
       "      <td>PT</td>\n",
       "    </tr>\n",
       "    <tr>\n",
       "      <th>3</th>\n",
       "      <td>Gregg Xxxx</td>\n",
       "      <td>Retirement Administrator</td>\n",
       "      <td>305000.0</td>\n",
       "      <td>0.0</td>\n",
       "      <td>12814.00</td>\n",
       "      <td>24792.0</td>\n",
       "      <td>317814.0</td>\n",
       "      <td>342606.0</td>\n",
       "      <td>2020</td>\n",
       "      <td>NaN</td>\n",
       "      <td>San Diego</td>\n",
       "      <td>FT</td>\n",
       "    </tr>\n",
       "    <tr>\n",
       "      <th>4</th>\n",
       "      <td>Joseph Xxxx</td>\n",
       "      <td>Fire Battalion Chief</td>\n",
       "      <td>94451.0</td>\n",
       "      <td>157778.0</td>\n",
       "      <td>48151.00</td>\n",
       "      <td>42096.0</td>\n",
       "      <td>300380.0</td>\n",
       "      <td>342476.0</td>\n",
       "      <td>2020</td>\n",
       "      <td>NaN</td>\n",
       "      <td>San Diego</td>\n",
       "      <td>FT</td>\n",
       "    </tr>\n",
       "    <tr>\n",
       "      <th>...</th>\n",
       "      <td>...</td>\n",
       "      <td>...</td>\n",
       "      <td>...</td>\n",
       "      <td>...</td>\n",
       "      <td>...</td>\n",
       "      <td>...</td>\n",
       "      <td>...</td>\n",
       "      <td>...</td>\n",
       "      <td>...</td>\n",
       "      <td>...</td>\n",
       "      <td>...</td>\n",
       "      <td>...</td>\n",
       "    </tr>\n",
       "    <tr>\n",
       "      <th>12600</th>\n",
       "      <td>Elena Xxxx</td>\n",
       "      <td>Asst Eng-Civil</td>\n",
       "      <td>0.0</td>\n",
       "      <td>2.0</td>\n",
       "      <td>0.00</td>\n",
       "      <td>0.0</td>\n",
       "      <td>2.0</td>\n",
       "      <td>2.0</td>\n",
       "      <td>2020</td>\n",
       "      <td>NaN</td>\n",
       "      <td>San Diego</td>\n",
       "      <td>PT</td>\n",
       "    </tr>\n",
       "    <tr>\n",
       "      <th>12601</th>\n",
       "      <td>Gary Xxxx</td>\n",
       "      <td>Police Officer</td>\n",
       "      <td>0.0</td>\n",
       "      <td>2.0</td>\n",
       "      <td>0.00</td>\n",
       "      <td>0.0</td>\n",
       "      <td>2.0</td>\n",
       "      <td>2.0</td>\n",
       "      <td>2020</td>\n",
       "      <td>NaN</td>\n",
       "      <td>San Diego</td>\n",
       "      <td>PT</td>\n",
       "    </tr>\n",
       "    <tr>\n",
       "      <th>12602</th>\n",
       "      <td>Sara Xxxx</td>\n",
       "      <td>Asst Planner</td>\n",
       "      <td>0.0</td>\n",
       "      <td>1.0</td>\n",
       "      <td>0.00</td>\n",
       "      <td>0.0</td>\n",
       "      <td>1.0</td>\n",
       "      <td>1.0</td>\n",
       "      <td>2020</td>\n",
       "      <td>NaN</td>\n",
       "      <td>San Diego</td>\n",
       "      <td>PT</td>\n",
       "    </tr>\n",
       "    <tr>\n",
       "      <th>12603</th>\n",
       "      <td>Kevin Xxxx</td>\n",
       "      <td>Project Ofcr 1</td>\n",
       "      <td>0.0</td>\n",
       "      <td>1.0</td>\n",
       "      <td>0.00</td>\n",
       "      <td>0.0</td>\n",
       "      <td>1.0</td>\n",
       "      <td>1.0</td>\n",
       "      <td>2020</td>\n",
       "      <td>NaN</td>\n",
       "      <td>San Diego</td>\n",
       "      <td>PT</td>\n",
       "    </tr>\n",
       "    <tr>\n",
       "      <th>12604</th>\n",
       "      <td>Deedrick Xxxx</td>\n",
       "      <td>Utility Worker 2</td>\n",
       "      <td>0.0</td>\n",
       "      <td>0.0</td>\n",
       "      <td>1.00</td>\n",
       "      <td>0.0</td>\n",
       "      <td>1.0</td>\n",
       "      <td>1.0</td>\n",
       "      <td>2020</td>\n",
       "      <td>NaN</td>\n",
       "      <td>San Diego</td>\n",
       "      <td>PT</td>\n",
       "    </tr>\n",
       "  </tbody>\n",
       "</table>\n",
       "<p>12605 rows × 12 columns</p>\n",
       "</div>"
      ],
      "text/plain": [
       "       Employee Name                 Job Title  Base Pay  Overtime Pay  \\\n",
       "0       Michael Xxxx            Police Officer  117691.0      187290.0   \n",
       "1          Gary Xxxx            Police Officer  117691.0      160062.0   \n",
       "2          Eric Xxxx             Fire Engineer   35698.0      204462.0   \n",
       "3         Gregg Xxxx  Retirement Administrator  305000.0           0.0   \n",
       "4        Joseph Xxxx      Fire Battalion Chief   94451.0      157778.0   \n",
       "...              ...                       ...       ...           ...   \n",
       "12600     Elena Xxxx            Asst Eng-Civil       0.0           2.0   \n",
       "12601      Gary Xxxx            Police Officer       0.0           2.0   \n",
       "12602      Sara Xxxx              Asst Planner       0.0           1.0   \n",
       "12603     Kevin Xxxx            Project Ofcr 1       0.0           1.0   \n",
       "12604  Deedrick Xxxx          Utility Worker 2       0.0           0.0   \n",
       "\n",
       "      Other Pay  Benefits  Total Pay  Total Pay & Benefits  Year  Notes  \\\n",
       "0      13331.00   36380.0   318312.0              354692.0  2020    NaN   \n",
       "1      42946.00   31795.0   320699.0              352494.0  2020    NaN   \n",
       "2      69121.00   38362.0   309281.0              347643.0  2020    NaN   \n",
       "3      12814.00   24792.0   317814.0              342606.0  2020    NaN   \n",
       "4      48151.00   42096.0   300380.0              342476.0  2020    NaN   \n",
       "...         ...       ...        ...                   ...   ...    ...   \n",
       "12600      0.00       0.0        2.0                   2.0  2020    NaN   \n",
       "12601      0.00       0.0        2.0                   2.0  2020    NaN   \n",
       "12602      0.00       0.0        1.0                   1.0  2020    NaN   \n",
       "12603      0.00       0.0        1.0                   1.0  2020    NaN   \n",
       "12604      1.00       0.0        1.0                   1.0  2020    NaN   \n",
       "\n",
       "          Agency Status  \n",
       "0      San Diego     FT  \n",
       "1      San Diego     FT  \n",
       "2      San Diego     PT  \n",
       "3      San Diego     FT  \n",
       "4      San Diego     FT  \n",
       "...          ...    ...  \n",
       "12600  San Diego     PT  \n",
       "12601  San Diego     PT  \n",
       "12602  San Diego     PT  \n",
       "12603  San Diego     PT  \n",
       "12604  San Diego     PT  \n",
       "\n",
       "[12605 rows x 12 columns]"
      ]
     },
     "execution_count": 3,
     "metadata": {},
     "output_type": "execute_result"
    }
   ],
   "source": [
    "salaries = pd.read_csv(salary_path)\n",
    "util.anonymize_names(salaries)\n",
    "salaries"
   ]
  },
  {
   "cell_type": "markdown",
   "id": "6d369b06",
   "metadata": {
    "slideshow": {
     "slide_type": "slide"
    }
   },
   "source": [
    "### Question: Does gender influence pay?\n",
    "\n",
    "- Do employees of different genders have similar pay?\n",
    "- The salary dataset we downloaded does not contain employee gender, so we can't answer this question using just the data we have."
   ]
  },
  {
   "cell_type": "code",
   "execution_count": 4,
   "id": "c4e9e848",
   "metadata": {},
   "outputs": [
    {
     "data": {
      "text/html": [
       "<div>\n",
       "<style scoped>\n",
       "    .dataframe tbody tr th:only-of-type {\n",
       "        vertical-align: middle;\n",
       "    }\n",
       "\n",
       "    .dataframe tbody tr th {\n",
       "        vertical-align: top;\n",
       "    }\n",
       "\n",
       "    .dataframe thead th {\n",
       "        text-align: right;\n",
       "    }\n",
       "</style>\n",
       "<table border=\"1\" class=\"dataframe\">\n",
       "  <thead>\n",
       "    <tr style=\"text-align: right;\">\n",
       "      <th></th>\n",
       "      <th>Employee Name</th>\n",
       "      <th>Job Title</th>\n",
       "      <th>Base Pay</th>\n",
       "      <th>Overtime Pay</th>\n",
       "      <th>Other Pay</th>\n",
       "      <th>Benefits</th>\n",
       "      <th>Total Pay</th>\n",
       "      <th>Total Pay &amp; Benefits</th>\n",
       "      <th>Year</th>\n",
       "      <th>Notes</th>\n",
       "      <th>Agency</th>\n",
       "      <th>Status</th>\n",
       "    </tr>\n",
       "  </thead>\n",
       "  <tbody>\n",
       "    <tr>\n",
       "      <th>0</th>\n",
       "      <td>Michael Xxxx</td>\n",
       "      <td>Police Officer</td>\n",
       "      <td>117691.0</td>\n",
       "      <td>187290.0</td>\n",
       "      <td>13331.00</td>\n",
       "      <td>36380.0</td>\n",
       "      <td>318312.0</td>\n",
       "      <td>354692.0</td>\n",
       "      <td>2020</td>\n",
       "      <td>NaN</td>\n",
       "      <td>San Diego</td>\n",
       "      <td>FT</td>\n",
       "    </tr>\n",
       "    <tr>\n",
       "      <th>1</th>\n",
       "      <td>Gary Xxxx</td>\n",
       "      <td>Police Officer</td>\n",
       "      <td>117691.0</td>\n",
       "      <td>160062.0</td>\n",
       "      <td>42946.00</td>\n",
       "      <td>31795.0</td>\n",
       "      <td>320699.0</td>\n",
       "      <td>352494.0</td>\n",
       "      <td>2020</td>\n",
       "      <td>NaN</td>\n",
       "      <td>San Diego</td>\n",
       "      <td>FT</td>\n",
       "    </tr>\n",
       "    <tr>\n",
       "      <th>2</th>\n",
       "      <td>Eric Xxxx</td>\n",
       "      <td>Fire Engineer</td>\n",
       "      <td>35698.0</td>\n",
       "      <td>204462.0</td>\n",
       "      <td>69121.00</td>\n",
       "      <td>38362.0</td>\n",
       "      <td>309281.0</td>\n",
       "      <td>347643.0</td>\n",
       "      <td>2020</td>\n",
       "      <td>NaN</td>\n",
       "      <td>San Diego</td>\n",
       "      <td>PT</td>\n",
       "    </tr>\n",
       "    <tr>\n",
       "      <th>3</th>\n",
       "      <td>Gregg Xxxx</td>\n",
       "      <td>Retirement Administrator</td>\n",
       "      <td>305000.0</td>\n",
       "      <td>0.0</td>\n",
       "      <td>12814.00</td>\n",
       "      <td>24792.0</td>\n",
       "      <td>317814.0</td>\n",
       "      <td>342606.0</td>\n",
       "      <td>2020</td>\n",
       "      <td>NaN</td>\n",
       "      <td>San Diego</td>\n",
       "      <td>FT</td>\n",
       "    </tr>\n",
       "    <tr>\n",
       "      <th>4</th>\n",
       "      <td>Joseph Xxxx</td>\n",
       "      <td>Fire Battalion Chief</td>\n",
       "      <td>94451.0</td>\n",
       "      <td>157778.0</td>\n",
       "      <td>48151.00</td>\n",
       "      <td>42096.0</td>\n",
       "      <td>300380.0</td>\n",
       "      <td>342476.0</td>\n",
       "      <td>2020</td>\n",
       "      <td>NaN</td>\n",
       "      <td>San Diego</td>\n",
       "      <td>FT</td>\n",
       "    </tr>\n",
       "  </tbody>\n",
       "</table>\n",
       "</div>"
      ],
      "text/plain": [
       "  Employee Name                 Job Title  Base Pay  Overtime Pay Other Pay  \\\n",
       "0  Michael Xxxx            Police Officer  117691.0      187290.0  13331.00   \n",
       "1     Gary Xxxx            Police Officer  117691.0      160062.0  42946.00   \n",
       "2     Eric Xxxx             Fire Engineer   35698.0      204462.0  69121.00   \n",
       "3    Gregg Xxxx  Retirement Administrator  305000.0           0.0  12814.00   \n",
       "4   Joseph Xxxx      Fire Battalion Chief   94451.0      157778.0  48151.00   \n",
       "\n",
       "   Benefits  Total Pay  Total Pay & Benefits  Year  Notes     Agency Status  \n",
       "0   36380.0   318312.0              354692.0  2020    NaN  San Diego     FT  \n",
       "1   31795.0   320699.0              352494.0  2020    NaN  San Diego     FT  \n",
       "2   38362.0   309281.0              347643.0  2020    NaN  San Diego     PT  \n",
       "3   24792.0   317814.0              342606.0  2020    NaN  San Diego     FT  \n",
       "4   42096.0   300380.0              342476.0  2020    NaN  San Diego     FT  "
      ]
     },
     "execution_count": 4,
     "metadata": {},
     "output_type": "execute_result"
    }
   ],
   "source": [
    "salaries.head()"
   ]
  },
  {
   "cell_type": "markdown",
   "id": "996f83e4",
   "metadata": {},
   "source": [
    "- We **do**, however, have the first name of each employee."
   ]
  },
  {
   "cell_type": "markdown",
   "id": "d547a9ad",
   "metadata": {
    "slideshow": {
     "slide_type": "slide"
    }
   },
   "source": [
    "### Social Security Administration baby names 👶\n",
    "\n",
    "- The US Social Security Administration (SSA) keeps track of the **first name**, **birth year**, and **assigned gender at birth** for all babies born in the US.\n",
    "- We can somehow combine the SSA's dataset with the `salaries` dataset to infer the gender of San Diego employees."
   ]
  },
  {
   "cell_type": "code",
   "execution_count": 5,
   "id": "34585915",
   "metadata": {},
   "outputs": [],
   "source": [
    "names_path = util.safe_download('https://www.ssa.gov/oact/babynames/names.zip')"
   ]
  },
  {
   "cell_type": "code",
   "execution_count": 6,
   "id": "149ddd06",
   "metadata": {},
   "outputs": [
    {
     "data": {
      "text/html": [
       "<div>\n",
       "<style scoped>\n",
       "    .dataframe tbody tr th:only-of-type {\n",
       "        vertical-align: middle;\n",
       "    }\n",
       "\n",
       "    .dataframe tbody tr th {\n",
       "        vertical-align: top;\n",
       "    }\n",
       "\n",
       "    .dataframe thead th {\n",
       "        text-align: right;\n",
       "    }\n",
       "</style>\n",
       "<table border=\"1\" class=\"dataframe\">\n",
       "  <thead>\n",
       "    <tr style=\"text-align: right;\">\n",
       "      <th></th>\n",
       "      <th>firstname</th>\n",
       "      <th>gender</th>\n",
       "      <th>count</th>\n",
       "      <th>year</th>\n",
       "    </tr>\n",
       "  </thead>\n",
       "  <tbody>\n",
       "    <tr>\n",
       "      <th>0</th>\n",
       "      <td>Jennifer</td>\n",
       "      <td>F</td>\n",
       "      <td>56780</td>\n",
       "      <td>1971</td>\n",
       "    </tr>\n",
       "    <tr>\n",
       "      <th>1</th>\n",
       "      <td>Michelle</td>\n",
       "      <td>F</td>\n",
       "      <td>33161</td>\n",
       "      <td>1971</td>\n",
       "    </tr>\n",
       "    <tr>\n",
       "      <th>2</th>\n",
       "      <td>Lisa</td>\n",
       "      <td>F</td>\n",
       "      <td>32911</td>\n",
       "      <td>1971</td>\n",
       "    </tr>\n",
       "    <tr>\n",
       "      <th>3</th>\n",
       "      <td>Kimberly</td>\n",
       "      <td>F</td>\n",
       "      <td>30700</td>\n",
       "      <td>1971</td>\n",
       "    </tr>\n",
       "    <tr>\n",
       "      <th>4</th>\n",
       "      <td>Amy</td>\n",
       "      <td>F</td>\n",
       "      <td>26237</td>\n",
       "      <td>1971</td>\n",
       "    </tr>\n",
       "    <tr>\n",
       "      <th>...</th>\n",
       "      <td>...</td>\n",
       "      <td>...</td>\n",
       "      <td>...</td>\n",
       "      <td>...</td>\n",
       "    </tr>\n",
       "    <tr>\n",
       "      <th>19695</th>\n",
       "      <td>Zaki</td>\n",
       "      <td>M</td>\n",
       "      <td>5</td>\n",
       "      <td>1982</td>\n",
       "    </tr>\n",
       "    <tr>\n",
       "      <th>19696</th>\n",
       "      <td>Zebulin</td>\n",
       "      <td>M</td>\n",
       "      <td>5</td>\n",
       "      <td>1982</td>\n",
       "    </tr>\n",
       "    <tr>\n",
       "      <th>19697</th>\n",
       "      <td>Zedekiah</td>\n",
       "      <td>M</td>\n",
       "      <td>5</td>\n",
       "      <td>1982</td>\n",
       "    </tr>\n",
       "    <tr>\n",
       "      <th>19698</th>\n",
       "      <td>Zubin</td>\n",
       "      <td>M</td>\n",
       "      <td>5</td>\n",
       "      <td>1982</td>\n",
       "    </tr>\n",
       "    <tr>\n",
       "      <th>19699</th>\n",
       "      <td>Zuriel</td>\n",
       "      <td>M</td>\n",
       "      <td>5</td>\n",
       "      <td>1982</td>\n",
       "    </tr>\n",
       "  </tbody>\n",
       "</table>\n",
       "<p>1399746 rows × 4 columns</p>\n",
       "</div>"
      ],
      "text/plain": [
       "      firstname gender  count  year\n",
       "0      Jennifer      F  56780  1971\n",
       "1      Michelle      F  33161  1971\n",
       "2          Lisa      F  32911  1971\n",
       "3      Kimberly      F  30700  1971\n",
       "4           Amy      F  26237  1971\n",
       "...         ...    ...    ...   ...\n",
       "19695      Zaki      M      5  1982\n",
       "19696   Zebulin      M      5  1982\n",
       "19697  Zedekiah      M      5  1982\n",
       "19698     Zubin      M      5  1982\n",
       "19699    Zuriel      M      5  1982\n",
       "\n",
       "[1399746 rows x 4 columns]"
      ]
     },
     "execution_count": 6,
     "metadata": {},
     "output_type": "execute_result"
    }
   ],
   "source": [
    "import pathlib\n",
    "\n",
    "dfs = []\n",
    "for path in pathlib.Path('data/names/').glob('*.txt'):\n",
    "    year = int(str(path)[14:18])\n",
    "    if year >= 1964:\n",
    "        df = pd.read_csv(path, names=['firstname', 'gender', 'count']).assign(year=year)\n",
    "        dfs.append(df)\n",
    "        \n",
    "names = pd.concat(dfs)\n",
    "names"
   ]
  },
  {
   "cell_type": "markdown",
   "id": "2ef9aac5",
   "metadata": {
    "slideshow": {
     "slide_type": "slide"
    }
   },
   "source": [
    "> We began compiling the baby name list in 1997, with names dating back to 1880. At the time of a child’s birth, parents supply the name to us when applying for a child’s Social Security card, thus making Social Security America’s source for the most popular baby names. Please share this with your friends and family—and help us spread the word on social media. - [Social Security’s Top Baby Names for 2020\n",
    "](https://blog.ssa.gov/social-securitys-top-baby-names-for-2020/)"
   ]
  },
  {
   "cell_type": "markdown",
   "id": "150c1e1d",
   "metadata": {
    "slideshow": {
     "slide_type": "slide"
    }
   },
   "source": [
    "### Exploring `names`\n",
    "\n",
    "- The only values of `'gender'` in `names` are `'M'` and `'F'`.\n",
    "- Many names have non-zero counts for both `'M'` and `'F'`.\n",
    "- Most names occur only a few times per year, but a few names occur very often."
   ]
  },
  {
   "cell_type": "code",
   "execution_count": 7,
   "id": "95762086",
   "metadata": {},
   "outputs": [
    {
     "data": {
      "text/html": [
       "<div>\n",
       "<style scoped>\n",
       "    .dataframe tbody tr th:only-of-type {\n",
       "        vertical-align: middle;\n",
       "    }\n",
       "\n",
       "    .dataframe tbody tr th {\n",
       "        vertical-align: top;\n",
       "    }\n",
       "\n",
       "    .dataframe thead th {\n",
       "        text-align: right;\n",
       "    }\n",
       "</style>\n",
       "<table border=\"1\" class=\"dataframe\">\n",
       "  <thead>\n",
       "    <tr style=\"text-align: right;\">\n",
       "      <th></th>\n",
       "      <th>firstname</th>\n",
       "      <th>gender</th>\n",
       "      <th>count</th>\n",
       "      <th>year</th>\n",
       "    </tr>\n",
       "  </thead>\n",
       "  <tbody>\n",
       "    <tr>\n",
       "      <th>0</th>\n",
       "      <td>Jennifer</td>\n",
       "      <td>F</td>\n",
       "      <td>56780</td>\n",
       "      <td>1971</td>\n",
       "    </tr>\n",
       "    <tr>\n",
       "      <th>1</th>\n",
       "      <td>Michelle</td>\n",
       "      <td>F</td>\n",
       "      <td>33161</td>\n",
       "      <td>1971</td>\n",
       "    </tr>\n",
       "    <tr>\n",
       "      <th>2</th>\n",
       "      <td>Lisa</td>\n",
       "      <td>F</td>\n",
       "      <td>32911</td>\n",
       "      <td>1971</td>\n",
       "    </tr>\n",
       "    <tr>\n",
       "      <th>3</th>\n",
       "      <td>Kimberly</td>\n",
       "      <td>F</td>\n",
       "      <td>30700</td>\n",
       "      <td>1971</td>\n",
       "    </tr>\n",
       "    <tr>\n",
       "      <th>4</th>\n",
       "      <td>Amy</td>\n",
       "      <td>F</td>\n",
       "      <td>26237</td>\n",
       "      <td>1971</td>\n",
       "    </tr>\n",
       "  </tbody>\n",
       "</table>\n",
       "</div>"
      ],
      "text/plain": [
       "  firstname gender  count  year\n",
       "0  Jennifer      F  56780  1971\n",
       "1  Michelle      F  33161  1971\n",
       "2      Lisa      F  32911  1971\n",
       "3  Kimberly      F  30700  1971\n",
       "4       Amy      F  26237  1971"
      ]
     },
     "execution_count": 7,
     "metadata": {},
     "output_type": "execute_result"
    }
   ],
   "source": [
    "names.head()"
   ]
  },
  {
   "cell_type": "code",
   "execution_count": 8,
   "id": "0cc62d36",
   "metadata": {},
   "outputs": [
    {
     "data": {
      "text/plain": [
       "F    838442\n",
       "M    561304\n",
       "Name: gender, dtype: int64"
      ]
     },
     "execution_count": 8,
     "metadata": {},
     "output_type": "execute_result"
    }
   ],
   "source": [
    "# Get the count of each unique value in the 'gender' column\n",
    "names['gender'].value_counts()"
   ]
  },
  {
   "cell_type": "code",
   "execution_count": 9,
   "id": "5a5691a4",
   "metadata": {
    "scrolled": false
   },
   "outputs": [
    {
     "data": {
      "text/html": [
       "<div>\n",
       "<style scoped>\n",
       "    .dataframe tbody tr th:only-of-type {\n",
       "        vertical-align: middle;\n",
       "    }\n",
       "\n",
       "    .dataframe tbody tr th {\n",
       "        vertical-align: top;\n",
       "    }\n",
       "\n",
       "    .dataframe thead th {\n",
       "        text-align: right;\n",
       "    }\n",
       "</style>\n",
       "<table border=\"1\" class=\"dataframe\">\n",
       "  <thead>\n",
       "    <tr style=\"text-align: right;\">\n",
       "      <th></th>\n",
       "      <th>firstname</th>\n",
       "      <th>gender</th>\n",
       "      <th>count</th>\n",
       "      <th>year</th>\n",
       "    </tr>\n",
       "  </thead>\n",
       "  <tbody>\n",
       "    <tr>\n",
       "      <th>1596</th>\n",
       "      <td>Billy</td>\n",
       "      <td>F</td>\n",
       "      <td>59</td>\n",
       "      <td>1971</td>\n",
       "    </tr>\n",
       "    <tr>\n",
       "      <th>9717</th>\n",
       "      <td>Billy</td>\n",
       "      <td>M</td>\n",
       "      <td>3907</td>\n",
       "      <td>1971</td>\n",
       "    </tr>\n",
       "    <tr>\n",
       "      <th>1738</th>\n",
       "      <td>Billy</td>\n",
       "      <td>F</td>\n",
       "      <td>42</td>\n",
       "      <td>1966</td>\n",
       "    </tr>\n",
       "    <tr>\n",
       "      <th>7698</th>\n",
       "      <td>Billy</td>\n",
       "      <td>M</td>\n",
       "      <td>4183</td>\n",
       "      <td>1966</td>\n",
       "    </tr>\n",
       "    <tr>\n",
       "      <th>1519</th>\n",
       "      <td>Billy</td>\n",
       "      <td>F</td>\n",
       "      <td>54</td>\n",
       "      <td>1965</td>\n",
       "    </tr>\n",
       "    <tr>\n",
       "      <th>...</th>\n",
       "      <td>...</td>\n",
       "      <td>...</td>\n",
       "      <td>...</td>\n",
       "      <td>...</td>\n",
       "    </tr>\n",
       "    <tr>\n",
       "      <th>10988</th>\n",
       "      <td>Billy</td>\n",
       "      <td>M</td>\n",
       "      <td>3157</td>\n",
       "      <td>1976</td>\n",
       "    </tr>\n",
       "    <tr>\n",
       "      <th>6725</th>\n",
       "      <td>Billy</td>\n",
       "      <td>F</td>\n",
       "      <td>13</td>\n",
       "      <td>1994</td>\n",
       "    </tr>\n",
       "    <tr>\n",
       "      <th>16008</th>\n",
       "      <td>Billy</td>\n",
       "      <td>M</td>\n",
       "      <td>1124</td>\n",
       "      <td>1994</td>\n",
       "    </tr>\n",
       "    <tr>\n",
       "      <th>2055</th>\n",
       "      <td>Billy</td>\n",
       "      <td>F</td>\n",
       "      <td>50</td>\n",
       "      <td>1982</td>\n",
       "    </tr>\n",
       "    <tr>\n",
       "      <th>12446</th>\n",
       "      <td>Billy</td>\n",
       "      <td>M</td>\n",
       "      <td>2528</td>\n",
       "      <td>1982</td>\n",
       "    </tr>\n",
       "  </tbody>\n",
       "</table>\n",
       "<p>104 rows × 4 columns</p>\n",
       "</div>"
      ],
      "text/plain": [
       "      firstname gender  count  year\n",
       "1596      Billy      F     59  1971\n",
       "9717      Billy      M   3907  1971\n",
       "1738      Billy      F     42  1966\n",
       "7698      Billy      M   4183  1966\n",
       "1519      Billy      F     54  1965\n",
       "...         ...    ...    ...   ...\n",
       "10988     Billy      M   3157  1976\n",
       "6725      Billy      F     13  1994\n",
       "16008     Billy      M   1124  1994\n",
       "2055      Billy      F     50  1982\n",
       "12446     Billy      M   2528  1982\n",
       "\n",
       "[104 rows x 4 columns]"
      ]
     },
     "execution_count": 9,
     "metadata": {},
     "output_type": "execute_result"
    }
   ],
   "source": [
    "# Look at a single name\n",
    "names[names['firstname'] == 'Billy']"
   ]
  },
  {
   "cell_type": "code",
   "execution_count": 10,
   "id": "4af44d6c",
   "metadata": {},
   "outputs": [
    {
     "data": {
      "text/html": [
       "<div>\n",
       "<style scoped>\n",
       "    .dataframe tbody tr th:only-of-type {\n",
       "        vertical-align: middle;\n",
       "    }\n",
       "\n",
       "    .dataframe tbody tr th {\n",
       "        vertical-align: top;\n",
       "    }\n",
       "\n",
       "    .dataframe thead th {\n",
       "        text-align: right;\n",
       "    }\n",
       "</style>\n",
       "<table border=\"1\" class=\"dataframe\">\n",
       "  <thead>\n",
       "    <tr style=\"text-align: right;\">\n",
       "      <th></th>\n",
       "      <th>count</th>\n",
       "      <th>year</th>\n",
       "    </tr>\n",
       "  </thead>\n",
       "  <tbody>\n",
       "    <tr>\n",
       "      <th>count</th>\n",
       "      <td>1.399746e+06</td>\n",
       "      <td>1.399746e+06</td>\n",
       "    </tr>\n",
       "    <tr>\n",
       "      <th>mean</th>\n",
       "      <td>1.459451e+02</td>\n",
       "      <td>1.996861e+03</td>\n",
       "    </tr>\n",
       "    <tr>\n",
       "      <th>std</th>\n",
       "      <td>1.194298e+03</td>\n",
       "      <td>1.542586e+01</td>\n",
       "    </tr>\n",
       "    <tr>\n",
       "      <th>min</th>\n",
       "      <td>5.000000e+00</td>\n",
       "      <td>1.964000e+03</td>\n",
       "    </tr>\n",
       "    <tr>\n",
       "      <th>25%</th>\n",
       "      <td>7.000000e+00</td>\n",
       "      <td>1.985000e+03</td>\n",
       "    </tr>\n",
       "    <tr>\n",
       "      <th>50%</th>\n",
       "      <td>1.100000e+01</td>\n",
       "      <td>1.999000e+03</td>\n",
       "    </tr>\n",
       "    <tr>\n",
       "      <th>75%</th>\n",
       "      <td>3.000000e+01</td>\n",
       "      <td>2.010000e+03</td>\n",
       "    </tr>\n",
       "    <tr>\n",
       "      <th>max</th>\n",
       "      <td>8.529100e+04</td>\n",
       "      <td>2.020000e+03</td>\n",
       "    </tr>\n",
       "  </tbody>\n",
       "</table>\n",
       "</div>"
      ],
      "text/plain": [
       "              count          year\n",
       "count  1.399746e+06  1.399746e+06\n",
       "mean   1.459451e+02  1.996861e+03\n",
       "std    1.194298e+03  1.542586e+01\n",
       "min    5.000000e+00  1.964000e+03\n",
       "25%    7.000000e+00  1.985000e+03\n",
       "50%    1.100000e+01  1.999000e+03\n",
       "75%    3.000000e+01  2.010000e+03\n",
       "max    8.529100e+04  2.020000e+03"
      ]
     },
     "execution_count": 10,
     "metadata": {},
     "output_type": "execute_result"
    }
   ],
   "source": [
    "# Look at various summary statistics\n",
    "names.describe()"
   ]
  },
  {
   "cell_type": "markdown",
   "id": "ff4e15ad",
   "metadata": {
    "slideshow": {
     "slide_type": "slide"
    }
   },
   "source": [
    "### Data Modeling\n",
    "\n",
    "<center><img src=\"imgs/DSLC.png\" width=\"40%\"></center>"
   ]
  },
  {
   "cell_type": "markdown",
   "id": "f478fa08",
   "metadata": {
    "slideshow": {
     "slide_type": "slide"
    }
   },
   "source": [
    "### Determining the most common gender for each name\n",
    "\n",
    "- Recall, our goal is to infer the gender of each San Diego city employee. To do this, we need a mapping of first names to genders."
   ]
  },
  {
   "cell_type": "markdown",
   "id": "b4013f14",
   "metadata": {
    "slideshow": {
     "slide_type": "fragment"
    }
   },
   "source": [
    "- **A (very imperfect) model:** If someone has a name that is predominantly used by gender $g$, we'll infer their gender to be $g$."
   ]
  },
  {
   "cell_type": "markdown",
   "id": "4e34d30f",
   "metadata": {
    "slideshow": {
     "slide_type": "fragment"
    }
   },
   "source": [
    "- **Approach:** Create a DataFrame indexed by `'firstname'` that describes the total number of `'F'` and `'M'` babies in `names` for each unique `'firstname'`.\n",
    "    - If there are more female babies born with a given name than male babies, we will \"classify\" the name as female.\n",
    "    - Otherwise, we will classify the name as male."
   ]
  },
  {
   "cell_type": "markdown",
   "id": "e6616fa0",
   "metadata": {
    "slideshow": {
     "slide_type": "slide"
    }
   },
   "source": [
    "### Determining the most common gender for each name"
   ]
  },
  {
   "cell_type": "code",
   "execution_count": 11,
   "id": "8d4edbdd",
   "metadata": {},
   "outputs": [
    {
     "data": {
      "text/html": [
       "<div>\n",
       "<style scoped>\n",
       "    .dataframe tbody tr th:only-of-type {\n",
       "        vertical-align: middle;\n",
       "    }\n",
       "\n",
       "    .dataframe tbody tr th {\n",
       "        vertical-align: top;\n",
       "    }\n",
       "\n",
       "    .dataframe thead th {\n",
       "        text-align: right;\n",
       "    }\n",
       "</style>\n",
       "<table border=\"1\" class=\"dataframe\">\n",
       "  <thead>\n",
       "    <tr style=\"text-align: right;\">\n",
       "      <th>gender</th>\n",
       "      <th>F</th>\n",
       "      <th>M</th>\n",
       "    </tr>\n",
       "    <tr>\n",
       "      <th>firstname</th>\n",
       "      <th></th>\n",
       "      <th></th>\n",
       "    </tr>\n",
       "  </thead>\n",
       "  <tbody>\n",
       "    <tr>\n",
       "      <th>Aaban</th>\n",
       "      <td>0.0</td>\n",
       "      <td>120.0</td>\n",
       "    </tr>\n",
       "    <tr>\n",
       "      <th>Aabha</th>\n",
       "      <td>46.0</td>\n",
       "      <td>0.0</td>\n",
       "    </tr>\n",
       "    <tr>\n",
       "      <th>Aabid</th>\n",
       "      <td>0.0</td>\n",
       "      <td>16.0</td>\n",
       "    </tr>\n",
       "    <tr>\n",
       "      <th>Aabidah</th>\n",
       "      <td>5.0</td>\n",
       "      <td>0.0</td>\n",
       "    </tr>\n",
       "    <tr>\n",
       "      <th>Aabir</th>\n",
       "      <td>0.0</td>\n",
       "      <td>10.0</td>\n",
       "    </tr>\n",
       "    <tr>\n",
       "      <th>...</th>\n",
       "      <td>...</td>\n",
       "      <td>...</td>\n",
       "    </tr>\n",
       "    <tr>\n",
       "      <th>Zyvion</th>\n",
       "      <td>0.0</td>\n",
       "      <td>5.0</td>\n",
       "    </tr>\n",
       "    <tr>\n",
       "      <th>Zyvon</th>\n",
       "      <td>0.0</td>\n",
       "      <td>7.0</td>\n",
       "    </tr>\n",
       "    <tr>\n",
       "      <th>Zyyanna</th>\n",
       "      <td>6.0</td>\n",
       "      <td>0.0</td>\n",
       "    </tr>\n",
       "    <tr>\n",
       "      <th>Zyyon</th>\n",
       "      <td>0.0</td>\n",
       "      <td>6.0</td>\n",
       "    </tr>\n",
       "    <tr>\n",
       "      <th>Zzyzx</th>\n",
       "      <td>0.0</td>\n",
       "      <td>10.0</td>\n",
       "    </tr>\n",
       "  </tbody>\n",
       "</table>\n",
       "<p>91360 rows × 2 columns</p>\n",
       "</div>"
      ],
      "text/plain": [
       "gender        F      M\n",
       "firstname             \n",
       "Aaban       0.0  120.0\n",
       "Aabha      46.0    0.0\n",
       "Aabid       0.0   16.0\n",
       "Aabidah     5.0    0.0\n",
       "Aabir       0.0   10.0\n",
       "...         ...    ...\n",
       "Zyvion      0.0    5.0\n",
       "Zyvon       0.0    7.0\n",
       "Zyyanna     6.0    0.0\n",
       "Zyyon       0.0    6.0\n",
       "Zzyzx       0.0   10.0\n",
       "\n",
       "[91360 rows x 2 columns]"
      ]
     },
     "execution_count": 11,
     "metadata": {},
     "output_type": "execute_result"
    }
   ],
   "source": [
    "counts_by_gender = (\n",
    "    names\n",
    "    .groupby(['firstname', 'gender'])\n",
    "    .sum()\n",
    "    .reset_index()\n",
    "    .pivot('firstname', 'gender', 'count')\n",
    "    .fillna(0)\n",
    ")\n",
    "counts_by_gender"
   ]
  },
  {
   "cell_type": "code",
   "execution_count": 12,
   "id": "5a409b2d",
   "metadata": {},
   "outputs": [
    {
     "data": {
      "text/plain": [
       "firstname\n",
       "Aaban      False\n",
       "Aabha       True\n",
       "Aabid      False\n",
       "Aabidah     True\n",
       "Aabir      False\n",
       "           ...  \n",
       "Zyvion     False\n",
       "Zyvon      False\n",
       "Zyyanna     True\n",
       "Zyyon      False\n",
       "Zzyzx      False\n",
       "Length: 91360, dtype: bool"
      ]
     },
     "execution_count": 12,
     "metadata": {},
     "output_type": "execute_result"
    }
   ],
   "source": [
    "counts_by_gender['F'] > counts_by_gender['M']"
   ]
  },
  {
   "cell_type": "code",
   "execution_count": 13,
   "id": "33de42b7",
   "metadata": {},
   "outputs": [
    {
     "data": {
      "text/html": [
       "<div>\n",
       "<style scoped>\n",
       "    .dataframe tbody tr th:only-of-type {\n",
       "        vertical-align: middle;\n",
       "    }\n",
       "\n",
       "    .dataframe tbody tr th {\n",
       "        vertical-align: top;\n",
       "    }\n",
       "\n",
       "    .dataframe thead th {\n",
       "        text-align: right;\n",
       "    }\n",
       "</style>\n",
       "<table border=\"1\" class=\"dataframe\">\n",
       "  <thead>\n",
       "    <tr style=\"text-align: right;\">\n",
       "      <th>gender</th>\n",
       "      <th>F</th>\n",
       "      <th>M</th>\n",
       "      <th>gender</th>\n",
       "    </tr>\n",
       "    <tr>\n",
       "      <th>firstname</th>\n",
       "      <th></th>\n",
       "      <th></th>\n",
       "      <th></th>\n",
       "    </tr>\n",
       "  </thead>\n",
       "  <tbody>\n",
       "    <tr>\n",
       "      <th>Aaban</th>\n",
       "      <td>0.0</td>\n",
       "      <td>120.0</td>\n",
       "      <td>M</td>\n",
       "    </tr>\n",
       "    <tr>\n",
       "      <th>Aabha</th>\n",
       "      <td>46.0</td>\n",
       "      <td>0.0</td>\n",
       "      <td>F</td>\n",
       "    </tr>\n",
       "    <tr>\n",
       "      <th>Aabid</th>\n",
       "      <td>0.0</td>\n",
       "      <td>16.0</td>\n",
       "      <td>M</td>\n",
       "    </tr>\n",
       "    <tr>\n",
       "      <th>Aabidah</th>\n",
       "      <td>5.0</td>\n",
       "      <td>0.0</td>\n",
       "      <td>F</td>\n",
       "    </tr>\n",
       "    <tr>\n",
       "      <th>Aabir</th>\n",
       "      <td>0.0</td>\n",
       "      <td>10.0</td>\n",
       "      <td>M</td>\n",
       "    </tr>\n",
       "    <tr>\n",
       "      <th>...</th>\n",
       "      <td>...</td>\n",
       "      <td>...</td>\n",
       "      <td>...</td>\n",
       "    </tr>\n",
       "    <tr>\n",
       "      <th>Zyvion</th>\n",
       "      <td>0.0</td>\n",
       "      <td>5.0</td>\n",
       "      <td>M</td>\n",
       "    </tr>\n",
       "    <tr>\n",
       "      <th>Zyvon</th>\n",
       "      <td>0.0</td>\n",
       "      <td>7.0</td>\n",
       "      <td>M</td>\n",
       "    </tr>\n",
       "    <tr>\n",
       "      <th>Zyyanna</th>\n",
       "      <td>6.0</td>\n",
       "      <td>0.0</td>\n",
       "      <td>F</td>\n",
       "    </tr>\n",
       "    <tr>\n",
       "      <th>Zyyon</th>\n",
       "      <td>0.0</td>\n",
       "      <td>6.0</td>\n",
       "      <td>M</td>\n",
       "    </tr>\n",
       "    <tr>\n",
       "      <th>Zzyzx</th>\n",
       "      <td>0.0</td>\n",
       "      <td>10.0</td>\n",
       "      <td>M</td>\n",
       "    </tr>\n",
       "  </tbody>\n",
       "</table>\n",
       "<p>91360 rows × 3 columns</p>\n",
       "</div>"
      ],
      "text/plain": [
       "gender        F      M gender\n",
       "firstname                    \n",
       "Aaban       0.0  120.0      M\n",
       "Aabha      46.0    0.0      F\n",
       "Aabid       0.0   16.0      M\n",
       "Aabidah     5.0    0.0      F\n",
       "Aabir       0.0   10.0      M\n",
       "...         ...    ...    ...\n",
       "Zyvion      0.0    5.0      M\n",
       "Zyvon       0.0    7.0      M\n",
       "Zyyanna     6.0    0.0      F\n",
       "Zyyon       0.0    6.0      M\n",
       "Zzyzx       0.0   10.0      M\n",
       "\n",
       "[91360 rows x 3 columns]"
      ]
     },
     "execution_count": 13,
     "metadata": {},
     "output_type": "execute_result"
    }
   ],
   "source": [
    "genders = counts_by_gender.assign(gender=np.where(counts_by_gender['F'] > counts_by_gender['M'], 'F', 'M'))\n",
    "genders"
   ]
  },
  {
   "cell_type": "markdown",
   "id": "32bd1e2f",
   "metadata": {
    "slideshow": {
     "slide_type": "slide"
    }
   },
   "source": [
    "### Adding a `'gender'` column to `salaries`\n",
    "\n",
    "This involves two steps:\n",
    "1. Extracting just the first name from `'Employee Name'`.\n",
    "2. **Merging** `salaries` and `genders`."
   ]
  },
  {
   "cell_type": "code",
   "execution_count": 14,
   "id": "d096bed6",
   "metadata": {},
   "outputs": [
    {
     "data": {
      "text/html": [
       "<div>\n",
       "<style scoped>\n",
       "    .dataframe tbody tr th:only-of-type {\n",
       "        vertical-align: middle;\n",
       "    }\n",
       "\n",
       "    .dataframe tbody tr th {\n",
       "        vertical-align: top;\n",
       "    }\n",
       "\n",
       "    .dataframe thead th {\n",
       "        text-align: right;\n",
       "    }\n",
       "</style>\n",
       "<table border=\"1\" class=\"dataframe\">\n",
       "  <thead>\n",
       "    <tr style=\"text-align: right;\">\n",
       "      <th></th>\n",
       "      <th>Employee Name</th>\n",
       "      <th>Job Title</th>\n",
       "      <th>Base Pay</th>\n",
       "      <th>Overtime Pay</th>\n",
       "      <th>Other Pay</th>\n",
       "      <th>Benefits</th>\n",
       "      <th>Total Pay</th>\n",
       "      <th>Total Pay &amp; Benefits</th>\n",
       "      <th>Year</th>\n",
       "      <th>Notes</th>\n",
       "      <th>Agency</th>\n",
       "      <th>Status</th>\n",
       "      <th>firstname</th>\n",
       "    </tr>\n",
       "  </thead>\n",
       "  <tbody>\n",
       "    <tr>\n",
       "      <th>0</th>\n",
       "      <td>Michael Xxxx</td>\n",
       "      <td>Police Officer</td>\n",
       "      <td>117691.0</td>\n",
       "      <td>187290.0</td>\n",
       "      <td>13331.00</td>\n",
       "      <td>36380.0</td>\n",
       "      <td>318312.0</td>\n",
       "      <td>354692.0</td>\n",
       "      <td>2020</td>\n",
       "      <td>NaN</td>\n",
       "      <td>San Diego</td>\n",
       "      <td>FT</td>\n",
       "      <td>Michael</td>\n",
       "    </tr>\n",
       "    <tr>\n",
       "      <th>1</th>\n",
       "      <td>Gary Xxxx</td>\n",
       "      <td>Police Officer</td>\n",
       "      <td>117691.0</td>\n",
       "      <td>160062.0</td>\n",
       "      <td>42946.00</td>\n",
       "      <td>31795.0</td>\n",
       "      <td>320699.0</td>\n",
       "      <td>352494.0</td>\n",
       "      <td>2020</td>\n",
       "      <td>NaN</td>\n",
       "      <td>San Diego</td>\n",
       "      <td>FT</td>\n",
       "      <td>Gary</td>\n",
       "    </tr>\n",
       "    <tr>\n",
       "      <th>2</th>\n",
       "      <td>Eric Xxxx</td>\n",
       "      <td>Fire Engineer</td>\n",
       "      <td>35698.0</td>\n",
       "      <td>204462.0</td>\n",
       "      <td>69121.00</td>\n",
       "      <td>38362.0</td>\n",
       "      <td>309281.0</td>\n",
       "      <td>347643.0</td>\n",
       "      <td>2020</td>\n",
       "      <td>NaN</td>\n",
       "      <td>San Diego</td>\n",
       "      <td>PT</td>\n",
       "      <td>Eric</td>\n",
       "    </tr>\n",
       "    <tr>\n",
       "      <th>3</th>\n",
       "      <td>Gregg Xxxx</td>\n",
       "      <td>Retirement Administrator</td>\n",
       "      <td>305000.0</td>\n",
       "      <td>0.0</td>\n",
       "      <td>12814.00</td>\n",
       "      <td>24792.0</td>\n",
       "      <td>317814.0</td>\n",
       "      <td>342606.0</td>\n",
       "      <td>2020</td>\n",
       "      <td>NaN</td>\n",
       "      <td>San Diego</td>\n",
       "      <td>FT</td>\n",
       "      <td>Gregg</td>\n",
       "    </tr>\n",
       "    <tr>\n",
       "      <th>4</th>\n",
       "      <td>Joseph Xxxx</td>\n",
       "      <td>Fire Battalion Chief</td>\n",
       "      <td>94451.0</td>\n",
       "      <td>157778.0</td>\n",
       "      <td>48151.00</td>\n",
       "      <td>42096.0</td>\n",
       "      <td>300380.0</td>\n",
       "      <td>342476.0</td>\n",
       "      <td>2020</td>\n",
       "      <td>NaN</td>\n",
       "      <td>San Diego</td>\n",
       "      <td>FT</td>\n",
       "      <td>Joseph</td>\n",
       "    </tr>\n",
       "    <tr>\n",
       "      <th>...</th>\n",
       "      <td>...</td>\n",
       "      <td>...</td>\n",
       "      <td>...</td>\n",
       "      <td>...</td>\n",
       "      <td>...</td>\n",
       "      <td>...</td>\n",
       "      <td>...</td>\n",
       "      <td>...</td>\n",
       "      <td>...</td>\n",
       "      <td>...</td>\n",
       "      <td>...</td>\n",
       "      <td>...</td>\n",
       "      <td>...</td>\n",
       "    </tr>\n",
       "    <tr>\n",
       "      <th>12600</th>\n",
       "      <td>Elena Xxxx</td>\n",
       "      <td>Asst Eng-Civil</td>\n",
       "      <td>0.0</td>\n",
       "      <td>2.0</td>\n",
       "      <td>0.00</td>\n",
       "      <td>0.0</td>\n",
       "      <td>2.0</td>\n",
       "      <td>2.0</td>\n",
       "      <td>2020</td>\n",
       "      <td>NaN</td>\n",
       "      <td>San Diego</td>\n",
       "      <td>PT</td>\n",
       "      <td>Elena</td>\n",
       "    </tr>\n",
       "    <tr>\n",
       "      <th>12601</th>\n",
       "      <td>Gary Xxxx</td>\n",
       "      <td>Police Officer</td>\n",
       "      <td>0.0</td>\n",
       "      <td>2.0</td>\n",
       "      <td>0.00</td>\n",
       "      <td>0.0</td>\n",
       "      <td>2.0</td>\n",
       "      <td>2.0</td>\n",
       "      <td>2020</td>\n",
       "      <td>NaN</td>\n",
       "      <td>San Diego</td>\n",
       "      <td>PT</td>\n",
       "      <td>Gary</td>\n",
       "    </tr>\n",
       "    <tr>\n",
       "      <th>12602</th>\n",
       "      <td>Sara Xxxx</td>\n",
       "      <td>Asst Planner</td>\n",
       "      <td>0.0</td>\n",
       "      <td>1.0</td>\n",
       "      <td>0.00</td>\n",
       "      <td>0.0</td>\n",
       "      <td>1.0</td>\n",
       "      <td>1.0</td>\n",
       "      <td>2020</td>\n",
       "      <td>NaN</td>\n",
       "      <td>San Diego</td>\n",
       "      <td>PT</td>\n",
       "      <td>Sara</td>\n",
       "    </tr>\n",
       "    <tr>\n",
       "      <th>12603</th>\n",
       "      <td>Kevin Xxxx</td>\n",
       "      <td>Project Ofcr 1</td>\n",
       "      <td>0.0</td>\n",
       "      <td>1.0</td>\n",
       "      <td>0.00</td>\n",
       "      <td>0.0</td>\n",
       "      <td>1.0</td>\n",
       "      <td>1.0</td>\n",
       "      <td>2020</td>\n",
       "      <td>NaN</td>\n",
       "      <td>San Diego</td>\n",
       "      <td>PT</td>\n",
       "      <td>Kevin</td>\n",
       "    </tr>\n",
       "    <tr>\n",
       "      <th>12604</th>\n",
       "      <td>Deedrick Xxxx</td>\n",
       "      <td>Utility Worker 2</td>\n",
       "      <td>0.0</td>\n",
       "      <td>0.0</td>\n",
       "      <td>1.00</td>\n",
       "      <td>0.0</td>\n",
       "      <td>1.0</td>\n",
       "      <td>1.0</td>\n",
       "      <td>2020</td>\n",
       "      <td>NaN</td>\n",
       "      <td>San Diego</td>\n",
       "      <td>PT</td>\n",
       "      <td>Deedrick</td>\n",
       "    </tr>\n",
       "  </tbody>\n",
       "</table>\n",
       "<p>12605 rows × 13 columns</p>\n",
       "</div>"
      ],
      "text/plain": [
       "       Employee Name                 Job Title  Base Pay  Overtime Pay  \\\n",
       "0       Michael Xxxx            Police Officer  117691.0      187290.0   \n",
       "1          Gary Xxxx            Police Officer  117691.0      160062.0   \n",
       "2          Eric Xxxx             Fire Engineer   35698.0      204462.0   \n",
       "3         Gregg Xxxx  Retirement Administrator  305000.0           0.0   \n",
       "4        Joseph Xxxx      Fire Battalion Chief   94451.0      157778.0   \n",
       "...              ...                       ...       ...           ...   \n",
       "12600     Elena Xxxx            Asst Eng-Civil       0.0           2.0   \n",
       "12601      Gary Xxxx            Police Officer       0.0           2.0   \n",
       "12602      Sara Xxxx              Asst Planner       0.0           1.0   \n",
       "12603     Kevin Xxxx            Project Ofcr 1       0.0           1.0   \n",
       "12604  Deedrick Xxxx          Utility Worker 2       0.0           0.0   \n",
       "\n",
       "      Other Pay  Benefits  Total Pay  Total Pay & Benefits  Year  Notes  \\\n",
       "0      13331.00   36380.0   318312.0              354692.0  2020    NaN   \n",
       "1      42946.00   31795.0   320699.0              352494.0  2020    NaN   \n",
       "2      69121.00   38362.0   309281.0              347643.0  2020    NaN   \n",
       "3      12814.00   24792.0   317814.0              342606.0  2020    NaN   \n",
       "4      48151.00   42096.0   300380.0              342476.0  2020    NaN   \n",
       "...         ...       ...        ...                   ...   ...    ...   \n",
       "12600      0.00       0.0        2.0                   2.0  2020    NaN   \n",
       "12601      0.00       0.0        2.0                   2.0  2020    NaN   \n",
       "12602      0.00       0.0        1.0                   1.0  2020    NaN   \n",
       "12603      0.00       0.0        1.0                   1.0  2020    NaN   \n",
       "12604      1.00       0.0        1.0                   1.0  2020    NaN   \n",
       "\n",
       "          Agency Status firstname  \n",
       "0      San Diego     FT   Michael  \n",
       "1      San Diego     FT      Gary  \n",
       "2      San Diego     PT      Eric  \n",
       "3      San Diego     FT     Gregg  \n",
       "4      San Diego     FT    Joseph  \n",
       "...          ...    ...       ...  \n",
       "12600  San Diego     PT     Elena  \n",
       "12601  San Diego     PT      Gary  \n",
       "12602  San Diego     PT      Sara  \n",
       "12603  San Diego     PT     Kevin  \n",
       "12604  San Diego     PT  Deedrick  \n",
       "\n",
       "[12605 rows x 13 columns]"
      ]
     },
     "execution_count": 14,
     "metadata": {},
     "output_type": "execute_result"
    }
   ],
   "source": [
    "# Add firstname column\n",
    "salaries['firstname'] = salaries['Employee Name'].str.split().str[0]\n",
    "salaries"
   ]
  },
  {
   "cell_type": "code",
   "execution_count": 15,
   "id": "9ee7b701",
   "metadata": {},
   "outputs": [
    {
     "data": {
      "text/html": [
       "<div>\n",
       "<style scoped>\n",
       "    .dataframe tbody tr th:only-of-type {\n",
       "        vertical-align: middle;\n",
       "    }\n",
       "\n",
       "    .dataframe tbody tr th {\n",
       "        vertical-align: top;\n",
       "    }\n",
       "\n",
       "    .dataframe thead th {\n",
       "        text-align: right;\n",
       "    }\n",
       "</style>\n",
       "<table border=\"1\" class=\"dataframe\">\n",
       "  <thead>\n",
       "    <tr style=\"text-align: right;\">\n",
       "      <th></th>\n",
       "      <th>Employee Name</th>\n",
       "      <th>Job Title</th>\n",
       "      <th>Base Pay</th>\n",
       "      <th>Overtime Pay</th>\n",
       "      <th>Other Pay</th>\n",
       "      <th>Benefits</th>\n",
       "      <th>Total Pay</th>\n",
       "      <th>Total Pay &amp; Benefits</th>\n",
       "      <th>Year</th>\n",
       "      <th>Notes</th>\n",
       "      <th>Agency</th>\n",
       "      <th>Status</th>\n",
       "      <th>firstname</th>\n",
       "      <th>gender</th>\n",
       "    </tr>\n",
       "  </thead>\n",
       "  <tbody>\n",
       "    <tr>\n",
       "      <th>0</th>\n",
       "      <td>Michael Xxxx</td>\n",
       "      <td>Police Officer</td>\n",
       "      <td>117691.0</td>\n",
       "      <td>187290.0</td>\n",
       "      <td>13331.00</td>\n",
       "      <td>36380.0</td>\n",
       "      <td>318312.0</td>\n",
       "      <td>354692.0</td>\n",
       "      <td>2020</td>\n",
       "      <td>NaN</td>\n",
       "      <td>San Diego</td>\n",
       "      <td>FT</td>\n",
       "      <td>Michael</td>\n",
       "      <td>M</td>\n",
       "    </tr>\n",
       "    <tr>\n",
       "      <th>1</th>\n",
       "      <td>Gary Xxxx</td>\n",
       "      <td>Police Officer</td>\n",
       "      <td>117691.0</td>\n",
       "      <td>160062.0</td>\n",
       "      <td>42946.00</td>\n",
       "      <td>31795.0</td>\n",
       "      <td>320699.0</td>\n",
       "      <td>352494.0</td>\n",
       "      <td>2020</td>\n",
       "      <td>NaN</td>\n",
       "      <td>San Diego</td>\n",
       "      <td>FT</td>\n",
       "      <td>Gary</td>\n",
       "      <td>M</td>\n",
       "    </tr>\n",
       "    <tr>\n",
       "      <th>2</th>\n",
       "      <td>Eric Xxxx</td>\n",
       "      <td>Fire Engineer</td>\n",
       "      <td>35698.0</td>\n",
       "      <td>204462.0</td>\n",
       "      <td>69121.00</td>\n",
       "      <td>38362.0</td>\n",
       "      <td>309281.0</td>\n",
       "      <td>347643.0</td>\n",
       "      <td>2020</td>\n",
       "      <td>NaN</td>\n",
       "      <td>San Diego</td>\n",
       "      <td>PT</td>\n",
       "      <td>Eric</td>\n",
       "      <td>M</td>\n",
       "    </tr>\n",
       "    <tr>\n",
       "      <th>3</th>\n",
       "      <td>Gregg Xxxx</td>\n",
       "      <td>Retirement Administrator</td>\n",
       "      <td>305000.0</td>\n",
       "      <td>0.0</td>\n",
       "      <td>12814.00</td>\n",
       "      <td>24792.0</td>\n",
       "      <td>317814.0</td>\n",
       "      <td>342606.0</td>\n",
       "      <td>2020</td>\n",
       "      <td>NaN</td>\n",
       "      <td>San Diego</td>\n",
       "      <td>FT</td>\n",
       "      <td>Gregg</td>\n",
       "      <td>M</td>\n",
       "    </tr>\n",
       "    <tr>\n",
       "      <th>4</th>\n",
       "      <td>Joseph Xxxx</td>\n",
       "      <td>Fire Battalion Chief</td>\n",
       "      <td>94451.0</td>\n",
       "      <td>157778.0</td>\n",
       "      <td>48151.00</td>\n",
       "      <td>42096.0</td>\n",
       "      <td>300380.0</td>\n",
       "      <td>342476.0</td>\n",
       "      <td>2020</td>\n",
       "      <td>NaN</td>\n",
       "      <td>San Diego</td>\n",
       "      <td>FT</td>\n",
       "      <td>Joseph</td>\n",
       "      <td>M</td>\n",
       "    </tr>\n",
       "    <tr>\n",
       "      <th>...</th>\n",
       "      <td>...</td>\n",
       "      <td>...</td>\n",
       "      <td>...</td>\n",
       "      <td>...</td>\n",
       "      <td>...</td>\n",
       "      <td>...</td>\n",
       "      <td>...</td>\n",
       "      <td>...</td>\n",
       "      <td>...</td>\n",
       "      <td>...</td>\n",
       "      <td>...</td>\n",
       "      <td>...</td>\n",
       "      <td>...</td>\n",
       "      <td>...</td>\n",
       "    </tr>\n",
       "    <tr>\n",
       "      <th>12600</th>\n",
       "      <td>Elena Xxxx</td>\n",
       "      <td>Asst Eng-Civil</td>\n",
       "      <td>0.0</td>\n",
       "      <td>2.0</td>\n",
       "      <td>0.00</td>\n",
       "      <td>0.0</td>\n",
       "      <td>2.0</td>\n",
       "      <td>2.0</td>\n",
       "      <td>2020</td>\n",
       "      <td>NaN</td>\n",
       "      <td>San Diego</td>\n",
       "      <td>PT</td>\n",
       "      <td>Elena</td>\n",
       "      <td>F</td>\n",
       "    </tr>\n",
       "    <tr>\n",
       "      <th>12601</th>\n",
       "      <td>Gary Xxxx</td>\n",
       "      <td>Police Officer</td>\n",
       "      <td>0.0</td>\n",
       "      <td>2.0</td>\n",
       "      <td>0.00</td>\n",
       "      <td>0.0</td>\n",
       "      <td>2.0</td>\n",
       "      <td>2.0</td>\n",
       "      <td>2020</td>\n",
       "      <td>NaN</td>\n",
       "      <td>San Diego</td>\n",
       "      <td>PT</td>\n",
       "      <td>Gary</td>\n",
       "      <td>M</td>\n",
       "    </tr>\n",
       "    <tr>\n",
       "      <th>12602</th>\n",
       "      <td>Sara Xxxx</td>\n",
       "      <td>Asst Planner</td>\n",
       "      <td>0.0</td>\n",
       "      <td>1.0</td>\n",
       "      <td>0.00</td>\n",
       "      <td>0.0</td>\n",
       "      <td>1.0</td>\n",
       "      <td>1.0</td>\n",
       "      <td>2020</td>\n",
       "      <td>NaN</td>\n",
       "      <td>San Diego</td>\n",
       "      <td>PT</td>\n",
       "      <td>Sara</td>\n",
       "      <td>F</td>\n",
       "    </tr>\n",
       "    <tr>\n",
       "      <th>12603</th>\n",
       "      <td>Kevin Xxxx</td>\n",
       "      <td>Project Ofcr 1</td>\n",
       "      <td>0.0</td>\n",
       "      <td>1.0</td>\n",
       "      <td>0.00</td>\n",
       "      <td>0.0</td>\n",
       "      <td>1.0</td>\n",
       "      <td>1.0</td>\n",
       "      <td>2020</td>\n",
       "      <td>NaN</td>\n",
       "      <td>San Diego</td>\n",
       "      <td>PT</td>\n",
       "      <td>Kevin</td>\n",
       "      <td>M</td>\n",
       "    </tr>\n",
       "    <tr>\n",
       "      <th>12604</th>\n",
       "      <td>Deedrick Xxxx</td>\n",
       "      <td>Utility Worker 2</td>\n",
       "      <td>0.0</td>\n",
       "      <td>0.0</td>\n",
       "      <td>1.00</td>\n",
       "      <td>0.0</td>\n",
       "      <td>1.0</td>\n",
       "      <td>1.0</td>\n",
       "      <td>2020</td>\n",
       "      <td>NaN</td>\n",
       "      <td>San Diego</td>\n",
       "      <td>PT</td>\n",
       "      <td>Deedrick</td>\n",
       "      <td>M</td>\n",
       "    </tr>\n",
       "  </tbody>\n",
       "</table>\n",
       "<p>12605 rows × 14 columns</p>\n",
       "</div>"
      ],
      "text/plain": [
       "       Employee Name                 Job Title  Base Pay  Overtime Pay  \\\n",
       "0       Michael Xxxx            Police Officer  117691.0      187290.0   \n",
       "1          Gary Xxxx            Police Officer  117691.0      160062.0   \n",
       "2          Eric Xxxx             Fire Engineer   35698.0      204462.0   \n",
       "3         Gregg Xxxx  Retirement Administrator  305000.0           0.0   \n",
       "4        Joseph Xxxx      Fire Battalion Chief   94451.0      157778.0   \n",
       "...              ...                       ...       ...           ...   \n",
       "12600     Elena Xxxx            Asst Eng-Civil       0.0           2.0   \n",
       "12601      Gary Xxxx            Police Officer       0.0           2.0   \n",
       "12602      Sara Xxxx              Asst Planner       0.0           1.0   \n",
       "12603     Kevin Xxxx            Project Ofcr 1       0.0           1.0   \n",
       "12604  Deedrick Xxxx          Utility Worker 2       0.0           0.0   \n",
       "\n",
       "      Other Pay  Benefits  Total Pay  Total Pay & Benefits  Year  Notes  \\\n",
       "0      13331.00   36380.0   318312.0              354692.0  2020    NaN   \n",
       "1      42946.00   31795.0   320699.0              352494.0  2020    NaN   \n",
       "2      69121.00   38362.0   309281.0              347643.0  2020    NaN   \n",
       "3      12814.00   24792.0   317814.0              342606.0  2020    NaN   \n",
       "4      48151.00   42096.0   300380.0              342476.0  2020    NaN   \n",
       "...         ...       ...        ...                   ...   ...    ...   \n",
       "12600      0.00       0.0        2.0                   2.0  2020    NaN   \n",
       "12601      0.00       0.0        2.0                   2.0  2020    NaN   \n",
       "12602      0.00       0.0        1.0                   1.0  2020    NaN   \n",
       "12603      0.00       0.0        1.0                   1.0  2020    NaN   \n",
       "12604      1.00       0.0        1.0                   1.0  2020    NaN   \n",
       "\n",
       "          Agency Status firstname gender  \n",
       "0      San Diego     FT   Michael      M  \n",
       "1      San Diego     FT      Gary      M  \n",
       "2      San Diego     PT      Eric      M  \n",
       "3      San Diego     FT     Gregg      M  \n",
       "4      San Diego     FT    Joseph      M  \n",
       "...          ...    ...       ...    ...  \n",
       "12600  San Diego     PT     Elena      F  \n",
       "12601  San Diego     PT      Gary      M  \n",
       "12602  San Diego     PT      Sara      F  \n",
       "12603  San Diego     PT     Kevin      M  \n",
       "12604  San Diego     PT  Deedrick      M  \n",
       "\n",
       "[12605 rows x 14 columns]"
      ]
     },
     "execution_count": 15,
     "metadata": {},
     "output_type": "execute_result"
    }
   ],
   "source": [
    "# Merge salaries and genders\n",
    "salaries_with_gender = salaries.merge(genders[['gender']], on='firstname', how='left')\n",
    "salaries_with_gender"
   ]
  },
  {
   "cell_type": "markdown",
   "id": "2333cd2a",
   "metadata": {
    "slideshow": {
     "slide_type": "slide"
    }
   },
   "source": [
    "### Predictions and Inference\n",
    "\n",
    "<center><img src=\"imgs/DSLC.png\" width=\"40%\"></center>"
   ]
  },
  {
   "cell_type": "markdown",
   "id": "888cecee",
   "metadata": {
    "slideshow": {
     "slide_type": "slide"
    }
   },
   "source": [
    "### Question: Does gender influence pay?\n",
    "\n",
    "This was our original question. Let's find out!"
   ]
  },
  {
   "cell_type": "code",
   "execution_count": 16,
   "id": "719bc011",
   "metadata": {},
   "outputs": [
    {
     "data": {
      "text/html": [
       "<div>\n",
       "<style scoped>\n",
       "    .dataframe tbody tr th:only-of-type {\n",
       "        vertical-align: middle;\n",
       "    }\n",
       "\n",
       "    .dataframe tbody tr th {\n",
       "        vertical-align: top;\n",
       "    }\n",
       "\n",
       "    .dataframe thead th {\n",
       "        text-align: right;\n",
       "    }\n",
       "</style>\n",
       "<table border=\"1\" class=\"dataframe\">\n",
       "  <thead>\n",
       "    <tr style=\"text-align: right;\">\n",
       "      <th></th>\n",
       "      <th>F</th>\n",
       "      <th>M</th>\n",
       "      <th>All</th>\n",
       "    </tr>\n",
       "  </thead>\n",
       "  <tbody>\n",
       "    <tr>\n",
       "      <th>count</th>\n",
       "      <td>4075.000000</td>\n",
       "      <td>8043.000000</td>\n",
       "      <td>12605.000000</td>\n",
       "    </tr>\n",
       "    <tr>\n",
       "      <th>mean</th>\n",
       "      <td>63865.752883</td>\n",
       "      <td>81297.593808</td>\n",
       "      <td>75181.321618</td>\n",
       "    </tr>\n",
       "    <tr>\n",
       "      <th>std</th>\n",
       "      <td>43497.853002</td>\n",
       "      <td>51567.740425</td>\n",
       "      <td>49634.174460</td>\n",
       "    </tr>\n",
       "    <tr>\n",
       "      <th>min</th>\n",
       "      <td>1.000000</td>\n",
       "      <td>0.000000</td>\n",
       "      <td>0.000000</td>\n",
       "    </tr>\n",
       "    <tr>\n",
       "      <th>25%</th>\n",
       "      <td>33084.000000</td>\n",
       "      <td>44900.000000</td>\n",
       "      <td>41177.000000</td>\n",
       "    </tr>\n",
       "    <tr>\n",
       "      <th>50%</th>\n",
       "      <td>59975.000000</td>\n",
       "      <td>77579.000000</td>\n",
       "      <td>71354.000000</td>\n",
       "    </tr>\n",
       "    <tr>\n",
       "      <th>75%</th>\n",
       "      <td>89854.000000</td>\n",
       "      <td>117374.500000</td>\n",
       "      <td>106903.000000</td>\n",
       "    </tr>\n",
       "    <tr>\n",
       "      <th>max</th>\n",
       "      <td>295904.000000</td>\n",
       "      <td>320699.000000</td>\n",
       "      <td>320699.000000</td>\n",
       "    </tr>\n",
       "  </tbody>\n",
       "</table>\n",
       "</div>"
      ],
      "text/plain": [
       "                   F              M            All\n",
       "count    4075.000000    8043.000000   12605.000000\n",
       "mean    63865.752883   81297.593808   75181.321618\n",
       "std     43497.853002   51567.740425   49634.174460\n",
       "min         1.000000       0.000000       0.000000\n",
       "25%     33084.000000   44900.000000   41177.000000\n",
       "50%     59975.000000   77579.000000   71354.000000\n",
       "75%     89854.000000  117374.500000  106903.000000\n",
       "max    295904.000000  320699.000000  320699.000000"
      ]
     },
     "execution_count": 16,
     "metadata": {},
     "output_type": "execute_result"
    }
   ],
   "source": [
    "pd.concat([\n",
    "    salaries_with_gender.groupby('gender')['Total Pay'].describe().T,\n",
    "    salaries_with_gender['Total Pay'].describe().rename('All')\n",
    "], axis=1)"
   ]
  },
  {
   "cell_type": "markdown",
   "id": "b4fb8811",
   "metadata": {
    "slideshow": {
     "slide_type": "fragment"
    }
   },
   "source": [
    "- Unfortunately, there's a fairly large difference between the mean salaries of male employees and female employees.\n",
    "- A similar difference also exists for the median.\n",
    "- Can this difference be explained by random chance?"
   ]
  },
  {
   "cell_type": "markdown",
   "id": "29ece634",
   "metadata": {
    "slideshow": {
     "slide_type": "slide"
    }
   },
   "source": [
    "### A hypothesis test"
   ]
  },
  {
   "cell_type": "markdown",
   "id": "9056a693",
   "metadata": {},
   "source": [
    "- **Null Hypothesis:** Gender is independent of salary, and any observed differences are due to random chance.\n",
    "- **Alternate Hypothesis:** Gender is not independent of salary. Female employees earn less than male employees."
   ]
  },
  {
   "cell_type": "code",
   "execution_count": 17,
   "id": "a5b91ec2",
   "metadata": {
    "slideshow": {
     "slide_type": "fragment"
    }
   },
   "outputs": [
    {
     "data": {
      "text/plain": [
       "4075"
      ]
     },
     "execution_count": 17,
     "metadata": {},
     "output_type": "execute_result"
    }
   ],
   "source": [
    "n_female = np.count_nonzero(salaries_with_gender['gender'] == 'F')\n",
    "n_female"
   ]
  },
  {
   "cell_type": "markdown",
   "id": "c1fac20d",
   "metadata": {
    "slideshow": {
     "slide_type": "fragment"
    }
   },
   "source": [
    "**Strategy:** \n",
    "- Randomly select 4075 employees from `salaries_with_gender` and compute their median salary.\n",
    "- Repeat this many times.\n",
    "- See where the observed median salary of female employees lies in this empirical distribution."
   ]
  },
  {
   "cell_type": "markdown",
   "id": "36856a35",
   "metadata": {
    "slideshow": {
     "slide_type": "slide"
    }
   },
   "source": [
    "### Running the hypothesis test"
   ]
  },
  {
   "cell_type": "code",
   "execution_count": 18,
   "id": "db38ecee",
   "metadata": {
    "scrolled": false
   },
   "outputs": [
    {
     "data": {
      "text/plain": [
       "array([72522., 72362., 71182., 70982., 70166., 70880., 71321., 71511.,\n",
       "       70255., 72528.])"
      ]
     },
     "execution_count": 18,
     "metadata": {},
     "output_type": "execute_result"
    }
   ],
   "source": [
    "# Observed statistic\n",
    "female_median = salaries_with_gender.loc[salaries_with_gender['gender'] == 'F']['Total Pay'].median()\n",
    "\n",
    "# Simulate 1000 samples of size n_female from the population\n",
    "medians = np.array([])\n",
    "for _ in np.arange(1000):\n",
    "    median = salaries_with_gender.sample(n_female)['Total Pay'].median()\n",
    "    medians = np.append(medians, median)\n",
    "\n",
    "medians[:10]"
   ]
  },
  {
   "cell_type": "code",
   "execution_count": 19,
   "id": "cf1464f7",
   "metadata": {},
   "outputs": [
    {
     "data": {
      "image/png": "[encoded data removed]",
      "text/plain": [
       "<Figure size 720x360 with 1 Axes>"
      ]
     },
     "metadata": {
      "needs_background": "light"
     },
     "output_type": "display_data"
    }
   ],
   "source": [
    "title='Median salary of randomly chosen groups from population'\n",
    "pd.Series(medians).plot(kind='hist', density=True, ec='w', title=title);\n",
    "plt.axvline(x=female_median, color='red')\n",
    "plt.legend(['Observed Median Salary of Female Employees', 'Median Salaries of Random Groups']);"
   ]
  },
  {
   "cell_type": "markdown",
   "id": "4c1915e9",
   "metadata": {
    "slideshow": {
     "slide_type": "fragment"
    }
   },
   "source": [
    "- Our hypothesis test has a p-value of 0, so we reject the null.\n",
    "    - Under the assumption that gender is independent of salary, the chance of seeing a median salary this low is essentially 0."
   ]
  },
  {
   "cell_type": "markdown",
   "id": "27d0e657",
   "metadata": {
    "slideshow": {
     "slide_type": "slide"
    }
   },
   "source": [
    "<center><img src=\"imgs/DSLC.png\" width=\"40%\"></center>"
   ]
  },
  {
   "cell_type": "markdown",
   "id": "a292d9e8",
   "metadata": {
    "slideshow": {
     "slide_type": "slide"
    }
   },
   "source": [
    "### Even more questions...\n",
    "\n",
    "While trying to answer one question, many more popped up.\n",
    "\n",
    "* Is our dataset representative of all San Diego employees?\n",
    "* How reliable is our name-to-gender assignment?\n",
    "* How reliable is our join between `salaries` and `names`?\n",
    "* Is the pay disparity between genders correlated to pay-type? Job status? Job type?\n",
    "* What is the **cause** of the disparity?"
   ]
  },
  {
   "cell_type": "markdown",
   "id": "34b2db87",
   "metadata": {
    "slideshow": {
     "slide_type": "slide"
    }
   },
   "source": [
    "### Is our dataset representative of all San Diego employees?\n",
    "\n",
    "- In this case, yes – the dataset we downloaded from [Transparent California](https://transparentcalifornia.com/salaries/san-diego/) is a **census**, meaning that it accounts for all members of the population.\n",
    "- But perhaps `'Total Pay'` is not the most relevant column, as it may include reimbursements that are separate from take-home pay (e.g. gas for driving a car)."
   ]
  },
  {
   "cell_type": "markdown",
   "id": "2c4b5b09",
   "metadata": {
    "slideshow": {
     "slide_type": "slide"
    }
   },
   "source": [
    "### How reliable is our join between `salaries` and `names`?\n",
    "* Are there names in the salaries dataset that aren't in the SSA dataset?\n",
    "    - Who might not be in the SSA dataset? \n",
    "    - Could individuals with those names be biased towards certain salaries?\n",
    "* Does the salaries dataset have a disproportionately large portion of unisex names?\n",
    "* Is it better to use a subset of the SSA dataset (e.g. by state?)\n",
    "    - Do the gender of names typically vary by geography?"
   ]
  },
  {
   "cell_type": "markdown",
   "id": "3b1722f1",
   "metadata": {
    "slideshow": {
     "slide_type": "slide"
    }
   },
   "source": [
    "### How reliable is our join between `salaries` and `names`?"
   ]
  },
  {
   "cell_type": "code",
   "execution_count": 20,
   "id": "82d46b5d",
   "metadata": {},
   "outputs": [
    {
     "data": {
      "text/html": [
       "<div>\n",
       "<style scoped>\n",
       "    .dataframe tbody tr th:only-of-type {\n",
       "        vertical-align: middle;\n",
       "    }\n",
       "\n",
       "    .dataframe tbody tr th {\n",
       "        vertical-align: top;\n",
       "    }\n",
       "\n",
       "    .dataframe thead th {\n",
       "        text-align: right;\n",
       "    }\n",
       "</style>\n",
       "<table border=\"1\" class=\"dataframe\">\n",
       "  <thead>\n",
       "    <tr style=\"text-align: right;\">\n",
       "      <th></th>\n",
       "      <th>Employee Name</th>\n",
       "      <th>Job Title</th>\n",
       "      <th>Base Pay</th>\n",
       "      <th>Overtime Pay</th>\n",
       "      <th>Other Pay</th>\n",
       "      <th>Benefits</th>\n",
       "      <th>Total Pay</th>\n",
       "      <th>Total Pay &amp; Benefits</th>\n",
       "      <th>Year</th>\n",
       "      <th>Notes</th>\n",
       "      <th>Agency</th>\n",
       "      <th>Status</th>\n",
       "      <th>firstname</th>\n",
       "      <th>gender</th>\n",
       "    </tr>\n",
       "  </thead>\n",
       "  <tbody>\n",
       "    <tr>\n",
       "      <th>23</th>\n",
       "      <td>Almis Xxxx</td>\n",
       "      <td>Asst Chief Oper Ofcr</td>\n",
       "      <td>201773.0</td>\n",
       "      <td>0.0</td>\n",
       "      <td>54824.00</td>\n",
       "      <td>33373.0</td>\n",
       "      <td>256597.0</td>\n",
       "      <td>289970.0</td>\n",
       "      <td>2020</td>\n",
       "      <td>NaN</td>\n",
       "      <td>San Diego</td>\n",
       "      <td>FT</td>\n",
       "      <td>Almis</td>\n",
       "      <td>NaN</td>\n",
       "    </tr>\n",
       "    <tr>\n",
       "      <th>40</th>\n",
       "      <td>Devinda Xxxx</td>\n",
       "      <td>Fire Battalion Chief</td>\n",
       "      <td>71905.0</td>\n",
       "      <td>133385.0</td>\n",
       "      <td>19829.00</td>\n",
       "      <td>42743.0</td>\n",
       "      <td>225119.0</td>\n",
       "      <td>267862.0</td>\n",
       "      <td>2020</td>\n",
       "      <td>NaN</td>\n",
       "      <td>San Diego</td>\n",
       "      <td>PT</td>\n",
       "      <td>Devinda</td>\n",
       "      <td>NaN</td>\n",
       "    </tr>\n",
       "    <tr>\n",
       "      <th>113</th>\n",
       "      <td>Teophilson Xxxx</td>\n",
       "      <td>Police Officer</td>\n",
       "      <td>117691.0</td>\n",
       "      <td>69222.0</td>\n",
       "      <td>32135.00</td>\n",
       "      <td>26281.0</td>\n",
       "      <td>219048.0</td>\n",
       "      <td>245329.0</td>\n",
       "      <td>2020</td>\n",
       "      <td>NaN</td>\n",
       "      <td>San Diego</td>\n",
       "      <td>FT</td>\n",
       "      <td>Teophilson</td>\n",
       "      <td>NaN</td>\n",
       "    </tr>\n",
       "    <tr>\n",
       "      <th>153</th>\n",
       "      <td>Tevar Xxxx</td>\n",
       "      <td>Police Officer</td>\n",
       "      <td>91773.0</td>\n",
       "      <td>88703.0</td>\n",
       "      <td>26850.00</td>\n",
       "      <td>27868.0</td>\n",
       "      <td>207326.0</td>\n",
       "      <td>235194.0</td>\n",
       "      <td>2020</td>\n",
       "      <td>NaN</td>\n",
       "      <td>San Diego</td>\n",
       "      <td>FT</td>\n",
       "      <td>Tevar</td>\n",
       "      <td>NaN</td>\n",
       "    </tr>\n",
       "    <tr>\n",
       "      <th>154</th>\n",
       "      <td>Junar Xxxx</td>\n",
       "      <td>Police Officer</td>\n",
       "      <td>36112.0</td>\n",
       "      <td>72625.0</td>\n",
       "      <td>101272.00</td>\n",
       "      <td>25179.0</td>\n",
       "      <td>210009.0</td>\n",
       "      <td>235188.0</td>\n",
       "      <td>2020</td>\n",
       "      <td>NaN</td>\n",
       "      <td>San Diego</td>\n",
       "      <td>PT</td>\n",
       "      <td>Junar</td>\n",
       "      <td>NaN</td>\n",
       "    </tr>\n",
       "    <tr>\n",
       "      <th>...</th>\n",
       "      <td>...</td>\n",
       "      <td>...</td>\n",
       "      <td>...</td>\n",
       "      <td>...</td>\n",
       "      <td>...</td>\n",
       "      <td>...</td>\n",
       "      <td>...</td>\n",
       "      <td>...</td>\n",
       "      <td>...</td>\n",
       "      <td>...</td>\n",
       "      <td>...</td>\n",
       "      <td>...</td>\n",
       "      <td>...</td>\n",
       "      <td>...</td>\n",
       "    </tr>\n",
       "    <tr>\n",
       "      <th>12510</th>\n",
       "      <td>A Xxxx</td>\n",
       "      <td>Sanitation Driver 2</td>\n",
       "      <td>0.0</td>\n",
       "      <td>90.0</td>\n",
       "      <td>0.00</td>\n",
       "      <td>8.0</td>\n",
       "      <td>90.0</td>\n",
       "      <td>98.0</td>\n",
       "      <td>2020</td>\n",
       "      <td>NaN</td>\n",
       "      <td>San Diego</td>\n",
       "      <td>PT</td>\n",
       "      <td>A</td>\n",
       "      <td>NaN</td>\n",
       "    </tr>\n",
       "    <tr>\n",
       "      <th>12513</th>\n",
       "      <td>Ventice Xxxx</td>\n",
       "      <td>Plant Tech 3</td>\n",
       "      <td>0.0</td>\n",
       "      <td>90.0</td>\n",
       "      <td>0.00</td>\n",
       "      <td>5.0</td>\n",
       "      <td>90.0</td>\n",
       "      <td>95.0</td>\n",
       "      <td>2020</td>\n",
       "      <td>NaN</td>\n",
       "      <td>San Diego</td>\n",
       "      <td>PT</td>\n",
       "      <td>Ventice</td>\n",
       "      <td>NaN</td>\n",
       "    </tr>\n",
       "    <tr>\n",
       "      <th>12578</th>\n",
       "      <td>Anniessa Xxxx</td>\n",
       "      <td>Dispatcher 2</td>\n",
       "      <td>0.0</td>\n",
       "      <td>17.0</td>\n",
       "      <td>0.00</td>\n",
       "      <td>1.0</td>\n",
       "      <td>17.0</td>\n",
       "      <td>18.0</td>\n",
       "      <td>2020</td>\n",
       "      <td>NaN</td>\n",
       "      <td>San Diego</td>\n",
       "      <td>PT</td>\n",
       "      <td>Anniessa</td>\n",
       "      <td>NaN</td>\n",
       "    </tr>\n",
       "    <tr>\n",
       "      <th>12582</th>\n",
       "      <td>Navareto Xxxx</td>\n",
       "      <td>Plant Procs Cntrl Electrician</td>\n",
       "      <td>0.0</td>\n",
       "      <td>15.0</td>\n",
       "      <td>0.00</td>\n",
       "      <td>1.0</td>\n",
       "      <td>15.0</td>\n",
       "      <td>16.0</td>\n",
       "      <td>2020</td>\n",
       "      <td>NaN</td>\n",
       "      <td>San Diego</td>\n",
       "      <td>PT</td>\n",
       "      <td>Navareto</td>\n",
       "      <td>NaN</td>\n",
       "    </tr>\n",
       "    <tr>\n",
       "      <th>12598</th>\n",
       "      <td>Tien-Hsiang Xxxx</td>\n",
       "      <td>Plant Tech 2</td>\n",
       "      <td>0.0</td>\n",
       "      <td>4.0</td>\n",
       "      <td>0.00</td>\n",
       "      <td>0.0</td>\n",
       "      <td>4.0</td>\n",
       "      <td>4.0</td>\n",
       "      <td>2020</td>\n",
       "      <td>NaN</td>\n",
       "      <td>San Diego</td>\n",
       "      <td>PT</td>\n",
       "      <td>Tien-Hsiang</td>\n",
       "      <td>NaN</td>\n",
       "    </tr>\n",
       "  </tbody>\n",
       "</table>\n",
       "<p>487 rows × 14 columns</p>\n",
       "</div>"
      ],
      "text/plain": [
       "          Employee Name                      Job Title  Base Pay  \\\n",
       "23           Almis Xxxx           Asst Chief Oper Ofcr  201773.0   \n",
       "40         Devinda Xxxx           Fire Battalion Chief   71905.0   \n",
       "113     Teophilson Xxxx                 Police Officer  117691.0   \n",
       "153          Tevar Xxxx                 Police Officer   91773.0   \n",
       "154          Junar Xxxx                 Police Officer   36112.0   \n",
       "...                 ...                            ...       ...   \n",
       "12510            A Xxxx            Sanitation Driver 2       0.0   \n",
       "12513      Ventice Xxxx                   Plant Tech 3       0.0   \n",
       "12578     Anniessa Xxxx                   Dispatcher 2       0.0   \n",
       "12582     Navareto Xxxx  Plant Procs Cntrl Electrician       0.0   \n",
       "12598  Tien-Hsiang Xxxx                   Plant Tech 2       0.0   \n",
       "\n",
       "       Overtime Pay  Other Pay  Benefits  Total Pay  Total Pay & Benefits  \\\n",
       "23              0.0   54824.00   33373.0   256597.0              289970.0   \n",
       "40         133385.0   19829.00   42743.0   225119.0              267862.0   \n",
       "113         69222.0   32135.00   26281.0   219048.0              245329.0   \n",
       "153         88703.0   26850.00   27868.0   207326.0              235194.0   \n",
       "154         72625.0  101272.00   25179.0   210009.0              235188.0   \n",
       "...             ...        ...       ...        ...                   ...   \n",
       "12510          90.0       0.00       8.0       90.0                  98.0   \n",
       "12513          90.0       0.00       5.0       90.0                  95.0   \n",
       "12578          17.0       0.00       1.0       17.0                  18.0   \n",
       "12582          15.0       0.00       1.0       15.0                  16.0   \n",
       "12598           4.0       0.00       0.0        4.0                   4.0   \n",
       "\n",
       "       Year  Notes     Agency Status    firstname gender  \n",
       "23     2020    NaN  San Diego     FT        Almis    NaN  \n",
       "40     2020    NaN  San Diego     PT      Devinda    NaN  \n",
       "113    2020    NaN  San Diego     FT   Teophilson    NaN  \n",
       "153    2020    NaN  San Diego     FT        Tevar    NaN  \n",
       "154    2020    NaN  San Diego     PT        Junar    NaN  \n",
       "...     ...    ...        ...    ...          ...    ...  \n",
       "12510  2020    NaN  San Diego     PT            A    NaN  \n",
       "12513  2020    NaN  San Diego     PT      Ventice    NaN  \n",
       "12578  2020    NaN  San Diego     PT     Anniessa    NaN  \n",
       "12582  2020    NaN  San Diego     PT     Navareto    NaN  \n",
       "12598  2020    NaN  San Diego     PT  Tien-Hsiang    NaN  \n",
       "\n",
       "[487 rows x 14 columns]"
      ]
     },
     "execution_count": 20,
     "metadata": {},
     "output_type": "execute_result"
    }
   ],
   "source": [
    "salaries_with_gender[salaries_with_gender['gender'].isnull()]"
   ]
  },
  {
   "cell_type": "code",
   "execution_count": 21,
   "id": "97bbc251",
   "metadata": {},
   "outputs": [
    {
     "data": {
      "text/plain": [
       "0.03863546211820706"
      ]
     },
     "execution_count": 21,
     "metadata": {},
     "output_type": "execute_result"
    }
   ],
   "source": [
    "# Proportion of employees whose names aren't in SSA dataset\n",
    "salaries_with_gender['gender'].isnull().mean()"
   ]
  },
  {
   "cell_type": "code",
   "execution_count": 22,
   "id": "2a3ce9f7",
   "metadata": {
    "scrolled": false
   },
   "outputs": [
    {
     "data": {
      "text/html": [
       "<div>\n",
       "<style scoped>\n",
       "    .dataframe tbody tr th:only-of-type {\n",
       "        vertical-align: middle;\n",
       "    }\n",
       "\n",
       "    .dataframe tbody tr th {\n",
       "        vertical-align: top;\n",
       "    }\n",
       "\n",
       "    .dataframe thead th {\n",
       "        text-align: right;\n",
       "    }\n",
       "</style>\n",
       "<table border=\"1\" class=\"dataframe\">\n",
       "  <thead>\n",
       "    <tr style=\"text-align: right;\">\n",
       "      <th>joined</th>\n",
       "      <th>False</th>\n",
       "      <th>True</th>\n",
       "    </tr>\n",
       "  </thead>\n",
       "  <tbody>\n",
       "    <tr>\n",
       "      <th>count</th>\n",
       "      <td>487.000000</td>\n",
       "      <td>12118.000000</td>\n",
       "    </tr>\n",
       "    <tr>\n",
       "      <th>mean</th>\n",
       "      <td>68852.297741</td>\n",
       "      <td>75435.673378</td>\n",
       "    </tr>\n",
       "    <tr>\n",
       "      <th>std</th>\n",
       "      <td>47890.354528</td>\n",
       "      <td>49688.037713</td>\n",
       "    </tr>\n",
       "    <tr>\n",
       "      <th>min</th>\n",
       "      <td>4.000000</td>\n",
       "      <td>0.000000</td>\n",
       "    </tr>\n",
       "    <tr>\n",
       "      <th>25%</th>\n",
       "      <td>36723.500000</td>\n",
       "      <td>41348.250000</td>\n",
       "    </tr>\n",
       "    <tr>\n",
       "      <th>50%</th>\n",
       "      <td>63341.000000</td>\n",
       "      <td>71513.000000</td>\n",
       "    </tr>\n",
       "    <tr>\n",
       "      <th>75%</th>\n",
       "      <td>96587.000000</td>\n",
       "      <td>107389.250000</td>\n",
       "    </tr>\n",
       "    <tr>\n",
       "      <th>max</th>\n",
       "      <td>256597.000000</td>\n",
       "      <td>320699.000000</td>\n",
       "    </tr>\n",
       "  </tbody>\n",
       "</table>\n",
       "</div>"
      ],
      "text/plain": [
       "joined          False           True\n",
       "count      487.000000   12118.000000\n",
       "mean     68852.297741   75435.673378\n",
       "std      47890.354528   49688.037713\n",
       "min          4.000000       0.000000\n",
       "25%      36723.500000   41348.250000\n",
       "50%      63341.000000   71513.000000\n",
       "75%      96587.000000  107389.250000\n",
       "max     256597.000000  320699.000000"
      ]
     },
     "execution_count": 22,
     "metadata": {},
     "output_type": "execute_result"
    }
   ],
   "source": [
    "# Description of total pay by joined vs. not joined\n",
    "(\n",
    "    salaries_with_gender\n",
    "    .assign(joined=salaries_with_gender['gender'].notnull())\n",
    "    .groupby('joined')['Total Pay']\n",
    "    .describe()\n",
    "    .T\n",
    ")"
   ]
  },
  {
   "cell_type": "code",
   "execution_count": 23,
   "id": "34215705",
   "metadata": {
    "scrolled": false
   },
   "outputs": [
    {
     "data": {
      "image/png": "[encoded data removed]",
      "text/plain": [
       "<Figure size 720x360 with 1 Axes>"
      ]
     },
     "metadata": {
      "needs_background": "light"
     },
     "output_type": "display_data"
    }
   ],
   "source": [
    "nonjoins = salaries_with_gender.loc[salaries_with_gender['gender'].isnull()]\n",
    "\n",
    "title = 'Distribution of Salaries'\n",
    "nonjoins['Total Pay'].plot(kind='hist', bins=np.arange(0, 320000, 10000), alpha=0.5, density=True, sharex=True)\n",
    "salaries_with_gender['Total Pay'].plot(kind='hist', bins=np.arange(0, 320000, 10000), alpha=0.5, density=True, sharex=True, title=title)\n",
    "plt.legend(['Not in SSA','All']);"
   ]
  },
  {
   "cell_type": "markdown",
   "id": "636c39c0",
   "metadata": {
    "slideshow": {
     "slide_type": "slide"
    }
   },
   "source": [
    "### How reliable is our join between `salaries` and `names`?\n",
    "\n",
    "**Lesson:** joining to another dataset can bias your sample! "
   ]
  },
  {
   "cell_type": "markdown",
   "id": "018d58fd",
   "metadata": {
    "slideshow": {
     "slide_type": "slide"
    }
   },
   "source": [
    "## Introduction to `pandas`"
   ]
  },
  {
   "cell_type": "markdown",
   "id": "420e9507",
   "metadata": {
    "slideshow": {
     "slide_type": "slide"
    }
   },
   "source": [
    "<center><img src='imgs/babypanda.jpg' width=400></center>"
   ]
  },
  {
   "cell_type": "markdown",
   "id": "8412e023",
   "metadata": {
    "slideshow": {
     "slide_type": "slide"
    }
   },
   "source": [
    "<center><img src='imgs/angrypanda.jpg' width=600></center>"
   ]
  },
  {
   "cell_type": "markdown",
   "id": "a7137020",
   "metadata": {
    "slideshow": {
     "slide_type": "slide"
    }
   },
   "source": [
    "### `pandas`\n",
    "\n",
    "<center><img src='imgs/pandas.png' width=200></center>\n",
    "\n",
    "- `pandas` is **the** Python library for tabular data manipulation.\n",
    "- Before `pandas` was developed, the standard data science workflow involved using multiple languages (Python, R, Java) in a single project.\n",
    "- Wes McKinney, the original developer of `pandas`, wanted a library which would allow everything to be done in Python.\n",
    "    - Python is faster to develop in than Java, and is more production-capable than R."
   ]
  },
  {
   "cell_type": "markdown",
   "id": "d7a959a3",
   "metadata": {
    "slideshow": {
     "slide_type": "slide"
    }
   },
   "source": [
    "### `pandas` data structures\n",
    "\n",
    "There are three key data structures at the core of `pandas`:\n",
    "- DataFrame: 2 dimensional tables.\n",
    "- Series: 1 dimensional (columnar) array.\n",
    "- Index: immutable sequence of column/row labels.\n",
    "\n",
    "<center><img src='imgs/example-df.png' width=600></center>"
   ]
  },
  {
   "cell_type": "markdown",
   "id": "1129f156",
   "metadata": {
    "slideshow": {
     "slide_type": "slide"
    }
   },
   "source": [
    "### Importing `pandas` and related libraries\n",
    "\n",
    "We've already run this at the top of the notebook, so we won't repeat it here. But `pandas` is almost always imported in conjunction with `numpy`:\n",
    "\n",
    "```py\n",
    "import pandas as pd\n",
    "import numpy as np\n",
    "```"
   ]
  },
  {
   "cell_type": "markdown",
   "id": "b20bbfb0",
   "metadata": {
    "slideshow": {
     "slide_type": "slide"
    }
   },
   "source": [
    "### Series are \"slices\"\n",
    "* Rows and columns of DataFrame are stored as `pd.Series`.\n",
    "* A `pd.Series` object is a one-dimensional sequence with labels (index)."
   ]
  },
  {
   "cell_type": "code",
   "execution_count": 24,
   "id": "abede254",
   "metadata": {},
   "outputs": [
    {
     "data": {
      "text/html": [
       "<div>\n",
       "<style scoped>\n",
       "    .dataframe tbody tr th:only-of-type {\n",
       "        vertical-align: middle;\n",
       "    }\n",
       "\n",
       "    .dataframe tbody tr th {\n",
       "        vertical-align: top;\n",
       "    }\n",
       "\n",
       "    .dataframe thead th {\n",
       "        text-align: right;\n",
       "    }\n",
       "</style>\n",
       "<table border=\"1\" class=\"dataframe\">\n",
       "  <thead>\n",
       "    <tr style=\"text-align: right;\">\n",
       "      <th></th>\n",
       "      <th>firstname</th>\n",
       "      <th>gender</th>\n",
       "      <th>count</th>\n",
       "      <th>year</th>\n",
       "    </tr>\n",
       "  </thead>\n",
       "  <tbody>\n",
       "    <tr>\n",
       "      <th>0</th>\n",
       "      <td>Jennifer</td>\n",
       "      <td>F</td>\n",
       "      <td>56780</td>\n",
       "      <td>1971</td>\n",
       "    </tr>\n",
       "    <tr>\n",
       "      <th>1</th>\n",
       "      <td>Michelle</td>\n",
       "      <td>F</td>\n",
       "      <td>33161</td>\n",
       "      <td>1971</td>\n",
       "    </tr>\n",
       "    <tr>\n",
       "      <th>2</th>\n",
       "      <td>Lisa</td>\n",
       "      <td>F</td>\n",
       "      <td>32911</td>\n",
       "      <td>1971</td>\n",
       "    </tr>\n",
       "    <tr>\n",
       "      <th>3</th>\n",
       "      <td>Kimberly</td>\n",
       "      <td>F</td>\n",
       "      <td>30700</td>\n",
       "      <td>1971</td>\n",
       "    </tr>\n",
       "    <tr>\n",
       "      <th>4</th>\n",
       "      <td>Amy</td>\n",
       "      <td>F</td>\n",
       "      <td>26237</td>\n",
       "      <td>1971</td>\n",
       "    </tr>\n",
       "    <tr>\n",
       "      <th>...</th>\n",
       "      <td>...</td>\n",
       "      <td>...</td>\n",
       "      <td>...</td>\n",
       "      <td>...</td>\n",
       "    </tr>\n",
       "    <tr>\n",
       "      <th>19695</th>\n",
       "      <td>Zaki</td>\n",
       "      <td>M</td>\n",
       "      <td>5</td>\n",
       "      <td>1982</td>\n",
       "    </tr>\n",
       "    <tr>\n",
       "      <th>19696</th>\n",
       "      <td>Zebulin</td>\n",
       "      <td>M</td>\n",
       "      <td>5</td>\n",
       "      <td>1982</td>\n",
       "    </tr>\n",
       "    <tr>\n",
       "      <th>19697</th>\n",
       "      <td>Zedekiah</td>\n",
       "      <td>M</td>\n",
       "      <td>5</td>\n",
       "      <td>1982</td>\n",
       "    </tr>\n",
       "    <tr>\n",
       "      <th>19698</th>\n",
       "      <td>Zubin</td>\n",
       "      <td>M</td>\n",
       "      <td>5</td>\n",
       "      <td>1982</td>\n",
       "    </tr>\n",
       "    <tr>\n",
       "      <th>19699</th>\n",
       "      <td>Zuriel</td>\n",
       "      <td>M</td>\n",
       "      <td>5</td>\n",
       "      <td>1982</td>\n",
       "    </tr>\n",
       "  </tbody>\n",
       "</table>\n",
       "<p>1399746 rows × 4 columns</p>\n",
       "</div>"
      ],
      "text/plain": [
       "      firstname gender  count  year\n",
       "0      Jennifer      F  56780  1971\n",
       "1      Michelle      F  33161  1971\n",
       "2          Lisa      F  32911  1971\n",
       "3      Kimberly      F  30700  1971\n",
       "4           Amy      F  26237  1971\n",
       "...         ...    ...    ...   ...\n",
       "19695      Zaki      M      5  1982\n",
       "19696   Zebulin      M      5  1982\n",
       "19697  Zedekiah      M      5  1982\n",
       "19698     Zubin      M      5  1982\n",
       "19699    Zuriel      M      5  1982\n",
       "\n",
       "[1399746 rows x 4 columns]"
      ]
     },
     "execution_count": 24,
     "metadata": {},
     "output_type": "execute_result"
    }
   ],
   "source": [
    "names"
   ]
  },
  {
   "cell_type": "code",
   "execution_count": 25,
   "id": "73cd03dc",
   "metadata": {},
   "outputs": [
    {
     "data": {
      "text/plain": [
       "0        Jennifer\n",
       "1        Michelle\n",
       "2            Lisa\n",
       "3        Kimberly\n",
       "4             Amy\n",
       "           ...   \n",
       "19695        Zaki\n",
       "19696     Zebulin\n",
       "19697    Zedekiah\n",
       "19698       Zubin\n",
       "19699      Zuriel\n",
       "Name: firstname, Length: 1399746, dtype: object"
      ]
     },
     "execution_count": 25,
     "metadata": {},
     "output_type": "execute_result"
    }
   ],
   "source": [
    "names['firstname']"
   ]
  },
  {
   "cell_type": "code",
   "execution_count": 26,
   "id": "73afd911",
   "metadata": {},
   "outputs": [
    {
     "data": {
      "text/plain": [
       "firstname    Kimberly\n",
       "gender              F\n",
       "count           30700\n",
       "year             1971\n",
       "Name: 3, dtype: object"
      ]
     },
     "execution_count": 26,
     "metadata": {},
     "output_type": "execute_result"
    }
   ],
   "source": [
    "names.iloc[3]"
   ]
  },
  {
   "cell_type": "markdown",
   "id": "da2c9f40",
   "metadata": {
    "slideshow": {
     "slide_type": "slide"
    }
   },
   "source": [
    "### Initializing a Series\n",
    "\n",
    "- The function `pd.Series` can create a new Series, given either an existing sequence or dictionary.\n",
    "- By default, the index will be set to 0, 1, 2, 3,... and the Series will have no \"name\".\n",
    "    - You can use optional `index` and `name` arguments to change this behavior."
   ]
  },
  {
   "cell_type": "code",
   "execution_count": 27,
   "id": "9d3ad409",
   "metadata": {},
   "outputs": [
    {
     "data": {
      "text/plain": [
       "0    10\n",
       "1    23\n",
       "2    45\n",
       "3    53\n",
       "4    87\n",
       "dtype: int64"
      ]
     },
     "execution_count": 27,
     "metadata": {},
     "output_type": "execute_result"
    }
   ],
   "source": [
    "pd.Series([10, 23, 45, 53, 87])"
   ]
  },
  {
   "cell_type": "code",
   "execution_count": 28,
   "id": "bcba687a",
   "metadata": {},
   "outputs": [
    {
     "data": {
      "text/plain": [
       "a    10\n",
       "b    23\n",
       "c    45\n",
       "d    53\n",
       "e    87\n",
       "Name: people, dtype: int64"
      ]
     },
     "execution_count": 28,
     "metadata": {},
     "output_type": "execute_result"
    }
   ],
   "source": [
    "pd.Series({'a': 10, 'b': 23, 'c': 45, 'd': 53, 'e': 87}, name='people')"
   ]
  },
  {
   "cell_type": "markdown",
   "id": "8ccc93c1",
   "metadata": {
    "slideshow": {
     "slide_type": "slide"
    }
   },
   "source": [
    "### Initializing a DataFrame\n",
    "\n",
    "* `pd.DataFrame` initializes a DataFrame using either: \n",
    "    - a list of rows, or\n",
    "    - a dictionary of columns.\n",
    "* There are various optional arguments: `index`, `columns`, `dtype`, etc.\n",
    "    - To see the signature of a function `f`, run `f?` in a cell (e.g. `pd.DataFrame?`)."
   ]
  },
  {
   "cell_type": "code",
   "execution_count": 29,
   "id": "4d5ada48",
   "metadata": {},
   "outputs": [],
   "source": [
    "pd.DataFrame?"
   ]
  },
  {
   "cell_type": "markdown",
   "id": "39af1580",
   "metadata": {
    "slideshow": {
     "slide_type": "slide"
    }
   },
   "source": [
    "### Method 1: Using a list of rows"
   ]
  },
  {
   "cell_type": "code",
   "execution_count": 30,
   "id": "829ca325",
   "metadata": {},
   "outputs": [
    {
     "data": {
      "text/plain": [
       "[['Granger, Hermione', 'A13245986', 1],\n",
       " ['Potter, Harry', 'A17645384', 1],\n",
       " ['Weasley, Ron', 'A32438694', 1],\n",
       " ['Longbottom, Neville', 'A52342436', 1]]"
      ]
     },
     "execution_count": 30,
     "metadata": {},
     "output_type": "execute_result"
    }
   ],
   "source": [
    "row_data = [\n",
    "    ['Granger, Hermione', 'A13245986', 1],\n",
    "    ['Potter, Harry', 'A17645384', 1],\n",
    "    ['Weasley, Ron', 'A32438694', 1],\n",
    "    ['Longbottom, Neville', 'A52342436', 1]\n",
    "]\n",
    "\n",
    "row_data"
   ]
  },
  {
   "cell_type": "markdown",
   "id": "9accebc1",
   "metadata": {},
   "source": [
    "By default, the column names are set to 0, 1, 2, ..."
   ]
  },
  {
   "cell_type": "code",
   "execution_count": 31,
   "id": "2b9786df",
   "metadata": {},
   "outputs": [
    {
     "data": {
      "text/html": [
       "<div>\n",
       "<style scoped>\n",
       "    .dataframe tbody tr th:only-of-type {\n",
       "        vertical-align: middle;\n",
       "    }\n",
       "\n",
       "    .dataframe tbody tr th {\n",
       "        vertical-align: top;\n",
       "    }\n",
       "\n",
       "    .dataframe thead th {\n",
       "        text-align: right;\n",
       "    }\n",
       "</style>\n",
       "<table border=\"1\" class=\"dataframe\">\n",
       "  <thead>\n",
       "    <tr style=\"text-align: right;\">\n",
       "      <th></th>\n",
       "      <th>0</th>\n",
       "      <th>1</th>\n",
       "      <th>2</th>\n",
       "    </tr>\n",
       "  </thead>\n",
       "  <tbody>\n",
       "    <tr>\n",
       "      <th>0</th>\n",
       "      <td>Granger, Hermione</td>\n",
       "      <td>A13245986</td>\n",
       "      <td>1</td>\n",
       "    </tr>\n",
       "    <tr>\n",
       "      <th>1</th>\n",
       "      <td>Potter, Harry</td>\n",
       "      <td>A17645384</td>\n",
       "      <td>1</td>\n",
       "    </tr>\n",
       "    <tr>\n",
       "      <th>2</th>\n",
       "      <td>Weasley, Ron</td>\n",
       "      <td>A32438694</td>\n",
       "      <td>1</td>\n",
       "    </tr>\n",
       "    <tr>\n",
       "      <th>3</th>\n",
       "      <td>Longbottom, Neville</td>\n",
       "      <td>A52342436</td>\n",
       "      <td>1</td>\n",
       "    </tr>\n",
       "  </tbody>\n",
       "</table>\n",
       "</div>"
      ],
      "text/plain": [
       "                     0          1  2\n",
       "0    Granger, Hermione  A13245986  1\n",
       "1        Potter, Harry  A17645384  1\n",
       "2         Weasley, Ron  A32438694  1\n",
       "3  Longbottom, Neville  A52342436  1"
      ]
     },
     "execution_count": 31,
     "metadata": {},
     "output_type": "execute_result"
    }
   ],
   "source": [
    "pd.DataFrame(row_data)"
   ]
  },
  {
   "cell_type": "markdown",
   "id": "63385f04",
   "metadata": {},
   "source": [
    "You can change that using the `columns` argument."
   ]
  },
  {
   "cell_type": "code",
   "execution_count": 32,
   "id": "b68454cf",
   "metadata": {},
   "outputs": [
    {
     "data": {
      "text/html": [
       "<div>\n",
       "<style scoped>\n",
       "    .dataframe tbody tr th:only-of-type {\n",
       "        vertical-align: middle;\n",
       "    }\n",
       "\n",
       "    .dataframe tbody tr th {\n",
       "        vertical-align: top;\n",
       "    }\n",
       "\n",
       "    .dataframe thead th {\n",
       "        text-align: right;\n",
       "    }\n",
       "</style>\n",
       "<table border=\"1\" class=\"dataframe\">\n",
       "  <thead>\n",
       "    <tr style=\"text-align: right;\">\n",
       "      <th></th>\n",
       "      <th>Name</th>\n",
       "      <th>PID</th>\n",
       "      <th>LVL</th>\n",
       "    </tr>\n",
       "  </thead>\n",
       "  <tbody>\n",
       "    <tr>\n",
       "      <th>0</th>\n",
       "      <td>Granger, Hermione</td>\n",
       "      <td>A13245986</td>\n",
       "      <td>1</td>\n",
       "    </tr>\n",
       "    <tr>\n",
       "      <th>1</th>\n",
       "      <td>Potter, Harry</td>\n",
       "      <td>A17645384</td>\n",
       "      <td>1</td>\n",
       "    </tr>\n",
       "    <tr>\n",
       "      <th>2</th>\n",
       "      <td>Weasley, Ron</td>\n",
       "      <td>A32438694</td>\n",
       "      <td>1</td>\n",
       "    </tr>\n",
       "    <tr>\n",
       "      <th>3</th>\n",
       "      <td>Longbottom, Neville</td>\n",
       "      <td>A52342436</td>\n",
       "      <td>1</td>\n",
       "    </tr>\n",
       "  </tbody>\n",
       "</table>\n",
       "</div>"
      ],
      "text/plain": [
       "                  Name        PID  LVL\n",
       "0    Granger, Hermione  A13245986    1\n",
       "1        Potter, Harry  A17645384    1\n",
       "2         Weasley, Ron  A32438694    1\n",
       "3  Longbottom, Neville  A52342436    1"
      ]
     },
     "execution_count": 32,
     "metadata": {},
     "output_type": "execute_result"
    }
   ],
   "source": [
    "pd.DataFrame(row_data, columns=['Name', 'PID', 'LVL'])"
   ]
  },
  {
   "cell_type": "markdown",
   "id": "11503163",
   "metadata": {
    "slideshow": {
     "slide_type": "slide"
    }
   },
   "source": [
    "### Method 2: Using a dictionary of columns"
   ]
  },
  {
   "cell_type": "code",
   "execution_count": 33,
   "id": "86889d91",
   "metadata": {},
   "outputs": [
    {
     "data": {
      "text/plain": [
       "{'Name': ['Granger, Hermione',\n",
       "  'Potter, Harry',\n",
       "  'Weasley, Ron',\n",
       "  'Longbottom, Neville'],\n",
       " 'PID': ['A13245986', 'A17645384', 'A32438694', 'A52342436'],\n",
       " 'LVL': [1, 1, 1, 1]}"
      ]
     },
     "execution_count": 33,
     "metadata": {},
     "output_type": "execute_result"
    }
   ],
   "source": [
    "column_dict = {\n",
    "    'Name': ['Granger, Hermione', 'Potter, Harry', 'Weasley, Ron', 'Longbottom, Neville'],\n",
    "    'PID': ['A13245986', 'A17645384', 'A32438694', 'A52342436'],\n",
    "    'LVL': [1, 1, 1, 1]\n",
    "}\n",
    "column_dict"
   ]
  },
  {
   "cell_type": "code",
   "execution_count": 34,
   "id": "da92d152",
   "metadata": {},
   "outputs": [
    {
     "data": {
      "text/html": [
       "<div>\n",
       "<style scoped>\n",
       "    .dataframe tbody tr th:only-of-type {\n",
       "        vertical-align: middle;\n",
       "    }\n",
       "\n",
       "    .dataframe tbody tr th {\n",
       "        vertical-align: top;\n",
       "    }\n",
       "\n",
       "    .dataframe thead th {\n",
       "        text-align: right;\n",
       "    }\n",
       "</style>\n",
       "<table border=\"1\" class=\"dataframe\">\n",
       "  <thead>\n",
       "    <tr style=\"text-align: right;\">\n",
       "      <th></th>\n",
       "      <th>Name</th>\n",
       "      <th>PID</th>\n",
       "      <th>LVL</th>\n",
       "    </tr>\n",
       "  </thead>\n",
       "  <tbody>\n",
       "    <tr>\n",
       "      <th>0</th>\n",
       "      <td>Granger, Hermione</td>\n",
       "      <td>A13245986</td>\n",
       "      <td>1</td>\n",
       "    </tr>\n",
       "    <tr>\n",
       "      <th>1</th>\n",
       "      <td>Potter, Harry</td>\n",
       "      <td>A17645384</td>\n",
       "      <td>1</td>\n",
       "    </tr>\n",
       "    <tr>\n",
       "      <th>2</th>\n",
       "      <td>Weasley, Ron</td>\n",
       "      <td>A32438694</td>\n",
       "      <td>1</td>\n",
       "    </tr>\n",
       "    <tr>\n",
       "      <th>3</th>\n",
       "      <td>Longbottom, Neville</td>\n",
       "      <td>A52342436</td>\n",
       "      <td>1</td>\n",
       "    </tr>\n",
       "  </tbody>\n",
       "</table>\n",
       "</div>"
      ],
      "text/plain": [
       "                  Name        PID  LVL\n",
       "0    Granger, Hermione  A13245986    1\n",
       "1        Potter, Harry  A17645384    1\n",
       "2         Weasley, Ron  A32438694    1\n",
       "3  Longbottom, Neville  A52342436    1"
      ]
     },
     "execution_count": 34,
     "metadata": {},
     "output_type": "execute_result"
    }
   ],
   "source": [
    "enrollments = pd.DataFrame(column_dict)\n",
    "enrollments"
   ]
  },
  {
   "cell_type": "markdown",
   "id": "3d15dfdc",
   "metadata": {
    "slideshow": {
     "slide_type": "slide"
    }
   },
   "source": [
    "### DataFrame index and column labels\n",
    "\n",
    "- Access column labels with the `columns` attribute.\n",
    "- Access index labels with the `index` attribute.\n",
    "- The default for both is 0-indexed position (0, 1, 2, ...)."
   ]
  },
  {
   "cell_type": "code",
   "execution_count": 35,
   "id": "c42eba1b",
   "metadata": {},
   "outputs": [
    {
     "data": {
      "text/plain": [
       "Index(['Name', 'PID', 'LVL'], dtype='object')"
      ]
     },
     "execution_count": 35,
     "metadata": {},
     "output_type": "execute_result"
    }
   ],
   "source": [
    "enrollments.columns"
   ]
  },
  {
   "cell_type": "code",
   "execution_count": 36,
   "id": "bcdc70de",
   "metadata": {},
   "outputs": [
    {
     "data": {
      "text/plain": [
       "RangeIndex(start=0, stop=4, step=1)"
      ]
     },
     "execution_count": 36,
     "metadata": {},
     "output_type": "execute_result"
    }
   ],
   "source": [
    "enrollments.index"
   ]
  },
  {
   "cell_type": "markdown",
   "id": "fffa5177",
   "metadata": {
    "slideshow": {
     "slide_type": "slide"
    }
   },
   "source": [
    "### Axis\n",
    "\n",
    "- The rows and columns of a DataFrame are both stored as Series.\n",
    "- The **axis** specifies the direction of a slice of a DataFrame.\n",
    "\n",
    "<center><img src='imgs/axis.png' width=300></center>\n",
    "\n",
    "- Axis 0 refers to the index.\n",
    "- Axis 1 refers to the columns."
   ]
  },
  {
   "cell_type": "markdown",
   "id": "608d22e8",
   "metadata": {
    "slideshow": {
     "slide_type": "slide"
    }
   },
   "source": [
    "### DataFrame methods with `axis`"
   ]
  },
  {
   "cell_type": "code",
   "execution_count": 37,
   "id": "35a4f3eb",
   "metadata": {},
   "outputs": [
    {
     "data": {
      "text/html": [
       "<div>\n",
       "<style scoped>\n",
       "    .dataframe tbody tr th:only-of-type {\n",
       "        vertical-align: middle;\n",
       "    }\n",
       "\n",
       "    .dataframe tbody tr th {\n",
       "        vertical-align: top;\n",
       "    }\n",
       "\n",
       "    .dataframe thead th {\n",
       "        text-align: right;\n",
       "    }\n",
       "</style>\n",
       "<table border=\"1\" class=\"dataframe\">\n",
       "  <thead>\n",
       "    <tr style=\"text-align: right;\">\n",
       "      <th></th>\n",
       "      <th>A</th>\n",
       "      <th>B</th>\n",
       "      <th>C</th>\n",
       "    </tr>\n",
       "  </thead>\n",
       "  <tbody>\n",
       "    <tr>\n",
       "      <th>0</th>\n",
       "      <td>1</td>\n",
       "      <td>2</td>\n",
       "      <td>3</td>\n",
       "    </tr>\n",
       "    <tr>\n",
       "      <th>1</th>\n",
       "      <td>4</td>\n",
       "      <td>5</td>\n",
       "      <td>6</td>\n",
       "    </tr>\n",
       "  </tbody>\n",
       "</table>\n",
       "</div>"
      ],
      "text/plain": [
       "   A  B  C\n",
       "0  1  2  3\n",
       "1  4  5  6"
      ]
     },
     "execution_count": 37,
     "metadata": {},
     "output_type": "execute_result"
    }
   ],
   "source": [
    "A = pd.DataFrame([[1, 2, 3], [4, 5, 6]], columns=['A', 'B', 'C'])\n",
    "A"
   ]
  },
  {
   "cell_type": "markdown",
   "id": "83c0183f",
   "metadata": {},
   "source": [
    "If we specify `axis=0`, `A.sum` will \"compress\" along axis 0, and keep the column labels intact."
   ]
  },
  {
   "cell_type": "code",
   "execution_count": 38,
   "id": "7245b1b8",
   "metadata": {},
   "outputs": [
    {
     "data": {
      "text/plain": [
       "A    5\n",
       "B    7\n",
       "C    9\n",
       "dtype: int64"
      ]
     },
     "execution_count": 38,
     "metadata": {},
     "output_type": "execute_result"
    }
   ],
   "source": [
    "A.sum(axis=0)"
   ]
  },
  {
   "cell_type": "markdown",
   "id": "e4bb82bc",
   "metadata": {},
   "source": [
    "If we specify `axis=1`, `A.sum` will \"compress\" along axis 1, and keep the row labels (index) intact."
   ]
  },
  {
   "cell_type": "code",
   "execution_count": 39,
   "id": "aecaac0f",
   "metadata": {},
   "outputs": [
    {
     "data": {
      "text/plain": [
       "0     6\n",
       "1    15\n",
       "dtype: int64"
      ]
     },
     "execution_count": 39,
     "metadata": {},
     "output_type": "execute_result"
    }
   ],
   "source": [
    "A.sum(axis=1)"
   ]
  },
  {
   "cell_type": "markdown",
   "id": "8d54b1bb",
   "metadata": {
    "slideshow": {
     "slide_type": "slide"
    }
   },
   "source": [
    "<center><img src='imgs/axis-sum.png' width=600></center>"
   ]
  },
  {
   "cell_type": "markdown",
   "id": "25872988",
   "metadata": {
    "slideshow": {
     "slide_type": "slide"
    }
   },
   "source": [
    "## Selecting rows and columns using `[]` and `loc`"
   ]
  },
  {
   "cell_type": "markdown",
   "id": "7cf76018",
   "metadata": {
    "slideshow": {
     "slide_type": "slide"
    }
   },
   "source": [
    "### Throwback to `babypandas` 👶\n",
    "\n",
    "- In `babypandas`, you accessed columns using the `.get` method.\n",
    "- `.get` also works in `pandas`, but it is not **idiomatic** – people don't usually use it."
   ]
  },
  {
   "cell_type": "code",
   "execution_count": 40,
   "id": "30c3e2e8",
   "metadata": {},
   "outputs": [
    {
     "data": {
      "text/html": [
       "<div>\n",
       "<style scoped>\n",
       "    .dataframe tbody tr th:only-of-type {\n",
       "        vertical-align: middle;\n",
       "    }\n",
       "\n",
       "    .dataframe tbody tr th {\n",
       "        vertical-align: top;\n",
       "    }\n",
       "\n",
       "    .dataframe thead th {\n",
       "        text-align: right;\n",
       "    }\n",
       "</style>\n",
       "<table border=\"1\" class=\"dataframe\">\n",
       "  <thead>\n",
       "    <tr style=\"text-align: right;\">\n",
       "      <th></th>\n",
       "      <th>Name</th>\n",
       "      <th>PID</th>\n",
       "      <th>LVL</th>\n",
       "    </tr>\n",
       "  </thead>\n",
       "  <tbody>\n",
       "    <tr>\n",
       "      <th>0</th>\n",
       "      <td>Granger, Hermione</td>\n",
       "      <td>A13245986</td>\n",
       "      <td>1</td>\n",
       "    </tr>\n",
       "    <tr>\n",
       "      <th>1</th>\n",
       "      <td>Potter, Harry</td>\n",
       "      <td>A17645384</td>\n",
       "      <td>1</td>\n",
       "    </tr>\n",
       "    <tr>\n",
       "      <th>2</th>\n",
       "      <td>Weasley, Ron</td>\n",
       "      <td>A32438694</td>\n",
       "      <td>1</td>\n",
       "    </tr>\n",
       "    <tr>\n",
       "      <th>3</th>\n",
       "      <td>Longbottom, Neville</td>\n",
       "      <td>A52342436</td>\n",
       "      <td>1</td>\n",
       "    </tr>\n",
       "  </tbody>\n",
       "</table>\n",
       "</div>"
      ],
      "text/plain": [
       "                  Name        PID  LVL\n",
       "0    Granger, Hermione  A13245986    1\n",
       "1        Potter, Harry  A17645384    1\n",
       "2         Weasley, Ron  A32438694    1\n",
       "3  Longbottom, Neville  A52342436    1"
      ]
     },
     "execution_count": 40,
     "metadata": {},
     "output_type": "execute_result"
    }
   ],
   "source": [
    "enrollments"
   ]
  },
  {
   "cell_type": "code",
   "execution_count": 41,
   "id": "511edc00",
   "metadata": {},
   "outputs": [
    {
     "data": {
      "text/plain": [
       "0      Granger, Hermione\n",
       "1          Potter, Harry\n",
       "2           Weasley, Ron\n",
       "3    Longbottom, Neville\n",
       "Name: Name, dtype: object"
      ]
     },
     "execution_count": 41,
     "metadata": {},
     "output_type": "execute_result"
    }
   ],
   "source": [
    "enrollments.get('Name')"
   ]
  },
  {
   "cell_type": "code",
   "execution_count": 42,
   "id": "7bd59ea6",
   "metadata": {},
   "outputs": [],
   "source": [
    "# Doesn't error\n",
    "enrollments.get('billy')"
   ]
  },
  {
   "cell_type": "markdown",
   "id": "06612244",
   "metadata": {
    "slideshow": {
     "slide_type": "slide"
    }
   },
   "source": [
    "### Selecting columns with `[]`\n",
    "\n",
    "- The standard way to access a column in `pandas` is by using the `[]` operator.\n",
    "    - Think of a DataFrame as a dictionary of arrays!\n",
    "* Specifying a column name returns the column as a Series.\n",
    "* Specifying a list of column names returns a DataFrame."
   ]
  },
  {
   "cell_type": "code",
   "execution_count": 43,
   "id": "f90f8419",
   "metadata": {},
   "outputs": [
    {
     "data": {
      "text/html": [
       "<div>\n",
       "<style scoped>\n",
       "    .dataframe tbody tr th:only-of-type {\n",
       "        vertical-align: middle;\n",
       "    }\n",
       "\n",
       "    .dataframe tbody tr th {\n",
       "        vertical-align: top;\n",
       "    }\n",
       "\n",
       "    .dataframe thead th {\n",
       "        text-align: right;\n",
       "    }\n",
       "</style>\n",
       "<table border=\"1\" class=\"dataframe\">\n",
       "  <thead>\n",
       "    <tr style=\"text-align: right;\">\n",
       "      <th></th>\n",
       "      <th>Name</th>\n",
       "      <th>PID</th>\n",
       "      <th>LVL</th>\n",
       "    </tr>\n",
       "  </thead>\n",
       "  <tbody>\n",
       "    <tr>\n",
       "      <th>0</th>\n",
       "      <td>Granger, Hermione</td>\n",
       "      <td>A13245986</td>\n",
       "      <td>1</td>\n",
       "    </tr>\n",
       "    <tr>\n",
       "      <th>1</th>\n",
       "      <td>Potter, Harry</td>\n",
       "      <td>A17645384</td>\n",
       "      <td>1</td>\n",
       "    </tr>\n",
       "    <tr>\n",
       "      <th>2</th>\n",
       "      <td>Weasley, Ron</td>\n",
       "      <td>A32438694</td>\n",
       "      <td>1</td>\n",
       "    </tr>\n",
       "    <tr>\n",
       "      <th>3</th>\n",
       "      <td>Longbottom, Neville</td>\n",
       "      <td>A52342436</td>\n",
       "      <td>1</td>\n",
       "    </tr>\n",
       "  </tbody>\n",
       "</table>\n",
       "</div>"
      ],
      "text/plain": [
       "                  Name        PID  LVL\n",
       "0    Granger, Hermione  A13245986    1\n",
       "1        Potter, Harry  A17645384    1\n",
       "2         Weasley, Ron  A32438694    1\n",
       "3  Longbottom, Neville  A52342436    1"
      ]
     },
     "execution_count": 43,
     "metadata": {},
     "output_type": "execute_result"
    }
   ],
   "source": [
    "enrollments"
   ]
  },
  {
   "cell_type": "code",
   "execution_count": 44,
   "id": "91047a9d",
   "metadata": {},
   "outputs": [
    {
     "data": {
      "text/plain": [
       "0      Granger, Hermione\n",
       "1          Potter, Harry\n",
       "2           Weasley, Ron\n",
       "3    Longbottom, Neville\n",
       "Name: Name, dtype: object"
      ]
     },
     "execution_count": 44,
     "metadata": {},
     "output_type": "execute_result"
    }
   ],
   "source": [
    "# Returns a Series\n",
    "enrollments['Name']"
   ]
  },
  {
   "cell_type": "code",
   "execution_count": 45,
   "id": "150a0dd4",
   "metadata": {},
   "outputs": [
    {
     "data": {
      "text/html": [
       "<div>\n",
       "<style scoped>\n",
       "    .dataframe tbody tr th:only-of-type {\n",
       "        vertical-align: middle;\n",
       "    }\n",
       "\n",
       "    .dataframe tbody tr th {\n",
       "        vertical-align: top;\n",
       "    }\n",
       "\n",
       "    .dataframe thead th {\n",
       "        text-align: right;\n",
       "    }\n",
       "</style>\n",
       "<table border=\"1\" class=\"dataframe\">\n",
       "  <thead>\n",
       "    <tr style=\"text-align: right;\">\n",
       "      <th></th>\n",
       "      <th>Name</th>\n",
       "      <th>PID</th>\n",
       "    </tr>\n",
       "  </thead>\n",
       "  <tbody>\n",
       "    <tr>\n",
       "      <th>0</th>\n",
       "      <td>Granger, Hermione</td>\n",
       "      <td>A13245986</td>\n",
       "    </tr>\n",
       "    <tr>\n",
       "      <th>1</th>\n",
       "      <td>Potter, Harry</td>\n",
       "      <td>A17645384</td>\n",
       "    </tr>\n",
       "    <tr>\n",
       "      <th>2</th>\n",
       "      <td>Weasley, Ron</td>\n",
       "      <td>A32438694</td>\n",
       "    </tr>\n",
       "    <tr>\n",
       "      <th>3</th>\n",
       "      <td>Longbottom, Neville</td>\n",
       "      <td>A52342436</td>\n",
       "    </tr>\n",
       "  </tbody>\n",
       "</table>\n",
       "</div>"
      ],
      "text/plain": [
       "                  Name        PID\n",
       "0    Granger, Hermione  A13245986\n",
       "1        Potter, Harry  A17645384\n",
       "2         Weasley, Ron  A32438694\n",
       "3  Longbottom, Neville  A52342436"
      ]
     },
     "execution_count": 45,
     "metadata": {},
     "output_type": "execute_result"
    }
   ],
   "source": [
    "# Returns a DataFrame\n",
    "enrollments[['Name', 'PID']]"
   ]
  },
  {
   "cell_type": "code",
   "execution_count": 46,
   "id": "d328d814",
   "metadata": {},
   "outputs": [
    {
     "data": {
      "text/html": [
       "<div>\n",
       "<style scoped>\n",
       "    .dataframe tbody tr th:only-of-type {\n",
       "        vertical-align: middle;\n",
       "    }\n",
       "\n",
       "    .dataframe tbody tr th {\n",
       "        vertical-align: top;\n",
       "    }\n",
       "\n",
       "    .dataframe thead th {\n",
       "        text-align: right;\n",
       "    }\n",
       "</style>\n",
       "<table border=\"1\" class=\"dataframe\">\n",
       "  <thead>\n",
       "    <tr style=\"text-align: right;\">\n",
       "      <th></th>\n",
       "      <th>Name</th>\n",
       "    </tr>\n",
       "  </thead>\n",
       "  <tbody>\n",
       "    <tr>\n",
       "      <th>0</th>\n",
       "      <td>Granger, Hermione</td>\n",
       "    </tr>\n",
       "    <tr>\n",
       "      <th>1</th>\n",
       "      <td>Potter, Harry</td>\n",
       "    </tr>\n",
       "    <tr>\n",
       "      <th>2</th>\n",
       "      <td>Weasley, Ron</td>\n",
       "    </tr>\n",
       "    <tr>\n",
       "      <th>3</th>\n",
       "      <td>Longbottom, Neville</td>\n",
       "    </tr>\n",
       "  </tbody>\n",
       "</table>\n",
       "</div>"
      ],
      "text/plain": [
       "                  Name\n",
       "0    Granger, Hermione\n",
       "1        Potter, Harry\n",
       "2         Weasley, Ron\n",
       "3  Longbottom, Neville"
      ]
     },
     "execution_count": 46,
     "metadata": {},
     "output_type": "execute_result"
    }
   ],
   "source": [
    "# 🤔\n",
    "enrollments[['Name']]"
   ]
  },
  {
   "cell_type": "code",
   "execution_count": 47,
   "id": "0b032fcb",
   "metadata": {},
   "outputs": [
    {
     "ename": "KeyError",
     "evalue": "'billy'",
     "output_type": "error",
     "traceback": [
      "\u001b[0;31m---------------------------------------------------------------------------\u001b[0m",
      "\u001b[0;31mKeyError\u001b[0m                                  Traceback (most recent call last)",
      "File \u001b[0;32m~/Documents/anaconda3/envs/dsc80/lib/python3.8/site-packages/pandas/core/indexes/base.py:3361\u001b[0m, in \u001b[0;36mIndex.get_loc\u001b[0;34m(self, key, method, tolerance)\u001b[0m\n\u001b[1;32m   3360\u001b[0m \u001b[38;5;28;01mtry\u001b[39;00m:\n\u001b[0;32m-> 3361\u001b[0m     \u001b[38;5;28;01mreturn\u001b[39;00m \u001b[38;5;28;43mself\u001b[39;49m\u001b[38;5;241;43m.\u001b[39;49m\u001b[43m_engine\u001b[49m\u001b[38;5;241;43m.\u001b[39;49m\u001b[43mget_loc\u001b[49m\u001b[43m(\u001b[49m\u001b[43mcasted_key\u001b[49m\u001b[43m)\u001b[49m\n\u001b[1;32m   3362\u001b[0m \u001b[38;5;28;01mexcept\u001b[39;00m \u001b[38;5;167;01mKeyError\u001b[39;00m \u001b[38;5;28;01mas\u001b[39;00m err:\n",
      "File \u001b[0;32m~/Documents/anaconda3/envs/dsc80/lib/python3.8/site-packages/pandas/_libs/index.pyx:76\u001b[0m, in \u001b[0;36mpandas._libs.index.IndexEngine.get_loc\u001b[0;34m()\u001b[0m\n",
      "File \u001b[0;32m~/Documents/anaconda3/envs/dsc80/lib/python3.8/site-packages/pandas/_libs/index.pyx:108\u001b[0m, in \u001b[0;36mpandas._libs.index.IndexEngine.get_loc\u001b[0;34m()\u001b[0m\n",
      "File \u001b[0;32mpandas/_libs/hashtable_class_helper.pxi:5198\u001b[0m, in \u001b[0;36mpandas._libs.hashtable.PyObjectHashTable.get_item\u001b[0;34m()\u001b[0m\n",
      "File \u001b[0;32mpandas/_libs/hashtable_class_helper.pxi:5206\u001b[0m, in \u001b[0;36mpandas._libs.hashtable.PyObjectHashTable.get_item\u001b[0;34m()\u001b[0m\n",
      "\u001b[0;31mKeyError\u001b[0m: 'billy'",
      "\nThe above exception was the direct cause of the following exception:\n",
      "\u001b[0;31mKeyError\u001b[0m                                  Traceback (most recent call last)",
      "Input \u001b[0;32mIn [47]\u001b[0m, in \u001b[0;36m<cell line: 2>\u001b[0;34m()\u001b[0m\n\u001b[1;32m      1\u001b[0m \u001b[38;5;66;03m# KeyError\u001b[39;00m\n\u001b[0;32m----> 2\u001b[0m \u001b[43menrollments\u001b[49m\u001b[43m[\u001b[49m\u001b[38;5;124;43m'\u001b[39;49m\u001b[38;5;124;43mbilly\u001b[39;49m\u001b[38;5;124;43m'\u001b[39;49m\u001b[43m]\u001b[49m\n",
      "File \u001b[0;32m~/Documents/anaconda3/envs/dsc80/lib/python3.8/site-packages/pandas/core/frame.py:3458\u001b[0m, in \u001b[0;36mDataFrame.__getitem__\u001b[0;34m(self, key)\u001b[0m\n\u001b[1;32m   3456\u001b[0m \u001b[38;5;28;01mif\u001b[39;00m \u001b[38;5;28mself\u001b[39m\u001b[38;5;241m.\u001b[39mcolumns\u001b[38;5;241m.\u001b[39mnlevels \u001b[38;5;241m>\u001b[39m \u001b[38;5;241m1\u001b[39m:\n\u001b[1;32m   3457\u001b[0m     \u001b[38;5;28;01mreturn\u001b[39;00m \u001b[38;5;28mself\u001b[39m\u001b[38;5;241m.\u001b[39m_getitem_multilevel(key)\n\u001b[0;32m-> 3458\u001b[0m indexer \u001b[38;5;241m=\u001b[39m \u001b[38;5;28;43mself\u001b[39;49m\u001b[38;5;241;43m.\u001b[39;49m\u001b[43mcolumns\u001b[49m\u001b[38;5;241;43m.\u001b[39;49m\u001b[43mget_loc\u001b[49m\u001b[43m(\u001b[49m\u001b[43mkey\u001b[49m\u001b[43m)\u001b[49m\n\u001b[1;32m   3459\u001b[0m \u001b[38;5;28;01mif\u001b[39;00m is_integer(indexer):\n\u001b[1;32m   3460\u001b[0m     indexer \u001b[38;5;241m=\u001b[39m [indexer]\n",
      "File \u001b[0;32m~/Documents/anaconda3/envs/dsc80/lib/python3.8/site-packages/pandas/core/indexes/base.py:3363\u001b[0m, in \u001b[0;36mIndex.get_loc\u001b[0;34m(self, key, method, tolerance)\u001b[0m\n\u001b[1;32m   3361\u001b[0m         \u001b[38;5;28;01mreturn\u001b[39;00m \u001b[38;5;28mself\u001b[39m\u001b[38;5;241m.\u001b[39m_engine\u001b[38;5;241m.\u001b[39mget_loc(casted_key)\n\u001b[1;32m   3362\u001b[0m     \u001b[38;5;28;01mexcept\u001b[39;00m \u001b[38;5;167;01mKeyError\u001b[39;00m \u001b[38;5;28;01mas\u001b[39;00m err:\n\u001b[0;32m-> 3363\u001b[0m         \u001b[38;5;28;01mraise\u001b[39;00m \u001b[38;5;167;01mKeyError\u001b[39;00m(key) \u001b[38;5;28;01mfrom\u001b[39;00m \u001b[38;5;21;01merr\u001b[39;00m\n\u001b[1;32m   3365\u001b[0m \u001b[38;5;28;01mif\u001b[39;00m is_scalar(key) \u001b[38;5;129;01mand\u001b[39;00m isna(key) \u001b[38;5;129;01mand\u001b[39;00m \u001b[38;5;129;01mnot\u001b[39;00m \u001b[38;5;28mself\u001b[39m\u001b[38;5;241m.\u001b[39mhasnans:\n\u001b[1;32m   3366\u001b[0m     \u001b[38;5;28;01mraise\u001b[39;00m \u001b[38;5;167;01mKeyError\u001b[39;00m(key)\n",
      "\u001b[0;31mKeyError\u001b[0m: 'billy'"
     ]
    }
   ],
   "source": [
    "# KeyError\n",
    "enrollments['billy']"
   ]
  },
  {
   "cell_type": "markdown",
   "id": "9f765271",
   "metadata": {
    "slideshow": {
     "slide_type": "slide"
    }
   },
   "source": [
    "### Selecting columns with attribute notation\n",
    "\n",
    "- It is also possible to access columns using attribute notation, i.e. `.<column name>`.\n",
    "- **Don't do this.**\n",
    "    - What if the column name clashes with a DataFrame method, like `.mean`?\n",
    "    - What if the column name contains spaces or special characters?"
   ]
  },
  {
   "cell_type": "code",
   "execution_count": null,
   "id": "57d962e7",
   "metadata": {},
   "outputs": [],
   "source": [
    "enrollments.LVL"
   ]
  },
  {
   "cell_type": "code",
   "execution_count": null,
   "id": "600128d5",
   "metadata": {},
   "outputs": [],
   "source": [
    "enrollments.mean"
   ]
  },
  {
   "cell_type": "markdown",
   "id": "70f80a67",
   "metadata": {
    "slideshow": {
     "slide_type": "slide"
    }
   },
   "source": [
    "### Selecting rows with `loc`\n",
    "\n",
    "If `df` is a DataFrame, then:\n",
    "* `df.loc[idx]` returns the Series whose index is `idx`.\n",
    "* `df.loc[idx_list]` returns a DataFrame containing the rows whose indexes are in `idx_list`."
   ]
  },
  {
   "cell_type": "code",
   "execution_count": null,
   "id": "da5c8208",
   "metadata": {},
   "outputs": [],
   "source": [
    "enrollments"
   ]
  },
  {
   "cell_type": "code",
   "execution_count": null,
   "id": "554b4190",
   "metadata": {},
   "outputs": [],
   "source": [
    "enrollments.loc[3]"
   ]
  },
  {
   "cell_type": "code",
   "execution_count": null,
   "id": "64732804",
   "metadata": {},
   "outputs": [],
   "source": [
    "enrollments.loc[[1, 3]]"
   ]
  },
  {
   "cell_type": "code",
   "execution_count": null,
   "id": "9543a361",
   "metadata": {},
   "outputs": [],
   "source": [
    "enrollments.loc[[3]]"
   ]
  },
  {
   "cell_type": "markdown",
   "id": "7dd8ebdb",
   "metadata": {
    "slideshow": {
     "slide_type": "slide"
    }
   },
   "source": [
    "### Boolean sequence selection\n",
    "\n",
    "* The `loc` operator also supports Boolean sequences (lists, arrays, Series) as input. \n",
    "* The length of the sequence must be the same as the number of rows in the DataFrame. \n",
    "* The result is a filtered DataFrame, containing only the rows in which the sequence contained `True`."
   ]
  },
  {
   "cell_type": "code",
   "execution_count": null,
   "id": "574a08d5",
   "metadata": {},
   "outputs": [],
   "source": [
    "enrollments"
   ]
  },
  {
   "cell_type": "code",
   "execution_count": null,
   "id": "053a49a5",
   "metadata": {},
   "outputs": [],
   "source": [
    "bool_arr = [\n",
    "    False,  # Hermione\n",
    "    True,   # Harry\n",
    "    False,  # Ron\n",
    "    True    # Neville\n",
    "]\n",
    "\n",
    "enrollments.loc[bool_arr]"
   ]
  },
  {
   "cell_type": "markdown",
   "id": "2149086b",
   "metadata": {
    "slideshow": {
     "slide_type": "slide"
    }
   },
   "source": [
    "### Querying\n",
    "\n",
    "- Comparisons with arrays (Series) result in Boolean arrays (Series).\n",
    "- We can use comparisons along with the `loc` operator to **query** a DataFrame.\n",
    "- Querying is the act of selecting rows in a DataFrame that satisfy certain condition(s)."
   ]
  },
  {
   "cell_type": "code",
   "execution_count": null,
   "id": "2ac22726",
   "metadata": {},
   "outputs": [],
   "source": [
    "enrollments"
   ]
  },
  {
   "cell_type": "code",
   "execution_count": null,
   "id": "f8746b94",
   "metadata": {},
   "outputs": [],
   "source": [
    "enrollments['Name'].str.contains('on')"
   ]
  },
  {
   "cell_type": "code",
   "execution_count": null,
   "id": "d198a9a6",
   "metadata": {},
   "outputs": [],
   "source": [
    "# Rows where Name includes 'on'\n",
    "enrollments.loc[enrollments['Name'].str.contains('on')]"
   ]
  },
  {
   "cell_type": "code",
   "execution_count": null,
   "id": "4456f619",
   "metadata": {},
   "outputs": [],
   "source": [
    "# Rows where the first letter of Name is between A and L\n",
    "enrollments.loc[enrollments['Name'] < 'M']"
   ]
  },
  {
   "cell_type": "markdown",
   "id": "ebd28970",
   "metadata": {},
   "source": [
    "When using a Boolean sequence, e.g. `enrollments['Name'] < 'M'`, `loc` is not strictly necessary:"
   ]
  },
  {
   "cell_type": "code",
   "execution_count": null,
   "id": "6eca190b",
   "metadata": {},
   "outputs": [],
   "source": [
    "enrollments[enrollments['Name'] < 'M']"
   ]
  },
  {
   "cell_type": "markdown",
   "id": "d04684d2",
   "metadata": {
    "slideshow": {
     "slide_type": "slide"
    }
   },
   "source": [
    "### Selecting columns and rows simultaneously\n",
    "\n",
    "So far, we used `[]` to select columns and `loc` to select rows."
   ]
  },
  {
   "cell_type": "code",
   "execution_count": null,
   "id": "b459e821",
   "metadata": {},
   "outputs": [],
   "source": [
    "enrollments.loc[enrollments['Name'] < 'M']['PID']"
   ]
  },
  {
   "cell_type": "markdown",
   "id": "16cd25ee",
   "metadata": {
    "slideshow": {
     "slide_type": "slide"
    }
   },
   "source": [
    "### Selecting columns and rows simultaneously\n",
    "\n",
    "`loc` can also be used to select both rows and columns. The general pattern is:\n",
    "\n",
    "```\n",
    "df.loc[<row selector>, <column selector>]\n",
    "```\n",
    "\n",
    "Examples:\n",
    "- `df.loc[idx_list, col_list]` returns a DataFrame containing the rows in `idx_list` and columns in `col_list`.\n",
    "- `df.loc[bool_arr, col_list]` returns a DataFrame contaning the rows for which `bool_arr` is `True` and columns in `col_list`.\n",
    "- If `:` is used as the first input, all rows are kept. If `:` is used as the second input, all columns are kept."
   ]
  },
  {
   "cell_type": "code",
   "execution_count": null,
   "id": "ce45fbac",
   "metadata": {},
   "outputs": [],
   "source": [
    "enrollments"
   ]
  },
  {
   "cell_type": "code",
   "execution_count": null,
   "id": "f54f009e",
   "metadata": {},
   "outputs": [],
   "source": [
    "enrollments.loc[enrollments['Name'] < 'M', 'PID']"
   ]
  },
  {
   "cell_type": "code",
   "execution_count": null,
   "id": "3e99c8f4",
   "metadata": {},
   "outputs": [],
   "source": [
    "enrollments.loc[enrollments['Name'] < 'M', ['PID']]"
   ]
  },
  {
   "cell_type": "markdown",
   "id": "adef064d",
   "metadata": {
    "slideshow": {
     "slide_type": "slide"
    }
   },
   "source": [
    "### Even more ways of selecting rows and columns\n",
    "\n",
    "In `df.loc[<row selection>, <column selection>]`:\n",
    "\n",
    "- Both the first and second inputs can be Boolean sequences.\n",
    "- Both the first and second inputs can be **slices**, which use `:` syntax (e.g. `0:2`, `'Name': 'PID'`).\n",
    "- If both the first and second inputs are primitives (strings or numbers), the result is a single value, not a DataFrame or Series.\n",
    "- The first input can be a **function** that takes a row as input and returns a Boolean.\n",
    "\n",
    "There are many, many more – see the [`pandas` documentation](https://pandas.pydata.org/docs/user_guide/index.html#user-guide) for more."
   ]
  },
  {
   "cell_type": "code",
   "execution_count": null,
   "id": "46698ffd",
   "metadata": {},
   "outputs": [],
   "source": [
    "enrollments"
   ]
  },
  {
   "cell_type": "code",
   "execution_count": null,
   "id": "9591023b",
   "metadata": {},
   "outputs": [],
   "source": [
    "enrollments.loc[2, 'LVL']"
   ]
  },
  {
   "cell_type": "code",
   "execution_count": null,
   "id": "98e7ed41",
   "metadata": {},
   "outputs": [],
   "source": [
    "enrollments.loc[0:2, 'Name': 'PID']"
   ]
  },
  {
   "cell_type": "markdown",
   "id": "44062920",
   "metadata": {
    "slideshow": {
     "slide_type": "slide"
    }
   },
   "source": [
    "### Don't forget `iloc`!\n",
    "\n",
    "- `iloc` stands for \"integer location\".\n",
    "- `iloc` is like `loc`, but it selects rows and columns based off of integer positions only."
   ]
  },
  {
   "cell_type": "code",
   "execution_count": null,
   "id": "840b4d5b",
   "metadata": {},
   "outputs": [],
   "source": [
    "enrollments"
   ]
  },
  {
   "cell_type": "code",
   "execution_count": null,
   "id": "4c5a82dd",
   "metadata": {},
   "outputs": [],
   "source": [
    "enrollments.iloc[2:4, 0:2]"
   ]
  },
  {
   "cell_type": "code",
   "execution_count": null,
   "id": "078de636",
   "metadata": {},
   "outputs": [],
   "source": [
    "other = enrollments.set_index('Name')\n",
    "other"
   ]
  },
  {
   "cell_type": "code",
   "execution_count": null,
   "id": "16263dcf",
   "metadata": {},
   "outputs": [],
   "source": [
    "other.iloc[2]"
   ]
  },
  {
   "cell_type": "code",
   "execution_count": null,
   "id": "4d1543d1",
   "metadata": {},
   "outputs": [],
   "source": [
    "other.loc[2]"
   ]
  },
  {
   "cell_type": "markdown",
   "id": "087d8d38",
   "metadata": {
    "slideshow": {
     "slide_type": "slide"
    }
   },
   "source": [
    "### Discussion Question\n",
    "\n",
    "Let's return to the `names` DataFrame."
   ]
  },
  {
   "cell_type": "code",
   "execution_count": null,
   "id": "e88963c5",
   "metadata": {},
   "outputs": [],
   "source": [
    "names"
   ]
  },
  {
   "cell_type": "markdown",
   "id": "28d18012",
   "metadata": {},
   "source": [
    "**Question:** How many babies were born with the name `'Billy'` and gender `'M'`?"
   ]
  },
  {
   "cell_type": "code",
   "execution_count": null,
   "id": "8acc7c37",
   "metadata": {},
   "outputs": [],
   "source": [
    "..."
   ]
  },
  {
   "cell_type": "markdown",
   "id": "0e0f6afd",
   "metadata": {
    "slideshow": {
     "slide_type": "slide"
    }
   },
   "source": [
    "### More Practice\n",
    "\n",
    "Consider the DataFrame below."
   ]
  },
  {
   "cell_type": "code",
   "execution_count": null,
   "id": "84d1dd06",
   "metadata": {},
   "outputs": [],
   "source": [
    "jack = pd.DataFrame({1: ['fee', 'fi'], '1': ['fo', 'fum']})\n",
    "jack"
   ]
  },
  {
   "cell_type": "markdown",
   "id": "420f47d8",
   "metadata": {},
   "source": [
    "For each of the following pieces of code, predict what the output will be. Then, uncomment the line of code and see for yourself."
   ]
  },
  {
   "cell_type": "code",
   "execution_count": null,
   "id": "660fa42d",
   "metadata": {},
   "outputs": [],
   "source": [
    "# jack[1]"
   ]
  },
  {
   "cell_type": "code",
   "execution_count": null,
   "id": "ac5ad541",
   "metadata": {},
   "outputs": [],
   "source": [
    "# jack[[1]]"
   ]
  },
  {
   "cell_type": "code",
   "execution_count": null,
   "id": "0c1f7c00",
   "metadata": {},
   "outputs": [],
   "source": [
    "# jack['1']"
   ]
  },
  {
   "cell_type": "code",
   "execution_count": null,
   "id": "24a90b6b",
   "metadata": {},
   "outputs": [],
   "source": [
    "# jack[[1,1]]"
   ]
  },
  {
   "cell_type": "code",
   "execution_count": null,
   "id": "bda6e0f9",
   "metadata": {},
   "outputs": [],
   "source": [
    "# jack.loc[1]"
   ]
  },
  {
   "cell_type": "code",
   "execution_count": null,
   "id": "bb96863b",
   "metadata": {},
   "outputs": [],
   "source": [
    "# jack.loc[jack[1] == 'fo']"
   ]
  },
  {
   "cell_type": "code",
   "execution_count": null,
   "id": "b83cc118",
   "metadata": {},
   "outputs": [],
   "source": [
    "# jack[1, ['1', 1]]"
   ]
  },
  {
   "cell_type": "code",
   "execution_count": null,
   "id": "4a157e2f",
   "metadata": {},
   "outputs": [],
   "source": [
    "# jack.loc[1,1]"
   ]
  },
  {
   "cell_type": "markdown",
   "id": "8e36e417",
   "metadata": {
    "slideshow": {
     "slide_type": "slide"
    }
   },
   "source": [
    "## Summary, next time"
   ]
  },
  {
   "cell_type": "markdown",
   "id": "132e02c8",
   "metadata": {
    "slideshow": {
     "slide_type": "slide"
    }
   },
   "source": [
    "### Summary\n",
    "\n",
    "- `pandas` is **the** library for tabular data manipulation in Python.\n",
    "- There are three key data structures in `pandas`: DataFrame, Series, and Index.\n",
    "- Refer to the lecture notebook and the [`pandas` documentation](https://pandas.pydata.org/docs/user_guide/index.html#user-guide) for tips.\n",
    "- **Next time:** useful methods for working with DataFrames and Series."
   ]
  }
 ],
 "metadata": {
  "celltoolbar": "Slideshow",
  "kernelspec": {
   "display_name": "Python 3 (ipykernel)",
   "language": "python",
   "name": "python3"
  },
  "language_info": {
   "codemirror_mode": {
    "name": "ipython",
    "version": 3
   },
   "file_extension": ".py",
   "mimetype": "text/x-python",
   "name": "python",
   "nbconvert_exporter": "python",
   "pygments_lexer": "ipython3",
   "version": "3.8.12"
  }
 },
 "nbformat": 4,
 "nbformat_minor": 5
}
