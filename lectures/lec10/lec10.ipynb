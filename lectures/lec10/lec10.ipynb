{
 "cells": [
  {
   "cell_type": "code",
   "execution_count": 1,
   "metadata": {
    "slideshow": {
     "slide_type": "skip"
    }
   },
   "outputs": [],
   "source": [
    "import numpy as np\n",
    "import pandas as pd\n",
    "import pathlib\n",
    "import os\n",
    "\n",
    "import matplotlib.pyplot as plt\n",
    "import seaborn as sns\n",
    "plt.style.use('seaborn-white')\n",
    "plt.rc('figure', dpi=100, figsize=(10, 5))\n",
    "plt.rc('font', size=12)"
   ]
  },
  {
   "cell_type": "markdown",
   "metadata": {
    "slideshow": {
     "slide_type": "slide"
    }
   },
   "source": [
    "# Lecture 10 – Permutation Testing\n",
    "\n",
    "## DSC 80, Spring 2022"
   ]
  },
  {
   "cell_type": "markdown",
   "metadata": {
    "slideshow": {
     "slide_type": "slide"
    }
   },
   "source": [
    "<center><img src='imgs/lecture-screenshot.png' width=80%></center>"
   ]
  },
  {
   "cell_type": "markdown",
   "metadata": {
    "slideshow": {
     "slide_type": "fragment"
    }
   },
   "source": [
    "<center><img src='imgs/meme.png' width=30%></center>\n",
    "\n",
    "_Credits to Nicole Brye_"
   ]
  },
  {
   "cell_type": "markdown",
   "metadata": {
    "slideshow": {
     "slide_type": "fragment"
    }
   },
   "source": [
    "<center><img src='imgs/supahot.png' width=30%></center>"
   ]
  },
  {
   "cell_type": "markdown",
   "metadata": {
    "slideshow": {
     "slide_type": "slide"
    }
   },
   "source": [
    "### Announcements\n",
    "\n",
    "- Lab 3 is due **tonight at 11:59PM**.\n",
    "    - Check [here](https://campuswire.com/c/G325FA25B/feed/507) for clarifications.\n",
    "- Project 2 is released.\n",
    "    - The checkpoint (Questions 1, 2, 6, 8, and 10) is due on **Thursday, April 21st at 11:59PM**.\n",
    "    - The full project is due on **Saturday, April 30th at 11:59PM**.\n",
    "    - Re-pull the repo if you started before 11:30PM on Sunday (updated Q10 description), and look [here](https://campuswire.com/c/G325FA25B/feed/643) for clarifications.\n",
    "- The Midterm Exam is **in-class on Wednesday, April 27th.**\n",
    "    - More details to come."
   ]
  },
  {
   "cell_type": "markdown",
   "metadata": {
    "slideshow": {
     "slide_type": "slide"
    }
   },
   "source": [
    "### Agenda\n",
    "\n",
    "- Overview of hypothesis testing and permutation testing.\n",
    "- Example: Birth weight and smoking.\n",
    "- Example: Multiple categories.\n",
    "\n",
    "Great reading: [jwilber.me/permutationtest](https://www.jwilber.me/permutationtest/)."
   ]
  },
  {
   "cell_type": "markdown",
   "metadata": {
    "slideshow": {
     "slide_type": "slide"
    }
   },
   "source": [
    "## Overview"
   ]
  },
  {
   "cell_type": "markdown",
   "metadata": {
    "slideshow": {
     "slide_type": "slide"
    }
   },
   "source": [
    "### Review: Hypothesis testing\n",
    "\n",
    "- In \"vanilla\" hypothesis testing, we are given a **single** observed sample, and are asked to make an assumption as to how it came to be.\n",
    "    - This assumption is the **null hypothesis**.\n",
    "    - This assumption must be a **probability model**, since we use it to generate new data.\n",
    "- We simulate data under the null hypothesis to answer the question, **if this assumption is true, how likely is the given observation?**"
   ]
  },
  {
   "cell_type": "markdown",
   "metadata": {
    "slideshow": {
     "slide_type": "slide"
    }
   },
   "source": [
    "### Examples so far\n",
    "\n",
    "So far, our hypothesis tests have assessed a model given a **single** random sample.\n"
   ]
  },
  {
   "cell_type": "markdown",
   "metadata": {
    "slideshow": {
     "slide_type": "fragment"
    }
   },
   "source": [
    "- We flip a coin 400 times. Are the flips consistent with the coin being fair?\n",
    "    - Null distribution: the coin is 50/50. This is a **probability model** that we can sample from."
   ]
  },
  {
   "cell_type": "markdown",
   "metadata": {
    "slideshow": {
     "slide_type": "fragment"
    }
   },
   "source": [
    "- Do UCSD students look like a random sample of California residents?\n",
    "    - Null distribution: ethnicities of California residents (e.g. 17% Asian, 3% Black, etc.). This is a **probability model** that we can sample from."
   ]
  },
  {
   "cell_type": "markdown",
   "metadata": {
    "slideshow": {
     "slide_type": "fragment"
    }
   },
   "source": [
    "- Do the bill lengths of penguins on Torgersen Island look like a random sample of all bill lengths?\n",
    "    - Null distribution: bill lengths of all penguins. We can **sample** from this distribution."
   ]
  },
  {
   "cell_type": "markdown",
   "metadata": {
    "slideshow": {
     "slide_type": "slide"
    }
   },
   "source": [
    "### Today's lecture\n",
    "\n",
    "Often have **two** random samples we wish to compare.\n",
    "- Outcomes of patients assigned to control group and treatment group in a pharmaceutical study.\n",
    "- Number of clicks from people who saw version A of an advertisement vs. version B.\n",
    "- Pressure drops in New England Patriots footballs vs. Indianapolis Colts footballs."
   ]
  },
  {
   "cell_type": "markdown",
   "metadata": {
    "slideshow": {
     "slide_type": "slide"
    }
   },
   "source": [
    "### Permutation testing\n",
    "\n",
    "* **Given two observed samples, are they fundamentally different, or could they have been generated by the same process?**\n",
    "* In a permutation test, we decide whether two **fixed** random samples come from the same distribution.\n",
    "- Unlike in the previous hypothesis testing examples, when conducting a permutation test, you do not know **what distribution** generated your two samples!\n"
   ]
  },
  {
   "cell_type": "markdown",
   "metadata": {
    "slideshow": {
     "slide_type": "slide"
    }
   },
   "source": [
    "## Example: Birth weight and smoking 🚬"
   ]
  },
  {
   "cell_type": "markdown",
   "metadata": {
    "slideshow": {
     "slide_type": "slide"
    }
   },
   "source": [
    "### Birth weight and smoking\n",
    "\n",
    "- Is there a significant difference in the weights of babies born to mothers who smoke, vs. non-smokers?\n",
    "- We have two groups:\n",
    "    - Babies whose mothers smoked during pregnancy.\n",
    "    - Babies whose mothers did not smoke during pregnancy.\n",
    "- In each group, the relevant attribute is the birth weight of the baby. "
   ]
  },
  {
   "cell_type": "markdown",
   "metadata": {
    "slideshow": {
     "slide_type": "slide"
    }
   },
   "source": [
    "Let's start by loading in data."
   ]
  },
  {
   "cell_type": "code",
   "execution_count": 2,
   "metadata": {
    "slideshow": {
     "slide_type": "-"
    }
   },
   "outputs": [
    {
     "data": {
      "text/html": [
       "<div>\n",
       "<style scoped>\n",
       "    .dataframe tbody tr th:only-of-type {\n",
       "        vertical-align: middle;\n",
       "    }\n",
       "\n",
       "    .dataframe tbody tr th {\n",
       "        vertical-align: top;\n",
       "    }\n",
       "\n",
       "    .dataframe thead th {\n",
       "        text-align: right;\n",
       "    }\n",
       "</style>\n",
       "<table border=\"1\" class=\"dataframe\">\n",
       "  <thead>\n",
       "    <tr style=\"text-align: right;\">\n",
       "      <th></th>\n",
       "      <th>Birth Weight</th>\n",
       "      <th>Gestational Days</th>\n",
       "      <th>Maternal Age</th>\n",
       "      <th>Maternal Height</th>\n",
       "      <th>Maternal Pregnancy Weight</th>\n",
       "      <th>Maternal Smoker</th>\n",
       "    </tr>\n",
       "  </thead>\n",
       "  <tbody>\n",
       "    <tr>\n",
       "      <th>0</th>\n",
       "      <td>120</td>\n",
       "      <td>284</td>\n",
       "      <td>27</td>\n",
       "      <td>62</td>\n",
       "      <td>100</td>\n",
       "      <td>False</td>\n",
       "    </tr>\n",
       "    <tr>\n",
       "      <th>1</th>\n",
       "      <td>113</td>\n",
       "      <td>282</td>\n",
       "      <td>33</td>\n",
       "      <td>64</td>\n",
       "      <td>135</td>\n",
       "      <td>False</td>\n",
       "    </tr>\n",
       "    <tr>\n",
       "      <th>2</th>\n",
       "      <td>128</td>\n",
       "      <td>279</td>\n",
       "      <td>28</td>\n",
       "      <td>64</td>\n",
       "      <td>115</td>\n",
       "      <td>True</td>\n",
       "    </tr>\n",
       "    <tr>\n",
       "      <th>3</th>\n",
       "      <td>108</td>\n",
       "      <td>282</td>\n",
       "      <td>23</td>\n",
       "      <td>67</td>\n",
       "      <td>125</td>\n",
       "      <td>True</td>\n",
       "    </tr>\n",
       "    <tr>\n",
       "      <th>4</th>\n",
       "      <td>136</td>\n",
       "      <td>286</td>\n",
       "      <td>25</td>\n",
       "      <td>62</td>\n",
       "      <td>93</td>\n",
       "      <td>False</td>\n",
       "    </tr>\n",
       "  </tbody>\n",
       "</table>\n",
       "</div>"
      ],
      "text/plain": [
       "   Birth Weight  Gestational Days  Maternal Age  Maternal Height  \\\n",
       "0           120               284            27               62   \n",
       "1           113               282            33               64   \n",
       "2           128               279            28               64   \n",
       "3           108               282            23               67   \n",
       "4           136               286            25               62   \n",
       "\n",
       "   Maternal Pregnancy Weight  Maternal Smoker  \n",
       "0                        100            False  \n",
       "1                        135            False  \n",
       "2                        115             True  \n",
       "3                        125             True  \n",
       "4                         93            False  "
      ]
     },
     "execution_count": 2,
     "metadata": {},
     "output_type": "execute_result"
    }
   ],
   "source": [
    "# Kaiser dataset, 70s \n",
    "baby_fp = os.path.join('data', 'baby.csv')\n",
    "baby = pd.read_csv(baby_fp)\n",
    "baby.head()"
   ]
  },
  {
   "cell_type": "markdown",
   "metadata": {
    "slideshow": {
     "slide_type": "-"
    }
   },
   "source": [
    "Only the `'Birth Weight'` and `'Maternal Smoker'` columns are relevant."
   ]
  },
  {
   "cell_type": "code",
   "execution_count": null,
   "metadata": {
    "slideshow": {
     "slide_type": "-"
    }
   },
   "outputs": [],
   "source": [
    "smoking_and_birthweight = baby[['Maternal Smoker', 'Birth Weight']]\n",
    "smoking_and_birthweight.head()"
   ]
  },
  {
   "cell_type": "markdown",
   "metadata": {
    "slideshow": {
     "slide_type": "slide"
    }
   },
   "source": [
    "### Exploratory data analysis\n",
    "\n",
    "How many babies are in each group?"
   ]
  },
  {
   "cell_type": "code",
   "execution_count": null,
   "metadata": {},
   "outputs": [],
   "source": [
    "smoking_and_birthweight.groupby('Maternal Smoker').count()"
   ]
  },
  {
   "cell_type": "markdown",
   "metadata": {},
   "source": [
    "What is the average birth weight within each group?"
   ]
  },
  {
   "cell_type": "code",
   "execution_count": null,
   "metadata": {
    "scrolled": true
   },
   "outputs": [],
   "source": [
    "smoking_and_birthweight.groupby('Maternal Smoker').mean()"
   ]
  },
  {
   "cell_type": "markdown",
   "metadata": {},
   "source": [
    "Note that 16 ounces are in 1 pound, so the above weights are ~7-8 pounds."
   ]
  },
  {
   "cell_type": "markdown",
   "metadata": {
    "slideshow": {
     "slide_type": "slide"
    }
   },
   "source": [
    "### Visualizing birth weight distributions\n",
    "\n",
    "- Below, we draw the distribution of birth weights, separated by mother's smoking status.\n",
    "- The histograms appear to be different, but is the difference possible **due to random chance** or is there a significant difference in the two distributions?"
   ]
  },
  {
   "cell_type": "code",
   "execution_count": null,
   "metadata": {},
   "outputs": [],
   "source": [
    "title = \"Birth Weight by Mother's Smoking Status\"\n",
    "\n",
    "(\n",
    "    smoking_and_birthweight\n",
    "    .groupby('Maternal Smoker')['Birth Weight']\n",
    "    .plot(kind='hist', density=True, legend=True,\n",
    "          ec='w', bins=np.arange(50, 200, 5), alpha=0.75,\n",
    "          title=title)\n",
    ");    "
   ]
  },
  {
   "cell_type": "code",
   "execution_count": null,
   "metadata": {},
   "outputs": [],
   "source": [
    "(\n",
    "    smoking_and_birthweight\n",
    "    .groupby('Maternal Smoker')['Birth Weight']\n",
    "    .plot(kind='kde', legend=True,\n",
    "          title=title)\n",
    ");    "
   ]
  },
  {
   "cell_type": "markdown",
   "metadata": {
    "slideshow": {
     "slide_type": "slide"
    }
   },
   "source": [
    "### The setup\n",
    "\n",
    "- **Null hypothesis**: In the population, birth weights of smokers and non-smokers have the same distribution. The difference we saw was due to random chance.\n",
    "- **Alternative hypothesis**: In the population, babies born to smokers have lower birth weights, on average."
   ]
  },
  {
   "cell_type": "markdown",
   "metadata": {
    "slideshow": {
     "slide_type": "fragment"
    }
   },
   "source": [
    "- Like in all of our previous hypothesis tests, we need to **simulate data under the null**.\n",
    "- But unlike our in our previous hypothesis tests, we don't know what the null distribution is!\n",
    "- Keep this thought in mind, we will revisit it momentarily."
   ]
  },
  {
   "cell_type": "markdown",
   "metadata": {
    "slideshow": {
     "slide_type": "slide"
    }
   },
   "source": [
    "### Alternative hypothesis: birth weights come from *different* distributions...\n",
    "\n",
    "- ...and babies born to mothers who smoke weigh significantly less.\n",
    "- Our alternative hypothesis states that when generating birth weights, \"nature\" looks at whether mother smoked.\n",
    "    - By \"nature\" here, we mean the **data generating process**.\n",
    "\n",
    "<center><img src='imgs/alt-hyp.png' width=40%></center>"
   ]
  },
  {
   "cell_type": "markdown",
   "metadata": {
    "slideshow": {
     "slide_type": "slide"
    }
   },
   "source": [
    "### Null hypothesis: birth weights come from the *same* distribution\n",
    "- Our null hypothesis states that \"smoker\" / \"non-smoker\" labels have no relationship to birth weight. \n",
    "     - In other words, the \"smoker\" / \"non-smoker\" labels **may well have** been assigned at random.\n",
    "\n",
    "<center><img src='imgs/null-hyp.png' width=60%></center>"
   ]
  },
  {
   "cell_type": "markdown",
   "metadata": {
    "slideshow": {
     "slide_type": "slide"
    }
   },
   "source": [
    "### Choosing a test statistic\n",
    "\n",
    "We need a test statistic that can measure **how different** two numerical distributions are."
   ]
  },
  {
   "cell_type": "code",
   "execution_count": null,
   "metadata": {},
   "outputs": [],
   "source": [
    "(\n",
    "    smoking_and_birthweight\n",
    "    .groupby('Maternal Smoker')['Birth Weight']\n",
    "    .plot(kind='kde', legend=True,\n",
    "          title=title,\n",
    "          figsize=(4, 3))\n",
    ");    "
   ]
  },
  {
   "cell_type": "markdown",
   "metadata": {
    "slideshow": {
     "slide_type": "fragment"
    }
   },
   "source": [
    "**Easiest solution:** Difference in group means."
   ]
  },
  {
   "cell_type": "markdown",
   "metadata": {
    "slideshow": {
     "slide_type": "slide"
    }
   },
   "source": [
    "### Difference in group means\n",
    "\n",
    "To compute the difference between the **mean birth weight of babies born to smokers** and the **mean birth weight of babies born to non-smokers**, we can use `groupby`."
   ]
  },
  {
   "cell_type": "code",
   "execution_count": null,
   "metadata": {},
   "outputs": [],
   "source": [
    "smoking_and_birthweight.head()"
   ]
  },
  {
   "cell_type": "code",
   "execution_count": null,
   "metadata": {},
   "outputs": [],
   "source": [
    "means_table = smoking_and_birthweight.groupby('Maternal Smoker').mean()\n",
    "means_table"
   ]
  },
  {
   "cell_type": "code",
   "execution_count": null,
   "metadata": {
    "scrolled": true
   },
   "outputs": [],
   "source": [
    "means_table.loc[True, 'Birth Weight'] - means_table.loc[False, 'Birth Weight']"
   ]
  },
  {
   "cell_type": "markdown",
   "metadata": {},
   "source": [
    "Note that we arbitrarily chose to compute the \"smoking\" mean minus the \"non-smoking\" mean. We could have chosen the other direction, too."
   ]
  },
  {
   "cell_type": "markdown",
   "metadata": {
    "slideshow": {
     "slide_type": "slide"
    }
   },
   "source": [
    "### Another approach\n",
    "\n",
    "Insteading of using `.loc` and manually subtracting, there is another method we can use to find the difference in group means – the `diff` Series/DataFrame method."
   ]
  },
  {
   "cell_type": "code",
   "execution_count": null,
   "metadata": {},
   "outputs": [],
   "source": [
    "s = pd.Series([1, 2, 5, 9, 15])\n",
    "s"
   ]
  },
  {
   "cell_type": "code",
   "execution_count": null,
   "metadata": {},
   "outputs": [],
   "source": [
    "s.diff()"
   ]
  },
  {
   "cell_type": "code",
   "execution_count": null,
   "metadata": {},
   "outputs": [],
   "source": [
    "means_table"
   ]
  },
  {
   "cell_type": "code",
   "execution_count": null,
   "metadata": {},
   "outputs": [],
   "source": [
    "means_table.diff()"
   ]
  },
  {
   "cell_type": "code",
   "execution_count": null,
   "metadata": {},
   "outputs": [],
   "source": [
    "observed_difference = means_table.diff().iloc[-1, 0]\n",
    "observed_difference"
   ]
  },
  {
   "cell_type": "markdown",
   "metadata": {
    "slideshow": {
     "slide_type": "slide"
    }
   },
   "source": [
    "### Testing through simulation\n",
    "\n",
    "- We're almost ready to perform our hypothesis test.\n",
    "    - **Null hypothesis:** In the population, birth weights of smokers and non-smokers have the same distribution. The difference we saw was due to random chance.\n",
    "    - **Alternative hypothesis:** In the population, babies born to smokers have lower birth weights, on average.\n",
    "    - **Test statistic:** Difference in group means."
   ]
  },
  {
   "cell_type": "markdown",
   "metadata": {
    "slideshow": {
     "slide_type": "fragment"
    }
   },
   "source": [
    "- **Issue:** The null hypothesis doesn't say **what** the distribution is.\n",
    "    - This is different from the coin flipping, California ethnicity, and bill length examples, because there **the null hypotheses were well-defined probability models**.\n",
    "    - Here, we can't draw directly from the distribution!\n",
    "- We have to do something a bit more clever."
   ]
  },
  {
   "cell_type": "markdown",
   "metadata": {
    "slideshow": {
     "slide_type": "slide"
    }
   },
   "source": [
    "### Implications of the null hypothesis\n",
    "\n",
    "- Under the null hypothesis, both groups are sampled from the same distribution.\n",
    "- If this is true, then the group label – `'Maternal Smoker'` – has no effect on the birth weight.\n",
    "- In our dataset, we saw **one assignment** of `True` or `False` to each baby."
   ]
  },
  {
   "cell_type": "code",
   "execution_count": null,
   "metadata": {},
   "outputs": [],
   "source": [
    "smoking_and_birthweight.head()"
   ]
  },
  {
   "cell_type": "markdown",
   "metadata": {},
   "source": [
    "- Under the null hypothesis, we were just as likely to see **any other** assignment."
   ]
  },
  {
   "cell_type": "markdown",
   "metadata": {
    "slideshow": {
     "slide_type": "slide"
    }
   },
   "source": [
    "### Permutation tests\n",
    "\n",
    "- In a **permutation test**, we generate new data by **shuffling group labels**.\n",
    "    - In our current example, this involves randomly assigning **babies to `True` or `False`**, while keeping the same number of `True`s and `False`s as we started with.\n",
    "- On each shuffle, we'll compute our test statistic (difference in group means).\n",
    "- If we shuffle many times and compute our test statistic each time, we will approximate the distribution of the test statistic.\n",
    "- We can them compare our observed statistic to this distribution, as in any other hypothesis test."
   ]
  },
  {
   "cell_type": "markdown",
   "metadata": {
    "slideshow": {
     "slide_type": "slide"
    }
   },
   "source": [
    "### Shuffling\n",
    "\n",
    "- We want to randomly shuffle the `'Maternal Smoker'` column.\n",
    "- The DataFrame `sample` method returns a random sample of rows in the DataFrame.\n",
    "    - To create a permutation, either set `n=df.shape[0]` or `frac=1`.\n",
    "    - By default, `sample` samples without replacement, which is what we want."
   ]
  },
  {
   "cell_type": "code",
   "execution_count": null,
   "metadata": {},
   "outputs": [],
   "source": [
    "smoking_and_birthweight.sample(frac=1)"
   ]
  },
  {
   "cell_type": "markdown",
   "metadata": {
    "slideshow": {
     "slide_type": "slide"
    }
   },
   "source": [
    "### Shuffling just one column\n",
    "\n",
    "- Notice: Each time we call `df.sample`, **both** columns are shuffled together.\n",
    "    - If baby 386 was assigned to `False`, they will still be assigned to `False` in the shuffled version.\n",
    "- What we really want is to shuffle just one column of the DataFrame.\n",
    "    - We can either shuffle the whole DataFrame and then extract one column, **or** extract one column and then shuffle it.\n",
    "    - Shuffling just a column is quicker.\n",
    "    - **It doesn't matter which column we shuffle – either way, we will randomly assign babies to `True` or `False`**."
   ]
  },
  {
   "cell_type": "markdown",
   "metadata": {
    "slideshow": {
     "slide_type": "slide"
    }
   },
   "source": [
    "### A single shuffle"
   ]
  },
  {
   "cell_type": "code",
   "execution_count": null,
   "metadata": {
    "scrolled": true
   },
   "outputs": [],
   "source": [
    "smoking_and_birthweight.head()"
   ]
  },
  {
   "cell_type": "markdown",
   "metadata": {},
   "source": [
    "Remember, it doesn't matter which column we shuffle! Here, we'll shuffle birth weights."
   ]
  },
  {
   "cell_type": "code",
   "execution_count": null,
   "metadata": {},
   "outputs": [],
   "source": [
    "shuffled_weights = (\n",
    "    smoking_and_birthweight['Birth Weight']\n",
    "    .sample(frac=1)\n",
    "    .reset_index(drop=True) # Question: What will happen if we do not reset the index?\n",
    ")\n",
    "\n",
    "shuffled_weights.head()"
   ]
  },
  {
   "cell_type": "code",
   "execution_count": null,
   "metadata": {},
   "outputs": [],
   "source": [
    "original_and_shuffled = (\n",
    "    smoking_and_birthweight\n",
    "    .assign(**{'Shuffled Birth Weight': shuffled_weights})\n",
    ")\n",
    "\n",
    "original_and_shuffled.head(10)"
   ]
  },
  {
   "cell_type": "markdown",
   "metadata": {},
   "source": [
    "For details on how `**` works, see [this article](https://pythontips.com/2013/08/04/args-and-kwargs-in-python-explained/)."
   ]
  },
  {
   "cell_type": "markdown",
   "metadata": {
    "slideshow": {
     "slide_type": "slide"
    }
   },
   "source": [
    "### How close are the means of the shuffled groups?\n",
    "\n",
    "One benefit of shuffling `'Birth Weight'` (instead of `'Maternal Smoker'`) is that grouping by `'Maternal Smoker'` allows us to see all of the following information with a single call to `groupby`."
   ]
  },
  {
   "cell_type": "code",
   "execution_count": null,
   "metadata": {},
   "outputs": [],
   "source": [
    "original_and_shuffled.groupby('Maternal Smoker').mean()"
   ]
  },
  {
   "cell_type": "code",
   "execution_count": null,
   "metadata": {},
   "outputs": [],
   "source": [
    "fig, axes = plt.subplots(1, 2, figsize=(15, 5))\n",
    "\n",
    "title = 'Birth Weights by Maternal Smoker, SHUFFLED'\n",
    "original_and_shuffled.groupby('Maternal Smoker')['Shuffled Birth Weight'].plot(kind='kde', title=title, ax=axes[0])\n",
    "\n",
    "title = 'Birth Weights by Maternal Smoker'\n",
    "original_and_shuffled.groupby('Maternal Smoker')['Birth Weight'].plot(kind='kde', title=title, ax=axes[1]);"
   ]
  },
  {
   "cell_type": "markdown",
   "metadata": {
    "slideshow": {
     "slide_type": "slide"
    }
   },
   "source": [
    "### Simulation\n",
    "\n",
    "- This was just one random shuffle.\n",
    "- The question we are trying to answer is, **how likely is it that a random shuffle results in a 9+ ounce difference in means?**\n",
    "- To answer this question, we have to repeat the process of shuffling many, many times. On each iteration, we must:\n",
    "    1. Shuffle the weights.\n",
    "    2. Put them in a DataFrame.\n",
    "    3. Compute the test statistic (difference in group means).\n",
    "    4. Store the result."
   ]
  },
  {
   "cell_type": "code",
   "execution_count": null,
   "metadata": {},
   "outputs": [],
   "source": [
    "n_repetitions = 500\n",
    "\n",
    "differences = []\n",
    "for _ in range(n_repetitions):\n",
    "    \n",
    "    # Step 1: Shuffle the weights\n",
    "    shuffled_weights = (\n",
    "        smoking_and_birthweight['Birth Weight']\n",
    "        .sample(frac=1)\n",
    "        .reset_index(drop=True) # Be sure to reset the index! (Why?)\n",
    "    )\n",
    "    \n",
    "    # Step 2: Put them in a DataFrame\n",
    "    shuffled = (\n",
    "        smoking_and_birthweight\n",
    "        .assign(**{'Shuffled Birth Weight': shuffled_weights})\n",
    "    )\n",
    "    \n",
    "    # Step 3: Compute the test statistic\n",
    "    group_means = (\n",
    "        shuffled\n",
    "        .groupby('Maternal Smoker')\n",
    "        .mean()\n",
    "        .loc[:, 'Shuffled Birth Weight']\n",
    "    )\n",
    "    difference = group_means.diff().iloc[-1]\n",
    "    \n",
    "    # Step 4: Store the result\n",
    "    differences.append(difference)\n",
    "    \n",
    "differences[:10]"
   ]
  },
  {
   "cell_type": "markdown",
   "metadata": {},
   "source": [
    "We already computed the observed statistic earlier, but we compute it again below to keep all of our calculations together."
   ]
  },
  {
   "cell_type": "code",
   "execution_count": null,
   "metadata": {},
   "outputs": [],
   "source": [
    "observed_difference = (\n",
    "    smoking_and_birthweight\n",
    "    .groupby('Maternal Smoker')['Birth Weight']\n",
    "    .mean()\n",
    "    .diff()\n",
    "    .iloc[-1]\n",
    ")\n",
    "\n",
    "observed_difference"
   ]
  },
  {
   "cell_type": "markdown",
   "metadata": {
    "slideshow": {
     "slide_type": "slide"
    }
   },
   "source": [
    "### Conclusion of the test"
   ]
  },
  {
   "cell_type": "code",
   "execution_count": null,
   "metadata": {},
   "outputs": [],
   "source": [
    "title = 'Mean Differences in Birth Weights (Smoker - Non-Smoker)'\n",
    "pd.Series(differences).plot(kind='hist', density=True, ec='w', bins=10, title=title)\n",
    "plt.axvline(x=observed_difference, color='red', linewidth=3);"
   ]
  },
  {
   "cell_type": "markdown",
   "metadata": {},
   "source": [
    "- Under the null hypothesis, we rarely see differences as large as 9.26 ounces.\n",
    "- Therefore, **we reject the null hypothesis that the two groups come from the same distribution**."
   ]
  },
  {
   "cell_type": "markdown",
   "metadata": {
    "slideshow": {
     "slide_type": "slide"
    }
   },
   "source": [
    "### ⚠️ Caution!\n",
    "\n",
    "- We **cannot** conclude that smoking **causes** lower birth weight!\n",
    "- This was an observational study; there may be confounding factors.\n",
    "    - Maybe smokers are more likely to drink caffeine, and caffeine causes lower birth weight.\n",
    "- We can't ethically perform a randomized controlled trial in this case. Why not?"
   ]
  },
  {
   "cell_type": "markdown",
   "metadata": {
    "slideshow": {
     "slide_type": "slide"
    }
   },
   "source": [
    "## Differences between categorical distributions"
   ]
  },
  {
   "cell_type": "markdown",
   "metadata": {
    "slideshow": {
     "slide_type": "slide"
    }
   },
   "source": [
    "### Example: Married vs. unmarried couples\n",
    "\n",
    "* We will use data from a study conducted in 2010 by the [National Center for Family and Marriage Research](https://www.bgsu.edu/ncfmr.html).\n",
    "* The data consists of a national random sample of over 1,000 heterosexual couples who were either married or living together but unmarried.\n",
    "* Each row corresponds to one **person** (not one couple)."
   ]
  },
  {
   "cell_type": "code",
   "execution_count": 3,
   "metadata": {},
   "outputs": [],
   "source": [
    "couples_fp = os.path.join('data', 'married_couples.csv')\n",
    "couples = pd.read_csv(couples_fp)"
   ]
  },
  {
   "cell_type": "code",
   "execution_count": 4,
   "metadata": {},
   "outputs": [
    {
     "data": {
      "text/html": [
       "<div>\n",
       "<style scoped>\n",
       "    .dataframe tbody tr th:only-of-type {\n",
       "        vertical-align: middle;\n",
       "    }\n",
       "\n",
       "    .dataframe tbody tr th {\n",
       "        vertical-align: top;\n",
       "    }\n",
       "\n",
       "    .dataframe thead th {\n",
       "        text-align: right;\n",
       "    }\n",
       "</style>\n",
       "<table border=\"1\" class=\"dataframe\">\n",
       "  <thead>\n",
       "    <tr style=\"text-align: right;\">\n",
       "      <th></th>\n",
       "      <th>hh_id</th>\n",
       "      <th>gender</th>\n",
       "      <th>mar_status</th>\n",
       "      <th>rel_rating</th>\n",
       "      <th>age</th>\n",
       "      <th>education</th>\n",
       "      <th>hh_income</th>\n",
       "      <th>empl_status</th>\n",
       "      <th>hh_internet</th>\n",
       "    </tr>\n",
       "  </thead>\n",
       "  <tbody>\n",
       "    <tr>\n",
       "      <th>0</th>\n",
       "      <td>0</td>\n",
       "      <td>1</td>\n",
       "      <td>1</td>\n",
       "      <td>1</td>\n",
       "      <td>51</td>\n",
       "      <td>12</td>\n",
       "      <td>14</td>\n",
       "      <td>1</td>\n",
       "      <td>1</td>\n",
       "    </tr>\n",
       "    <tr>\n",
       "      <th>1</th>\n",
       "      <td>0</td>\n",
       "      <td>2</td>\n",
       "      <td>1</td>\n",
       "      <td>1</td>\n",
       "      <td>53</td>\n",
       "      <td>9</td>\n",
       "      <td>14</td>\n",
       "      <td>1</td>\n",
       "      <td>1</td>\n",
       "    </tr>\n",
       "    <tr>\n",
       "      <th>2</th>\n",
       "      <td>1</td>\n",
       "      <td>1</td>\n",
       "      <td>1</td>\n",
       "      <td>1</td>\n",
       "      <td>57</td>\n",
       "      <td>11</td>\n",
       "      <td>15</td>\n",
       "      <td>1</td>\n",
       "      <td>1</td>\n",
       "    </tr>\n",
       "    <tr>\n",
       "      <th>3</th>\n",
       "      <td>1</td>\n",
       "      <td>2</td>\n",
       "      <td>1</td>\n",
       "      <td>1</td>\n",
       "      <td>57</td>\n",
       "      <td>9</td>\n",
       "      <td>15</td>\n",
       "      <td>1</td>\n",
       "      <td>1</td>\n",
       "    </tr>\n",
       "    <tr>\n",
       "      <th>4</th>\n",
       "      <td>2</td>\n",
       "      <td>1</td>\n",
       "      <td>1</td>\n",
       "      <td>1</td>\n",
       "      <td>60</td>\n",
       "      <td>12</td>\n",
       "      <td>14</td>\n",
       "      <td>1</td>\n",
       "      <td>1</td>\n",
       "    </tr>\n",
       "  </tbody>\n",
       "</table>\n",
       "</div>"
      ],
      "text/plain": [
       "   hh_id  gender  mar_status  rel_rating  age  education  hh_income  \\\n",
       "0      0       1           1           1   51         12         14   \n",
       "1      0       2           1           1   53          9         14   \n",
       "2      1       1           1           1   57         11         15   \n",
       "3      1       2           1           1   57          9         15   \n",
       "4      2       1           1           1   60         12         14   \n",
       "\n",
       "   empl_status  hh_internet  \n",
       "0            1            1  \n",
       "1            1            1  \n",
       "2            1            1  \n",
       "3            1            1  \n",
       "4            1            1  "
      ]
     },
     "execution_count": 4,
     "metadata": {},
     "output_type": "execute_result"
    }
   ],
   "source": [
    "couples.head()"
   ]
  },
  {
   "cell_type": "markdown",
   "metadata": {},
   "source": [
    "We won't use all of the columns in the DataFrame."
   ]
  },
  {
   "cell_type": "code",
   "execution_count": null,
   "metadata": {},
   "outputs": [],
   "source": [
    "couples = couples[['mar_status', 'empl_status', 'gender', 'age']]\n",
    "couples.head()"
   ]
  },
  {
   "cell_type": "markdown",
   "metadata": {
    "slideshow": {
     "slide_type": "slide"
    }
   },
   "source": [
    "### Cleaning the dataset\n",
    "\n",
    "The numbers in the DataFrame correspond to the mappings below.\n",
    "\n",
    "* `mar_status`: 1=married, 2=unmarried.\n",
    "* `empl_status`: enumerated in the list below.\n",
    "* `gender`: 1=male, 2=female.\n",
    "* `age`: person's age in years."
   ]
  },
  {
   "cell_type": "code",
   "execution_count": null,
   "metadata": {},
   "outputs": [],
   "source": [
    "couples.head()"
   ]
  },
  {
   "cell_type": "code",
   "execution_count": 5,
   "metadata": {},
   "outputs": [],
   "source": [
    "empl = [\n",
    "    'Working as paid employee',\n",
    "    'Working, self-employed',\n",
    "    'Not working - on a temporary layoff from a job',\n",
    "    'Not working - looking for work',\n",
    "    'Not working - retired',\n",
    "    'Not working - disabled',\n",
    "    'Not working - other'\n",
    "]"
   ]
  },
  {
   "cell_type": "code",
   "execution_count": 6,
   "metadata": {},
   "outputs": [],
   "source": [
    "couples = couples.replace({\n",
    "    'mar_status': {1:'married', 2:'unmarried'},\n",
    "    'gender': {1: 'M', 2: 'F'},\n",
    "    'empl_status': {(k + 1): empl[k] for k in range(len(empl))}\n",
    "})"
   ]
  },
  {
   "cell_type": "code",
   "execution_count": null,
   "metadata": {},
   "outputs": [],
   "source": [
    "couples.head()"
   ]
  },
  {
   "cell_type": "markdown",
   "metadata": {
    "slideshow": {
     "slide_type": "slide"
    }
   },
   "source": [
    "### Understanding the `couples` dataset\n",
    "\n",
    "* Who is in our dataset? Mostly young people? Mostly married people? Mostly employed people?\n",
    "* What is the distribution of values in each column?"
   ]
  },
  {
   "cell_type": "code",
   "execution_count": 7,
   "metadata": {},
   "outputs": [
    {
     "name": "stdout",
     "output_type": "stream",
     "text": [
      "hh_id\n"
     ]
    },
    {
     "data": {
      "text/html": [
       "<div>\n",
       "<style scoped>\n",
       "    .dataframe tbody tr th:only-of-type {\n",
       "        vertical-align: middle;\n",
       "    }\n",
       "\n",
       "    .dataframe tbody tr th {\n",
       "        vertical-align: top;\n",
       "    }\n",
       "\n",
       "    .dataframe thead th {\n",
       "        text-align: right;\n",
       "    }\n",
       "</style>\n",
       "<table border=\"1\" class=\"dataframe\">\n",
       "  <thead>\n",
       "    <tr style=\"text-align: right;\">\n",
       "      <th></th>\n",
       "      <th>hh_id</th>\n",
       "    </tr>\n",
       "  </thead>\n",
       "  <tbody>\n",
       "    <tr>\n",
       "      <th>0</th>\n",
       "      <td>0.000967</td>\n",
       "    </tr>\n",
       "    <tr>\n",
       "      <th>712</th>\n",
       "      <td>0.000967</td>\n",
       "    </tr>\n",
       "    <tr>\n",
       "      <th>680</th>\n",
       "      <td>0.000967</td>\n",
       "    </tr>\n",
       "    <tr>\n",
       "      <th>681</th>\n",
       "      <td>0.000967</td>\n",
       "    </tr>\n",
       "    <tr>\n",
       "      <th>682</th>\n",
       "      <td>0.000967</td>\n",
       "    </tr>\n",
       "    <tr>\n",
       "      <th>683</th>\n",
       "      <td>0.000967</td>\n",
       "    </tr>\n",
       "    <tr>\n",
       "      <th>684</th>\n",
       "      <td>0.000967</td>\n",
       "    </tr>\n",
       "    <tr>\n",
       "      <th>685</th>\n",
       "      <td>0.000967</td>\n",
       "    </tr>\n",
       "    <tr>\n",
       "      <th>686</th>\n",
       "      <td>0.000967</td>\n",
       "    </tr>\n",
       "    <tr>\n",
       "      <th>687</th>\n",
       "      <td>0.000967</td>\n",
       "    </tr>\n",
       "  </tbody>\n",
       "</table>\n",
       "</div>"
      ],
      "text/plain": [
       "        hh_id\n",
       "0    0.000967\n",
       "712  0.000967\n",
       "680  0.000967\n",
       "681  0.000967\n",
       "682  0.000967\n",
       "683  0.000967\n",
       "684  0.000967\n",
       "685  0.000967\n",
       "686  0.000967\n",
       "687  0.000967"
      ]
     },
     "metadata": {},
     "output_type": "display_data"
    },
    {
     "name": "stdout",
     "output_type": "stream",
     "text": [
      "gender\n"
     ]
    },
    {
     "data": {
      "text/html": [
       "<div>\n",
       "<style scoped>\n",
       "    .dataframe tbody tr th:only-of-type {\n",
       "        vertical-align: middle;\n",
       "    }\n",
       "\n",
       "    .dataframe tbody tr th {\n",
       "        vertical-align: top;\n",
       "    }\n",
       "\n",
       "    .dataframe thead th {\n",
       "        text-align: right;\n",
       "    }\n",
       "</style>\n",
       "<table border=\"1\" class=\"dataframe\">\n",
       "  <thead>\n",
       "    <tr style=\"text-align: right;\">\n",
       "      <th></th>\n",
       "      <th>gender</th>\n",
       "    </tr>\n",
       "  </thead>\n",
       "  <tbody>\n",
       "    <tr>\n",
       "      <th>M</th>\n",
       "      <td>0.5</td>\n",
       "    </tr>\n",
       "    <tr>\n",
       "      <th>F</th>\n",
       "      <td>0.5</td>\n",
       "    </tr>\n",
       "  </tbody>\n",
       "</table>\n",
       "</div>"
      ],
      "text/plain": [
       "   gender\n",
       "M     0.5\n",
       "F     0.5"
      ]
     },
     "metadata": {},
     "output_type": "display_data"
    },
    {
     "name": "stdout",
     "output_type": "stream",
     "text": [
      "mar_status\n"
     ]
    },
    {
     "data": {
      "text/html": [
       "<div>\n",
       "<style scoped>\n",
       "    .dataframe tbody tr th:only-of-type {\n",
       "        vertical-align: middle;\n",
       "    }\n",
       "\n",
       "    .dataframe tbody tr th {\n",
       "        vertical-align: top;\n",
       "    }\n",
       "\n",
       "    .dataframe thead th {\n",
       "        text-align: right;\n",
       "    }\n",
       "</style>\n",
       "<table border=\"1\" class=\"dataframe\">\n",
       "  <thead>\n",
       "    <tr style=\"text-align: right;\">\n",
       "      <th></th>\n",
       "      <th>mar_status</th>\n",
       "    </tr>\n",
       "  </thead>\n",
       "  <tbody>\n",
       "    <tr>\n",
       "      <th>married</th>\n",
       "      <td>0.717602</td>\n",
       "    </tr>\n",
       "    <tr>\n",
       "      <th>unmarried</th>\n",
       "      <td>0.282398</td>\n",
       "    </tr>\n",
       "  </tbody>\n",
       "</table>\n",
       "</div>"
      ],
      "text/plain": [
       "           mar_status\n",
       "married      0.717602\n",
       "unmarried    0.282398"
      ]
     },
     "metadata": {},
     "output_type": "display_data"
    },
    {
     "name": "stdout",
     "output_type": "stream",
     "text": [
      "rel_rating\n"
     ]
    },
    {
     "data": {
      "text/html": [
       "<div>\n",
       "<style scoped>\n",
       "    .dataframe tbody tr th:only-of-type {\n",
       "        vertical-align: middle;\n",
       "    }\n",
       "\n",
       "    .dataframe tbody tr th {\n",
       "        vertical-align: top;\n",
       "    }\n",
       "\n",
       "    .dataframe thead th {\n",
       "        text-align: right;\n",
       "    }\n",
       "</style>\n",
       "<table border=\"1\" class=\"dataframe\">\n",
       "  <thead>\n",
       "    <tr style=\"text-align: right;\">\n",
       "      <th></th>\n",
       "      <th>rel_rating</th>\n",
       "    </tr>\n",
       "  </thead>\n",
       "  <tbody>\n",
       "    <tr>\n",
       "      <th>1</th>\n",
       "      <td>0.635397</td>\n",
       "    </tr>\n",
       "    <tr>\n",
       "      <th>2</th>\n",
       "      <td>0.291586</td>\n",
       "    </tr>\n",
       "    <tr>\n",
       "      <th>4</th>\n",
       "      <td>0.031431</td>\n",
       "    </tr>\n",
       "    <tr>\n",
       "      <th>3</th>\n",
       "      <td>0.031431</td>\n",
       "    </tr>\n",
       "    <tr>\n",
       "      <th>5</th>\n",
       "      <td>0.010155</td>\n",
       "    </tr>\n",
       "  </tbody>\n",
       "</table>\n",
       "</div>"
      ],
      "text/plain": [
       "   rel_rating\n",
       "1    0.635397\n",
       "2    0.291586\n",
       "4    0.031431\n",
       "3    0.031431\n",
       "5    0.010155"
      ]
     },
     "metadata": {},
     "output_type": "display_data"
    },
    {
     "name": "stdout",
     "output_type": "stream",
     "text": [
      "age\n"
     ]
    },
    {
     "data": {
      "text/html": [
       "<div>\n",
       "<style scoped>\n",
       "    .dataframe tbody tr th:only-of-type {\n",
       "        vertical-align: middle;\n",
       "    }\n",
       "\n",
       "    .dataframe tbody tr th {\n",
       "        vertical-align: top;\n",
       "    }\n",
       "\n",
       "    .dataframe thead th {\n",
       "        text-align: right;\n",
       "    }\n",
       "</style>\n",
       "<table border=\"1\" class=\"dataframe\">\n",
       "  <thead>\n",
       "    <tr style=\"text-align: right;\">\n",
       "      <th></th>\n",
       "      <th>age</th>\n",
       "    </tr>\n",
       "  </thead>\n",
       "  <tbody>\n",
       "    <tr>\n",
       "      <th>53</th>\n",
       "      <td>0.037234</td>\n",
       "    </tr>\n",
       "    <tr>\n",
       "      <th>55</th>\n",
       "      <td>0.036750</td>\n",
       "    </tr>\n",
       "    <tr>\n",
       "      <th>54</th>\n",
       "      <td>0.031431</td>\n",
       "    </tr>\n",
       "    <tr>\n",
       "      <th>40</th>\n",
       "      <td>0.030464</td>\n",
       "    </tr>\n",
       "    <tr>\n",
       "      <th>44</th>\n",
       "      <td>0.029981</td>\n",
       "    </tr>\n",
       "    <tr>\n",
       "      <th>30</th>\n",
       "      <td>0.028046</td>\n",
       "    </tr>\n",
       "    <tr>\n",
       "      <th>48</th>\n",
       "      <td>0.027563</td>\n",
       "    </tr>\n",
       "    <tr>\n",
       "      <th>49</th>\n",
       "      <td>0.027079</td>\n",
       "    </tr>\n",
       "    <tr>\n",
       "      <th>52</th>\n",
       "      <td>0.027079</td>\n",
       "    </tr>\n",
       "    <tr>\n",
       "      <th>43</th>\n",
       "      <td>0.026596</td>\n",
       "    </tr>\n",
       "  </tbody>\n",
       "</table>\n",
       "</div>"
      ],
      "text/plain": [
       "         age\n",
       "53  0.037234\n",
       "55  0.036750\n",
       "54  0.031431\n",
       "40  0.030464\n",
       "44  0.029981\n",
       "30  0.028046\n",
       "48  0.027563\n",
       "49  0.027079\n",
       "52  0.027079\n",
       "43  0.026596"
      ]
     },
     "metadata": {},
     "output_type": "display_data"
    },
    {
     "name": "stdout",
     "output_type": "stream",
     "text": [
      "education\n"
     ]
    },
    {
     "data": {
      "text/html": [
       "<div>\n",
       "<style scoped>\n",
       "    .dataframe tbody tr th:only-of-type {\n",
       "        vertical-align: middle;\n",
       "    }\n",
       "\n",
       "    .dataframe tbody tr th {\n",
       "        vertical-align: top;\n",
       "    }\n",
       "\n",
       "    .dataframe thead th {\n",
       "        text-align: right;\n",
       "    }\n",
       "</style>\n",
       "<table border=\"1\" class=\"dataframe\">\n",
       "  <thead>\n",
       "    <tr style=\"text-align: right;\">\n",
       "      <th></th>\n",
       "      <th>education</th>\n",
       "    </tr>\n",
       "  </thead>\n",
       "  <tbody>\n",
       "    <tr>\n",
       "      <th>10</th>\n",
       "      <td>0.254352</td>\n",
       "    </tr>\n",
       "    <tr>\n",
       "      <th>9</th>\n",
       "      <td>0.233075</td>\n",
       "    </tr>\n",
       "    <tr>\n",
       "      <th>12</th>\n",
       "      <td>0.225338</td>\n",
       "    </tr>\n",
       "    <tr>\n",
       "      <th>11</th>\n",
       "      <td>0.107834</td>\n",
       "    </tr>\n",
       "    <tr>\n",
       "      <th>13</th>\n",
       "      <td>0.095745</td>\n",
       "    </tr>\n",
       "    <tr>\n",
       "      <th>14</th>\n",
       "      <td>0.029014</td>\n",
       "    </tr>\n",
       "    <tr>\n",
       "      <th>7</th>\n",
       "      <td>0.015474</td>\n",
       "    </tr>\n",
       "    <tr>\n",
       "      <th>8</th>\n",
       "      <td>0.013056</td>\n",
       "    </tr>\n",
       "    <tr>\n",
       "      <th>5</th>\n",
       "      <td>0.008704</td>\n",
       "    </tr>\n",
       "    <tr>\n",
       "      <th>6</th>\n",
       "      <td>0.008221</td>\n",
       "    </tr>\n",
       "  </tbody>\n",
       "</table>\n",
       "</div>"
      ],
      "text/plain": [
       "    education\n",
       "10   0.254352\n",
       "9    0.233075\n",
       "12   0.225338\n",
       "11   0.107834\n",
       "13   0.095745\n",
       "14   0.029014\n",
       "7    0.015474\n",
       "8    0.013056\n",
       "5    0.008704\n",
       "6    0.008221"
      ]
     },
     "metadata": {},
     "output_type": "display_data"
    },
    {
     "name": "stdout",
     "output_type": "stream",
     "text": [
      "hh_income\n"
     ]
    },
    {
     "data": {
      "text/html": [
       "<div>\n",
       "<style scoped>\n",
       "    .dataframe tbody tr th:only-of-type {\n",
       "        vertical-align: middle;\n",
       "    }\n",
       "\n",
       "    .dataframe tbody tr th {\n",
       "        vertical-align: top;\n",
       "    }\n",
       "\n",
       "    .dataframe thead th {\n",
       "        text-align: right;\n",
       "    }\n",
       "</style>\n",
       "<table border=\"1\" class=\"dataframe\">\n",
       "  <thead>\n",
       "    <tr style=\"text-align: right;\">\n",
       "      <th></th>\n",
       "      <th>hh_income</th>\n",
       "    </tr>\n",
       "  </thead>\n",
       "  <tbody>\n",
       "    <tr>\n",
       "      <th>13</th>\n",
       "      <td>0.134913</td>\n",
       "    </tr>\n",
       "    <tr>\n",
       "      <th>16</th>\n",
       "      <td>0.115571</td>\n",
       "    </tr>\n",
       "    <tr>\n",
       "      <th>14</th>\n",
       "      <td>0.113153</td>\n",
       "    </tr>\n",
       "    <tr>\n",
       "      <th>15</th>\n",
       "      <td>0.100097</td>\n",
       "    </tr>\n",
       "    <tr>\n",
       "      <th>11</th>\n",
       "      <td>0.088008</td>\n",
       "    </tr>\n",
       "    <tr>\n",
       "      <th>12</th>\n",
       "      <td>0.082689</td>\n",
       "    </tr>\n",
       "    <tr>\n",
       "      <th>17</th>\n",
       "      <td>0.060445</td>\n",
       "    </tr>\n",
       "    <tr>\n",
       "      <th>8</th>\n",
       "      <td>0.043520</td>\n",
       "    </tr>\n",
       "    <tr>\n",
       "      <th>7</th>\n",
       "      <td>0.041586</td>\n",
       "    </tr>\n",
       "    <tr>\n",
       "      <th>10</th>\n",
       "      <td>0.039652</td>\n",
       "    </tr>\n",
       "  </tbody>\n",
       "</table>\n",
       "</div>"
      ],
      "text/plain": [
       "    hh_income\n",
       "13   0.134913\n",
       "16   0.115571\n",
       "14   0.113153\n",
       "15   0.100097\n",
       "11   0.088008\n",
       "12   0.082689\n",
       "17   0.060445\n",
       "8    0.043520\n",
       "7    0.041586\n",
       "10   0.039652"
      ]
     },
     "metadata": {},
     "output_type": "display_data"
    },
    {
     "name": "stdout",
     "output_type": "stream",
     "text": [
      "empl_status\n"
     ]
    },
    {
     "data": {
      "text/html": [
       "<div>\n",
       "<style scoped>\n",
       "    .dataframe tbody tr th:only-of-type {\n",
       "        vertical-align: middle;\n",
       "    }\n",
       "\n",
       "    .dataframe tbody tr th {\n",
       "        vertical-align: top;\n",
       "    }\n",
       "\n",
       "    .dataframe thead th {\n",
       "        text-align: right;\n",
       "    }\n",
       "</style>\n",
       "<table border=\"1\" class=\"dataframe\">\n",
       "  <thead>\n",
       "    <tr style=\"text-align: right;\">\n",
       "      <th></th>\n",
       "      <th>empl_status</th>\n",
       "    </tr>\n",
       "  </thead>\n",
       "  <tbody>\n",
       "    <tr>\n",
       "      <th>Working as paid employee</th>\n",
       "      <td>0.605899</td>\n",
       "    </tr>\n",
       "    <tr>\n",
       "      <th>Not working - other</th>\n",
       "      <td>0.103965</td>\n",
       "    </tr>\n",
       "    <tr>\n",
       "      <th>Working, self-employed</th>\n",
       "      <td>0.098646</td>\n",
       "    </tr>\n",
       "    <tr>\n",
       "      <th>Not working - looking for work</th>\n",
       "      <td>0.067698</td>\n",
       "    </tr>\n",
       "    <tr>\n",
       "      <th>Not working - disabled</th>\n",
       "      <td>0.056576</td>\n",
       "    </tr>\n",
       "    <tr>\n",
       "      <th>Not working - retired</th>\n",
       "      <td>0.050774</td>\n",
       "    </tr>\n",
       "    <tr>\n",
       "      <th>Not working - on a temporary layoff from a job</th>\n",
       "      <td>0.016441</td>\n",
       "    </tr>\n",
       "  </tbody>\n",
       "</table>\n",
       "</div>"
      ],
      "text/plain": [
       "                                                empl_status\n",
       "Working as paid employee                           0.605899\n",
       "Not working - other                                0.103965\n",
       "Working, self-employed                             0.098646\n",
       "Not working - looking for work                     0.067698\n",
       "Not working - disabled                             0.056576\n",
       "Not working - retired                              0.050774\n",
       "Not working - on a temporary layoff from a job     0.016441"
      ]
     },
     "metadata": {},
     "output_type": "display_data"
    },
    {
     "name": "stdout",
     "output_type": "stream",
     "text": [
      "hh_internet\n"
     ]
    },
    {
     "data": {
      "text/html": [
       "<div>\n",
       "<style scoped>\n",
       "    .dataframe tbody tr th:only-of-type {\n",
       "        vertical-align: middle;\n",
       "    }\n",
       "\n",
       "    .dataframe tbody tr th {\n",
       "        vertical-align: top;\n",
       "    }\n",
       "\n",
       "    .dataframe thead th {\n",
       "        text-align: right;\n",
       "    }\n",
       "</style>\n",
       "<table border=\"1\" class=\"dataframe\">\n",
       "  <thead>\n",
       "    <tr style=\"text-align: right;\">\n",
       "      <th></th>\n",
       "      <th>hh_internet</th>\n",
       "    </tr>\n",
       "  </thead>\n",
       "  <tbody>\n",
       "    <tr>\n",
       "      <th>1</th>\n",
       "      <td>0.945358</td>\n",
       "    </tr>\n",
       "    <tr>\n",
       "      <th>0</th>\n",
       "      <td>0.054642</td>\n",
       "    </tr>\n",
       "  </tbody>\n",
       "</table>\n",
       "</div>"
      ],
      "text/plain": [
       "   hh_internet\n",
       "1     0.945358\n",
       "0     0.054642"
      ]
     },
     "metadata": {},
     "output_type": "display_data"
    }
   ],
   "source": [
    "# This cell shows the top 10 most common values in each column, along with their frequencies.\n",
    "for col in couples:\n",
    "    print(col)\n",
    "    empr = couples[col].value_counts(normalize=True).to_frame().iloc[:10]\n",
    "    display(empr)"
   ]
  },
  {
   "cell_type": "markdown",
   "metadata": {
    "slideshow": {
     "slide_type": "slide"
    }
   },
   "source": [
    "Ages are numeric, so the previous summary was not that helpful. Let's draw a histogram."
   ]
  },
  {
   "cell_type": "code",
   "execution_count": null,
   "metadata": {},
   "outputs": [],
   "source": [
    "couples['age'].plot(kind='hist', density=True, ec='w', bins=np.arange(18, 66));"
   ]
  },
  {
   "cell_type": "markdown",
   "metadata": {
    "slideshow": {
     "slide_type": "slide"
    }
   },
   "source": [
    "Let's look at the distribution of age **separately** for married couples and unmarried couples."
   ]
  },
  {
   "cell_type": "code",
   "execution_count": null,
   "metadata": {},
   "outputs": [],
   "source": [
    "G = couples.groupby('mar_status')\n",
    "ax = G.get_group('married')['age'].rename('Married').plot(kind='hist', density=True, alpha=0.75, \n",
    "                                                          ec='w', bins=np.arange(18, 66, 2),\n",
    "                                                          legend=True, title='Distribution of Ages (Married vs. Unmarried)')\n",
    "G.get_group('unmarried')['age'].rename('Unmarried').plot(kind='hist', density=True, alpha=0.75, \n",
    "                                                       ec='w', bins=np.arange(18, 66, 2),\n",
    "                                                       ax=ax, legend=True);"
   ]
  },
  {
   "cell_type": "markdown",
   "metadata": {},
   "source": [
    "What's the difference in the two distributions? Why do you think there is a difference?"
   ]
  },
  {
   "cell_type": "markdown",
   "metadata": {
    "slideshow": {
     "slide_type": "slide"
    }
   },
   "source": [
    "### Understanding employment status in households\n",
    "\n",
    "* Do married households more often have a stay-at-home spouse?\n",
    "* Do households with unmarried couples more often have someone looking for work?\n",
    "* How much does the employment status of the different households vary?\n",
    "\n",
    "To answer these questions, let's compute the distribution of employment status **conditional on household type (married vs. unmarried)**."
   ]
  },
  {
   "cell_type": "code",
   "execution_count": null,
   "metadata": {},
   "outputs": [],
   "source": [
    "couples.head()"
   ]
  },
  {
   "cell_type": "code",
   "execution_count": 9,
   "metadata": {
    "scrolled": true
   },
   "outputs": [
    {
     "data": {
      "text/html": [
       "<div>\n",
       "<style scoped>\n",
       "    .dataframe tbody tr th:only-of-type {\n",
       "        vertical-align: middle;\n",
       "    }\n",
       "\n",
       "    .dataframe tbody tr th {\n",
       "        vertical-align: top;\n",
       "    }\n",
       "\n",
       "    .dataframe thead th {\n",
       "        text-align: right;\n",
       "    }\n",
       "</style>\n",
       "<table border=\"1\" class=\"dataframe\">\n",
       "  <thead>\n",
       "    <tr style=\"text-align: right;\">\n",
       "      <th>mar_status</th>\n",
       "      <th>married</th>\n",
       "      <th>unmarried</th>\n",
       "    </tr>\n",
       "    <tr>\n",
       "      <th>empl_status</th>\n",
       "      <th></th>\n",
       "      <th></th>\n",
       "    </tr>\n",
       "  </thead>\n",
       "  <tbody>\n",
       "    <tr>\n",
       "      <th>Not working - disabled</th>\n",
       "      <td>72</td>\n",
       "      <td>45</td>\n",
       "    </tr>\n",
       "    <tr>\n",
       "      <th>Not working - looking for work</th>\n",
       "      <td>71</td>\n",
       "      <td>69</td>\n",
       "    </tr>\n",
       "    <tr>\n",
       "      <th>Not working - on a temporary layoff from a job</th>\n",
       "      <td>21</td>\n",
       "      <td>13</td>\n",
       "    </tr>\n",
       "    <tr>\n",
       "      <th>Not working - other</th>\n",
       "      <td>182</td>\n",
       "      <td>33</td>\n",
       "    </tr>\n",
       "    <tr>\n",
       "      <th>Not working - retired</th>\n",
       "      <td>94</td>\n",
       "      <td>11</td>\n",
       "    </tr>\n",
       "    <tr>\n",
       "      <th>Working as paid employee</th>\n",
       "      <td>906</td>\n",
       "      <td>347</td>\n",
       "    </tr>\n",
       "    <tr>\n",
       "      <th>Working, self-employed</th>\n",
       "      <td>138</td>\n",
       "      <td>66</td>\n",
       "    </tr>\n",
       "  </tbody>\n",
       "</table>\n",
       "</div>"
      ],
      "text/plain": [
       "mar_status                                      married  unmarried\n",
       "empl_status                                                       \n",
       "Not working - disabled                               72         45\n",
       "Not working - looking for work                       71         69\n",
       "Not working - on a temporary layoff from a job       21         13\n",
       "Not working - other                                 182         33\n",
       "Not working - retired                                94         11\n",
       "Working as paid employee                            906        347\n",
       "Working, self-employed                              138         66"
      ]
     },
     "execution_count": 9,
     "metadata": {},
     "output_type": "execute_result"
    }
   ],
   "source": [
    "# Note that this is a shortcut to picking a column for values and using aggfunc='count'\n",
    "empl_cnts = couples.pivot_table(index='empl_status', columns='mar_status', aggfunc='size')\n",
    "empl_cnts"
   ]
  },
  {
   "cell_type": "markdown",
   "metadata": {},
   "source": [
    "Since there are a different number of married and unmarried couples in the dataset, we can't compare the numbers above directly. We need to convert counts to proportions, separately for married and unmarried couples."
   ]
  },
  {
   "cell_type": "code",
   "execution_count": 8,
   "metadata": {},
   "outputs": [
    {
     "ename": "NameError",
     "evalue": "name 'empl_cnts' is not defined",
     "output_type": "error",
     "traceback": [
      "\u001b[0;31m---------------------------------------------------------------------------\u001b[0m",
      "\u001b[0;31mNameError\u001b[0m                                 Traceback (most recent call last)",
      "Input \u001b[0;32mIn [8]\u001b[0m, in \u001b[0;36m<cell line: 1>\u001b[0;34m()\u001b[0m\n\u001b[0;32m----> 1\u001b[0m \u001b[43mempl_cnts\u001b[49m\u001b[38;5;241m.\u001b[39msum()\n",
      "\u001b[0;31mNameError\u001b[0m: name 'empl_cnts' is not defined"
     ]
    }
   ],
   "source": [
    "empl_cnts.sum()"
   ]
  },
  {
   "cell_type": "code",
   "execution_count": null,
   "metadata": {},
   "outputs": [],
   "source": [
    "cond_distr = empl_cnts / empl_cnts.sum()\n",
    "cond_distr"
   ]
  },
  {
   "cell_type": "markdown",
   "metadata": {},
   "source": [
    "Both of the columns above sum to 1."
   ]
  },
  {
   "cell_type": "markdown",
   "metadata": {
    "slideshow": {
     "slide_type": "slide"
    }
   },
   "source": [
    "### Differences in the distributions\n",
    "\n",
    "* Are the distributions of employment status for married people and for unmarried people who live with their partners **different**?\n",
    "* Is this difference just due to noise?"
   ]
  },
  {
   "cell_type": "code",
   "execution_count": null,
   "metadata": {},
   "outputs": [],
   "source": [
    "cond_distr.plot(kind='barh', title='Distribution of Employment Status, Conditional on Household Type');"
   ]
  },
  {
   "cell_type": "markdown",
   "metadata": {
    "slideshow": {
     "slide_type": "slide"
    }
   },
   "source": [
    "### Permutation test for household composition \n",
    "\n",
    "* **Null hypothesis**: In the US, the distribution of employment status among those who are married is the same as among those who are unmarried and live with their partners. The difference between the two observed samples is due to chance.\n",
    "\n",
    "* **Alternative hypothesis**: In the US, the distributions of employment status of the two groups are **different**."
   ]
  },
  {
   "cell_type": "markdown",
   "metadata": {
    "slideshow": {
     "slide_type": "slide"
    }
   },
   "source": [
    "### Discussion Question\n",
    "\n",
    "What is a good test statistic in this case?\n",
    "\n",
    "***Hint:*** What kind of distributions are we comparing?"
   ]
  },
  {
   "cell_type": "markdown",
   "metadata": {
    "slideshow": {
     "slide_type": "slide"
    }
   },
   "source": [
    "### Total variation distance\n",
    "\n",
    "- Whenever we need to compare two categorical distributions, we use the TVD.\n",
    "    - Recall, the TVD is the **sum of the absolute differences in proportions, divided by 2**.\n",
    "- In DSC 10, the only test statistic we ever used in permutation tests was the difference in group means/medians, but the TVD can be used in permutation tests as well."
   ]
  },
  {
   "cell_type": "code",
   "execution_count": null,
   "metadata": {},
   "outputs": [],
   "source": [
    "cond_distr"
   ]
  },
  {
   "cell_type": "markdown",
   "metadata": {},
   "source": [
    "Let's first compute the observed TVD."
   ]
  },
  {
   "cell_type": "code",
   "execution_count": null,
   "metadata": {},
   "outputs": [],
   "source": [
    "cond_distr.diff(axis=1).iloc[:, -1].abs().sum() / 2"
   ]
  },
  {
   "cell_type": "markdown",
   "metadata": {},
   "source": [
    "Since we'll need to calculate the TVD repeatedly, let's define a function that computes it."
   ]
  },
  {
   "cell_type": "code",
   "execution_count": null,
   "metadata": {},
   "outputs": [],
   "source": [
    "couples.head()"
   ]
  },
  {
   "cell_type": "code",
   "execution_count": null,
   "metadata": {},
   "outputs": [],
   "source": [
    "def tvd_of_groups(df):\n",
    "    cnts = df.pivot_table(index='empl_status', columns='mar_status', aggfunc='size')\n",
    "    distr = cnts / cnts.sum()   # Normalized\n",
    "    return distr.diff(axis=1).iloc[:, -1].abs().sum() / 2  # TVD"
   ]
  },
  {
   "cell_type": "code",
   "execution_count": null,
   "metadata": {},
   "outputs": [],
   "source": [
    "# Same result as above\n",
    "observed_tvd = tvd_of_groups(couples)\n",
    "observed_tvd"
   ]
  },
  {
   "cell_type": "markdown",
   "metadata": {
    "slideshow": {
     "slide_type": "slide"
    }
   },
   "source": [
    "### Simulation\n",
    "\n",
    "- Under the null hypothesis, marital status is not related to employment status.\n",
    "- We can shuffle the marital status column and get an equally-likely dataset.\n",
    "- On each shuffle, we will compute the TVD.\n",
    "- Once we have many TVDs, we can ask, **how often do we see a difference as large as our observed difference?**"
   ]
  },
  {
   "cell_type": "code",
   "execution_count": null,
   "metadata": {},
   "outputs": [],
   "source": [
    "couples.head()"
   ]
  },
  {
   "cell_type": "markdown",
   "metadata": {},
   "source": [
    "Again, let's first figure out how to perform a single shuffle. Here, we'll shuffle marital statuses. "
   ]
  },
  {
   "cell_type": "code",
   "execution_count": null,
   "metadata": {},
   "outputs": [],
   "source": [
    "s = couples['mar_status'].sample(frac=1).reset_index(drop=True)\n",
    "s"
   ]
  },
  {
   "cell_type": "code",
   "execution_count": null,
   "metadata": {},
   "outputs": [],
   "source": [
    "shuffled = couples.loc[:, ['empl_status']].assign(mar_status=s)\n",
    "shuffled"
   ]
  },
  {
   "cell_type": "code",
   "execution_count": null,
   "metadata": {},
   "outputs": [],
   "source": [
    "tvd_of_groups(shuffled)"
   ]
  },
  {
   "cell_type": "markdown",
   "metadata": {},
   "source": [
    "Let's do this repeatedly."
   ]
  },
  {
   "cell_type": "code",
   "execution_count": null,
   "metadata": {},
   "outputs": [],
   "source": [
    "N = 1000\n",
    "tvds = []\n",
    "\n",
    "for _ in range(N):\n",
    "    \n",
    "    s = couples['mar_status'].sample(frac=1).reset_index(drop=True)\n",
    "    shuffled = couples.loc[:, ['empl_status']].assign(mar_status=s)\n",
    "    \n",
    "    tvds.append(tvd_of_groups(shuffled))\n",
    "\n",
    "tvds = pd.Series(tvds)"
   ]
  },
  {
   "cell_type": "markdown",
   "metadata": {},
   "source": [
    "Notice that by defining a function that computes our test statistic, our simulation code is much cleaner."
   ]
  },
  {
   "cell_type": "markdown",
   "metadata": {
    "slideshow": {
     "slide_type": "slide"
    }
   },
   "source": [
    "### Results"
   ]
  },
  {
   "cell_type": "code",
   "execution_count": null,
   "metadata": {},
   "outputs": [],
   "source": [
    "pval = (tvds >= observed_tvd).sum() / N\n",
    "tvds.plot(kind='hist', density=True, ec='w', bins=20, title=f'P-value: {pval}', label='Simulated TVDs')\n",
    "plt.axvline(x=observed_tvd, color='red', linewidth=3, label='P-value')\n",
    "\n",
    "perc = np.percentile(tvds, 95) # 5% significance level\n",
    "plt.axvline(x=perc, color='y', linewidth=3, label='P-value cutoff')\n",
    "\n",
    "plt.legend();"
   ]
  },
  {
   "cell_type": "markdown",
   "metadata": {
    "slideshow": {
     "slide_type": "slide"
    }
   },
   "source": [
    "### Conclusion: household composition\n",
    "\n",
    "- We **reject** the null hypothesis that married/unmarried households have similar employment makeups.\n",
    "- We can't say anything about **why** the employment makeups are different, though!"
   ]
  },
  {
   "cell_type": "markdown",
   "metadata": {
    "slideshow": {
     "slide_type": "slide"
    }
   },
   "source": [
    "### Discussion Question\n",
    "\n",
    "In the definition of the TVD, we divide the sum of the absolute differences in proportions between the two distributions by 2.\n",
    "\n",
    "```py\n",
    "def tvd(a, b):\n",
    "    return np.sum(np.abs(a - b)) / 2\n",
    "```\n",
    "\n",
    "**Question:** If we divided by 200 instead of 2, would we still reject the null hypothesis?"
   ]
  },
  {
   "cell_type": "markdown",
   "metadata": {
    "slideshow": {
     "slide_type": "slide"
    }
   },
   "source": [
    "### An alternative investigation\n",
    "\n",
    "* Between the two groups (married and unmarried), is there a significant difference in the proportion of people `'Not working'`, but either `'looking for work'` or `'disabled'`?\n",
    "    - In other words, is there a significant difference in the proportion of people who are out of work, not by choice?\n",
    "- For each group, let's compute the average number of `'Not working – looking for work'` + `'Not working – disabled'` individuals."
   ]
  },
  {
   "cell_type": "code",
   "execution_count": 2,
   "metadata": {},
   "outputs": [
    {
     "ename": "NameError",
     "evalue": "name 'couples' is not defined",
     "output_type": "error",
     "traceback": [
      "\u001b[0;31m---------------------------------------------------------------------------\u001b[0m",
      "\u001b[0;31mNameError\u001b[0m                                 Traceback (most recent call last)",
      "Input \u001b[0;32mIn [2]\u001b[0m, in \u001b[0;36m<cell line: 1>\u001b[0;34m()\u001b[0m\n\u001b[0;32m----> 1\u001b[0m \u001b[43mcouples\u001b[49m\u001b[38;5;241m.\u001b[39mhead()\n",
      "\u001b[0;31mNameError\u001b[0m: name 'couples' is not defined"
     ]
    }
   ],
   "source": [
    "couples.head()"
   ]
  },
  {
   "cell_type": "code",
   "execution_count": null,
   "metadata": {},
   "outputs": [],
   "source": [
    "couples['empl_status'].value_counts()"
   ]
  },
  {
   "cell_type": "markdown",
   "metadata": {},
   "source": [
    "The Series `isin` method will be helpful here."
   ]
  },
  {
   "cell_type": "code",
   "execution_count": null,
   "metadata": {},
   "outputs": [],
   "source": [
    "not_work_no_choice = couples['empl_status'].isin(['Not working - looking for work', 'Not working - disabled'])\n",
    "not_work_no_choice"
   ]
  },
  {
   "cell_type": "code",
   "execution_count": null,
   "metadata": {},
   "outputs": [],
   "source": [
    "couples['not_work_no_choice'] = not_work_no_choice.replace({True: 1, False: 0})\n",
    "couples.head(12)"
   ]
  },
  {
   "cell_type": "markdown",
   "metadata": {},
   "source": [
    "Let's group by `mar_status` once again."
   ]
  },
  {
   "cell_type": "code",
   "execution_count": null,
   "metadata": {},
   "outputs": [],
   "source": [
    "couples.groupby('mar_status')['not_work_no_choice'].mean()"
   ]
  },
  {
   "cell_type": "markdown",
   "metadata": {},
   "source": [
    "Notice this is not a cateogrical distribution, so we don't need to use the TVD. Instead, we can just compute the difference in group means."
   ]
  },
  {
   "cell_type": "code",
   "execution_count": null,
   "metadata": {},
   "outputs": [],
   "source": [
    "obs_mean = couples.groupby('mar_status')['not_work_no_choice'].mean().diff().iloc[-1]\n",
    "obs_mean"
   ]
  },
  {
   "cell_type": "markdown",
   "metadata": {
    "slideshow": {
     "slide_type": "slide"
    }
   },
   "source": [
    "### Simulation"
   ]
  },
  {
   "cell_type": "code",
   "execution_count": null,
   "metadata": {},
   "outputs": [],
   "source": [
    "N = 1000\n",
    "means = []\n",
    "\n",
    "for _ in range(N):\n",
    "    \n",
    "    s = couples['mar_status'].sample(frac=1).reset_index(drop=True)\n",
    "    shuffled = couples.loc[:, ['not_work_no_choice']].assign(mar_status=s)\n",
    "\n",
    "    m = shuffled.groupby('mar_status')['not_work_no_choice'].mean().diff().iloc[-1]\n",
    "    \n",
    "    means.append(m)\n",
    "\n",
    "means = pd.Series(means)"
   ]
  },
  {
   "cell_type": "markdown",
   "metadata": {
    "slideshow": {
     "slide_type": "slide"
    }
   },
   "source": [
    "### Results"
   ]
  },
  {
   "cell_type": "code",
   "execution_count": null,
   "metadata": {},
   "outputs": [],
   "source": [
    "pval = (means >= obs_mean).sum() / N\n",
    "means.plot(kind='hist', density=True, ec='w', bins=20, title=f'P-value: {pval}', label='Simulated Differences in Means')\n",
    "plt.axvline(x=obs_mean, color='red', linewidth=3, label='P-value')\n",
    "\n",
    "perc = np.percentile(means, 95) # 5% significance level\n",
    "plt.axvline(x=perc, color='y', linewidth=3, label='P-value cutoff')\n",
    "\n",
    "plt.legend();"
   ]
  },
  {
   "cell_type": "markdown",
   "metadata": {
    "slideshow": {
     "slide_type": "slide"
    }
   },
   "source": [
    "### Conclusion: Household composition; not working, not by choice\n",
    "\n",
    "Again, we **reject** the null hypothesis that married/unmarried households are similarly composed of those not working (not by choice) and otherwise."
   ]
  },
  {
   "cell_type": "markdown",
   "metadata": {
    "slideshow": {
     "slide_type": "slide"
    }
   },
   "source": [
    "## Summary, next time"
   ]
  },
  {
   "cell_type": "markdown",
   "metadata": {
    "slideshow": {
     "slide_type": "slide"
    }
   },
   "source": [
    "### Summary\n",
    "\n",
    "- Permutation tests help decide whether **two samples came from the same distribution**.\n",
    "- In a permutation test, we simulate data under the null by **shuffling** either group labels or numerical features.\n",
    "    - In effect, this **randomly assigns individuals to groups**.\n",
    "- If the two distributions are numeric, we use as our test statistic the difference in group means or medians.\n",
    "- If the two distributions are categorical, we use as our test statistic the total variation distance (TVD).\n",
    "- **Next time:** How to speed up permutation tests. Revisiting missing values."
   ]
  }
 ],
 "metadata": {
  "celltoolbar": "Slideshow",
  "kernelspec": {
   "display_name": "Python 3 (ipykernel)",
   "language": "python",
   "name": "python3"
  },
  "language_info": {
   "codemirror_mode": {
    "name": "ipython",
    "version": 3
   },
   "file_extension": ".py",
   "mimetype": "text/x-python",
   "name": "python",
   "nbconvert_exporter": "python",
   "pygments_lexer": "ipython3",
   "version": "3.8.12"
  },
  "livereveal": {
   "scroll": true,
   "transition": "none"
  }
 },
 "nbformat": 4,
 "nbformat_minor": 2
}
