{
 "cells": [
  {
   "cell_type": "code",
   "execution_count": 1,
   "id": "af746811",
   "metadata": {
    "slideshow": {
     "slide_type": "skip"
    }
   },
   "outputs": [],
   "source": [
    "import pandas as pd\n",
    "import numpy as np\n",
    "import os"
   ]
  },
  {
   "cell_type": "markdown",
   "id": "345a4005",
   "metadata": {
    "slideshow": {
     "slide_type": "slide"
    }
   },
   "source": [
    "# Lecture 4 – Messy Data\n",
    "\n",
    "## DSC 80, Spring 2022"
   ]
  },
  {
   "cell_type": "markdown",
   "id": "3dddebf0",
   "metadata": {
    "slideshow": {
     "slide_type": "slide"
    }
   },
   "source": [
    "### Announcements\n",
    "\n",
    "- Lab 1 is due **tonight at 11:59PM**.\n",
    "    - Watch [this video 🎥](https://youtu.be/FpTo4AM9B30) for setup instructions.\n",
    "    - Please submit the [Welcome + Alternate Exams Form](https://docs.google.com/forms/d/e/1FAIpQLSdBKLcPs4Xi0plaIw0MVZ0DyGcvnSZyHxKVC7S7LwEiCchepQ/viewform) **by tonight**.\n",
    "- Project 1 is released!\n",
    "    - Watch [this video 🎥](https://www.youtube.com/watch?v=Os-BT0FTzVg) to get an overview of the project, and use [this sheet](https://docs.google.com/spreadsheets/d/1PMtGpd4U6rYBn6Ut6eHQzSo4PdBwluU-ppx87ROy_N8/edit#gid=0) to find a pair programming partner.\n",
    "    - The Checkpoint is due on **Thursday, April 7th at 11:59PM**.\n",
    "    - The whole project is due on **Thursday, April 14th at 11:59PM**."
   ]
  },
  {
   "cell_type": "markdown",
   "id": "1283dedb",
   "metadata": {
    "slideshow": {
     "slide_type": "slide"
    }
   },
   "source": [
    "### Agenda\n",
    "\n",
    "- Recap: adding columns.\n",
    "- Introduction to messy data and data cleaning.\n",
    "- Kinds of variables.\n",
    "- Unfaithful data."
   ]
  },
  {
   "cell_type": "markdown",
   "id": "ab9b7d2d",
   "metadata": {
    "slideshow": {
     "slide_type": "slide"
    }
   },
   "source": [
    "## Recap: adding columns"
   ]
  },
  {
   "cell_type": "code",
   "execution_count": 2,
   "id": "78e5f459",
   "metadata": {
    "slideshow": {
     "slide_type": "slide"
    }
   },
   "outputs": [
    {
     "data": {
      "text/html": [
       "<div>\n",
       "<style scoped>\n",
       "    .dataframe tbody tr th:only-of-type {\n",
       "        vertical-align: middle;\n",
       "    }\n",
       "\n",
       "    .dataframe tbody tr th {\n",
       "        vertical-align: top;\n",
       "    }\n",
       "\n",
       "    .dataframe thead th {\n",
       "        text-align: right;\n",
       "    }\n",
       "</style>\n",
       "<table border=\"1\" class=\"dataframe\">\n",
       "  <thead>\n",
       "    <tr style=\"text-align: right;\">\n",
       "      <th></th>\n",
       "      <th>Candidate</th>\n",
       "      <th>Party</th>\n",
       "      <th>%</th>\n",
       "      <th>Year</th>\n",
       "      <th>Result</th>\n",
       "    </tr>\n",
       "  </thead>\n",
       "  <tbody>\n",
       "    <tr>\n",
       "      <th>0</th>\n",
       "      <td>Reagan</td>\n",
       "      <td>Republican</td>\n",
       "      <td>50.7</td>\n",
       "      <td>1980</td>\n",
       "      <td>win</td>\n",
       "    </tr>\n",
       "    <tr>\n",
       "      <th>1</th>\n",
       "      <td>Carter</td>\n",
       "      <td>Democratic</td>\n",
       "      <td>41.0</td>\n",
       "      <td>1980</td>\n",
       "      <td>loss</td>\n",
       "    </tr>\n",
       "    <tr>\n",
       "      <th>2</th>\n",
       "      <td>Anderson</td>\n",
       "      <td>Independent</td>\n",
       "      <td>6.6</td>\n",
       "      <td>1980</td>\n",
       "      <td>loss</td>\n",
       "    </tr>\n",
       "    <tr>\n",
       "      <th>3</th>\n",
       "      <td>Reagan</td>\n",
       "      <td>Republican</td>\n",
       "      <td>58.8</td>\n",
       "      <td>1984</td>\n",
       "      <td>win</td>\n",
       "    </tr>\n",
       "    <tr>\n",
       "      <th>4</th>\n",
       "      <td>Mondale</td>\n",
       "      <td>Democratic</td>\n",
       "      <td>37.6</td>\n",
       "      <td>1984</td>\n",
       "      <td>loss</td>\n",
       "    </tr>\n",
       "    <tr>\n",
       "      <th>5</th>\n",
       "      <td>Bush</td>\n",
       "      <td>Republican</td>\n",
       "      <td>53.4</td>\n",
       "      <td>1988</td>\n",
       "      <td>win</td>\n",
       "    </tr>\n",
       "    <tr>\n",
       "      <th>6</th>\n",
       "      <td>Dukakis</td>\n",
       "      <td>Democratic</td>\n",
       "      <td>45.6</td>\n",
       "      <td>1988</td>\n",
       "      <td>loss</td>\n",
       "    </tr>\n",
       "    <tr>\n",
       "      <th>7</th>\n",
       "      <td>Clinton</td>\n",
       "      <td>Democratic</td>\n",
       "      <td>43.0</td>\n",
       "      <td>1992</td>\n",
       "      <td>win</td>\n",
       "    </tr>\n",
       "    <tr>\n",
       "      <th>8</th>\n",
       "      <td>Bush</td>\n",
       "      <td>Republican</td>\n",
       "      <td>37.4</td>\n",
       "      <td>1992</td>\n",
       "      <td>loss</td>\n",
       "    </tr>\n",
       "    <tr>\n",
       "      <th>9</th>\n",
       "      <td>Perot</td>\n",
       "      <td>Independent</td>\n",
       "      <td>18.9</td>\n",
       "      <td>1992</td>\n",
       "      <td>loss</td>\n",
       "    </tr>\n",
       "  </tbody>\n",
       "</table>\n",
       "</div>"
      ],
      "text/plain": [
       "  Candidate        Party     %  Year Result\n",
       "0    Reagan   Republican  50.7  1980    win\n",
       "1    Carter   Democratic  41.0  1980   loss\n",
       "2  Anderson  Independent   6.6  1980   loss\n",
       "3    Reagan   Republican  58.8  1984    win\n",
       "4   Mondale   Democratic  37.6  1984   loss\n",
       "5      Bush   Republican  53.4  1988    win\n",
       "6   Dukakis   Democratic  45.6  1988   loss\n",
       "7   Clinton   Democratic  43.0  1992    win\n",
       "8      Bush   Republican  37.4  1992   loss\n",
       "9     Perot  Independent  18.9  1992   loss"
      ]
     },
     "execution_count": 2,
     "metadata": {},
     "output_type": "execute_result"
    }
   ],
   "source": [
    "elections_fp = os.path.join('data', 'elections.csv')\n",
    "elections = pd.read_csv(elections_fp)\n",
    "elections.head(10)"
   ]
  },
  {
   "cell_type": "markdown",
   "id": "0824d676",
   "metadata": {
    "slideshow": {
     "slide_type": "slide"
    }
   },
   "source": [
    "### Adding and modifying columns, using a copy\n",
    "\n",
    "* To add a new column to a DataFrame, use the `assign` method.\n",
    "* To add a new row to a DataFrame, use the `append` method.\n",
    "* Both `assign` and `append` return a copy of the DataFrame, **which is a great feature!**\n",
    "* To change the values in a column, re-assign its name to a sequence of the desired values."
   ]
  },
  {
   "cell_type": "markdown",
   "id": "c0066c44",
   "metadata": {},
   "source": [
    "As an aside, you should try your best to write **chained** `pandas` code, as follows:"
   ]
  },
  {
   "cell_type": "code",
   "execution_count": 4,
   "id": "a1e55539",
   "metadata": {
    "scrolled": true
   },
   "outputs": [
    {
     "data": {
      "text/plain": [
       "0     0.507\n",
       "1     0.410\n",
       "2     0.066\n",
       "3     0.588\n",
       "4     0.376\n",
       "5     0.534\n",
       "6     0.456\n",
       "7     0.430\n",
       "8     0.374\n",
       "9     0.189\n",
       "10    0.492\n",
       "11    0.407\n",
       "12    0.084\n",
       "13    0.484\n",
       "14    0.479\n",
       "15    0.483\n",
       "16    0.507\n",
       "17    0.529\n",
       "18    0.457\n",
       "19    0.511\n",
       "20    0.472\n",
       "21    0.482\n",
       "22    0.461\n",
       "23    0.513\n",
       "24    0.469\n",
       "Name: %, dtype: float64"
      ]
     },
     "execution_count": 4,
     "metadata": {},
     "output_type": "execute_result"
    }
   ],
   "source": [
    "elections['%'] / 100"
   ]
  },
  {
   "cell_type": "code",
   "execution_count": 9,
   "id": "19650726",
   "metadata": {
    "scrolled": true
   },
   "outputs": [],
   "source": [
    "elections = elections.assign(prop_of_vote = elections['%']/100)"
   ]
  },
  {
   "cell_type": "code",
   "execution_count": 10,
   "id": "41219498",
   "metadata": {},
   "outputs": [
    {
     "data": {
      "text/html": [
       "<div>\n",
       "<style scoped>\n",
       "    .dataframe tbody tr th:only-of-type {\n",
       "        vertical-align: middle;\n",
       "    }\n",
       "\n",
       "    .dataframe tbody tr th {\n",
       "        vertical-align: top;\n",
       "    }\n",
       "\n",
       "    .dataframe thead th {\n",
       "        text-align: right;\n",
       "    }\n",
       "</style>\n",
       "<table border=\"1\" class=\"dataframe\">\n",
       "  <thead>\n",
       "    <tr style=\"text-align: right;\">\n",
       "      <th></th>\n",
       "      <th>Candidate</th>\n",
       "      <th>Party</th>\n",
       "      <th>%</th>\n",
       "      <th>Year</th>\n",
       "      <th>Result</th>\n",
       "      <th>prop_of_vote</th>\n",
       "    </tr>\n",
       "  </thead>\n",
       "  <tbody>\n",
       "    <tr>\n",
       "      <th>0</th>\n",
       "      <td>Reagan</td>\n",
       "      <td>Republican</td>\n",
       "      <td>50.7</td>\n",
       "      <td>1980</td>\n",
       "      <td>win</td>\n",
       "      <td>0.507</td>\n",
       "    </tr>\n",
       "    <tr>\n",
       "      <th>1</th>\n",
       "      <td>Carter</td>\n",
       "      <td>Democratic</td>\n",
       "      <td>41.0</td>\n",
       "      <td>1980</td>\n",
       "      <td>loss</td>\n",
       "      <td>0.410</td>\n",
       "    </tr>\n",
       "    <tr>\n",
       "      <th>2</th>\n",
       "      <td>Anderson</td>\n",
       "      <td>Independent</td>\n",
       "      <td>6.6</td>\n",
       "      <td>1980</td>\n",
       "      <td>loss</td>\n",
       "      <td>0.066</td>\n",
       "    </tr>\n",
       "    <tr>\n",
       "      <th>3</th>\n",
       "      <td>Reagan</td>\n",
       "      <td>Republican</td>\n",
       "      <td>58.8</td>\n",
       "      <td>1984</td>\n",
       "      <td>win</td>\n",
       "      <td>0.588</td>\n",
       "    </tr>\n",
       "    <tr>\n",
       "      <th>4</th>\n",
       "      <td>Mondale</td>\n",
       "      <td>Democratic</td>\n",
       "      <td>37.6</td>\n",
       "      <td>1984</td>\n",
       "      <td>loss</td>\n",
       "      <td>0.376</td>\n",
       "    </tr>\n",
       "    <tr>\n",
       "      <th>5</th>\n",
       "      <td>Bush</td>\n",
       "      <td>Republican</td>\n",
       "      <td>53.4</td>\n",
       "      <td>1988</td>\n",
       "      <td>win</td>\n",
       "      <td>0.534</td>\n",
       "    </tr>\n",
       "    <tr>\n",
       "      <th>6</th>\n",
       "      <td>Dukakis</td>\n",
       "      <td>Democratic</td>\n",
       "      <td>45.6</td>\n",
       "      <td>1988</td>\n",
       "      <td>loss</td>\n",
       "      <td>0.456</td>\n",
       "    </tr>\n",
       "    <tr>\n",
       "      <th>7</th>\n",
       "      <td>Clinton</td>\n",
       "      <td>Democratic</td>\n",
       "      <td>43.0</td>\n",
       "      <td>1992</td>\n",
       "      <td>win</td>\n",
       "      <td>0.430</td>\n",
       "    </tr>\n",
       "    <tr>\n",
       "      <th>8</th>\n",
       "      <td>Bush</td>\n",
       "      <td>Republican</td>\n",
       "      <td>37.4</td>\n",
       "      <td>1992</td>\n",
       "      <td>loss</td>\n",
       "      <td>0.374</td>\n",
       "    </tr>\n",
       "    <tr>\n",
       "      <th>9</th>\n",
       "      <td>Perot</td>\n",
       "      <td>Independent</td>\n",
       "      <td>18.9</td>\n",
       "      <td>1992</td>\n",
       "      <td>loss</td>\n",
       "      <td>0.189</td>\n",
       "    </tr>\n",
       "    <tr>\n",
       "      <th>10</th>\n",
       "      <td>Clinton</td>\n",
       "      <td>Democratic</td>\n",
       "      <td>49.2</td>\n",
       "      <td>1996</td>\n",
       "      <td>win</td>\n",
       "      <td>0.492</td>\n",
       "    </tr>\n",
       "    <tr>\n",
       "      <th>11</th>\n",
       "      <td>Dole</td>\n",
       "      <td>Republican</td>\n",
       "      <td>40.7</td>\n",
       "      <td>1996</td>\n",
       "      <td>loss</td>\n",
       "      <td>0.407</td>\n",
       "    </tr>\n",
       "    <tr>\n",
       "      <th>12</th>\n",
       "      <td>Perot</td>\n",
       "      <td>Independent</td>\n",
       "      <td>8.4</td>\n",
       "      <td>1996</td>\n",
       "      <td>loss</td>\n",
       "      <td>0.084</td>\n",
       "    </tr>\n",
       "    <tr>\n",
       "      <th>13</th>\n",
       "      <td>Gore</td>\n",
       "      <td>Democratic</td>\n",
       "      <td>48.4</td>\n",
       "      <td>2000</td>\n",
       "      <td>loss</td>\n",
       "      <td>0.484</td>\n",
       "    </tr>\n",
       "    <tr>\n",
       "      <th>14</th>\n",
       "      <td>Bush</td>\n",
       "      <td>Republican</td>\n",
       "      <td>47.9</td>\n",
       "      <td>2000</td>\n",
       "      <td>win</td>\n",
       "      <td>0.479</td>\n",
       "    </tr>\n",
       "    <tr>\n",
       "      <th>15</th>\n",
       "      <td>Kerry</td>\n",
       "      <td>Democratic</td>\n",
       "      <td>48.3</td>\n",
       "      <td>2004</td>\n",
       "      <td>loss</td>\n",
       "      <td>0.483</td>\n",
       "    </tr>\n",
       "    <tr>\n",
       "      <th>16</th>\n",
       "      <td>Bush</td>\n",
       "      <td>Republican</td>\n",
       "      <td>50.7</td>\n",
       "      <td>2004</td>\n",
       "      <td>win</td>\n",
       "      <td>0.507</td>\n",
       "    </tr>\n",
       "    <tr>\n",
       "      <th>17</th>\n",
       "      <td>Obama</td>\n",
       "      <td>Democratic</td>\n",
       "      <td>52.9</td>\n",
       "      <td>2008</td>\n",
       "      <td>win</td>\n",
       "      <td>0.529</td>\n",
       "    </tr>\n",
       "    <tr>\n",
       "      <th>18</th>\n",
       "      <td>McCain</td>\n",
       "      <td>Republican</td>\n",
       "      <td>45.7</td>\n",
       "      <td>2008</td>\n",
       "      <td>loss</td>\n",
       "      <td>0.457</td>\n",
       "    </tr>\n",
       "    <tr>\n",
       "      <th>19</th>\n",
       "      <td>Obama</td>\n",
       "      <td>Democratic</td>\n",
       "      <td>51.1</td>\n",
       "      <td>2012</td>\n",
       "      <td>win</td>\n",
       "      <td>0.511</td>\n",
       "    </tr>\n",
       "    <tr>\n",
       "      <th>20</th>\n",
       "      <td>Romney</td>\n",
       "      <td>Republican</td>\n",
       "      <td>47.2</td>\n",
       "      <td>2012</td>\n",
       "      <td>loss</td>\n",
       "      <td>0.472</td>\n",
       "    </tr>\n",
       "    <tr>\n",
       "      <th>21</th>\n",
       "      <td>Clinton</td>\n",
       "      <td>Democratic</td>\n",
       "      <td>48.2</td>\n",
       "      <td>2016</td>\n",
       "      <td>loss</td>\n",
       "      <td>0.482</td>\n",
       "    </tr>\n",
       "    <tr>\n",
       "      <th>22</th>\n",
       "      <td>Trump</td>\n",
       "      <td>Republican</td>\n",
       "      <td>46.1</td>\n",
       "      <td>2016</td>\n",
       "      <td>win</td>\n",
       "      <td>0.461</td>\n",
       "    </tr>\n",
       "    <tr>\n",
       "      <th>23</th>\n",
       "      <td>Biden</td>\n",
       "      <td>Democratic</td>\n",
       "      <td>51.3</td>\n",
       "      <td>2020</td>\n",
       "      <td>win</td>\n",
       "      <td>0.513</td>\n",
       "    </tr>\n",
       "    <tr>\n",
       "      <th>24</th>\n",
       "      <td>Trump</td>\n",
       "      <td>Republican</td>\n",
       "      <td>46.9</td>\n",
       "      <td>2020</td>\n",
       "      <td>loss</td>\n",
       "      <td>0.469</td>\n",
       "    </tr>\n",
       "  </tbody>\n",
       "</table>\n",
       "</div>"
      ],
      "text/plain": [
       "   Candidate        Party     %  Year Result  prop_of_vote\n",
       "0     Reagan   Republican  50.7  1980    win         0.507\n",
       "1     Carter   Democratic  41.0  1980   loss         0.410\n",
       "2   Anderson  Independent   6.6  1980   loss         0.066\n",
       "3     Reagan   Republican  58.8  1984    win         0.588\n",
       "4    Mondale   Democratic  37.6  1984   loss         0.376\n",
       "5       Bush   Republican  53.4  1988    win         0.534\n",
       "6    Dukakis   Democratic  45.6  1988   loss         0.456\n",
       "7    Clinton   Democratic  43.0  1992    win         0.430\n",
       "8       Bush   Republican  37.4  1992   loss         0.374\n",
       "9      Perot  Independent  18.9  1992   loss         0.189\n",
       "10   Clinton   Democratic  49.2  1996    win         0.492\n",
       "11      Dole   Republican  40.7  1996   loss         0.407\n",
       "12     Perot  Independent   8.4  1996   loss         0.084\n",
       "13      Gore   Democratic  48.4  2000   loss         0.484\n",
       "14      Bush   Republican  47.9  2000    win         0.479\n",
       "15     Kerry   Democratic  48.3  2004   loss         0.483\n",
       "16      Bush   Republican  50.7  2004    win         0.507\n",
       "17     Obama   Democratic  52.9  2008    win         0.529\n",
       "18    McCain   Republican  45.7  2008   loss         0.457\n",
       "19     Obama   Democratic  51.1  2012    win         0.511\n",
       "20    Romney   Republican  47.2  2012   loss         0.472\n",
       "21   Clinton   Democratic  48.2  2016   loss         0.482\n",
       "22     Trump   Republican  46.1  2016    win         0.461\n",
       "23     Biden   Democratic  51.3  2020    win         0.513\n",
       "24     Trump   Republican  46.9  2020   loss         0.469"
      ]
     },
     "execution_count": 10,
     "metadata": {},
     "output_type": "execute_result"
    }
   ],
   "source": [
    "elections"
   ]
  },
  {
   "cell_type": "code",
   "execution_count": null,
   "id": "954d9052",
   "metadata": {},
   "outputs": [],
   "source": [
    "(\n",
    "    elections\n",
    "    .assign(proportion_of_vote=(elections['%'] / 100))\n",
    "    .head()\n",
    ")"
   ]
  },
  {
   "cell_type": "markdown",
   "id": "4a4efbec",
   "metadata": {},
   "source": [
    "You can chain together several steps at a time:"
   ]
  },
  {
   "cell_type": "code",
   "execution_count": null,
   "id": "87c7bd56",
   "metadata": {},
   "outputs": [],
   "source": [
    "(\n",
    "    elections\n",
    "    .assign(proportion_of_vote=(elections['%'] / 100))\n",
    "    .assign(Result=elections['Result'].str.upper())\n",
    "    .head()\n",
    ")"
   ]
  },
  {
   "cell_type": "markdown",
   "id": "4d26fe50",
   "metadata": {},
   "source": [
    "You can also use `assign` when the desired column name has spaces, by using keyword arguments."
   ]
  },
  {
   "cell_type": "code",
   "execution_count": null,
   "id": "b992959a",
   "metadata": {},
   "outputs": [],
   "source": [
    "(\n",
    "    elections\n",
    "    .assign(**{'Proportion of Vote': elections['%'] / 100})\n",
    "    .head()\n",
    ")"
   ]
  },
  {
   "cell_type": "markdown",
   "id": "cb6fa478",
   "metadata": {
    "slideshow": {
     "slide_type": "slide"
    }
   },
   "source": [
    "### Adding and modifying columns, in-place\n",
    "\n",
    "* You can assign a new row or column to a DataFrame **in-place** using `loc` or `[]`.\n",
    "    - Works like dictionary assignment.\n",
    "    - Unlike `assign`, this **modifies** the underlying DataFrame rather than a copy of it.\n",
    "* This is the more \"common\" way of adding/modifying columns. \n",
    "    - ⚠️ Warning: Exercise caution when using this approach, since this approach changes the values of existing variables."
   ]
  },
  {
   "cell_type": "code",
   "execution_count": null,
   "id": "0f7d103a",
   "metadata": {},
   "outputs": [],
   "source": [
    "# By default, .copy() returns a deep copy of the object it is called on,\n",
    "# meaning that if you change the copy the original remains unmodified.\n",
    "mod_elec = elections.copy()\n",
    "mod_elec.head()"
   ]
  },
  {
   "cell_type": "code",
   "execution_count": null,
   "id": "e3e60cf4",
   "metadata": {},
   "outputs": [],
   "source": [
    "mod_elec['Proportion of Vote'] = mod_elec['%'] / 100\n",
    "mod_elec.head()"
   ]
  },
  {
   "cell_type": "code",
   "execution_count": null,
   "id": "ef1768a8",
   "metadata": {},
   "outputs": [],
   "source": [
    "mod_elec['Result'] = mod_elec['Result'].str.upper()\n",
    "mod_elec.head()"
   ]
  },
  {
   "cell_type": "code",
   "execution_count": null,
   "id": "fdb3b79c",
   "metadata": {},
   "outputs": [],
   "source": [
    "# 🤔\n",
    "mod_elec.loc[-1, :] = ['Carter', 'Democratic', 50.1, 1976, 'WIN', 0.501]\n",
    "mod_elec.loc[-2, :] = ['Ford', 'Republican', 48.0, 1976, 'LOSS', 0.48]\n",
    "mod_elec"
   ]
  },
  {
   "cell_type": "code",
   "execution_count": null,
   "id": "3be783e3",
   "metadata": {},
   "outputs": [],
   "source": [
    "mod_elec = mod_elec.sort_index()\n",
    "mod_elec.head()"
   ]
  },
  {
   "cell_type": "code",
   "execution_count": null,
   "id": "358b23e9",
   "metadata": {},
   "outputs": [],
   "source": [
    "# df.reset_index(drop=True) drops the current index \n",
    "# of the DataFrame and replaces it with an index of increasing integers\n",
    "mod_elec.reset_index(drop=True)"
   ]
  },
  {
   "cell_type": "markdown",
   "id": "8a17461f",
   "metadata": {
    "slideshow": {
     "slide_type": "slide"
    }
   },
   "source": [
    "## Introduction to messy data"
   ]
  },
  {
   "cell_type": "markdown",
   "id": "13410e22",
   "metadata": {
    "slideshow": {
     "slide_type": "slide"
    }
   },
   "source": [
    "### There is no such thing as \"raw data\"!\n",
    "\n",
    "* Data are the result of measurements that must be recorded.\n",
    "* Humans design the measurements and record the results.\n",
    "* Data is **always** an imperfect record of the underlying processing being measured."
   ]
  },
  {
   "cell_type": "markdown",
   "id": "7dcf8d36",
   "metadata": {
    "slideshow": {
     "slide_type": "slide"
    }
   },
   "source": [
    "### Data generating process\n",
    "\n",
    "* A **data generating process** is the underlying, real-world (probabilistic) mechanism that generates observed data. \n",
    "* Observed data is an incomplete artifact of the data generating process.\n",
    "* **A data generating process is what a statistical model attempts to describe.**\n",
    "    - From DSC 10: a model is a set of assumptions about how data were generated.\n",
    "    - More on this later in the quarter.\n",
    "- Data cleaning requires an understanding of the data generating process."
   ]
  },
  {
   "cell_type": "markdown",
   "id": "930f2146",
   "metadata": {
    "slideshow": {
     "slide_type": "slide"
    }
   },
   "source": [
    "### Example: COVID case counts 🦠\n",
    "\n",
    "Suppose our **goal** is to determine the number of COVID cases in the US **yesterday**.\n",
    "- What are we really asking for – the number of people who tested positive yesterday, or the number of people who contracted COVID yesterday?\n",
    "- Tested positive on what type of test? How accurate is that type of test?\n",
    "- How often are test results reported? Is there a delay in when test results are reported?"
   ]
  },
  {
   "cell_type": "markdown",
   "id": "49c15993",
   "metadata": {
    "slideshow": {
     "slide_type": "slide"
    }
   },
   "source": [
    "<center><img src='imgs/christmas.png' width=70%></center>\n",
    "\n",
    "Why do you think so few cases were reported on Christmas Day – is it because COVID was less prevalent on Christmas Day as compared to the days before and after, or is it likely for some other reason? 🎅"
   ]
  },
  {
   "cell_type": "markdown",
   "id": "60369239",
   "metadata": {
    "slideshow": {
     "slide_type": "slide"
    }
   },
   "source": [
    "### Data provenance\n",
    "\n",
    "- As data scientists, we often need to work with datasets that others collected, for a purpose that is different than our current interest.\n",
    "- As such, it's important to understand the \"story\" of how a dataset came to be, or the **provenance** of the data. Specifically, we need to be aware of:\n",
    "    1. Assumptions about the data generating process.\n",
    "    2. How the initial values in the dataset came to be.  \n",
    "    3. How any data processing or storage decisions affected the values in the dataset.\n",
    "\n",
    "The bigger picture question we're asking here is, **can we trust our data?**"
   ]
  },
  {
   "cell_type": "markdown",
   "id": "d9124024",
   "metadata": {
    "slideshow": {
     "slide_type": "slide"
    }
   },
   "source": [
    "### Data cleaning 🧹\n",
    "\n",
    "- Data cleaning is the process of transforming data so that it best represents the underlying data generating process.\n",
    "\n",
    "- In practice, data cleaning is often detective work to understand data provenance.\n",
    "    - **Always be skeptical of your data!**"
   ]
  },
  {
   "cell_type": "markdown",
   "id": "e558641d",
   "metadata": {
    "slideshow": {
     "slide_type": "slide"
    }
   },
   "source": [
    "### Keys to data cleaning\n",
    "\n",
    "Data cleaning often addresses: \n",
    "\n",
    "* The **structure** of the recorded data.\n",
    "    - Is the data stored in a tabular format (e.g. CSV, SQL, Google Sheets) or in another format (JSON, XML)?\n",
    "    - Are the individuals properly represented as rows?\n",
    "* The **encoding** and **format** of the values in the data.\n",
    "    - Are the data types of all columns reflective of the **kinds of data** they contain?\n",
    "* Corrupt and \"**incorrect**\" data, and missing values.\n",
    "    - Were there flaws in the data recording process? In other words, is our data **faithful** to the data generating process?\n",
    "    \n",
    "Let's focus on the latter two."
   ]
  },
  {
   "cell_type": "markdown",
   "id": "4d280108",
   "metadata": {
    "slideshow": {
     "slide_type": "slide"
    }
   },
   "source": [
    "## Kinds of data"
   ]
  },
  {
   "cell_type": "markdown",
   "id": "0b41ad00",
   "metadata": {
    "slideshow": {
     "slide_type": "slide"
    }
   },
   "source": [
    "### Kinds of data\n",
    "\n",
    "<center><img src='imgs/data-types.png' width=90%></center>"
   ]
  },
  {
   "cell_type": "markdown",
   "id": "7d7696f2",
   "metadata": {
    "slideshow": {
     "slide_type": "slide"
    }
   },
   "source": [
    "### Discussion Question\n",
    "\n",
    "Determine the kind of each of the following variables.\n",
    "- Fuel economy in miles per gallon.\n",
    "- Number of quarters at UCSD.\n",
    "- Class standing (freshman, sophomore, etc.).\n",
    "- Income bracket (low, medium, high).\n",
    "- Bank account number."
   ]
  },
  {
   "cell_type": "markdown",
   "id": "7883efad",
   "metadata": {
    "slideshow": {
     "slide_type": "slide"
    }
   },
   "source": [
    "### Example: DSC 80 students"
   ]
  },
  {
   "cell_type": "markdown",
   "id": "6eed69e3",
   "metadata": {},
   "source": [
    "In the next cell, we'll load in an example dataset containing information about past DSC 80 students.\n",
    "\n",
    "- `'PID'` and `'Student Name'`: student PID and name.\n",
    "- `'Month'`, `'Day'`, `'Year'`: date when the student was accepted to UCSD.\n",
    "- `'2021 tuition'` and `'2022 tuition'`: amount paid in tuition in 2021 and 2022, respectively.\n",
    "- `'Percent Growth'`: growth between the two aforementioned columns.\n",
    "- `'Paid'`: whether or not the student has paid tuition for this quarter yet.\n",
    "- `'DSC 80 Final Grade'`: either `'Pass'`, `'Fail'`, or a number.\n",
    "\n",
    "What needs to be changed in the DataFrame to compute statistics?"
   ]
  },
  {
   "cell_type": "code",
   "execution_count": null,
   "id": "aa71559c",
   "metadata": {
    "slideshow": {
     "slide_type": "slide"
    }
   },
   "outputs": [],
   "source": [
    "students = pd.read_csv(os.path.join('data', 'students.csv'))\n",
    "students"
   ]
  },
  {
   "cell_type": "markdown",
   "id": "09581901",
   "metadata": {
    "slideshow": {
     "slide_type": "slide"
    }
   },
   "source": [
    "### How much has each student paid in total tuition in 2021 and 2022?"
   ]
  },
  {
   "cell_type": "code",
   "execution_count": null,
   "id": "ca2e91f6",
   "metadata": {},
   "outputs": [],
   "source": [
    "students"
   ]
  },
  {
   "cell_type": "code",
   "execution_count": null,
   "id": "70100279",
   "metadata": {},
   "outputs": [],
   "source": [
    "total = students['2021 tuition'] + students['2022 tuition']\n",
    "total"
   ]
  },
  {
   "cell_type": "markdown",
   "id": "cd5dc392",
   "metadata": {
    "slideshow": {
     "slide_type": "slide"
    }
   },
   "source": [
    "### Check the data types of `students`!\n",
    "\n",
    "* What kinds of data should each column have?\n",
    "    - Qualitative or quantitative?\n",
    "    - Discrete or continuous?\n",
    "    - Ordinal or nominal?\n",
    "* What data type *should* each column have?\n",
    "\n",
    "* Use the `dtypes` attribute (or the `info` method) to peek at the data types."
   ]
  },
  {
   "cell_type": "code",
   "execution_count": null,
   "id": "85b5d184",
   "metadata": {},
   "outputs": [],
   "source": [
    "students.dtypes"
   ]
  },
  {
   "cell_type": "markdown",
   "id": "5a74297c",
   "metadata": {
    "slideshow": {
     "slide_type": "slide"
    }
   },
   "source": [
    "### Cleaning `'2021 tuition'` and `'2022 tuition'`\n",
    "\n",
    "* `'2021 tuition'` and `'2022 tuition'` are stored as `object`s (strings), not numerical values.\n",
    "* The `'$'` character causes the entries to be interpreted as strings.\n",
    "* We can use `str` methods to strip the dollar sign."
   ]
  },
  {
   "cell_type": "code",
   "execution_count": null,
   "id": "8cf651bd",
   "metadata": {},
   "outputs": [],
   "source": [
    "# This won't work. Why?\n",
    "students['2021 tuition'].astype(float)"
   ]
  },
  {
   "cell_type": "code",
   "execution_count": null,
   "id": "7501ba43",
   "metadata": {
    "scrolled": true
   },
   "outputs": [],
   "source": [
    "# That's better!\n",
    "students['2021 tuition'].str.strip('$').astype(float)"
   ]
  },
  {
   "cell_type": "markdown",
   "id": "ff7876bb",
   "metadata": {
    "slideshow": {
     "slide_type": "slide"
    }
   },
   "source": [
    "We can loop through the columns of `students` to apply the above procedure. (Looping through columns is fine, just avoid looping through rows.)"
   ]
  },
  {
   "cell_type": "code",
   "execution_count": null,
   "id": "616db180",
   "metadata": {},
   "outputs": [],
   "source": [
    "for col in students.columns:\n",
    "    if 'tuition' in col:\n",
    "        students[col] = students[col].str.strip('$').astype(float)\n",
    "        \n",
    "students"
   ]
  },
  {
   "cell_type": "markdown",
   "id": "7deff894",
   "metadata": {},
   "source": [
    "Alternatively, we can do this without a loop by using `str.contains` to find only the columns that contain tuition information."
   ]
  },
  {
   "cell_type": "code",
   "execution_count": null,
   "id": "47351071",
   "metadata": {},
   "outputs": [],
   "source": [
    "cols = students.columns.str.contains('tuition')\n",
    "students.loc[:, cols] = students.loc[:, cols].astype(float)\n",
    "students"
   ]
  },
  {
   "cell_type": "markdown",
   "id": "cea4ba90",
   "metadata": {
    "slideshow": {
     "slide_type": "slide"
    }
   },
   "source": [
    "### Cleaning `'Paid'`\n",
    "\n",
    "* Currently, `'Paid'` contains the strings `'Y'` and `'N'`.\n",
    "    * `'Y'`s and `'N'`s typically result from manual data entry.\n",
    "* The `'Paid'` column should contain `True`s and `False`s, or `1`s and `0`s.\n",
    "* Solutions:\n",
    "    - Use the `replace` Series method.\n",
    "    - Create a Boolean Series through comparison."
   ]
  },
  {
   "cell_type": "code",
   "execution_count": null,
   "id": "109c84c4",
   "metadata": {},
   "outputs": [],
   "source": [
    "students['Paid'].replace({'Y': True, 'N': False})"
   ]
  },
  {
   "cell_type": "code",
   "execution_count": null,
   "id": "b413bb3f",
   "metadata": {},
   "outputs": [],
   "source": [
    "students['Paid'].value_counts()"
   ]
  },
  {
   "cell_type": "code",
   "execution_count": null,
   "id": "351383a2",
   "metadata": {},
   "outputs": [],
   "source": [
    "students['Paid'] = students['Paid'] == 'Y'\n",
    "students"
   ]
  },
  {
   "cell_type": "markdown",
   "id": "af4b84ff",
   "metadata": {
    "slideshow": {
     "slide_type": "slide"
    }
   },
   "source": [
    "### Cleaning `'Month'`, `'Day'`, and `'Year'`\n",
    "* Currently, these are stored separately using the `int64` data type. This could be *fine* for certain purposes, but ideally they are stored as a single column (e.g. for sorting).\n",
    "* Solutions:\n",
    "    * Store dates as strings of the form `'YYYY-MM-DD'`.\n",
    "    * Store dates as `datetime64` objects (later)."
   ]
  },
  {
   "cell_type": "code",
   "execution_count": null,
   "id": "8f9e9769",
   "metadata": {},
   "outputs": [],
   "source": [
    "(\n",
    "    students['Year'].astype(str) + '-' + \n",
    "    students['Month'].astype(str).str.zfill(2) + '-' + \n",
    "    students['Day'].astype(str).str.zfill(2)\n",
    ")"
   ]
  },
  {
   "cell_type": "markdown",
   "id": "bb8ee7b8",
   "metadata": {},
   "source": [
    "Note:\n",
    "- Due to **broadcasting**, we were able to add a Series to a string.\n",
    "- The `zfill` string method adds zeroes to the start of a string until it reaches the specified length."
   ]
  },
  {
   "cell_type": "markdown",
   "id": "8a0273f0",
   "metadata": {
    "slideshow": {
     "slide_type": "slide"
    }
   },
   "source": [
    "### Cleaning `'DSC 80 Final Grade'`\n",
    "\n",
    "* Currently, `'DSC 80 Final Grade'`s are stored as `object`s (strings).\n",
    "* Unless we somehow store this column to a numeric type, we can't do any arithmetic with it.\n",
    "* However, due to the existence of strings like `'Pass'`, we can't use `astype` to convert it.\n",
    "* Solution: use `pd.to_numeric(s, errors='coerce')`, where `s` is a Series.\n",
    "    - ⚠️ Be careful with this!\n",
    "    - `errors='coerce'` can cause uninformed destruction of data."
   ]
  },
  {
   "cell_type": "code",
   "execution_count": null,
   "id": "f0a66652",
   "metadata": {},
   "outputs": [],
   "source": [
    "# Won't work!\n",
    "students['DSC 80 Final Grade'].astype(int)"
   ]
  },
  {
   "cell_type": "code",
   "execution_count": null,
   "id": "385ff2e3",
   "metadata": {},
   "outputs": [],
   "source": [
    "pd.to_numeric(students['DSC 80 Final Grade'], errors='coerce')"
   ]
  },
  {
   "cell_type": "code",
   "execution_count": null,
   "id": "ebcb9da0",
   "metadata": {},
   "outputs": [],
   "source": [
    "students['DSC 80 Final Grade'] = pd.to_numeric(students['DSC 80 Final Grade'], errors='coerce')\n",
    "students"
   ]
  },
  {
   "cell_type": "code",
   "execution_count": null,
   "id": "261a968b",
   "metadata": {},
   "outputs": [],
   "source": [
    "pd.to_numeric?"
   ]
  },
  {
   "cell_type": "markdown",
   "id": "37c3c067",
   "metadata": {
    "slideshow": {
     "slide_type": "slide"
    }
   },
   "source": [
    "### Cleaning `'Student Name'`\n",
    "* We want names to be formatted as `'Last Name, First Name'`, a common format.\n",
    "* One solution: use the Series `apply` method.\n",
    "    - If `s` is a Series, `s.apply(func)` applies the function `func` to each entry of `s`."
   ]
  },
  {
   "cell_type": "code",
   "execution_count": null,
   "id": "521c7863",
   "metadata": {},
   "outputs": [],
   "source": [
    "students['Student Name']"
   ]
  },
  {
   "cell_type": "code",
   "execution_count": null,
   "id": "4bbb7577",
   "metadata": {},
   "outputs": [],
   "source": [
    "def transpose_name(name):\n",
    "    firstname, lastname = name.split()\n",
    "    return lastname + ', ' + firstname\n",
    "\n",
    "transpose_name('King Triton')"
   ]
  },
  {
   "cell_type": "code",
   "execution_count": null,
   "id": "ea5354d5",
   "metadata": {},
   "outputs": [],
   "source": [
    "students['Student Name'].apply(transpose_name)"
   ]
  },
  {
   "cell_type": "markdown",
   "id": "122fefa7",
   "metadata": {
    "slideshow": {
     "slide_type": "slide"
    }
   },
   "source": [
    "### Aside: string methods\n",
    "\n",
    "`str` methods are useful – use them!\n",
    "- To use them, access the `str` attribute of Series.\n",
    "- Then, whatever method/operator comes immediately after will be applied to each element of the Series individually, rather than the Series as a whole."
   ]
  },
  {
   "cell_type": "code",
   "execution_count": null,
   "id": "d4be78d3",
   "metadata": {},
   "outputs": [],
   "source": [
    "parts = students['Student Name'].str.split()\n",
    "parts"
   ]
  },
  {
   "cell_type": "code",
   "execution_count": null,
   "id": "9ae1d937",
   "metadata": {},
   "outputs": [],
   "source": [
    "parts.str[1] + ', ' + parts.str[0]"
   ]
  },
  {
   "cell_type": "markdown",
   "id": "fbab1d12",
   "metadata": {
    "slideshow": {
     "slide_type": "slide"
    }
   },
   "source": [
    "### More data type ambiguities\n",
    "\n",
    "- 1649043031 looks like a number, but is probably a date.\n",
    "    - [Unix timestamps](https://www.unixtimestamp.com) count the number of seconds since January 1st, 1970.\n",
    "\n",
    "- \"USD 1,000,000\" looks like a string, but is actually a number **and** a unit.\n",
    "    \n",
    "- 92093 looks like a number, but is really a zip code (and isn't equal to 92,093).\n",
    "    \n",
    "- Sometimes, `False` appears in a column of country codes. Why might this be? \n",
    "🤔"
   ]
  },
  {
   "cell_type": "markdown",
   "id": "2c85b7dc",
   "metadata": {
    "slideshow": {
     "slide_type": "slide"
    }
   },
   "source": [
    "### Example: the Norway problem 🇳🇴"
   ]
  },
  {
   "cell_type": "code",
   "execution_count": null,
   "id": "ebf0ac8a",
   "metadata": {
    "slideshow": {
     "slide_type": "-"
    }
   },
   "outputs": [],
   "source": [
    "import yaml\n",
    "\n",
    "player = '''\n",
    "name: Magnus Carlsen\n",
    "age: 31\n",
    "country: NO\n",
    "'''"
   ]
  },
  {
   "cell_type": "code",
   "execution_count": null,
   "id": "81a9053d",
   "metadata": {
    "scrolled": true
   },
   "outputs": [],
   "source": [
    "yaml.safe_load(player)"
   ]
  },
  {
   "cell_type": "markdown",
   "id": "2c9ada96",
   "metadata": {
    "slideshow": {
     "slide_type": "slide"
    }
   },
   "source": [
    "## Unfaithful data"
   ]
  },
  {
   "cell_type": "markdown",
   "id": "280ddcad",
   "metadata": {
    "slideshow": {
     "slide_type": "slide"
    }
   },
   "source": [
    "### Is the data \"faithful\" to the DGP?\n",
    "\n",
    "- In other words, how well does the data represent reality?\n",
    "\n",
    "- Does the data contain unrealistic or \"incorrect\" values?\n",
    "    - Dates in the future for events in the past.\n",
    "    - Locations that don't exist.\n",
    "    - Negative counts.\n",
    "    - Misspellings of names.\n",
    "    - Large outliers."
   ]
  },
  {
   "cell_type": "markdown",
   "id": "3761b06a",
   "metadata": {
    "slideshow": {
     "slide_type": "slide"
    }
   },
   "source": [
    "### Is the data \"faithful\" to the DGP?\n",
    "    \n",
    "- Does the data violate obvious dependencies?\n",
    "    - Age and birthday don't match. \n",
    "- Was the data entered by hand?\n",
    "     - Spelling errors.\n",
    "     - Fields shifted.\n",
    "     - Did the form require fields or provide default values?  \n",
    "- Are there obvious signs of data falsification (aka \"curbstoning\")?\n",
    "    - Repeated names.\n",
    "    - Fake looking email addresses.\n",
    "    - Repeated use of uncommon names or fields."
   ]
  },
  {
   "cell_type": "markdown",
   "id": "4bc541db",
   "metadata": {
    "slideshow": {
     "slide_type": "slide"
    }
   },
   "source": [
    "<center><img src='imgs/data-sd.png' width=70%></center>"
   ]
  },
  {
   "cell_type": "markdown",
   "id": "3d72d38e",
   "metadata": {
    "slideshow": {
     "slide_type": "slide"
    }
   },
   "source": [
    "### Example: Police vehicle stops 🚔\n",
    "\n",
    "The dataset we're working with contains all of the vehicle stops that the San Diego Police Department made in 2016.\n",
    "\n",
    "<center><img src=\"imgs/image_5.png\"/></center>"
   ]
  },
  {
   "cell_type": "markdown",
   "id": "a5216968",
   "metadata": {
    "slideshow": {
     "slide_type": "slide"
    }
   },
   "source": [
    "### General questions\n",
    "\n",
    "1. Check the data types. Notice any issues?\n",
    "2. Do string fields have consistent values?\n",
    "3. Are there missing values that we don't understand?\n",
    "4. Are all values within a reasonable range?\n",
    "5. How do we deal with the messiness we find?"
   ]
  },
  {
   "cell_type": "code",
   "execution_count": null,
   "id": "a46ade43",
   "metadata": {},
   "outputs": [],
   "source": [
    "stops = pd.read_csv('data/vehicle_stops_2016_datasd.csv')\n",
    "stops.head()"
   ]
  },
  {
   "cell_type": "markdown",
   "id": "b2bc5054",
   "metadata": {
    "slideshow": {
     "slide_type": "slide"
    }
   },
   "source": [
    "### Data types\n",
    "* Are the data types correct?\n",
    "* If not, are they easily fixable?"
   ]
  },
  {
   "cell_type": "code",
   "execution_count": null,
   "id": "90a1411b",
   "metadata": {
    "scrolled": true
   },
   "outputs": [],
   "source": [
    "stops.head(1)"
   ]
  },
  {
   "cell_type": "code",
   "execution_count": null,
   "id": "3020fba3",
   "metadata": {
    "scrolled": false
   },
   "outputs": [],
   "source": [
    "stops.info()"
   ]
  },
  {
   "cell_type": "markdown",
   "id": "27c4aa08",
   "metadata": {
    "slideshow": {
     "slide_type": "slide"
    }
   },
   "source": [
    "### Unfaithfulness\n",
    "* Are there suspicious values?\n",
    "* If a value is suspicious, can we trust the observation?\n",
    "* For example, consider `'subject_age'` – some are too old to be true, some are too low to be true."
   ]
  },
  {
   "cell_type": "code",
   "execution_count": null,
   "id": "90008bc6",
   "metadata": {},
   "outputs": [],
   "source": [
    "stops['subject_age'].unique()"
   ]
  },
  {
   "cell_type": "code",
   "execution_count": null,
   "id": "9c0aec15",
   "metadata": {},
   "outputs": [],
   "source": [
    "ages = pd.to_numeric(stops['subject_age'], errors='coerce')\n",
    "ages.describe()"
   ]
  },
  {
   "cell_type": "markdown",
   "id": "829d2e36",
   "metadata": {},
   "source": [
    "Ages range all over the place, from 0 to 220. Was a 220 year old really pulled over?"
   ]
  },
  {
   "cell_type": "code",
   "execution_count": null,
   "id": "47006759",
   "metadata": {},
   "outputs": [],
   "source": [
    "stops.loc[ages > 100]"
   ]
  },
  {
   "cell_type": "code",
   "execution_count": null,
   "id": "00442f8d",
   "metadata": {},
   "outputs": [],
   "source": [
    "ages.loc[(ages >= 0) & (ages < 16)].value_counts()"
   ]
  },
  {
   "cell_type": "code",
   "execution_count": null,
   "id": "6243f705",
   "metadata": {},
   "outputs": [],
   "source": [
    "stops.loc[(ages >= 0) & (ages < 16)]"
   ]
  },
  {
   "cell_type": "markdown",
   "id": "a0356b30",
   "metadata": {
    "slideshow": {
     "slide_type": "slide"
    }
   },
   "source": [
    "### Unfaithful `'subject_age'`\n",
    "\n",
    "* Ages of `'No Age'` and `0` are likely explicit null values.\n",
    "* What do we do about the exceptionally small and large ages?\n",
    "    - Do we throw the entire row away, even if the rest of row is well-formed?\n",
    "* What about the 14 and 15 year olds?\n",
    "    - Each has more than one occurrence – these could be real entries!\n",
    "\n",
    "In the coming weeks, we'll cover more solutions to these problems."
   ]
  },
  {
   "cell_type": "markdown",
   "id": "a3b134ab",
   "metadata": {
    "slideshow": {
     "slide_type": "slide"
    }
   },
   "source": [
    "## Summary, next time"
   ]
  },
  {
   "cell_type": "markdown",
   "id": "d568ad42",
   "metadata": {
    "slideshow": {
     "slide_type": "slide"
    }
   },
   "source": [
    "### Summary\n",
    "\n",
    "- Data provenance describes the \"origin story\" of a dataset, from the data generating process to its storage.\n",
    "- Data cleaning is the process of transforming data so that it best represents the underlying data generating process.\n",
    "- We must ensure that each column in a DataFrame uses the correct data type for the **kind** of data in the column.\n",
    "- We must also ensure that our data is **faithful** to the data generating process, by looking for missing or strange values.\n",
    "- **Next time:** finish discussing unfaithful data, and (re)introduce hypothesis testing."
   ]
  }
 ],
 "metadata": {
  "celltoolbar": "Slideshow",
  "kernelspec": {
   "display_name": "Python 3 (ipykernel)",
   "language": "python",
   "name": "python3"
  },
  "language_info": {
   "codemirror_mode": {
    "name": "ipython",
    "version": 3
   },
   "file_extension": ".py",
   "mimetype": "text/x-python",
   "name": "python",
   "nbconvert_exporter": "python",
   "pygments_lexer": "ipython3",
   "version": "3.8.12"
  },
  "livereveal": {
   "scroll": true,
   "transition": "none"
  }
 },
 "nbformat": 4,
 "nbformat_minor": 5
}
