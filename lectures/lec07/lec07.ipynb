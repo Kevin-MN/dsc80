{
 "cells": [
  {
   "cell_type": "code",
   "execution_count": null,
   "metadata": {
    "slideshow": {
     "slide_type": "skip"
    }
   },
   "outputs": [],
   "source": [
    "import pandas as pd\n",
    "import numpy as np\n",
    "import seaborn as sns"
   ]
  },
  {
   "cell_type": "markdown",
   "metadata": {
    "slideshow": {
     "slide_type": "slide"
    }
   },
   "source": [
    "# Lecture 7 – Grouping and Pivoting\n",
    "\n",
    "## DSC 80, Spring 2022"
   ]
  },
  {
   "cell_type": "markdown",
   "metadata": {
    "slideshow": {
     "slide_type": "slide"
    }
   },
   "source": [
    "### Announcements\n",
    "\n",
    "- Lab 2 is due **tonight at 11:59PM.**\n",
    "    - See [this post](https://campuswire.com/c/G325FA25B/feed/277) a clarification on Question 8.\n",
    "    - Git issues? See [this post](https://campuswire.com/c/G325FA25B/feed/315).\n",
    "- Project 1 is due on **Thursday at 11:59PM**.\n",
    "- Watch [this video 🎥](https://www.youtube.com/watch?v=uUawZfAgA64) for tips on how to work with the command-line."
   ]
  },
  {
   "cell_type": "markdown",
   "metadata": {
    "slideshow": {
     "slide_type": "slide"
    }
   },
   "source": [
    "### Agenda\n",
    "\n",
    "- Data granularity.\n",
    "- Grouping.\n",
    "- Pivoting."
   ]
  },
  {
   "cell_type": "markdown",
   "metadata": {
    "slideshow": {
     "slide_type": "slide"
    }
   },
   "source": [
    "## Data granularity"
   ]
  },
  {
   "cell_type": "markdown",
   "metadata": {
    "slideshow": {
     "slide_type": "slide"
    }
   },
   "source": [
    "### Granularity\n",
    "\n",
    "- **Granularity** refers to the level of detail present in data.\n",
    "    - Fine: small details.\n",
    "    - Coarse: bigger picture.\n",
    "- Typically, rows in a DataFrame correspond to individuals, and columns correspond to attributes.\n",
    "- In the following example, what is an individual?"
   ]
  },
  {
   "cell_type": "markdown",
   "metadata": {
    "slideshow": {
     "slide_type": "fragment"
    }
   },
   "source": [
    "| Name | Assignment | Score |\n",
    "| --- | --- | --- |\n",
    "| Billy | Homework 1 | 94 |\n",
    "| Sally | Homework 1 | 98 |\n",
    "| Molly | Homework 1 | 82 |\n",
    "| Sally | Homework 2 | 47 |"
   ]
  },
  {
   "cell_type": "markdown",
   "metadata": {
    "slideshow": {
     "slide_type": "slide"
    }
   },
   "source": [
    "### Levels of granularity\n",
    "\n",
    "<center><img src='imgs/caper.png' width=30%></center>\n",
    "\n",
    "Each student submits CAPEs once for each course they are in."
   ]
  },
  {
   "cell_type": "markdown",
   "metadata": {
    "slideshow": {
     "slide_type": "fragment"
    }
   },
   "source": [
    "| Student Name | Quarter | Course | Instructor | Recommend? | Expected Grade | Hours Per Week | Comments |\n",
    "| --- | --- | --- | --- | --- | --- | --- | --- |\n",
    "| Billy | SP22 | DSC 80 | Suraj Rampure | No | A- | 14 | I hate this class |\n",
    "| Billy | SP22 | DSC 40B | Arya Mazumdar | Yes | B+ | 9 | go big O |\n",
    "| Sally | SP22 | DSC 10 | Janine Tiefenbruck | Yes | A | 11 | babypandas are so cute |\n",
    "| Molly | SP22 | DSC 80 | Suraj Rampure | Yes | A+ | 2 | I wish there was music in class |"
   ]
  },
  {
   "cell_type": "markdown",
   "metadata": {
    "slideshow": {
     "slide_type": "fragment"
    }
   },
   "source": [
    "Only instructors can see individual responses. At [cape.ucsd.edu](https://cape.ucsd.edu), only overall class statistics are visible."
   ]
  },
  {
   "cell_type": "markdown",
   "metadata": {
    "slideshow": {
     "slide_type": "fragment"
    }
   },
   "source": [
    "| Quarter | Course | Instructor | Recommend (%) | Expected Grade | Hours Per Week |\n",
    "| --- | --- | --- | --- | --- | --- |\n",
    "| SP22 | DSC 80 | Suraj Rampure | 23% | 3.15 (B) | 13.32 |\n",
    "| SP22 | DSC 40B | Arya Mazumdar | 89% | 3.35 (B+) | 8.54 |\n",
    "| SP22 | DSC 10 | Janine Tiefenbruck | 94% | 3.45 (B+) | 11.49 |"
   ]
  },
  {
   "cell_type": "markdown",
   "metadata": {
    "slideshow": {
     "slide_type": "fragment"
    }
   },
   "source": [
    "The university may be interested in looking at CAPEs results by department."
   ]
  },
  {
   "cell_type": "markdown",
   "metadata": {
    "slideshow": {
     "slide_type": "fragment"
    }
   },
   "source": [
    "| Quarter | Department | Recommend (%) | Expected Grade | Hours Per Week |\n",
    "| --- | --- | --- | --- | --- |\n",
    "| SP22 | DSC | 91% | 3.01 (B) | 12.29 |\n",
    "| SP22 | BILD | 85% | 2.78 (C+) | 13.21 |"
   ]
  },
  {
   "cell_type": "markdown",
   "metadata": {
    "slideshow": {
     "slide_type": "fragment"
    }
   },
   "source": [
    "Prospective students may be interested in comparing course evaluations across different universities."
   ]
  },
  {
   "cell_type": "markdown",
   "metadata": {
    "slideshow": {
     "slide_type": "fragment"
    }
   },
   "source": [
    "| University | Recommend (%) | Average GPA | Hours Per Week |\n",
    "| --- | --- | --- | --- |\n",
    "| UC San Diego | 94% | 3.12 (B) | 42.19 |\n",
    "| UC Irvine | 89% | 3.15 (B) | 38.44 |\n",
    "| SDSU | 88% | 2.99 (B-) | 36.89 |"
   ]
  },
  {
   "cell_type": "markdown",
   "metadata": {
    "slideshow": {
     "slide_type": "slide"
    }
   },
   "source": [
    "### Collecting data\n",
    "\n",
    "- If you can control how your dataset is created then you should opt for **finer granularity** (more detail).\n",
    "- You can always remove detail, but you cannot add detail if it is not already present in the dataset.\n",
    "- However, obtaining fine-grained data can take more time and space."
   ]
  },
  {
   "cell_type": "markdown",
   "metadata": {
    "slideshow": {
     "slide_type": "slide"
    }
   },
   "source": [
    "### Manipulating granularity\n",
    "\n",
    "- In the CAPEs example, we looked at the same information (course evaluations) at varying levels of detail.\n",
    "- We'll now explore how to change the level of granularity present in our dataset.\n",
    "    - While it may seem like we are \"losing information,\" removing detail can help us understand bigger-picture trends in our data."
   ]
  },
  {
   "cell_type": "markdown",
   "metadata": {
    "slideshow": {
     "slide_type": "slide"
    }
   },
   "source": [
    "### Discussion Question\n",
    "\n",
    "What is the average number of `'Years'` for each `'Degree'`? Write code that finds the answer as a **Series** indexed by `'Degree'`."
   ]
  },
  {
   "cell_type": "code",
   "execution_count": null,
   "metadata": {},
   "outputs": [],
   "source": [
    "profs = pd.DataFrame(\n",
    "[['Brad', 'UCB', 8, 'Neuro', 'Orange'],\n",
    " ['Janine', 'UCSD', 7, 'Math', 'Purple'],\n",
    " ['Marina', 'UIC', 6, 'CS', 'Yellow'],\n",
    " ['Justin', 'OSU', 4, 'CS', 'Yellow'],\n",
    " ['Aaron', 'UCB', 4, 'Math', 'Purple'],\n",
    " ['Soohyun', 'UCSD', 1, 'CS', 'Orange'],\n",
    " ['Suraj', 'UCB', 1, 'CS', 'Purple']],\n",
    "    columns=['Name', 'School', 'Years', 'Degree', 'Color']\n",
    ")\n",
    "\n",
    "profs"
   ]
  },
  {
   "cell_type": "markdown",
   "metadata": {
    "slideshow": {
     "slide_type": "slide"
    }
   },
   "source": [
    "### Approach 1: Looping through unique values"
   ]
  },
  {
   "cell_type": "code",
   "execution_count": null,
   "metadata": {},
   "outputs": [],
   "source": [
    "year_map = {}\n",
    "for degree in profs['Degree'].unique():\n",
    "    degree_only = profs.loc[profs['Degree'] == degree]\n",
    "    year_map[degree] = degree_only['Years'].mean()\n",
    "    \n",
    "pd.Series(year_map)"
   ]
  },
  {
   "cell_type": "markdown",
   "metadata": {},
   "source": [
    "For each unique `'Degree'`, we make a pass through the entire dataset."
   ]
  },
  {
   "cell_type": "markdown",
   "metadata": {
    "slideshow": {
     "slide_type": "slide"
    }
   },
   "source": [
    "### Approach 2: Single pass\n",
    "\n",
    "Let's try and avoid passing over the dataset repeatedly."
   ]
  },
  {
   "cell_type": "code",
   "execution_count": null,
   "metadata": {},
   "outputs": [],
   "source": [
    "profs"
   ]
  },
  {
   "cell_type": "markdown",
   "metadata": {},
   "source": [
    "You can iterate over the rows of a DataFrame using the `iterrows` method (though you should rarely need to do this):"
   ]
  },
  {
   "cell_type": "code",
   "execution_count": null,
   "metadata": {},
   "outputs": [],
   "source": [
    "for idx, row in profs.iterrows():\n",
    "    print(row, '\\n')"
   ]
  },
  {
   "cell_type": "code",
   "execution_count": null,
   "metadata": {},
   "outputs": [],
   "source": [
    "year_map = {}\n",
    "for idx, row in profs.iterrows():                            \n",
    "    degree = row['Degree']\n",
    "    person_years = row['Years']\n",
    "    if degree in year_map:\n",
    "        year_map[degree] += np.array([1, person_years])\n",
    "    else:\n",
    "        year_map[degree] = np.array([1, person_years])\n",
    "        \n",
    "year_map"
   ]
  },
  {
   "cell_type": "code",
   "execution_count": null,
   "metadata": {},
   "outputs": [],
   "source": [
    "df = pd.DataFrame(year_map, index=['total', 'years'])\n",
    "df.loc['years'] / df.loc['total']"
   ]
  },
  {
   "cell_type": "markdown",
   "metadata": {
    "slideshow": {
     "slide_type": "slide"
    }
   },
   "source": [
    "### Issues with the previous solutions\n",
    "\n",
    "- These solutions were \"ad-hoc\", and depended on the specific problem we had.\n",
    "    - What if we wanted the **median** `'Years'` for each `'Degree'`?\n",
    "- Loops in Python are slow (though the **algorithmic reasoning** is still relevant)."
   ]
  },
  {
   "cell_type": "markdown",
   "metadata": {
    "slideshow": {
     "slide_type": "slide"
    }
   },
   "source": [
    "## GroupBy"
   ]
  },
  {
   "cell_type": "markdown",
   "metadata": {
    "slideshow": {
     "slide_type": "slide"
    }
   },
   "source": [
    "### 🤔"
   ]
  },
  {
   "cell_type": "code",
   "execution_count": null,
   "metadata": {},
   "outputs": [],
   "source": [
    "profs"
   ]
  },
  {
   "cell_type": "code",
   "execution_count": null,
   "metadata": {},
   "outputs": [],
   "source": [
    "profs.groupby('Degree').mean()"
   ]
  },
  {
   "cell_type": "markdown",
   "metadata": {
    "slideshow": {
     "slide_type": "slide"
    }
   },
   "source": [
    "### Aside: Pandas Tutor\n",
    "\n",
    "- [pandastutor.com](https://pandastutor.com) is a new tool that allows you to visualize DataFrame operations.\n",
    "    - It works similarly to [pythontutor.com](https://pythontutor.com), which you may have seen in DSC 20.\n",
    "    - Slight issue: can't upload `.csv` files.\n",
    "- Follow along with our current example [here](https://pandastutor.com/vis.html#code=import%20pandas%20as%20pd%0A%0Aprofs%20%3D%20pd.DataFrame%28%0A%5B%5B'Brad',%20'UCB',%208,%20'Neuro',%20'Orange'%5D,%0A%20%5B'Janine',%20'UCSD',%207,%20'Math',%20'Purple'%5D,%0A%20%5B'Marina',%20'UIC',%206,%20'CS',%20'Yellow'%5D,%0A%20%5B'Justin',%20'OSU',%204,%20'CS',%20'Yellow'%5D,%0A%20%5B'Aaron',%20'UCB',%204,%20'Math',%20'Purple'%5D,%0A%20%5B'Soohyun',%20'UCSD',%201,%20'CS',%20'Orange'%5D,%0A%20%5B'Suraj',%20'UCB',%201,%20'CS',%20'Purple'%5D%5D,%0A%20%20%20%20columns%3D%5B'Name',%20'School',%20'Years',%20'Degree',%20'Color'%5D%0A%29%0A%0Aprofs.groupby%28'Degree'%29.mean%28%29&d=2022-04-11&lang=py&v=v1)."
   ]
  },
  {
   "cell_type": "markdown",
   "metadata": {
    "slideshow": {
     "slide_type": "slide"
    }
   },
   "source": [
    "### Split-apply-combine\n",
    "\n",
    "- The `groupby` method involves three steps: **split**, **apply**, and **combine**.\n",
    "\n",
    "<center><img src=\"imgs/image_0.png\" width=40%></center>\n",
    "\n",
    "- **Split** breaks up and \"groups\" the rows of a DataFrame according to the specified key. There is one \"group\" for every unique value of the key.\n",
    "- **Apply** uses a function (e.g. aggregation, transformation, filtering) within the individual groups.\n",
    "- **Combine** stitches the results of these operations into an output DataFrame."
   ]
  },
  {
   "cell_type": "markdown",
   "metadata": {
    "slideshow": {
     "slide_type": "slide"
    }
   },
   "source": [
    "### Runtime considerations\n",
    "\n",
    "* The `groupby` method can often produce results using just a **single pass** over the data, updating the sum, mean, count, min, or other aggregate for each group along the way.\n",
    "\n",
    "* `groupby` is a **declarative** operation – the user just specifies **what** computation needs to be done, and `pandas` figures out **how** to do it under the hood.\n",
    "\n",
    "* The split-apply-combine pattern can be parallelized to work on multiple computers or threads, by sending computations for each group to different processors."
   ]
  },
  {
   "cell_type": "markdown",
   "metadata": {
    "slideshow": {
     "slide_type": "slide"
    }
   },
   "source": [
    "### Example: Penguins 🐧"
   ]
  },
  {
   "cell_type": "code",
   "execution_count": null,
   "metadata": {},
   "outputs": [],
   "source": [
    "penguins = sns.load_dataset('penguins').dropna()\n",
    "penguins.head()"
   ]
  },
  {
   "cell_type": "code",
   "execution_count": null,
   "metadata": {},
   "outputs": [],
   "source": [
    "penguins['species'].value_counts()"
   ]
  },
  {
   "cell_type": "code",
   "execution_count": null,
   "metadata": {},
   "outputs": [],
   "source": [
    "penguins['island'].value_counts()"
   ]
  },
  {
   "cell_type": "markdown",
   "metadata": {
    "slideshow": {
     "slide_type": "slide"
    }
   },
   "source": [
    "### For each species..."
   ]
  },
  {
   "cell_type": "markdown",
   "metadata": {},
   "source": [
    "What is the median bill length?"
   ]
  },
  {
   "cell_type": "code",
   "execution_count": null,
   "metadata": {},
   "outputs": [],
   "source": [
    "penguins.groupby('species').median()"
   ]
  },
  {
   "cell_type": "markdown",
   "metadata": {},
   "source": [
    "What proportion live on Dream Island?"
   ]
  },
  {
   "cell_type": "code",
   "execution_count": null,
   "metadata": {},
   "outputs": [],
   "source": [
    "(\n",
    "    penguins.assign(on_Dream = penguins['island'] == 'Dream')\n",
    "            .groupby('species')\n",
    "            .mean()\n",
    ")"
   ]
  },
  {
   "cell_type": "markdown",
   "metadata": {},
   "source": [
    "Now that we understand how to use `groupby`, let's dive deeper into **how** it works."
   ]
  },
  {
   "cell_type": "markdown",
   "metadata": {
    "slideshow": {
     "slide_type": "slide"
    }
   },
   "source": [
    "### Accessing groups\n",
    "\n",
    "- If `df` is a DataFrame, then `df.groupby(key)` returns a `DataFrameGroupBy` object.\n",
    "    - This object represents the \"split\" in \"split-apply-combine\".\n",
    "- Methods and attributes of `DataFrameGroupBy` objects:\n",
    "    - `.groups`: a dictionary in which the keys are group names and the values are lists of row labels.\n",
    "    - `.get_group(key)`: a DataFrame with only the values for the given key\n",
    "    - We usually don't use these directly, but they're useful in understanding how `groupby` works."
   ]
  },
  {
   "cell_type": "code",
   "execution_count": null,
   "metadata": {},
   "outputs": [],
   "source": [
    "# Creates one group for each unique value in the species column\n",
    "penguin_groups = penguins.groupby('species')\n",
    "penguin_groups"
   ]
  },
  {
   "cell_type": "code",
   "execution_count": null,
   "metadata": {},
   "outputs": [],
   "source": [
    "penguin_groups.groups"
   ]
  },
  {
   "cell_type": "code",
   "execution_count": null,
   "metadata": {},
   "outputs": [],
   "source": [
    "penguin_groups.get_group('Chinstrap')"
   ]
  },
  {
   "cell_type": "code",
   "execution_count": null,
   "metadata": {},
   "outputs": [],
   "source": [
    "# Same as the above\n",
    "penguins[penguins['species'] == 'Chinstrap']"
   ]
  },
  {
   "cell_type": "code",
   "execution_count": null,
   "metadata": {},
   "outputs": [],
   "source": [
    "for key, df in penguin_groups:\n",
    "    display(df)"
   ]
  },
  {
   "cell_type": "markdown",
   "metadata": {
    "slideshow": {
     "slide_type": "slide"
    }
   },
   "source": [
    "### Aggregation\n",
    "\n",
    "- Once we create a `DataFrameGroupBy` object, we need to **apply** some function to each group, and **combine** the results.\n",
    "- The most common operation applied to each group is an **aggregation**.\n",
    "    - Aggregation refers to the process of reducing many values to one.\n",
    "- To perform an aggregation, use an aggregator method on the `DataFrameGroupBy` object, e.g. `.mean()`, `.max()`, `.median()`, etc."
   ]
  },
  {
   "cell_type": "code",
   "execution_count": null,
   "metadata": {},
   "outputs": [],
   "source": [
    "penguins"
   ]
  },
  {
   "cell_type": "code",
   "execution_count": null,
   "metadata": {},
   "outputs": [],
   "source": [
    "penguin_groups"
   ]
  },
  {
   "cell_type": "code",
   "execution_count": null,
   "metadata": {},
   "outputs": [],
   "source": [
    "penguin_groups.mean()"
   ]
  },
  {
   "cell_type": "code",
   "execution_count": null,
   "metadata": {},
   "outputs": [],
   "source": [
    "penguin_groups.sum()"
   ]
  },
  {
   "cell_type": "code",
   "execution_count": null,
   "metadata": {
    "scrolled": true
   },
   "outputs": [],
   "source": [
    "penguin_groups.max()"
   ]
  },
  {
   "cell_type": "markdown",
   "metadata": {
    "slideshow": {
     "slide_type": "slide"
    }
   },
   "source": [
    "### Column selection\n",
    "\n",
    "- By default, the aggregator will be applied to **all** columns that it can be applied to.\n",
    "    - `max` and `min` are defined on strings, while `median` and `mean` are not.\n",
    "- If we only care about one column, we can select that column before aggregating to save time.\n",
    "- `DataFrameGroupBy` objects support `[]` notation."
   ]
  },
  {
   "cell_type": "code",
   "execution_count": null,
   "metadata": {},
   "outputs": [],
   "source": [
    "penguins.groupby('species').median()"
   ]
  },
  {
   "cell_type": "code",
   "execution_count": null,
   "metadata": {},
   "outputs": [],
   "source": [
    "penguins.groupby('species')['bill_length_mm'].median()"
   ]
  },
  {
   "cell_type": "code",
   "execution_count": null,
   "metadata": {},
   "outputs": [],
   "source": [
    "# Gives the same result, but involves wasted effort\n",
    "# since the other columns had to be aggregated for no reason\n",
    "penguins.groupby('species').median()['bill_length_mm']"
   ]
  },
  {
   "cell_type": "code",
   "execution_count": null,
   "metadata": {},
   "outputs": [],
   "source": [
    "# Note that this is a SeriesGroupBy object, not a DataFrameGroupBy object!\n",
    "penguins.groupby('species')['bill_length_mm']"
   ]
  },
  {
   "cell_type": "markdown",
   "metadata": {
    "slideshow": {
     "slide_type": "slide"
    }
   },
   "source": [
    "## Additional `GroupBy` methods"
   ]
  },
  {
   "cell_type": "markdown",
   "metadata": {
    "slideshow": {
     "slide_type": "slide"
    }
   },
   "source": [
    "### Aggregation methods\n",
    "\n",
    "- There are many built-in aggregation methods.\n",
    "- What if you want to apply different aggregation methods to different columns?\n",
    "- What if the aggregation method you want to use doesn't already exist in `pandas`?"
   ]
  },
  {
   "cell_type": "markdown",
   "metadata": {
    "slideshow": {
     "slide_type": "slide"
    }
   },
   "source": [
    "### The `aggregate` method\n",
    "\n",
    "- The `DataFrameGroupBy` object has a general `aggregate` method, which aggregates using one or more operations.\n",
    "    - Remember, aggregation refers to the process of reducing many values to one.\n",
    "- There are many ways of using `aggregate`; refer to [the documentation](https://pandas.pydata.org/pandas-docs/stable/reference/api/pandas.core.groupby.DataFrameGroupBy.aggregate.html) for a comprehensive list.\n",
    "- Example arguments:\n",
    "    - A single function.\n",
    "    - A list of functions.\n",
    "    - A dictionary mapping column names to functions.\n",
    "- Per [the documentation](https://pandas.pydata.org/pandas-docs/stable/reference/api/pandas.DataFrame.agg.html), `agg` is an alias for `aggregate`."
   ]
  },
  {
   "cell_type": "markdown",
   "metadata": {
    "slideshow": {
     "slide_type": "slide"
    }
   },
   "source": [
    "### Example\n",
    "\n",
    "How many penguins are there of each species, and what is the mean body mass of each species?"
   ]
  },
  {
   "cell_type": "code",
   "execution_count": null,
   "metadata": {},
   "outputs": [],
   "source": [
    "penguins.groupby('species')['body_mass_g'].aggregate(['count', 'mean'])"
   ]
  },
  {
   "cell_type": "markdown",
   "metadata": {},
   "source": [
    "Note what happens when we don't select a column before aggregating."
   ]
  },
  {
   "cell_type": "code",
   "execution_count": null,
   "metadata": {},
   "outputs": [],
   "source": [
    "# penguins.drop(columns=['island', 'sex']).groupby('species').aggregate(['count', 'mean'])\n",
    "penguins.groupby('species').aggregate(['count', 'mean'])"
   ]
  },
  {
   "cell_type": "markdown",
   "metadata": {
    "slideshow": {
     "slide_type": "slide"
    }
   },
   "source": [
    "### Example\n",
    "\n",
    "What is the max bill length of each species, and how many islands is each species found on?"
   ]
  },
  {
   "cell_type": "code",
   "execution_count": null,
   "metadata": {},
   "outputs": [],
   "source": [
    "penguins.groupby('species').aggregate({'bill_length_mm': 'max', 'island': 'nunique'})"
   ]
  },
  {
   "cell_type": "markdown",
   "metadata": {
    "slideshow": {
     "slide_type": "slide"
    }
   },
   "source": [
    "### Example\n",
    "\n",
    "What is the **interquartile range** of the body mass of each species?"
   ]
  },
  {
   "cell_type": "code",
   "execution_count": null,
   "metadata": {},
   "outputs": [],
   "source": [
    "def IQR(col):\n",
    "    return np.percentile(col, 75) - np.percentile(col, 25)"
   ]
  },
  {
   "cell_type": "code",
   "execution_count": null,
   "metadata": {},
   "outputs": [],
   "source": [
    "penguins.groupby('species')['body_mass_g'].aggregate(IQR)"
   ]
  },
  {
   "cell_type": "markdown",
   "metadata": {
    "slideshow": {
     "slide_type": "slide"
    }
   },
   "source": [
    "### The `transform` method\n",
    "\n",
    "- Let's say we want to subtract the mean within each group.\n",
    "- This is not an **aggregation**, it is a **transformation**.\n",
    "- A transformation returns a DataFrame or Series of the same size."
   ]
  },
  {
   "cell_type": "code",
   "execution_count": null,
   "metadata": {},
   "outputs": [],
   "source": [
    "penguins"
   ]
  },
  {
   "cell_type": "code",
   "execution_count": null,
   "metadata": {},
   "outputs": [],
   "source": [
    "penguins.groupby('species')['body_mass_g'].transform(lambda ser: ser - ser.mean())"
   ]
  },
  {
   "cell_type": "markdown",
   "metadata": {
    "slideshow": {
     "slide_type": "slide"
    }
   },
   "source": [
    "### The `filter` method\n",
    "\n",
    "- Suppose we want to keep only the groups that satisfy a particular condition.\n",
    "- To do this, we use the `filter` method, which takes in a function.\n",
    "- That function should accept a DataFrame/Series and return a Boolean.\n",
    "- The result is a new DataFrame/Series with only the groups for which the filter function returned `True`.\n",
    "- For example, suppose we want only the species whose mean bill length is above 39 mm."
   ]
  },
  {
   "cell_type": "code",
   "execution_count": null,
   "metadata": {},
   "outputs": [],
   "source": [
    "penguins"
   ]
  },
  {
   "cell_type": "code",
   "execution_count": null,
   "metadata": {},
   "outputs": [],
   "source": [
    "penguins.groupby('species').filter(lambda df: df['bill_length_mm'].mean() > 39)"
   ]
  },
  {
   "cell_type": "markdown",
   "metadata": {},
   "source": [
    "No more Adelies!"
   ]
  },
  {
   "cell_type": "markdown",
   "metadata": {
    "slideshow": {
     "slide_type": "slide"
    }
   },
   "source": [
    "### The `apply` method\n",
    "\n",
    "- The `apply` method is a generalization of `aggregate`, `transform`, and `filter`.\n",
    "- It accepts a group as a DataFrame/Series, and can return a DataFrame, Series, or scalar.\n",
    "- Per [the documentation](https://pandas.pydata.org/pandas-docs/stable/reference/api/pandas.core.groupby.GroupBy.apply.html), it is slower than other aggregation and transformation methods, so use those instead whenever possible, and **avoid `apply`**."
   ]
  },
  {
   "cell_type": "code",
   "execution_count": null,
   "metadata": {},
   "outputs": [],
   "source": [
    "penguins.groupby('species').apply(lambda s: s * 2)"
   ]
  },
  {
   "cell_type": "code",
   "execution_count": null,
   "metadata": {},
   "outputs": [],
   "source": [
    "penguins.groupby('species').apply(lambda s: s.mean().mean())"
   ]
  },
  {
   "cell_type": "markdown",
   "metadata": {
    "slideshow": {
     "slide_type": "slide"
    }
   },
   "source": [
    "### Discussion Question\n",
    "\n",
    "For each species, find the island on which the heaviest penguin of that species lives."
   ]
  },
  {
   "cell_type": "code",
   "execution_count": null,
   "metadata": {},
   "outputs": [],
   "source": [
    "# Why doesn't this work?\n",
    "penguins.groupby('species').max()"
   ]
  },
  {
   "cell_type": "code",
   "execution_count": null,
   "metadata": {},
   "outputs": [],
   "source": [
    "penguins.sort_values('body_mass_g', ascending=False).groupby('species').first()"
   ]
  },
  {
   "cell_type": "markdown",
   "metadata": {
    "slideshow": {
     "slide_type": "slide"
    }
   },
   "source": [
    "### Grouping with multiple columns\n",
    "\n",
    "When we group with multiple columns, one group is created for **every unique combination** of elements in the specified columns."
   ]
  },
  {
   "cell_type": "code",
   "execution_count": null,
   "metadata": {},
   "outputs": [],
   "source": [
    "double_group = penguins.groupby(['species', 'island'])\n",
    "double_group"
   ]
  },
  {
   "cell_type": "code",
   "execution_count": null,
   "metadata": {},
   "outputs": [],
   "source": [
    "double_group.groups"
   ]
  },
  {
   "cell_type": "code",
   "execution_count": null,
   "metadata": {},
   "outputs": [],
   "source": [
    "for key, df in double_group:\n",
    "    display(df.head())"
   ]
  },
  {
   "cell_type": "code",
   "execution_count": null,
   "metadata": {},
   "outputs": [],
   "source": [
    "penguins.groupby(['species', 'island']).mean()"
   ]
  },
  {
   "cell_type": "markdown",
   "metadata": {
    "slideshow": {
     "slide_type": "slide"
    }
   },
   "source": [
    "### Grouping and indexes\n",
    "\n",
    "- The `groupby` method creates an index based on the specified columns.\n",
    "- When grouping by multiple columns, the resulting DataFrame has a `MultiIndex`.\n",
    "- Advice: When working with a `MultiIndex`, use `reset_index` or set `as_index=False` in `groupby`."
   ]
  },
  {
   "cell_type": "code",
   "execution_count": null,
   "metadata": {},
   "outputs": [],
   "source": [
    "weird = penguins.groupby(['species', 'island']).mean()\n",
    "weird"
   ]
  },
  {
   "cell_type": "code",
   "execution_count": null,
   "metadata": {},
   "outputs": [],
   "source": [
    "weird['body_mass_g']"
   ]
  },
  {
   "cell_type": "code",
   "execution_count": null,
   "metadata": {},
   "outputs": [],
   "source": [
    "weird.loc['Adelie']"
   ]
  },
  {
   "cell_type": "code",
   "execution_count": null,
   "metadata": {},
   "outputs": [],
   "source": [
    "weird.loc[('Adelie', 'Torgersen')]"
   ]
  },
  {
   "cell_type": "code",
   "execution_count": null,
   "metadata": {},
   "outputs": [],
   "source": [
    "weird.reset_index()"
   ]
  },
  {
   "cell_type": "code",
   "execution_count": null,
   "metadata": {},
   "outputs": [],
   "source": [
    "penguins.groupby(['species', 'island'], as_index=False).mean()"
   ]
  },
  {
   "cell_type": "markdown",
   "metadata": {
    "slideshow": {
     "slide_type": "slide"
    }
   },
   "source": [
    "## Introduction to pivot tables"
   ]
  },
  {
   "cell_type": "markdown",
   "metadata": {
    "slideshow": {
     "slide_type": "slide"
    }
   },
   "source": [
    "### Average body mass for every combination of species and island\n",
    "\n",
    "To find the above information, we can group by both `'species'` and `'island'`."
   ]
  },
  {
   "cell_type": "code",
   "execution_count": null,
   "metadata": {},
   "outputs": [],
   "source": [
    "penguins.groupby(['species', 'island'])['body_mass_g'].mean()"
   ]
  },
  {
   "cell_type": "markdown",
   "metadata": {},
   "source": [
    "But we can also create a **pivot table**."
   ]
  },
  {
   "cell_type": "code",
   "execution_count": null,
   "metadata": {},
   "outputs": [],
   "source": [
    "penguins.pivot_table(index='species', \n",
    "                     columns='island', \n",
    "                     values='body_mass_g', \n",
    "                     aggfunc='mean')"
   ]
  },
  {
   "cell_type": "markdown",
   "metadata": {},
   "source": [
    "Note that the DataFrame above shows the same information as the Series above it, just in a different arrangement."
   ]
  },
  {
   "cell_type": "markdown",
   "metadata": {
    "slideshow": {
     "slide_type": "slide"
    }
   },
   "source": [
    "## Summary, next time"
   ]
  },
  {
   "cell_type": "markdown",
   "metadata": {
    "slideshow": {
     "slide_type": "slide"
    }
   },
   "source": [
    "### Summary\n",
    "\n",
    "- Grouping allows us to change the level of granularity in a DataFrame.\n",
    "- Grouping involves three steps – split, apply, and combine.\n",
    "- The `groupby` method returns a `DataFrameGroupBy` method, which creates one group for every unique combination of values in the column(s) being grouped on.\n",
    "- Most often, we will use an aggregation method on a `DataFrameGroupBy` object, but we can also use `transform`, `filter`, or the more general `apply` methods. Each one of these methods acts on each group individually.\n",
    "- **Next time:** More on `pivot` and `pivot_table`. Simpson's paradox. Combining DataFrames."
   ]
  }
 ],
 "metadata": {
  "celltoolbar": "Slideshow",
  "kernelspec": {
   "display_name": "Python 3 (ipykernel)",
   "language": "python",
   "name": "python3"
  },
  "language_info": {
   "codemirror_mode": {
    "name": "ipython",
    "version": 3
   },
   "file_extension": ".py",
   "mimetype": "text/x-python",
   "name": "python",
   "nbconvert_exporter": "python",
   "pygments_lexer": "ipython3",
   "version": "3.8.12"
  },
  "livereveal": {
   "scroll": true,
   "transition": "none"
  }
 },
 "nbformat": 4,
 "nbformat_minor": 2
}
