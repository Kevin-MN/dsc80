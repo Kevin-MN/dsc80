{
 "cells": [
  {
   "cell_type": "code",
   "execution_count": null,
   "metadata": {
    "slideshow": {
     "slide_type": "skip"
    }
   },
   "outputs": [],
   "source": [
    "import pandas as pd\n",
    "import numpy as np\n",
    "import os\n",
    "\n",
    "import util\n",
    "\n",
    "import matplotlib.pyplot as plt\n",
    "plt.style.use('seaborn-white')\n",
    "plt.rc('figure', dpi=100, figsize=(10, 5))\n",
    "plt.rc('font', size=12)"
   ]
  },
  {
   "cell_type": "markdown",
   "metadata": {
    "slideshow": {
     "slide_type": "slide"
    }
   },
   "source": [
    "# Lecture 14 – HTTP Basics\n",
    "\n",
    "## DSC 80, Spring 2022"
   ]
  },
  {
   "cell_type": "markdown",
   "metadata": {
    "slideshow": {
     "slide_type": "slide"
    }
   },
   "source": [
    "### Announcements\n",
    "\n",
    "- Midterm Exam grades are released! See [#935](https://campuswire.com/c/G325FA25B/feed/935) for details.\n",
    "    - Regrades are due next Thursday.\n",
    "- Project 2 is due **tomorrow at 11:59PM**.\n",
    "- Lab 5 is due on **Monday, May 2nd at 11:59PM**."
   ]
  },
  {
   "cell_type": "markdown",
   "metadata": {
    "slideshow": {
     "slide_type": "slide"
    }
   },
   "source": [
    "### Agenda\n",
    "\n",
    "- Recap: Imputation.\n",
    "- Introduction to HTTP.\n",
    "- Making HTTP requests.\n",
    "    - See the [course notes](https://notes.dsc80.com/content/07/requests.html) for more details."
   ]
  },
  {
   "cell_type": "markdown",
   "metadata": {
    "slideshow": {
     "slide_type": "slide"
    }
   },
   "source": [
    "## Recap: Imputation"
   ]
  },
  {
   "cell_type": "markdown",
   "metadata": {
    "slideshow": {
     "slide_type": "slide"
    }
   },
   "source": [
    "### Example: Heights 🧍📏"
   ]
  },
  {
   "cell_type": "code",
   "execution_count": null,
   "metadata": {},
   "outputs": [],
   "source": [
    "heights = pd.read_csv(os.path.join('data', 'heights.csv'))\n",
    "heights = (\n",
    "    heights\n",
    "    .rename(columns={'childHeight': 'child', 'childNum': 'number'})\n",
    "    .drop('midparentHeight', axis=1)\n",
    ")\n",
    "heights.head()"
   ]
  },
  {
   "cell_type": "code",
   "execution_count": null,
   "metadata": {},
   "outputs": [],
   "source": [
    "np.random.seed(42) # So that we get the same results each time (for lecture)\n",
    "heights_mcar = util.make_mcar(heights, 'child', pct=0.50)\n",
    "heights_mcar.head()"
   ]
  },
  {
   "cell_type": "markdown",
   "metadata": {
    "slideshow": {
     "slide_type": "slide"
    }
   },
   "source": [
    "### Mean imputation\n",
    "\n",
    "The `'child'` column has missing values.\n",
    "\n",
    "- If `'child'` is MCAR, then fill in each of the missing values using the **mean of the observed values**."
   ]
  },
  {
   "cell_type": "markdown",
   "metadata": {
    "slideshow": {
     "slide_type": "fragment"
    }
   },
   "source": [
    "- If `'child'` is MAR dependent on a categorical column, then fill in each of the missing values using the **mean of the observed values in each category**. For instance, if `'child'` is MAR dependent on `'gender'`, we can fill in:\n",
    "    - missing female `'child'` heights with the observed mean for female children, and\n",
    "    - missing male `'child'` heights with the observed mean for male children."
   ]
  },
  {
   "cell_type": "markdown",
   "metadata": {
    "slideshow": {
     "slide_type": "fragment"
    }
   },
   "source": [
    "- If `'child'` is MAR dependent on a numerical column, then **bin the numerical column to make it categorical**, then follow the procedure above. See Lab 5, Question 3!"
   ]
  },
  {
   "cell_type": "markdown",
   "metadata": {
    "slideshow": {
     "slide_type": "fragment"
    }
   },
   "source": [
    "- Mean imputation, when done correctly, creates a distribution whose mean is an unbiased estimate of the true distribution's mean, but whose variance is **an underestimate** of the true variance."
   ]
  },
  {
   "cell_type": "code",
   "execution_count": null,
   "metadata": {
    "slideshow": {
     "slide_type": "slide"
    }
   },
   "outputs": [],
   "source": [
    "heights_mcar_mfilled = heights_mcar.fillna(heights_mcar['child'].mean())\n",
    "heights_mcar_mfilled['child'].head()"
   ]
  },
  {
   "cell_type": "code",
   "execution_count": null,
   "metadata": {},
   "outputs": [],
   "source": [
    "plt.hist([heights['child'], heights_mcar['child'].dropna(), heights_mcar_mfilled['child']])\n",
    "plt.legend(['full data', 'missing (mcar)', 'imputed']);"
   ]
  },
  {
   "cell_type": "markdown",
   "metadata": {
    "slideshow": {
     "slide_type": "slide"
    }
   },
   "source": [
    "### Probabilistic imputation\n",
    "\n",
    "The `'child'` column has missing values.\n",
    "\n",
    "- If `'child'` is MCAR, then fill in each of the missing values with **randomly selected observed `'child'` heights**.\n",
    "    - For instance, if there are 5 missing `'child'` values, pick 5 of the not-missing `'child'` values.\n",
    "- If `'child'` is MAR dependent on a categorical column, sample from the observed values separately for each category."
   ]
  },
  {
   "cell_type": "code",
   "execution_count": null,
   "metadata": {
    "slideshow": {
     "slide_type": "slide"
    }
   },
   "outputs": [],
   "source": [
    "# Figure out the number of missing values\n",
    "num_null = heights_mcar['child'].isna().sum()\n",
    "\n",
    "# Sample that number of values from the observed dataset\n",
    "fill_values = heights_mcar['child'].dropna().sample(num_null, replace=True)\n",
    "\n",
    "# Find the positions where values in heights_mcar are missing\n",
    "fill_values.index = heights_mcar.loc[heights_mcar['child'].isna()].index\n",
    "\n",
    "# Fill in the missing values\n",
    "heights_mcar_dfilled = heights_mcar.fillna({'child': fill_values.to_dict()})  # fill the vals"
   ]
  },
  {
   "cell_type": "code",
   "execution_count": null,
   "metadata": {
    "scrolled": false,
    "slideshow": {
     "slide_type": "-"
    }
   },
   "outputs": [],
   "source": [
    "plt.hist([heights['child'], heights_mcar['child'], heights_mcar_dfilled['child']], density=True);\n",
    "plt.legend(['full data','missing (mcar)', 'distr imputed']);"
   ]
  },
  {
   "cell_type": "markdown",
   "metadata": {},
   "source": [
    "No spikes!"
   ]
  },
  {
   "cell_type": "markdown",
   "metadata": {
    "slideshow": {
     "slide_type": "slide"
    }
   },
   "source": [
    "### Observations\n",
    "\n",
    "- With probabilistic imputation, the missing values were filled in with observed values in the dataset.\n",
    "- If a value was never observed in the dataset, it will never be used to fill in a missing value.\n",
    "    - For instance, if the observed heights were 68, 69, and 69.5 inches, we will never fill a missing value with 68.5 inches even though it's a perfectly reasonable height.\n",
    "    \n",
    "- Solution? Create a histogram (with `np.histogram`) to bin the data, then sample from the histogram. See Lab 5, Question 4."
   ]
  },
  {
   "cell_type": "markdown",
   "metadata": {
    "slideshow": {
     "slide_type": "slide"
    }
   },
   "source": [
    "### Randomness\n",
    "\n",
    "- Unlike mean imputation, probabilistic imputation is **random** – each time you run the cell in which imputation is performed, the results could be different.\n",
    "- **Multiple imputation**: Generate multiple imputed datasets and aggregate the results!\n",
    "    - Similar to bootstrapping."
   ]
  },
  {
   "cell_type": "markdown",
   "metadata": {
    "slideshow": {
     "slide_type": "slide"
    }
   },
   "source": [
    "### Multiple imputation\n",
    "\n",
    "Steps:\n",
    "\n",
    "0. Start with observed and incomplete data. \n",
    "1. Create several **imputed** versions of the data through a probabilistic procedure.\n",
    "    - The imputed datasets are identical for the observed data entries.\n",
    "    - They differ in the imputed values. \n",
    "    - The differences reflect our **uncertainty** about what value to impute.\n",
    "\n",
    "2. Then, estimate the parameters of interest for **each** imputed dataset.\n",
    "    - For instance, the mean, standard deviation, median, etc.\n",
    "3. Finally, pool the parameter estimates into one estimate."
   ]
  },
  {
   "cell_type": "markdown",
   "metadata": {
    "slideshow": {
     "slide_type": "slide"
    }
   },
   "source": [
    "Let's try this procedure out on the `heights_mcar` dataset."
   ]
  },
  {
   "cell_type": "code",
   "execution_count": null,
   "metadata": {},
   "outputs": [],
   "source": [
    "heights_mcar.head()"
   ]
  },
  {
   "cell_type": "code",
   "execution_count": null,
   "metadata": {},
   "outputs": [],
   "source": [
    "# This function implements the 3-step process we studied earlier\n",
    "def create_imputed(col):\n",
    "    num_null = col.isna().sum()\n",
    "    fill_values = col.dropna().sample(num_null, replace=True)\n",
    "    fill_values.index = col.loc[col.isna()].index\n",
    "    return col.fillna(fill_values.to_dict())"
   ]
  },
  {
   "cell_type": "markdown",
   "metadata": {},
   "source": [
    "Each time we run the following cell, it generates a new imputed version of the `'child'` column."
   ]
  },
  {
   "cell_type": "code",
   "execution_count": null,
   "metadata": {},
   "outputs": [],
   "source": [
    "create_imputed(heights_mcar['child']).head()"
   ]
  },
  {
   "cell_type": "markdown",
   "metadata": {},
   "source": [
    "Let's run the above procedure 100 times."
   ]
  },
  {
   "cell_type": "code",
   "execution_count": null,
   "metadata": {},
   "outputs": [],
   "source": [
    "mult_imp = pd.concat([create_imputed(heights_mcar['child']).rename(k) for k in range(100)], axis=1)\n",
    "mult_imp.head()"
   ]
  },
  {
   "cell_type": "markdown",
   "metadata": {},
   "source": [
    "Let's plot some of the imputed columns above."
   ]
  },
  {
   "cell_type": "code",
   "execution_count": null,
   "metadata": {},
   "outputs": [],
   "source": [
    "# Random sample of 15 imputed columns\n",
    "mult_imp.sample(15, axis=1).plot(kind='kde', alpha=0.5, legend=False);"
   ]
  },
  {
   "cell_type": "markdown",
   "metadata": {},
   "source": [
    "Let's look at the distribution of means across the imputed columns."
   ]
  },
  {
   "cell_type": "code",
   "execution_count": null,
   "metadata": {},
   "outputs": [],
   "source": [
    "mult_imp.mean().plot(kind='hist', bins=20, ec='w', density=True);"
   ]
  },
  {
   "cell_type": "markdown",
   "metadata": {
    "slideshow": {
     "slide_type": "slide"
    }
   },
   "source": [
    "### Summary of imputation techniques\n",
    "\n",
    "See the end of Lecture 13 for a detailed summary of all imputation techniques that we've seen so far."
   ]
  },
  {
   "cell_type": "markdown",
   "metadata": {
    "slideshow": {
     "slide_type": "slide"
    }
   },
   "source": [
    "## Introduction to HTTP"
   ]
  },
  {
   "cell_type": "markdown",
   "metadata": {
    "slideshow": {
     "slide_type": "slide"
    }
   },
   "source": [
    "<center><img src=\"imgs/DSLC.png\" width=\"40%\"></center>"
   ]
  },
  {
   "cell_type": "markdown",
   "metadata": {
    "slideshow": {
     "slide_type": "slide"
    }
   },
   "source": [
    "### Collecting data\n",
    "\n",
    "* Often, the data you need doesn't exist in \"clean\" `.csv` files.\n",
    "* **Solution:** collect your own data!\n",
    "    - Design and administer your own survey or run an experiment.\n",
    "    - Find related data on the internet."
   ]
  },
  {
   "cell_type": "markdown",
   "metadata": {
    "slideshow": {
     "slide_type": "slide"
    }
   },
   "source": [
    "### Data on the internet\n",
    "\n",
    "- The internet contains **massive** amounts of historical record.\n",
    "    - News stories provide a record of world events.\n",
    "    - Social networks and commerce sites provide an insight into human behavior.\n",
    "- For most questions you can think of, the data to answer the question exists somewhere on the internet."
   ]
  },
  {
   "cell_type": "markdown",
   "metadata": {
    "slideshow": {
     "slide_type": "slide"
    }
   },
   "source": [
    "### Collecting data from the internet\n",
    "\n",
    "- There are two ways to programmatically access data on the internet.\n",
    "    - Through an API.\n",
    "    - By scraping.\n",
    "- We will discuss the differences between both approaches next lecture, but for now, the important part is that they **both use HTTP**."
   ]
  },
  {
   "cell_type": "markdown",
   "metadata": {
    "slideshow": {
     "slide_type": "slide"
    }
   },
   "source": [
    "### HTTP\n",
    "\n",
    "- HTTP stands for **Hypertext Transfer Protocol**.\n",
    "    - It was developed in 1989 by Tim Berners-Lee (and friends).\n",
    "- It is a **request-response** protocol.\n",
    "    - Protocol = set of rules.\n",
    "- HTTP allows...\n",
    "    - computers to talk to each other over a network.\n",
    "    - devices to fetch data from \"web servers\".\n",
    "- The \"S\" in HTTPS stands for \"secure\"."
   ]
  },
  {
   "cell_type": "markdown",
   "metadata": {
    "slideshow": {
     "slide_type": "slide"
    }
   },
   "source": [
    "<center><img src='imgs/ucsd.png' width=750></center>\n",
    "\n",
    "UCSD was a node in ARPANET, the predecessor to the modern internet ([source](https://en.wikipedia.org/wiki/ARPANET#/media/File:Arpanet_map_1973.jpg/))."
   ]
  },
  {
   "cell_type": "markdown",
   "metadata": {
    "slideshow": {
     "slide_type": "slide"
    }
   },
   "source": [
    "### The request-response model\n",
    "\n",
    "HTTP follows the **request-response** model.\n",
    "\n",
    "<center><img src='imgs/req-response.png' width=600></center>\n",
    "    \n",
    "- A **request** is made by the **client**.\n",
    "- A **response** is returned by the **server**."
   ]
  },
  {
   "cell_type": "markdown",
   "metadata": {
    "slideshow": {
     "slide_type": "fragment"
    }
   },
   "source": [
    "- **Example:** YouTube 🎥.\n",
    "    - Your phone's web browser, a **client**, makes an HTTP **request** to view a video.\n",
    "    - The **server**, YouTube, is a computer that is sitting somewhere else.\n",
    "    - The server returns a **response** that contains the video."
   ]
  },
  {
   "cell_type": "markdown",
   "metadata": {
    "slideshow": {
     "slide_type": "slide"
    }
   },
   "source": [
    "### Request methods\n",
    "\n",
    "- The request methods you will use most often are `GET` and `POST`.\n",
    "\n",
    "    - `GET` is used to request data **from** a specified resource.\n",
    "\n",
    "    - `POST` is used to **send** data to the server. \n",
    "        - e.g. uploading a photo to Instagram or entering credit card information on Amazon.\n",
    "    \n",
    "- See [Mozilla's web docs](https://developer.mozilla.org/en-US/docs/Web/HTTP/Methods) for a detailed list of request methods."
   ]
  },
  {
   "cell_type": "markdown",
   "metadata": {
    "slideshow": {
     "slide_type": "slide"
    }
   },
   "source": [
    "### Example `GET` request\n",
    "\n",
    "Below is an example `GET` HTTP request made by a browser when accessing [datascience.ucsd.edu](https://datascience.ucsd.edu).\n",
    "\n",
    "```HTTP\n",
    "GET / HTTP/1.1\n",
    "Host: datascience.ucsd.edu\n",
    "User-Agent: Mozilla/5.0 (Macintosh; Intel Mac OS X 10_15_7) AppleWebKit/537.36 (KHTML, like Gecko) Chrome/100.0.4896.127 Safari/537.36\n",
    "Connection: keep-alive\n",
    "Accept-Language: en-US,en;q=0.9\n",
    "```\n",
    "\n",
    "- The first line (`GET / HTTP/1.1`) is called the \"request line\", and the lines afterwards are called \"header fields\". We could also provide a \"body\" after the header fields.\n",
    "- To see HTTP requests in Google Chrome, follow [these steps](https://mkyong.com/computer-tips/how-to-view-http-headers-in-google-chrome/)."
   ]
  },
  {
   "cell_type": "markdown",
   "metadata": {
    "slideshow": {
     "slide_type": "slide"
    }
   },
   "source": [
    "### Example `GET` response\n",
    "\n",
    "The response below was generated by executing the request on the previous slide.\n",
    "\n",
    "```HTTP\n",
    "HTTP/1.1 200 OK\n",
    "Date: Fri, 29 Apr 2022 02:54:41 GMT\n",
    "Server: Apache\n",
    "Link: <https://datascience.ucsd.edu/wp-json/>; rel=\"https://api.w.org/\"\n",
    "Link: <https://datascience.ucsd.edu/wp-json/wp/v2/pages/2427>; rel=\"alternate\"; type=\"application/json\"\n",
    "Link: <https://datascience.ucsd.edu/>; rel=shortlink\n",
    "Content-Type: text/html; charset=UTF-8\n",
    "\n",
    "<!DOCTYPE html>\n",
    "<html lang=\"en-US\">\n",
    "<head>\n",
    "\t<meta charset=\"UTF-8\">\n",
    "\t<link rel=\"profile\" href=\"https://gmpg.org/xfn/11\">\n",
    "\t<style media=\"all\">img.wp-smiley,img.emoji{display:inline !important;border:none\n",
    "...\n",
    "```"
   ]
  },
  {
   "cell_type": "markdown",
   "metadata": {
    "slideshow": {
     "slide_type": "slide"
    }
   },
   "source": [
    "### Consequences of the request-response model\n",
    "\n",
    "- When a request is sent to view content on a webpage, the server must:\n",
    "    - process your request (i.e. prepare data for the response).\n",
    "    - send content back to the client in its response.\n",
    "- Remember, servers are computers. \n",
    "    - Someone has to pay to keep these computers running.\n",
    "    - **This means that every time you access a website, someone has to pay.**"
   ]
  },
  {
   "cell_type": "markdown",
   "metadata": {
    "slideshow": {
     "slide_type": "slide"
    }
   },
   "source": [
    "### Example: [istheshipstuck.com](https://istheshipstillstuck.com)\n",
    "\n",
    "<center><img src='imgs/ship.png' width=500></center>\n",
    "\n",
    "Read [_Inside a viral website_](https://notfunatparties.substack.com/p/inside-a-viral-website), an account of what it's like to run a site that gained 50 million+ views in 5 days."
   ]
  },
  {
   "cell_type": "markdown",
   "metadata": {
    "slideshow": {
     "slide_type": "slide"
    }
   },
   "source": [
    "## Making HTTP requests"
   ]
  },
  {
   "cell_type": "markdown",
   "metadata": {
    "slideshow": {
     "slide_type": "slide"
    }
   },
   "source": [
    "### Making HTTP requests\n",
    "\n",
    "There are (at least) two ways to make HTTP requests:\n",
    "\n",
    "- From the command line, with `curl`.\n",
    "- From Python, with the `requests` package."
   ]
  },
  {
   "cell_type": "markdown",
   "metadata": {
    "slideshow": {
     "slide_type": "slide"
    }
   },
   "source": [
    "### Making HTTP requests using `curl`\n",
    "\n",
    "[`curl`](https://curl.haxx.se/docs/httpscripting.html) is a **command-line tool** that sends HTTP requests, like a browser.\n",
    "\n",
    "1. The client, `curl`, sends a HTTP request. \n",
    "2. The request contains a method (e.g. `GET` or `POST`).\n",
    "3. The HTTP server responds with \n",
    "    - a status line, indicating if things went well, \n",
    "    - response headers, and\n",
    "    - (usually) a response body, containing the requested data."
   ]
  },
  {
   "cell_type": "markdown",
   "metadata": {
    "slideshow": {
     "slide_type": "slide"
    }
   },
   "source": [
    "### Example: `GET` requests via `curl`\n",
    "\n",
    "- By default, `curl` issues a `GET` request.\n",
    "- Remember, you can run command-line commands in a Jupyter Notebook by placing a `!` before them.\n",
    "\n",
    "```zsh\n",
    "curl -v https://httpbin.org/html\n",
    "# (`-v` is short for verbose)\n",
    "```\n",
    "\n",
    "- After running the command, go to [https://httpbin.org/html](https://httpbin.org/html) in your browser. What do you notice?"
   ]
  },
  {
   "cell_type": "code",
   "execution_count": null,
   "metadata": {},
   "outputs": [],
   "source": [
    "!curl -v https://httpbin.org/html"
   ]
  },
  {
   "cell_type": "markdown",
   "metadata": {
    "slideshow": {
     "slide_type": "slide"
    }
   },
   "source": [
    "### Queries in a `GET` request\n",
    "\n",
    "- In order to request more specific information, we can include a **query string** in the URL.\n",
    "- `?` begins a query. For instance,\n",
    "\n",
    "```\n",
    "https://www.google.com/search?q=ucsd+dsc+80+hard&client=safari\n",
    "```\n",
    "\n",
    "- This method works well when sending small amounts of data.\n",
    "- We will use a similiar technique when working with APIs next lecture."
   ]
  },
  {
   "cell_type": "markdown",
   "metadata": {
    "slideshow": {
     "slide_type": "slide"
    }
   },
   "source": [
    "### Example: `POST` requests via `curl`\n",
    "\n",
    "- When using `curl`, `-d` is short for `POST`.\n",
    "- Below is an example `curl` `POST` request that sends `'King Triton'` as the parameter `'name'`.\n",
    "\n",
    "```zsh\n",
    "curl -d 'name=King Triton' https://httpbin.org/post\n",
    "```"
   ]
  },
  {
   "cell_type": "code",
   "execution_count": null,
   "metadata": {},
   "outputs": [],
   "source": [
    "!curl -d 'name=King Triton' https://httpbin.org/post"
   ]
  },
  {
   "cell_type": "markdown",
   "metadata": {},
   "source": [
    "- Run the cell below. Notice the difference?"
   ]
  },
  {
   "cell_type": "code",
   "execution_count": null,
   "metadata": {},
   "outputs": [],
   "source": [
    "!curl -d 'name=King Triton' https://youtube.com"
   ]
  },
  {
   "cell_type": "markdown",
   "metadata": {
    "slideshow": {
     "slide_type": "slide"
    }
   },
   "source": [
    "### Making HTTP requests using `requests`\n",
    "\n",
    "- `requests` is a Python package that allows you to use Python to interact with the internet!  \n",
    "- There are other packages that work similarly (e.g. `urllib`), but `requests` is arguably the easiest to use."
   ]
  },
  {
   "cell_type": "code",
   "execution_count": null,
   "metadata": {},
   "outputs": [],
   "source": [
    "import requests"
   ]
  },
  {
   "cell_type": "markdown",
   "metadata": {
    "slideshow": {
     "slide_type": "slide"
    }
   },
   "source": [
    "### Example: `GET` requests via `requests`\n",
    "\n",
    "To access the source code of the UCSD home page, all we need to run is the following:\n",
    "\n",
    "```py\n",
    "text = requests.get('https://ucsd.edu').text\n",
    "```"
   ]
  },
  {
   "cell_type": "code",
   "execution_count": null,
   "metadata": {},
   "outputs": [],
   "source": [
    "url = 'https://ucsd.edu'\n",
    "resp = requests.get(url)"
   ]
  },
  {
   "cell_type": "markdown",
   "metadata": {},
   "source": [
    "`resp` is now a `Response` object."
   ]
  },
  {
   "cell_type": "code",
   "execution_count": null,
   "metadata": {},
   "outputs": [],
   "source": [
    "resp"
   ]
  },
  {
   "cell_type": "markdown",
   "metadata": {},
   "source": [
    "The `text` attribute of `resp` is a string that containing the entire response."
   ]
  },
  {
   "cell_type": "code",
   "execution_count": null,
   "metadata": {},
   "outputs": [],
   "source": [
    "type(resp.text)"
   ]
  },
  {
   "cell_type": "code",
   "execution_count": null,
   "metadata": {},
   "outputs": [],
   "source": [
    "len(resp.text)"
   ]
  },
  {
   "cell_type": "code",
   "execution_count": null,
   "metadata": {},
   "outputs": [],
   "source": [
    "print(resp.text[:1000])"
   ]
  },
  {
   "cell_type": "markdown",
   "metadata": {},
   "source": [
    "The `url` attribute contains the URL that we accessed."
   ]
  },
  {
   "cell_type": "code",
   "execution_count": null,
   "metadata": {},
   "outputs": [],
   "source": [
    "resp.request.url"
   ]
  },
  {
   "cell_type": "markdown",
   "metadata": {
    "slideshow": {
     "slide_type": "slide"
    }
   },
   "source": [
    "### Example: `POST` requests via `requests`"
   ]
  },
  {
   "cell_type": "code",
   "execution_count": null,
   "metadata": {},
   "outputs": [],
   "source": [
    "post_response = requests.post('https://httpbin.org/post',\n",
    "                              data={'name': 'King Triton'})\n",
    "post_response"
   ]
  },
  {
   "cell_type": "code",
   "execution_count": null,
   "metadata": {},
   "outputs": [],
   "source": [
    "print(post_response.text)"
   ]
  },
  {
   "cell_type": "markdown",
   "metadata": {
    "slideshow": {
     "slide_type": "slide"
    }
   },
   "source": [
    "### HTTP status codes\n",
    "\n",
    "- When we **request** data from a website, the server includes an **HTTP status code** in the response.  \n",
    "* The most common status code is `200`, which means there were no issues.  \n",
    "* Other times, you will see a different status code, describing some sort of event or error.\n",
    "    - e.g. `404`: page not found; `500`: internal server error.\n",
    "    - [The first digit of a status describes its general \"category\".](https://developer.mozilla.org/en-US/docs/Web/HTTP/Status)\n",
    "- See [https://httpstat.us](https://httpstat.us/) for a list of all HTTP status codes.\n",
    "    - It also has example sites for each status code.\n",
    "    - For example, https://httpstat.us/404 returns a `404`."
   ]
  },
  {
   "cell_type": "code",
   "execution_count": null,
   "metadata": {},
   "outputs": [],
   "source": [
    "r = requests.get('https://httpstat.us/503')\n",
    "print(r.status_code)"
   ]
  },
  {
   "cell_type": "code",
   "execution_count": null,
   "metadata": {},
   "outputs": [],
   "source": [
    "r.text"
   ]
  },
  {
   "cell_type": "markdown",
   "metadata": {
    "slideshow": {
     "slide_type": "slide"
    }
   },
   "source": [
    "### Successful requests ✅\n",
    "\n",
    "- You can check if a request was successful using the `ok` attribute, which returns a bool.\n",
    "    - If a status is in the 200s, then it is successful.\n",
    "- Unsuccessful requests can be re-tried, depending on the issue.\n",
    "    - Wait a little, then try the request again.\n",
    "    - You can even re-try requests programmatically (e.g. using a loop). If rate of requests is too high, slow down requests between each retry (e.g. using `time.sleep`).\n",
    "- See the [course notes](https://notes.dsc80.com/content/07/requests.html#responsible-use-of-http-requests) for more examples.\n"
   ]
  },
  {
   "cell_type": "code",
   "execution_count": null,
   "metadata": {},
   "outputs": [],
   "source": [
    "status_codes = [200, 201, 403, 404, 503]\n",
    "\n",
    "for code in status_codes:\n",
    "    r = requests.get(f'https://httpstat.us/{code}')\n",
    "    print(f'{code} ok: {r.ok}')"
   ]
  },
  {
   "cell_type": "markdown",
   "metadata": {},
   "source": [
    "- The `raise_for_status` request method raises an exception when the status code is not-ok."
   ]
  },
  {
   "cell_type": "code",
   "execution_count": null,
   "metadata": {},
   "outputs": [],
   "source": [
    "requests.get('https://httpstat.us/400').raise_for_status()"
   ]
  },
  {
   "cell_type": "markdown",
   "metadata": {
    "slideshow": {
     "slide_type": "slide"
    }
   },
   "source": [
    "### The data formats of the internet\n",
    "\n",
    "The internet currently relies on two key data formats – HTML and JSON.\n",
    "- The response body of a `GET` request is usually either JSON (when using an API) or HTML (when accessing a webpage).\n",
    "- The response body of a `POST` request is usually JSON."
   ]
  },
  {
   "cell_type": "markdown",
   "metadata": {
    "slideshow": {
     "slide_type": "slide"
    }
   },
   "source": [
    "<center><img src='imgs/json.png' width=400></center>"
   ]
  },
  {
   "cell_type": "markdown",
   "metadata": {
    "slideshow": {
     "slide_type": "slide"
    }
   },
   "source": [
    "### JSON\n",
    "\n",
    "- JSON stands for **JavaScript Object Notation**.\n",
    "- It is a lightweight format for storing and transferring data.\n",
    "- It is:\n",
    "    - very easy for computers to read and write.\n",
    "    - moderately easy for programmers to read and write by hand.\n",
    "    - meant to be generated and parsed.\n",
    "- Most modern languages have an interface for working with JSON objects.\n",
    "    - JSON objects _resemble_ Python dictionaries (but are not the same!).\n",
    "- JSON is slowly replacing XML, another text-based format for sending data from/to servers."
   ]
  },
  {
   "cell_type": "markdown",
   "metadata": {
    "slideshow": {
     "slide_type": "slide"
    }
   },
   "source": [
    "### JSON data types\n",
    "\n",
    "- string: anything inside double quotes.\n",
    "- number: any number (no difference between ints and floats).\n",
    "- boolean: `true` and `false`.\n",
    "- array: anything wrapped in `[]`.\n",
    "- null: JSON's empty value, denoted by `null`.\n",
    "- object: a collection of key-value pairs (like dictionaries).\n",
    "    - Keys must be strings, values can be anything (even other objects).\n",
    "\n",
    "See [json-schema.org](https://json-schema.org/understanding-json-schema/reference/type.html) for more details."
   ]
  },
  {
   "cell_type": "markdown",
   "metadata": {
    "slideshow": {
     "slide_type": "slide"
    }
   },
   "source": [
    "### Example JSON object\n",
    "\n",
    "See `data/family.json`.\n",
    "\n",
    "<center><img src='imgs/hierarchy.png' width=500></center>"
   ]
  },
  {
   "cell_type": "code",
   "execution_count": null,
   "metadata": {},
   "outputs": [],
   "source": [
    "import json"
   ]
  },
  {
   "cell_type": "code",
   "execution_count": null,
   "metadata": {},
   "outputs": [],
   "source": [
    "f = open(os.path.join('data', 'family.json'), 'r')\n",
    "family_tree = json.load(f)"
   ]
  },
  {
   "cell_type": "code",
   "execution_count": null,
   "metadata": {},
   "outputs": [],
   "source": [
    "family_tree"
   ]
  },
  {
   "cell_type": "code",
   "execution_count": null,
   "metadata": {},
   "outputs": [],
   "source": [
    "family_tree['children'][0]['children'][0]['age']"
   ]
  },
  {
   "cell_type": "markdown",
   "metadata": {
    "slideshow": {
     "slide_type": "slide"
    }
   },
   "source": [
    "### Aside: `eval`\n",
    "\n",
    "- `eval`, which stands for \"evaluate\", is a function built into Python.\n",
    "- It takes in a **string containing a Python expression** and evaluates it in the current context."
   ]
  },
  {
   "cell_type": "code",
   "execution_count": null,
   "metadata": {},
   "outputs": [],
   "source": [
    "x = 4"
   ]
  },
  {
   "cell_type": "code",
   "execution_count": null,
   "metadata": {},
   "outputs": [],
   "source": [
    "eval('x + 5')"
   ]
  },
  {
   "cell_type": "markdown",
   "metadata": {},
   "source": [
    "- It seems like `eval` can do the same thing that `json.load` does..."
   ]
  },
  {
   "cell_type": "code",
   "execution_count": null,
   "metadata": {},
   "outputs": [],
   "source": [
    "f = open(os.path.join('data', 'family.json'), 'r')\n",
    "eval(f.read())"
   ]
  },
  {
   "cell_type": "markdown",
   "metadata": {},
   "source": [
    "- But you should **never use `eval`**. The next slide demonstrates why."
   ]
  },
  {
   "cell_type": "markdown",
   "metadata": {
    "slideshow": {
     "slide_type": "slide"
    }
   },
   "source": [
    "### `eval` gone wrong\n",
    "\n",
    "- Observe what happens when we use `eval` on a string representation of a JSON object:"
   ]
  },
  {
   "cell_type": "code",
   "execution_count": null,
   "metadata": {},
   "outputs": [],
   "source": [
    "f_other = open(os.path.join('data', 'evil_family.json'))\n",
    "eval(f_other.read())"
   ]
  },
  {
   "cell_type": "markdown",
   "metadata": {
    "slideshow": {
     "slide_type": "fragment"
    }
   },
   "source": [
    "- Oh no! Since `evil_family.json`, which could have been downloaded from the internet, contained malicious code, we now lost all of our files.\n",
    "- This happened because `eval` **evaluates** all parts of the input string as if it were Python code. **You never need to do this – instead, use the `json` library.**\n",
    "    - `json.load` loads a JSON file from a file.\n",
    "    - `json.loads` loads a JSON file from a string."
   ]
  },
  {
   "cell_type": "code",
   "execution_count": null,
   "metadata": {},
   "outputs": [],
   "source": [
    "f_other = open(os.path.join('data', 'evil_family.json'))\n",
    "s = f_other.read()\n",
    "s"
   ]
  },
  {
   "cell_type": "code",
   "execution_count": null,
   "metadata": {},
   "outputs": [],
   "source": [
    "json.loads(s)"
   ]
  },
  {
   "cell_type": "markdown",
   "metadata": {},
   "source": [
    "- Since `util.err()` is not a string in JSON (there are no quotes around it), `json.loads` is not able to parse it as a JSON object.\n",
    "- This \"safety check\" is intentional."
   ]
  },
  {
   "cell_type": "markdown",
   "metadata": {
    "slideshow": {
     "slide_type": "slide"
    }
   },
   "source": [
    "### Handling _unfamiliar_ data\n",
    "- Never trust data from an unfamiliar site.\n",
    "- **Never** use `eval` on \"raw\" data that you didn't create!\n",
    "- The JSON data format needs to be **parsed**, not evaluated as a dictionary.\n",
    "    - It was designed with safety in mind!"
   ]
  },
  {
   "cell_type": "markdown",
   "metadata": {
    "slideshow": {
     "slide_type": "slide"
    }
   },
   "source": [
    "### Summary, next time"
   ]
  },
  {
   "cell_type": "markdown",
   "metadata": {
    "slideshow": {
     "slide_type": "slide"
    }
   },
   "source": [
    "### Summary\n",
    "\n",
    "- HTTP is the protocol the internet uses for transferring information.\n",
    "- Clients can make `GET` HTTP requests to ask for information and `POST` HTTP requests to send information.\n",
    "- Servers send responses with the desired information.\n",
    "- We can use `curl` in the command-line or the `requests` Python package to make HTTP requests.\n",
    "- The two main file formats used for storing information on the internet are HTML and JSON.\n",
    "- JSON objects resemble Python dictionaries, but they are not quite the same. Use the `json` package to parse them, **not** `eval`.\n",
    "- **Next time:** Using HTTP to make API requests and scrape the web. Parsing HTML files."
   ]
  }
 ],
 "metadata": {
  "celltoolbar": "Slideshow",
  "kernelspec": {
   "display_name": "Python 3 (ipykernel)",
   "language": "python",
   "name": "python3"
  },
  "language_info": {
   "codemirror_mode": {
    "name": "ipython",
    "version": 3
   },
   "file_extension": ".py",
   "mimetype": "text/x-python",
   "name": "python",
   "nbconvert_exporter": "python",
   "pygments_lexer": "ipython3",
   "version": "3.8.12"
  },
  "livereveal": {
   "scroll": true,
   "transition": "none"
  }
 },
 "nbformat": 4,
 "nbformat_minor": 2
}
