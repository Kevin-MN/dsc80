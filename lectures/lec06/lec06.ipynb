{
 "cells": [
  {
   "cell_type": "code",
   "execution_count": null,
   "id": "af746811",
   "metadata": {
    "slideshow": {
     "slide_type": "skip"
    }
   },
   "outputs": [],
   "source": [
    "import pandas as pd\n",
    "import numpy as np\n",
    "import os\n",
    "\n",
    "import matplotlib.pyplot as plt\n",
    "plt.style.use('seaborn-white')\n",
    "plt.rc('figure', dpi=100, figsize=(10, 5))\n",
    "plt.rc('font', size=12)"
   ]
  },
  {
   "cell_type": "markdown",
   "id": "345a4005",
   "metadata": {
    "slideshow": {
     "slide_type": "slide"
    }
   },
   "source": [
    "# Lecture 6 – Hypothesis Testing\n",
    "\n",
    "## DSC 80, Spring 2022"
   ]
  },
  {
   "cell_type": "markdown",
   "id": "3dddebf0",
   "metadata": {
    "slideshow": {
     "slide_type": "slide"
    }
   },
   "source": [
    "### Announcements\n",
    "\n",
    "- Discussion 2 is due (for extra credit) on **Saturday, April 9th at 11:59PM**.\n",
    "    - If you're looking for discussion recordings, look under DSC 80 Lecture A00 at [podcast.ucsd.edu](https://podcast.ucsd.edu).\n",
    "- Lab 2 is due on **Monday, April 11th at 11:59PM**.\n",
    "    - See [this post](https://campuswire.com/c/G325FA25B/feed/277) a clarification on Question 8.\n",
    "    - Git issues? See [this post](https://campuswire.com/c/G325FA25B/feed/315).\n",
    "- Project 1 is due on **Thursday, April 14th at 11:59PM**."
   ]
  },
  {
   "cell_type": "markdown",
   "id": "1283dedb",
   "metadata": {
    "slideshow": {
     "slide_type": "slide"
    }
   },
   "source": [
    "### Agenda\n",
    "\n",
    "- The theory of hypothesis testing.\n",
    "- Total variation distance.\n",
    "- Another example – penguin bill lengths 🐧.\n",
    "\n",
    "Throughout this lecture, we will look at how to \"speed up\" our hypothesis tests by avoiding `for`-loops entirely."
   ]
  },
  {
   "cell_type": "markdown",
   "id": "b50c5975",
   "metadata": {
    "slideshow": {
     "slide_type": "slide"
    }
   },
   "source": [
    "## Hypothesis testing"
   ]
  },
  {
   "cell_type": "markdown",
   "id": "a380023d",
   "metadata": {
    "slideshow": {
     "slide_type": "slide"
    }
   },
   "source": [
    "### Null hypothesis\n",
    "\n",
    "- Recall, a **null hypothesis** is an initial or default belief as to how data were generated.\n",
    "    - The null hypothesis must be a **probability model**, i.e. something that we can simulate under.\n",
    "\n",
    "- Often, but not always, the null hypothesis states there is no association or difference between variables or subpopulations, and that any observed differences were due to random chance. \n",
    "- Examples:\n",
    "    * The coin was fair.\n",
    "    * The music preferences of Americans and Canadians are the same.\n",
    "    * The median number of Instagram followers of DSC majors is equal to the median number of Instagram followers of all students at UCSD."
   ]
  },
  {
   "cell_type": "markdown",
   "id": "a3e13396",
   "metadata": {
    "slideshow": {
     "slide_type": "slide"
    }
   },
   "source": [
    "### Alternative hypothesis\n",
    "\n",
    "- An **alternative hypothesis** is a different viewpoint as to how data were generated.\n",
    "- The alternative hypothesis typically states that the difference between variables or subpopulations exists and is not due to random chance.\n",
    "- Examples:\n",
    "    - The coin is biased towards heads.\n",
    "    - The coin is biased.\n",
    "    - The music preferences of Americans and Canadians are different.\n",
    "    - The median number of Instagram followers of DSC majors is greater than the median number of Instagram followers of all students at UCSD."
   ]
  },
  {
   "cell_type": "markdown",
   "id": "2d05390d",
   "metadata": {
    "slideshow": {
     "slide_type": "slide"
    }
   },
   "source": [
    "### Test statistics\n",
    "\n",
    "- A **test statistic** is a number that we compute in each repetition of an experiment, to help us make a decision.\n",
    "- We'd like to choose a test statistic such that large values of the test statistic correspond to one hypothesis, and small values correspond to the other. **In other words, we'll try to avoid \"two-tailed tests\".**\n",
    "- For example, suppose we flipped a coin $N$ times and we saw $N_H$ heads."
   ]
  },
  {
   "cell_type": "markdown",
   "id": "d1680921",
   "metadata": {
    "slideshow": {
     "slide_type": "slide"
    }
   },
   "source": [
    "For the alternative hypothesis \"the coin was biased towards heads\", we could use:\n",
    "* $N_H$ (number of heads).\n",
    "* $\\frac{N_H}{N}$ (proportion of heads).\n",
    "* $N_H - \\frac{N}{2}$ (difference from expected number of heads).\n",
    "\n",
    "**If these test statistics are large, it means there were many heads. If they are small, it means there were few heads.**"
   ]
  },
  {
   "cell_type": "markdown",
   "id": "9392fb86",
   "metadata": {
    "slideshow": {
     "slide_type": "slide"
    }
   },
   "source": [
    "For the alternative hypothesis \"the coin was biased\", we could use:\n",
    "- $|N_H - \\frac{N}{2}|$ (absolute difference from expected number of heads).\n",
    "\n",
    "**If this test statistic is large, it means that there were many more heads than expected, or many fewer heads than expected. If this test statistic is small, it means that the number of heads was close to expected.**\n",
    "\n",
    "- For instance, suppose we flip 100 coins, and I tell you the absolute difference from the expected number of heads is 20.\n",
    "- Then, either we flipped 70 heads or 30 heads. \n",
    "- If our alternative hypothesis is that the coin was biased, then it doesn't matter in which direction it was biased, and this test statistic works.\n",
    "- But our alternative hypothesis is that the coin was biased towards heads, then this is not helpful, because we don't know whether or not there were 70 heads (evidence for the alternative) or 30 heads (not evidence for the alternative).  "
   ]
  },
  {
   "cell_type": "markdown",
   "id": "b564bc8e",
   "metadata": {
    "slideshow": {
     "slide_type": "slide"
    }
   },
   "source": [
    "### Generating the null distribution\n",
    "\n",
    "After choosing a test statistic, we need to compute the **distribution of the test statistic, under the assumption that the null hypothesis is true** (\"under the null\").\n",
    "- In DSC 10 and 80, we do this through simulation, which means our null distributions are **empirical** and our calculations are approximate.\n",
    "- In other courses, you may do this by-hand (e.g. in a coin flipping example, you could use the binomial distribution)."
   ]
  },
  {
   "cell_type": "markdown",
   "id": "300a9720",
   "metadata": {
    "slideshow": {
     "slide_type": "slide"
    }
   },
   "source": [
    "### Example: coin flipping\n",
    "\n",
    "Below, we create a DataFrame of coin flips."
   ]
  },
  {
   "cell_type": "code",
   "execution_count": null,
   "id": "62ec0f6d",
   "metadata": {},
   "outputs": [],
   "source": [
    "np.random.seed(42)\n",
    "\n",
    "flips = pd.DataFrame(np.random.choice(['H', 'T'], p=[0.55, 0.45], size=(114, 1)), columns=['result'])\n",
    "flips.head()"
   ]
  },
  {
   "cell_type": "code",
   "execution_count": null,
   "id": "a475c8cb",
   "metadata": {
    "scrolled": true
   },
   "outputs": [],
   "source": [
    "flips.shape"
   ]
  },
  {
   "cell_type": "code",
   "execution_count": null,
   "id": "631ebc02",
   "metadata": {},
   "outputs": [],
   "source": [
    "flips['result'].value_counts()"
   ]
  },
  {
   "cell_type": "markdown",
   "id": "48b39ea1",
   "metadata": {},
   "source": [
    "There were 114 flips, 68 of which were heads."
   ]
  },
  {
   "cell_type": "markdown",
   "id": "9225d20d",
   "metadata": {
    "slideshow": {
     "slide_type": "slide"
    }
   },
   "source": [
    "### Setup\n",
    "\n",
    "- **Null hypothesis:** The coin was fair, and any deviations were due to random chance.\n",
    "- **Alternative hypothesis:** The coin was biased towards heads.\n",
    "- **Test statistic:** Number of heads ($N_H$)."
   ]
  },
  {
   "cell_type": "markdown",
   "id": "0b5f39d6",
   "metadata": {
    "slideshow": {
     "slide_type": "-"
    }
   },
   "source": [
    "Steps:\n",
    "1. Compute the **observed value** of the test statistic, i.e. the observed number of heads. (We already know this to be 68.)\n",
    "2. Simulate values of the test statistic under the null, i.e. under the assumption that the coin was fair.\n",
    "3. Use the resulting distribution to calculate the (approximate) probability of seeing 68 or more heads in 114 coin flips, under the assumption the coin was fair."
   ]
  },
  {
   "cell_type": "markdown",
   "id": "21581299",
   "metadata": {
    "slideshow": {
     "slide_type": "slide"
    }
   },
   "source": [
    "### Simulation"
   ]
  },
  {
   "cell_type": "code",
   "execution_count": null,
   "id": "786eb9c4",
   "metadata": {},
   "outputs": [],
   "source": [
    "# 100,000 times, we want to flip a coin 114 times\n",
    "results = []\n",
    "\n",
    "for _ in range(100000):\n",
    "    simulation = np.random.choice(['H', 'T'], size=114)\n",
    "    sim_heads = (simulation == 'H').sum()  # Test statistic\n",
    "    results.append(sim_heads)"
   ]
  },
  {
   "cell_type": "markdown",
   "id": "c5c93762",
   "metadata": {},
   "source": [
    "Each entry in `results` is the number of heads in 114 simulated coin flips."
   ]
  },
  {
   "cell_type": "code",
   "execution_count": null,
   "id": "448cd603",
   "metadata": {},
   "outputs": [],
   "source": [
    "results[:10]"
   ]
  },
  {
   "cell_type": "markdown",
   "id": "71ca400c",
   "metadata": {
    "slideshow": {
     "slide_type": "slide"
    }
   },
   "source": [
    "### Plotting the empirical distribution of the test statistic"
   ]
  },
  {
   "cell_type": "code",
   "execution_count": null,
   "id": "ea1e06d0",
   "metadata": {},
   "outputs": [],
   "source": [
    "pd.Series(results).plot(kind='hist', \n",
    "                        density=True,\n",
    "                        bins=np.arange(35, 76, 1),\n",
    "                        ec='w',\n",
    "                        title='Number of Heads in 114 Flips of a Fair Coin');\n",
    "obs = (flips['result'] == 'H').sum()\n",
    "plt.axvline(x=obs, color='red', linewidth=2);"
   ]
  },
  {
   "cell_type": "markdown",
   "id": "1853b657",
   "metadata": {
    "slideshow": {
     "slide_type": "fragment"
    }
   },
   "source": [
    "**Question:** Do you think the coin was fair?"
   ]
  },
  {
   "cell_type": "code",
   "execution_count": null,
   "id": "4837a7e4",
   "metadata": {},
   "outputs": [],
   "source": [
    "(np.array(results) >= obs).mean()"
   ]
  },
  {
   "cell_type": "markdown",
   "id": "52a8f021",
   "metadata": {},
   "source": [
    "- Under the assumption the coin is fair, the probability of seeing 68 or more heads is ~2.5%.\n",
    "    - This is called a **p-value**.\n",
    "- So either:\n",
    "    - The coin is fair and we saw a really rare event, or\n",
    "    - The coin is not fair.\n",
    "- We need a **cutoff** to determine whether to reject the null hypothesis, given this probability."
   ]
  },
  {
   "cell_type": "markdown",
   "id": "7e6d4b0c",
   "metadata": {
    "slideshow": {
     "slide_type": "slide"
    }
   },
   "source": [
    "### P-values and cutoffs\n",
    "\n",
    "- The **p-value**, or **observed significance level**, is the probability, under the null hypothesis, that the test statistic is equal to the value that was observed in the data or is even further in the direction of the alternative.\n",
    "- If the p-value is below a pre-determined **cutoff**, or **significance level**, we say that our observation is inconsistent with the null hypothesis and we **reject the null**.\n",
    "    - 0.05 (significant) and 0.01 (highly significant) are common cutoffs.\n",
    "    - If the p-value is above the cutoff, we **fail to reject the null**.\n",
    "- Note that the cutoff is an **error probability**.\n",
    "    - If your cutoff is 0.05, then 5% of the time, you will incorrectly reject the null hypothesis."
   ]
  },
  {
   "cell_type": "markdown",
   "id": "1156f118",
   "metadata": {
    "slideshow": {
     "slide_type": "slide"
    }
   },
   "source": [
    "### ⚠️ We can't \"prove\" the null!\n",
    "\n",
    "- Note that we are very careful in saying that we either **reject the null** or **fail to reject the null**.\n",
    "- If our observed data is close to what we'd expect under the null, we fail to reject the null, but we still don't know whether or not it is true!\n",
    "- The null hypothesis is very, very specific, e.g. the coin was exactly fair.\n",
    "- Example:\n",
    "    - Suppose there is a coin that is truly biased towards heads, with probability 0.55.\n",
    "    - We flip it 10 times and see 5 heads and 5 tails.\n",
    "    - If we conduct a hypothesis test where the null is that the coin is fair, we will fail to reject the null.\n",
    "    - But the null isn't true."
   ]
  },
  {
   "cell_type": "markdown",
   "id": "aff11504",
   "metadata": {
    "slideshow": {
     "slide_type": "slide"
    }
   },
   "source": [
    "### Fun fact\n",
    "\n",
    "- One researcher found that coin flips aren't 50/50, but rather are closer to 51/49, biased towards whichever side started facing up.\n",
    "- [Read this](https://www.smithsonianmag.com/science-nature/gamblers-take-note-the-odds-in-a-coin-flip-arent-quite-5050-145465423) for more details."
   ]
  },
  {
   "cell_type": "markdown",
   "id": "7edfbfef",
   "metadata": {
    "slideshow": {
     "slide_type": "slide"
    }
   },
   "source": [
    "## Efficiency"
   ]
  },
  {
   "cell_type": "markdown",
   "id": "086d0a1d",
   "metadata": {
    "slideshow": {
     "slide_type": "slide"
    }
   },
   "source": [
    "### Speeding things up 🏃\n",
    "\n",
    "- To estimate the null distribution, we flipped a coin 114 times, 100,000 times. This involved 100,000 iterations of a `for`-loop.\n",
    "- We can avoid a `for`-loop entirely by using the `size` argument in `np.random.choice` (and in other `np` random functions).\n",
    "    - Idea: Generate a 2D array of coin flips with 114 columns and 100,000 rows. Each row corresponds to one run of our previous `for`-loop.\n",
    "    - This will work if each trial (e.g. coin flip) is independent.\n",
    "    - We can then sum each row of the resulting array to get our distribution. However, this requires the entries in the array to be numbers – let's replace `'H'` with 1 and `'T'` with 0. "
   ]
  },
  {
   "cell_type": "code",
   "execution_count": null,
   "id": "f11898bf",
   "metadata": {
    "slideshow": {
     "slide_type": "slide"
    }
   },
   "outputs": [],
   "source": [
    "flips.head()"
   ]
  },
  {
   "cell_type": "code",
   "execution_count": null,
   "id": "2b91dcb8",
   "metadata": {},
   "outputs": [],
   "source": [
    "flips_fast = flips.replace({'H': 1, 'T': 0})\n",
    "flips_fast.head()"
   ]
  },
  {
   "cell_type": "markdown",
   "id": "81af203c",
   "metadata": {},
   "source": [
    "The following function takes in a value of `N` and flips a fair coin `N * 114` times."
   ]
  },
  {
   "cell_type": "code",
   "execution_count": null,
   "id": "671b5e69",
   "metadata": {},
   "outputs": [],
   "source": [
    "def flip_114(N):\n",
    "    return np.random.choice([1, 0], size=(N, 114))"
   ]
  },
  {
   "cell_type": "code",
   "execution_count": null,
   "id": "d0c78bd8",
   "metadata": {},
   "outputs": [],
   "source": [
    "flip_114(50)"
   ]
  },
  {
   "cell_type": "code",
   "execution_count": null,
   "id": "23d39254",
   "metadata": {},
   "outputs": [],
   "source": [
    "flip_114(50).shape"
   ]
  },
  {
   "cell_type": "markdown",
   "id": "be7796d0",
   "metadata": {
    "slideshow": {
     "slide_type": "slide"
    }
   },
   "source": [
    "### Timing the faster simulation"
   ]
  },
  {
   "cell_type": "code",
   "execution_count": null,
   "id": "45ce545d",
   "metadata": {},
   "outputs": [],
   "source": [
    "%%time\n",
    "\n",
    "# Flips a fair coin 100,000 * 114 times\n",
    "simulations = pd.DataFrame(flip_114(100000))\n",
    "\n",
    "# Compute test statistics\n",
    "# Note that axis=1 will take the sum of each row of 114, which is what we want\n",
    "results_fast = simulations.sum(axis=1)"
   ]
  },
  {
   "cell_type": "code",
   "execution_count": null,
   "id": "fee2ca50",
   "metadata": {},
   "outputs": [],
   "source": [
    "pd.Series(results_fast).plot(kind='hist', \n",
    "                        density=True,\n",
    "                        bins=np.arange(35, 76, 1),\n",
    "                        ec='w',\n",
    "                        title='Number of Heads in 114 Flips of a Fair Coin');\n",
    "plt.axvline(x=obs, color='red', linewidth=2);"
   ]
  },
  {
   "cell_type": "markdown",
   "id": "008ac358",
   "metadata": {
    "slideshow": {
     "slide_type": "slide"
    }
   },
   "source": [
    "## Total variation distance"
   ]
  },
  {
   "cell_type": "markdown",
   "id": "882e7f67",
   "metadata": {
    "slideshow": {
     "slide_type": "slide"
    }
   },
   "source": [
    "### Ethnic distribution of California vs. UCSD\n",
    "\n",
    "- The DataFrame below contains the ethnic breakdown of the state as a whole ([source](https://www.ppic.org/publication/californias-population/)) and UCSD as of 2016 ([source](https://ir.ucsd.edu/_files/stats-data/enrollment/ugethnic.pdf))."
   ]
  },
  {
   "cell_type": "code",
   "execution_count": null,
   "id": "26a84528",
   "metadata": {},
   "outputs": [],
   "source": [
    "eth = pd.DataFrame([['Asian', 0.15, 0.51],\n",
    "                    ['Black', 0.05, 0.02],\n",
    "                    ['Latino', 0.39, 0.16],\n",
    "                    ['White', 0.35, 0.2],\n",
    "                    ['Other', 0.06, 0.11]],\n",
    "                   columns=['Ethnicity', 'California', 'UCSD']).set_index('Ethnicity')\n",
    "\n",
    "eth"
   ]
  },
  {
   "cell_type": "markdown",
   "id": "d440cd5e",
   "metadata": {
    "slideshow": {
     "slide_type": "-"
    }
   },
   "source": [
    "- We want to decide whether UCSD students were drawn at random from the state of California.\n",
    "- The two **categorical distributions** above are clearly different. But how different are they?"
   ]
  },
  {
   "cell_type": "markdown",
   "id": "5eac28c2",
   "metadata": {
    "slideshow": {
     "slide_type": "slide"
    }
   },
   "source": [
    "### Is the difference between the two distributions significant?\n",
    "\n",
    "Let's establish our hypotheses.\n",
    "- **Null hypothesis:** UCSD students **were** selected at random from the population of California residents.\n",
    "- **Alternative hypothesis:** UCSD students **were not** selected at random from the population of California residents.\n",
    "- Our **observation** is the ethnic distribution of UCSD students.\n",
    "- We need a way of quantifying **how different** two categorical distributions are."
   ]
  },
  {
   "cell_type": "code",
   "execution_count": null,
   "id": "58e89c7c",
   "metadata": {
    "slideshow": {
     "slide_type": "slide"
    }
   },
   "outputs": [],
   "source": [
    "eth.plot(kind='barh', title='Ethnic Distribution of California and UCSD');"
   ]
  },
  {
   "cell_type": "markdown",
   "id": "9bda36d4",
   "metadata": {
    "slideshow": {
     "slide_type": "slide"
    }
   },
   "source": [
    "### Total variation distance\n",
    "\n",
    "The total variation distance (TVD) is a test statistic that describes the **distance between two categorical distributions**.\n",
    "\n",
    "If $A = [a_1, a_2, ..., a_k]$ and $B = [b_1, b_2, ..., b_k]$ are both categorical distributions, then the TVD between $A$ and $B$ is\n",
    "\n",
    "$$\\text{TVD}(A, B) = \\frac{1}{2} \\sum_{i = 1}^k |a_i - b_i|$$"
   ]
  },
  {
   "cell_type": "code",
   "execution_count": null,
   "id": "7897cf4a",
   "metadata": {
    "slideshow": {
     "slide_type": "fragment"
    }
   },
   "outputs": [],
   "source": [
    "def total_variation_distance(dist1, dist2):\n",
    "    '''Given two categorical distributions, \n",
    "    both sorted with same categories, calculates the TVD'''\n",
    "    return np.sum(np.abs(dist1 - dist2)) / 2"
   ]
  },
  {
   "cell_type": "markdown",
   "id": "fc8519d8",
   "metadata": {},
   "source": [
    "Below, we can compute the TVD between California's ethnic distribution and UCSD's ethnic distribution."
   ]
  },
  {
   "cell_type": "code",
   "execution_count": null,
   "id": "43bb1a7d",
   "metadata": {},
   "outputs": [],
   "source": [
    "observed_tvd = total_variation_distance(eth['California'], eth['UCSD'])\n",
    "observed_tvd"
   ]
  },
  {
   "cell_type": "markdown",
   "id": "ea6dbd25",
   "metadata": {},
   "source": [
    "The issue is we don't know whether this is a large value or a small value."
   ]
  },
  {
   "cell_type": "markdown",
   "id": "abb823cf",
   "metadata": {
    "slideshow": {
     "slide_type": "slide"
    }
   },
   "source": [
    "### The plan\n",
    "\n",
    "To conduct our hypothesis test:\n",
    "\n",
    "- Repeatedly generate samples of size 30,000 (number of UCSD students) from the ethnic distribution of all of California.\n",
    "- Each time, compute the TVD between the simulated distribution and California's distribution.\n",
    "- **This will generate an empirical distribution of TVDs, under the null.**\n",
    "- Finally, determine whether the observed TVD is consistent with the empirical distribution of TVDs."
   ]
  },
  {
   "cell_type": "markdown",
   "id": "02a25c76",
   "metadata": {
    "slideshow": {
     "slide_type": "slide"
    }
   },
   "source": [
    "### Generating one random sample\n",
    "\n",
    "To sample from a categorical distribution, we use `np.random.multinomial`."
   ]
  },
  {
   "cell_type": "code",
   "execution_count": null,
   "id": "2488a0d5",
   "metadata": {},
   "outputs": [],
   "source": [
    "np.random.multinomial(10, [0.5, 0.5])"
   ]
  },
  {
   "cell_type": "code",
   "execution_count": null,
   "id": "7dc3b337",
   "metadata": {},
   "outputs": [],
   "source": [
    "eth['California']"
   ]
  },
  {
   "cell_type": "code",
   "execution_count": null,
   "id": "7333044a",
   "metadata": {},
   "outputs": [],
   "source": [
    "np.random.multinomial(30000, eth['California'])"
   ]
  },
  {
   "cell_type": "code",
   "execution_count": null,
   "id": "83c91ff8",
   "metadata": {},
   "outputs": [],
   "source": [
    "np.random.multinomial(30000, eth['California']) / 30000"
   ]
  },
  {
   "cell_type": "markdown",
   "id": "52314ef9",
   "metadata": {},
   "source": [
    "Now we need to repeat the process of creating samples, many, many times."
   ]
  },
  {
   "cell_type": "markdown",
   "id": "e0700b23",
   "metadata": {
    "slideshow": {
     "slide_type": "slide"
    }
   },
   "source": [
    "### Simulation"
   ]
  },
  {
   "cell_type": "code",
   "execution_count": null,
   "id": "bc97eabc",
   "metadata": {},
   "outputs": [],
   "source": [
    "num_reps = 10000\n",
    "tvds = []\n",
    "\n",
    "for i in np.arange(num_reps):\n",
    "    random_sample = np.random.multinomial(30000, eth['California']) / 30000\n",
    "    new_tvd = total_variation_distance(eth['California'], random_sample)\n",
    "    tvds.append(new_tvd)"
   ]
  },
  {
   "cell_type": "code",
   "execution_count": null,
   "id": "b9e561d2",
   "metadata": {
    "scrolled": false
   },
   "outputs": [],
   "source": [
    "pd.Series(tvds).plot(kind='hist', \n",
    "                     density=True,\n",
    "                     ec='w',\n",
    "                     title='Simulated TVDs');\n",
    "plt.axvline(x=observed_tvd, color='red', linewidth=2);"
   ]
  },
  {
   "cell_type": "markdown",
   "id": "f7e93c25",
   "metadata": {},
   "source": [
    "- The chance that the observed TVD came from the distribution of TVDs under the null is essentially 0.\n",
    "- This matches our intuition from the start – the two distributions looked very different to begin with. But now we're quite sure the difference can't be explained solely due to chance."
   ]
  },
  {
   "cell_type": "markdown",
   "id": "4e8e0981",
   "metadata": {
    "slideshow": {
     "slide_type": "slide"
    }
   },
   "source": [
    "### Speeding things up 🏃\n",
    "\n",
    "Again, we can get rid of the loop by using the `size` argument!"
   ]
  },
  {
   "cell_type": "code",
   "execution_count": null,
   "id": "91102342",
   "metadata": {
    "scrolled": true
   },
   "outputs": [],
   "source": [
    "eth_draws = np.random.multinomial(30000, eth['California'], size=num_reps) / 30000\n",
    "eth_draws"
   ]
  },
  {
   "cell_type": "markdown",
   "id": "d4ef3c6a",
   "metadata": {},
   "source": [
    "- Notice that each row of `eth_draws` sums to 1, because each row is a simulated categorical distribution.\n",
    "- `eth_draws` has `num_reps` (10,000) rows."
   ]
  },
  {
   "cell_type": "code",
   "execution_count": null,
   "id": "f9b2d23d",
   "metadata": {},
   "outputs": [],
   "source": [
    "eth_draws.shape"
   ]
  },
  {
   "cell_type": "markdown",
   "id": "a567ea55",
   "metadata": {},
   "source": [
    "Our previous `total_variation_distance` function won't work with our 2D array `eth_draws`."
   ]
  },
  {
   "cell_type": "code",
   "execution_count": null,
   "id": "cb3d1ebe",
   "metadata": {},
   "outputs": [],
   "source": [
    "tvds_fast = np.sum(np.abs(eth_draws - eth['California'].to_numpy()), axis=1) / 2\n",
    "tvds_fast"
   ]
  },
  {
   "cell_type": "code",
   "execution_count": null,
   "id": "303b4b59",
   "metadata": {},
   "outputs": [],
   "source": [
    "pd.Series(tvds).plot(kind='hist', \n",
    "                     density=True,\n",
    "                     ec='w',\n",
    "                     title='Simulated TVDs (without using a loop)');\n",
    "# plt.axvline(x=observed_tvd, color='red', linewidth=2);"
   ]
  },
  {
   "cell_type": "markdown",
   "id": "672005fb",
   "metadata": {
    "slideshow": {
     "slide_type": "slide"
    }
   },
   "source": [
    "### Summary of the method\n",
    "\n",
    "To assess whether an \"observed sample\" was drawn randomly from a known categorical distribution:\n",
    "* Use the TVD as the test statistic because it measures the distance between two categorical distributions.\n",
    "* Sample at random from the population. Compute the TVD between each random sample and the known distribution to get an idea for what reasonable deviations from the eligible pool look like. Repeat this process many, many times.\n",
    "* Compare:\n",
    "    - the empirical distribution of TVDs, with\n",
    "    - the observed TVD from the sample."
   ]
  },
  {
   "cell_type": "markdown",
   "id": "079e1bad",
   "metadata": {
    "slideshow": {
     "slide_type": "slide"
    }
   },
   "source": [
    "## Another example\n",
    "\n",
    "<center><img src='imgs/lter_penguins.png' width=60%></center>\n",
    "\n",
    "([source](https://allisonhorst.github.io/palmerpenguins/articles/intro.html))"
   ]
  },
  {
   "cell_type": "markdown",
   "id": "ef724e98",
   "metadata": {
    "slideshow": {
     "slide_type": "slide"
    }
   },
   "source": [
    "### Aside: loading data from `seaborn`\n",
    "\n",
    "- `seaborn` is a visualization library for Python that works well with `pandas`.\n",
    "- `seaborn` has a `load_dataset` function that reads in datasets from [this repo](https://github.com/mwaskom/seaborn-data)."
   ]
  },
  {
   "cell_type": "code",
   "execution_count": null,
   "id": "6e3f44bc",
   "metadata": {},
   "outputs": [],
   "source": [
    "import seaborn as sns"
   ]
  },
  {
   "cell_type": "code",
   "execution_count": null,
   "id": "0c34f214",
   "metadata": {},
   "outputs": [],
   "source": [
    "penguins = sns.load_dataset('penguins').dropna()\n",
    "penguins.head()"
   ]
  },
  {
   "cell_type": "markdown",
   "id": "f3c714d4",
   "metadata": {
    "slideshow": {
     "slide_type": "slide"
    }
   },
   "source": [
    "<center><img src='imgs/culmen_depth.png' width=60%></center>"
   ]
  },
  {
   "cell_type": "markdown",
   "id": "196c97d2",
   "metadata": {
    "slideshow": {
     "slide_type": "slide"
    }
   },
   "source": [
    "### Average bill length by island\n",
    "\n",
    "We will learn about the `groupby` method next week."
   ]
  },
  {
   "cell_type": "code",
   "execution_count": null,
   "id": "2e3e3fee",
   "metadata": {},
   "outputs": [],
   "source": [
    "penguins.groupby('island')['bill_length_mm'].agg(['mean', 'count'])"
   ]
  },
  {
   "cell_type": "markdown",
   "id": "4af7cefa",
   "metadata": {},
   "source": [
    "It appears that penguins on Torgersen Island have shorter bills on average than penguins on other islands. Could this have happened due to random chance?"
   ]
  },
  {
   "cell_type": "markdown",
   "id": "f9854bf9",
   "metadata": {
    "slideshow": {
     "slide_type": "slide"
    }
   },
   "source": [
    "### Setup\n",
    "\n",
    "- **Null hypothesis:** Island and bill length **are not** related – the low average bill length of Torgersen Island penguins is due to chance alone.\n",
    "    - In other words, if we picked 47 penguins randomly from the population of 333 penguins, it is reasonable to see an average this low.\n",
    "- **Alternative hypothesis:** Island and bill length **are** related – the low average bill length of Torgersen Island penguins is not due to chance alone."
   ]
  },
  {
   "cell_type": "markdown",
   "id": "7362da0e",
   "metadata": {
    "slideshow": {
     "slide_type": "slide"
    }
   },
   "source": [
    "### The plan\n",
    "\n",
    "- The null hypothesis states that the 47 bill lengths of Torgersen Island penguins were drawn uniformly at random from the 333 bill lengths in the population.\n",
    "- That is, if we repeatedly sampled groups of 47 penguins from the population and computed their average bill length, it would not be uncommon to see an average bill length this low.\n",
    "- **Plan:** Repeatedly sample (without replacement) 47 penguins from the population and **compute their average bill length**, and see where the Torgersen Island average bill length lies in this distribution.\n",
    "    - Average bill length is our **test statistic**.\n",
    "    - This is not a test statistic we've used in this lecture yet (and this is what separates this example from previous examples)."
   ]
  },
  {
   "cell_type": "markdown",
   "id": "77e03652",
   "metadata": {
    "slideshow": {
     "slide_type": "slide"
    }
   },
   "source": [
    "### Simulation"
   ]
  },
  {
   "cell_type": "code",
   "execution_count": null,
   "id": "975e8dd0",
   "metadata": {},
   "outputs": [],
   "source": [
    "num_reps"
   ]
  },
  {
   "cell_type": "code",
   "execution_count": null,
   "id": "f5bd8009",
   "metadata": {},
   "outputs": [],
   "source": [
    "averages = []\n",
    "\n",
    "for i in np.arange(num_reps):\n",
    "    random_sample = penguins.sample(47)\n",
    "    new_average = random_sample['bill_length_mm'].mean()\n",
    "    averages.append(new_average)"
   ]
  },
  {
   "cell_type": "code",
   "execution_count": null,
   "id": "449eba09",
   "metadata": {
    "scrolled": true
   },
   "outputs": [],
   "source": [
    "pd.Series(averages).plot(kind='hist', \n",
    "                         density=True,\n",
    "                         bins=30,\n",
    "                         ec='w',\n",
    "                         title='Average Bill Lengths in Samples of Size 47');\n",
    "\n",
    "observed_average = penguins.groupby('island').mean().loc['Torgersen', 'bill_length_mm']\n",
    "plt.axvline(x=observed_average, color='red', linewidth=2);"
   ]
  },
  {
   "cell_type": "markdown",
   "id": "548ccbe8",
   "metadata": {},
   "source": [
    "It doesn't look like the average bill length of Torgersen Island penguins came from the null distribution of average bill lengths."
   ]
  },
  {
   "cell_type": "markdown",
   "id": "d1ac5a7c",
   "metadata": {
    "slideshow": {
     "slide_type": "slide"
    }
   },
   "source": [
    "### Speeding things up 🏃\n",
    "\n",
    "Again (again), we can get rid of the loop by using the `size` argument!"
   ]
  },
  {
   "cell_type": "code",
   "execution_count": null,
   "id": "ebb9361d",
   "metadata": {},
   "outputs": [],
   "source": [
    "np.random.choice(penguins['bill_length_mm'], size=(5, 47))"
   ]
  },
  {
   "cell_type": "code",
   "execution_count": null,
   "id": "d0fd9cee",
   "metadata": {},
   "outputs": [],
   "source": [
    "averages_fast = np.random.choice(penguins['bill_length_mm'], size=(num_reps, 47)).mean(axis=1)\n",
    "averages_fast"
   ]
  },
  {
   "cell_type": "code",
   "execution_count": null,
   "id": "03a1425f",
   "metadata": {},
   "outputs": [],
   "source": [
    "pd.Series(averages_fast).plot(kind='hist', \n",
    "                              density=True,\n",
    "                              bins=30,\n",
    "                              ec='w',\n",
    "                              title='Average Bill Lengths in Samples of Size 47 (without using a loop)');\n",
    "\n",
    "observed_average = penguins.groupby('island').mean().loc['Torgersen', 'bill_length_mm']\n",
    "plt.axvline(x=observed_average, color='red', linewidth=2);"
   ]
  },
  {
   "cell_type": "markdown",
   "id": "4190b697",
   "metadata": {},
   "source": [
    "We get the same result, but much quicker!"
   ]
  },
  {
   "cell_type": "markdown",
   "id": "f79061e9",
   "metadata": {
    "slideshow": {
     "slide_type": "slide"
    }
   },
   "source": [
    "## Summary, next time"
   ]
  },
  {
   "cell_type": "markdown",
   "id": "d7749c64",
   "metadata": {
    "slideshow": {
     "slide_type": "slide"
    }
   },
   "source": [
    "### The hypothesis testing \"recipe\"\n",
    "\n",
    "Faced with a question about the data raised by an observation...\n",
    "1. Carefully pose the question as a testable \"yes or no\" hypothesis.\n",
    "2. Decide on a **test statistic** that helps differentiate between instances that would affirm or reject the hypothesis.\n",
    "3. Create a probability model for the data generating process that reflects the \"known behavior\" of the process.\n",
    "4. Simulate the data generating process using this probability model (the \"**null hypothesis**\").\n",
    "5. Assess if the observation is consistent with the simulations by computing a **p-value**.\n",
    "\n",
    "We looked at three key examples:\n",
    "- Coin flipping.\n",
    "- Comparing categorical distributions.\n",
    "- Comparing a subgroup statistic to a population parameter."
   ]
  },
  {
   "cell_type": "markdown",
   "id": "e0c6bb3e",
   "metadata": {
    "slideshow": {
     "slide_type": "slide"
    }
   },
   "source": [
    "### Examples, next time\n",
    "\n",
    "- We looked at three key hypothesis testing examples:\n",
    "    - Comparing single-category counts/proportions.\n",
    "        - Coin flipping.\n",
    "    - Comparing categorical distributions.\n",
    "        - California ethnicities vs. UCSD ethnicities.\n",
    "    - Comparing a subgroup statistic to a population parameter.\n",
    "        - Torgersen Island average bill lengths vs. all average bill lengths.\n",
    "\n",
    "- **Next time:** Data granularity and the `groupby` DataFrame method."
   ]
  }
 ],
 "metadata": {
  "celltoolbar": "Slideshow",
  "kernelspec": {
   "display_name": "Python 3 (ipykernel)",
   "language": "python",
   "name": "python3"
  },
  "language_info": {
   "codemirror_mode": {
    "name": "ipython",
    "version": 3
   },
   "file_extension": ".py",
   "mimetype": "text/x-python",
   "name": "python",
   "nbconvert_exporter": "python",
   "pygments_lexer": "ipython3",
   "version": "3.8.12"
  },
  "livereveal": {
   "scroll": true,
   "transition": "none"
  }
 },
 "nbformat": 4,
 "nbformat_minor": 5
}
