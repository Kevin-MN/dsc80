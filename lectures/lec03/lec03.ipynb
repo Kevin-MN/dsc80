{
 "cells": [
  {
   "cell_type": "code",
   "execution_count": 1,
   "id": "67a1a7e4",
   "metadata": {
    "slideshow": {
     "slide_type": "skip"
    }
   },
   "outputs": [],
   "source": [
    "import pandas as pd\n",
    "import numpy as np\n",
    "import os\n",
    "\n",
    "import matplotlib.pyplot as plt\n",
    "plt.rcParams['figure.figsize'] = (10, 5)"
   ]
  },
  {
   "cell_type": "markdown",
   "id": "dee3f137",
   "metadata": {
    "slideshow": {
     "slide_type": "slide"
    }
   },
   "source": [
    "# Lecture 3 – More Pandas 🐼🐼\n",
    "\n",
    "## DSC 80, Spring 2022"
   ]
  },
  {
   "cell_type": "markdown",
   "id": "857a53c3",
   "metadata": {
    "slideshow": {
     "slide_type": "slide"
    }
   },
   "source": [
    "### Announcements\n",
    "\n",
    "- Lab 1 is due on **Monday, April 4th at 11:59PM**.\n",
    "    - Watch [this video 🎥](https://youtu.be/FpTo4AM9B30) for setup instructions.\n",
    "- Discussion 1 is due for extra credit **tomorrow at 11:59PM**.\n",
    "    - See [this post](https://campuswire.com/c/G325FA25B/feed/72) for a discussion on rounding errors.\n",
    "    - Discussion podcasts appear alongside lecture podcasts at [podcast.ucsd.edu](https://podcast.ucsd.edu) – look for \"A01\" or \"B01\".\n",
    "- Please submit the [Welcome + Alternate Exams Form](https://docs.google.com/forms/d/e/1FAIpQLSdBKLcPs4Xi0plaIw0MVZ0DyGcvnSZyHxKVC7S7LwEiCchepQ/viewform) by Monday.\n",
    "- Project 1 will be released over the weekend.\n",
    "    - The Checkpoint is due on **Thursday, April 7th at 11:59PM**.\n",
    "    - The whole project is due on **Thursday, April 14th at 11:59PM**."
   ]
  },
  {
   "cell_type": "markdown",
   "id": "8172d619",
   "metadata": {
    "slideshow": {
     "slide_type": "slide"
    }
   },
   "source": [
    "### Agenda\n",
    "\n",
    "- `loc` and `iloc`.\n",
    "- `pandas` and `numpy`.\n",
    "- Useful Series and DataFrame methods."
   ]
  },
  {
   "cell_type": "markdown",
   "id": "25872988",
   "metadata": {
    "slideshow": {
     "slide_type": "slide"
    }
   },
   "source": [
    "## `loc` and `iloc`"
   ]
  },
  {
   "cell_type": "code",
   "execution_count": 2,
   "id": "39e217ff",
   "metadata": {
    "slideshow": {
     "slide_type": "slide"
    }
   },
   "outputs": [
    {
     "data": {
      "text/html": [
       "<div>\n",
       "<style scoped>\n",
       "    .dataframe tbody tr th:only-of-type {\n",
       "        vertical-align: middle;\n",
       "    }\n",
       "\n",
       "    .dataframe tbody tr th {\n",
       "        vertical-align: top;\n",
       "    }\n",
       "\n",
       "    .dataframe thead th {\n",
       "        text-align: right;\n",
       "    }\n",
       "</style>\n",
       "<table border=\"1\" class=\"dataframe\">\n",
       "  <thead>\n",
       "    <tr style=\"text-align: right;\">\n",
       "      <th></th>\n",
       "      <th>Name</th>\n",
       "      <th>PID</th>\n",
       "      <th>LVL</th>\n",
       "    </tr>\n",
       "  </thead>\n",
       "  <tbody>\n",
       "    <tr>\n",
       "      <th>0</th>\n",
       "      <td>Granger, Hermione</td>\n",
       "      <td>A13245986</td>\n",
       "      <td>1</td>\n",
       "    </tr>\n",
       "    <tr>\n",
       "      <th>1</th>\n",
       "      <td>Potter, Harry</td>\n",
       "      <td>A17645384</td>\n",
       "      <td>1</td>\n",
       "    </tr>\n",
       "    <tr>\n",
       "      <th>2</th>\n",
       "      <td>Weasley, Ron</td>\n",
       "      <td>A32438694</td>\n",
       "      <td>1</td>\n",
       "    </tr>\n",
       "    <tr>\n",
       "      <th>3</th>\n",
       "      <td>Longbottom, Neville</td>\n",
       "      <td>A52342436</td>\n",
       "      <td>1</td>\n",
       "    </tr>\n",
       "  </tbody>\n",
       "</table>\n",
       "</div>"
      ],
      "text/plain": [
       "                  Name        PID  LVL\n",
       "0    Granger, Hermione  A13245986    1\n",
       "1        Potter, Harry  A17645384    1\n",
       "2         Weasley, Ron  A32438694    1\n",
       "3  Longbottom, Neville  A52342436    1"
      ]
     },
     "execution_count": 2,
     "metadata": {},
     "output_type": "execute_result"
    }
   ],
   "source": [
    "enrollments = pd.DataFrame({\n",
    "    'Name': ['Granger, Hermione', 'Potter, Harry', 'Weasley, Ron', 'Longbottom, Neville'],\n",
    "    'PID': ['A13245986', 'A17645384', 'A32438694', 'A52342436'],\n",
    "    'LVL': [1, 1, 1, 1]\n",
    "})\n",
    "\n",
    "enrollments"
   ]
  },
  {
   "cell_type": "markdown",
   "id": "d04684d2",
   "metadata": {
    "slideshow": {
     "slide_type": "slide"
    }
   },
   "source": [
    "### Selecting columns and rows simultaneously\n",
    "\n",
    "So far, we used `[]` to select columns and `loc` to select rows."
   ]
  },
  {
   "cell_type": "code",
   "execution_count": 3,
   "id": "b459e821",
   "metadata": {},
   "outputs": [
    {
     "data": {
      "text/plain": [
       "0    A13245986\n",
       "3    A52342436\n",
       "Name: PID, dtype: object"
      ]
     },
     "execution_count": 3,
     "metadata": {},
     "output_type": "execute_result"
    }
   ],
   "source": [
    "enrollments.loc[enrollments['Name'] < 'M']['PID']"
   ]
  },
  {
   "cell_type": "markdown",
   "id": "16cd25ee",
   "metadata": {
    "slideshow": {
     "slide_type": "slide"
    }
   },
   "source": [
    "### Selecting columns and rows simultaneously\n",
    "\n",
    "`loc` can also be used to select both rows and columns. The general pattern is:\n",
    "\n",
    "```\n",
    "df.loc[<row selector>, <column selector>]\n",
    "```\n",
    "\n",
    "Examples:\n",
    "- `df.loc[idx_list, col_list]` returns a DataFrame containing the rows in `idx_list` and columns in `col_list`.\n",
    "- `df.loc[bool_arr, col_list]` returns a DataFrame contaning the rows for which `bool_arr` is `True` and columns in `col_list`.\n",
    "- If `:` is used as the first input, all rows are kept. If `:` is used as the second input, all columns are kept."
   ]
  },
  {
   "cell_type": "code",
   "execution_count": 4,
   "id": "ce45fbac",
   "metadata": {},
   "outputs": [
    {
     "data": {
      "text/html": [
       "<div>\n",
       "<style scoped>\n",
       "    .dataframe tbody tr th:only-of-type {\n",
       "        vertical-align: middle;\n",
       "    }\n",
       "\n",
       "    .dataframe tbody tr th {\n",
       "        vertical-align: top;\n",
       "    }\n",
       "\n",
       "    .dataframe thead th {\n",
       "        text-align: right;\n",
       "    }\n",
       "</style>\n",
       "<table border=\"1\" class=\"dataframe\">\n",
       "  <thead>\n",
       "    <tr style=\"text-align: right;\">\n",
       "      <th></th>\n",
       "      <th>Name</th>\n",
       "      <th>PID</th>\n",
       "      <th>LVL</th>\n",
       "    </tr>\n",
       "  </thead>\n",
       "  <tbody>\n",
       "    <tr>\n",
       "      <th>0</th>\n",
       "      <td>Granger, Hermione</td>\n",
       "      <td>A13245986</td>\n",
       "      <td>1</td>\n",
       "    </tr>\n",
       "    <tr>\n",
       "      <th>1</th>\n",
       "      <td>Potter, Harry</td>\n",
       "      <td>A17645384</td>\n",
       "      <td>1</td>\n",
       "    </tr>\n",
       "    <tr>\n",
       "      <th>2</th>\n",
       "      <td>Weasley, Ron</td>\n",
       "      <td>A32438694</td>\n",
       "      <td>1</td>\n",
       "    </tr>\n",
       "    <tr>\n",
       "      <th>3</th>\n",
       "      <td>Longbottom, Neville</td>\n",
       "      <td>A52342436</td>\n",
       "      <td>1</td>\n",
       "    </tr>\n",
       "  </tbody>\n",
       "</table>\n",
       "</div>"
      ],
      "text/plain": [
       "                  Name        PID  LVL\n",
       "0    Granger, Hermione  A13245986    1\n",
       "1        Potter, Harry  A17645384    1\n",
       "2         Weasley, Ron  A32438694    1\n",
       "3  Longbottom, Neville  A52342436    1"
      ]
     },
     "execution_count": 4,
     "metadata": {},
     "output_type": "execute_result"
    }
   ],
   "source": [
    "enrollments"
   ]
  },
  {
   "cell_type": "code",
   "execution_count": 5,
   "id": "f54f009e",
   "metadata": {},
   "outputs": [
    {
     "data": {
      "text/plain": [
       "0    A13245986\n",
       "3    A52342436\n",
       "Name: PID, dtype: object"
      ]
     },
     "execution_count": 5,
     "metadata": {},
     "output_type": "execute_result"
    }
   ],
   "source": [
    "enrollments.loc[enrollments['Name'] < 'M', 'PID']"
   ]
  },
  {
   "cell_type": "code",
   "execution_count": 6,
   "id": "3e99c8f4",
   "metadata": {},
   "outputs": [
    {
     "data": {
      "text/html": [
       "<div>\n",
       "<style scoped>\n",
       "    .dataframe tbody tr th:only-of-type {\n",
       "        vertical-align: middle;\n",
       "    }\n",
       "\n",
       "    .dataframe tbody tr th {\n",
       "        vertical-align: top;\n",
       "    }\n",
       "\n",
       "    .dataframe thead th {\n",
       "        text-align: right;\n",
       "    }\n",
       "</style>\n",
       "<table border=\"1\" class=\"dataframe\">\n",
       "  <thead>\n",
       "    <tr style=\"text-align: right;\">\n",
       "      <th></th>\n",
       "      <th>PID</th>\n",
       "    </tr>\n",
       "  </thead>\n",
       "  <tbody>\n",
       "    <tr>\n",
       "      <th>0</th>\n",
       "      <td>A13245986</td>\n",
       "    </tr>\n",
       "    <tr>\n",
       "      <th>3</th>\n",
       "      <td>A52342436</td>\n",
       "    </tr>\n",
       "  </tbody>\n",
       "</table>\n",
       "</div>"
      ],
      "text/plain": [
       "         PID\n",
       "0  A13245986\n",
       "3  A52342436"
      ]
     },
     "execution_count": 6,
     "metadata": {},
     "output_type": "execute_result"
    }
   ],
   "source": [
    "enrollments.loc[enrollments['Name'] < 'M', ['PID']]"
   ]
  },
  {
   "cell_type": "markdown",
   "id": "adef064d",
   "metadata": {
    "slideshow": {
     "slide_type": "slide"
    }
   },
   "source": [
    "### Even more ways of selecting rows and columns\n",
    "\n",
    "In `df.loc[<row selection>, <column selection>]`:\n",
    "\n",
    "- Both the first and second inputs can be Boolean sequences.\n",
    "- Both the first and second inputs can be **slices**, which use `:` syntax (e.g. `0:2`, `'Name': 'PID'`).\n",
    "- If both the first and second inputs are primitives (strings or numbers), the result is a single value, not a DataFrame or Series.\n",
    "- The first input can be a **function** that takes a row as input and returns a Boolean.\n",
    "\n",
    "There are many, many more – see the [`pandas` documentation](https://pandas.pydata.org/docs/user_guide/index.html#user-guide) for more."
   ]
  },
  {
   "cell_type": "code",
   "execution_count": 7,
   "id": "46698ffd",
   "metadata": {},
   "outputs": [
    {
     "data": {
      "text/html": [
       "<div>\n",
       "<style scoped>\n",
       "    .dataframe tbody tr th:only-of-type {\n",
       "        vertical-align: middle;\n",
       "    }\n",
       "\n",
       "    .dataframe tbody tr th {\n",
       "        vertical-align: top;\n",
       "    }\n",
       "\n",
       "    .dataframe thead th {\n",
       "        text-align: right;\n",
       "    }\n",
       "</style>\n",
       "<table border=\"1\" class=\"dataframe\">\n",
       "  <thead>\n",
       "    <tr style=\"text-align: right;\">\n",
       "      <th></th>\n",
       "      <th>Name</th>\n",
       "      <th>PID</th>\n",
       "      <th>LVL</th>\n",
       "    </tr>\n",
       "  </thead>\n",
       "  <tbody>\n",
       "    <tr>\n",
       "      <th>0</th>\n",
       "      <td>Granger, Hermione</td>\n",
       "      <td>A13245986</td>\n",
       "      <td>1</td>\n",
       "    </tr>\n",
       "    <tr>\n",
       "      <th>1</th>\n",
       "      <td>Potter, Harry</td>\n",
       "      <td>A17645384</td>\n",
       "      <td>1</td>\n",
       "    </tr>\n",
       "    <tr>\n",
       "      <th>2</th>\n",
       "      <td>Weasley, Ron</td>\n",
       "      <td>A32438694</td>\n",
       "      <td>1</td>\n",
       "    </tr>\n",
       "    <tr>\n",
       "      <th>3</th>\n",
       "      <td>Longbottom, Neville</td>\n",
       "      <td>A52342436</td>\n",
       "      <td>1</td>\n",
       "    </tr>\n",
       "  </tbody>\n",
       "</table>\n",
       "</div>"
      ],
      "text/plain": [
       "                  Name        PID  LVL\n",
       "0    Granger, Hermione  A13245986    1\n",
       "1        Potter, Harry  A17645384    1\n",
       "2         Weasley, Ron  A32438694    1\n",
       "3  Longbottom, Neville  A52342436    1"
      ]
     },
     "execution_count": 7,
     "metadata": {},
     "output_type": "execute_result"
    }
   ],
   "source": [
    "enrollments"
   ]
  },
  {
   "cell_type": "code",
   "execution_count": 8,
   "id": "9591023b",
   "metadata": {},
   "outputs": [
    {
     "data": {
      "text/plain": [
       "1"
      ]
     },
     "execution_count": 8,
     "metadata": {},
     "output_type": "execute_result"
    }
   ],
   "source": [
    "enrollments.loc[2, 'LVL']"
   ]
  },
  {
   "cell_type": "code",
   "execution_count": 9,
   "id": "98e7ed41",
   "metadata": {},
   "outputs": [
    {
     "data": {
      "text/html": [
       "<div>\n",
       "<style scoped>\n",
       "    .dataframe tbody tr th:only-of-type {\n",
       "        vertical-align: middle;\n",
       "    }\n",
       "\n",
       "    .dataframe tbody tr th {\n",
       "        vertical-align: top;\n",
       "    }\n",
       "\n",
       "    .dataframe thead th {\n",
       "        text-align: right;\n",
       "    }\n",
       "</style>\n",
       "<table border=\"1\" class=\"dataframe\">\n",
       "  <thead>\n",
       "    <tr style=\"text-align: right;\">\n",
       "      <th></th>\n",
       "      <th>Name</th>\n",
       "      <th>PID</th>\n",
       "    </tr>\n",
       "  </thead>\n",
       "  <tbody>\n",
       "    <tr>\n",
       "      <th>0</th>\n",
       "      <td>Granger, Hermione</td>\n",
       "      <td>A13245986</td>\n",
       "    </tr>\n",
       "    <tr>\n",
       "      <th>1</th>\n",
       "      <td>Potter, Harry</td>\n",
       "      <td>A17645384</td>\n",
       "    </tr>\n",
       "    <tr>\n",
       "      <th>2</th>\n",
       "      <td>Weasley, Ron</td>\n",
       "      <td>A32438694</td>\n",
       "    </tr>\n",
       "  </tbody>\n",
       "</table>\n",
       "</div>"
      ],
      "text/plain": [
       "                Name        PID\n",
       "0  Granger, Hermione  A13245986\n",
       "1      Potter, Harry  A17645384\n",
       "2       Weasley, Ron  A32438694"
      ]
     },
     "execution_count": 9,
     "metadata": {},
     "output_type": "execute_result"
    }
   ],
   "source": [
    "enrollments.loc[0:2, 'Name':'PID']"
   ]
  },
  {
   "cell_type": "markdown",
   "id": "44062920",
   "metadata": {
    "slideshow": {
     "slide_type": "slide"
    }
   },
   "source": [
    "### Don't forget `iloc`!\n",
    "\n",
    "- `iloc` stands for \"integer location\".\n",
    "- `iloc` is like `loc`, but it selects rows and columns based off of integer positions only."
   ]
  },
  {
   "cell_type": "code",
   "execution_count": 10,
   "id": "840b4d5b",
   "metadata": {},
   "outputs": [
    {
     "data": {
      "text/html": [
       "<div>\n",
       "<style scoped>\n",
       "    .dataframe tbody tr th:only-of-type {\n",
       "        vertical-align: middle;\n",
       "    }\n",
       "\n",
       "    .dataframe tbody tr th {\n",
       "        vertical-align: top;\n",
       "    }\n",
       "\n",
       "    .dataframe thead th {\n",
       "        text-align: right;\n",
       "    }\n",
       "</style>\n",
       "<table border=\"1\" class=\"dataframe\">\n",
       "  <thead>\n",
       "    <tr style=\"text-align: right;\">\n",
       "      <th></th>\n",
       "      <th>Name</th>\n",
       "      <th>PID</th>\n",
       "      <th>LVL</th>\n",
       "    </tr>\n",
       "  </thead>\n",
       "  <tbody>\n",
       "    <tr>\n",
       "      <th>0</th>\n",
       "      <td>Granger, Hermione</td>\n",
       "      <td>A13245986</td>\n",
       "      <td>1</td>\n",
       "    </tr>\n",
       "    <tr>\n",
       "      <th>1</th>\n",
       "      <td>Potter, Harry</td>\n",
       "      <td>A17645384</td>\n",
       "      <td>1</td>\n",
       "    </tr>\n",
       "    <tr>\n",
       "      <th>2</th>\n",
       "      <td>Weasley, Ron</td>\n",
       "      <td>A32438694</td>\n",
       "      <td>1</td>\n",
       "    </tr>\n",
       "    <tr>\n",
       "      <th>3</th>\n",
       "      <td>Longbottom, Neville</td>\n",
       "      <td>A52342436</td>\n",
       "      <td>1</td>\n",
       "    </tr>\n",
       "  </tbody>\n",
       "</table>\n",
       "</div>"
      ],
      "text/plain": [
       "                  Name        PID  LVL\n",
       "0    Granger, Hermione  A13245986    1\n",
       "1        Potter, Harry  A17645384    1\n",
       "2         Weasley, Ron  A32438694    1\n",
       "3  Longbottom, Neville  A52342436    1"
      ]
     },
     "execution_count": 10,
     "metadata": {},
     "output_type": "execute_result"
    }
   ],
   "source": [
    "enrollments"
   ]
  },
  {
   "cell_type": "code",
   "execution_count": 11,
   "id": "4c5a82dd",
   "metadata": {},
   "outputs": [
    {
     "data": {
      "text/html": [
       "<div>\n",
       "<style scoped>\n",
       "    .dataframe tbody tr th:only-of-type {\n",
       "        vertical-align: middle;\n",
       "    }\n",
       "\n",
       "    .dataframe tbody tr th {\n",
       "        vertical-align: top;\n",
       "    }\n",
       "\n",
       "    .dataframe thead th {\n",
       "        text-align: right;\n",
       "    }\n",
       "</style>\n",
       "<table border=\"1\" class=\"dataframe\">\n",
       "  <thead>\n",
       "    <tr style=\"text-align: right;\">\n",
       "      <th></th>\n",
       "      <th>Name</th>\n",
       "      <th>PID</th>\n",
       "    </tr>\n",
       "  </thead>\n",
       "  <tbody>\n",
       "    <tr>\n",
       "      <th>2</th>\n",
       "      <td>Weasley, Ron</td>\n",
       "      <td>A32438694</td>\n",
       "    </tr>\n",
       "    <tr>\n",
       "      <th>3</th>\n",
       "      <td>Longbottom, Neville</td>\n",
       "      <td>A52342436</td>\n",
       "    </tr>\n",
       "  </tbody>\n",
       "</table>\n",
       "</div>"
      ],
      "text/plain": [
       "                  Name        PID\n",
       "2         Weasley, Ron  A32438694\n",
       "3  Longbottom, Neville  A52342436"
      ]
     },
     "execution_count": 11,
     "metadata": {},
     "output_type": "execute_result"
    }
   ],
   "source": [
    "enrollments.iloc[2:4, 0:2]"
   ]
  },
  {
   "cell_type": "code",
   "execution_count": 12,
   "id": "078de636",
   "metadata": {},
   "outputs": [
    {
     "data": {
      "text/html": [
       "<div>\n",
       "<style scoped>\n",
       "    .dataframe tbody tr th:only-of-type {\n",
       "        vertical-align: middle;\n",
       "    }\n",
       "\n",
       "    .dataframe tbody tr th {\n",
       "        vertical-align: top;\n",
       "    }\n",
       "\n",
       "    .dataframe thead th {\n",
       "        text-align: right;\n",
       "    }\n",
       "</style>\n",
       "<table border=\"1\" class=\"dataframe\">\n",
       "  <thead>\n",
       "    <tr style=\"text-align: right;\">\n",
       "      <th></th>\n",
       "      <th>PID</th>\n",
       "      <th>LVL</th>\n",
       "    </tr>\n",
       "    <tr>\n",
       "      <th>Name</th>\n",
       "      <th></th>\n",
       "      <th></th>\n",
       "    </tr>\n",
       "  </thead>\n",
       "  <tbody>\n",
       "    <tr>\n",
       "      <th>Granger, Hermione</th>\n",
       "      <td>A13245986</td>\n",
       "      <td>1</td>\n",
       "    </tr>\n",
       "    <tr>\n",
       "      <th>Potter, Harry</th>\n",
       "      <td>A17645384</td>\n",
       "      <td>1</td>\n",
       "    </tr>\n",
       "    <tr>\n",
       "      <th>Weasley, Ron</th>\n",
       "      <td>A32438694</td>\n",
       "      <td>1</td>\n",
       "    </tr>\n",
       "    <tr>\n",
       "      <th>Longbottom, Neville</th>\n",
       "      <td>A52342436</td>\n",
       "      <td>1</td>\n",
       "    </tr>\n",
       "  </tbody>\n",
       "</table>\n",
       "</div>"
      ],
      "text/plain": [
       "                           PID  LVL\n",
       "Name                               \n",
       "Granger, Hermione    A13245986    1\n",
       "Potter, Harry        A17645384    1\n",
       "Weasley, Ron         A32438694    1\n",
       "Longbottom, Neville  A52342436    1"
      ]
     },
     "execution_count": 12,
     "metadata": {},
     "output_type": "execute_result"
    }
   ],
   "source": [
    "other = enrollments.set_index('Name')\n",
    "other"
   ]
  },
  {
   "cell_type": "code",
   "execution_count": 13,
   "id": "16263dcf",
   "metadata": {},
   "outputs": [
    {
     "data": {
      "text/plain": [
       "PID    A32438694\n",
       "LVL            1\n",
       "Name: Weasley, Ron, dtype: object"
      ]
     },
     "execution_count": 13,
     "metadata": {},
     "output_type": "execute_result"
    }
   ],
   "source": [
    "other.iloc[2]"
   ]
  },
  {
   "cell_type": "code",
   "execution_count": 14,
   "id": "4d1543d1",
   "metadata": {},
   "outputs": [
    {
     "ename": "KeyError",
     "evalue": "2",
     "output_type": "error",
     "traceback": [
      "\u001b[0;31m---------------------------------------------------------------------------\u001b[0m",
      "\u001b[0;31mKeyError\u001b[0m                                  Traceback (most recent call last)",
      "File \u001b[0;32m~/Documents/anaconda3/envs/dsc80/lib/python3.8/site-packages/pandas/core/indexes/base.py:3361\u001b[0m, in \u001b[0;36mIndex.get_loc\u001b[0;34m(self, key, method, tolerance)\u001b[0m\n\u001b[1;32m   3360\u001b[0m \u001b[38;5;28;01mtry\u001b[39;00m:\n\u001b[0;32m-> 3361\u001b[0m     \u001b[38;5;28;01mreturn\u001b[39;00m \u001b[38;5;28;43mself\u001b[39;49m\u001b[38;5;241;43m.\u001b[39;49m\u001b[43m_engine\u001b[49m\u001b[38;5;241;43m.\u001b[39;49m\u001b[43mget_loc\u001b[49m\u001b[43m(\u001b[49m\u001b[43mcasted_key\u001b[49m\u001b[43m)\u001b[49m\n\u001b[1;32m   3362\u001b[0m \u001b[38;5;28;01mexcept\u001b[39;00m \u001b[38;5;167;01mKeyError\u001b[39;00m \u001b[38;5;28;01mas\u001b[39;00m err:\n",
      "File \u001b[0;32m~/Documents/anaconda3/envs/dsc80/lib/python3.8/site-packages/pandas/_libs/index.pyx:76\u001b[0m, in \u001b[0;36mpandas._libs.index.IndexEngine.get_loc\u001b[0;34m()\u001b[0m\n",
      "File \u001b[0;32m~/Documents/anaconda3/envs/dsc80/lib/python3.8/site-packages/pandas/_libs/index.pyx:108\u001b[0m, in \u001b[0;36mpandas._libs.index.IndexEngine.get_loc\u001b[0;34m()\u001b[0m\n",
      "File \u001b[0;32mpandas/_libs/hashtable_class_helper.pxi:5198\u001b[0m, in \u001b[0;36mpandas._libs.hashtable.PyObjectHashTable.get_item\u001b[0;34m()\u001b[0m\n",
      "File \u001b[0;32mpandas/_libs/hashtable_class_helper.pxi:5206\u001b[0m, in \u001b[0;36mpandas._libs.hashtable.PyObjectHashTable.get_item\u001b[0;34m()\u001b[0m\n",
      "\u001b[0;31mKeyError\u001b[0m: 2",
      "\nThe above exception was the direct cause of the following exception:\n",
      "\u001b[0;31mKeyError\u001b[0m                                  Traceback (most recent call last)",
      "Input \u001b[0;32mIn [14]\u001b[0m, in \u001b[0;36m<cell line: 1>\u001b[0;34m()\u001b[0m\n\u001b[0;32m----> 1\u001b[0m \u001b[43mother\u001b[49m\u001b[38;5;241;43m.\u001b[39;49m\u001b[43mloc\u001b[49m\u001b[43m[\u001b[49m\u001b[38;5;241;43m2\u001b[39;49m\u001b[43m]\u001b[49m\n",
      "File \u001b[0;32m~/Documents/anaconda3/envs/dsc80/lib/python3.8/site-packages/pandas/core/indexing.py:931\u001b[0m, in \u001b[0;36m_LocationIndexer.__getitem__\u001b[0;34m(self, key)\u001b[0m\n\u001b[1;32m    928\u001b[0m axis \u001b[38;5;241m=\u001b[39m \u001b[38;5;28mself\u001b[39m\u001b[38;5;241m.\u001b[39maxis \u001b[38;5;129;01mor\u001b[39;00m \u001b[38;5;241m0\u001b[39m\n\u001b[1;32m    930\u001b[0m maybe_callable \u001b[38;5;241m=\u001b[39m com\u001b[38;5;241m.\u001b[39mapply_if_callable(key, \u001b[38;5;28mself\u001b[39m\u001b[38;5;241m.\u001b[39mobj)\n\u001b[0;32m--> 931\u001b[0m \u001b[38;5;28;01mreturn\u001b[39;00m \u001b[38;5;28;43mself\u001b[39;49m\u001b[38;5;241;43m.\u001b[39;49m\u001b[43m_getitem_axis\u001b[49m\u001b[43m(\u001b[49m\u001b[43mmaybe_callable\u001b[49m\u001b[43m,\u001b[49m\u001b[43m \u001b[49m\u001b[43maxis\u001b[49m\u001b[38;5;241;43m=\u001b[39;49m\u001b[43maxis\u001b[49m\u001b[43m)\u001b[49m\n",
      "File \u001b[0;32m~/Documents/anaconda3/envs/dsc80/lib/python3.8/site-packages/pandas/core/indexing.py:1164\u001b[0m, in \u001b[0;36m_LocIndexer._getitem_axis\u001b[0;34m(self, key, axis)\u001b[0m\n\u001b[1;32m   1162\u001b[0m \u001b[38;5;66;03m# fall thru to straight lookup\u001b[39;00m\n\u001b[1;32m   1163\u001b[0m \u001b[38;5;28mself\u001b[39m\u001b[38;5;241m.\u001b[39m_validate_key(key, axis)\n\u001b[0;32m-> 1164\u001b[0m \u001b[38;5;28;01mreturn\u001b[39;00m \u001b[38;5;28;43mself\u001b[39;49m\u001b[38;5;241;43m.\u001b[39;49m\u001b[43m_get_label\u001b[49m\u001b[43m(\u001b[49m\u001b[43mkey\u001b[49m\u001b[43m,\u001b[49m\u001b[43m \u001b[49m\u001b[43maxis\u001b[49m\u001b[38;5;241;43m=\u001b[39;49m\u001b[43maxis\u001b[49m\u001b[43m)\u001b[49m\n",
      "File \u001b[0;32m~/Documents/anaconda3/envs/dsc80/lib/python3.8/site-packages/pandas/core/indexing.py:1113\u001b[0m, in \u001b[0;36m_LocIndexer._get_label\u001b[0;34m(self, label, axis)\u001b[0m\n\u001b[1;32m   1111\u001b[0m \u001b[38;5;28;01mdef\u001b[39;00m \u001b[38;5;21m_get_label\u001b[39m(\u001b[38;5;28mself\u001b[39m, label, axis: \u001b[38;5;28mint\u001b[39m):\n\u001b[1;32m   1112\u001b[0m     \u001b[38;5;66;03m# GH#5667 this will fail if the label is not present in the axis.\u001b[39;00m\n\u001b[0;32m-> 1113\u001b[0m     \u001b[38;5;28;01mreturn\u001b[39;00m \u001b[38;5;28;43mself\u001b[39;49m\u001b[38;5;241;43m.\u001b[39;49m\u001b[43mobj\u001b[49m\u001b[38;5;241;43m.\u001b[39;49m\u001b[43mxs\u001b[49m\u001b[43m(\u001b[49m\u001b[43mlabel\u001b[49m\u001b[43m,\u001b[49m\u001b[43m \u001b[49m\u001b[43maxis\u001b[49m\u001b[38;5;241;43m=\u001b[39;49m\u001b[43maxis\u001b[49m\u001b[43m)\u001b[49m\n",
      "File \u001b[0;32m~/Documents/anaconda3/envs/dsc80/lib/python3.8/site-packages/pandas/core/generic.py:3776\u001b[0m, in \u001b[0;36mNDFrame.xs\u001b[0;34m(self, key, axis, level, drop_level)\u001b[0m\n\u001b[1;32m   3774\u001b[0m         \u001b[38;5;28;01mraise\u001b[39;00m \u001b[38;5;167;01mTypeError\u001b[39;00m(\u001b[38;5;124mf\u001b[39m\u001b[38;5;124m\"\u001b[39m\u001b[38;5;124mExpected label or tuple of labels, got \u001b[39m\u001b[38;5;132;01m{\u001b[39;00mkey\u001b[38;5;132;01m}\u001b[39;00m\u001b[38;5;124m\"\u001b[39m) \u001b[38;5;28;01mfrom\u001b[39;00m \u001b[38;5;21;01me\u001b[39;00m\n\u001b[1;32m   3775\u001b[0m \u001b[38;5;28;01melse\u001b[39;00m:\n\u001b[0;32m-> 3776\u001b[0m     loc \u001b[38;5;241m=\u001b[39m \u001b[43mindex\u001b[49m\u001b[38;5;241;43m.\u001b[39;49m\u001b[43mget_loc\u001b[49m\u001b[43m(\u001b[49m\u001b[43mkey\u001b[49m\u001b[43m)\u001b[49m\n\u001b[1;32m   3778\u001b[0m     \u001b[38;5;28;01mif\u001b[39;00m \u001b[38;5;28misinstance\u001b[39m(loc, np\u001b[38;5;241m.\u001b[39mndarray):\n\u001b[1;32m   3779\u001b[0m         \u001b[38;5;28;01mif\u001b[39;00m loc\u001b[38;5;241m.\u001b[39mdtype \u001b[38;5;241m==\u001b[39m np\u001b[38;5;241m.\u001b[39mbool_:\n",
      "File \u001b[0;32m~/Documents/anaconda3/envs/dsc80/lib/python3.8/site-packages/pandas/core/indexes/base.py:3363\u001b[0m, in \u001b[0;36mIndex.get_loc\u001b[0;34m(self, key, method, tolerance)\u001b[0m\n\u001b[1;32m   3361\u001b[0m         \u001b[38;5;28;01mreturn\u001b[39;00m \u001b[38;5;28mself\u001b[39m\u001b[38;5;241m.\u001b[39m_engine\u001b[38;5;241m.\u001b[39mget_loc(casted_key)\n\u001b[1;32m   3362\u001b[0m     \u001b[38;5;28;01mexcept\u001b[39;00m \u001b[38;5;167;01mKeyError\u001b[39;00m \u001b[38;5;28;01mas\u001b[39;00m err:\n\u001b[0;32m-> 3363\u001b[0m         \u001b[38;5;28;01mraise\u001b[39;00m \u001b[38;5;167;01mKeyError\u001b[39;00m(key) \u001b[38;5;28;01mfrom\u001b[39;00m \u001b[38;5;21;01merr\u001b[39;00m\n\u001b[1;32m   3365\u001b[0m \u001b[38;5;28;01mif\u001b[39;00m is_scalar(key) \u001b[38;5;129;01mand\u001b[39;00m isna(key) \u001b[38;5;129;01mand\u001b[39;00m \u001b[38;5;129;01mnot\u001b[39;00m \u001b[38;5;28mself\u001b[39m\u001b[38;5;241m.\u001b[39mhasnans:\n\u001b[1;32m   3366\u001b[0m     \u001b[38;5;28;01mraise\u001b[39;00m \u001b[38;5;167;01mKeyError\u001b[39;00m(key)\n",
      "\u001b[0;31mKeyError\u001b[0m: 2"
     ]
    }
   ],
   "source": [
    "other.loc[2]"
   ]
  },
  {
   "cell_type": "markdown",
   "id": "0e0f6afd",
   "metadata": {
    "slideshow": {
     "slide_type": "slide"
    }
   },
   "source": [
    "### Practice Questions\n",
    "\n",
    "Consider the DataFrame below."
   ]
  },
  {
   "cell_type": "code",
   "execution_count": null,
   "id": "84d1dd06",
   "metadata": {},
   "outputs": [],
   "source": [
    "jack = pd.DataFrame({1: ['fee', 'fi'], '1': ['fo', 'fum']})\n",
    "jack"
   ]
  },
  {
   "cell_type": "markdown",
   "id": "420f47d8",
   "metadata": {},
   "source": [
    "For each of the following pieces of code, predict what the output will be. Then, uncomment the line of code and see for yourself."
   ]
  },
  {
   "cell_type": "code",
   "execution_count": null,
   "id": "660fa42d",
   "metadata": {},
   "outputs": [],
   "source": [
    "# jack[1]"
   ]
  },
  {
   "cell_type": "code",
   "execution_count": null,
   "id": "ac5ad541",
   "metadata": {},
   "outputs": [],
   "source": [
    "# jack[[1]]"
   ]
  },
  {
   "cell_type": "code",
   "execution_count": null,
   "id": "0c1f7c00",
   "metadata": {},
   "outputs": [],
   "source": [
    "# jack['1']"
   ]
  },
  {
   "cell_type": "code",
   "execution_count": null,
   "id": "24a90b6b",
   "metadata": {},
   "outputs": [],
   "source": [
    "# jack[[1, 1]]"
   ]
  },
  {
   "cell_type": "code",
   "execution_count": null,
   "id": "bda6e0f9",
   "metadata": {},
   "outputs": [],
   "source": [
    "# jack.loc[1]"
   ]
  },
  {
   "cell_type": "code",
   "execution_count": null,
   "id": "bb96863b",
   "metadata": {},
   "outputs": [],
   "source": [
    "# jack.loc[jack[1] == 'fo']"
   ]
  },
  {
   "cell_type": "code",
   "execution_count": null,
   "id": "b83cc118",
   "metadata": {},
   "outputs": [],
   "source": [
    "# jack[1, ['1', 1]]"
   ]
  },
  {
   "cell_type": "code",
   "execution_count": null,
   "id": "4a157e2f",
   "metadata": {},
   "outputs": [],
   "source": [
    "# jack.loc[1, 1]"
   ]
  },
  {
   "cell_type": "markdown",
   "id": "099f532e",
   "metadata": {
    "slideshow": {
     "slide_type": "slide"
    }
   },
   "source": [
    "## Pandas and NumPy\n",
    "\n",
    "<center><img src='imgs/python-stack.png' width=800></center>"
   ]
  },
  {
   "cell_type": "markdown",
   "id": "06331b20",
   "metadata": {
    "slideshow": {
     "slide_type": "slide"
    }
   },
   "source": [
    "### NumPy\n",
    "\n",
    "- NumPy stands for \"numerical Python\". It is a commonly-used Python module that enables **fast** computation involving arrays and matrices.\n",
    "- `numpy`'s main object is the **array**. In `numpy`, arrays are:\n",
    "    - homogenous (all values are of the same type), and\n",
    "    - (potentially) multi-dimensional.\n",
    "- Computation in `numpy` is fast because\n",
    "    - Much of it is implemented in C.\n",
    "    - `numpy` arrays are stored more efficiently in memory than, say, Python lists. \n",
    "- [This site](https://cloudxlab.com/blog/numpy-pandas-introduction/) provides a good overview of `numpy` arrays."
   ]
  },
  {
   "cell_type": "markdown",
   "id": "4d5900bf",
   "metadata": {
    "slideshow": {
     "slide_type": "slide"
    }
   },
   "source": [
    "### `pandas` is built upon `numpy`\n",
    "\n",
    "- A Series in `pandas` is a `numpy` array with an index.\n",
    "- A DataFrame is like a dictionary of columns, each of which is a `numpy` array.\n",
    "- Many operations in `pandas` are fast because they use `numpy`'s implementations.\n",
    "- To access the array underlying a DataFrame or Series, use the `to_numpy` method.\n",
    "    - ⚠️ Warning: `to_numpy` returns a view of the original object, not a copy! Read more in the [course notes](https://notes.dsc80.com/content/02/data-types.html#copies-and-views-in-pandas).\n",
    "    - `.values` is a soon-to-be-deprecated version of `.to_numpy()`."
   ]
  },
  {
   "cell_type": "code",
   "execution_count": null,
   "id": "2c7396cf",
   "metadata": {},
   "outputs": [],
   "source": [
    "arr = np.array([4, 2, 9, 15, -1])\n",
    "arr"
   ]
  },
  {
   "cell_type": "code",
   "execution_count": null,
   "id": "4b639c34",
   "metadata": {},
   "outputs": [],
   "source": [
    "ser = pd.Series(arr, index='a b c d e'.split(' '))\n",
    "ser"
   ]
  },
  {
   "cell_type": "code",
   "execution_count": null,
   "id": "fc350912",
   "metadata": {},
   "outputs": [],
   "source": [
    "conv = ser.to_numpy()\n",
    "conv"
   ]
  },
  {
   "cell_type": "code",
   "execution_count": null,
   "id": "5282fcab",
   "metadata": {},
   "outputs": [],
   "source": [
    "conv[2] = 100\n",
    "conv"
   ]
  },
  {
   "cell_type": "code",
   "execution_count": null,
   "id": "5d734eb4",
   "metadata": {},
   "outputs": [],
   "source": [
    "ser"
   ]
  },
  {
   "cell_type": "markdown",
   "id": "eb19cca8",
   "metadata": {
    "slideshow": {
     "slide_type": "slide"
    }
   },
   "source": [
    "### The dangers of `for`-loops\n",
    "\n",
    "- `for`-loops are slow when processing large datasets.\n",
    "- To illustrate how much faster `numpy` arithmetic is than using a `for`-loop, let's compute the distances between the origin $(0, 0)$ and 2000 random points $(x, y)$ in $\\mathbb{R}^2$:\n",
    "    - Using a `for`-loop.\n",
    "    - Using vectorized arithmetic (through `numpy`)."
   ]
  },
  {
   "cell_type": "markdown",
   "id": "90d6906a",
   "metadata": {
    "slideshow": {
     "slide_type": "slide"
    }
   },
   "source": [
    "### Aside: generating data\n",
    "\n",
    "- First, we need to create a DataFrame containing 2000 random points in 2D. \n",
    "- `np.random.random(N)` returns an array containing `N` numbers selected uniformly at random from the interval $[0, 1)$."
   ]
  },
  {
   "cell_type": "code",
   "execution_count": null,
   "id": "00c4d3bf",
   "metadata": {
    "slideshow": {
     "slide_type": "-"
    }
   },
   "outputs": [],
   "source": [
    "N = 2000\n",
    "x_arr = np.random.random(N)\n",
    "y_arr = np.random.random(N)\n",
    "\n",
    "coordinates = pd.DataFrame({\"x\": x_arr, \"y\": y_arr})\n",
    "coordinates.head()"
   ]
  },
  {
   "cell_type": "markdown",
   "id": "6fd02de0",
   "metadata": {
    "slideshow": {
     "slide_type": "slide"
    }
   },
   "source": [
    "Next, let's define a function that takes in a DataFrame like the one above and returns the distances between each point and the origin, using a `for`-loop."
   ]
  },
  {
   "cell_type": "code",
   "execution_count": null,
   "id": "5dab7840",
   "metadata": {},
   "outputs": [],
   "source": [
    "def distances(df):\n",
    "    hyp_list = []\n",
    "    for i in df.index:\n",
    "        dist = (df.loc[i, 'x'] ** 2 + df.loc[i, 'y'] ** 2) ** 0.5\n",
    "        hyp_list.append(dist)\n",
    "    return hyp_list"
   ]
  },
  {
   "cell_type": "markdown",
   "id": "b84d3f06",
   "metadata": {
    "slideshow": {
     "slide_type": "slide"
    }
   },
   "source": [
    "The `%timeit` magic command can repeatedly run any snippet of code and give us its average runtime."
   ]
  },
  {
   "cell_type": "code",
   "execution_count": null,
   "id": "2db695a6",
   "metadata": {},
   "outputs": [],
   "source": [
    "%timeit distances(coordinates)"
   ]
  },
  {
   "cell_type": "markdown",
   "id": "1c8cb480",
   "metadata": {},
   "source": [
    "Now, using a vectorized approach:"
   ]
  },
  {
   "cell_type": "code",
   "execution_count": null,
   "id": "d96da51d",
   "metadata": {},
   "outputs": [],
   "source": [
    "%timeit (coordinates['x'] ** 2 + coordinates['y'] ** 2) ** 0.5"
   ]
  },
  {
   "cell_type": "markdown",
   "id": "e6e3dee4",
   "metadata": {},
   "source": [
    "Note that \"µs\" refers to microseconds, which are one-millionth of a second, whereas \"ms\" refers to milliseconds, which are one-thousandth of a second.\n",
    "\n",
    "**Takeaway:** avoid `for`-loops whenever possible!"
   ]
  },
  {
   "cell_type": "markdown",
   "id": "8e1c6a1f",
   "metadata": {
    "slideshow": {
     "slide_type": "slide"
    }
   },
   "source": [
    "### `pandas` data types\n",
    "\n",
    "- A **data type** in `pandas` refers to the type of values in a column.\n",
    "- A column's data type determines which operations can be applied to it.\n",
    "- `pandas` tries to guess the correct data type for a given DataFrame, and is often wrong.\n",
    "    - This can lead to incorrect calculations and poor memory/time performance.\n",
    "- As a result, you will often need to explicitly convert between data types."
   ]
  },
  {
   "cell_type": "markdown",
   "id": "c2484929",
   "metadata": {
    "slideshow": {
     "slide_type": "slide"
    }
   },
   "source": [
    "### `pandas` data types\n",
    "\n",
    "|Pandas dtype|Python type|NumPy type|SQL type|Usage|\n",
    "|---|---|---|---|---|\n",
    "|int64|int|int_, int8,...,int64, uint8,...,uint64|INT, BIGINT| Integer numbers|\n",
    "|float64|float|float_, float16, float32, float64|FLOAT| Floating point numbers|\n",
    "|bool|bool|bool_|BOOL|True/False values|\n",
    "|datetime64|NA|datetime64[ns]|DATETIME|Date and time values|\n",
    "|timedelta[ns]|NA|NA|NA|Differences between two datetimes|\n",
    "|category|NA|NA|ENUM|Finite list of text values|\n",
    "|object|str|string, unicode|NA|Text|\n",
    "|object|NA|object|NA|Mixed types|"
   ]
  },
  {
   "cell_type": "markdown",
   "id": "93ca8db1",
   "metadata": {},
   "source": [
    "[This article](https://www.dataquest.io/blog/pandas-big-data/) details how `pandas` stores different data types under the hood."
   ]
  },
  {
   "cell_type": "markdown",
   "id": "a635b846",
   "metadata": {
    "slideshow": {
     "slide_type": "slide"
    }
   },
   "source": [
    "### Type conversion and the underlying `numpy` array(s)\n",
    "* The `dtypes` attribute (of both Series and DataFrames) describes the data type of each column.\n",
    "* The `to_numpy` method, when used on a Series, returns an array in which all values are of the data type specified by `dtypes`.\n",
    "* The `to_numpy` method, when used on a DataFrame, returns a multi-dimensional array of type `object`, unless all columns in the DataFrame are homogenous."
   ]
  },
  {
   "cell_type": "code",
   "execution_count": null,
   "id": "31d6e18b",
   "metadata": {},
   "outputs": [],
   "source": [
    "# Read in file\n",
    "elections_fp = os.path.join('data', 'elections.csv')\n",
    "elections = pd.read_csv(elections_fp)\n",
    "elections.head()"
   ]
  },
  {
   "cell_type": "code",
   "execution_count": null,
   "id": "df9852b3",
   "metadata": {},
   "outputs": [],
   "source": [
    "elections.dtypes"
   ]
  },
  {
   "cell_type": "code",
   "execution_count": null,
   "id": "ca570dee",
   "metadata": {},
   "outputs": [],
   "source": [
    "elections['Year'].dtypes"
   ]
  },
  {
   "cell_type": "code",
   "execution_count": null,
   "id": "3ffd6f50",
   "metadata": {},
   "outputs": [],
   "source": [
    "elections['Year'].to_numpy().dtype"
   ]
  },
  {
   "cell_type": "code",
   "execution_count": null,
   "id": "b152509a",
   "metadata": {},
   "outputs": [],
   "source": [
    "elections.to_numpy()"
   ]
  },
  {
   "cell_type": "markdown",
   "id": "6588f272",
   "metadata": {},
   "source": [
    "What do you think is happening here?"
   ]
  },
  {
   "cell_type": "code",
   "execution_count": null,
   "id": "bc4d3ca8",
   "metadata": {},
   "outputs": [],
   "source": [
    "elections['Year'] ** 7"
   ]
  },
  {
   "cell_type": "markdown",
   "id": "4eff27a4",
   "metadata": {
    "slideshow": {
     "slide_type": "slide"
    }
   },
   "source": [
    "### ⚠️ Warning: `numpy` and `pandas` don't always make the same decisions! "
   ]
  },
  {
   "cell_type": "markdown",
   "id": "2837f737",
   "metadata": {
    "slideshow": {
     "slide_type": "-"
    }
   },
   "source": [
    "`numpy` prefers homogenous data types to optimize memory and read/write speed. This leads to **type coercion**. Notice that the array created below contains only strings, even though there was an `int` in the argument list."
   ]
  },
  {
   "cell_type": "code",
   "execution_count": null,
   "id": "3220eecf",
   "metadata": {
    "scrolled": true
   },
   "outputs": [],
   "source": [
    "np.array(['a', 1])"
   ]
  },
  {
   "cell_type": "markdown",
   "id": "3b618dbd",
   "metadata": {
    "slideshow": {
     "slide_type": "slide"
    }
   },
   "source": [
    "On the other hand, `pandas` likes correctness and ease-of-use. The Series created below is of type `object`, which preserves the original data types in the argument list."
   ]
  },
  {
   "cell_type": "code",
   "execution_count": 1,
   "id": "0fb25e77",
   "metadata": {},
   "outputs": [
    {
     "ename": "NameError",
     "evalue": "name 'pd' is not defined",
     "output_type": "error",
     "traceback": [
      "\u001b[0;31m---------------------------------------------------------------------------\u001b[0m",
      "\u001b[0;31mNameError\u001b[0m                                 Traceback (most recent call last)",
      "Input \u001b[0;32mIn [1]\u001b[0m, in \u001b[0;36m<cell line: 1>\u001b[0;34m()\u001b[0m\n\u001b[0;32m----> 1\u001b[0m \u001b[43mpd\u001b[49m\u001b[38;5;241m.\u001b[39mSeries([\u001b[38;5;124m'\u001b[39m\u001b[38;5;124ma\u001b[39m\u001b[38;5;124m'\u001b[39m, \u001b[38;5;241m1\u001b[39m])\n",
      "\u001b[0;31mNameError\u001b[0m: name 'pd' is not defined"
     ]
    }
   ],
   "source": [
    "pd.Series(['a', 1])"
   ]
  },
  {
   "cell_type": "code",
   "execution_count": null,
   "id": "be267398",
   "metadata": {},
   "outputs": [],
   "source": [
    "pd.Series(['a', 1]).values"
   ]
  },
  {
   "cell_type": "markdown",
   "id": "b1857562",
   "metadata": {},
   "source": [
    "You can specify the data type of an array when initializing it by using the `dtype` argument."
   ]
  },
  {
   "cell_type": "code",
   "execution_count": null,
   "id": "5a9ad3fd",
   "metadata": {},
   "outputs": [],
   "source": [
    "np.array(['a', 1], dtype=object)"
   ]
  },
  {
   "cell_type": "markdown",
   "id": "b2dd819e",
   "metadata": {
    "slideshow": {
     "slide_type": "slide"
    }
   },
   "source": [
    "`pandas` does make some trade-offs for efficiency, however. For instance, a Series consisting of both `int`s and `float`s is coerced to the `float64` data type."
   ]
  },
  {
   "cell_type": "code",
   "execution_count": null,
   "id": "ffed41a8",
   "metadata": {},
   "outputs": [],
   "source": [
    "pd.Series([1, 1.0])"
   ]
  },
  {
   "cell_type": "markdown",
   "id": "fea361cc",
   "metadata": {
    "slideshow": {
     "slide_type": "slide"
    }
   },
   "source": [
    "### Type conversion\n",
    "\n",
    "You can change the data type of a Series using the `.astype` Series method."
   ]
  },
  {
   "cell_type": "code",
   "execution_count": null,
   "id": "8bfabef4",
   "metadata": {},
   "outputs": [],
   "source": [
    "ser = pd.Series(['1', '2', '3', '4'])\n",
    "ser"
   ]
  },
  {
   "cell_type": "code",
   "execution_count": null,
   "id": "2a3b24be",
   "metadata": {},
   "outputs": [],
   "source": [
    "ser.astype(int)"
   ]
  },
  {
   "cell_type": "code",
   "execution_count": null,
   "id": "6188f0d1",
   "metadata": {},
   "outputs": [],
   "source": [
    "ser.astype(float)"
   ]
  },
  {
   "cell_type": "markdown",
   "id": "fcfb02e9",
   "metadata": {
    "slideshow": {
     "slide_type": "slide"
    }
   },
   "source": [
    "### Performance and memory management\n",
    "\n",
    "As we just discovered,\n",
    "* `numpy` is optimized for speed and memory consumption.\n",
    "* `pandas` makes implementation choices that: \n",
    "    - are slow and use a lot of memory, but\n",
    "    - optimize for fast code development."
   ]
  },
  {
   "cell_type": "markdown",
   "id": "a2ab52a4",
   "metadata": {
    "slideshow": {
     "slide_type": "slide"
    }
   },
   "source": [
    "To demonstrate, let's create a large array in which all of the entries are non-negative numbers less than 255, meaning that they can be represented with 8 bits (i.e. as `np.uint8`s, where the \"u\" stands for \"unsigned\")."
   ]
  },
  {
   "cell_type": "code",
   "execution_count": null,
   "id": "968aee1e",
   "metadata": {},
   "outputs": [],
   "source": [
    "import random\n",
    "data = np.random.choice(np.arange(8), 10 ** 6)"
   ]
  },
  {
   "cell_type": "markdown",
   "id": "2a8fcb7e",
   "metadata": {},
   "source": [
    "When we tell `pandas` to use a `dtype` of `uint8`, the size of the resulting DataFrame is under a megabyte."
   ]
  },
  {
   "cell_type": "code",
   "execution_count": null,
   "id": "e109c0ac",
   "metadata": {},
   "outputs": [],
   "source": [
    "ser1 = pd.Series(data, dtype=np.uint8).to_frame()\n",
    "ser1.info()"
   ]
  },
  {
   "cell_type": "markdown",
   "id": "fe61772d",
   "metadata": {},
   "source": [
    "But by default, even though the numbers are only 8-bit, `pandas` uses the `int64` dtype, and the resulting DataFrame is over 7 megabytes large."
   ]
  },
  {
   "cell_type": "code",
   "execution_count": null,
   "id": "af72cf3b",
   "metadata": {},
   "outputs": [],
   "source": [
    "ser2 = pd.Series(data).to_frame()\n",
    "ser2.info()"
   ]
  },
  {
   "cell_type": "markdown",
   "id": "cec773fd",
   "metadata": {
    "slideshow": {
     "slide_type": "slide"
    }
   },
   "source": [
    "## Useful Series and DataFrame methods"
   ]
  },
  {
   "cell_type": "markdown",
   "id": "e43e5c3b",
   "metadata": {
    "slideshow": {
     "slide_type": "slide"
    }
   },
   "source": [
    "### Shared methods and attributes\n",
    "* The `head`/`tail` methods return the first/last few rows (the default is 5).\n",
    "* The `shape` attribute returns the number of rows (and columns).\n",
    "* The `size` attribute returns the number of entries."
   ]
  },
  {
   "cell_type": "code",
   "execution_count": null,
   "id": "8e02289f",
   "metadata": {},
   "outputs": [],
   "source": [
    "elections.head()"
   ]
  },
  {
   "cell_type": "code",
   "execution_count": null,
   "id": "b7a0cfb4",
   "metadata": {},
   "outputs": [],
   "source": [
    "elections.shape"
   ]
  },
  {
   "cell_type": "code",
   "execution_count": null,
   "id": "a1a5eb6c",
   "metadata": {},
   "outputs": [],
   "source": [
    "elections.size"
   ]
  },
  {
   "cell_type": "markdown",
   "id": "2160d07f",
   "metadata": {
    "slideshow": {
     "slide_type": "slide"
    }
   },
   "source": [
    "### Series methods\n",
    "\n",
    "|Method Name|Description|\n",
    "|---|---|\n",
    "|`count`|Returns the number of non-null entries in the Series|\n",
    "|`unique`|Returns the unique values in the Series|\n",
    "|`nunique`|Returns the number of unique values in the Series|\n",
    "|`value_counts`|Returns a Series of counts of unique values|\n",
    "|`describe`|Returns a Series of descriptive stats of values|"
   ]
  },
  {
   "cell_type": "code",
   "execution_count": null,
   "id": "d3e16d91",
   "metadata": {},
   "outputs": [],
   "source": [
    "elections.head()"
   ]
  },
  {
   "cell_type": "code",
   "execution_count": null,
   "id": "b1432ade",
   "metadata": {},
   "outputs": [],
   "source": [
    "# Distinct candidates\n",
    "elections['Candidate'].unique()"
   ]
  },
  {
   "cell_type": "code",
   "execution_count": null,
   "id": "cb6f8d60",
   "metadata": {},
   "outputs": [],
   "source": [
    "# Number of distinct candidates\n",
    "elections['Candidate'].nunique()"
   ]
  },
  {
   "cell_type": "code",
   "execution_count": null,
   "id": "a356f1d4",
   "metadata": {},
   "outputs": [],
   "source": [
    "# Total number of candidates\n",
    "elections['Candidate'].count()"
   ]
  },
  {
   "cell_type": "code",
   "execution_count": null,
   "id": "1f34a042",
   "metadata": {},
   "outputs": [],
   "source": [
    "# 🤔\n",
    "republicans = elections.loc[elections['Party'] == 'Republican']\n",
    "republicans['Result'].value_counts()"
   ]
  },
  {
   "cell_type": "code",
   "execution_count": null,
   "id": "28381f4b",
   "metadata": {},
   "outputs": [],
   "source": [
    "republicans['%'].describe()"
   ]
  },
  {
   "cell_type": "markdown",
   "id": "1e91a09c",
   "metadata": {
    "slideshow": {
     "slide_type": "slide"
    }
   },
   "source": [
    "### DataFrame methods\n",
    "\n",
    "* DataFrames share *many* of the same methods with Series.\n",
    "    - In such cases, the DataFrame method applies the Series method to every row or column.\n",
    "* Some DataFrame methods accept the `axis` keyword argument:\n",
    "    - `axis=0`: the method is applied across the rows (i.e. to each column).\n",
    "    - `axis=1`: the method is applied across the columns (i.e. to each row).\n",
    "* Default value: `axis=0`."
   ]
  },
  {
   "cell_type": "code",
   "execution_count": null,
   "id": "5dbee01d",
   "metadata": {},
   "outputs": [],
   "source": [
    "elections.head()"
   ]
  },
  {
   "cell_type": "code",
   "execution_count": null,
   "id": "2c46a603",
   "metadata": {},
   "outputs": [],
   "source": [
    "elections[['%', 'Year']].mean()"
   ]
  },
  {
   "cell_type": "markdown",
   "id": "94caec10",
   "metadata": {},
   "source": [
    "The following piece of code works, but is meaningless. Why?"
   ]
  },
  {
   "cell_type": "code",
   "execution_count": null,
   "id": "e4e29312",
   "metadata": {},
   "outputs": [],
   "source": [
    "elections[['%', 'Year']].mean(axis=1)"
   ]
  },
  {
   "cell_type": "markdown",
   "id": "54dcad90",
   "metadata": {
    "slideshow": {
     "slide_type": "slide"
    }
   },
   "source": [
    "### Even more DataFrame methods\n",
    "\n",
    "|Method Name|Description|\n",
    "|---|---|\n",
    "|`sort_values`|Returns a DataFrame sorted by the specified column|\n",
    "|`drop_duplicates`|Returns a DataFrame with duplicate values dropped|\n",
    "|`describe`|Returns descriptive stats of the DataFrame|"
   ]
  },
  {
   "cell_type": "code",
   "execution_count": null,
   "id": "8fbcb8da",
   "metadata": {},
   "outputs": [],
   "source": [
    "elections.sort_values('%', ascending=False).head(4)"
   ]
  },
  {
   "cell_type": "code",
   "execution_count": null,
   "id": "9de96e2a",
   "metadata": {},
   "outputs": [],
   "source": [
    "# By default, drop_duplicates looks for duplicate entire rows, which elections does not have\n",
    "elections.drop_duplicates(subset=['Candidate'])"
   ]
  },
  {
   "cell_type": "code",
   "execution_count": null,
   "id": "bb5bb495",
   "metadata": {},
   "outputs": [],
   "source": [
    "elections.describe()"
   ]
  },
  {
   "cell_type": "markdown",
   "id": "0824d676",
   "metadata": {
    "slideshow": {
     "slide_type": "slide"
    }
   },
   "source": [
    "### Adding and modifying columns, using a copy\n",
    "\n",
    "* To add a new column to a DataFrame, use the `assign` method.\n",
    "* To add a new row to a DataFrame, use the `append` method.\n",
    "* Both `assign` and `append` return a copy of the DataFrame, **which is a great feature!**\n",
    "* To change the values in a column, re-assign its name to a sequence of the desired values."
   ]
  },
  {
   "cell_type": "markdown",
   "id": "c0066c44",
   "metadata": {},
   "source": [
    "As an aside, you should try your best to write **chained** `pandas` code, as follows:"
   ]
  },
  {
   "cell_type": "code",
   "execution_count": null,
   "id": "954d9052",
   "metadata": {},
   "outputs": [],
   "source": [
    "(\n",
    "    elections\n",
    "    .assign(proportion_of_vote=(elections['%'] / 100))\n",
    "    .head()\n",
    ")"
   ]
  },
  {
   "cell_type": "markdown",
   "id": "4a4efbec",
   "metadata": {},
   "source": [
    "You can chain together several steps at a time:"
   ]
  },
  {
   "cell_type": "code",
   "execution_count": null,
   "id": "87c7bd56",
   "metadata": {},
   "outputs": [],
   "source": [
    "(\n",
    "    elections\n",
    "    .assign(proportion_of_vote=(elections['%'] / 100))\n",
    "    .assign(Result=elections['Result'].str.upper())\n",
    "    .head()\n",
    ")"
   ]
  },
  {
   "cell_type": "markdown",
   "id": "4d26fe50",
   "metadata": {},
   "source": [
    "You can also use `assign` when the desired column name has spaces, by using keyword arguments."
   ]
  },
  {
   "cell_type": "code",
   "execution_count": null,
   "id": "b992959a",
   "metadata": {},
   "outputs": [],
   "source": [
    "(\n",
    "    elections\n",
    "    .assign(**{'Proportion of Vote': elections['%'] / 100})\n",
    "    .head()\n",
    ")"
   ]
  },
  {
   "cell_type": "markdown",
   "id": "46e892df",
   "metadata": {
    "slideshow": {
     "slide_type": "slide"
    }
   },
   "source": [
    "### ⚠️ Warning!\n",
    "\n",
    "- Adding a row with `append` has terrible time complexity!\n",
    "- Use it sparingly.\n",
    "- Specifically, don't build a DataFrame using `append` in a loop."
   ]
  },
  {
   "cell_type": "markdown",
   "id": "cb6fa478",
   "metadata": {
    "slideshow": {
     "slide_type": "slide"
    }
   },
   "source": [
    "### Adding and modifying columns, in-place\n",
    "\n",
    "* You can assign a new row or column to a DataFrame **in-place** using `loc` or `[]`.\n",
    "    - Works like dictionary assignment.\n",
    "    - Unlike `assign`, this **modifies** the underlying DataFrame rather than a copy of it.\n",
    "* This is the more \"common\" way of adding/modifying columns. \n",
    "    - ⚠️ Warning: Exercise caution when using this approach, since this approach changes the values of existing variables."
   ]
  },
  {
   "cell_type": "code",
   "execution_count": null,
   "id": "0f7d103a",
   "metadata": {},
   "outputs": [],
   "source": [
    "# By default, .copy() returns a deep copy of the object it is called on,\n",
    "# meaning that if you change the copy the original remains unmodified.\n",
    "mod_elec = elections.copy()\n",
    "mod_elec.head()"
   ]
  },
  {
   "cell_type": "code",
   "execution_count": null,
   "id": "e3e60cf4",
   "metadata": {},
   "outputs": [],
   "source": [
    "mod_elec['Proportion of Vote'] = mod_elec['%'] / 100\n",
    "mod_elec.head()"
   ]
  },
  {
   "cell_type": "code",
   "execution_count": null,
   "id": "ef1768a8",
   "metadata": {},
   "outputs": [],
   "source": [
    "mod_elec['Result'] = mod_elec['Result'].str.upper()\n",
    "mod_elec.head()"
   ]
  },
  {
   "cell_type": "code",
   "execution_count": null,
   "id": "fdb3b79c",
   "metadata": {},
   "outputs": [],
   "source": [
    "# 🤔\n",
    "mod_elec.loc[-1, :] = ['Carter', 'Democratic', 50.1, 1976, 'WIN', 0.501]\n",
    "mod_elec.loc[-2, :] = ['Ford', 'Republican', 48.0, 1976, 'LOSS', 0.48]\n",
    "mod_elec"
   ]
  },
  {
   "cell_type": "code",
   "execution_count": null,
   "id": "3be783e3",
   "metadata": {},
   "outputs": [],
   "source": [
    "mod_elec = mod_elec.sort_index()\n",
    "mod_elec.head()"
   ]
  },
  {
   "cell_type": "code",
   "execution_count": null,
   "id": "358b23e9",
   "metadata": {},
   "outputs": [],
   "source": [
    "# df.reset_index(drop=True) drops the current index \n",
    "# of the DataFrame and replaces it with an index of increasing integers\n",
    "mod_elec.reset_index(drop=True)"
   ]
  },
  {
   "cell_type": "markdown",
   "id": "6defc7c3",
   "metadata": {
    "slideshow": {
     "slide_type": "slide"
    }
   },
   "source": [
    "## Example: San Diego employee salaries (again)\n",
    "\n",
    "Note: We probably won't finish looking at all of this code in lecture, but we will leave it here for you as a reference."
   ]
  },
  {
   "cell_type": "markdown",
   "id": "813842f9",
   "metadata": {
    "slideshow": {
     "slide_type": "slide"
    }
   },
   "source": [
    "### Reading the data\n",
    "\n",
    "Let's work with the same dataset that we did in Lecture 1, using our new knowledge of `pandas`."
   ]
  },
  {
   "cell_type": "code",
   "execution_count": null,
   "id": "378043a3",
   "metadata": {},
   "outputs": [],
   "source": [
    "salaries = pd.read_csv('https://transcal.s3.amazonaws.com/public/export/san-diego-2020.csv')\n",
    "salaries['Employee Name'] = salaries['Employee Name'].str.split().str[0] + ' xxxxx'"
   ]
  },
  {
   "cell_type": "code",
   "execution_count": null,
   "id": "30a9ff6c",
   "metadata": {},
   "outputs": [],
   "source": [
    "salaries.head()"
   ]
  },
  {
   "cell_type": "code",
   "execution_count": null,
   "id": "b7399303",
   "metadata": {
    "slideshow": {
     "slide_type": "slide"
    }
   },
   "outputs": [],
   "source": [
    "salaries.info()"
   ]
  },
  {
   "cell_type": "markdown",
   "id": "cb9063f3",
   "metadata": {
    "slideshow": {
     "slide_type": "slide"
    }
   },
   "source": [
    "### Data cleaning\n",
    "\n",
    "Current issues with the dataset:\n",
    "\n",
    "- Some columns have no information (`'Notes'`) or the same value in all rows (`'Agency'`) – let's drop them.\n",
    "- `'Other Pay'` should be numeric, but it's not currently.\n",
    "\n"
   ]
  },
  {
   "cell_type": "code",
   "execution_count": null,
   "id": "7ed1e026",
   "metadata": {},
   "outputs": [],
   "source": [
    "# Dropping useless columns\n",
    "salaries = salaries.drop(['Year', 'Notes', 'Agency'], axis=1)\n",
    "salaries.head()"
   ]
  },
  {
   "cell_type": "markdown",
   "id": "5929d058",
   "metadata": {
    "slideshow": {
     "slide_type": "slide"
    }
   },
   "source": [
    "### Fixing the `'Other Pay'` column"
   ]
  },
  {
   "cell_type": "code",
   "execution_count": null,
   "id": "9c70dcaa",
   "metadata": {},
   "outputs": [],
   "source": [
    "salaries['Other Pay'].dtype"
   ]
  },
  {
   "cell_type": "code",
   "execution_count": null,
   "id": "eff7ca74",
   "metadata": {},
   "outputs": [],
   "source": [
    "salaries['Other Pay'].unique()"
   ]
  },
  {
   "cell_type": "markdown",
   "id": "cfabe8c2",
   "metadata": {},
   "source": [
    "It appears that most of the values in the `'Other Pay'` column are strings containing numbers. Which values are not numbers?"
   ]
  },
  {
   "cell_type": "code",
   "execution_count": null,
   "id": "77a4e52a",
   "metadata": {},
   "outputs": [],
   "source": [
    "salaries.loc[-salaries['Other Pay'].str.contains('.00')]"
   ]
  },
  {
   "cell_type": "markdown",
   "id": "c7c07457",
   "metadata": {
    "slideshow": {
     "slide_type": "slide"
    }
   },
   "source": [
    "We can keep just the rows where the `'Other Pay'` is numeric, and then convert the `'Other Pay'` column to `float`."
   ]
  },
  {
   "cell_type": "code",
   "execution_count": null,
   "id": "48f7b6de",
   "metadata": {},
   "outputs": [],
   "source": [
    "salaries = salaries.loc[salaries['Other Pay'].str.contains('.00') == True]\n",
    "salaries['Other Pay'] = salaries['Other Pay'].astype(float)\n",
    "salaries.head()"
   ]
  },
  {
   "cell_type": "markdown",
   "id": "6b6c40ef",
   "metadata": {},
   "source": [
    "The line of code above is correct, but it errors if you run it more than once. Why? 🤔"
   ]
  },
  {
   "cell_type": "markdown",
   "id": "301c8234",
   "metadata": {
    "slideshow": {
     "slide_type": "slide"
    }
   },
   "source": [
    "### Full-time vs. part-time\n",
    "\n",
    "What happens when we use `normalize=True` with `value_counts`?"
   ]
  },
  {
   "cell_type": "code",
   "execution_count": null,
   "id": "9f61300f",
   "metadata": {},
   "outputs": [],
   "source": [
    "salaries['Status'].value_counts()"
   ]
  },
  {
   "cell_type": "code",
   "execution_count": null,
   "id": "c15f2333",
   "metadata": {},
   "outputs": [],
   "source": [
    "salaries['Status'].value_counts(normalize=True)"
   ]
  },
  {
   "cell_type": "markdown",
   "id": "58ac29bd",
   "metadata": {
    "slideshow": {
     "slide_type": "slide"
    }
   },
   "source": [
    "### Salary analysis"
   ]
  },
  {
   "cell_type": "code",
   "execution_count": null,
   "id": "14eb417f",
   "metadata": {},
   "outputs": [],
   "source": [
    "# Salary statistics\n",
    "salaries.describe()"
   ]
  },
  {
   "cell_type": "markdown",
   "id": "3d48bf36",
   "metadata": {},
   "source": [
    "**Question:** Is `'Total Pay'` equal to the sum of `'Base Pay'`, `'Overtime Pay'`, and `'Other Pay'`?\n",
    "\n",
    "We can answer this by summing the latter three columns and seeing if the resulting Series equals the former column."
   ]
  },
  {
   "cell_type": "code",
   "execution_count": null,
   "id": "8d903963",
   "metadata": {},
   "outputs": [],
   "source": [
    "salaries.loc[:, ['Base Pay', 'Overtime Pay', 'Other Pay']].sum(axis=1)"
   ]
  },
  {
   "cell_type": "code",
   "execution_count": null,
   "id": "7a4dcadb",
   "metadata": {},
   "outputs": [],
   "source": [
    "salaries['Total Pay']"
   ]
  },
  {
   "cell_type": "code",
   "execution_count": null,
   "id": "b8181dc2",
   "metadata": {},
   "outputs": [],
   "source": [
    "(salaries.loc[:, ['Base Pay', 'Overtime Pay', 'Other Pay']].sum(axis=1) == salaries['Total Pay']).all()"
   ]
  },
  {
   "cell_type": "markdown",
   "id": "8c5ae9f2",
   "metadata": {
    "slideshow": {
     "slide_type": "-"
    }
   },
   "source": [
    "Similarly, we might ask whether `'Total Pay & Benefits'` is truly the sum of `'Total Pay'` and `'Benefits'`."
   ]
  },
  {
   "cell_type": "code",
   "execution_count": null,
   "id": "7de7f7c2",
   "metadata": {},
   "outputs": [],
   "source": [
    "(salaries.loc[:, ['Total Pay', 'Benefits']].sum(axis=1) == salaries.loc[:, 'Total Pay & Benefits']).all()"
   ]
  },
  {
   "cell_type": "markdown",
   "id": "3b0cce0d",
   "metadata": {
    "slideshow": {
     "slide_type": "slide"
    }
   },
   "source": [
    "### Visualization"
   ]
  },
  {
   "cell_type": "code",
   "execution_count": null,
   "id": "900bc8ed",
   "metadata": {},
   "outputs": [],
   "source": [
    "salaries['Total Pay & Benefits'].plot(kind='hist', density=False, bins=20, ec='w');"
   ]
  },
  {
   "cell_type": "code",
   "execution_count": null,
   "id": "951529e5",
   "metadata": {},
   "outputs": [],
   "source": [
    "salaries.plot(kind='scatter', x='Base Pay', y='Overtime Pay');"
   ]
  },
  {
   "cell_type": "code",
   "execution_count": null,
   "id": "ec9eab55",
   "metadata": {},
   "outputs": [],
   "source": [
    "pd.plotting.scatter_matrix(salaries[['Base Pay', 'Overtime Pay', 'Total Pay']], figsize=(8, 8));"
   ]
  },
  {
   "cell_type": "markdown",
   "id": "d2fd8519",
   "metadata": {},
   "source": [
    "Think of your own questions about the dataset, and try and answer them!"
   ]
  },
  {
   "cell_type": "markdown",
   "id": "b85d1622",
   "metadata": {
    "slideshow": {
     "slide_type": "slide"
    }
   },
   "source": [
    "## Summary, next time"
   ]
  },
  {
   "cell_type": "markdown",
   "id": "d174d2de",
   "metadata": {
    "slideshow": {
     "slide_type": "slide"
    }
   },
   "source": [
    "### Summary\n",
    "\n",
    "- `pandas` relies heavily on `numpy`. An understanding of how data types work in both will allow you to write more efficient and bug-free code.\n",
    "- Series and DataFrames share many methods (refer to the [`pandas` documentation](https://pandas.pydata.org/docs/user_guide/index.html#user-guide) for more details).\n",
    "- Most `pandas` methods return **copies** of Series/DataFrames. Be careful when using techniques that modify values in-place.\n",
    "- **Next time:** How to work with **messy data**."
   ]
  }
 ],
 "metadata": {
  "celltoolbar": "Slideshow",
  "kernelspec": {
   "display_name": "Python 3 (ipykernel)",
   "language": "python",
   "name": "python3"
  },
  "language_info": {
   "codemirror_mode": {
    "name": "ipython",
    "version": 3
   },
   "file_extension": ".py",
   "mimetype": "text/x-python",
   "name": "python",
   "nbconvert_exporter": "python",
   "pygments_lexer": "ipython3",
   "version": "3.8.12"
  }
 },
 "nbformat": 4,
 "nbformat_minor": 5
}
