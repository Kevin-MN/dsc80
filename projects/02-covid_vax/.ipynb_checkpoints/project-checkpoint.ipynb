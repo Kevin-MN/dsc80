{
 "cells": [
  {
   "cell_type": "code",
   "execution_count": 1,
   "metadata": {
    "deletable": false,
    "editable": false
   },
   "outputs": [],
   "source": [
    "# Initialize Otter\n",
    "import otter\n",
    "grader = otter.Notebook(\"project.ipynb\")"
   ]
  },
  {
   "cell_type": "markdown",
   "metadata": {},
   "source": [
    "# Project 2 – COVID Vaccinations 🦠\n",
    "\n",
    "## DSC 80, Spring 2022\n",
    "\n",
    "### Checkpoint Due Date: Thursday, April 21st (Questions 1, 2, 6, 8, and 10)\n",
    "### Due Date: Saturday, April 30th"
   ]
  },
  {
   "cell_type": "markdown",
   "metadata": {},
   "source": [
    "## Instructions 📝\n",
    "\n",
    "Welcome to Project 2!\n",
    "\n",
    "---\n",
    "\n",
    "### Working on the Project 💻\n",
    "\n",
    "This Jupyter Notebook contains the statements of the problems and provides code and Markdown cells to display your answers to the problems.  \n",
    "\n",
    "* Like in labs, your coding work will be developed in the accompanying `project.py` file, that will be imported into the current notebook. This code will be autograded.\n",
    "* Note that there is no manually-graded component to Project 2, so the only thing you will ever submit is `project.py`.\n",
    "* **For the checkpoint, you only need to turn in a `project.py` containing solutions for Questions 1, 2, 6, 8, and 10!**\n",
    "    - The \"Project 2 Checkpoint\" autograder on Gradescope does not thoroughly check your code – it only runs the public notebook tests on the checkpoint questions to make sure that you have completed them. When you submit the final version of the project, we will use hidden tests to check your answers more thoroughly.\n",
    "    - Note that this means you will ultimately have to submit the project twice – once to the \"Project 2 Checkpoint\" autograder (Questions 1, 2, 6, 8, and 10 only), and once to the \"Project 2\" autograder (once you're fully done).\n",
    "    - The reason for skipping around is that **the project has two distinct parts, and you should start on both parts by the time the checkpoint is due**. Note that the checkpoint questions are less than half of the total project (and some of them are easier than the average project question), so budget your time appropriately for completing the rest of the project.\n",
    "\n",
    "**Do not change the function names in the `project.py` file!**\n",
    "- The functions in the `project.py` file are how your assignment is graded, and they are graded by their name.\n",
    "- If you changed something you weren't supposed to, just use git to revert! Ask us if you need help with this, or Google around for `git revert`.\n",
    "\n",
    "**Tips for developing in the `project.py` file**:\n",
    "- Do not change the function names in the starter code; grading is done using these function names.\n",
    "- Do not change the docstrings in the functions. These are there to tell you if your work is on the right track!\n",
    "- You are **encouraged to write your own additional functions** to solve the questions! \n",
    "- Always document your code!\n",
    "\n",
    "**Tips for testing the correctness of your answers:**\n",
    "\n",
    "Once you write your code in `project.py`, you should use your notebook to inspect and analyze your functions' outputs for correctness. You should also run the doctests on the command line, and submit a version of your project to the Gradescope autograder well in advance of the deadline to ensure that there are no unexpected bugs in your code or your computing environment.\n",
    "\n",
    "<span style='color:red'><b>Note that in this project, the doctests and public Otter notebook tests are not identical</b></span>, though they test similar ideas. In particular, the doctests often test your functions on smaller subsets of the larger datasets that we use in the notebook. **You should regularly run both.**\n",
    "\n",
    "### Warning! ⚠️\n",
    "\n",
    "This project contains larger datasets than usual. They aren't huge, but they aren't tiny. The autograder has been set to allow more memory usage than usual, but if you write inefficient code you may exhaust all of the allocated memory, causing the autograder to fail. If this happens, the autograder will say that your submission was formatted incorrectly.\n",
    "\n",
    "**Writing efficient code is part of the project!** Be sure to submit your code to the Gradescope autograder regularly to check that it is efficient enough. If your code fails to run on the autograder due to efficiency reasons and it is past the late deadline, we will perform a \"catastrophic regrade\" by removing your inefficient code (deleting that function definition) and charging the usual cost of two slip days. This is expensive, so be sure to check that your code works with the autograder with plenty of time before the deadline!\n",
    "\n",
    "### Working with a Partner 🧑‍🤝‍🧑\n",
    "\n",
    "You are allowed to work with a partner on projects in DSC 80. If you do work with a partner, you must follow the [Pair Programming Guidelines](https://dsc10.com/pair-programming/). Specifically, you must be actively working on the project at the same time on one computer. Splitting up the project and working on it separately **is not** pair programming.\n",
    "\n",
    "You can use [this sheet](https://docs.google.com/spreadsheets/d/1PMtGpd4U6rYBn6Ut6eHQzSo4PdBwluU-ppx87ROy_N8/edit?usp=sharing) to find a partner. Your partner does not have to be in the same lecture section as you.\n",
    "\n",
    "Note that if you do work with a partner, you and your partner must submit the Checkpoint together and the whole project together."
   ]
  },
  {
   "cell_type": "code",
   "execution_count": 2,
   "metadata": {},
   "outputs": [],
   "source": [
    "%load_ext autoreload\n",
    "%autoreload 2"
   ]
  },
  {
   "cell_type": "code",
   "execution_count": 3,
   "metadata": {},
   "outputs": [],
   "source": [
    "import numpy as np\n",
    "import pandas as pd\n",
    "import os\n",
    "\n",
    "import pathlib\n",
    "import urllib.request\n",
    "from ipywidgets import interact, FloatSlider\n",
    "\n",
    "import matplotlib.pyplot as plt\n",
    "plt.style.use('seaborn-white')\n",
    "plt.rc('figure', dpi=100, figsize=(8, 5))\n",
    "plt.rc('font', size=12)"
   ]
  },
  {
   "cell_type": "code",
   "execution_count": 4,
   "metadata": {},
   "outputs": [],
   "source": [
    "from project import *"
   ]
  },
  {
   "cell_type": "markdown",
   "metadata": {},
   "source": [
    "## About the Assignment\n",
    "\n",
    "Data science has been an important tool in understanding the development of the COVID-19 pandemic. In this project, we'll take a took at two real-world datasets that measure vaccination rates and effectiveness.\n",
    "\n",
    "---\n",
    "\n",
    "### Navigating the Project\n",
    "\n",
    "Click on the links below to navigate to different parts of the project. Note that Questions 1, 2, 6, 8, and 10 constitute your Checkpoint submission.\n",
    "\n",
    "- [Part 1: Global Vaccination Rates 🌎](#part1)\n",
    "    - [Question 1 (Checkpoint Question)](#Question-1-(Checkpoint-Question))\n",
    "    - [Question 2 (Checkpoint Question)](#Question-2-(Checkpoint-Question))\n",
    "    - [Question 3](#Question-3)\n",
    "    - [Question 4](#Question-4)\n",
    "    - [Question 5](#Question-5)\n",
    "- [Part 2: Vaccine Effectiveness 💉](#part2)\n",
    "    - [Question 6 (Checkpoint Question)](#Question-6-(Checkpoint-Question))\n",
    "    - [Question 7](#Question-7)\n",
    "    - [Question 8 (Checkpoint Question)](#Question-8-(Checkpoint-Question))\n",
    "    - [Question 9](#Question-9)\n",
    "    - [Question 10 (Checkpoint Question)](#Question-10-(Checkpoint-Question))\n",
    "    - [Question 11](#Question-11)\n",
    "\n",
    "---\n",
    "\n",
    "The file `data/covid_vaccinations_updated.csv` contains information on the number of COVID vaccinations that have been administered in various countries and regions of the world, as of April 7th, 2022:"
   ]
  },
  {
   "cell_type": "code",
   "execution_count": 5,
   "metadata": {},
   "outputs": [
    {
     "data": {
      "text/html": [
       "<div>\n",
       "<style scoped>\n",
       "    .dataframe tbody tr th:only-of-type {\n",
       "        vertical-align: middle;\n",
       "    }\n",
       "\n",
       "    .dataframe tbody tr th {\n",
       "        vertical-align: top;\n",
       "    }\n",
       "\n",
       "    .dataframe thead th {\n",
       "        text-align: right;\n",
       "    }\n",
       "</style>\n",
       "<table border=\"1\" class=\"dataframe\">\n",
       "  <thead>\n",
       "    <tr style=\"text-align: right;\">\n",
       "      <th></th>\n",
       "      <th>Country_Region</th>\n",
       "      <th>Date</th>\n",
       "      <th>Doses_admin</th>\n",
       "      <th>People_partially_vaccinated</th>\n",
       "      <th>People_fully_vaccinated</th>\n",
       "      <th>Report_Date_String</th>\n",
       "      <th>UID</th>\n",
       "      <th>Province_State</th>\n",
       "    </tr>\n",
       "  </thead>\n",
       "  <tbody>\n",
       "    <tr>\n",
       "      <th>0</th>\n",
       "      <td>Afghanistan</td>\n",
       "      <td>2021-02-22</td>\n",
       "      <td>0</td>\n",
       "      <td>0.0</td>\n",
       "      <td>0.0</td>\n",
       "      <td>2021-02-22</td>\n",
       "      <td>4.0</td>\n",
       "      <td>NaN</td>\n",
       "    </tr>\n",
       "    <tr>\n",
       "      <th>1</th>\n",
       "      <td>Afghanistan</td>\n",
       "      <td>2021-02-23</td>\n",
       "      <td>0</td>\n",
       "      <td>0.0</td>\n",
       "      <td>0.0</td>\n",
       "      <td>2021-02-23</td>\n",
       "      <td>4.0</td>\n",
       "      <td>NaN</td>\n",
       "    </tr>\n",
       "    <tr>\n",
       "      <th>2</th>\n",
       "      <td>Afghanistan</td>\n",
       "      <td>2021-02-24</td>\n",
       "      <td>0</td>\n",
       "      <td>0.0</td>\n",
       "      <td>0.0</td>\n",
       "      <td>2021-02-24</td>\n",
       "      <td>4.0</td>\n",
       "      <td>NaN</td>\n",
       "    </tr>\n",
       "    <tr>\n",
       "      <th>3</th>\n",
       "      <td>Afghanistan</td>\n",
       "      <td>2021-02-25</td>\n",
       "      <td>0</td>\n",
       "      <td>0.0</td>\n",
       "      <td>0.0</td>\n",
       "      <td>2021-02-25</td>\n",
       "      <td>4.0</td>\n",
       "      <td>NaN</td>\n",
       "    </tr>\n",
       "    <tr>\n",
       "      <th>4</th>\n",
       "      <td>Afghanistan</td>\n",
       "      <td>2021-02-26</td>\n",
       "      <td>0</td>\n",
       "      <td>0.0</td>\n",
       "      <td>0.0</td>\n",
       "      <td>2021-02-26</td>\n",
       "      <td>4.0</td>\n",
       "      <td>NaN</td>\n",
       "    </tr>\n",
       "    <tr>\n",
       "      <th>...</th>\n",
       "      <td>...</td>\n",
       "      <td>...</td>\n",
       "      <td>...</td>\n",
       "      <td>...</td>\n",
       "      <td>...</td>\n",
       "      <td>...</td>\n",
       "      <td>...</td>\n",
       "      <td>...</td>\n",
       "    </tr>\n",
       "    <tr>\n",
       "      <th>197387</th>\n",
       "      <td>Zimbabwe</td>\n",
       "      <td>2022-04-03</td>\n",
       "      <td>7684182</td>\n",
       "      <td>5517779.0</td>\n",
       "      <td>3561400.0</td>\n",
       "      <td>2022-04-04</td>\n",
       "      <td>716.0</td>\n",
       "      <td>NaN</td>\n",
       "    </tr>\n",
       "    <tr>\n",
       "      <th>197388</th>\n",
       "      <td>Zimbabwe</td>\n",
       "      <td>2022-04-04</td>\n",
       "      <td>7684182</td>\n",
       "      <td>5517779.0</td>\n",
       "      <td>3561400.0</td>\n",
       "      <td>2022-04-05</td>\n",
       "      <td>716.0</td>\n",
       "      <td>NaN</td>\n",
       "    </tr>\n",
       "    <tr>\n",
       "      <th>197389</th>\n",
       "      <td>Zimbabwe</td>\n",
       "      <td>2022-04-05</td>\n",
       "      <td>9694465</td>\n",
       "      <td>5562437.0</td>\n",
       "      <td>3570255.0</td>\n",
       "      <td>2022-04-06</td>\n",
       "      <td>716.0</td>\n",
       "      <td>NaN</td>\n",
       "    </tr>\n",
       "    <tr>\n",
       "      <th>197390</th>\n",
       "      <td>Zimbabwe</td>\n",
       "      <td>2022-04-06</td>\n",
       "      <td>9807529</td>\n",
       "      <td>5589007.0</td>\n",
       "      <td>3572995.0</td>\n",
       "      <td>2022-04-07</td>\n",
       "      <td>716.0</td>\n",
       "      <td>NaN</td>\n",
       "    </tr>\n",
       "    <tr>\n",
       "      <th>197391</th>\n",
       "      <td>Zimbabwe</td>\n",
       "      <td>2022-04-07</td>\n",
       "      <td>9884783</td>\n",
       "      <td>5628591.0</td>\n",
       "      <td>3581021.0</td>\n",
       "      <td>2022-04-08</td>\n",
       "      <td>716.0</td>\n",
       "      <td>NaN</td>\n",
       "    </tr>\n",
       "  </tbody>\n",
       "</table>\n",
       "<p>197392 rows × 8 columns</p>\n",
       "</div>"
      ],
      "text/plain": [
       "       Country_Region        Date  Doses_admin  People_partially_vaccinated  \\\n",
       "0         Afghanistan  2021-02-22            0                          0.0   \n",
       "1         Afghanistan  2021-02-23            0                          0.0   \n",
       "2         Afghanistan  2021-02-24            0                          0.0   \n",
       "3         Afghanistan  2021-02-25            0                          0.0   \n",
       "4         Afghanistan  2021-02-26            0                          0.0   \n",
       "...               ...         ...          ...                          ...   \n",
       "197387       Zimbabwe  2022-04-03      7684182                    5517779.0   \n",
       "197388       Zimbabwe  2022-04-04      7684182                    5517779.0   \n",
       "197389       Zimbabwe  2022-04-05      9694465                    5562437.0   \n",
       "197390       Zimbabwe  2022-04-06      9807529                    5589007.0   \n",
       "197391       Zimbabwe  2022-04-07      9884783                    5628591.0   \n",
       "\n",
       "        People_fully_vaccinated Report_Date_String    UID Province_State  \n",
       "0                           0.0         2021-02-22    4.0            NaN  \n",
       "1                           0.0         2021-02-23    4.0            NaN  \n",
       "2                           0.0         2021-02-24    4.0            NaN  \n",
       "3                           0.0         2021-02-25    4.0            NaN  \n",
       "4                           0.0         2021-02-26    4.0            NaN  \n",
       "...                         ...                ...    ...            ...  \n",
       "197387                3561400.0         2022-04-04  716.0            NaN  \n",
       "197388                3561400.0         2022-04-05  716.0            NaN  \n",
       "197389                3570255.0         2022-04-06  716.0            NaN  \n",
       "197390                3572995.0         2022-04-07  716.0            NaN  \n",
       "197391                3581021.0         2022-04-08  716.0            NaN  \n",
       "\n",
       "[197392 rows x 8 columns]"
      ]
     },
     "execution_count": 5,
     "metadata": {},
     "output_type": "execute_result"
    }
   ],
   "source": [
    "vacs = pd.read_csv(os.path.join('data', 'covid_vaccinations_updated.csv'))\n",
    "vacs"
   ]
  },
  {
   "cell_type": "markdown",
   "metadata": {},
   "source": [
    "<a name='part1'></a>\n",
    "\n",
    "## Part 1: Global Vaccination Rates 🌎\n",
    "\n",
    "One question we might hope to answer with this data is, **which countries have the highest vaccination rates?** Unfortunately, the messiness of real-world data means that answering even this simple question requires a bit of cleaning and organization. We'll do this cleaning and organization in the next few questions.\n",
    "\n",
    "First, we need to find the total number of vaccinated individuals in each country/region. To do this, we have to understand what the values in the `'Doses_admin'` column mean. Are they the number of doses administered on *that day*? Or are they the *cumulative* number of doses administered? This can be answered with a plot."
   ]
  },
  {
   "cell_type": "code",
   "execution_count": 6,
   "metadata": {
    "scrolled": false
   },
   "outputs": [
    {
     "data": {
      "image/png": "[encoded data removed]",
      "text/plain": [
       "<Figure size 800x500 with 1 Axes>"
      ]
     },
     "metadata": {},
     "output_type": "display_data"
    }
   ],
   "source": [
    "vacs[vacs['Country_Region'] == 'US'].plot(x='Date', y='Doses_admin')\n",
    "plt.title('Doses_admin in the US')\n",
    "plt.xticks(rotation=45);"
   ]
  },
  {
   "cell_type": "markdown",
   "metadata": {},
   "source": [
    "Since the curve is always increasing, this plot suggests that the `'Doses_admin'` column contains the *cumulative* number of doses administered, and this is indeed what the column is *supposed* to be. However, you shouldn't *assume* that the reported vaccination rates are actually cumulative. For example, let's look at the plot for Afghanistan:"
   ]
  },
  {
   "cell_type": "code",
   "execution_count": 7,
   "metadata": {},
   "outputs": [
    {
     "data": {
      "image/png": "[encoded data removed]",
      "text/plain": [
       "<Figure size 800x500 with 1 Axes>"
      ]
     },
     "metadata": {},
     "output_type": "display_data"
    }
   ],
   "source": [
    "vacs[vacs['Country_Region'] == 'Afghanistan'].plot(x='Date', y='Doses_admin')\n",
    "plt.title('Doses_admin in Afghanistan')\n",
    "plt.xticks(rotation=45);"
   ]
  },
  {
   "cell_type": "markdown",
   "metadata": {},
   "source": [
    "Notice the dips in the graph? Unless there were *negative* doses administered (which would be awkward), we must conclude that the data is messy - there will be instances where, either due to errors in reporting or in recording, the cumulative number of doses actually *decreases* from one day to the next."
   ]
  },
  {
   "cell_type": "markdown",
   "metadata": {},
   "source": [
    "### Question 1 (Checkpoint Question)\n",
    "\n",
    "Let's explore whether the messiness seen above is common.\n",
    "\n",
    "#### `is_monotonic`\n",
    "\n",
    "Create a function named `is_monotonic` which accepts a 1D `numpy` array and returns `True` if every entry in the array (except the first) is greater than or equal to the previous entry, and `False` otherwise.\n",
    "\n",
    "***Hint***: There's a `numpy` function for computing the difference between consecutive elements of an array.\n",
    "\n",
    "<br>\n",
    "\n",
    "#### `monotonic_by_country`\n",
    "\n",
    "Create a function named `monotonic_by_country` which accepts a DataFrame like `vacs` and returns a DataFrame with one row for each country and three `bool` columns – `'Doses_admin_monotonic'`, `'People_partially_vaccinated_monotonic'`, and `'People_fully_vaccinated_monotonic'`. An entry in the `'Doses_admin'` column should be `True` if the country's `'Doses_admin'` is monotonically increasing and `False` otherwise; likewise for the other columns. The index of the returned DataFrame should contain country names.\n",
    "\n",
    "***Note:*** No looping is allowed, but `groupby` is your friend. Use the `is_monotonic` function, along with the assumption that the input DataFrame `vacs` is already sorted by date."
   ]
  },
  {
   "cell_type": "code",
   "execution_count": 35,
   "metadata": {},
   "outputs": [
    {
     "data": {
      "text/plain": [
       "True"
      ]
     },
     "execution_count": 35,
     "metadata": {},
     "output_type": "execute_result"
    }
   ],
   "source": [
    "monotonic(vacs[vacs['Country_Region'] == 'Albania']['People_fully_vaccinated'].values)"
   ]
  },
  {
   "cell_type": "code",
   "execution_count": 38,
   "metadata": {
    "scrolled": true
   },
   "outputs": [
    {
     "data": {
      "text/html": [
       "<div>\n",
       "<style scoped>\n",
       "    .dataframe tbody tr th:only-of-type {\n",
       "        vertical-align: middle;\n",
       "    }\n",
       "\n",
       "    .dataframe tbody tr th {\n",
       "        vertical-align: top;\n",
       "    }\n",
       "\n",
       "    .dataframe thead th {\n",
       "        text-align: right;\n",
       "    }\n",
       "</style>\n",
       "<table border=\"1\" class=\"dataframe\">\n",
       "  <thead>\n",
       "    <tr style=\"text-align: right;\">\n",
       "      <th></th>\n",
       "      <th>Doses_admin_monotonic</th>\n",
       "      <th>People_partially_vaccinated_monotonic</th>\n",
       "      <th>People_fully_vaccinated_monotonic</th>\n",
       "    </tr>\n",
       "    <tr>\n",
       "      <th>Country_Region</th>\n",
       "      <th></th>\n",
       "      <th></th>\n",
       "      <th></th>\n",
       "    </tr>\n",
       "  </thead>\n",
       "  <tbody>\n",
       "    <tr>\n",
       "      <th>Afghanistan</th>\n",
       "      <td>False</td>\n",
       "      <td>False</td>\n",
       "      <td>True</td>\n",
       "    </tr>\n",
       "    <tr>\n",
       "      <th>Albania</th>\n",
       "      <td>True</td>\n",
       "      <td>False</td>\n",
       "      <td>True</td>\n",
       "    </tr>\n",
       "    <tr>\n",
       "      <th>Algeria</th>\n",
       "      <td>False</td>\n",
       "      <td>False</td>\n",
       "      <td>False</td>\n",
       "    </tr>\n",
       "    <tr>\n",
       "      <th>Andorra</th>\n",
       "      <td>True</td>\n",
       "      <td>True</td>\n",
       "      <td>True</td>\n",
       "    </tr>\n",
       "    <tr>\n",
       "      <th>Angola</th>\n",
       "      <td>True</td>\n",
       "      <td>False</td>\n",
       "      <td>True</td>\n",
       "    </tr>\n",
       "    <tr>\n",
       "      <th>...</th>\n",
       "      <td>...</td>\n",
       "      <td>...</td>\n",
       "      <td>...</td>\n",
       "    </tr>\n",
       "    <tr>\n",
       "      <th>West Bank and Gaza</th>\n",
       "      <td>True</td>\n",
       "      <td>False</td>\n",
       "      <td>False</td>\n",
       "    </tr>\n",
       "    <tr>\n",
       "      <th>World</th>\n",
       "      <td>False</td>\n",
       "      <td>False</td>\n",
       "      <td>False</td>\n",
       "    </tr>\n",
       "    <tr>\n",
       "      <th>Yemen</th>\n",
       "      <td>False</td>\n",
       "      <td>False</td>\n",
       "      <td>False</td>\n",
       "    </tr>\n",
       "    <tr>\n",
       "      <th>Zambia</th>\n",
       "      <td>False</td>\n",
       "      <td>False</td>\n",
       "      <td>False</td>\n",
       "    </tr>\n",
       "    <tr>\n",
       "      <th>Zimbabwe</th>\n",
       "      <td>True</td>\n",
       "      <td>True</td>\n",
       "      <td>True</td>\n",
       "    </tr>\n",
       "  </tbody>\n",
       "</table>\n",
       "<p>192 rows × 3 columns</p>\n",
       "</div>"
      ],
      "text/plain": [
       "                    Doses_admin_monotonic  \\\n",
       "Country_Region                              \n",
       "Afghanistan                         False   \n",
       "Albania                              True   \n",
       "Algeria                             False   \n",
       "Andorra                              True   \n",
       "Angola                               True   \n",
       "...                                   ...   \n",
       "West Bank and Gaza                   True   \n",
       "World                               False   \n",
       "Yemen                               False   \n",
       "Zambia                              False   \n",
       "Zimbabwe                             True   \n",
       "\n",
       "                    People_partially_vaccinated_monotonic  \\\n",
       "Country_Region                                              \n",
       "Afghanistan                                         False   \n",
       "Albania                                             False   \n",
       "Algeria                                             False   \n",
       "Andorra                                              True   \n",
       "Angola                                              False   \n",
       "...                                                   ...   \n",
       "West Bank and Gaza                                  False   \n",
       "World                                               False   \n",
       "Yemen                                               False   \n",
       "Zambia                                              False   \n",
       "Zimbabwe                                             True   \n",
       "\n",
       "                    People_fully_vaccinated_monotonic  \n",
       "Country_Region                                         \n",
       "Afghanistan                                      True  \n",
       "Albania                                          True  \n",
       "Algeria                                         False  \n",
       "Andorra                                          True  \n",
       "Angola                                           True  \n",
       "...                                               ...  \n",
       "West Bank and Gaza                              False  \n",
       "World                                           False  \n",
       "Yemen                                           False  \n",
       "Zambia                                          False  \n",
       "Zimbabwe                                         True  \n",
       "\n",
       "[192 rows x 3 columns]"
      ]
     },
     "execution_count": 38,
     "metadata": {},
     "output_type": "execute_result"
    }
   ],
   "source": [
    "monotonic_df = vacs.groupby('Country_Region')[['Doses_admin', 'People_partially_vaccinated','People_fully_vaccinated']].agg(monotonic)\n",
    "monotonic_df = monotonic_df.rename(columns = {'Doses_admin':'Doses_admin_monotonic', 'People_partially_vaccinated':'People_partially_vaccinated_monotonic','People_fully_vaccinated':'People_fully_vaccinated_monotonic'})\n",
    "monotonic_df"
   ]
  },
  {
   "cell_type": "code",
   "execution_count": 15,
   "metadata": {
    "tags": []
   },
   "outputs": [],
   "source": [
    "def monotonic(arr):\n",
    "    diffs = np.diff(arr)\n",
    "    return (diffs >= 0).sum() == (len(arr) - 1)"
   ]
  },
  {
   "cell_type": "code",
   "execution_count": 22,
   "metadata": {
    "tags": []
   },
   "outputs": [
    {
     "data": {
      "text/plain": [
       "True"
      ]
     },
     "execution_count": 22,
     "metadata": {},
     "output_type": "execute_result"
    }
   ],
   "source": [
    "monotonic(np.array([1,2,3,4,5]))"
   ]
  },
  {
   "cell_type": "code",
   "execution_count": 135,
   "metadata": {},
   "outputs": [
    {
     "data": {
      "text/html": [
       "<div>\n",
       "<style scoped>\n",
       "    .dataframe tbody tr th:only-of-type {\n",
       "        vertical-align: middle;\n",
       "    }\n",
       "\n",
       "    .dataframe tbody tr th {\n",
       "        vertical-align: top;\n",
       "    }\n",
       "\n",
       "    .dataframe thead th {\n",
       "        text-align: right;\n",
       "    }\n",
       "</style>\n",
       "<table border=\"1\" class=\"dataframe\">\n",
       "  <thead>\n",
       "    <tr style=\"text-align: right;\">\n",
       "      <th></th>\n",
       "      <th>Doses_admin_monotonic</th>\n",
       "      <th>People_partially_vaccinated_monotonic</th>\n",
       "      <th>People_fully_vaccinated_monotonic</th>\n",
       "    </tr>\n",
       "    <tr>\n",
       "      <th>Country_Region</th>\n",
       "      <th></th>\n",
       "      <th></th>\n",
       "      <th></th>\n",
       "    </tr>\n",
       "  </thead>\n",
       "  <tbody>\n",
       "    <tr>\n",
       "      <th>Afghanistan</th>\n",
       "      <td>False</td>\n",
       "      <td>False</td>\n",
       "      <td>True</td>\n",
       "    </tr>\n",
       "    <tr>\n",
       "      <th>Albania</th>\n",
       "      <td>True</td>\n",
       "      <td>False</td>\n",
       "      <td>True</td>\n",
       "    </tr>\n",
       "    <tr>\n",
       "      <th>Algeria</th>\n",
       "      <td>False</td>\n",
       "      <td>False</td>\n",
       "      <td>False</td>\n",
       "    </tr>\n",
       "    <tr>\n",
       "      <th>Andorra</th>\n",
       "      <td>True</td>\n",
       "      <td>True</td>\n",
       "      <td>True</td>\n",
       "    </tr>\n",
       "    <tr>\n",
       "      <th>Angola</th>\n",
       "      <td>True</td>\n",
       "      <td>False</td>\n",
       "      <td>True</td>\n",
       "    </tr>\n",
       "    <tr>\n",
       "      <th>...</th>\n",
       "      <td>...</td>\n",
       "      <td>...</td>\n",
       "      <td>...</td>\n",
       "    </tr>\n",
       "    <tr>\n",
       "      <th>West Bank and Gaza</th>\n",
       "      <td>True</td>\n",
       "      <td>False</td>\n",
       "      <td>False</td>\n",
       "    </tr>\n",
       "    <tr>\n",
       "      <th>World</th>\n",
       "      <td>False</td>\n",
       "      <td>False</td>\n",
       "      <td>False</td>\n",
       "    </tr>\n",
       "    <tr>\n",
       "      <th>Yemen</th>\n",
       "      <td>False</td>\n",
       "      <td>False</td>\n",
       "      <td>False</td>\n",
       "    </tr>\n",
       "    <tr>\n",
       "      <th>Zambia</th>\n",
       "      <td>False</td>\n",
       "      <td>False</td>\n",
       "      <td>False</td>\n",
       "    </tr>\n",
       "    <tr>\n",
       "      <th>Zimbabwe</th>\n",
       "      <td>True</td>\n",
       "      <td>True</td>\n",
       "      <td>True</td>\n",
       "    </tr>\n",
       "  </tbody>\n",
       "</table>\n",
       "<p>192 rows × 3 columns</p>\n",
       "</div>"
      ],
      "text/plain": [
       "                    Doses_admin_monotonic  \\\n",
       "Country_Region                              \n",
       "Afghanistan                         False   \n",
       "Albania                              True   \n",
       "Algeria                             False   \n",
       "Andorra                              True   \n",
       "Angola                               True   \n",
       "...                                   ...   \n",
       "West Bank and Gaza                   True   \n",
       "World                               False   \n",
       "Yemen                               False   \n",
       "Zambia                              False   \n",
       "Zimbabwe                             True   \n",
       "\n",
       "                    People_partially_vaccinated_monotonic  \\\n",
       "Country_Region                                              \n",
       "Afghanistan                                         False   \n",
       "Albania                                             False   \n",
       "Algeria                                             False   \n",
       "Andorra                                              True   \n",
       "Angola                                              False   \n",
       "...                                                   ...   \n",
       "West Bank and Gaza                                  False   \n",
       "World                                               False   \n",
       "Yemen                                               False   \n",
       "Zambia                                              False   \n",
       "Zimbabwe                                             True   \n",
       "\n",
       "                    People_fully_vaccinated_monotonic  \n",
       "Country_Region                                         \n",
       "Afghanistan                                      True  \n",
       "Albania                                          True  \n",
       "Algeria                                         False  \n",
       "Andorra                                          True  \n",
       "Angola                                           True  \n",
       "...                                               ...  \n",
       "West Bank and Gaza                              False  \n",
       "World                                           False  \n",
       "Yemen                                           False  \n",
       "Zambia                                          False  \n",
       "Zimbabwe                                         True  \n",
       "\n",
       "[192 rows x 3 columns]"
      ]
     },
     "execution_count": 135,
     "metadata": {},
     "output_type": "execute_result"
    }
   ],
   "source": [
    "# run this to see the result, and don't change this cell -- it is used by the tests\n",
    "mono = monotonic_by_country(vacs)\n",
    "mono"
   ]
  },
  {
   "cell_type": "code",
   "execution_count": 136,
   "metadata": {
    "deletable": false,
    "editable": false
   },
   "outputs": [
    {
     "data": {
      "text/html": [
       "<p><strong><pre style='display: inline;'>q1</pre></strong> passed!</p>"
      ],
      "text/plain": [
       "q1 results: All test cases passed!"
      ]
     },
     "execution_count": 136,
     "metadata": {},
     "output_type": "execute_result"
    }
   ],
   "source": [
    "grader.check(\"q1\")"
   ]
  },
  {
   "cell_type": "markdown",
   "metadata": {},
   "source": [
    "If you've completed Question 1 correctly, you should see that it is not rare for the data to violate the monotonicity assumption. We'll have to take this into account when doing our data analysis."
   ]
  },
  {
   "cell_type": "markdown",
   "metadata": {},
   "source": [
    "### Question 2 (Checkpoint Question)\n",
    "\n",
    "We'd like to get the total number of doses administered, people partially vaccinated, and people fully vaccinated for each country. If the data were truly monotonic, we could simply group by country and find the maximum within each group and within each column – this would be the overall cumulative total. However, if the data has errors that make it not monotonically increasing, there could be a noisy \"spike\" in the graph, so that the maximum may be an unfaithful measure of the total number of doses. Instead of the maximum, we should use something more robust, such as **the 97th percentile**.\n",
    "\n",
    "Create a function named `robust_totals` that accepts a DataFrame like `vacs` and returns a DataFrame with one row for each country and three columns – `'Doses_admin'`, `'People_partially_vaccinated'`, and `'People_fully_vaccinated'`. The `'Doses_admin'` column should contain the 97th percentile of the `'Doses_admin'` values for each country; likewise for the other columns. The index of the returned DataFrame should contain country names."
   ]
  },
  {
   "cell_type": "code",
   "execution_count": 45,
   "metadata": {},
   "outputs": [],
   "source": [
    "def percentile_97(arr):\n",
    "    return np.percentile(arr,97)\n",
    "    "
   ]
  },
  {
   "cell_type": "code",
   "execution_count": 48,
   "metadata": {},
   "outputs": [
    {
     "data": {
      "text/plain": [
       "5852810.0"
      ]
     },
     "execution_count": 48,
     "metadata": {},
     "output_type": "execute_result"
    }
   ],
   "source": [
    "percentile_97(vacs[vacs['Country_Region'] == 'Afghanistan']['Doses_admin'].values)"
   ]
  },
  {
   "cell_type": "code",
   "execution_count": 46,
   "metadata": {
    "scrolled": false,
    "tags": []
   },
   "outputs": [
    {
     "data": {
      "text/html": [
       "<div>\n",
       "<style scoped>\n",
       "    .dataframe tbody tr th:only-of-type {\n",
       "        vertical-align: middle;\n",
       "    }\n",
       "\n",
       "    .dataframe tbody tr th {\n",
       "        vertical-align: top;\n",
       "    }\n",
       "\n",
       "    .dataframe thead th {\n",
       "        text-align: right;\n",
       "    }\n",
       "</style>\n",
       "<table border=\"1\" class=\"dataframe\">\n",
       "  <thead>\n",
       "    <tr style=\"text-align: right;\">\n",
       "      <th></th>\n",
       "      <th>Doses_admin</th>\n",
       "      <th>People_partially_vaccinated</th>\n",
       "      <th>People_fully_vaccinated</th>\n",
       "    </tr>\n",
       "    <tr>\n",
       "      <th>Country_Region</th>\n",
       "      <th></th>\n",
       "      <th></th>\n",
       "      <th></th>\n",
       "    </tr>\n",
       "  </thead>\n",
       "  <tbody>\n",
       "    <tr>\n",
       "      <th>Afghanistan</th>\n",
       "      <td>5.852810e+06</td>\n",
       "      <td>5.070937e+06</td>\n",
       "      <td>4.407528e+06</td>\n",
       "    </tr>\n",
       "    <tr>\n",
       "      <th>Albania</th>\n",
       "      <td>2.743218e+06</td>\n",
       "      <td>1.275907e+06</td>\n",
       "      <td>1.209791e+06</td>\n",
       "    </tr>\n",
       "    <tr>\n",
       "      <th>Algeria</th>\n",
       "      <td>1.408292e+07</td>\n",
       "      <td>7.461932e+06</td>\n",
       "      <td>6.110712e+06</td>\n",
       "    </tr>\n",
       "    <tr>\n",
       "      <th>Andorra</th>\n",
       "      <td>1.512840e+05</td>\n",
       "      <td>5.780500e+04</td>\n",
       "      <td>5.330100e+04</td>\n",
       "    </tr>\n",
       "    <tr>\n",
       "      <th>Angola</th>\n",
       "      <td>1.550539e+07</td>\n",
       "      <td>1.115278e+07</td>\n",
       "      <td>5.935958e+06</td>\n",
       "    </tr>\n",
       "    <tr>\n",
       "      <th>...</th>\n",
       "      <td>...</td>\n",
       "      <td>...</td>\n",
       "      <td>...</td>\n",
       "    </tr>\n",
       "    <tr>\n",
       "      <th>West Bank and Gaza</th>\n",
       "      <td>3.694897e+06</td>\n",
       "      <td>NaN</td>\n",
       "      <td>NaN</td>\n",
       "    </tr>\n",
       "    <tr>\n",
       "      <th>World</th>\n",
       "      <td>1.084889e+10</td>\n",
       "      <td>4.848556e+09</td>\n",
       "      <td>4.343345e+09</td>\n",
       "    </tr>\n",
       "    <tr>\n",
       "      <th>Yemen</th>\n",
       "      <td>8.075020e+05</td>\n",
       "      <td>6.435010e+05</td>\n",
       "      <td>4.047810e+05</td>\n",
       "    </tr>\n",
       "    <tr>\n",
       "      <th>Zambia</th>\n",
       "      <td>2.635418e+06</td>\n",
       "      <td>2.829929e+06</td>\n",
       "      <td>2.158357e+06</td>\n",
       "    </tr>\n",
       "    <tr>\n",
       "      <th>Zimbabwe</th>\n",
       "      <td>7.684182e+06</td>\n",
       "      <td>4.860444e+06</td>\n",
       "      <td>3.482764e+06</td>\n",
       "    </tr>\n",
       "  </tbody>\n",
       "</table>\n",
       "<p>192 rows × 3 columns</p>\n",
       "</div>"
      ],
      "text/plain": [
       "                     Doses_admin  People_partially_vaccinated  \\\n",
       "Country_Region                                                  \n",
       "Afghanistan         5.852810e+06                 5.070937e+06   \n",
       "Albania             2.743218e+06                 1.275907e+06   \n",
       "Algeria             1.408292e+07                 7.461932e+06   \n",
       "Andorra             1.512840e+05                 5.780500e+04   \n",
       "Angola              1.550539e+07                 1.115278e+07   \n",
       "...                          ...                          ...   \n",
       "West Bank and Gaza  3.694897e+06                          NaN   \n",
       "World               1.084889e+10                 4.848556e+09   \n",
       "Yemen               8.075020e+05                 6.435010e+05   \n",
       "Zambia              2.635418e+06                 2.829929e+06   \n",
       "Zimbabwe            7.684182e+06                 4.860444e+06   \n",
       "\n",
       "                    People_fully_vaccinated  \n",
       "Country_Region                               \n",
       "Afghanistan                    4.407528e+06  \n",
       "Albania                        1.209791e+06  \n",
       "Algeria                        6.110712e+06  \n",
       "Andorra                        5.330100e+04  \n",
       "Angola                         5.935958e+06  \n",
       "...                                     ...  \n",
       "West Bank and Gaza                      NaN  \n",
       "World                          4.343345e+09  \n",
       "Yemen                          4.047810e+05  \n",
       "Zambia                         2.158357e+06  \n",
       "Zimbabwe                       3.482764e+06  \n",
       "\n",
       "[192 rows x 3 columns]"
      ]
     },
     "execution_count": 46,
     "metadata": {},
     "output_type": "execute_result"
    }
   ],
   "source": [
    "df_97 = vacs.groupby('Country_Region')[['Doses_admin', 'People_partially_vaccinated','People_fully_vaccinated']].agg(percentile_97)\n",
    "df_97"
   ]
  },
  {
   "cell_type": "code",
   "execution_count": 49,
   "metadata": {},
   "outputs": [
    {
     "data": {
      "text/html": [
       "<div>\n",
       "<style scoped>\n",
       "    .dataframe tbody tr th:only-of-type {\n",
       "        vertical-align: middle;\n",
       "    }\n",
       "\n",
       "    .dataframe tbody tr th {\n",
       "        vertical-align: top;\n",
       "    }\n",
       "\n",
       "    .dataframe thead th {\n",
       "        text-align: right;\n",
       "    }\n",
       "</style>\n",
       "<table border=\"1\" class=\"dataframe\">\n",
       "  <thead>\n",
       "    <tr style=\"text-align: right;\">\n",
       "      <th></th>\n",
       "      <th>Doses_admin</th>\n",
       "      <th>People_partially_vaccinated</th>\n",
       "      <th>People_fully_vaccinated</th>\n",
       "    </tr>\n",
       "    <tr>\n",
       "      <th>Country_Region</th>\n",
       "      <th></th>\n",
       "      <th></th>\n",
       "      <th></th>\n",
       "    </tr>\n",
       "  </thead>\n",
       "  <tbody>\n",
       "    <tr>\n",
       "      <th>Afghanistan</th>\n",
       "      <td>5.852810e+06</td>\n",
       "      <td>5.070937e+06</td>\n",
       "      <td>4.407528e+06</td>\n",
       "    </tr>\n",
       "    <tr>\n",
       "      <th>Albania</th>\n",
       "      <td>2.743218e+06</td>\n",
       "      <td>1.275907e+06</td>\n",
       "      <td>1.209791e+06</td>\n",
       "    </tr>\n",
       "    <tr>\n",
       "      <th>Algeria</th>\n",
       "      <td>1.408292e+07</td>\n",
       "      <td>7.461932e+06</td>\n",
       "      <td>6.110712e+06</td>\n",
       "    </tr>\n",
       "    <tr>\n",
       "      <th>Andorra</th>\n",
       "      <td>1.512840e+05</td>\n",
       "      <td>5.780500e+04</td>\n",
       "      <td>5.330100e+04</td>\n",
       "    </tr>\n",
       "    <tr>\n",
       "      <th>Angola</th>\n",
       "      <td>1.550539e+07</td>\n",
       "      <td>1.115278e+07</td>\n",
       "      <td>5.935958e+06</td>\n",
       "    </tr>\n",
       "    <tr>\n",
       "      <th>...</th>\n",
       "      <td>...</td>\n",
       "      <td>...</td>\n",
       "      <td>...</td>\n",
       "    </tr>\n",
       "    <tr>\n",
       "      <th>West Bank and Gaza</th>\n",
       "      <td>3.694897e+06</td>\n",
       "      <td>NaN</td>\n",
       "      <td>NaN</td>\n",
       "    </tr>\n",
       "    <tr>\n",
       "      <th>World</th>\n",
       "      <td>1.084889e+10</td>\n",
       "      <td>4.848556e+09</td>\n",
       "      <td>4.343345e+09</td>\n",
       "    </tr>\n",
       "    <tr>\n",
       "      <th>Yemen</th>\n",
       "      <td>8.075020e+05</td>\n",
       "      <td>6.435010e+05</td>\n",
       "      <td>4.047810e+05</td>\n",
       "    </tr>\n",
       "    <tr>\n",
       "      <th>Zambia</th>\n",
       "      <td>2.635418e+06</td>\n",
       "      <td>2.829929e+06</td>\n",
       "      <td>2.158357e+06</td>\n",
       "    </tr>\n",
       "    <tr>\n",
       "      <th>Zimbabwe</th>\n",
       "      <td>7.684182e+06</td>\n",
       "      <td>4.860444e+06</td>\n",
       "      <td>3.482764e+06</td>\n",
       "    </tr>\n",
       "  </tbody>\n",
       "</table>\n",
       "<p>192 rows × 3 columns</p>\n",
       "</div>"
      ],
      "text/plain": [
       "                     Doses_admin  People_partially_vaccinated  \\\n",
       "Country_Region                                                  \n",
       "Afghanistan         5.852810e+06                 5.070937e+06   \n",
       "Albania             2.743218e+06                 1.275907e+06   \n",
       "Algeria             1.408292e+07                 7.461932e+06   \n",
       "Andorra             1.512840e+05                 5.780500e+04   \n",
       "Angola              1.550539e+07                 1.115278e+07   \n",
       "...                          ...                          ...   \n",
       "West Bank and Gaza  3.694897e+06                          NaN   \n",
       "World               1.084889e+10                 4.848556e+09   \n",
       "Yemen               8.075020e+05                 6.435010e+05   \n",
       "Zambia              2.635418e+06                 2.829929e+06   \n",
       "Zimbabwe            7.684182e+06                 4.860444e+06   \n",
       "\n",
       "                    People_fully_vaccinated  \n",
       "Country_Region                               \n",
       "Afghanistan                    4.407528e+06  \n",
       "Albania                        1.209791e+06  \n",
       "Algeria                        6.110712e+06  \n",
       "Andorra                        5.330100e+04  \n",
       "Angola                         5.935958e+06  \n",
       "...                                     ...  \n",
       "West Bank and Gaza                      NaN  \n",
       "World                          4.343345e+09  \n",
       "Yemen                          4.047810e+05  \n",
       "Zambia                         2.158357e+06  \n",
       "Zimbabwe                       3.482764e+06  \n",
       "\n",
       "[192 rows x 3 columns]"
      ]
     },
     "execution_count": 49,
     "metadata": {},
     "output_type": "execute_result"
    }
   ],
   "source": [
    "robust_totals(vacs)"
   ]
  },
  {
   "cell_type": "code",
   "execution_count": null,
   "metadata": {
    "tags": []
   },
   "outputs": [],
   "source": []
  },
  {
   "cell_type": "code",
   "execution_count": 149,
   "metadata": {},
   "outputs": [
    {
     "data": {
      "text/html": [
       "<div>\n",
       "<style scoped>\n",
       "    .dataframe tbody tr th:only-of-type {\n",
       "        vertical-align: middle;\n",
       "    }\n",
       "\n",
       "    .dataframe tbody tr th {\n",
       "        vertical-align: top;\n",
       "    }\n",
       "\n",
       "    .dataframe thead th {\n",
       "        text-align: right;\n",
       "    }\n",
       "</style>\n",
       "<table border=\"1\" class=\"dataframe\">\n",
       "  <thead>\n",
       "    <tr style=\"text-align: right;\">\n",
       "      <th></th>\n",
       "      <th>Doses_admin</th>\n",
       "      <th>People_partially_vaccinated</th>\n",
       "      <th>People_fully_vaccinated</th>\n",
       "    </tr>\n",
       "    <tr>\n",
       "      <th>Country_Region</th>\n",
       "      <th></th>\n",
       "      <th></th>\n",
       "      <th></th>\n",
       "    </tr>\n",
       "  </thead>\n",
       "  <tbody>\n",
       "    <tr>\n",
       "      <th>Afghanistan</th>\n",
       "      <td>5.852810e+06</td>\n",
       "      <td>5.070937e+06</td>\n",
       "      <td>4.407528e+06</td>\n",
       "    </tr>\n",
       "    <tr>\n",
       "      <th>Albania</th>\n",
       "      <td>2.743218e+06</td>\n",
       "      <td>1.275907e+06</td>\n",
       "      <td>1.209791e+06</td>\n",
       "    </tr>\n",
       "    <tr>\n",
       "      <th>Algeria</th>\n",
       "      <td>1.408292e+07</td>\n",
       "      <td>7.461932e+06</td>\n",
       "      <td>6.110712e+06</td>\n",
       "    </tr>\n",
       "    <tr>\n",
       "      <th>Andorra</th>\n",
       "      <td>1.512840e+05</td>\n",
       "      <td>5.780500e+04</td>\n",
       "      <td>5.330100e+04</td>\n",
       "    </tr>\n",
       "    <tr>\n",
       "      <th>Angola</th>\n",
       "      <td>1.550539e+07</td>\n",
       "      <td>1.115278e+07</td>\n",
       "      <td>5.935958e+06</td>\n",
       "    </tr>\n",
       "    <tr>\n",
       "      <th>...</th>\n",
       "      <td>...</td>\n",
       "      <td>...</td>\n",
       "      <td>...</td>\n",
       "    </tr>\n",
       "    <tr>\n",
       "      <th>West Bank and Gaza</th>\n",
       "      <td>3.694897e+06</td>\n",
       "      <td>NaN</td>\n",
       "      <td>NaN</td>\n",
       "    </tr>\n",
       "    <tr>\n",
       "      <th>World</th>\n",
       "      <td>1.084889e+10</td>\n",
       "      <td>4.848556e+09</td>\n",
       "      <td>4.343345e+09</td>\n",
       "    </tr>\n",
       "    <tr>\n",
       "      <th>Yemen</th>\n",
       "      <td>8.075020e+05</td>\n",
       "      <td>6.435010e+05</td>\n",
       "      <td>4.047810e+05</td>\n",
       "    </tr>\n",
       "    <tr>\n",
       "      <th>Zambia</th>\n",
       "      <td>2.635418e+06</td>\n",
       "      <td>2.829929e+06</td>\n",
       "      <td>2.158357e+06</td>\n",
       "    </tr>\n",
       "    <tr>\n",
       "      <th>Zimbabwe</th>\n",
       "      <td>7.684182e+06</td>\n",
       "      <td>4.860444e+06</td>\n",
       "      <td>3.482764e+06</td>\n",
       "    </tr>\n",
       "  </tbody>\n",
       "</table>\n",
       "<p>192 rows × 3 columns</p>\n",
       "</div>"
      ],
      "text/plain": [
       "                     Doses_admin  People_partially_vaccinated  \\\n",
       "Country_Region                                                  \n",
       "Afghanistan         5.852810e+06                 5.070937e+06   \n",
       "Albania             2.743218e+06                 1.275907e+06   \n",
       "Algeria             1.408292e+07                 7.461932e+06   \n",
       "Andorra             1.512840e+05                 5.780500e+04   \n",
       "Angola              1.550539e+07                 1.115278e+07   \n",
       "...                          ...                          ...   \n",
       "West Bank and Gaza  3.694897e+06                          NaN   \n",
       "World               1.084889e+10                 4.848556e+09   \n",
       "Yemen               8.075020e+05                 6.435010e+05   \n",
       "Zambia              2.635418e+06                 2.829929e+06   \n",
       "Zimbabwe            7.684182e+06                 4.860444e+06   \n",
       "\n",
       "                    People_fully_vaccinated  \n",
       "Country_Region                               \n",
       "Afghanistan                    4.407528e+06  \n",
       "Albania                        1.209791e+06  \n",
       "Algeria                        6.110712e+06  \n",
       "Andorra                        5.330100e+04  \n",
       "Angola                         5.935958e+06  \n",
       "...                                     ...  \n",
       "West Bank and Gaza                      NaN  \n",
       "World                          4.343345e+09  \n",
       "Yemen                          4.047810e+05  \n",
       "Zambia                         2.158357e+06  \n",
       "Zimbabwe                       3.482764e+06  \n",
       "\n",
       "[192 rows x 3 columns]"
      ]
     },
     "execution_count": 149,
     "metadata": {},
     "output_type": "execute_result"
    }
   ],
   "source": [
    "# run this to see the result, and don't change this cell -- it is used by the tests\n",
    "tots = robust_totals(vacs)\n",
    "tots"
   ]
  },
  {
   "cell_type": "code",
   "execution_count": 138,
   "metadata": {
    "deletable": false,
    "editable": false
   },
   "outputs": [
    {
     "data": {
      "text/html": [
       "<p><strong><pre style='display: inline;'>q2</pre></strong> passed!</p>"
      ],
      "text/plain": [
       "q2 results: All test cases passed!"
      ]
     },
     "execution_count": 138,
     "metadata": {},
     "output_type": "execute_result"
    }
   ],
   "source": [
    "grader.check(\"q2\")"
   ]
  },
  {
   "cell_type": "markdown",
   "metadata": {},
   "source": [
    "We'd like to compute for each country the number of people vaccinated as a percentage of the total population. To this end, we have downloaded a CSV file containing the population of every country in the world:"
   ]
  },
  {
   "cell_type": "code",
   "execution_count": 7,
   "metadata": {
    "scrolled": true
   },
   "outputs": [
    {
     "data": {
      "text/html": [
       "<div>\n",
       "<style scoped>\n",
       "    .dataframe tbody tr th:only-of-type {\n",
       "        vertical-align: middle;\n",
       "    }\n",
       "\n",
       "    .dataframe tbody tr th {\n",
       "        vertical-align: top;\n",
       "    }\n",
       "\n",
       "    .dataframe thead th {\n",
       "        text-align: right;\n",
       "    }\n",
       "</style>\n",
       "<table border=\"1\" class=\"dataframe\">\n",
       "  <thead>\n",
       "    <tr style=\"text-align: right;\">\n",
       "      <th></th>\n",
       "      <th>Country (or dependency)</th>\n",
       "      <th>Population (2020)</th>\n",
       "      <th>Yearly Change</th>\n",
       "      <th>Net Change</th>\n",
       "      <th>Density (P/Km²)</th>\n",
       "      <th>Land Area (Km²)</th>\n",
       "      <th>Migrants (net)</th>\n",
       "      <th>Fert. Rate</th>\n",
       "      <th>Med. Age</th>\n",
       "      <th>Urban Pop %</th>\n",
       "      <th>World Share</th>\n",
       "    </tr>\n",
       "  </thead>\n",
       "  <tbody>\n",
       "    <tr>\n",
       "      <th>0</th>\n",
       "      <td>China</td>\n",
       "      <td>1,440,297,825</td>\n",
       "      <td>0.39 %</td>\n",
       "      <td>5540090</td>\n",
       "      <td>153</td>\n",
       "      <td>9,388,211</td>\n",
       "      <td>-348,399.0</td>\n",
       "      <td>1.7</td>\n",
       "      <td>38</td>\n",
       "      <td>61 %</td>\n",
       "      <td>18.47 %</td>\n",
       "    </tr>\n",
       "    <tr>\n",
       "      <th>1</th>\n",
       "      <td>India</td>\n",
       "      <td>1,382,345,085</td>\n",
       "      <td>0.99 %</td>\n",
       "      <td>13586631</td>\n",
       "      <td>464</td>\n",
       "      <td>2,973,190</td>\n",
       "      <td>-532,687.0</td>\n",
       "      <td>2.2</td>\n",
       "      <td>28</td>\n",
       "      <td>35 %</td>\n",
       "      <td>17.70 %</td>\n",
       "    </tr>\n",
       "    <tr>\n",
       "      <th>2</th>\n",
       "      <td>United States</td>\n",
       "      <td>331,341,050</td>\n",
       "      <td>0.59 %</td>\n",
       "      <td>1937734</td>\n",
       "      <td>36</td>\n",
       "      <td>9,147,420</td>\n",
       "      <td>954,806.0</td>\n",
       "      <td>1.8</td>\n",
       "      <td>38</td>\n",
       "      <td>83 %</td>\n",
       "      <td>4.25 %</td>\n",
       "    </tr>\n",
       "    <tr>\n",
       "      <th>3</th>\n",
       "      <td>Indonesia</td>\n",
       "      <td>274,021,604</td>\n",
       "      <td>1.07 %</td>\n",
       "      <td>2898047</td>\n",
       "      <td>151</td>\n",
       "      <td>1,811,570</td>\n",
       "      <td>-98,955.0</td>\n",
       "      <td>2.3</td>\n",
       "      <td>30</td>\n",
       "      <td>56 %</td>\n",
       "      <td>3.51 %</td>\n",
       "    </tr>\n",
       "    <tr>\n",
       "      <th>4</th>\n",
       "      <td>Pakistan</td>\n",
       "      <td>221,612,785</td>\n",
       "      <td>2.00 %</td>\n",
       "      <td>4327022</td>\n",
       "      <td>287</td>\n",
       "      <td>770,880</td>\n",
       "      <td>-233,379.0</td>\n",
       "      <td>3.6</td>\n",
       "      <td>23</td>\n",
       "      <td>35 %</td>\n",
       "      <td>2.83 %</td>\n",
       "    </tr>\n",
       "    <tr>\n",
       "      <th>...</th>\n",
       "      <td>...</td>\n",
       "      <td>...</td>\n",
       "      <td>...</td>\n",
       "      <td>...</td>\n",
       "      <td>...</td>\n",
       "      <td>...</td>\n",
       "      <td>...</td>\n",
       "      <td>...</td>\n",
       "      <td>...</td>\n",
       "      <td>...</td>\n",
       "      <td>...</td>\n",
       "    </tr>\n",
       "    <tr>\n",
       "      <th>230</th>\n",
       "      <td>Montserrat</td>\n",
       "      <td>4,993</td>\n",
       "      <td>0.06 %</td>\n",
       "      <td>3</td>\n",
       "      <td>50</td>\n",
       "      <td>100</td>\n",
       "      <td>NaN</td>\n",
       "      <td>N.A.</td>\n",
       "      <td>N.A.</td>\n",
       "      <td>10 %</td>\n",
       "      <td>0.00 %</td>\n",
       "    </tr>\n",
       "    <tr>\n",
       "      <th>231</th>\n",
       "      <td>Falkland Islands</td>\n",
       "      <td>3,497</td>\n",
       "      <td>3.05 %</td>\n",
       "      <td>103</td>\n",
       "      <td>0</td>\n",
       "      <td>12,170</td>\n",
       "      <td>NaN</td>\n",
       "      <td>N.A.</td>\n",
       "      <td>N.A.</td>\n",
       "      <td>66 %</td>\n",
       "      <td>0.00 %</td>\n",
       "    </tr>\n",
       "    <tr>\n",
       "      <th>232</th>\n",
       "      <td>Niue</td>\n",
       "      <td>1,628</td>\n",
       "      <td>0.68 %</td>\n",
       "      <td>11</td>\n",
       "      <td>6</td>\n",
       "      <td>260</td>\n",
       "      <td>NaN</td>\n",
       "      <td>N.A.</td>\n",
       "      <td>N.A.</td>\n",
       "      <td>46 %</td>\n",
       "      <td>0.00 %</td>\n",
       "    </tr>\n",
       "    <tr>\n",
       "      <th>233</th>\n",
       "      <td>Tokelau</td>\n",
       "      <td>1,360</td>\n",
       "      <td>1.27 %</td>\n",
       "      <td>17</td>\n",
       "      <td>136</td>\n",
       "      <td>10</td>\n",
       "      <td>NaN</td>\n",
       "      <td>N.A.</td>\n",
       "      <td>N.A.</td>\n",
       "      <td>0 %</td>\n",
       "      <td>0.00 %</td>\n",
       "    </tr>\n",
       "    <tr>\n",
       "      <th>234</th>\n",
       "      <td>Holy See</td>\n",
       "      <td>801</td>\n",
       "      <td>0.25 %</td>\n",
       "      <td>2</td>\n",
       "      <td>2003</td>\n",
       "      <td>0</td>\n",
       "      <td>NaN</td>\n",
       "      <td>N.A.</td>\n",
       "      <td>N.A.</td>\n",
       "      <td>N.A.</td>\n",
       "      <td>0.00 %</td>\n",
       "    </tr>\n",
       "  </tbody>\n",
       "</table>\n",
       "<p>235 rows × 11 columns</p>\n",
       "</div>"
      ],
      "text/plain": [
       "    Country (or dependency) Population (2020) Yearly Change  Net Change  \\\n",
       "0                     China     1,440,297,825        0.39 %     5540090   \n",
       "1                     India     1,382,345,085        0.99 %    13586631   \n",
       "2             United States       331,341,050        0.59 %     1937734   \n",
       "3                 Indonesia       274,021,604        1.07 %     2898047   \n",
       "4                  Pakistan       221,612,785        2.00 %     4327022   \n",
       "..                      ...               ...           ...         ...   \n",
       "230              Montserrat             4,993        0.06 %           3   \n",
       "231        Falkland Islands             3,497        3.05 %         103   \n",
       "232                    Niue             1,628        0.68 %          11   \n",
       "233                 Tokelau             1,360        1.27 %          17   \n",
       "234                Holy See               801        0.25 %           2   \n",
       "\n",
       "     Density (P/Km²) Land Area (Km²) Migrants (net) Fert. Rate Med. Age  \\\n",
       "0                153       9,388,211     -348,399.0        1.7       38   \n",
       "1                464       2,973,190     -532,687.0        2.2       28   \n",
       "2                 36       9,147,420      954,806.0        1.8       38   \n",
       "3                151       1,811,570      -98,955.0        2.3       30   \n",
       "4                287         770,880     -233,379.0        3.6       23   \n",
       "..               ...             ...            ...        ...      ...   \n",
       "230               50             100            NaN       N.A.     N.A.   \n",
       "231                0          12,170            NaN       N.A.     N.A.   \n",
       "232                6             260            NaN       N.A.     N.A.   \n",
       "233              136              10            NaN       N.A.     N.A.   \n",
       "234             2003               0            NaN       N.A.     N.A.   \n",
       "\n",
       "    Urban Pop % World Share  \n",
       "0          61 %     18.47 %  \n",
       "1          35 %     17.70 %  \n",
       "2          83 %      4.25 %  \n",
       "3          56 %      3.51 %  \n",
       "4          35 %      2.83 %  \n",
       "..          ...         ...  \n",
       "230        10 %      0.00 %  \n",
       "231        66 %      0.00 %  \n",
       "232        46 %      0.00 %  \n",
       "233         0 %      0.00 %  \n",
       "234        N.A.      0.00 %  \n",
       "\n",
       "[235 rows x 11 columns]"
      ]
     },
     "execution_count": 7,
     "metadata": {},
     "output_type": "execute_result"
    }
   ],
   "source": [
    "pops_raw = pd.read_csv(os.path.join('data', 'populations.csv'))\n",
    "pops_raw"
   ]
  },
  {
   "cell_type": "code",
   "execution_count": 106,
   "metadata": {},
   "outputs": [
    {
     "data": {
      "text/plain": [
       "0"
      ]
     },
     "execution_count": 106,
     "metadata": {},
     "output_type": "execute_result"
    }
   ],
   "source": [
    "(pops_raw['Net Change'] == 'N.A.').sum()"
   ]
  },
  {
   "cell_type": "markdown",
   "metadata": {},
   "source": [
    "### Question 3\n",
    "\n",
    "Unfortunately, this DataFrame's data types require some cleaning. All of the columns except the first are numeric and should either be integers or floats, as appropriate, but many of them are being stored as strings. Additionally, some rows have missing values.\n",
    "\n",
    "Create a function named `fix_dtypes` which accepts a DataFrame like `pops_raw` above and returns a DataFrame with exactly the same columns and rows, but with the data types \"fixed\" to be appropriate for the data contained within. In addition, ensure that all missing values are represented by `np.NaN`. All percentages should be represented as decimals – e.g., 27% should be 0.27.\n",
    "\n",
    "***Hint:*** You can make helper functions! It's OK to loop over the **columns** of the DataFrame (but not the rows). And remember that `np.NaN` is represented as a float, so even if the values in a column look like integers, if the column contains any `np.NaN`s then the `dtype` must be float.\n",
    "\n",
    "As always, make sure that your function does not change the DataFrame it is called on!"
   ]
  },
  {
   "cell_type": "code",
   "execution_count": null,
   "metadata": {},
   "outputs": [],
   "source": []
  },
  {
   "cell_type": "code",
   "execution_count": 84,
   "metadata": {},
   "outputs": [],
   "source": [
    "def convert_float(perc):\n",
    "    if perc == 'N.A.':\n",
    "        return np.nan\n",
    "    else:\n",
    "        return float(perc)"
   ]
  },
  {
   "cell_type": "code",
   "execution_count": 85,
   "metadata": {},
   "outputs": [],
   "source": [
    "def convert_int(perc):\n",
    "    if perc == 'N.A.':\n",
    "        return np.nan\n",
    "    else:\n",
    "        return int(perc)"
   ]
  },
  {
   "cell_type": "code",
   "execution_count": 81,
   "metadata": {},
   "outputs": [],
   "source": [
    "def convert_percent(perc):\n",
    "    if perc == 'N.A.':\n",
    "        return np.nan\n",
    "    else:\n",
    "        return float(perc.replace(' %', '')) / 100\n",
    "    "
   ]
  },
  {
   "cell_type": "code",
   "execution_count": 88,
   "metadata": {},
   "outputs": [],
   "source": [
    "def convert_pop(num):\n",
    "    if num == 'N.A.':\n",
    "        return np.nan\n",
    "    #nums = num.split(',')\n",
    "    #print(nums)\n",
    "    #total = 0\n",
    "    #for i in np.arange(len(nums)):\n",
    "        #print((10 **(i * 3)))\n",
    "        #print(int(nums[len(nums) - 1 - i]) * (10 **(i * 3)))\n",
    "    #total += int(nums[len(nums) - 1 - i]) * (10 **(i * 3))\n",
    "           \n",
    "    return int(num.replace(',',''))"
   ]
  },
  {
   "cell_type": "code",
   "execution_count": 147,
   "metadata": {},
   "outputs": [],
   "source": [
    "def convert_mig(mig):\n",
    "    if type(mig) == str:\n",
    "        cleaned = mig.replace(',','')\n",
    "        #print(cleaned)\n",
    "        cleaned = cleaned.replace('.0','')\n",
    "        #print(cleaned)\n",
    "        return float(cleaned)\n",
    "        #return np.nan\n",
    "    else:\n",
    "        return mig\n",
    "        "
   ]
  },
  {
   "cell_type": "code",
   "execution_count": null,
   "metadata": {},
   "outputs": [],
   "source": []
  },
  {
   "cell_type": "code",
   "execution_count": 120,
   "metadata": {},
   "outputs": [
    {
     "data": {
      "text/plain": [
       "0"
      ]
     },
     "execution_count": 120,
     "metadata": {},
     "output_type": "execute_result"
    }
   ],
   "source": [
    "(pops_raw['Migrants (net)'] == float).sum()"
   ]
  },
  {
   "cell_type": "code",
   "execution_count": 151,
   "metadata": {
    "scrolled": true,
    "tags": []
   },
   "outputs": [
    {
     "data": {
      "text/html": [
       "<div>\n",
       "<style scoped>\n",
       "    .dataframe tbody tr th:only-of-type {\n",
       "        vertical-align: middle;\n",
       "    }\n",
       "\n",
       "    .dataframe tbody tr th {\n",
       "        vertical-align: top;\n",
       "    }\n",
       "\n",
       "    .dataframe thead th {\n",
       "        text-align: right;\n",
       "    }\n",
       "</style>\n",
       "<table border=\"1\" class=\"dataframe\">\n",
       "  <thead>\n",
       "    <tr style=\"text-align: right;\">\n",
       "      <th></th>\n",
       "      <th>Country (or dependency)</th>\n",
       "      <th>Population (2020)</th>\n",
       "      <th>Yearly Change</th>\n",
       "      <th>Net Change</th>\n",
       "      <th>Density (P/Km²)</th>\n",
       "      <th>Land Area (Km²)</th>\n",
       "      <th>Migrants (net)</th>\n",
       "      <th>Fert. Rate</th>\n",
       "      <th>Med. Age</th>\n",
       "      <th>Urban Pop %</th>\n",
       "      <th>World Share</th>\n",
       "    </tr>\n",
       "  </thead>\n",
       "  <tbody>\n",
       "    <tr>\n",
       "      <th>0</th>\n",
       "      <td>China</td>\n",
       "      <td>1440297825</td>\n",
       "      <td>0.0039</td>\n",
       "      <td>5540090</td>\n",
       "      <td>153</td>\n",
       "      <td>9388211</td>\n",
       "      <td>-348399.0</td>\n",
       "      <td>1.7</td>\n",
       "      <td>38.0</td>\n",
       "      <td>0.61</td>\n",
       "      <td>0.1847</td>\n",
       "    </tr>\n",
       "    <tr>\n",
       "      <th>1</th>\n",
       "      <td>India</td>\n",
       "      <td>1382345085</td>\n",
       "      <td>0.0099</td>\n",
       "      <td>13586631</td>\n",
       "      <td>464</td>\n",
       "      <td>2973190</td>\n",
       "      <td>-532687.0</td>\n",
       "      <td>2.2</td>\n",
       "      <td>28.0</td>\n",
       "      <td>0.35</td>\n",
       "      <td>0.1770</td>\n",
       "    </tr>\n",
       "    <tr>\n",
       "      <th>2</th>\n",
       "      <td>United States</td>\n",
       "      <td>331341050</td>\n",
       "      <td>0.0059</td>\n",
       "      <td>1937734</td>\n",
       "      <td>36</td>\n",
       "      <td>9147420</td>\n",
       "      <td>954806.0</td>\n",
       "      <td>1.8</td>\n",
       "      <td>38.0</td>\n",
       "      <td>0.83</td>\n",
       "      <td>0.0425</td>\n",
       "    </tr>\n",
       "    <tr>\n",
       "      <th>3</th>\n",
       "      <td>Indonesia</td>\n",
       "      <td>274021604</td>\n",
       "      <td>0.0107</td>\n",
       "      <td>2898047</td>\n",
       "      <td>151</td>\n",
       "      <td>1811570</td>\n",
       "      <td>-98955.0</td>\n",
       "      <td>2.3</td>\n",
       "      <td>30.0</td>\n",
       "      <td>0.56</td>\n",
       "      <td>0.0351</td>\n",
       "    </tr>\n",
       "    <tr>\n",
       "      <th>4</th>\n",
       "      <td>Pakistan</td>\n",
       "      <td>221612785</td>\n",
       "      <td>0.0200</td>\n",
       "      <td>4327022</td>\n",
       "      <td>287</td>\n",
       "      <td>770880</td>\n",
       "      <td>-233379.0</td>\n",
       "      <td>3.6</td>\n",
       "      <td>23.0</td>\n",
       "      <td>0.35</td>\n",
       "      <td>0.0283</td>\n",
       "    </tr>\n",
       "    <tr>\n",
       "      <th>...</th>\n",
       "      <td>...</td>\n",
       "      <td>...</td>\n",
       "      <td>...</td>\n",
       "      <td>...</td>\n",
       "      <td>...</td>\n",
       "      <td>...</td>\n",
       "      <td>...</td>\n",
       "      <td>...</td>\n",
       "      <td>...</td>\n",
       "      <td>...</td>\n",
       "      <td>...</td>\n",
       "    </tr>\n",
       "    <tr>\n",
       "      <th>230</th>\n",
       "      <td>Montserrat</td>\n",
       "      <td>4993</td>\n",
       "      <td>0.0006</td>\n",
       "      <td>3</td>\n",
       "      <td>50</td>\n",
       "      <td>100</td>\n",
       "      <td>NaN</td>\n",
       "      <td>NaN</td>\n",
       "      <td>NaN</td>\n",
       "      <td>0.10</td>\n",
       "      <td>0.0000</td>\n",
       "    </tr>\n",
       "    <tr>\n",
       "      <th>231</th>\n",
       "      <td>Falkland Islands</td>\n",
       "      <td>3497</td>\n",
       "      <td>0.0305</td>\n",
       "      <td>103</td>\n",
       "      <td>0</td>\n",
       "      <td>12170</td>\n",
       "      <td>NaN</td>\n",
       "      <td>NaN</td>\n",
       "      <td>NaN</td>\n",
       "      <td>0.66</td>\n",
       "      <td>0.0000</td>\n",
       "    </tr>\n",
       "    <tr>\n",
       "      <th>232</th>\n",
       "      <td>Niue</td>\n",
       "      <td>1628</td>\n",
       "      <td>0.0068</td>\n",
       "      <td>11</td>\n",
       "      <td>6</td>\n",
       "      <td>260</td>\n",
       "      <td>NaN</td>\n",
       "      <td>NaN</td>\n",
       "      <td>NaN</td>\n",
       "      <td>0.46</td>\n",
       "      <td>0.0000</td>\n",
       "    </tr>\n",
       "    <tr>\n",
       "      <th>233</th>\n",
       "      <td>Tokelau</td>\n",
       "      <td>1360</td>\n",
       "      <td>0.0127</td>\n",
       "      <td>17</td>\n",
       "      <td>136</td>\n",
       "      <td>10</td>\n",
       "      <td>NaN</td>\n",
       "      <td>NaN</td>\n",
       "      <td>NaN</td>\n",
       "      <td>0.00</td>\n",
       "      <td>0.0000</td>\n",
       "    </tr>\n",
       "    <tr>\n",
       "      <th>234</th>\n",
       "      <td>Holy See</td>\n",
       "      <td>801</td>\n",
       "      <td>0.0025</td>\n",
       "      <td>2</td>\n",
       "      <td>2003</td>\n",
       "      <td>0</td>\n",
       "      <td>NaN</td>\n",
       "      <td>NaN</td>\n",
       "      <td>NaN</td>\n",
       "      <td>NaN</td>\n",
       "      <td>0.0000</td>\n",
       "    </tr>\n",
       "  </tbody>\n",
       "</table>\n",
       "<p>235 rows × 11 columns</p>\n",
       "</div>"
      ],
      "text/plain": [
       "    Country (or dependency)  Population (2020)  Yearly Change  Net Change  \\\n",
       "0                     China         1440297825         0.0039     5540090   \n",
       "1                     India         1382345085         0.0099    13586631   \n",
       "2             United States          331341050         0.0059     1937734   \n",
       "3                 Indonesia          274021604         0.0107     2898047   \n",
       "4                  Pakistan          221612785         0.0200     4327022   \n",
       "..                      ...                ...            ...         ...   \n",
       "230              Montserrat               4993         0.0006           3   \n",
       "231        Falkland Islands               3497         0.0305         103   \n",
       "232                    Niue               1628         0.0068          11   \n",
       "233                 Tokelau               1360         0.0127          17   \n",
       "234                Holy See                801         0.0025           2   \n",
       "\n",
       "     Density (P/Km²)  Land Area (Km²)  Migrants (net)  Fert. Rate  Med. Age  \\\n",
       "0                153          9388211       -348399.0         1.7      38.0   \n",
       "1                464          2973190       -532687.0         2.2      28.0   \n",
       "2                 36          9147420        954806.0         1.8      38.0   \n",
       "3                151          1811570        -98955.0         2.3      30.0   \n",
       "4                287           770880       -233379.0         3.6      23.0   \n",
       "..               ...              ...             ...         ...       ...   \n",
       "230               50              100             NaN         NaN       NaN   \n",
       "231                0            12170             NaN         NaN       NaN   \n",
       "232                6              260             NaN         NaN       NaN   \n",
       "233              136               10             NaN         NaN       NaN   \n",
       "234             2003                0             NaN         NaN       NaN   \n",
       "\n",
       "     Urban Pop %  World Share  \n",
       "0           0.61       0.1847  \n",
       "1           0.35       0.1770  \n",
       "2           0.83       0.0425  \n",
       "3           0.56       0.0351  \n",
       "4           0.35       0.0283  \n",
       "..           ...          ...  \n",
       "230         0.10       0.0000  \n",
       "231         0.66       0.0000  \n",
       "232         0.46       0.0000  \n",
       "233         0.00       0.0000  \n",
       "234          NaN       0.0000  \n",
       "\n",
       "[235 rows x 11 columns]"
      ]
     },
     "execution_count": 151,
     "metadata": {},
     "output_type": "execute_result"
    }
   ],
   "source": [
    "pops_raw = pd.read_csv(os.path.join('data', 'populations.csv'))\n",
    "pops_raw\n",
    "pops_raw['Population (2020)'] = pops_raw['Population (2020)'].apply(convert_pop)\n",
    "pops_raw['Yearly Change'] = pops_raw['Yearly Change'].apply(convert_percent)\n",
    "pops_raw['Urban Pop %'] = pops_raw['Urban Pop %'].apply(convert_percent)\n",
    "pops_raw['Land Area (Km²)'] = pops_raw['Land Area (Km²)'].apply(convert_pop)\n",
    "pops_raw['Migrants (net)'] = pops_raw['Migrants (net)'].apply(convert_mig)\n",
    "pops_raw['Fert. Rate'] = pops_raw['Fert. Rate'].apply(convert_float)\n",
    "pops_raw['Med. Age'] = pops_raw['Med. Age'].apply(convert_int)\n",
    "pops_raw['World Share'] = pops_raw['World Share'].apply(convert_percent)\n",
    "\n",
    "\n",
    "\n",
    "\n",
    "\n",
    "pops_raw#.dtypes\n"
   ]
  },
  {
   "cell_type": "code",
   "execution_count": 150,
   "metadata": {},
   "outputs": [
    {
     "data": {
      "text/html": [
       "<div>\n",
       "<style scoped>\n",
       "    .dataframe tbody tr th:only-of-type {\n",
       "        vertical-align: middle;\n",
       "    }\n",
       "\n",
       "    .dataframe tbody tr th {\n",
       "        vertical-align: top;\n",
       "    }\n",
       "\n",
       "    .dataframe thead th {\n",
       "        text-align: right;\n",
       "    }\n",
       "</style>\n",
       "<table border=\"1\" class=\"dataframe\">\n",
       "  <thead>\n",
       "    <tr style=\"text-align: right;\">\n",
       "      <th></th>\n",
       "      <th>Country (or dependency)</th>\n",
       "      <th>Population (2020)</th>\n",
       "      <th>Yearly Change</th>\n",
       "      <th>Net Change</th>\n",
       "      <th>Density (P/Km²)</th>\n",
       "      <th>Land Area (Km²)</th>\n",
       "      <th>Migrants (net)</th>\n",
       "      <th>Fert. Rate</th>\n",
       "      <th>Med. Age</th>\n",
       "      <th>Urban Pop %</th>\n",
       "      <th>World Share</th>\n",
       "    </tr>\n",
       "  </thead>\n",
       "  <tbody>\n",
       "    <tr>\n",
       "      <th>0</th>\n",
       "      <td>China</td>\n",
       "      <td>1,440,297,825</td>\n",
       "      <td>0.39 %</td>\n",
       "      <td>5540090</td>\n",
       "      <td>153</td>\n",
       "      <td>9,388,211</td>\n",
       "      <td>-348,399.0</td>\n",
       "      <td>1.7</td>\n",
       "      <td>38</td>\n",
       "      <td>61 %</td>\n",
       "      <td>18.47 %</td>\n",
       "    </tr>\n",
       "    <tr>\n",
       "      <th>1</th>\n",
       "      <td>India</td>\n",
       "      <td>1,382,345,085</td>\n",
       "      <td>0.99 %</td>\n",
       "      <td>13586631</td>\n",
       "      <td>464</td>\n",
       "      <td>2,973,190</td>\n",
       "      <td>-532,687.0</td>\n",
       "      <td>2.2</td>\n",
       "      <td>28</td>\n",
       "      <td>35 %</td>\n",
       "      <td>17.70 %</td>\n",
       "    </tr>\n",
       "    <tr>\n",
       "      <th>2</th>\n",
       "      <td>United States</td>\n",
       "      <td>331,341,050</td>\n",
       "      <td>0.59 %</td>\n",
       "      <td>1937734</td>\n",
       "      <td>36</td>\n",
       "      <td>9,147,420</td>\n",
       "      <td>954,806.0</td>\n",
       "      <td>1.8</td>\n",
       "      <td>38</td>\n",
       "      <td>83 %</td>\n",
       "      <td>4.25 %</td>\n",
       "    </tr>\n",
       "    <tr>\n",
       "      <th>3</th>\n",
       "      <td>Indonesia</td>\n",
       "      <td>274,021,604</td>\n",
       "      <td>1.07 %</td>\n",
       "      <td>2898047</td>\n",
       "      <td>151</td>\n",
       "      <td>1,811,570</td>\n",
       "      <td>-98,955.0</td>\n",
       "      <td>2.3</td>\n",
       "      <td>30</td>\n",
       "      <td>56 %</td>\n",
       "      <td>3.51 %</td>\n",
       "    </tr>\n",
       "    <tr>\n",
       "      <th>4</th>\n",
       "      <td>Pakistan</td>\n",
       "      <td>221,612,785</td>\n",
       "      <td>2.00 %</td>\n",
       "      <td>4327022</td>\n",
       "      <td>287</td>\n",
       "      <td>770,880</td>\n",
       "      <td>-233,379.0</td>\n",
       "      <td>3.6</td>\n",
       "      <td>23</td>\n",
       "      <td>35 %</td>\n",
       "      <td>2.83 %</td>\n",
       "    </tr>\n",
       "    <tr>\n",
       "      <th>...</th>\n",
       "      <td>...</td>\n",
       "      <td>...</td>\n",
       "      <td>...</td>\n",
       "      <td>...</td>\n",
       "      <td>...</td>\n",
       "      <td>...</td>\n",
       "      <td>...</td>\n",
       "      <td>...</td>\n",
       "      <td>...</td>\n",
       "      <td>...</td>\n",
       "      <td>...</td>\n",
       "    </tr>\n",
       "    <tr>\n",
       "      <th>230</th>\n",
       "      <td>Montserrat</td>\n",
       "      <td>4,993</td>\n",
       "      <td>0.06 %</td>\n",
       "      <td>3</td>\n",
       "      <td>50</td>\n",
       "      <td>100</td>\n",
       "      <td>NaN</td>\n",
       "      <td>N.A.</td>\n",
       "      <td>N.A.</td>\n",
       "      <td>10 %</td>\n",
       "      <td>0.00 %</td>\n",
       "    </tr>\n",
       "    <tr>\n",
       "      <th>231</th>\n",
       "      <td>Falkland Islands</td>\n",
       "      <td>3,497</td>\n",
       "      <td>3.05 %</td>\n",
       "      <td>103</td>\n",
       "      <td>0</td>\n",
       "      <td>12,170</td>\n",
       "      <td>NaN</td>\n",
       "      <td>N.A.</td>\n",
       "      <td>N.A.</td>\n",
       "      <td>66 %</td>\n",
       "      <td>0.00 %</td>\n",
       "    </tr>\n",
       "    <tr>\n",
       "      <th>232</th>\n",
       "      <td>Niue</td>\n",
       "      <td>1,628</td>\n",
       "      <td>0.68 %</td>\n",
       "      <td>11</td>\n",
       "      <td>6</td>\n",
       "      <td>260</td>\n",
       "      <td>NaN</td>\n",
       "      <td>N.A.</td>\n",
       "      <td>N.A.</td>\n",
       "      <td>46 %</td>\n",
       "      <td>0.00 %</td>\n",
       "    </tr>\n",
       "    <tr>\n",
       "      <th>233</th>\n",
       "      <td>Tokelau</td>\n",
       "      <td>1,360</td>\n",
       "      <td>1.27 %</td>\n",
       "      <td>17</td>\n",
       "      <td>136</td>\n",
       "      <td>10</td>\n",
       "      <td>NaN</td>\n",
       "      <td>N.A.</td>\n",
       "      <td>N.A.</td>\n",
       "      <td>0 %</td>\n",
       "      <td>0.00 %</td>\n",
       "    </tr>\n",
       "    <tr>\n",
       "      <th>234</th>\n",
       "      <td>Holy See</td>\n",
       "      <td>801</td>\n",
       "      <td>0.25 %</td>\n",
       "      <td>2</td>\n",
       "      <td>2003</td>\n",
       "      <td>0</td>\n",
       "      <td>NaN</td>\n",
       "      <td>N.A.</td>\n",
       "      <td>N.A.</td>\n",
       "      <td>N.A.</td>\n",
       "      <td>0.00 %</td>\n",
       "    </tr>\n",
       "  </tbody>\n",
       "</table>\n",
       "<p>235 rows × 11 columns</p>\n",
       "</div>"
      ],
      "text/plain": [
       "    Country (or dependency) Population (2020) Yearly Change  Net Change  \\\n",
       "0                     China     1,440,297,825        0.39 %     5540090   \n",
       "1                     India     1,382,345,085        0.99 %    13586631   \n",
       "2             United States       331,341,050        0.59 %     1937734   \n",
       "3                 Indonesia       274,021,604        1.07 %     2898047   \n",
       "4                  Pakistan       221,612,785        2.00 %     4327022   \n",
       "..                      ...               ...           ...         ...   \n",
       "230              Montserrat             4,993        0.06 %           3   \n",
       "231        Falkland Islands             3,497        3.05 %         103   \n",
       "232                    Niue             1,628        0.68 %          11   \n",
       "233                 Tokelau             1,360        1.27 %          17   \n",
       "234                Holy See               801        0.25 %           2   \n",
       "\n",
       "     Density (P/Km²) Land Area (Km²) Migrants (net) Fert. Rate Med. Age  \\\n",
       "0                153       9,388,211     -348,399.0        1.7       38   \n",
       "1                464       2,973,190     -532,687.0        2.2       28   \n",
       "2                 36       9,147,420      954,806.0        1.8       38   \n",
       "3                151       1,811,570      -98,955.0        2.3       30   \n",
       "4                287         770,880     -233,379.0        3.6       23   \n",
       "..               ...             ...            ...        ...      ...   \n",
       "230               50             100            NaN       N.A.     N.A.   \n",
       "231                0          12,170            NaN       N.A.     N.A.   \n",
       "232                6             260            NaN       N.A.     N.A.   \n",
       "233              136              10            NaN       N.A.     N.A.   \n",
       "234             2003               0            NaN       N.A.     N.A.   \n",
       "\n",
       "    Urban Pop % World Share  \n",
       "0          61 %     18.47 %  \n",
       "1          35 %     17.70 %  \n",
       "2          83 %      4.25 %  \n",
       "3          56 %      3.51 %  \n",
       "4          35 %      2.83 %  \n",
       "..          ...         ...  \n",
       "230        10 %      0.00 %  \n",
       "231        66 %      0.00 %  \n",
       "232        46 %      0.00 %  \n",
       "233         0 %      0.00 %  \n",
       "234        N.A.      0.00 %  \n",
       "\n",
       "[235 rows x 11 columns]"
      ]
     },
     "execution_count": 150,
     "metadata": {},
     "output_type": "execute_result"
    }
   ],
   "source": [
    "pops_raw = pd.read_csv(os.path.join('data', 'populations.csv'))\n",
    "pops_raw#.dtypes\n"
   ]
  },
  {
   "cell_type": "code",
   "execution_count": 11,
   "metadata": {
    "tags": []
   },
   "outputs": [
    {
     "data": {
      "text/plain": [
       "Country (or dependency)    object\n",
       "Population (2020)          object\n",
       "Yearly Change              object\n",
       "Net Change                  int64\n",
       "Density (P/Km²)             int64\n",
       "Land Area (Km²)            object\n",
       "Migrants (net)             object\n",
       "Fert. Rate                 object\n",
       "Med. Age                   object\n",
       "Urban Pop %                object\n",
       "World Share                object\n",
       "dtype: object"
      ]
     },
     "execution_count": 11,
     "metadata": {},
     "output_type": "execute_result"
    }
   ],
   "source": [
    "pops_raw.dtypes"
   ]
  },
  {
   "cell_type": "code",
   "execution_count": 145,
   "metadata": {},
   "outputs": [
    {
     "data": {
      "text/plain": [
       "Country (or dependency)     object\n",
       "Population (2020)            int64\n",
       "Yearly Change              float64\n",
       "Net Change                   int64\n",
       "Density (P/Km²)              int64\n",
       "Land Area (Km²)              int64\n",
       "Migrants (net)             float64\n",
       "Fert. Rate                 float64\n",
       "Med. Age                   float64\n",
       "Urban Pop %                float64\n",
       "World Share                float64\n",
       "dtype: object"
      ]
     },
     "execution_count": 145,
     "metadata": {},
     "output_type": "execute_result"
    }
   ],
   "source": [
    "# run this to see the result, and don't change this cell -- it is used by the tests\n",
    "pops = fix_dtypes(pops_raw)\n",
    "pops.dtypes"
   ]
  },
  {
   "cell_type": "code",
   "execution_count": 140,
   "metadata": {
    "deletable": false,
    "editable": false
   },
   "outputs": [
    {
     "data": {
      "text/html": [
       "<p><strong><pre style='display: inline;'>q3</pre></strong> passed!</p>"
      ],
      "text/plain": [
       "q3 results: All test cases passed!"
      ]
     },
     "execution_count": 140,
     "metadata": {},
     "output_type": "execute_result"
    }
   ],
   "source": [
    "grader.check(\"q3\")"
   ]
  },
  {
   "cell_type": "markdown",
   "metadata": {},
   "source": [
    "### Question 4\n",
    "\n",
    "Remember that our goal is to compute the percentage of people vaccinated in each country. Our next step is to take the population numbers from the previous problem and insert them into the DataFrame of vaccination numbers (`tots`). In theory this is a simple `concat` or `merge`, but there's a problem: the names of the countries are not always the same in each DataFrame.\n",
    "\n",
    "#### `missing_in_pops`\n",
    "First, create a function named `missing_in_pops` which takes in two DataFrames, the first, like `tots` above, containing the total number of vaccinations per country, and the second like `pops` above, containing the population of each country. It should return a Python **set** of names that appear in `tots` but not in `pops`.\n",
    "\n",
    "***Hint:*** `pandas` indexes have a method that checks if each element of the index is a member of some other collection. **Do not** use a `for`-loop.\n",
    "\n",
    "<br>\n",
    "\n",
    "#### `fix_names`\n",
    "After running `missing_in_pops`, you'll notice that there are 14 countries that appear in `tots` that do not appear in `pops`. It turns out that most of these countries *do* appear in `pops`, just under a different name or spelling. Using the power of Google or your domain knowledge, combined with an exploration of the `tots` DataFrame, create a function named `fix_names` that accepts one argument – a DataFrame like `pops` – and returns a copy of `pops`, but with the `'Country (or dependency)'` column changed so that all countries that appear in `tots` also appear in the result, with a few exceptions listed below. \n",
    "\n",
    "For example, the country `'Burma'` appears in `tots`, but is listed as `'Myanmar'` in `pops`. In the DataFrame returned by your function, `'Myanmar'` should be changed to `'Burma'` to match `tots`.\n",
    "\n",
    "As noted above, there are a few exceptions:\n",
    "\n",
    "- `'Kosovo'` does not appear in `pops`. You do not need to change an entry in `pops` to match it.\n",
    "- There is a region simply called `'World'`. This doesn't appear in `pops`. You do not need to change an entry in `pops` to match it.\n",
    "- There is both `'US'` and `'US (Aggregate)` in `tots` but neither appear in `pops`. You only need to match `'US'`, and can leave `'US (Aggregate)'` unmatched."
   ]
  },
  {
   "cell_type": "code",
   "execution_count": 144,
   "metadata": {},
   "outputs": [
    {
     "data": {
      "text/html": [
       "<div>\n",
       "<style scoped>\n",
       "    .dataframe tbody tr th:only-of-type {\n",
       "        vertical-align: middle;\n",
       "    }\n",
       "\n",
       "    .dataframe tbody tr th {\n",
       "        vertical-align: top;\n",
       "    }\n",
       "\n",
       "    .dataframe thead th {\n",
       "        text-align: right;\n",
       "    }\n",
       "</style>\n",
       "<table border=\"1\" class=\"dataframe\">\n",
       "  <thead>\n",
       "    <tr style=\"text-align: right;\">\n",
       "      <th></th>\n",
       "      <th>Country (or dependency)</th>\n",
       "      <th>Population (2020)</th>\n",
       "      <th>Yearly Change</th>\n",
       "      <th>Net Change</th>\n",
       "      <th>Density (P/Km²)</th>\n",
       "      <th>Land Area (Km²)</th>\n",
       "      <th>Migrants (net)</th>\n",
       "      <th>Fert. Rate</th>\n",
       "      <th>Med. Age</th>\n",
       "      <th>Urban Pop %</th>\n",
       "      <th>World Share</th>\n",
       "    </tr>\n",
       "  </thead>\n",
       "  <tbody>\n",
       "    <tr>\n",
       "      <th>120</th>\n",
       "      <td>State of Palestine</td>\n",
       "      <td>5121112</td>\n",
       "      <td>0.0241</td>\n",
       "      <td>119994</td>\n",
       "      <td>847</td>\n",
       "      <td>6020</td>\n",
       "      <td>-10563.0</td>\n",
       "      <td>3.7</td>\n",
       "      <td>21.0</td>\n",
       "      <td>0.8</td>\n",
       "      <td>0.0007</td>\n",
       "    </tr>\n",
       "  </tbody>\n",
       "</table>\n",
       "</div>"
      ],
      "text/plain": [
       "    Country (or dependency)  Population (2020)  Yearly Change  Net Change  \\\n",
       "120      State of Palestine            5121112         0.0241      119994   \n",
       "\n",
       "     Density (P/Km²)  Land Area (Km²)  Migrants (net)  Fert. Rate  Med. Age  \\\n",
       "120              847             6020        -10563.0         3.7      21.0   \n",
       "\n",
       "     Urban Pop %  World Share  \n",
       "120          0.8       0.0007  "
      ]
     },
     "execution_count": 144,
     "metadata": {},
     "output_type": "execute_result"
    }
   ],
   "source": [
    "pops_raw = pd.read_csv(os.path.join('data', 'populations.csv'))\n",
    "pops = fix_dtypes(pops_raw)\n",
    "pops[pops['Country (or dependency)'].str.contains('Palest')]"
   ]
  },
  {
   "cell_type": "code",
   "execution_count": 35,
   "metadata": {},
   "outputs": [
    {
     "name": "stdout",
     "output_type": "stream",
     "text": [
      "Myanmar US Congo (Kinshasa) Congo (Brazzaville) Cote d'Ivoire Saint Kitts and Nevis Czechia West Bank of Gaza Korea, South Saint Vincent and the Grenadines Sao Tome and Principe\n"
     ]
    },
    {
     "data": {
      "text/plain": [
       "0                 China\n",
       "1                 India\n",
       "2                    US\n",
       "3             Indonesia\n",
       "4              Pakistan\n",
       "             ...       \n",
       "230          Montserrat\n",
       "231    Falkland Islands\n",
       "232                Niue\n",
       "233             Tokelau\n",
       "234            Holy See\n",
       "Name: Country (or dependency), Length: 235, dtype: object"
      ]
     },
     "execution_count": 35,
     "metadata": {},
     "output_type": "execute_result"
    }
   ],
   "source": [
    "ser = pops['Country (or dependency)']\n",
    "ser = ser.replace('Burma' ,'Myanmar')\n",
    "ser = ser.replace('United States' ,'US')\n",
    "ser = ser.replace('DR Congo' ,'Congo (Kinshasa)')\n",
    "ser = ser.replace('Congo' ,'Congo (Brazzaville)')\n",
    "ser = ser.replace(\"Côte d'Ivoire\" ,\"Cote d\\'Ivoire\")\n",
    "ser = ser.replace(\"Czech Republic (Czechia)\" ,\"Czechia\")\n",
    "ser = ser.replace(\"State of Palestine\" ,\"West Bank of Gaza\")\n",
    "ser = ser.replace(\"South Korea\" ,\"Korea, South\")\n",
    "ser = ser.replace(\"Saint Kitts & Nevis\" ,\"Saint Kitts and Nevis\")\n",
    "ser = ser.replace(\"St. Vincent & Grenadines\" ,\"Saint Vincent and the Grenadines\")\n",
    "ser = ser.replace(\"Sao Tome & Principe\" ,\"Sao Tome and Principe\")\n",
    "print(ser[25],ser[2], ser[15],ser[116], ser[52],ser[210],ser[85],ser[120],ser[27],ser[195],ser[186])\n",
    "\n",
    "pops['Country (or dependency)'] = ser\n",
    "pops['Country (or dependency)']\n",
    "#pops['Country (or dependency)'].loc['Burma']"
   ]
  },
  {
   "cell_type": "code",
   "execution_count": 180,
   "metadata": {
    "scrolled": true
   },
   "outputs": [
    {
     "data": {
      "text/plain": [
       "{'Burma',\n",
       " 'Congo (Brazzaville)',\n",
       " 'Congo (Kinshasa)',\n",
       " \"Cote d'Ivoire\",\n",
       " 'Czechia',\n",
       " 'Korea, South',\n",
       " 'Kosovo',\n",
       " 'Saint Kitts and Nevis',\n",
       " 'Saint Vincent and the Grenadines',\n",
       " 'Sao Tome and Principe',\n",
       " 'US',\n",
       " 'US (Aggregate)',\n",
       " 'West Bank and Gaza',\n",
       " 'World'}"
      ]
     },
     "execution_count": 180,
     "metadata": {},
     "output_type": "execute_result"
    }
   ],
   "source": [
    "\n",
    "\n",
    "appended = tots.index[~pd.Index(tots.index).isin(pops_raw['Country (or dependency)'])]\n",
    "set(appended)"
   ]
  },
  {
   "cell_type": "code",
   "execution_count": 44,
   "metadata": {},
   "outputs": [],
   "source": [
    "fix = fix_names(pops)"
   ]
  },
  {
   "cell_type": "code",
   "execution_count": 45,
   "metadata": {},
   "outputs": [
    {
     "data": {
      "text/plain": [
       "{'Kosovo', 'US (Aggregate)', 'World'}"
      ]
     },
     "execution_count": 45,
     "metadata": {},
     "output_type": "execute_result"
    }
   ],
   "source": [
    "missing_in_pops(tots, fix)"
   ]
  },
  {
   "cell_type": "code",
   "execution_count": 160,
   "metadata": {
    "scrolled": true,
    "tags": []
   },
   "outputs": [
    {
     "data": {
      "text/html": [
       "<div>\n",
       "<style scoped>\n",
       "    .dataframe tbody tr th:only-of-type {\n",
       "        vertical-align: middle;\n",
       "    }\n",
       "\n",
       "    .dataframe tbody tr th {\n",
       "        vertical-align: top;\n",
       "    }\n",
       "\n",
       "    .dataframe thead th {\n",
       "        text-align: right;\n",
       "    }\n",
       "</style>\n",
       "<table border=\"1\" class=\"dataframe\">\n",
       "  <thead>\n",
       "    <tr style=\"text-align: right;\">\n",
       "      <th></th>\n",
       "      <th>Doses_admin</th>\n",
       "      <th>People_partially_vaccinated</th>\n",
       "      <th>People_fully_vaccinated</th>\n",
       "    </tr>\n",
       "    <tr>\n",
       "      <th>Country_Region</th>\n",
       "      <th></th>\n",
       "      <th></th>\n",
       "      <th></th>\n",
       "    </tr>\n",
       "  </thead>\n",
       "  <tbody>\n",
       "    <tr>\n",
       "      <th>Afghanistan</th>\n",
       "      <td>5.852810e+06</td>\n",
       "      <td>5.070937e+06</td>\n",
       "      <td>4.407528e+06</td>\n",
       "    </tr>\n",
       "    <tr>\n",
       "      <th>Albania</th>\n",
       "      <td>2.743218e+06</td>\n",
       "      <td>1.275907e+06</td>\n",
       "      <td>1.209791e+06</td>\n",
       "    </tr>\n",
       "    <tr>\n",
       "      <th>Algeria</th>\n",
       "      <td>1.408292e+07</td>\n",
       "      <td>7.461932e+06</td>\n",
       "      <td>6.110712e+06</td>\n",
       "    </tr>\n",
       "    <tr>\n",
       "      <th>Andorra</th>\n",
       "      <td>1.512840e+05</td>\n",
       "      <td>5.780500e+04</td>\n",
       "      <td>5.330100e+04</td>\n",
       "    </tr>\n",
       "    <tr>\n",
       "      <th>Angola</th>\n",
       "      <td>1.550539e+07</td>\n",
       "      <td>1.115278e+07</td>\n",
       "      <td>5.935958e+06</td>\n",
       "    </tr>\n",
       "    <tr>\n",
       "      <th>...</th>\n",
       "      <td>...</td>\n",
       "      <td>...</td>\n",
       "      <td>...</td>\n",
       "    </tr>\n",
       "    <tr>\n",
       "      <th>West Bank and Gaza</th>\n",
       "      <td>3.694897e+06</td>\n",
       "      <td>NaN</td>\n",
       "      <td>NaN</td>\n",
       "    </tr>\n",
       "    <tr>\n",
       "      <th>World</th>\n",
       "      <td>1.084889e+10</td>\n",
       "      <td>4.848556e+09</td>\n",
       "      <td>4.343345e+09</td>\n",
       "    </tr>\n",
       "    <tr>\n",
       "      <th>Yemen</th>\n",
       "      <td>8.075020e+05</td>\n",
       "      <td>6.435010e+05</td>\n",
       "      <td>4.047810e+05</td>\n",
       "    </tr>\n",
       "    <tr>\n",
       "      <th>Zambia</th>\n",
       "      <td>2.635418e+06</td>\n",
       "      <td>2.829929e+06</td>\n",
       "      <td>2.158357e+06</td>\n",
       "    </tr>\n",
       "    <tr>\n",
       "      <th>Zimbabwe</th>\n",
       "      <td>7.684182e+06</td>\n",
       "      <td>4.860444e+06</td>\n",
       "      <td>3.482764e+06</td>\n",
       "    </tr>\n",
       "  </tbody>\n",
       "</table>\n",
       "<p>192 rows × 3 columns</p>\n",
       "</div>"
      ],
      "text/plain": [
       "                     Doses_admin  People_partially_vaccinated  \\\n",
       "Country_Region                                                  \n",
       "Afghanistan         5.852810e+06                 5.070937e+06   \n",
       "Albania             2.743218e+06                 1.275907e+06   \n",
       "Algeria             1.408292e+07                 7.461932e+06   \n",
       "Andorra             1.512840e+05                 5.780500e+04   \n",
       "Angola              1.550539e+07                 1.115278e+07   \n",
       "...                          ...                          ...   \n",
       "West Bank and Gaza  3.694897e+06                          NaN   \n",
       "World               1.084889e+10                 4.848556e+09   \n",
       "Yemen               8.075020e+05                 6.435010e+05   \n",
       "Zambia              2.635418e+06                 2.829929e+06   \n",
       "Zimbabwe            7.684182e+06                 4.860444e+06   \n",
       "\n",
       "                    People_fully_vaccinated  \n",
       "Country_Region                               \n",
       "Afghanistan                    4.407528e+06  \n",
       "Albania                        1.209791e+06  \n",
       "Algeria                        6.110712e+06  \n",
       "Andorra                        5.330100e+04  \n",
       "Angola                         5.935958e+06  \n",
       "...                                     ...  \n",
       "West Bank and Gaza                      NaN  \n",
       "World                          4.343345e+09  \n",
       "Yemen                          4.047810e+05  \n",
       "Zambia                         2.158357e+06  \n",
       "Zimbabwe                       3.482764e+06  \n",
       "\n",
       "[192 rows x 3 columns]"
      ]
     },
     "execution_count": 160,
     "metadata": {},
     "output_type": "execute_result"
    }
   ],
   "source": [
    "tots"
   ]
  },
  {
   "cell_type": "code",
   "execution_count": 161,
   "metadata": {
    "tags": []
   },
   "outputs": [
    {
     "data": {
      "text/html": [
       "<div>\n",
       "<style scoped>\n",
       "    .dataframe tbody tr th:only-of-type {\n",
       "        vertical-align: middle;\n",
       "    }\n",
       "\n",
       "    .dataframe tbody tr th {\n",
       "        vertical-align: top;\n",
       "    }\n",
       "\n",
       "    .dataframe thead th {\n",
       "        text-align: right;\n",
       "    }\n",
       "</style>\n",
       "<table border=\"1\" class=\"dataframe\">\n",
       "  <thead>\n",
       "    <tr style=\"text-align: right;\">\n",
       "      <th></th>\n",
       "      <th>Country (or dependency)</th>\n",
       "      <th>Population (2020)</th>\n",
       "      <th>Yearly Change</th>\n",
       "      <th>Net Change</th>\n",
       "      <th>Density (P/Km²)</th>\n",
       "      <th>Land Area (Km²)</th>\n",
       "      <th>Migrants (net)</th>\n",
       "      <th>Fert. Rate</th>\n",
       "      <th>Med. Age</th>\n",
       "      <th>Urban Pop %</th>\n",
       "      <th>World Share</th>\n",
       "    </tr>\n",
       "  </thead>\n",
       "  <tbody>\n",
       "    <tr>\n",
       "      <th>0</th>\n",
       "      <td>China</td>\n",
       "      <td>1,440,297,825</td>\n",
       "      <td>0.39 %</td>\n",
       "      <td>5540090</td>\n",
       "      <td>153</td>\n",
       "      <td>9,388,211</td>\n",
       "      <td>-348,399.0</td>\n",
       "      <td>1.7</td>\n",
       "      <td>38</td>\n",
       "      <td>61 %</td>\n",
       "      <td>18.47 %</td>\n",
       "    </tr>\n",
       "    <tr>\n",
       "      <th>1</th>\n",
       "      <td>India</td>\n",
       "      <td>1,382,345,085</td>\n",
       "      <td>0.99 %</td>\n",
       "      <td>13586631</td>\n",
       "      <td>464</td>\n",
       "      <td>2,973,190</td>\n",
       "      <td>-532,687.0</td>\n",
       "      <td>2.2</td>\n",
       "      <td>28</td>\n",
       "      <td>35 %</td>\n",
       "      <td>17.70 %</td>\n",
       "    </tr>\n",
       "    <tr>\n",
       "      <th>2</th>\n",
       "      <td>United States</td>\n",
       "      <td>331,341,050</td>\n",
       "      <td>0.59 %</td>\n",
       "      <td>1937734</td>\n",
       "      <td>36</td>\n",
       "      <td>9,147,420</td>\n",
       "      <td>954,806.0</td>\n",
       "      <td>1.8</td>\n",
       "      <td>38</td>\n",
       "      <td>83 %</td>\n",
       "      <td>4.25 %</td>\n",
       "    </tr>\n",
       "    <tr>\n",
       "      <th>3</th>\n",
       "      <td>Indonesia</td>\n",
       "      <td>274,021,604</td>\n",
       "      <td>1.07 %</td>\n",
       "      <td>2898047</td>\n",
       "      <td>151</td>\n",
       "      <td>1,811,570</td>\n",
       "      <td>-98,955.0</td>\n",
       "      <td>2.3</td>\n",
       "      <td>30</td>\n",
       "      <td>56 %</td>\n",
       "      <td>3.51 %</td>\n",
       "    </tr>\n",
       "    <tr>\n",
       "      <th>4</th>\n",
       "      <td>Pakistan</td>\n",
       "      <td>221,612,785</td>\n",
       "      <td>2.00 %</td>\n",
       "      <td>4327022</td>\n",
       "      <td>287</td>\n",
       "      <td>770,880</td>\n",
       "      <td>-233,379.0</td>\n",
       "      <td>3.6</td>\n",
       "      <td>23</td>\n",
       "      <td>35 %</td>\n",
       "      <td>2.83 %</td>\n",
       "    </tr>\n",
       "    <tr>\n",
       "      <th>...</th>\n",
       "      <td>...</td>\n",
       "      <td>...</td>\n",
       "      <td>...</td>\n",
       "      <td>...</td>\n",
       "      <td>...</td>\n",
       "      <td>...</td>\n",
       "      <td>...</td>\n",
       "      <td>...</td>\n",
       "      <td>...</td>\n",
       "      <td>...</td>\n",
       "      <td>...</td>\n",
       "    </tr>\n",
       "    <tr>\n",
       "      <th>230</th>\n",
       "      <td>Montserrat</td>\n",
       "      <td>4,993</td>\n",
       "      <td>0.06 %</td>\n",
       "      <td>3</td>\n",
       "      <td>50</td>\n",
       "      <td>100</td>\n",
       "      <td>NaN</td>\n",
       "      <td>N.A.</td>\n",
       "      <td>N.A.</td>\n",
       "      <td>10 %</td>\n",
       "      <td>0.00 %</td>\n",
       "    </tr>\n",
       "    <tr>\n",
       "      <th>231</th>\n",
       "      <td>Falkland Islands</td>\n",
       "      <td>3,497</td>\n",
       "      <td>3.05 %</td>\n",
       "      <td>103</td>\n",
       "      <td>0</td>\n",
       "      <td>12,170</td>\n",
       "      <td>NaN</td>\n",
       "      <td>N.A.</td>\n",
       "      <td>N.A.</td>\n",
       "      <td>66 %</td>\n",
       "      <td>0.00 %</td>\n",
       "    </tr>\n",
       "    <tr>\n",
       "      <th>232</th>\n",
       "      <td>Niue</td>\n",
       "      <td>1,628</td>\n",
       "      <td>0.68 %</td>\n",
       "      <td>11</td>\n",
       "      <td>6</td>\n",
       "      <td>260</td>\n",
       "      <td>NaN</td>\n",
       "      <td>N.A.</td>\n",
       "      <td>N.A.</td>\n",
       "      <td>46 %</td>\n",
       "      <td>0.00 %</td>\n",
       "    </tr>\n",
       "    <tr>\n",
       "      <th>233</th>\n",
       "      <td>Tokelau</td>\n",
       "      <td>1,360</td>\n",
       "      <td>1.27 %</td>\n",
       "      <td>17</td>\n",
       "      <td>136</td>\n",
       "      <td>10</td>\n",
       "      <td>NaN</td>\n",
       "      <td>N.A.</td>\n",
       "      <td>N.A.</td>\n",
       "      <td>0 %</td>\n",
       "      <td>0.00 %</td>\n",
       "    </tr>\n",
       "    <tr>\n",
       "      <th>234</th>\n",
       "      <td>Holy See</td>\n",
       "      <td>801</td>\n",
       "      <td>0.25 %</td>\n",
       "      <td>2</td>\n",
       "      <td>2003</td>\n",
       "      <td>0</td>\n",
       "      <td>NaN</td>\n",
       "      <td>N.A.</td>\n",
       "      <td>N.A.</td>\n",
       "      <td>N.A.</td>\n",
       "      <td>0.00 %</td>\n",
       "    </tr>\n",
       "  </tbody>\n",
       "</table>\n",
       "<p>235 rows × 11 columns</p>\n",
       "</div>"
      ],
      "text/plain": [
       "    Country (or dependency) Population (2020) Yearly Change  Net Change  \\\n",
       "0                     China     1,440,297,825        0.39 %     5540090   \n",
       "1                     India     1,382,345,085        0.99 %    13586631   \n",
       "2             United States       331,341,050        0.59 %     1937734   \n",
       "3                 Indonesia       274,021,604        1.07 %     2898047   \n",
       "4                  Pakistan       221,612,785        2.00 %     4327022   \n",
       "..                      ...               ...           ...         ...   \n",
       "230              Montserrat             4,993        0.06 %           3   \n",
       "231        Falkland Islands             3,497        3.05 %         103   \n",
       "232                    Niue             1,628        0.68 %          11   \n",
       "233                 Tokelau             1,360        1.27 %          17   \n",
       "234                Holy See               801        0.25 %           2   \n",
       "\n",
       "     Density (P/Km²) Land Area (Km²) Migrants (net) Fert. Rate Med. Age  \\\n",
       "0                153       9,388,211     -348,399.0        1.7       38   \n",
       "1                464       2,973,190     -532,687.0        2.2       28   \n",
       "2                 36       9,147,420      954,806.0        1.8       38   \n",
       "3                151       1,811,570      -98,955.0        2.3       30   \n",
       "4                287         770,880     -233,379.0        3.6       23   \n",
       "..               ...             ...            ...        ...      ...   \n",
       "230               50             100            NaN       N.A.     N.A.   \n",
       "231                0          12,170            NaN       N.A.     N.A.   \n",
       "232                6             260            NaN       N.A.     N.A.   \n",
       "233              136              10            NaN       N.A.     N.A.   \n",
       "234             2003               0            NaN       N.A.     N.A.   \n",
       "\n",
       "    Urban Pop % World Share  \n",
       "0          61 %     18.47 %  \n",
       "1          35 %     17.70 %  \n",
       "2          83 %      4.25 %  \n",
       "3          56 %      3.51 %  \n",
       "4          35 %      2.83 %  \n",
       "..          ...         ...  \n",
       "230        10 %      0.00 %  \n",
       "231        66 %      0.00 %  \n",
       "232        46 %      0.00 %  \n",
       "233         0 %      0.00 %  \n",
       "234        N.A.      0.00 %  \n",
       "\n",
       "[235 rows x 11 columns]"
      ]
     },
     "execution_count": 161,
     "metadata": {},
     "output_type": "execute_result"
    }
   ],
   "source": [
    "pops_raw"
   ]
  },
  {
   "cell_type": "code",
   "execution_count": 151,
   "metadata": {
    "scrolled": true
   },
   "outputs": [
    {
     "data": {
      "text/plain": [
       "{'Burma',\n",
       " 'Congo (Brazzaville)',\n",
       " 'Congo (Kinshasa)',\n",
       " \"Cote d'Ivoire\",\n",
       " 'Czechia',\n",
       " 'Korea, South',\n",
       " 'Kosovo',\n",
       " 'Saint Kitts and Nevis',\n",
       " 'Saint Vincent and the Grenadines',\n",
       " 'Sao Tome and Principe',\n",
       " 'US',\n",
       " 'US (Aggregate)',\n",
       " 'West Bank and Gaza',\n",
       " 'World'}"
      ]
     },
     "execution_count": 151,
     "metadata": {},
     "output_type": "execute_result"
    }
   ],
   "source": [
    "# run this to see the result, and don't change this cell -- it is used by the tests\n",
    "missing = missing_in_pops(tots, pops)\n",
    "missing"
   ]
  },
  {
   "cell_type": "code",
   "execution_count": 152,
   "metadata": {
    "scrolled": true
   },
   "outputs": [
    {
     "data": {
      "text/html": [
       "<div>\n",
       "<style scoped>\n",
       "    .dataframe tbody tr th:only-of-type {\n",
       "        vertical-align: middle;\n",
       "    }\n",
       "\n",
       "    .dataframe tbody tr th {\n",
       "        vertical-align: top;\n",
       "    }\n",
       "\n",
       "    .dataframe thead th {\n",
       "        text-align: right;\n",
       "    }\n",
       "</style>\n",
       "<table border=\"1\" class=\"dataframe\">\n",
       "  <thead>\n",
       "    <tr style=\"text-align: right;\">\n",
       "      <th></th>\n",
       "      <th>Country (or dependency)</th>\n",
       "      <th>Population (2020)</th>\n",
       "      <th>Yearly Change</th>\n",
       "      <th>Net Change</th>\n",
       "      <th>Density (P/Km²)</th>\n",
       "      <th>Land Area (Km²)</th>\n",
       "      <th>Migrants (net)</th>\n",
       "      <th>Fert. Rate</th>\n",
       "      <th>Med. Age</th>\n",
       "      <th>Urban Pop %</th>\n",
       "      <th>World Share</th>\n",
       "    </tr>\n",
       "  </thead>\n",
       "  <tbody>\n",
       "    <tr>\n",
       "      <th>0</th>\n",
       "      <td>China</td>\n",
       "      <td>1440297825</td>\n",
       "      <td>0.0039</td>\n",
       "      <td>5540090</td>\n",
       "      <td>153</td>\n",
       "      <td>9388211</td>\n",
       "      <td>-348399.0</td>\n",
       "      <td>1.7</td>\n",
       "      <td>38.0</td>\n",
       "      <td>0.61</td>\n",
       "      <td>0.1847</td>\n",
       "    </tr>\n",
       "    <tr>\n",
       "      <th>1</th>\n",
       "      <td>India</td>\n",
       "      <td>1382345085</td>\n",
       "      <td>0.0099</td>\n",
       "      <td>13586631</td>\n",
       "      <td>464</td>\n",
       "      <td>2973190</td>\n",
       "      <td>-532687.0</td>\n",
       "      <td>2.2</td>\n",
       "      <td>28.0</td>\n",
       "      <td>0.35</td>\n",
       "      <td>0.1770</td>\n",
       "    </tr>\n",
       "    <tr>\n",
       "      <th>2</th>\n",
       "      <td>US</td>\n",
       "      <td>331341050</td>\n",
       "      <td>0.0059</td>\n",
       "      <td>1937734</td>\n",
       "      <td>36</td>\n",
       "      <td>9147420</td>\n",
       "      <td>954806.0</td>\n",
       "      <td>1.8</td>\n",
       "      <td>38.0</td>\n",
       "      <td>0.83</td>\n",
       "      <td>0.0425</td>\n",
       "    </tr>\n",
       "    <tr>\n",
       "      <th>3</th>\n",
       "      <td>Indonesia</td>\n",
       "      <td>274021604</td>\n",
       "      <td>0.0107</td>\n",
       "      <td>2898047</td>\n",
       "      <td>151</td>\n",
       "      <td>1811570</td>\n",
       "      <td>-98955.0</td>\n",
       "      <td>2.3</td>\n",
       "      <td>30.0</td>\n",
       "      <td>0.56</td>\n",
       "      <td>0.0351</td>\n",
       "    </tr>\n",
       "    <tr>\n",
       "      <th>4</th>\n",
       "      <td>Pakistan</td>\n",
       "      <td>221612785</td>\n",
       "      <td>0.0200</td>\n",
       "      <td>4327022</td>\n",
       "      <td>287</td>\n",
       "      <td>770880</td>\n",
       "      <td>-233379.0</td>\n",
       "      <td>3.6</td>\n",
       "      <td>23.0</td>\n",
       "      <td>0.35</td>\n",
       "      <td>0.0283</td>\n",
       "    </tr>\n",
       "    <tr>\n",
       "      <th>...</th>\n",
       "      <td>...</td>\n",
       "      <td>...</td>\n",
       "      <td>...</td>\n",
       "      <td>...</td>\n",
       "      <td>...</td>\n",
       "      <td>...</td>\n",
       "      <td>...</td>\n",
       "      <td>...</td>\n",
       "      <td>...</td>\n",
       "      <td>...</td>\n",
       "      <td>...</td>\n",
       "    </tr>\n",
       "    <tr>\n",
       "      <th>230</th>\n",
       "      <td>Montserrat</td>\n",
       "      <td>4993</td>\n",
       "      <td>0.0006</td>\n",
       "      <td>3</td>\n",
       "      <td>50</td>\n",
       "      <td>100</td>\n",
       "      <td>NaN</td>\n",
       "      <td>NaN</td>\n",
       "      <td>NaN</td>\n",
       "      <td>0.10</td>\n",
       "      <td>0.0000</td>\n",
       "    </tr>\n",
       "    <tr>\n",
       "      <th>231</th>\n",
       "      <td>Falkland Islands</td>\n",
       "      <td>3497</td>\n",
       "      <td>0.0305</td>\n",
       "      <td>103</td>\n",
       "      <td>0</td>\n",
       "      <td>12170</td>\n",
       "      <td>NaN</td>\n",
       "      <td>NaN</td>\n",
       "      <td>NaN</td>\n",
       "      <td>0.66</td>\n",
       "      <td>0.0000</td>\n",
       "    </tr>\n",
       "    <tr>\n",
       "      <th>232</th>\n",
       "      <td>Niue</td>\n",
       "      <td>1628</td>\n",
       "      <td>0.0068</td>\n",
       "      <td>11</td>\n",
       "      <td>6</td>\n",
       "      <td>260</td>\n",
       "      <td>NaN</td>\n",
       "      <td>NaN</td>\n",
       "      <td>NaN</td>\n",
       "      <td>0.46</td>\n",
       "      <td>0.0000</td>\n",
       "    </tr>\n",
       "    <tr>\n",
       "      <th>233</th>\n",
       "      <td>Tokelau</td>\n",
       "      <td>1360</td>\n",
       "      <td>0.0127</td>\n",
       "      <td>17</td>\n",
       "      <td>136</td>\n",
       "      <td>10</td>\n",
       "      <td>NaN</td>\n",
       "      <td>NaN</td>\n",
       "      <td>NaN</td>\n",
       "      <td>0.00</td>\n",
       "      <td>0.0000</td>\n",
       "    </tr>\n",
       "    <tr>\n",
       "      <th>234</th>\n",
       "      <td>Holy See</td>\n",
       "      <td>801</td>\n",
       "      <td>0.0025</td>\n",
       "      <td>2</td>\n",
       "      <td>2003</td>\n",
       "      <td>0</td>\n",
       "      <td>NaN</td>\n",
       "      <td>NaN</td>\n",
       "      <td>NaN</td>\n",
       "      <td>NaN</td>\n",
       "      <td>0.0000</td>\n",
       "    </tr>\n",
       "  </tbody>\n",
       "</table>\n",
       "<p>235 rows × 11 columns</p>\n",
       "</div>"
      ],
      "text/plain": [
       "    Country (or dependency)  Population (2020)  Yearly Change  Net Change  \\\n",
       "0                     China         1440297825         0.0039     5540090   \n",
       "1                     India         1382345085         0.0099    13586631   \n",
       "2                        US          331341050         0.0059     1937734   \n",
       "3                 Indonesia          274021604         0.0107     2898047   \n",
       "4                  Pakistan          221612785         0.0200     4327022   \n",
       "..                      ...                ...            ...         ...   \n",
       "230              Montserrat               4993         0.0006           3   \n",
       "231        Falkland Islands               3497         0.0305         103   \n",
       "232                    Niue               1628         0.0068          11   \n",
       "233                 Tokelau               1360         0.0127          17   \n",
       "234                Holy See                801         0.0025           2   \n",
       "\n",
       "     Density (P/Km²)  Land Area (Km²)  Migrants (net)  Fert. Rate  Med. Age  \\\n",
       "0                153          9388211       -348399.0         1.7      38.0   \n",
       "1                464          2973190       -532687.0         2.2      28.0   \n",
       "2                 36          9147420        954806.0         1.8      38.0   \n",
       "3                151          1811570        -98955.0         2.3      30.0   \n",
       "4                287           770880       -233379.0         3.6      23.0   \n",
       "..               ...              ...             ...         ...       ...   \n",
       "230               50              100             NaN         NaN       NaN   \n",
       "231                0            12170             NaN         NaN       NaN   \n",
       "232                6              260             NaN         NaN       NaN   \n",
       "233              136               10             NaN         NaN       NaN   \n",
       "234             2003                0             NaN         NaN       NaN   \n",
       "\n",
       "     Urban Pop %  World Share  \n",
       "0           0.61       0.1847  \n",
       "1           0.35       0.1770  \n",
       "2           0.83       0.0425  \n",
       "3           0.56       0.0351  \n",
       "4           0.35       0.0283  \n",
       "..           ...          ...  \n",
       "230         0.10       0.0000  \n",
       "231         0.66       0.0000  \n",
       "232         0.46       0.0000  \n",
       "233         0.00       0.0000  \n",
       "234          NaN       0.0000  \n",
       "\n",
       "[235 rows x 11 columns]"
      ]
     },
     "execution_count": 152,
     "metadata": {},
     "output_type": "execute_result"
    }
   ],
   "source": [
    "# run this to see the result, and don't change this cell -- it is used by the tests\n",
    "pops_fixed = fix_names(pops)\n",
    "pops_fixed"
   ]
  },
  {
   "cell_type": "code",
   "execution_count": 153,
   "metadata": {
    "deletable": false,
    "editable": false
   },
   "outputs": [
    {
     "data": {
      "text/html": [
       "<p><strong><pre style='display: inline;'>q4</pre></strong> passed!</p>"
      ],
      "text/plain": [
       "q4 results: All test cases passed!"
      ]
     },
     "execution_count": 153,
     "metadata": {},
     "output_type": "execute_result"
    }
   ],
   "source": [
    "grader.check(\"q4\")"
   ]
  },
  {
   "cell_type": "markdown",
   "metadata": {},
   "source": [
    "### Question 5\n",
    "\n",
    "Create a function named `top_k_fully_vaccinated` that accepts three arguments: a DataFrame like `tots`, a DataFrame like `pops_fixed`, and an integer, `k`, and returns a Series of the $k$ top vaccination rates of any country, sorted in descending order. For the purposes of this question, we define vaccination rate to be the number of fully vaccinated individuals divided by the total population. \n",
    "\n",
    "The index of the Series should be the country name, and the rates should be decimal numbers between 0 and 1 (you may have to clip in order to ensure this is the case). Don't worry about ties."
   ]
  },
  {
   "cell_type": "code",
   "execution_count": 59,
   "metadata": {},
   "outputs": [
    {
     "data": {
      "text/html": [
       "<div>\n",
       "<style scoped>\n",
       "    .dataframe tbody tr th:only-of-type {\n",
       "        vertical-align: middle;\n",
       "    }\n",
       "\n",
       "    .dataframe tbody tr th {\n",
       "        vertical-align: top;\n",
       "    }\n",
       "\n",
       "    .dataframe thead th {\n",
       "        text-align: right;\n",
       "    }\n",
       "</style>\n",
       "<table border=\"1\" class=\"dataframe\">\n",
       "  <thead>\n",
       "    <tr style=\"text-align: right;\">\n",
       "      <th></th>\n",
       "      <th>Country (or dependency)</th>\n",
       "      <th>Population (2020)</th>\n",
       "      <th>Yearly Change</th>\n",
       "      <th>Net Change</th>\n",
       "      <th>Density (P/Km²)</th>\n",
       "      <th>Land Area (Km²)</th>\n",
       "      <th>Migrants (net)</th>\n",
       "      <th>Fert. Rate</th>\n",
       "      <th>Med. Age</th>\n",
       "      <th>Urban Pop %</th>\n",
       "      <th>World Share</th>\n",
       "    </tr>\n",
       "  </thead>\n",
       "  <tbody>\n",
       "    <tr>\n",
       "      <th>0</th>\n",
       "      <td>China</td>\n",
       "      <td>1440297825</td>\n",
       "      <td>0.0039</td>\n",
       "      <td>5540090</td>\n",
       "      <td>153</td>\n",
       "      <td>9388211</td>\n",
       "      <td>-348399.0</td>\n",
       "      <td>1.7</td>\n",
       "      <td>38.0</td>\n",
       "      <td>0.61</td>\n",
       "      <td>0.1847</td>\n",
       "    </tr>\n",
       "    <tr>\n",
       "      <th>1</th>\n",
       "      <td>India</td>\n",
       "      <td>1382345085</td>\n",
       "      <td>0.0099</td>\n",
       "      <td>13586631</td>\n",
       "      <td>464</td>\n",
       "      <td>2973190</td>\n",
       "      <td>-532687.0</td>\n",
       "      <td>2.2</td>\n",
       "      <td>28.0</td>\n",
       "      <td>0.35</td>\n",
       "      <td>0.1770</td>\n",
       "    </tr>\n",
       "    <tr>\n",
       "      <th>2</th>\n",
       "      <td>US</td>\n",
       "      <td>331341050</td>\n",
       "      <td>0.0059</td>\n",
       "      <td>1937734</td>\n",
       "      <td>36</td>\n",
       "      <td>9147420</td>\n",
       "      <td>954806.0</td>\n",
       "      <td>1.8</td>\n",
       "      <td>38.0</td>\n",
       "      <td>0.83</td>\n",
       "      <td>0.0425</td>\n",
       "    </tr>\n",
       "    <tr>\n",
       "      <th>3</th>\n",
       "      <td>Indonesia</td>\n",
       "      <td>274021604</td>\n",
       "      <td>0.0107</td>\n",
       "      <td>2898047</td>\n",
       "      <td>151</td>\n",
       "      <td>1811570</td>\n",
       "      <td>-98955.0</td>\n",
       "      <td>2.3</td>\n",
       "      <td>30.0</td>\n",
       "      <td>0.56</td>\n",
       "      <td>0.0351</td>\n",
       "    </tr>\n",
       "    <tr>\n",
       "      <th>4</th>\n",
       "      <td>Pakistan</td>\n",
       "      <td>221612785</td>\n",
       "      <td>0.0200</td>\n",
       "      <td>4327022</td>\n",
       "      <td>287</td>\n",
       "      <td>770880</td>\n",
       "      <td>-233379.0</td>\n",
       "      <td>3.6</td>\n",
       "      <td>23.0</td>\n",
       "      <td>0.35</td>\n",
       "      <td>0.0283</td>\n",
       "    </tr>\n",
       "    <tr>\n",
       "      <th>...</th>\n",
       "      <td>...</td>\n",
       "      <td>...</td>\n",
       "      <td>...</td>\n",
       "      <td>...</td>\n",
       "      <td>...</td>\n",
       "      <td>...</td>\n",
       "      <td>...</td>\n",
       "      <td>...</td>\n",
       "      <td>...</td>\n",
       "      <td>...</td>\n",
       "      <td>...</td>\n",
       "    </tr>\n",
       "    <tr>\n",
       "      <th>230</th>\n",
       "      <td>Montserrat</td>\n",
       "      <td>4993</td>\n",
       "      <td>0.0006</td>\n",
       "      <td>3</td>\n",
       "      <td>50</td>\n",
       "      <td>100</td>\n",
       "      <td>NaN</td>\n",
       "      <td>NaN</td>\n",
       "      <td>NaN</td>\n",
       "      <td>0.10</td>\n",
       "      <td>0.0000</td>\n",
       "    </tr>\n",
       "    <tr>\n",
       "      <th>231</th>\n",
       "      <td>Falkland Islands</td>\n",
       "      <td>3497</td>\n",
       "      <td>0.0305</td>\n",
       "      <td>103</td>\n",
       "      <td>0</td>\n",
       "      <td>12170</td>\n",
       "      <td>NaN</td>\n",
       "      <td>NaN</td>\n",
       "      <td>NaN</td>\n",
       "      <td>0.66</td>\n",
       "      <td>0.0000</td>\n",
       "    </tr>\n",
       "    <tr>\n",
       "      <th>232</th>\n",
       "      <td>Niue</td>\n",
       "      <td>1628</td>\n",
       "      <td>0.0068</td>\n",
       "      <td>11</td>\n",
       "      <td>6</td>\n",
       "      <td>260</td>\n",
       "      <td>NaN</td>\n",
       "      <td>NaN</td>\n",
       "      <td>NaN</td>\n",
       "      <td>0.46</td>\n",
       "      <td>0.0000</td>\n",
       "    </tr>\n",
       "    <tr>\n",
       "      <th>233</th>\n",
       "      <td>Tokelau</td>\n",
       "      <td>1360</td>\n",
       "      <td>0.0127</td>\n",
       "      <td>17</td>\n",
       "      <td>136</td>\n",
       "      <td>10</td>\n",
       "      <td>NaN</td>\n",
       "      <td>NaN</td>\n",
       "      <td>NaN</td>\n",
       "      <td>0.00</td>\n",
       "      <td>0.0000</td>\n",
       "    </tr>\n",
       "    <tr>\n",
       "      <th>234</th>\n",
       "      <td>Holy See</td>\n",
       "      <td>801</td>\n",
       "      <td>0.0025</td>\n",
       "      <td>2</td>\n",
       "      <td>2003</td>\n",
       "      <td>0</td>\n",
       "      <td>NaN</td>\n",
       "      <td>NaN</td>\n",
       "      <td>NaN</td>\n",
       "      <td>NaN</td>\n",
       "      <td>0.0000</td>\n",
       "    </tr>\n",
       "  </tbody>\n",
       "</table>\n",
       "<p>235 rows × 11 columns</p>\n",
       "</div>"
      ],
      "text/plain": [
       "    Country (or dependency)  Population (2020)  Yearly Change  Net Change  \\\n",
       "0                     China         1440297825         0.0039     5540090   \n",
       "1                     India         1382345085         0.0099    13586631   \n",
       "2                        US          331341050         0.0059     1937734   \n",
       "3                 Indonesia          274021604         0.0107     2898047   \n",
       "4                  Pakistan          221612785         0.0200     4327022   \n",
       "..                      ...                ...            ...         ...   \n",
       "230              Montserrat               4993         0.0006           3   \n",
       "231        Falkland Islands               3497         0.0305         103   \n",
       "232                    Niue               1628         0.0068          11   \n",
       "233                 Tokelau               1360         0.0127          17   \n",
       "234                Holy See                801         0.0025           2   \n",
       "\n",
       "     Density (P/Km²)  Land Area (Km²)  Migrants (net)  Fert. Rate  Med. Age  \\\n",
       "0                153          9388211       -348399.0         1.7      38.0   \n",
       "1                464          2973190       -532687.0         2.2      28.0   \n",
       "2                 36          9147420        954806.0         1.8      38.0   \n",
       "3                151          1811570        -98955.0         2.3      30.0   \n",
       "4                287           770880       -233379.0         3.6      23.0   \n",
       "..               ...              ...             ...         ...       ...   \n",
       "230               50              100             NaN         NaN       NaN   \n",
       "231                0            12170             NaN         NaN       NaN   \n",
       "232                6              260             NaN         NaN       NaN   \n",
       "233              136               10             NaN         NaN       NaN   \n",
       "234             2003                0             NaN         NaN       NaN   \n",
       "\n",
       "     Urban Pop %  World Share  \n",
       "0           0.61       0.1847  \n",
       "1           0.35       0.1770  \n",
       "2           0.83       0.0425  \n",
       "3           0.56       0.0351  \n",
       "4           0.35       0.0283  \n",
       "..           ...          ...  \n",
       "230         0.10       0.0000  \n",
       "231         0.66       0.0000  \n",
       "232         0.46       0.0000  \n",
       "233         0.00       0.0000  \n",
       "234          NaN       0.0000  \n",
       "\n",
       "[235 rows x 11 columns]"
      ]
     },
     "execution_count": 59,
     "metadata": {},
     "output_type": "execute_result"
    }
   ],
   "source": [
    "pops_fixed#.iloc[25]"
   ]
  },
  {
   "cell_type": "code",
   "execution_count": 50,
   "metadata": {
    "scrolled": true
   },
   "outputs": [
    {
     "data": {
      "text/html": [
       "<div>\n",
       "<style scoped>\n",
       "    .dataframe tbody tr th:only-of-type {\n",
       "        vertical-align: middle;\n",
       "    }\n",
       "\n",
       "    .dataframe tbody tr th {\n",
       "        vertical-align: top;\n",
       "    }\n",
       "\n",
       "    .dataframe thead th {\n",
       "        text-align: right;\n",
       "    }\n",
       "</style>\n",
       "<table border=\"1\" class=\"dataframe\">\n",
       "  <thead>\n",
       "    <tr style=\"text-align: right;\">\n",
       "      <th></th>\n",
       "      <th>Doses_admin</th>\n",
       "      <th>People_partially_vaccinated</th>\n",
       "      <th>People_fully_vaccinated</th>\n",
       "    </tr>\n",
       "    <tr>\n",
       "      <th>Country_Region</th>\n",
       "      <th></th>\n",
       "      <th></th>\n",
       "      <th></th>\n",
       "    </tr>\n",
       "  </thead>\n",
       "  <tbody>\n",
       "    <tr>\n",
       "      <th>Afghanistan</th>\n",
       "      <td>5.852810e+06</td>\n",
       "      <td>5.070937e+06</td>\n",
       "      <td>4.407528e+06</td>\n",
       "    </tr>\n",
       "    <tr>\n",
       "      <th>Albania</th>\n",
       "      <td>2.743218e+06</td>\n",
       "      <td>1.275907e+06</td>\n",
       "      <td>1.209791e+06</td>\n",
       "    </tr>\n",
       "    <tr>\n",
       "      <th>Algeria</th>\n",
       "      <td>1.408292e+07</td>\n",
       "      <td>7.461932e+06</td>\n",
       "      <td>6.110712e+06</td>\n",
       "    </tr>\n",
       "    <tr>\n",
       "      <th>Andorra</th>\n",
       "      <td>1.512840e+05</td>\n",
       "      <td>5.780500e+04</td>\n",
       "      <td>5.330100e+04</td>\n",
       "    </tr>\n",
       "    <tr>\n",
       "      <th>Angola</th>\n",
       "      <td>1.550539e+07</td>\n",
       "      <td>1.115278e+07</td>\n",
       "      <td>5.935958e+06</td>\n",
       "    </tr>\n",
       "    <tr>\n",
       "      <th>...</th>\n",
       "      <td>...</td>\n",
       "      <td>...</td>\n",
       "      <td>...</td>\n",
       "    </tr>\n",
       "    <tr>\n",
       "      <th>West Bank and Gaza</th>\n",
       "      <td>3.694897e+06</td>\n",
       "      <td>NaN</td>\n",
       "      <td>NaN</td>\n",
       "    </tr>\n",
       "    <tr>\n",
       "      <th>World</th>\n",
       "      <td>1.084889e+10</td>\n",
       "      <td>4.848556e+09</td>\n",
       "      <td>4.343345e+09</td>\n",
       "    </tr>\n",
       "    <tr>\n",
       "      <th>Yemen</th>\n",
       "      <td>8.075020e+05</td>\n",
       "      <td>6.435010e+05</td>\n",
       "      <td>4.047810e+05</td>\n",
       "    </tr>\n",
       "    <tr>\n",
       "      <th>Zambia</th>\n",
       "      <td>2.635418e+06</td>\n",
       "      <td>2.829929e+06</td>\n",
       "      <td>2.158357e+06</td>\n",
       "    </tr>\n",
       "    <tr>\n",
       "      <th>Zimbabwe</th>\n",
       "      <td>7.684182e+06</td>\n",
       "      <td>4.860444e+06</td>\n",
       "      <td>3.482764e+06</td>\n",
       "    </tr>\n",
       "  </tbody>\n",
       "</table>\n",
       "<p>192 rows × 3 columns</p>\n",
       "</div>"
      ],
      "text/plain": [
       "                     Doses_admin  People_partially_vaccinated  \\\n",
       "Country_Region                                                  \n",
       "Afghanistan         5.852810e+06                 5.070937e+06   \n",
       "Albania             2.743218e+06                 1.275907e+06   \n",
       "Algeria             1.408292e+07                 7.461932e+06   \n",
       "Andorra             1.512840e+05                 5.780500e+04   \n",
       "Angola              1.550539e+07                 1.115278e+07   \n",
       "...                          ...                          ...   \n",
       "West Bank and Gaza  3.694897e+06                          NaN   \n",
       "World               1.084889e+10                 4.848556e+09   \n",
       "Yemen               8.075020e+05                 6.435010e+05   \n",
       "Zambia              2.635418e+06                 2.829929e+06   \n",
       "Zimbabwe            7.684182e+06                 4.860444e+06   \n",
       "\n",
       "                    People_fully_vaccinated  \n",
       "Country_Region                               \n",
       "Afghanistan                    4.407528e+06  \n",
       "Albania                        1.209791e+06  \n",
       "Algeria                        6.110712e+06  \n",
       "Andorra                        5.330100e+04  \n",
       "Angola                         5.935958e+06  \n",
       "...                                     ...  \n",
       "West Bank and Gaza                      NaN  \n",
       "World                          4.343345e+09  \n",
       "Yemen                          4.047810e+05  \n",
       "Zambia                         2.158357e+06  \n",
       "Zimbabwe                       3.482764e+06  \n",
       "\n",
       "[192 rows x 3 columns]"
      ]
     },
     "execution_count": 50,
     "metadata": {},
     "output_type": "execute_result"
    }
   ],
   "source": [
    "tots"
   ]
  },
  {
   "cell_type": "code",
   "execution_count": 62,
   "metadata": {},
   "outputs": [
    {
     "data": {
      "text/plain": [
       "(192, 3)"
      ]
     },
     "execution_count": 62,
     "metadata": {},
     "output_type": "execute_result"
    }
   ],
   "source": [
    "tots.shape"
   ]
  },
  {
   "cell_type": "code",
   "execution_count": 70,
   "metadata": {
    "scrolled": true,
    "tags": []
   },
   "outputs": [],
   "source": [
    "merged = tots.merge(pops_fixed, left_index = True, right_on = 'Country (or dependency)')\n",
    "merged = merged.set_index('Country (or dependency)')"
   ]
  },
  {
   "cell_type": "code",
   "execution_count": 74,
   "metadata": {
    "scrolled": true,
    "tags": []
   },
   "outputs": [
    {
     "data": {
      "text/plain": [
       "Country (or dependency)\n",
       "Malta                   1.000000\n",
       "United Arab Emirates    0.967983\n",
       "Brunei                  0.924083\n",
       "Portugal                0.923824\n",
       "Chile                   0.906013\n",
       "dtype: float64"
      ]
     },
     "execution_count": 74,
     "metadata": {},
     "output_type": "execute_result"
    }
   ],
   "source": [
    "k = 5\n",
    "np.clip(merged['People_fully_vaccinated'] / merged['Population (2020)'], 0,1).sort_values(ascending = False)[:k]"
   ]
  },
  {
   "cell_type": "code",
   "execution_count": 154,
   "metadata": {
    "scrolled": true
   },
   "outputs": [
    {
     "data": {
      "text/plain": [
       "Country (or dependency)\n",
       "Malta                   1.000000\n",
       "United Arab Emirates    0.967983\n",
       "Brunei                  0.924083\n",
       "Portugal                0.923824\n",
       "Chile                   0.906013\n",
       "Qatar                   0.896619\n",
       "Cuba                    0.875327\n",
       "Singapore               0.855566\n",
       "Iceland                 0.848994\n",
       "Cambodia                0.830611\n",
       "dtype: float64"
      ]
     },
     "execution_count": 154,
     "metadata": {},
     "output_type": "execute_result"
    }
   ],
   "source": [
    "# run this to see the result, and don't change this cell -- it is used by the tests\n",
    "top_k = top_k_fully_vaccinated(tots, pops_fixed, 10)\n",
    "top_k"
   ]
  },
  {
   "cell_type": "code",
   "execution_count": 155,
   "metadata": {
    "deletable": false,
    "editable": false,
    "scrolled": true
   },
   "outputs": [
    {
     "data": {
      "text/html": [
       "<p><strong><pre style='display: inline;'>q5</pre></strong> passed!</p>"
      ],
      "text/plain": [
       "q5 results: All test cases passed!"
      ]
     },
     "execution_count": 155,
     "metadata": {},
     "output_type": "execute_result"
    }
   ],
   "source": [
    "grader.check(\"q5\")"
   ]
  },
  {
   "cell_type": "markdown",
   "metadata": {},
   "source": [
    "That's it for Part 1 of the project!"
   ]
  },
  {
   "cell_type": "markdown",
   "metadata": {},
   "source": [
    "---\n",
    "\n",
    "<a name='part2'></a>\n",
    "\n",
    "## Part 2: Vaccine Effectiveness 💉\n",
    "\n",
    "There has naturally been much interest in the effectiveness of COVID-19 vaccines. In particular, recent reports suggest that the effectiveness of vaccines – and the Pfizer vaccine in particular – may decrease over time. While this is true, the public perception of declining vaccine effectiveness has been affected by what is often a poor use of statistics by media outlets.\n",
    "\n",
    "For example, take the following blurb from [this article](https://www.cbc.ca/news/world/israel-covid-delta-variant-booster-1.6159472) on the Canadian Broadcasting Corporation's website (emphasis added):\n",
    "\n",
    "> Meanwhile, Israeli health officials reported what appeared to be a waning efficacy of the vaccine, including among those who had been double vaccinated. **Data showed that of the serious cases being admitted to hospital, around 60 per cent of patients were people who had been fully vaccinated**, though most were over 60 or with underlying health conditions.\n",
    "\n",
    "This stat sounds terrible – if you're sick in a hospital bed with COVID-19, you're actually more likely to be vaccinated than not! If you're not a data scientist, you might come away with the conclusion that the vaccine is no longer effective against serious illness, or – even worse – that getting the vaccine will **increase** your risk of sickness. Of course, this statistic by itself is actually meaningless. For instance, imagine a world in which 100% of people are vaccinated. Then 100% of people admitted to the hospital will be vaccinated, too! In Question 8, we will explain the theory behind **vaccine effectiveness**, a statistic that more meaningfully measures the improvement in outcomes for vaccinated individuals over unvaccinated individuals.\n",
    "\n",
    "To start, let's load in some data. For this project, we'll work with a dataset of vaccine effectiveness in Israel through mid-summer 2021. The vaccination and hospitalization records in the dataset are real. Israel was mostly vaccinated using the Pfizer vaccine, and was one of the first places where lots of data on the Delta variant was gathered."
   ]
  },
  {
   "cell_type": "code",
   "execution_count": 80,
   "metadata": {},
   "outputs": [],
   "source": [
    "# Download Israeli COVID vaccinations data from the ☁️\n",
    "if not pathlib.Path(os.path.join('data', 'israel.csv')).exists():\n",
    "    urllib.request.urlretrieve(\n",
    "        'https://f000.backblazeb2.com/file/dsc-data/covid-israel/israel.csv',\n",
    "        os.path.join('data', 'israel.csv')\n",
    "    )"
   ]
  },
  {
   "cell_type": "code",
   "execution_count": 156,
   "metadata": {},
   "outputs": [
    {
     "data": {
      "text/html": [
       "<div>\n",
       "<style scoped>\n",
       "    .dataframe tbody tr th:only-of-type {\n",
       "        vertical-align: middle;\n",
       "    }\n",
       "\n",
       "    .dataframe tbody tr th {\n",
       "        vertical-align: top;\n",
       "    }\n",
       "\n",
       "    .dataframe thead th {\n",
       "        text-align: right;\n",
       "    }\n",
       "</style>\n",
       "<table border=\"1\" class=\"dataframe\">\n",
       "  <thead>\n",
       "    <tr style=\"text-align: right;\">\n",
       "      <th></th>\n",
       "      <th>Age</th>\n",
       "      <th>Vaccinated</th>\n",
       "      <th>Severe Sickness</th>\n",
       "    </tr>\n",
       "  </thead>\n",
       "  <tbody>\n",
       "    <tr>\n",
       "      <th>0</th>\n",
       "      <td>23</td>\n",
       "      <td>1</td>\n",
       "      <td>0</td>\n",
       "    </tr>\n",
       "    <tr>\n",
       "      <th>1</th>\n",
       "      <td>60</td>\n",
       "      <td>1</td>\n",
       "      <td>0</td>\n",
       "    </tr>\n",
       "    <tr>\n",
       "      <th>2</th>\n",
       "      <td>43</td>\n",
       "      <td>1</td>\n",
       "      <td>0</td>\n",
       "    </tr>\n",
       "    <tr>\n",
       "      <th>3</th>\n",
       "      <td>40</td>\n",
       "      <td>1</td>\n",
       "      <td>0</td>\n",
       "    </tr>\n",
       "    <tr>\n",
       "      <th>4</th>\n",
       "      <td>71</td>\n",
       "      <td>1</td>\n",
       "      <td>0</td>\n",
       "    </tr>\n",
       "    <tr>\n",
       "      <th>...</th>\n",
       "      <td>...</td>\n",
       "      <td>...</td>\n",
       "      <td>...</td>\n",
       "    </tr>\n",
       "    <tr>\n",
       "      <th>6937537</th>\n",
       "      <td>14</td>\n",
       "      <td>1</td>\n",
       "      <td>0</td>\n",
       "    </tr>\n",
       "    <tr>\n",
       "      <th>6937538</th>\n",
       "      <td>30</td>\n",
       "      <td>1</td>\n",
       "      <td>0</td>\n",
       "    </tr>\n",
       "    <tr>\n",
       "      <th>6937539</th>\n",
       "      <td>18</td>\n",
       "      <td>0</td>\n",
       "      <td>0</td>\n",
       "    </tr>\n",
       "    <tr>\n",
       "      <th>6937540</th>\n",
       "      <td>45</td>\n",
       "      <td>1</td>\n",
       "      <td>0</td>\n",
       "    </tr>\n",
       "    <tr>\n",
       "      <th>6937541</th>\n",
       "      <td>27</td>\n",
       "      <td>1</td>\n",
       "      <td>0</td>\n",
       "    </tr>\n",
       "  </tbody>\n",
       "</table>\n",
       "<p>6937542 rows × 3 columns</p>\n",
       "</div>"
      ],
      "text/plain": [
       "        Age  Vaccinated  Severe Sickness\n",
       "0        23           1                0\n",
       "1        60           1                0\n",
       "2        43           1                0\n",
       "3        40           1                0\n",
       "4        71           1                0\n",
       "...      ..         ...              ...\n",
       "6937537  14           1                0\n",
       "6937538  30           1                0\n",
       "6937539  18           0                0\n",
       "6937540  45           1                0\n",
       "6937541  27           1                0\n",
       "\n",
       "[6937542 rows x 3 columns]"
      ]
     },
     "execution_count": 156,
     "metadata": {},
     "output_type": "execute_result"
    }
   ],
   "source": [
    "israel_raw = pd.read_csv(os.path.join('data', 'israel.csv'))\n",
    "israel_raw"
   ]
  },
  {
   "cell_type": "markdown",
   "metadata": {},
   "source": [
    "Each row in the dataset is a person. Some are vaccinated (marked with a 1 in the \"Vaccinated\" column), and some became severely ill (marked with a 1 in the \"Severe Sickness\" column).\n",
    "\n",
    "As always, we will first check that the data is clean."
   ]
  },
  {
   "cell_type": "code",
   "execution_count": 54,
   "metadata": {},
   "outputs": [
    {
     "name": "stdout",
     "output_type": "stream",
     "text": [
      "<class 'pandas.core.frame.DataFrame'>\n",
      "RangeIndex: 6937542 entries, 0 to 6937541\n",
      "Data columns (total 3 columns):\n",
      " #   Column           Dtype \n",
      "---  ------           ----- \n",
      " 0   Age              object\n",
      " 1   Vaccinated       int64 \n",
      " 2   Severe Sickness  int64 \n",
      "dtypes: int64(2), object(1)\n",
      "memory usage: 158.8+ MB\n"
     ]
    }
   ],
   "source": [
    "israel_raw.info()"
   ]
  },
  {
   "cell_type": "markdown",
   "metadata": {},
   "source": [
    "### Question 6 (Checkpoint Question)\n",
    "\n",
    "If you look at the data types of each column in `israel_raw`, you'll see that the `'Age'` column has a `dtype` of `object`. If you investigate further, you will see that a special value has been used to indicate that some ages are missing. Write a function named `clean_israel_data` that accepts a DataFrame like `israel_raw` and returns a *new* DataFrame where the missing ages are replaced by `np.NaN`s and the `'Age'` column's data type is `float`. Furthermore, the `'Vaccinated'` and `'Severe Sickness'` columns should be stored as `bool`s. The shape of the returned DataFrame should be the same as `israel_raw`, and, as usual, your function should not modify the input DataFrame."
   ]
  },
  {
   "cell_type": "code",
   "execution_count": 115,
   "metadata": {},
   "outputs": [],
   "source": [
    "def convert_nan(word):\n",
    "    if word == '-':\n",
    "        return float(np.nan)\n",
    "    else:\n",
    "        return float(word)"
   ]
  },
  {
   "cell_type": "code",
   "execution_count": null,
   "metadata": {},
   "outputs": [],
   "source": [
    "isreal"
   ]
  },
  {
   "cell_type": "code",
   "execution_count": 116,
   "metadata": {},
   "outputs": [
    {
     "data": {
      "text/html": [
       "<div>\n",
       "<style scoped>\n",
       "    .dataframe tbody tr th:only-of-type {\n",
       "        vertical-align: middle;\n",
       "    }\n",
       "\n",
       "    .dataframe tbody tr th {\n",
       "        vertical-align: top;\n",
       "    }\n",
       "\n",
       "    .dataframe thead th {\n",
       "        text-align: right;\n",
       "    }\n",
       "</style>\n",
       "<table border=\"1\" class=\"dataframe\">\n",
       "  <thead>\n",
       "    <tr style=\"text-align: right;\">\n",
       "      <th></th>\n",
       "      <th>Age</th>\n",
       "      <th>Vaccinated</th>\n",
       "      <th>Severe Sickness</th>\n",
       "    </tr>\n",
       "  </thead>\n",
       "  <tbody>\n",
       "    <tr>\n",
       "      <th>6831</th>\n",
       "      <td>41</td>\n",
       "      <td>0</td>\n",
       "      <td>1</td>\n",
       "    </tr>\n",
       "    <tr>\n",
       "      <th>10167</th>\n",
       "      <td>98</td>\n",
       "      <td>0</td>\n",
       "      <td>1</td>\n",
       "    </tr>\n",
       "    <tr>\n",
       "      <th>48068</th>\n",
       "      <td>58</td>\n",
       "      <td>0</td>\n",
       "      <td>1</td>\n",
       "    </tr>\n",
       "    <tr>\n",
       "      <th>52210</th>\n",
       "      <td>84</td>\n",
       "      <td>1</td>\n",
       "      <td>1</td>\n",
       "    </tr>\n",
       "    <tr>\n",
       "      <th>65883</th>\n",
       "      <td>64</td>\n",
       "      <td>1</td>\n",
       "      <td>1</td>\n",
       "    </tr>\n",
       "    <tr>\n",
       "      <th>...</th>\n",
       "      <td>...</td>\n",
       "      <td>...</td>\n",
       "      <td>...</td>\n",
       "    </tr>\n",
       "    <tr>\n",
       "      <th>6884634</th>\n",
       "      <td>92</td>\n",
       "      <td>1</td>\n",
       "      <td>1</td>\n",
       "    </tr>\n",
       "    <tr>\n",
       "      <th>6895126</th>\n",
       "      <td>77</td>\n",
       "      <td>1</td>\n",
       "      <td>1</td>\n",
       "    </tr>\n",
       "    <tr>\n",
       "      <th>6905362</th>\n",
       "      <td>93</td>\n",
       "      <td>0</td>\n",
       "      <td>1</td>\n",
       "    </tr>\n",
       "    <tr>\n",
       "      <th>6916692</th>\n",
       "      <td>44</td>\n",
       "      <td>0</td>\n",
       "      <td>1</td>\n",
       "    </tr>\n",
       "    <tr>\n",
       "      <th>6919618</th>\n",
       "      <td>52</td>\n",
       "      <td>0</td>\n",
       "      <td>1</td>\n",
       "    </tr>\n",
       "  </tbody>\n",
       "</table>\n",
       "<p>515 rows × 3 columns</p>\n",
       "</div>"
      ],
      "text/plain": [
       "        Age  Vaccinated  Severe Sickness\n",
       "6831     41           0                1\n",
       "10167    98           0                1\n",
       "48068    58           0                1\n",
       "52210    84           1                1\n",
       "65883    64           1                1\n",
       "...      ..         ...              ...\n",
       "6884634  92           1                1\n",
       "6895126  77           1                1\n",
       "6905362  93           0                1\n",
       "6916692  44           0                1\n",
       "6919618  52           0                1\n",
       "\n",
       "[515 rows x 3 columns]"
      ]
     },
     "execution_count": 116,
     "metadata": {},
     "output_type": "execute_result"
    }
   ],
   "source": [
    "copy_df = israel_raw.copy()\n",
    "copy_df[israel_raw['Severe Sickness'] == 1]"
   ]
  },
  {
   "cell_type": "code",
   "execution_count": 117,
   "metadata": {},
   "outputs": [
    {
     "data": {
      "text/html": [
       "<div>\n",
       "<style scoped>\n",
       "    .dataframe tbody tr th:only-of-type {\n",
       "        vertical-align: middle;\n",
       "    }\n",
       "\n",
       "    .dataframe tbody tr th {\n",
       "        vertical-align: top;\n",
       "    }\n",
       "\n",
       "    .dataframe thead th {\n",
       "        text-align: right;\n",
       "    }\n",
       "</style>\n",
       "<table border=\"1\" class=\"dataframe\">\n",
       "  <thead>\n",
       "    <tr style=\"text-align: right;\">\n",
       "      <th></th>\n",
       "      <th>Age</th>\n",
       "      <th>Vaccinated</th>\n",
       "      <th>Severe Sickness</th>\n",
       "    </tr>\n",
       "  </thead>\n",
       "  <tbody>\n",
       "    <tr>\n",
       "      <th>0</th>\n",
       "      <td>23.0</td>\n",
       "      <td>True</td>\n",
       "      <td>False</td>\n",
       "    </tr>\n",
       "    <tr>\n",
       "      <th>1</th>\n",
       "      <td>60.0</td>\n",
       "      <td>True</td>\n",
       "      <td>False</td>\n",
       "    </tr>\n",
       "    <tr>\n",
       "      <th>2</th>\n",
       "      <td>43.0</td>\n",
       "      <td>True</td>\n",
       "      <td>False</td>\n",
       "    </tr>\n",
       "    <tr>\n",
       "      <th>3</th>\n",
       "      <td>40.0</td>\n",
       "      <td>True</td>\n",
       "      <td>False</td>\n",
       "    </tr>\n",
       "    <tr>\n",
       "      <th>4</th>\n",
       "      <td>71.0</td>\n",
       "      <td>True</td>\n",
       "      <td>False</td>\n",
       "    </tr>\n",
       "    <tr>\n",
       "      <th>...</th>\n",
       "      <td>...</td>\n",
       "      <td>...</td>\n",
       "      <td>...</td>\n",
       "    </tr>\n",
       "    <tr>\n",
       "      <th>6937537</th>\n",
       "      <td>14.0</td>\n",
       "      <td>True</td>\n",
       "      <td>False</td>\n",
       "    </tr>\n",
       "    <tr>\n",
       "      <th>6937538</th>\n",
       "      <td>30.0</td>\n",
       "      <td>True</td>\n",
       "      <td>False</td>\n",
       "    </tr>\n",
       "    <tr>\n",
       "      <th>6937539</th>\n",
       "      <td>18.0</td>\n",
       "      <td>False</td>\n",
       "      <td>False</td>\n",
       "    </tr>\n",
       "    <tr>\n",
       "      <th>6937540</th>\n",
       "      <td>45.0</td>\n",
       "      <td>True</td>\n",
       "      <td>False</td>\n",
       "    </tr>\n",
       "    <tr>\n",
       "      <th>6937541</th>\n",
       "      <td>27.0</td>\n",
       "      <td>True</td>\n",
       "      <td>False</td>\n",
       "    </tr>\n",
       "  </tbody>\n",
       "</table>\n",
       "<p>6937542 rows × 3 columns</p>\n",
       "</div>"
      ],
      "text/plain": [
       "          Age  Vaccinated  Severe Sickness\n",
       "0        23.0        True            False\n",
       "1        60.0        True            False\n",
       "2        43.0        True            False\n",
       "3        40.0        True            False\n",
       "4        71.0        True            False\n",
       "...       ...         ...              ...\n",
       "6937537  14.0        True            False\n",
       "6937538  30.0        True            False\n",
       "6937539  18.0       False            False\n",
       "6937540  45.0        True            False\n",
       "6937541  27.0        True            False\n",
       "\n",
       "[6937542 rows x 3 columns]"
      ]
     },
     "execution_count": 117,
     "metadata": {},
     "output_type": "execute_result"
    }
   ],
   "source": [
    "clean_israel_data(israel_raw)"
   ]
  },
  {
   "cell_type": "code",
   "execution_count": 112,
   "metadata": {
    "scrolled": true,
    "tags": []
   },
   "outputs": [
    {
     "data": {
      "text/html": [
       "<div>\n",
       "<style scoped>\n",
       "    .dataframe tbody tr th:only-of-type {\n",
       "        vertical-align: middle;\n",
       "    }\n",
       "\n",
       "    .dataframe tbody tr th {\n",
       "        vertical-align: top;\n",
       "    }\n",
       "\n",
       "    .dataframe thead th {\n",
       "        text-align: right;\n",
       "    }\n",
       "</style>\n",
       "<table border=\"1\" class=\"dataframe\">\n",
       "  <thead>\n",
       "    <tr style=\"text-align: right;\">\n",
       "      <th></th>\n",
       "      <th>Age</th>\n",
       "      <th>Vaccinated</th>\n",
       "      <th>Severe Sickness</th>\n",
       "    </tr>\n",
       "  </thead>\n",
       "  <tbody>\n",
       "    <tr>\n",
       "      <th>0</th>\n",
       "      <td>23.0</td>\n",
       "      <td>True</td>\n",
       "      <td>False</td>\n",
       "    </tr>\n",
       "    <tr>\n",
       "      <th>1</th>\n",
       "      <td>60.0</td>\n",
       "      <td>True</td>\n",
       "      <td>False</td>\n",
       "    </tr>\n",
       "    <tr>\n",
       "      <th>2</th>\n",
       "      <td>43.0</td>\n",
       "      <td>True</td>\n",
       "      <td>False</td>\n",
       "    </tr>\n",
       "    <tr>\n",
       "      <th>3</th>\n",
       "      <td>40.0</td>\n",
       "      <td>True</td>\n",
       "      <td>False</td>\n",
       "    </tr>\n",
       "    <tr>\n",
       "      <th>4</th>\n",
       "      <td>71.0</td>\n",
       "      <td>True</td>\n",
       "      <td>False</td>\n",
       "    </tr>\n",
       "    <tr>\n",
       "      <th>...</th>\n",
       "      <td>...</td>\n",
       "      <td>...</td>\n",
       "      <td>...</td>\n",
       "    </tr>\n",
       "    <tr>\n",
       "      <th>6937537</th>\n",
       "      <td>14.0</td>\n",
       "      <td>True</td>\n",
       "      <td>False</td>\n",
       "    </tr>\n",
       "    <tr>\n",
       "      <th>6937538</th>\n",
       "      <td>30.0</td>\n",
       "      <td>True</td>\n",
       "      <td>False</td>\n",
       "    </tr>\n",
       "    <tr>\n",
       "      <th>6937539</th>\n",
       "      <td>18.0</td>\n",
       "      <td>False</td>\n",
       "      <td>False</td>\n",
       "    </tr>\n",
       "    <tr>\n",
       "      <th>6937540</th>\n",
       "      <td>45.0</td>\n",
       "      <td>True</td>\n",
       "      <td>False</td>\n",
       "    </tr>\n",
       "    <tr>\n",
       "      <th>6937541</th>\n",
       "      <td>27.0</td>\n",
       "      <td>True</td>\n",
       "      <td>False</td>\n",
       "    </tr>\n",
       "  </tbody>\n",
       "</table>\n",
       "<p>6937542 rows × 3 columns</p>\n",
       "</div>"
      ],
      "text/plain": [
       "          Age  Vaccinated  Severe Sickness\n",
       "0        23.0        True            False\n",
       "1        60.0        True            False\n",
       "2        43.0        True            False\n",
       "3        40.0        True            False\n",
       "4        71.0        True            False\n",
       "...       ...         ...              ...\n",
       "6937537  14.0        True            False\n",
       "6937538  30.0        True            False\n",
       "6937539  18.0       False            False\n",
       "6937540  45.0        True            False\n",
       "6937541  27.0        True            False\n",
       "\n",
       "[6937542 rows x 3 columns]"
      ]
     },
     "execution_count": 112,
     "metadata": {},
     "output_type": "execute_result"
    }
   ],
   "source": [
    "copy_df = israel_raw.copy()\n",
    "copy_df['Age'] = copy_df['Age'].apply(convert_nan)\n",
    "copy_df['Vaccinated'] =  copy_df['Vaccinated'].astype(bool)\n",
    "copy_df['Severe Sickness'] =  copy_df['Severe Sickness'].astype(bool)\n",
    "copy_df"
   ]
  },
  {
   "cell_type": "code",
   "execution_count": 113,
   "metadata": {},
   "outputs": [
    {
     "data": {
      "text/html": [
       "<div>\n",
       "<style scoped>\n",
       "    .dataframe tbody tr th:only-of-type {\n",
       "        vertical-align: middle;\n",
       "    }\n",
       "\n",
       "    .dataframe tbody tr th {\n",
       "        vertical-align: top;\n",
       "    }\n",
       "\n",
       "    .dataframe thead th {\n",
       "        text-align: right;\n",
       "    }\n",
       "</style>\n",
       "<table border=\"1\" class=\"dataframe\">\n",
       "  <thead>\n",
       "    <tr style=\"text-align: right;\">\n",
       "      <th></th>\n",
       "      <th>Age</th>\n",
       "      <th>Vaccinated</th>\n",
       "      <th>Severe Sickness</th>\n",
       "    </tr>\n",
       "  </thead>\n",
       "  <tbody>\n",
       "    <tr>\n",
       "      <th>0</th>\n",
       "      <td>23</td>\n",
       "      <td>1</td>\n",
       "      <td>0</td>\n",
       "    </tr>\n",
       "    <tr>\n",
       "      <th>1</th>\n",
       "      <td>60</td>\n",
       "      <td>1</td>\n",
       "      <td>0</td>\n",
       "    </tr>\n",
       "    <tr>\n",
       "      <th>2</th>\n",
       "      <td>43</td>\n",
       "      <td>1</td>\n",
       "      <td>0</td>\n",
       "    </tr>\n",
       "    <tr>\n",
       "      <th>3</th>\n",
       "      <td>40</td>\n",
       "      <td>1</td>\n",
       "      <td>0</td>\n",
       "    </tr>\n",
       "    <tr>\n",
       "      <th>4</th>\n",
       "      <td>71</td>\n",
       "      <td>1</td>\n",
       "      <td>0</td>\n",
       "    </tr>\n",
       "    <tr>\n",
       "      <th>...</th>\n",
       "      <td>...</td>\n",
       "      <td>...</td>\n",
       "      <td>...</td>\n",
       "    </tr>\n",
       "    <tr>\n",
       "      <th>6937537</th>\n",
       "      <td>14</td>\n",
       "      <td>1</td>\n",
       "      <td>0</td>\n",
       "    </tr>\n",
       "    <tr>\n",
       "      <th>6937538</th>\n",
       "      <td>30</td>\n",
       "      <td>1</td>\n",
       "      <td>0</td>\n",
       "    </tr>\n",
       "    <tr>\n",
       "      <th>6937539</th>\n",
       "      <td>18</td>\n",
       "      <td>0</td>\n",
       "      <td>0</td>\n",
       "    </tr>\n",
       "    <tr>\n",
       "      <th>6937540</th>\n",
       "      <td>45</td>\n",
       "      <td>1</td>\n",
       "      <td>0</td>\n",
       "    </tr>\n",
       "    <tr>\n",
       "      <th>6937541</th>\n",
       "      <td>27</td>\n",
       "      <td>1</td>\n",
       "      <td>0</td>\n",
       "    </tr>\n",
       "  </tbody>\n",
       "</table>\n",
       "<p>6937542 rows × 3 columns</p>\n",
       "</div>"
      ],
      "text/plain": [
       "        Age  Vaccinated  Severe Sickness\n",
       "0        23           1                0\n",
       "1        60           1                0\n",
       "2        43           1                0\n",
       "3        40           1                0\n",
       "4        71           1                0\n",
       "...      ..         ...              ...\n",
       "6937537  14           1                0\n",
       "6937538  30           1                0\n",
       "6937539  18           0                0\n",
       "6937540  45           1                0\n",
       "6937541  27           1                0\n",
       "\n",
       "[6937542 rows x 3 columns]"
      ]
     },
     "execution_count": 113,
     "metadata": {},
     "output_type": "execute_result"
    }
   ],
   "source": [
    "israel_raw"
   ]
  },
  {
   "cell_type": "code",
   "execution_count": null,
   "metadata": {
    "tags": []
   },
   "outputs": [],
   "source": []
  },
  {
   "cell_type": "code",
   "execution_count": 157,
   "metadata": {},
   "outputs": [
    {
     "data": {
      "text/html": [
       "<div>\n",
       "<style scoped>\n",
       "    .dataframe tbody tr th:only-of-type {\n",
       "        vertical-align: middle;\n",
       "    }\n",
       "\n",
       "    .dataframe tbody tr th {\n",
       "        vertical-align: top;\n",
       "    }\n",
       "\n",
       "    .dataframe thead th {\n",
       "        text-align: right;\n",
       "    }\n",
       "</style>\n",
       "<table border=\"1\" class=\"dataframe\">\n",
       "  <thead>\n",
       "    <tr style=\"text-align: right;\">\n",
       "      <th></th>\n",
       "      <th>Age</th>\n",
       "      <th>Vaccinated</th>\n",
       "      <th>Severe Sickness</th>\n",
       "    </tr>\n",
       "  </thead>\n",
       "  <tbody>\n",
       "    <tr>\n",
       "      <th>0</th>\n",
       "      <td>23.0</td>\n",
       "      <td>True</td>\n",
       "      <td>False</td>\n",
       "    </tr>\n",
       "    <tr>\n",
       "      <th>1</th>\n",
       "      <td>60.0</td>\n",
       "      <td>True</td>\n",
       "      <td>False</td>\n",
       "    </tr>\n",
       "    <tr>\n",
       "      <th>2</th>\n",
       "      <td>43.0</td>\n",
       "      <td>True</td>\n",
       "      <td>False</td>\n",
       "    </tr>\n",
       "    <tr>\n",
       "      <th>3</th>\n",
       "      <td>40.0</td>\n",
       "      <td>True</td>\n",
       "      <td>False</td>\n",
       "    </tr>\n",
       "    <tr>\n",
       "      <th>4</th>\n",
       "      <td>71.0</td>\n",
       "      <td>True</td>\n",
       "      <td>False</td>\n",
       "    </tr>\n",
       "    <tr>\n",
       "      <th>...</th>\n",
       "      <td>...</td>\n",
       "      <td>...</td>\n",
       "      <td>...</td>\n",
       "    </tr>\n",
       "    <tr>\n",
       "      <th>6937537</th>\n",
       "      <td>14.0</td>\n",
       "      <td>True</td>\n",
       "      <td>False</td>\n",
       "    </tr>\n",
       "    <tr>\n",
       "      <th>6937538</th>\n",
       "      <td>30.0</td>\n",
       "      <td>True</td>\n",
       "      <td>False</td>\n",
       "    </tr>\n",
       "    <tr>\n",
       "      <th>6937539</th>\n",
       "      <td>18.0</td>\n",
       "      <td>False</td>\n",
       "      <td>False</td>\n",
       "    </tr>\n",
       "    <tr>\n",
       "      <th>6937540</th>\n",
       "      <td>45.0</td>\n",
       "      <td>True</td>\n",
       "      <td>False</td>\n",
       "    </tr>\n",
       "    <tr>\n",
       "      <th>6937541</th>\n",
       "      <td>27.0</td>\n",
       "      <td>True</td>\n",
       "      <td>False</td>\n",
       "    </tr>\n",
       "  </tbody>\n",
       "</table>\n",
       "<p>6937542 rows × 3 columns</p>\n",
       "</div>"
      ],
      "text/plain": [
       "          Age  Vaccinated  Severe Sickness\n",
       "0        23.0        True            False\n",
       "1        60.0        True            False\n",
       "2        43.0        True            False\n",
       "3        40.0        True            False\n",
       "4        71.0        True            False\n",
       "...       ...         ...              ...\n",
       "6937537  14.0        True            False\n",
       "6937538  30.0        True            False\n",
       "6937539  18.0       False            False\n",
       "6937540  45.0        True            False\n",
       "6937541  27.0        True            False\n",
       "\n",
       "[6937542 rows x 3 columns]"
      ]
     },
     "execution_count": 157,
     "metadata": {},
     "output_type": "execute_result"
    }
   ],
   "source": [
    "# run this to see the result, and don't change this cell -- it is used by the tests\n",
    "israel = clean_israel_data(israel_raw)\n",
    "israel"
   ]
  },
  {
   "cell_type": "code",
   "execution_count": 158,
   "metadata": {
    "deletable": false,
    "editable": false
   },
   "outputs": [
    {
     "data": {
      "text/html": [
       "<p><strong><pre style='display: inline;'>q6</pre></strong> passed!</p>"
      ],
      "text/plain": [
       "q6 results: All test cases passed!"
      ]
     },
     "execution_count": 158,
     "metadata": {},
     "output_type": "execute_result"
    }
   ],
   "source": [
    "grader.check(\"q6\")"
   ]
  },
  {
   "cell_type": "markdown",
   "metadata": {},
   "source": [
    "We now need to decide what to do with the missing values in the `'Age'` column. Can we simply drop those rows? First, let's look at whether the missing values might be MCAR, NMAR, missing by design, etc. We'll first check to see if the distribution of the other columns differs depending on whether the ages are missing or not:"
   ]
  },
  {
   "cell_type": "code",
   "execution_count": 86,
   "metadata": {},
   "outputs": [
    {
     "data": {
      "text/html": [
       "<div>\n",
       "<style scoped>\n",
       "    .dataframe tbody tr th:only-of-type {\n",
       "        vertical-align: middle;\n",
       "    }\n",
       "\n",
       "    .dataframe tbody tr th {\n",
       "        vertical-align: top;\n",
       "    }\n",
       "\n",
       "    .dataframe thead th {\n",
       "        text-align: right;\n",
       "    }\n",
       "</style>\n",
       "<table border=\"1\" class=\"dataframe\">\n",
       "  <thead>\n",
       "    <tr style=\"text-align: right;\">\n",
       "      <th></th>\n",
       "      <th>Age</th>\n",
       "      <th>Vaccinated</th>\n",
       "      <th>Severe Sickness</th>\n",
       "    </tr>\n",
       "    <tr>\n",
       "      <th>null_age</th>\n",
       "      <th></th>\n",
       "      <th></th>\n",
       "      <th></th>\n",
       "    </tr>\n",
       "  </thead>\n",
       "  <tbody>\n",
       "    <tr>\n",
       "      <th>False</th>\n",
       "      <td>41.036</td>\n",
       "      <td>0.812204</td>\n",
       "      <td>0.000074</td>\n",
       "    </tr>\n",
       "    <tr>\n",
       "      <th>True</th>\n",
       "      <td>NaN</td>\n",
       "      <td>0.805164</td>\n",
       "      <td>0.000000</td>\n",
       "    </tr>\n",
       "  </tbody>\n",
       "</table>\n",
       "</div>"
      ],
      "text/plain": [
       "             Age  Vaccinated  Severe Sickness\n",
       "null_age                                     \n",
       "False     41.036    0.812204         0.000074\n",
       "True         NaN    0.805164         0.000000"
      ]
     },
     "execution_count": 86,
     "metadata": {},
     "output_type": "execute_result"
    }
   ],
   "source": [
    "israel.assign(null_age=israel['Age'].isna()).groupby('null_age').mean()"
   ]
  },
  {
   "cell_type": "markdown",
   "metadata": {},
   "source": [
    "### Question 7\n",
    "\n",
    "Because the vaccination rate and severe sickness rate appear to be about the same, whether or not `'Age'` is missing, we hypothesize that `'Age'` is MCAR (missing completely at random). Let's investigate.\n",
    "\n",
    "#### `mcar_permutation_tests`\n",
    "\n",
    "Write a function named `mcar_permutation_tests` that accepts two arguments – a DataFrame like `israel` and a number `n_permutations` of permutations – and runs the two permutation tests described below. Your function should return a 2-tuple where the first entry is an array of the simulated test statistics for the first permutation test, and the second entry is an array of simulated test statistics for the second permutation test.\n",
    "\n",
    "- The first permutation test should check the null hypothesis that values in the `'Vaccinated'` column for rows where the `'Age'` was missing were drawn from the same distribution as the values in rows where `'Age'` was not missing. The alternative hypothesis should be that they were drawn from *different* distributions. As your test statistic, use the **absolute difference in group means**. \n",
    "- The second permutation test should do the same, but for the `'Severe Sickness'` column.\n",
    "\n",
    "***Note:*** Your code should run in less than two minutes when called with `n_permutations=100`. You should be able to run both permutation tests in a single `for`-loop.\n",
    "\n",
    "<br>\n",
    "\n",
    "#### `missingness_type`\n",
    "\n",
    "Then, create a function named `missingness_type` that takes no arguments and returns a single integer corresponding to the option below that you think describes the type of missingess in this data:\n",
    "\n",
    "1. MCAR (Missing completely at random)\n",
    "2. MAR (Missing at random)\n",
    "3. NMAR (Not missing at random)\n",
    "4. Missing by design"
   ]
  },
  {
   "cell_type": "code",
   "execution_count": 91,
   "metadata": {},
   "outputs": [
    {
     "data": {
      "text/html": [
       "<div>\n",
       "<style scoped>\n",
       "    .dataframe tbody tr th:only-of-type {\n",
       "        vertical-align: middle;\n",
       "    }\n",
       "\n",
       "    .dataframe tbody tr th {\n",
       "        vertical-align: top;\n",
       "    }\n",
       "\n",
       "    .dataframe thead th {\n",
       "        text-align: right;\n",
       "    }\n",
       "</style>\n",
       "<table border=\"1\" class=\"dataframe\">\n",
       "  <thead>\n",
       "    <tr style=\"text-align: right;\">\n",
       "      <th></th>\n",
       "      <th>Age</th>\n",
       "      <th>Vaccinated</th>\n",
       "      <th>Severe Sickness</th>\n",
       "    </tr>\n",
       "  </thead>\n",
       "  <tbody>\n",
       "    <tr>\n",
       "      <th>0</th>\n",
       "      <td>23.0</td>\n",
       "      <td>True</td>\n",
       "      <td>False</td>\n",
       "    </tr>\n",
       "    <tr>\n",
       "      <th>1</th>\n",
       "      <td>60.0</td>\n",
       "      <td>True</td>\n",
       "      <td>False</td>\n",
       "    </tr>\n",
       "    <tr>\n",
       "      <th>2</th>\n",
       "      <td>43.0</td>\n",
       "      <td>True</td>\n",
       "      <td>False</td>\n",
       "    </tr>\n",
       "    <tr>\n",
       "      <th>3</th>\n",
       "      <td>40.0</td>\n",
       "      <td>True</td>\n",
       "      <td>False</td>\n",
       "    </tr>\n",
       "    <tr>\n",
       "      <th>4</th>\n",
       "      <td>71.0</td>\n",
       "      <td>True</td>\n",
       "      <td>False</td>\n",
       "    </tr>\n",
       "    <tr>\n",
       "      <th>...</th>\n",
       "      <td>...</td>\n",
       "      <td>...</td>\n",
       "      <td>...</td>\n",
       "    </tr>\n",
       "    <tr>\n",
       "      <th>6937537</th>\n",
       "      <td>14.0</td>\n",
       "      <td>True</td>\n",
       "      <td>False</td>\n",
       "    </tr>\n",
       "    <tr>\n",
       "      <th>6937538</th>\n",
       "      <td>30.0</td>\n",
       "      <td>True</td>\n",
       "      <td>False</td>\n",
       "    </tr>\n",
       "    <tr>\n",
       "      <th>6937539</th>\n",
       "      <td>18.0</td>\n",
       "      <td>False</td>\n",
       "      <td>False</td>\n",
       "    </tr>\n",
       "    <tr>\n",
       "      <th>6937540</th>\n",
       "      <td>45.0</td>\n",
       "      <td>True</td>\n",
       "      <td>False</td>\n",
       "    </tr>\n",
       "    <tr>\n",
       "      <th>6937541</th>\n",
       "      <td>27.0</td>\n",
       "      <td>True</td>\n",
       "      <td>False</td>\n",
       "    </tr>\n",
       "  </tbody>\n",
       "</table>\n",
       "<p>6937542 rows × 3 columns</p>\n",
       "</div>"
      ],
      "text/plain": [
       "          Age  Vaccinated  Severe Sickness\n",
       "0        23.0        True            False\n",
       "1        60.0        True            False\n",
       "2        43.0        True            False\n",
       "3        40.0        True            False\n",
       "4        71.0        True            False\n",
       "...       ...         ...              ...\n",
       "6937537  14.0        True            False\n",
       "6937538  30.0        True            False\n",
       "6937539  18.0       False            False\n",
       "6937540  45.0        True            False\n",
       "6937541  27.0        True            False\n",
       "\n",
       "[6937542 rows x 3 columns]"
      ]
     },
     "execution_count": 91,
     "metadata": {},
     "output_type": "execute_result"
    }
   ],
   "source": [
    "israel"
   ]
  },
  {
   "cell_type": "code",
   "execution_count": 90,
   "metadata": {},
   "outputs": [
    {
     "data": {
      "text/plain": [
       "6937542"
      ]
     },
     "execution_count": 90,
     "metadata": {},
     "output_type": "execute_result"
    }
   ],
   "source": [
    "israel.shape[0]"
   ]
  },
  {
   "cell_type": "code",
   "execution_count": null,
   "metadata": {},
   "outputs": [],
   "source": [
    "n = 100"
   ]
  },
  {
   "cell_type": "code",
   "execution_count": null,
   "metadata": {},
   "outputs": [],
   "source": [
    "shuffled = heights_mcar.copy()\n",
    "shuffled['child_missing'] = shuffled['child'].isna()\n",
    "\n",
    "n_repetitions = 500\n",
    "tvds = []\n",
    "for _ in range(n_repetitions):\n",
    "    \n",
    "    # Shuffling genders and assigning back to the DataFrame\n",
    "    shuffled['gender'] = np.random.permutation(shuffled['gender'])\n",
    "    \n",
    "    # Computing and storing TVD\n",
    "    pivoted = (\n",
    "        shuffled\n",
    "        .pivot_table(index='child_missing', columns='gender', aggfunc='size')\n",
    "        .apply(lambda x: x / x.sum(), axis=1)\n",
    "    )\n",
    "    \n",
    "    tvd = pivoted.diff().iloc[:, -1].abs().sum() / 2\n",
    "    tvds.append(tvd)"
   ]
  },
  {
   "cell_type": "code",
   "execution_count": null,
   "metadata": {},
   "outputs": [],
   "source": [
    "is_smoker = smoking_and_birthweight['Maternal Smoker'].values\n",
    "weights = smoking_and_birthweight['Birth Weight'].values\n",
    "n_smokers = is_smoker.sum()\n",
    "n_non_smokers = 1174 - n_smokers\n",
    "\n",
    "is_smoker_permutations = np.column_stack([\n",
    "    np.random.permutation(is_smoker)\n",
    "    for _ in range(3000)\n",
    "]).T\n",
    "\n",
    "mean_smokers = (weights * is_smoker_permutations).sum(axis=1) / n_smokers\n",
    "mean_non_smokers = (weights * ~is_smoker_permutations).sum(axis=1) / n_non_smokers\n",
    "ultra_fast_differences = mean_smokers - mean_non_smokers"
   ]
  },
  {
   "cell_type": "code",
   "execution_count": 89,
   "metadata": {
    "scrolled": true,
    "tags": []
   },
   "outputs": [
    {
     "ename": "KeyError",
     "evalue": "'Birth Weight'",
     "output_type": "error",
     "traceback": [
      "\u001b[0;31m---------------------------------------------------------------------------\u001b[0m",
      "\u001b[0;31mKeyError\u001b[0m                                  Traceback (most recent call last)",
      "File \u001b[0;32m~/.local/lib/python3.8/site-packages/pandas/core/indexes/base.py:3621\u001b[0m, in \u001b[0;36mIndex.get_loc\u001b[0;34m(self, key, method, tolerance)\u001b[0m\n\u001b[1;32m   3620\u001b[0m \u001b[38;5;28;01mtry\u001b[39;00m:\n\u001b[0;32m-> 3621\u001b[0m     \u001b[38;5;28;01mreturn\u001b[39;00m \u001b[38;5;28;43mself\u001b[39;49m\u001b[38;5;241;43m.\u001b[39;49m\u001b[43m_engine\u001b[49m\u001b[38;5;241;43m.\u001b[39;49m\u001b[43mget_loc\u001b[49m\u001b[43m(\u001b[49m\u001b[43mcasted_key\u001b[49m\u001b[43m)\u001b[49m\n\u001b[1;32m   3622\u001b[0m \u001b[38;5;28;01mexcept\u001b[39;00m \u001b[38;5;167;01mKeyError\u001b[39;00m \u001b[38;5;28;01mas\u001b[39;00m err:\n",
      "File \u001b[0;32m~/.local/lib/python3.8/site-packages/pandas/_libs/index.pyx:136\u001b[0m, in \u001b[0;36mpandas._libs.index.IndexEngine.get_loc\u001b[0;34m()\u001b[0m\n",
      "File \u001b[0;32m~/.local/lib/python3.8/site-packages/pandas/_libs/index.pyx:163\u001b[0m, in \u001b[0;36mpandas._libs.index.IndexEngine.get_loc\u001b[0;34m()\u001b[0m\n",
      "File \u001b[0;32mpandas/_libs/hashtable_class_helper.pxi:5198\u001b[0m, in \u001b[0;36mpandas._libs.hashtable.PyObjectHashTable.get_item\u001b[0;34m()\u001b[0m\n",
      "File \u001b[0;32mpandas/_libs/hashtable_class_helper.pxi:5206\u001b[0m, in \u001b[0;36mpandas._libs.hashtable.PyObjectHashTable.get_item\u001b[0;34m()\u001b[0m\n",
      "\u001b[0;31mKeyError\u001b[0m: 'Birth Weight'",
      "\nThe above exception was the direct cause of the following exception:\n",
      "\u001b[0;31mKeyError\u001b[0m                                  Traceback (most recent call last)",
      "Input \u001b[0;32mIn [89]\u001b[0m, in \u001b[0;36m<cell line: 2>\u001b[0;34m()\u001b[0m\n\u001b[1;32m      1\u001b[0m to_shuffle \u001b[38;5;241m=\u001b[39m israel\u001b[38;5;241m.\u001b[39mcopy()\n\u001b[0;32m----> 2\u001b[0m weights1 \u001b[38;5;241m=\u001b[39m \u001b[43mto_shuffle\u001b[49m\u001b[43m[\u001b[49m\u001b[38;5;124;43m'\u001b[39;49m\u001b[38;5;124;43mBirth Weight\u001b[39;49m\u001b[38;5;124;43m'\u001b[39;49m\u001b[43m]\u001b[49m\n",
      "File \u001b[0;32m~/.local/lib/python3.8/site-packages/pandas/core/frame.py:3505\u001b[0m, in \u001b[0;36mDataFrame.__getitem__\u001b[0;34m(self, key)\u001b[0m\n\u001b[1;32m   3503\u001b[0m \u001b[38;5;28;01mif\u001b[39;00m \u001b[38;5;28mself\u001b[39m\u001b[38;5;241m.\u001b[39mcolumns\u001b[38;5;241m.\u001b[39mnlevels \u001b[38;5;241m>\u001b[39m \u001b[38;5;241m1\u001b[39m:\n\u001b[1;32m   3504\u001b[0m     \u001b[38;5;28;01mreturn\u001b[39;00m \u001b[38;5;28mself\u001b[39m\u001b[38;5;241m.\u001b[39m_getitem_multilevel(key)\n\u001b[0;32m-> 3505\u001b[0m indexer \u001b[38;5;241m=\u001b[39m \u001b[38;5;28;43mself\u001b[39;49m\u001b[38;5;241;43m.\u001b[39;49m\u001b[43mcolumns\u001b[49m\u001b[38;5;241;43m.\u001b[39;49m\u001b[43mget_loc\u001b[49m\u001b[43m(\u001b[49m\u001b[43mkey\u001b[49m\u001b[43m)\u001b[49m\n\u001b[1;32m   3506\u001b[0m \u001b[38;5;28;01mif\u001b[39;00m is_integer(indexer):\n\u001b[1;32m   3507\u001b[0m     indexer \u001b[38;5;241m=\u001b[39m [indexer]\n",
      "File \u001b[0;32m~/.local/lib/python3.8/site-packages/pandas/core/indexes/base.py:3623\u001b[0m, in \u001b[0;36mIndex.get_loc\u001b[0;34m(self, key, method, tolerance)\u001b[0m\n\u001b[1;32m   3621\u001b[0m     \u001b[38;5;28;01mreturn\u001b[39;00m \u001b[38;5;28mself\u001b[39m\u001b[38;5;241m.\u001b[39m_engine\u001b[38;5;241m.\u001b[39mget_loc(casted_key)\n\u001b[1;32m   3622\u001b[0m \u001b[38;5;28;01mexcept\u001b[39;00m \u001b[38;5;167;01mKeyError\u001b[39;00m \u001b[38;5;28;01mas\u001b[39;00m err:\n\u001b[0;32m-> 3623\u001b[0m     \u001b[38;5;28;01mraise\u001b[39;00m \u001b[38;5;167;01mKeyError\u001b[39;00m(key) \u001b[38;5;28;01mfrom\u001b[39;00m \u001b[38;5;21;01merr\u001b[39;00m\n\u001b[1;32m   3624\u001b[0m \u001b[38;5;28;01mexcept\u001b[39;00m \u001b[38;5;167;01mTypeError\u001b[39;00m:\n\u001b[1;32m   3625\u001b[0m     \u001b[38;5;66;03m# If we have a listlike key, _check_indexing_error will raise\u001b[39;00m\n\u001b[1;32m   3626\u001b[0m     \u001b[38;5;66;03m#  InvalidIndexError. Otherwise we fall through and re-raise\u001b[39;00m\n\u001b[1;32m   3627\u001b[0m     \u001b[38;5;66;03m#  the TypeError.\u001b[39;00m\n\u001b[1;32m   3628\u001b[0m     \u001b[38;5;28mself\u001b[39m\u001b[38;5;241m.\u001b[39m_check_indexing_error(key)\n",
      "\u001b[0;31mKeyError\u001b[0m: 'Birth Weight'"
     ]
    }
   ],
   "source": [
    "shuffled = israel.copy()\n",
    "shuffled['Age_missing'] = shuffled['Age'].isna() \n",
    "\n",
    "vaxxed = israel['Vaccinated'].values\n",
    "severe = israel['Severe Sickness'].values\n",
    "weights = israel['Age'].values\n",
    "n_smokers = is_smoker.sum()\n",
    "n_non_smokers = israel.shape[0] - n_smokers\n",
    "\n",
    "is_smoker_permutations = np.column_stack([\n",
    "    np.random.permutation(is_smoker)\n",
    "    for _ in range(n)\n",
    "]).T\n",
    "\n",
    "mean_smokers = (weights * is_smoker_permutations).sum(axis=1) / n_smokers\n",
    "mean_non_smokers = (weights * ~is_smoker_permutations).sum(axis=1) / n_non_smokers\n",
    "ultra_fast_differences = mean_smokers - mean_non_smokers"
   ]
  },
  {
   "cell_type": "code",
   "execution_count": 100,
   "metadata": {},
   "outputs": [],
   "source": [
    "shuffled = israel.copy()\n",
    "shuffled['Age_missing'] = shuffled['Age'].isna()\n",
    "\n",
    "n_repetitions = 100\n",
    "means1 = []\n",
    "means2 = []\n",
    "for _ in range(n_repetitions):\n",
    "    \n",
    "    # Shuffling genders and assigning back to the DataFrame\n",
    "    shuffled['Age_missing'] = np.random.permutation(shuffled['Age_missing'])\n",
    "    \n",
    "   \n",
    "    test_stat1 = np.abs(shuffled['Vaccinated'][shuffled['Age_missing'].values].values.mean() - shuffled['Vaccinated'][~shuffled['Age_missing'].values].values.mean())\n",
    "    test_stat2 = np.abs(shuffled['Severe Sickness'][shuffled['Age_missing'].values].values.mean() - shuffled['Severe Sickness'][~shuffled['Age_missing'].values].values.mean())\n",
    "\n",
    "\n",
    "\n",
    "    means1.append(test_stat1)\n",
    "    means2.append(test_stat2)"
   ]
  },
  {
   "cell_type": "code",
   "execution_count": 101,
   "metadata": {
    "scrolled": true
   },
   "outputs": [
    {
     "data": {
      "text/plain": [
       "[1.2299246064273461e-05,\n",
       " 0.0029793649311370407,\n",
       " 0.0022314488868366844,\n",
       " 0.0023382940360223703,\n",
       " 0.0018040682900936078,\n",
       " 0.0012944410362935033,\n",
       " 0.0021246037376507765,\n",
       " 0.0017218216330365799,\n",
       " 0.000546524991993147,\n",
       " 0.0032999003786943204,\n",
       " 0.004392950362680614,\n",
       " 0.0022314488868366844,\n",
       " 0.0008670604395505377,\n",
       " 0.0028971182740799017,\n",
       " 0.001508131334664986,\n",
       " 0.0030862100803227266,\n",
       " 0.0011629973949790484,\n",
       " 0.0031108085724513845,\n",
       " 0.0012698425441647343,\n",
       " 0.006102472749652699,\n",
       " 0.0013766876933505312,\n",
       " 0.0012698425441647343,\n",
       " 1.2299246064273461e-05,\n",
       " 0.0008424619474217687,\n",
       " 0.0002013910523070983,\n",
       " 0.0009739055887362236,\n",
       " 0.0033244988708229783,\n",
       " 0.008346220882553657,\n",
       " 0.0020423570805938596,\n",
       " 0.0029793649311370407,\n",
       " 0.0011629973949790484,\n",
       " 0.001614976483850783,\n",
       " 0.0028971182740799017,\n",
       " 0.00043967984280735006,\n",
       " 0.006612100003452803,\n",
       " 0.00043967984280735006,\n",
       " 0.001590377991722125,\n",
       " 0.00578193730209553,\n",
       " 0.0007356167982359718,\n",
       " 0.0022560473789653424,\n",
       " 0.006825790301824397,\n",
       " 0.004606640661051986,\n",
       " 0.0014835328425363281,\n",
       " 0.005009422765666405,\n",
       " 0.0021246037376507765,\n",
       " 0.002790273124894216,\n",
       " 0.005675092152909622,\n",
       " 0.0020177585884650906,\n",
       " 0.003727280975437286,\n",
       " 0.0009739055887362236,\n",
       " 0.002445139185208167,\n",
       " 0.003965569765937538,\n",
       " 0.003645034318380258,\n",
       " 0.003940971273808769,\n",
       " 0.003858724616751741,\n",
       " 0.0003328346936216642,\n",
       " 0.0014835328425363281,\n",
       " 0.003751879467565944,\n",
       " 0.002576582826522622,\n",
       " 0.0007356167982359718,\n",
       " 0.005995627600467013,\n",
       " 0.002683427975708308,\n",
       " 0.0008670604395505377,\n",
       " 0.007146325749381677,\n",
       " 0.000546524991993147,\n",
       " 0.003620435826251489,\n",
       " 0.001697223140907811,\n",
       " 0.0006287716490501749,\n",
       " 0.0021492022297795454,\n",
       " 0.0009493070966074546,\n",
       " 0.009283228733096838,\n",
       " 0.0007602152903646298,\n",
       " 0.003620435826251489,\n",
       " 9.454590312141242e-05,\n",
       " 0.0021492022297795454,\n",
       " 0.00030823620149300623,\n",
       " 1.2299246064273461e-05,\n",
       " 0.0034313440200086642,\n",
       " 0.0029793649311370407,\n",
       " 0.0009739055887362236,\n",
       " 0.005009422765666405,\n",
       " 0.0002013910523070983,\n",
       " 0.00043967984280735006,\n",
       " 0.001508131334664986,\n",
       " 0.0042615067213660485,\n",
       " 0.0020177585884650906,\n",
       " 0.0030039634232655876,\n",
       " 0.0008424619474217687,\n",
       " 0.007170924241510335,\n",
       " 0.0019109134392794047,\n",
       " 0.005436803362409481,\n",
       " 0.00482033095942358,\n",
       " 0.0002013910523070983,\n",
       " 0.007705149987439208,\n",
       " 0.006825790301824397,\n",
       " 0.0062915645558955235,\n",
       " 0.009283228733096838,\n",
       " 0.0012944410362935033,\n",
       " 0.0012698425441647343,\n",
       " 0.004688887318109125]"
      ]
     },
     "execution_count": 101,
     "metadata": {},
     "output_type": "execute_result"
    }
   ],
   "source": [
    "means1"
   ]
  },
  {
   "cell_type": "code",
   "execution_count": null,
   "metadata": {},
   "outputs": [],
   "source": []
  },
  {
   "cell_type": "code",
   "execution_count": 96,
   "metadata": {},
   "outputs": [
    {
     "ename": "IndentationError",
     "evalue": "unexpected indent (3476441375.py, line 20)",
     "output_type": "error",
     "traceback": [
      "\u001b[0;36m  Input \u001b[0;32mIn [96]\u001b[0;36m\u001b[0m\n\u001b[0;31m    pivoted2 = (\u001b[0m\n\u001b[0m    ^\u001b[0m\n\u001b[0;31mIndentationError\u001b[0m\u001b[0;31m:\u001b[0m unexpected indent\n"
     ]
    }
   ],
   "source": [
    "shuffled = israel.copy()\n",
    "shuffled['Age_missing'] = shuffled['Age'].isna()\n",
    "\n",
    "n_repetitions = 10\n",
    "tvds1 = np.array([])\n",
    "tvds2 = np.array([])\n",
    "\n",
    "for _ in range(n_repetitions):\n",
    "    \n",
    "    # Shuffling genders and assigning back to the DataFrame\n",
    "    shuffled['Age_missing'] = np.random.permutation(shuffled['Age_missing'])\n",
    "    \n",
    "    # Computing and storing TVD\n",
    "    pivoted1 = (\n",
    "        shuffled\n",
    "        .pivot_table(index='Age_missing', columns='Vaccinated', aggfunc='mean')\n",
    "        .apply(lambda x: x / x.sum(), axis=1)\n",
    "    )\n",
    "    \n",
    "     pivoted2 = (\n",
    "        shuffled\n",
    "        .pivot_table(index='Age_missing', columns='Vaccinated', aggfunc='mean')\n",
    "        .apply(lambda x: x / x.sum(), axis=1)\n",
    "    )\n",
    "    \n",
    "    \n",
    "    \n",
    "    tvd = pivoted.diff().iloc[:, -1].abs().sum() / 2\n",
    "    tvds.append(tvd)\n",
    "tvds"
   ]
  },
  {
   "cell_type": "code",
   "execution_count": 115,
   "metadata": {
    "tags": []
   },
   "outputs": [
    {
     "data": {
      "text/plain": [
       "0.94"
      ]
     },
     "execution_count": 115,
     "metadata": {},
     "output_type": "execute_result"
    }
   ],
   "source": [
    "observed_vacc = np.abs(israel[israel['Age'].isna()]['Vaccinated'].mean() - israel[~israel['Age'].isna()]['Vaccinated'].mean())\n",
    "(observed_vacc >= test_stats_vax).mean()"
   ]
  },
  {
   "cell_type": "code",
   "execution_count": 116,
   "metadata": {},
   "outputs": [
    {
     "data": {
      "text/plain": [
       "0.87"
      ]
     },
     "execution_count": 116,
     "metadata": {},
     "output_type": "execute_result"
    }
   ],
   "source": [
    "observed_vacc = np.abs(israel[israel['Age'].isna()]['Severe Sickness'].mean() - israel[~israel['Age'].isna()]['Severe Sickness'].mean())\n",
    "(observed_vacc >= test_stats_sick).mean()"
   ]
  },
  {
   "cell_type": "code",
   "execution_count": 117,
   "metadata": {},
   "outputs": [],
   "source": [
    "from scipy.stats import ks_2samp"
   ]
  },
  {
   "cell_type": "code",
   "execution_count": null,
   "metadata": {},
   "outputs": [],
   "source": []
  },
  {
   "cell_type": "code",
   "execution_count": 159,
   "metadata": {
    "scrolled": true
   },
   "outputs": [],
   "source": [
    "# run this to see the result, and don't change this cell -- it is used by the tests\n",
    "test_stats_vax, test_stats_sick = mcar_permutation_tests(israel, 100)"
   ]
  },
  {
   "cell_type": "code",
   "execution_count": 160,
   "metadata": {
    "deletable": false,
    "editable": false
   },
   "outputs": [
    {
     "data": {
      "text/html": [
       "<p><strong><pre style='display: inline;'>q7</pre></strong> passed!</p>"
      ],
      "text/plain": [
       "q7 results: All test cases passed!"
      ]
     },
     "execution_count": 160,
     "metadata": {},
     "output_type": "execute_result"
    }
   ],
   "source": [
    "grader.check(\"q7\")"
   ]
  },
  {
   "cell_type": "markdown",
   "metadata": {},
   "source": [
    "Let's proceed by simply dropping the rows with missing values:"
   ]
  },
  {
   "cell_type": "code",
   "execution_count": 118,
   "metadata": {},
   "outputs": [
    {
     "data": {
      "text/html": [
       "<div>\n",
       "<style scoped>\n",
       "    .dataframe tbody tr th:only-of-type {\n",
       "        vertical-align: middle;\n",
       "    }\n",
       "\n",
       "    .dataframe tbody tr th {\n",
       "        vertical-align: top;\n",
       "    }\n",
       "\n",
       "    .dataframe thead th {\n",
       "        text-align: right;\n",
       "    }\n",
       "</style>\n",
       "<table border=\"1\" class=\"dataframe\">\n",
       "  <thead>\n",
       "    <tr style=\"text-align: right;\">\n",
       "      <th></th>\n",
       "      <th>Age</th>\n",
       "      <th>Vaccinated</th>\n",
       "      <th>Severe Sickness</th>\n",
       "    </tr>\n",
       "  </thead>\n",
       "  <tbody>\n",
       "    <tr>\n",
       "      <th>0</th>\n",
       "      <td>23.0</td>\n",
       "      <td>True</td>\n",
       "      <td>False</td>\n",
       "    </tr>\n",
       "    <tr>\n",
       "      <th>1</th>\n",
       "      <td>60.0</td>\n",
       "      <td>True</td>\n",
       "      <td>False</td>\n",
       "    </tr>\n",
       "    <tr>\n",
       "      <th>2</th>\n",
       "      <td>43.0</td>\n",
       "      <td>True</td>\n",
       "      <td>False</td>\n",
       "    </tr>\n",
       "    <tr>\n",
       "      <th>3</th>\n",
       "      <td>40.0</td>\n",
       "      <td>True</td>\n",
       "      <td>False</td>\n",
       "    </tr>\n",
       "    <tr>\n",
       "      <th>4</th>\n",
       "      <td>71.0</td>\n",
       "      <td>True</td>\n",
       "      <td>False</td>\n",
       "    </tr>\n",
       "    <tr>\n",
       "      <th>...</th>\n",
       "      <td>...</td>\n",
       "      <td>...</td>\n",
       "      <td>...</td>\n",
       "    </tr>\n",
       "    <tr>\n",
       "      <th>6937537</th>\n",
       "      <td>14.0</td>\n",
       "      <td>True</td>\n",
       "      <td>False</td>\n",
       "    </tr>\n",
       "    <tr>\n",
       "      <th>6937538</th>\n",
       "      <td>30.0</td>\n",
       "      <td>True</td>\n",
       "      <td>False</td>\n",
       "    </tr>\n",
       "    <tr>\n",
       "      <th>6937539</th>\n",
       "      <td>18.0</td>\n",
       "      <td>False</td>\n",
       "      <td>False</td>\n",
       "    </tr>\n",
       "    <tr>\n",
       "      <th>6937540</th>\n",
       "      <td>45.0</td>\n",
       "      <td>True</td>\n",
       "      <td>False</td>\n",
       "    </tr>\n",
       "    <tr>\n",
       "      <th>6937541</th>\n",
       "      <td>27.0</td>\n",
       "      <td>True</td>\n",
       "      <td>False</td>\n",
       "    </tr>\n",
       "  </tbody>\n",
       "</table>\n",
       "<p>6928170 rows × 3 columns</p>\n",
       "</div>"
      ],
      "text/plain": [
       "          Age  Vaccinated  Severe Sickness\n",
       "0        23.0        True            False\n",
       "1        60.0        True            False\n",
       "2        43.0        True            False\n",
       "3        40.0        True            False\n",
       "4        71.0        True            False\n",
       "...       ...         ...              ...\n",
       "6937537  14.0        True            False\n",
       "6937538  30.0        True            False\n",
       "6937539  18.0       False            False\n",
       "6937540  45.0        True            False\n",
       "6937541  27.0        True            False\n",
       "\n",
       "[6928170 rows x 3 columns]"
      ]
     },
     "execution_count": 118,
     "metadata": {},
     "output_type": "execute_result"
    }
   ],
   "source": [
    "vax = israel.dropna()\n",
    "vax"
   ]
  },
  {
   "cell_type": "markdown",
   "metadata": {},
   "source": [
    "Moving forward, use `vax`, not `israel`."
   ]
  },
  {
   "cell_type": "markdown",
   "metadata": {},
   "source": [
    "### Question 8 (Checkpoint Question)\n",
    "\n",
    "***Note:*** Assume that \"hospitalization\" and \"severe illness\" mean the same thing; that is, if someone is hospitalized they developed severe illness and vice versa.\n",
    "\n",
    "As mentioned at the start of Part 2, looking at the probability of being vaccinated if you're hospitalized is meaningless, since if everyone is vaccinated, this probability will be 1. Instead, we care about **the probability of being hospitalized if you're vaccinated.** More than that, what we care most about is how this probability relates to the probability of being hospitalized if you're **unvaccinated**.\n",
    "\n",
    "To put it more concretely, let's say that 1 in 100 vaccinated people are hospitalized, while 10 in 100 unvaccinated people are hospitalized. This means that unvaccinated people are 10x more likely to be hospitalized than vaccinated people. To put it another way, if those 10 hospitalized unvaccinated people had been vaccinated, we'd expect that 9 of them would not have been hospitalized. That is, the vaccine would have prevented 90% of the hospitalizations, and we might therefore say that it is 90% effective against severe illness.\n",
    "\n",
    "This is the intuition behind the definition of **vaccine effectiveness** (see the CDC's [page](https://www.cdc.gov/csels/dsepd/ss1978/lesson3/section6.html) for more information). That is, to compute a vaccine's effectiveness, we need to know two things:\n",
    "\n",
    "1. The proportion of vaccinated people who developed severe illness (i.e., the probability that a vaccinated person will be hospitalized). Call this $p_V$.\n",
    "2. The proportion of unvaccinated people who developed severe illness (i.e., the probability that an unvaccinated person will be hospitalized). Call this $p_U$.\n",
    "\n",
    "Then:\n",
    "\n",
    "$$\n",
    "\\text{effectiveness} = 1 - \\frac{p_V}{p_U} = \\frac{p_U - p_V}{p_U}\n",
    "$$\n",
    "\n",
    "**What this formula calculates, in words, is the proportion of unvaccinated people with severe illness who would (we expect) not have severe illness if they were vaccinated.** For instance, if no one who is vaccinated becomes severely ill, then $p_V = 0$ and the effectiveness is 1 (100%). On the other hand, if the vaccine is no better than being unvaccinated, $p_V = p_U$ and the effectiveness is 0 (0%).\n",
    "\n",
    "\n",
    "Many news articles report effectiveness numbers, and this is certainly better than reporting the percentage of hospital patients that are vaccinated. Note, though, that there are different types of effectiveness – effectiveness against severe illness, effectiveness against symptomatic illness, effectiveness against death – and articles often are vague about which they are using. But even then, effectiveness can *still* be misleading due to statistical quirks, as we'll now see.\n",
    "\n",
    "\n",
    "<br>\n",
    "\n",
    "**Your job is to** create a function named `effectiveness` that accepts a DataFrame like `vax` and returns the effectiveness of the vaccine against severe illness as a proportion between 0 and 1.\n",
    "\n",
    "***Note:*** Assume that you will not run into any division-by-zero errors."
   ]
  },
  {
   "cell_type": "code",
   "execution_count": 148,
   "metadata": {},
   "outputs": [
    {
     "data": {
      "text/html": [
       "<div>\n",
       "<style scoped>\n",
       "    .dataframe tbody tr th:only-of-type {\n",
       "        vertical-align: middle;\n",
       "    }\n",
       "\n",
       "    .dataframe tbody tr th {\n",
       "        vertical-align: top;\n",
       "    }\n",
       "\n",
       "    .dataframe thead th {\n",
       "        text-align: right;\n",
       "    }\n",
       "</style>\n",
       "<table border=\"1\" class=\"dataframe\">\n",
       "  <thead>\n",
       "    <tr style=\"text-align: right;\">\n",
       "      <th></th>\n",
       "      <th>Age</th>\n",
       "      <th>Vaccinated</th>\n",
       "      <th>Severe Sickness</th>\n",
       "    </tr>\n",
       "  </thead>\n",
       "  <tbody>\n",
       "    <tr>\n",
       "      <th>0</th>\n",
       "      <td>23.0</td>\n",
       "      <td>True</td>\n",
       "      <td>False</td>\n",
       "    </tr>\n",
       "    <tr>\n",
       "      <th>1</th>\n",
       "      <td>60.0</td>\n",
       "      <td>True</td>\n",
       "      <td>False</td>\n",
       "    </tr>\n",
       "    <tr>\n",
       "      <th>2</th>\n",
       "      <td>43.0</td>\n",
       "      <td>True</td>\n",
       "      <td>False</td>\n",
       "    </tr>\n",
       "    <tr>\n",
       "      <th>3</th>\n",
       "      <td>40.0</td>\n",
       "      <td>True</td>\n",
       "      <td>False</td>\n",
       "    </tr>\n",
       "    <tr>\n",
       "      <th>4</th>\n",
       "      <td>71.0</td>\n",
       "      <td>True</td>\n",
       "      <td>False</td>\n",
       "    </tr>\n",
       "    <tr>\n",
       "      <th>...</th>\n",
       "      <td>...</td>\n",
       "      <td>...</td>\n",
       "      <td>...</td>\n",
       "    </tr>\n",
       "    <tr>\n",
       "      <th>6937537</th>\n",
       "      <td>14.0</td>\n",
       "      <td>True</td>\n",
       "      <td>False</td>\n",
       "    </tr>\n",
       "    <tr>\n",
       "      <th>6937538</th>\n",
       "      <td>30.0</td>\n",
       "      <td>True</td>\n",
       "      <td>False</td>\n",
       "    </tr>\n",
       "    <tr>\n",
       "      <th>6937539</th>\n",
       "      <td>18.0</td>\n",
       "      <td>False</td>\n",
       "      <td>False</td>\n",
       "    </tr>\n",
       "    <tr>\n",
       "      <th>6937540</th>\n",
       "      <td>45.0</td>\n",
       "      <td>True</td>\n",
       "      <td>False</td>\n",
       "    </tr>\n",
       "    <tr>\n",
       "      <th>6937541</th>\n",
       "      <td>27.0</td>\n",
       "      <td>True</td>\n",
       "      <td>False</td>\n",
       "    </tr>\n",
       "  </tbody>\n",
       "</table>\n",
       "<p>6928170 rows × 3 columns</p>\n",
       "</div>"
      ],
      "text/plain": [
       "          Age  Vaccinated  Severe Sickness\n",
       "0        23.0        True            False\n",
       "1        60.0        True            False\n",
       "2        43.0        True            False\n",
       "3        40.0        True            False\n",
       "4        71.0        True            False\n",
       "...       ...         ...              ...\n",
       "6937537  14.0        True            False\n",
       "6937538  30.0        True            False\n",
       "6937539  18.0       False            False\n",
       "6937540  45.0        True            False\n",
       "6937541  27.0        True            False\n",
       "\n",
       "[6928170 rows x 3 columns]"
      ]
     },
     "execution_count": 148,
     "metadata": {},
     "output_type": "execute_result"
    }
   ],
   "source": [
    "vax = israel.dropna()\n",
    "vax"
   ]
  },
  {
   "cell_type": "code",
   "execution_count": 125,
   "metadata": {
    "scrolled": true
   },
   "outputs": [
    {
     "data": {
      "text/html": [
       "<div>\n",
       "<style scoped>\n",
       "    .dataframe tbody tr th:only-of-type {\n",
       "        vertical-align: middle;\n",
       "    }\n",
       "\n",
       "    .dataframe tbody tr th {\n",
       "        vertical-align: top;\n",
       "    }\n",
       "\n",
       "    .dataframe thead th {\n",
       "        text-align: right;\n",
       "    }\n",
       "</style>\n",
       "<table border=\"1\" class=\"dataframe\">\n",
       "  <thead>\n",
       "    <tr style=\"text-align: right;\">\n",
       "      <th></th>\n",
       "      <th>Age</th>\n",
       "      <th>Vaccinated</th>\n",
       "      <th>Severe Sickness</th>\n",
       "    </tr>\n",
       "  </thead>\n",
       "  <tbody>\n",
       "    <tr>\n",
       "      <th>0</th>\n",
       "      <td>23.0</td>\n",
       "      <td>True</td>\n",
       "      <td>False</td>\n",
       "    </tr>\n",
       "    <tr>\n",
       "      <th>1</th>\n",
       "      <td>60.0</td>\n",
       "      <td>True</td>\n",
       "      <td>False</td>\n",
       "    </tr>\n",
       "    <tr>\n",
       "      <th>2</th>\n",
       "      <td>43.0</td>\n",
       "      <td>True</td>\n",
       "      <td>False</td>\n",
       "    </tr>\n",
       "    <tr>\n",
       "      <th>3</th>\n",
       "      <td>40.0</td>\n",
       "      <td>True</td>\n",
       "      <td>False</td>\n",
       "    </tr>\n",
       "    <tr>\n",
       "      <th>4</th>\n",
       "      <td>71.0</td>\n",
       "      <td>True</td>\n",
       "      <td>False</td>\n",
       "    </tr>\n",
       "  </tbody>\n",
       "</table>\n",
       "</div>"
      ],
      "text/plain": [
       "    Age  Vaccinated  Severe Sickness\n",
       "0  23.0        True            False\n",
       "1  60.0        True            False\n",
       "2  43.0        True            False\n",
       "3  40.0        True            False\n",
       "4  71.0        True            False"
      ]
     },
     "execution_count": 125,
     "metadata": {},
     "output_type": "execute_result"
    }
   ],
   "source": [
    "vax.head()"
   ]
  },
  {
   "cell_type": "code",
   "execution_count": 143,
   "metadata": {},
   "outputs": [
    {
     "data": {
      "text/plain": [
       "6927655"
      ]
     },
     "execution_count": 143,
     "metadata": {},
     "output_type": "execute_result"
    }
   ],
   "source": [
    "vaxed = vax[vax['Severe Sickness'] == False]\n",
    "vaxed.shape[0]"
   ]
  },
  {
   "cell_type": "code",
   "execution_count": 164,
   "metadata": {
    "scrolled": true,
    "tags": []
   },
   "outputs": [
    {
     "data": {
      "text/plain": [
       "0.6747820515830074"
      ]
     },
     "execution_count": 164,
     "metadata": {},
     "output_type": "execute_result"
    }
   ],
   "source": [
    "vaxed = vax[vax['Vaccinated'] == True]\n",
    "p_v = vaxed['Severe Sickness'].sum() / vaxed.shape[0]\n",
    "\n",
    "not_vaxed = vax[vax['Vaccinated'] == False]\n",
    "p_u = not_vaxed['Severe Sickness'].sum() / not_vaxed.shape[0]\n",
    "#print(p_v, p_u)\n",
    "effective = 1 - (p_v / p_u)\n",
    "effective"
   ]
  },
  {
   "cell_type": "code",
   "execution_count": 161,
   "metadata": {},
   "outputs": [
    {
     "data": {
      "text/html": [
       "<div>\n",
       "<style scoped>\n",
       "    .dataframe tbody tr th:only-of-type {\n",
       "        vertical-align: middle;\n",
       "    }\n",
       "\n",
       "    .dataframe tbody tr th {\n",
       "        vertical-align: top;\n",
       "    }\n",
       "\n",
       "    .dataframe thead th {\n",
       "        text-align: right;\n",
       "    }\n",
       "</style>\n",
       "<table border=\"1\" class=\"dataframe\">\n",
       "  <thead>\n",
       "    <tr style=\"text-align: right;\">\n",
       "      <th>Severe Sickness</th>\n",
       "      <th>False</th>\n",
       "      <th>True</th>\n",
       "    </tr>\n",
       "    <tr>\n",
       "      <th>Vaccinated</th>\n",
       "      <th></th>\n",
       "      <th></th>\n",
       "    </tr>\n",
       "  </thead>\n",
       "  <tbody>\n",
       "    <tr>\n",
       "      <th>False</th>\n",
       "      <td>0.999836</td>\n",
       "      <td>0.000038</td>\n",
       "    </tr>\n",
       "    <tr>\n",
       "      <th>True</th>\n",
       "      <td>4.324690</td>\n",
       "      <td>0.000053</td>\n",
       "    </tr>\n",
       "  </tbody>\n",
       "</table>\n",
       "</div>"
      ],
      "text/plain": [
       "Severe Sickness     False      True\n",
       "Vaccinated                         \n",
       "False            0.999836  0.000038\n",
       "True             4.324690  0.000053"
      ]
     },
     "execution_count": 161,
     "metadata": {},
     "output_type": "execute_result"
    }
   ],
   "source": [
    "counts = vax.pivot_table(index = 'Vaccinated',columns = 'Severe Sickness', values = 'Severe Sickness', aggfunc = 'count') \n",
    "counts / counts.sum(axis = 1)\n",
    "#counts / counts.sum(axis = 0)\n",
    "#props"
   ]
  },
  {
   "cell_type": "code",
   "execution_count": 156,
   "metadata": {},
   "outputs": [
    {
     "data": {
      "text/plain": [
       "6928170"
      ]
     },
     "execution_count": 156,
     "metadata": {},
     "output_type": "execute_result"
    }
   ],
   "source": [
    "vax.shape[0]"
   ]
  },
  {
   "cell_type": "code",
   "execution_count": null,
   "metadata": {
    "tags": []
   },
   "outputs": [],
   "source": []
  },
  {
   "cell_type": "code",
   "execution_count": 161,
   "metadata": {},
   "outputs": [
    {
     "data": {
      "text/plain": [
       "0.6747820515830074"
      ]
     },
     "execution_count": 161,
     "metadata": {},
     "output_type": "execute_result"
    }
   ],
   "source": [
    "# run this to see the result, and don't change this cell -- it is used by the tests\n",
    "eff_overall = effectiveness(vax)\n",
    "eff_overall"
   ]
  },
  {
   "cell_type": "code",
   "execution_count": 162,
   "metadata": {
    "deletable": false,
    "editable": false
   },
   "outputs": [
    {
     "data": {
      "text/html": [
       "<p><strong><pre style='display: inline;'>q8</pre></strong> passed!</p>"
      ],
      "text/plain": [
       "q8 results: All test cases passed!"
      ]
     },
     "execution_count": 162,
     "metadata": {},
     "output_type": "execute_result"
    }
   ],
   "source": [
    "grader.check(\"q8\")"
   ]
  },
  {
   "cell_type": "markdown",
   "metadata": {},
   "source": [
    "If you implemented `effectiveness` correctly, you should see a vaccine effectiveness between 60% and 70%. This is OK, but not great! It means that the vaccine is only around 60-70% effective at preventing severe illness overall.\n",
    "\n",
    "But remember Simpson's Paradox, which roughly says that sometimes a result that appears in aggregated data disappears when we look at disaggregated data. So let's disaggregate the data and perform the same calculation. That is, let's compute the effectiveness of the vaccine within each of several age groups. For convenience, here is a list of the age groups we'll consider:"
   ]
  },
  {
   "cell_type": "code",
   "execution_count": null,
   "metadata": {},
   "outputs": [],
   "source": [
    "AGE_GROUPS = [\n",
    "    '12-15',\n",
    "    '16-19',\n",
    "    '20-29',\n",
    "    '30-39',\n",
    "    '40-49',\n",
    "    '50-59',\n",
    "    '60-69',\n",
    "    '70-79',\n",
    "    '80-89',\n",
    "    '90-'\n",
    "]"
   ]
  },
  {
   "cell_type": "markdown",
   "metadata": {},
   "source": [
    "Each string above lists an age group. For example, the age group `'12-15'` should contain anyone aged 12, 13, 14, or 15. The last age group, '90-', denotes everyone who is 90 or above. `vax` does not contain anyone younger than 12."
   ]
  },
  {
   "cell_type": "markdown",
   "metadata": {},
   "source": [
    "### Question 9\n",
    "\n",
    "Create a function named `stratified_effectiveness` that accepts one argument – a DataFrame like `vax` – and returns the effectiveness of the vaccine within each of the age groups in `AGE_GROUPS`. The return value of the function should be a Series of the same length as `AGE_GROUPS`, with the index of the Series being age groups as strings."
   ]
  },
  {
   "cell_type": "code",
   "execution_count": 121,
   "metadata": {},
   "outputs": [
    {
     "data": {
      "text/plain": [
       "12-15    1.000000\n",
       "16-19    1.000000\n",
       "20-29    1.000000\n",
       "30-39    0.966591\n",
       "40-49    0.941211\n",
       "50-59    0.926886\n",
       "60-69    0.886400\n",
       "70-79    0.895772\n",
       "80-89    0.810277\n",
       "90-      0.924404\n",
       "dtype: float64"
      ]
     },
     "execution_count": 121,
     "metadata": {},
     "output_type": "execute_result"
    }
   ],
   "source": [
    "AGE_GROUPS = [\n",
    "    '12-15',\n",
    "    '16-19',\n",
    "    '20-29',\n",
    "    '30-39',\n",
    "    '40-49',\n",
    "    '50-59',\n",
    "    '60-69',\n",
    "    '70-79',\n",
    "    '80-89',\n",
    "    '90-'\n",
    "]\n",
    "\n",
    "_12_15 = effectiveness(vax[(vax['Age'] >= 12) & (vax['Age'] <= 15)])\n",
    "_16_19 = effectiveness(vax[(vax['Age'] >= 16) & (vax['Age'] <= 19)])\n",
    "_20_29 = effectiveness(vax[(vax['Age'] >= 20) & (vax['Age'] <= 29)])\n",
    "_30_39 = effectiveness(vax[(vax['Age'] >= 30) & (vax['Age'] <= 39)])\n",
    "_40_49 = effectiveness(vax[(vax['Age'] >= 40) & (vax['Age'] <= 49)])\n",
    "_50_59 = effectiveness(vax[(vax['Age'] >= 50) & (vax['Age'] <= 59)])\n",
    "_60_69 = effectiveness(vax[(vax['Age'] >= 60) & (vax['Age'] <= 69)])\n",
    "_70_79 = effectiveness(vax[(vax['Age'] >= 70) & (vax['Age'] <= 79)])\n",
    "_80_89 = effectiveness(vax[(vax['Age'] >= 80) & (vax['Age'] <= 89)])\n",
    "_90 = effectiveness(vax[(vax['Age'] >= 90)])\n",
    "\n",
    "pd.Series(index = AGE_GROUPS, data = [_12_15, _16_19,_20_29,_30_39,_40_49,_50_59,_60_69,_70_79,_80_89,_90])"
   ]
  },
  {
   "cell_type": "code",
   "execution_count": 119,
   "metadata": {
    "scrolled": true,
    "tags": []
   },
   "outputs": [
    {
     "data": {
      "text/html": [
       "<div>\n",
       "<style scoped>\n",
       "    .dataframe tbody tr th:only-of-type {\n",
       "        vertical-align: middle;\n",
       "    }\n",
       "\n",
       "    .dataframe tbody tr th {\n",
       "        vertical-align: top;\n",
       "    }\n",
       "\n",
       "    .dataframe thead th {\n",
       "        text-align: right;\n",
       "    }\n",
       "</style>\n",
       "<table border=\"1\" class=\"dataframe\">\n",
       "  <thead>\n",
       "    <tr style=\"text-align: right;\">\n",
       "      <th></th>\n",
       "      <th>Age</th>\n",
       "      <th>Vaccinated</th>\n",
       "      <th>Severe Sickness</th>\n",
       "    </tr>\n",
       "  </thead>\n",
       "  <tbody>\n",
       "    <tr>\n",
       "      <th>0</th>\n",
       "      <td>23.0</td>\n",
       "      <td>True</td>\n",
       "      <td>False</td>\n",
       "    </tr>\n",
       "    <tr>\n",
       "      <th>1</th>\n",
       "      <td>60.0</td>\n",
       "      <td>True</td>\n",
       "      <td>False</td>\n",
       "    </tr>\n",
       "    <tr>\n",
       "      <th>2</th>\n",
       "      <td>43.0</td>\n",
       "      <td>True</td>\n",
       "      <td>False</td>\n",
       "    </tr>\n",
       "    <tr>\n",
       "      <th>3</th>\n",
       "      <td>40.0</td>\n",
       "      <td>True</td>\n",
       "      <td>False</td>\n",
       "    </tr>\n",
       "    <tr>\n",
       "      <th>4</th>\n",
       "      <td>71.0</td>\n",
       "      <td>True</td>\n",
       "      <td>False</td>\n",
       "    </tr>\n",
       "    <tr>\n",
       "      <th>...</th>\n",
       "      <td>...</td>\n",
       "      <td>...</td>\n",
       "      <td>...</td>\n",
       "    </tr>\n",
       "    <tr>\n",
       "      <th>6937537</th>\n",
       "      <td>14.0</td>\n",
       "      <td>True</td>\n",
       "      <td>False</td>\n",
       "    </tr>\n",
       "    <tr>\n",
       "      <th>6937538</th>\n",
       "      <td>30.0</td>\n",
       "      <td>True</td>\n",
       "      <td>False</td>\n",
       "    </tr>\n",
       "    <tr>\n",
       "      <th>6937539</th>\n",
       "      <td>18.0</td>\n",
       "      <td>False</td>\n",
       "      <td>False</td>\n",
       "    </tr>\n",
       "    <tr>\n",
       "      <th>6937540</th>\n",
       "      <td>45.0</td>\n",
       "      <td>True</td>\n",
       "      <td>False</td>\n",
       "    </tr>\n",
       "    <tr>\n",
       "      <th>6937541</th>\n",
       "      <td>27.0</td>\n",
       "      <td>True</td>\n",
       "      <td>False</td>\n",
       "    </tr>\n",
       "  </tbody>\n",
       "</table>\n",
       "<p>6928170 rows × 3 columns</p>\n",
       "</div>"
      ],
      "text/plain": [
       "          Age  Vaccinated  Severe Sickness\n",
       "0        23.0        True            False\n",
       "1        60.0        True            False\n",
       "2        43.0        True            False\n",
       "3        40.0        True            False\n",
       "4        71.0        True            False\n",
       "...       ...         ...              ...\n",
       "6937537  14.0        True            False\n",
       "6937538  30.0        True            False\n",
       "6937539  18.0       False            False\n",
       "6937540  45.0        True            False\n",
       "6937541  27.0        True            False\n",
       "\n",
       "[6928170 rows x 3 columns]"
      ]
     },
     "execution_count": 119,
     "metadata": {},
     "output_type": "execute_result"
    }
   ],
   "source": [
    "vax"
   ]
  },
  {
   "cell_type": "code",
   "execution_count": null,
   "metadata": {
    "tags": []
   },
   "outputs": [],
   "source": []
  },
  {
   "cell_type": "code",
   "execution_count": 163,
   "metadata": {},
   "outputs": [
    {
     "data": {
      "text/plain": [
       "12-15    1.000000\n",
       "16-19    1.000000\n",
       "20-29    1.000000\n",
       "30-39    0.966591\n",
       "40-49    0.941211\n",
       "50-59    0.926886\n",
       "60-69    0.886400\n",
       "70-79    0.895772\n",
       "80-89    0.810277\n",
       "90-      0.924404\n",
       "dtype: float64"
      ]
     },
     "execution_count": 163,
     "metadata": {},
     "output_type": "execute_result"
    }
   ],
   "source": [
    "# run this to see the result, and don't change this cell -- it is used by the tests\n",
    "s_eff = stratified_effectiveness(vax)\n",
    "s_eff"
   ]
  },
  {
   "cell_type": "code",
   "execution_count": 164,
   "metadata": {
    "deletable": false,
    "editable": false
   },
   "outputs": [
    {
     "data": {
      "text/html": [
       "<p><strong><pre style='display: inline;'>q9</pre></strong> passed!</p>"
      ],
      "text/plain": [
       "q9 results: All test cases passed!"
      ]
     },
     "execution_count": 164,
     "metadata": {},
     "output_type": "execute_result"
    }
   ],
   "source": [
    "grader.check(\"q9\")"
   ]
  },
  {
   "cell_type": "markdown",
   "metadata": {},
   "source": [
    "If done correctly, you should notice that the effectiveness of the vaccine within each age group is higher than the overall effectiveness. In fact, the effectiveness of every age group is above 80%, and for most age groups it is above 90%.\n",
    "\n",
    "This is an instance of [Simpson's paradox](https://dsc80.com/resources/lectures/lec08/lec08.html#Simpson's-paradox). This result might seem strange, or even impossible – how can *every one* of the age groups see a higher effectiveness rate than the overall effectiveness rate? We'll take a deeper look at this in the next question, but for now let's consider a slightly different scenario where we can give dosages of a vaccine on a scale, so that some people can receive more vaccine than others. We expect that the higher a dosage someone receives, the less sick they become. But suppose we plot the data and we see something like this:\n",
    "\n",
    "<img src=\"./data/simpsons-aggregated.svg\">\n",
    "\n",
    "It actually looks like the more dosage someone receives, the more sick they get! But suppose we were to *disaggregate* the data into two age groups – old and young. That is, let's look at the same plot, but now mark young people as red and older people as purple. We might see this:\n",
    "\n",
    "<img src=\"./data/simpsons.svg\">\n",
    "\n",
    "Now we see a different story: the larger the dosage, the less the sickness within each age group. Therefore, while the overall trend is a *positive* relationship between dosage and sickness, the within-group trends are all negative, as we'd hope. **The reason for this difference comes from the fact that, for each dosage level, the sickness rate of older people is greater than the sickness rate for younger people.**\n",
    "\n",
    "If our data gives different answers depending on how we aggregate it, which answer should we use? In this case, we don't care about overall effectiveness – we care about how effective the vaccine will be for an *individual*. The data shows that, no matter what your age, unvaccinated people are ten times as likely to develop severe illness than vaccinated people, and it shows that the vaccine's effectiveness against severe illness is still quite strong."
   ]
  },
  {
   "cell_type": "markdown",
   "metadata": {},
   "source": [
    "The plots above may help to understand Simpson's paradox a little bit more, but it may still be unclear how each age group's effectiveness rate can be higher than the overall effectiveness rate. To explore this in more depth, **we'll build a calculator that takes in several parameters and calculates three effectivenesses: the overall (aggregate) effectiveness, the effectiveness among young people, and the effectiveness among old people.** For simplicity, we'll assume that there are just as many old people as young people.\n",
    "\n",
    "To calculate these effectivenesses, you need to know six numbers:\n",
    "\n",
    "1. The proportion of young people that are vaccinated.\n",
    "2. The proportion of old people that are vaccinated.\n",
    "3. The probability that a young vaccinated person will be hospitalized.\n",
    "4. The probability that a young *un*vaccinated person will be hospitalized.\n",
    "5. The probability that an old vaccinated person will be hospitalized.\n",
    "6. The probability that an old *un*vaccinated person will be hospitalized.\n",
    "\n",
    "Given these six pieces of information, you can calculate the overall effectiveness, the effectiveness in young people, and the effectiveness in old people.\n",
    "\n",
    "How, you may ask? Well, to find the effectiveness in young people, you can use the effectiveness definition from [Question 8](#Question-8-(Checkpoint-Question)) ($1 - \\frac{p_V}{p_U}$) directly since you are given the probability that a young vaccinated person will be hospitalized ($p_V$, for young people) and the probability that a young unvaccinated person will be hospitalized ($p_U$, for young people). The same applies for the effectiveness in old people.\n",
    "\n",
    "To find the overall effectiveness, you need to find the values of $p_V$ and $p_U$ in the overall population, given  the six parameters that `effectiveness_calculator` takes in. \n",
    "- One approach is to express all six parameters in terms of conditional probability notation and to use your knowledge of probability theory from DSC 40A. One idea to look at in particular is the law of total probability ([Wikipedia article](https://en.wikipedia.org/wiki/Law_of_total_probability), [slides from DSC 40A](https://dsc-courses.github.io/dsc40a-2021-fa/resources/lecture/lec14-filled.pdf)).\n",
    "- Another approach is to fix concrete numbers. \n",
    "    - For instance, assume that there are 1000 old people and 1000 young people (recall, we are operating under the assumption there are an equal number of old and young people, for simplicity).\n",
    "    - To calculate the probability that a vaccinated person is hospitalized, you need to know the _number_ of vaccinated people that are hospitalized in this hypothetical example. If you're told that 20% of young people are vaccinated and that 10% of young vaccinated people will be hospitalized, you know that $1000 \\cdot 0.2 \\cdot 0.1 = 20$ young vaccinated people will be hospitalized. \n",
    "    - If you're also told that 60% of old people are vaccinated and that 30% of old vaccinated people will be hospitalized, then you know that $1000 \\cdot 0.6 \\cdot 0.3 = 180$ old vaccinated people will be hospitalized.\n",
    "    - This means that 200 of 800 ($1000 \\cdot 0.2 + 1000 \\cdot 0.6$) vaccinated people will be hospitalized, so the overall $p_V$ is $p_V = \\frac{200}{800} = 0.25$ in this example.\n",
    "    - You can do the same for unvaccinated people to find the overall $p_U$.\n",
    "    - Working with concrete numbers like this *is* using probability theory, just with extra steps. But it might be less abstract and easier to reason about."
   ]
  },
  {
   "cell_type": "markdown",
   "metadata": {},
   "source": [
    "### Question 10 (Checkpoint Question)\n",
    "\n",
    "Create a function named `effectiveness_calculator` that accepts 6 arguments:\n",
    "\n",
    "1. `young_vaccinated_prop`: The proportion of young people that are vaccinated.\n",
    "2. `old_vaccinated_prop`: The proportion of old people that are vaccinated.\n",
    "3. `young_risk_vaccinated`: The probability that a young vaccinated person will be hospitalized.\n",
    "4. `young_risk_unvaccinated`: The probability that a young *un*vaccinated person will be hospitalized.\n",
    "5. `old_risk_vaccinated`: The probability that an old vaccinated person will be hospitalized.\n",
    "6. `old_risk_unvaccinated`: The probability that an old *un*vaccinated person will be hospitalized.\n",
    "\n",
    "It should return a dictionary with three keys: `'Overall'`, `'Young'`, and `'Old'`, whose values are the overall effectiveness, the effectiveness within young people, and the effectiveness within old people, respectively. This will allow you to experiment with Simpson's paradox by plugging in different values and seeing what happens.\n",
    "\n",
    "***Note:*** All arguments to `effectiveness_calculator` are numbers between 0 and 1 (inclusive).\n",
    "\n",
    "***Hint:*** You are given two example inputs to `effectiveness_calculator` – one in the doctest and one in the notebook. Make sure your code works correctly for **both** of them. "
   ]
  },
  {
   "cell_type": "code",
   "execution_count": 171,
   "metadata": {},
   "outputs": [],
   "source": [
    "young_vaccinated_prop=0.01\n",
    "old_vaccinated_prop=0.99\n",
    "young_risk_vaccinated=0.01\n",
    "young_risk_unvaccinated=0.20\n",
    "old_risk_vaccinated=0.10\n",
    "old_risk_unvaccinated=0.50"
   ]
  },
  {
   "cell_type": "code",
   "execution_count": 172,
   "metadata": {
    "scrolled": true,
    "tags": []
   },
   "outputs": [],
   "source": [
    "p_v_total = (young_vaccinated_prop * young_risk_vaccinated) + (old_vaccinated_prop * old_risk_vaccinated)\n",
    "p_u_total = ((1-young_vaccinated_prop) * young_risk_unvaccinated) + ((1-old_vaccinated_prop) * old_risk_unvaccinated)\n",
    "total = 1 - (p_v_total / p_u_total)"
   ]
  },
  {
   "cell_type": "code",
   "execution_count": null,
   "metadata": {
    "tags": []
   },
   "outputs": [],
   "source": [
    "\n",
    "young = 1 - (young_risk_vaccinated/ young_risk_unvaccinated)\n",
    "old = 1 - (old_risk_vaccinated/ old_risk_unvaccinated)\n",
    "overall = (((young_vaccinated_prop * young_risk_vaccinated) + (old_vaccinated_prop * old_risk_vaccinated)) / (((1-young_vaccinated_prop) * young_risk_unvaccinated) + ((1-old_vaccinated_prop) * old_risk_unvaccinated))\n",
    "return {'Overall':overall, 'Young':young, 'Old':old}"
   ]
  },
  {
   "cell_type": "code",
   "execution_count": 188,
   "metadata": {},
   "outputs": [
    {
     "data": {
      "text/plain": [
       "{'Overall': 0.8006036217303822, 'Young': 0.95, 'Old': 0.8}"
      ]
     },
     "execution_count": 188,
     "metadata": {},
     "output_type": "execute_result"
    }
   ],
   "source": [
    "test_eff = effectiveness_calculator(\n",
    "      young_vaccinated_prop=0.01,\n",
    "    old_vaccinated_prop=0.99,\n",
    "    young_risk_vaccinated=0.01,\n",
    "    young_risk_unvaccinated=0.20,\n",
    "    old_risk_vaccinated=0.10,\n",
    "    old_risk_unvaccinated=0.50\n",
    "     )\n",
    "test_eff"
   ]
  },
  {
   "cell_type": "code",
   "execution_count": 165,
   "metadata": {},
   "outputs": [
    {
     "data": {
      "text/plain": [
       "{'Overall': 0.5118226600985222, 'Young': 0.95, 'Old': 0.8}"
      ]
     },
     "execution_count": 165,
     "metadata": {},
     "output_type": "execute_result"
    }
   ],
   "source": [
    "# run this to see the result, and don't change this cell -- it is used by the tests\n",
    "eff_example = effectiveness_calculator(\n",
    "    young_vaccinated_prop=0.01,\n",
    "    old_vaccinated_prop=0.99,\n",
    "    young_risk_vaccinated=0.01,\n",
    "    young_risk_unvaccinated=0.20,\n",
    "    old_risk_vaccinated=0.10,\n",
    "    old_risk_unvaccinated=0.50\n",
    ")\n",
    "eff_example"
   ]
  },
  {
   "cell_type": "code",
   "execution_count": 166,
   "metadata": {
    "deletable": false,
    "editable": false,
    "scrolled": true
   },
   "outputs": [
    {
     "data": {
      "text/html": [
       "<p><strong><pre style='display: inline;'>q10</pre></strong> passed!</p>"
      ],
      "text/plain": [
       "q10 results: All test cases passed!"
      ]
     },
     "execution_count": 166,
     "metadata": {},
     "output_type": "execute_result"
    }
   ],
   "source": [
    "grader.check(\"q10\")"
   ]
  },
  {
   "cell_type": "markdown",
   "metadata": {},
   "source": [
    "It might be helpful to think about the result of your effectiveness calculator. In the example above, we have constructed an extreme situation where essentially all older people are vaccinated, but almost no younger people are. Therefore, when calculating the overall vaccine effectiveness, we're using the probability of illness given vaccination – which is essentially the probability of severe illness if you're old – and comparing it to the probability of severe illness if you're unvaccinated, which is essentially the probability of severe illness if you're young.\n",
    "\n",
    "In fact, it is possible to create an example where the overall effectiveness is negative (taking the vaccine is worse than not taking it!), but where the effectiveness within groups is above 80%. The next question asks you to do just this. \n",
    "\n",
    "To help you with your experimentation, we've created an animated version of your `effectiveness_calculator`, that allows you to test different arguments by dragging sliders. Run the next cell to use it."
   ]
  },
  {
   "cell_type": "code",
   "execution_count": 126,
   "metadata": {
    "scrolled": true
   },
   "outputs": [
    {
     "data": {
      "application/vnd.jupyter.widget-view+json": {
       "model_id": "ce5218d1c49d45b1b410502d36d292cd",
       "version_major": 2,
       "version_minor": 0
      },
      "text/plain": [
       "interactive(children=(FloatSlider(value=0.01, description='young_vaccinated_prop', max=0.99, min=0.01, step=0.…"
      ]
     },
     "metadata": {},
     "output_type": "display_data"
    }
   ],
   "source": [
    "interact(effectiveness_calculator,\n",
    "         young_vaccinated_prop=FloatSlider(min=0.01, max=0.99, step=0.01, value=0.01),\n",
    "         old_vaccinated_prop=FloatSlider(min=0.01, max=0.99, step=0.01, value=0.99),\n",
    "         young_risk_vaccinated=FloatSlider(min=0.01, max=0.99, step=0.01, value=0.01),\n",
    "         young_risk_unvaccinated=FloatSlider(min=0.01, max=0.99, step=0.01, value=0.20),\n",
    "         old_risk_vaccinated=FloatSlider(min=0.01, max=0.99, step=0.01, value=0.10),\n",
    "         old_risk_unvaccinated=FloatSlider(min=0.01, max=0.99, step=0.01, value=0.50));"
   ]
  },
  {
   "cell_type": "markdown",
   "metadata": {},
   "source": [
    "### Question 11\n",
    "\n",
    "Create a function named `extreme_example` that accepts no arguments and returns a dictionary whose keys are the arguments to the function `effectiveness_calculator`. When your function is called and the dictionary is passed to `effectiveness_calculator`, it should return an `'Overall'` effectiveness that is negative and `'Young'` and `'Old'` effectivenesses that are both over 0.8.\n",
    "\n",
    "***Note:*** Use the animated calculator above to help you, but **make sure to think about what the numbers mean**. There are many possible correct answers!"
   ]
  },
  {
   "cell_type": "code",
   "execution_count": 130,
   "metadata": {
    "tags": []
   },
   "outputs": [
    {
     "ename": "TypeError",
     "evalue": "effectiveness_calculator() takes 0 positional arguments but 1 was given",
     "output_type": "error",
     "traceback": [
      "\u001b[0;31m---------------------------------------------------------------------------\u001b[0m",
      "\u001b[0;31mTypeError\u001b[0m                                 Traceback (most recent call last)",
      "Input \u001b[0;32mIn [130]\u001b[0m, in \u001b[0;36m<cell line: 9>\u001b[0;34m()\u001b[0m\n\u001b[1;32m      1\u001b[0m params \u001b[38;5;241m=\u001b[39m {\n\u001b[1;32m      2\u001b[0m     \u001b[38;5;124m'\u001b[39m\u001b[38;5;124myoung_vaccinated_prop\u001b[39m\u001b[38;5;124m'\u001b[39m: \u001b[38;5;241m.99\u001b[39m,\n\u001b[1;32m      3\u001b[0m     \u001b[38;5;124m'\u001b[39m\u001b[38;5;124mold_vaccinated_prop\u001b[39m\u001b[38;5;124m'\u001b[39m: \u001b[38;5;241m.99\u001b[39m,\n\u001b[0;32m   (...)\u001b[0m\n\u001b[1;32m      6\u001b[0m     \u001b[38;5;124m'\u001b[39m\u001b[38;5;124mold_risk_vaccinated\u001b[39m\u001b[38;5;124m'\u001b[39m: \u001b[38;5;241m.08\u001b[39m,\n\u001b[1;32m      7\u001b[0m     \u001b[38;5;124m'\u001b[39m\u001b[38;5;124mold_risk_unvaccinated\u001b[39m\u001b[38;5;124m'\u001b[39m: \u001b[38;5;241m.50\u001b[39m}\n\u001b[0;32m----> 9\u001b[0m \u001b[43meffectiveness_calculator\u001b[49m\u001b[43m(\u001b[49m\u001b[43mparams\u001b[49m\u001b[43m)\u001b[49m\n",
      "\u001b[0;31mTypeError\u001b[0m: effectiveness_calculator() takes 0 positional arguments but 1 was given"
     ]
    }
   ],
   "source": [
    "params = {\n",
    "    'young_vaccinated_prop': .99,\n",
    "    'old_vaccinated_prop': .99,\n",
    "    'young_risk_vaccinated': .01,\n",
    "    'young_risk_unvaccinated': .14,\n",
    "    'old_risk_vaccinated': .08,\n",
    "    'old_risk_unvaccinated': .50}\n",
    "\n",
    "effectiveness_calculator(params)"
   ]
  },
  {
   "cell_type": "code",
   "execution_count": null,
   "metadata": {
    "tags": []
   },
   "outputs": [],
   "source": []
  },
  {
   "cell_type": "code",
   "execution_count": 167,
   "metadata": {},
   "outputs": [
    {
     "data": {
      "text/plain": [
       "{'Overall': -12.92187499999999, 'Young': 0.9285714285714286, 'Old': 0.84}"
      ]
     },
     "execution_count": 167,
     "metadata": {},
     "output_type": "execute_result"
    }
   ],
   "source": [
    "# run this to see the result, and don't change this cell -- it is used by the tests\n",
    "eff_extreme = effectiveness_calculator(**extreme_example())\n",
    "eff_extreme"
   ]
  },
  {
   "cell_type": "code",
   "execution_count": 168,
   "metadata": {
    "deletable": false,
    "editable": false
   },
   "outputs": [
    {
     "data": {
      "text/html": [
       "<p><strong><pre style='display: inline;'>q11</pre></strong> passed!</p>"
      ],
      "text/plain": [
       "q11 results: All test cases passed!"
      ]
     },
     "execution_count": 168,
     "metadata": {},
     "output_type": "execute_result"
    }
   ],
   "source": [
    "grader.check(\"q11\")"
   ]
  },
  {
   "cell_type": "markdown",
   "metadata": {},
   "source": [
    "## Congratulations, you've finished Project 2! 🎉\n",
    "\n",
    "Submit your `project.py` file to Gradescope. Note that you only need to submit the `project.py` file; this notebook should not be uploaded because there are no manually-graded questions in this project.\n",
    "\n",
    "Before submitting, you should ensure that all of your work is in the `project.py` file. You can do this by running the doctests below, which will verify that your work passes the public tests **and** that your work is in the `project.py` file. Run the cell below; you should see no output."
   ]
  },
  {
   "cell_type": "code",
   "execution_count": 169,
   "metadata": {},
   "outputs": [
    {
     "name": "stdout",
     "output_type": "stream",
     "text": [
      "/home/v/Documents/github_repos/dsc80-2022-sp/projects/02-covid_vax/project.py:409: RuntimeWarning: invalid value encountered in double_scalars\n",
      "  effective = 1 - (p_v / p_u)\n",
      "/home/v/Documents/github_repos/dsc80-2022-sp/projects/02-covid_vax/project.py:409: RuntimeWarning: invalid value encountered in double_scalars\n",
      "  effective = 1 - (p_v / p_u)\n"
     ]
    }
   ],
   "source": [
    "!python -m doctest project.py"
   ]
  },
  {
   "cell_type": "markdown",
   "metadata": {},
   "source": [
    "In addition, `grader.check_all()` will verify that your work passes the public tests. Ultimately, the Gradescope autograder is also going to run `grader.check_all()`, so you should ensure these pass as well (which they should if the doctests above passed)."
   ]
  },
  {
   "cell_type": "markdown",
   "metadata": {
    "deletable": false,
    "editable": false
   },
   "source": [
    "---\n",
    "\n",
    "To double-check your work, the cell below will rerun all of the autograder tests."
   ]
  },
  {
   "cell_type": "code",
   "execution_count": 170,
   "metadata": {
    "deletable": false,
    "editable": false
   },
   "outputs": [
    {
     "data": {
      "text/plain": [
       "q1 results: All test cases passed!\n",
       "\n",
       "q10 results: All test cases passed!\n",
       "\n",
       "q11 results: All test cases passed!\n",
       "\n",
       "q2 results: All test cases passed!\n",
       "\n",
       "q3 results: All test cases passed!\n",
       "\n",
       "q4 results: All test cases passed!\n",
       "\n",
       "q5 results: All test cases passed!\n",
       "\n",
       "q6 results: All test cases passed!\n",
       "\n",
       "q7 results: All test cases passed!\n",
       "\n",
       "q8 results: All test cases passed!\n",
       "\n",
       "q9 results: All test cases passed!"
      ]
     },
     "execution_count": 170,
     "metadata": {},
     "output_type": "execute_result"
    }
   ],
   "source": [
    "grader.check_all()"
   ]
  }
 ],
 "metadata": {
  "kernelspec": {
   "display_name": "Python 3 (ipykernel)",
   "language": "python",
   "name": "python3"
  },
  "language_info": {
   "codemirror_mode": {
    "name": "ipython",
    "version": 3
   },
   "file_extension": ".py",
   "mimetype": "text/x-python",
   "name": "python",
   "nbconvert_exporter": "python",
   "pygments_lexer": "ipython3",
   "version": "3.8.12"
  },
  "otter": {
   "tests": {
    "q1": {
     "name": "q1",
     "points": null,
     "suites": [
      {
       "cases": [
        {
         "code": ">>> is_monotonic(np.array([3, 6, 2, 8])) == False\nTrue",
         "hidden": false,
         "locked": false,
         "points": 0.5
        },
        {
         "code": ">>> isinstance(mono, pd.DataFrame)\nTrue",
         "hidden": false,
         "locked": false,
         "points": 0.25
        },
        {
         "code": ">>> mono.shape == (192, 3)\nTrue",
         "hidden": false,
         "locked": false,
         "points": 0.25
        },
        {
         "code": ">>> mono.loc['Venezuela', 'Doses_admin_monotonic'] == False\nTrue",
         "hidden": false,
         "locked": false,
         "points": 1
        }
       ],
       "scored": true,
       "setup": "",
       "teardown": "",
       "type": "doctest"
      }
     ]
    },
    "q10": {
     "name": "q10",
     "points": null,
     "suites": [
      {
       "cases": [
        {
         "code": ">>> isinstance(eff_example, dict)\nTrue",
         "hidden": false,
         "locked": false,
         "points": 0.25
        },
        {
         "code": ">>> eff_example.keys() == {'Overall', 'Young', 'Old'}\nTrue",
         "hidden": false,
         "locked": false,
         "points": 0.25
        },
        {
         "code": ">>> .4 < eff_example['Overall'] < .6\nTrue",
         "hidden": false,
         "locked": false,
         "points": 0.5
        },
        {
         "code": ">>> test_eff = effectiveness_calculator(young_vaccinated_prop=0.5, old_vaccinated_prop=0.5, young_risk_vaccinated=0.01, young_risk_unvaccinated=0.20, old_risk_vaccinated=0.01, old_risk_unvaccinated=0.20)\n>>> test_eff['Overall'] == test_eff['Young'] == test_eff['Old'] == 0.95\nTrue",
         "hidden": false,
         "locked": false,
         "points": 1
        }
       ],
       "scored": true,
       "setup": "",
       "teardown": "",
       "type": "doctest"
      }
     ]
    },
    "q11": {
     "name": "q11",
     "points": null,
     "suites": [
      {
       "cases": [
        {
         "code": ">>> isinstance(eff_extreme, dict)\nTrue",
         "hidden": false,
         "locked": false,
         "points": 0.25
        },
        {
         "code": ">>> keys = {'old_risk_unvaccinated', 'young_risk_vaccinated', 'young_vaccinated_prop', 'old_risk_vaccinated', 'old_vaccinated_prop', 'young_risk_unvaccinated'}\n>>> extreme_example().keys() == keys\nTrue",
         "hidden": false,
         "locked": false,
         "points": 0.25
        },
        {
         "code": ">>> eff_extreme.keys() == {'Overall', 'Young', 'Old'}\nTrue",
         "hidden": false,
         "locked": false,
         "points": 0.25
        }
       ],
       "scored": true,
       "setup": "",
       "teardown": "",
       "type": "doctest"
      }
     ]
    },
    "q2": {
     "name": "q2",
     "points": null,
     "suites": [
      {
       "cases": [
        {
         "code": ">>> isinstance(tots, pd.DataFrame)\nTrue",
         "hidden": false,
         "locked": false,
         "points": 0.25
        },
        {
         "code": ">>> tots.shape == (192, 3)\nTrue",
         "hidden": false,
         "locked": false,
         "points": 0.25
        },
        {
         "code": ">>> int(tots.loc['Venezuela', 'Doses_admin']) == 35352675\nTrue",
         "hidden": false,
         "locked": false,
         "points": 1
        },
        {
         "code": ">>> int(tots.loc['Venezuela', 'People_partially_vaccinated']) == 22157232\nTrue",
         "hidden": false,
         "locked": false,
         "points": 1
        }
       ],
       "scored": true,
       "setup": "",
       "teardown": "",
       "type": "doctest"
      }
     ]
    },
    "q3": {
     "name": "q3",
     "points": null,
     "suites": [
      {
       "cases": [
        {
         "code": ">>> isinstance(pops, pd.DataFrame)\nTrue",
         "hidden": false,
         "locked": false,
         "points": 0.25
        },
        {
         "code": ">>> pops.shape\n(235, 11)",
         "hidden": false,
         "locked": false,
         "points": 0.25
        },
        {
         "code": ">>> pops.loc[pops['Country (or dependency)'] == 'Montserrat', 'Population (2020)'].iloc[0]\n4993",
         "hidden": false,
         "locked": false,
         "points": 1
        }
       ],
       "scored": true,
       "setup": "",
       "teardown": "",
       "type": "doctest"
      }
     ]
    },
    "q4": {
     "name": "q4",
     "points": null,
     "suites": [
      {
       "cases": [
        {
         "code": ">>> len(missing)\n14",
         "hidden": false,
         "locked": false,
         "points": 0.25
        },
        {
         "code": ">>> ex_tots = pd.DataFrame({\n...             'Doses_admin': [1, 2, 3],\n...             'People_partially_vaccinated': [1, 2, 3],\n...             'People_fully_vaccinated': [1, 2, 3]\n...         },\n...         index = ['China', 'Angola', 'Republic of Data Science']\n...     )\n>>> missing_in_pops(ex_tots, pops)\n{'Republic of Data Science'}",
         "hidden": false,
         "locked": false,
         "points": 1
        },
        {
         "code": ">>> isinstance(pops_fixed, pd.DataFrame)\nTrue",
         "hidden": false,
         "locked": false,
         "points": 0.25
        },
        {
         "code": ">>> pops_fixed.shape\n(235, 11)",
         "hidden": false,
         "locked": false,
         "points": 0.75
        },
        {
         "code": ">>> 'Burma' in pops_fixed['Country (or dependency)'].values\nTrue",
         "hidden": false,
         "locked": false,
         "points": 0.5
        },
        {
         "code": ">>> not 'Myanmar' in pops_fixed['Country (or dependency)'].values\nTrue",
         "hidden": false,
         "locked": false,
         "points": 0.5
        }
       ],
       "scored": true,
       "setup": "",
       "teardown": "",
       "type": "doctest"
      }
     ]
    },
    "q5": {
     "name": "q5",
     "points": null,
     "suites": [
      {
       "cases": [
        {
         "code": ">>> isinstance(top_k, pd.Series)\nTrue",
         "hidden": false,
         "locked": false,
         "points": 0.25
        },
        {
         "code": ">>> top_k.shape\n(10,)",
         "hidden": false,
         "locked": false,
         "points": 0.25
        },
        {
         "code": ">>> top_k.index[0]\n'Malta'",
         "hidden": false,
         "locked": false,
         "points": 0.5
        },
        {
         "code": ">>> tots_sample = pd.read_csv(os.path.join('data', 'tots_sample_for_tests.csv')).set_index('Country_Region')\n>>> top_k_fully_vaccinated(tots_sample, pops_fixed, 3).index[2]\n'Oman'",
         "hidden": false,
         "locked": false,
         "points": 1
        }
       ],
       "scored": true,
       "setup": "",
       "teardown": "",
       "type": "doctest"
      }
     ]
    },
    "q6": {
     "name": "q6",
     "points": null,
     "suites": [
      {
       "cases": [
        {
         "code": ">>> isinstance(israel, pd.DataFrame)\nTrue",
         "hidden": false,
         "locked": false,
         "points": 0.25
        },
        {
         "code": ">>> israel.shape\n(6937542, 3)",
         "hidden": false,
         "locked": false,
         "points": 0.25
        },
        {
         "code": ">>> str(israel.dtypes['Age'])\n'float64'",
         "hidden": false,
         "locked": false,
         "points": 1
        }
       ],
       "scored": true,
       "setup": "",
       "teardown": "",
       "type": "doctest"
      }
     ]
    },
    "q7": {
     "name": "q7",
     "points": null,
     "suites": [
      {
       "cases": [
        {
         "code": ">>> isinstance(test_stats_vax, np.ndarray) and isinstance(test_stats_sick, np.ndarray)\nTrue",
         "hidden": false,
         "locked": false,
         "points": 0.25
        },
        {
         "code": ">>> len(test_stats_vax) == len(test_stats_sick) == 100\nTrue",
         "hidden": false,
         "locked": false,
         "points": 0.5
        },
        {
         "code": ">>> missingness_type() in {1, 2, 3, 4}\nTrue",
         "hidden": false,
         "locked": false,
         "points": 0.25
        }
       ],
       "scored": true,
       "setup": "",
       "teardown": "",
       "type": "doctest"
      }
     ]
    },
    "q8": {
     "name": "q8",
     "points": null,
     "suites": [
      {
       "cases": [
        {
         "code": ">>> isinstance(eff_overall, float)\nTrue",
         "hidden": false,
         "locked": false,
         "points": 0.25
        },
        {
         "code": ">>> 0.6 < eff_overall < 0.7\nTrue",
         "hidden": false,
         "locked": false,
         "points": 0.25
        },
        {
         "code": ">>> 0.65 < eff_overall < 0.7\nTrue",
         "hidden": false,
         "locked": false,
         "points": 0.5
        },
        {
         "code": ">>> example_vax = pd.DataFrame({'Age': [15, 20, 25, 30, 35, 40], \n...                             'Vaccinated': [True, True, True, False, False, False], \n...                             'Severe Sickness': [True, False, False, False, True, True]})\n>>> effectiveness(example_vax)\n0.5",
         "hidden": false,
         "locked": false,
         "points": 1
        }
       ],
       "scored": true,
       "setup": "",
       "teardown": "",
       "type": "doctest"
      }
     ]
    },
    "q9": {
     "name": "q9",
     "points": null,
     "suites": [
      {
       "cases": [
        {
         "code": ">>> isinstance(s_eff, pd.Series)\nTrue",
         "hidden": false,
         "locked": false,
         "points": 0.25
        },
        {
         "code": ">>> len(s_eff)\n10",
         "hidden": false,
         "locked": false,
         "points": 0.25
        },
        {
         "code": ">>> s_eff.loc['12-15'] == 1.0\nTrue",
         "hidden": false,
         "locked": false,
         "points": 0.5
        }
       ],
       "scored": true,
       "setup": "",
       "teardown": "",
       "type": "doctest"
      }
     ]
    }
   }
  }
 },
 "nbformat": 4,
 "nbformat_minor": 2
}
