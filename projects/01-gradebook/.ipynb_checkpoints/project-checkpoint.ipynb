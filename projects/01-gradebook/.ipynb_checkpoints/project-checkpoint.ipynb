{
 "cells": [
  {
   "cell_type": "code",
   "execution_count": 1,
   "metadata": {
    "deletable": false,
    "editable": false
   },
   "outputs": [],
   "source": [
    "# Initialize Otter\n",
    "import otter\n",
    "grader = otter.Notebook(\"project.ipynb\")"
   ]
  },
  {
   "cell_type": "markdown",
   "metadata": {},
   "source": [
    "# Project 1 – The Other Side of Gradescope 💯\n",
    "\n",
    "## DSC 80, Spring 2022\n",
    "\n",
    "### Checkpoint Due Date: Thursday, April 7th (Questions 1-4)\n",
    "### Due Date: Thursday, April 14th"
   ]
  },
  {
   "cell_type": "markdown",
   "metadata": {},
   "source": [
    "## Instructions\n",
    "\n",
    "Welcome to Project 1! Run the cell below to watch a [quick video 🎥](https://youtu.be/Os-BT0FTzVg) that introduces the project."
   ]
  },
  {
   "cell_type": "code",
   "execution_count": null,
   "metadata": {},
   "outputs": [],
   "source": [
    "from IPython.display import YouTubeVideo\n",
    "YouTubeVideo('Os-BT0FTzVg')"
   ]
  },
  {
   "cell_type": "markdown",
   "metadata": {},
   "source": [
    "### Working on the Project\n",
    "\n",
    "This Jupyter Notebook contains the statements of the problems and provides code and Markdown cells to display your answers to the problems.\n",
    "\n",
    "\n",
    "* Like the lab, your coding work will be developed in the accompanying `project.py` file, that will be imported into the current notebook. This code will be autograded.\n",
    "* Note that there is no manually-graded component to Project 1, so the only thing you will ever submit is `project.py`.\n",
    "* **For the checkpoint, you only need to turn in a `project.py` containing solutions for Questions 1-4!**\n",
    "    - The \"Project 1 Checkpoint\" autograder on Gradescope does not thoroughly check your code -- it only runs the doctests/public tests on Questions 1-4 to make sure that you have completed them. When you submit the final version of the project, we will use hidden tests to check your answers more thoroughly.\n",
    "* Note that this means you will ultimately have to submit the project twice – once to the \"Project 1 Checkpoint\" autograder (Questions 1-4 only), and once to the \"Project 1\" autograder (once you're fully done).\n",
    "\n",
    "\n",
    "**Do not change the function names in the `project.py` file!**\n",
    "- The functions in the `project.py` file are how your assignment is graded, and they are graded by their name.\n",
    "- If you changed something you weren't supposed to, just use git to revert! Ask us if you need help with this, or google around for `git revert`.\n",
    "\n",
    "**Tips for developing in the `project.py` file**:\n",
    "- Do not change the function names in the starter code; grading is done using these function names.\n",
    "- Do not change the docstrings in the functions. These are there to tell you if your work is on the right track!\n",
    "- You are **encouraged to write your own additional functions** to solve the questions! \n",
    "- Always document your code!\n",
    "\n",
    "### Working with a Partner\n",
    "\n",
    "You are allowed to work with a partner on projects in DSC 80. If you do work with a partner, you must follow the [Pair Programming Guidelines](https://dsc10.com/pair-programming/). Specifically, you must be actively working on the project at the same time on one computer. Splitting up the project and working on it separately **is not** pair programming.\n",
    "\n",
    "You can use [this sheet](https://docs.google.com/spreadsheets/d/1PMtGpd4U6rYBn6Ut6eHQzSo4PdBwluU-ppx87ROy_N8/edit?usp=sharing) to find a partner. Your partner does not have to be in the same lecture section as you.\n",
    "\n",
    "Note that if you do work with a partner, you and your partner must submit the Checkpoint together and the whole project together."
   ]
  },
  {
   "cell_type": "code",
   "execution_count": 2,
   "metadata": {},
   "outputs": [],
   "source": [
    "%load_ext autoreload\n",
    "%autoreload 2"
   ]
  },
  {
   "cell_type": "code",
   "execution_count": 3,
   "metadata": {},
   "outputs": [],
   "source": [
    "import pandas as pd\n",
    "import numpy as np\n",
    "import os"
   ]
  },
  {
   "cell_type": "code",
   "execution_count": 4,
   "metadata": {},
   "outputs": [],
   "source": [
    "from project import *"
   ]
  },
  {
   "cell_type": "markdown",
   "metadata": {},
   "source": [
    "## About the Assignment\n",
    "\n",
    "The file contains the gradebook from a fictional data science course with 535 students. \n",
    "\n",
    "***Note: this dataset is synthetically generated; it does not contain real student grades. The course syllabus below is similar, but not quite the same as the course syllabus for this class!***\n",
    "\n",
    "In this project, you will:\n",
    "1. Clean and process the data to compute total course grades according to a fictional syllabus (below).\n",
    "2. Qualitatively understand how students did in the course.\n",
    "3. Understand how student grades vary with small changes in performance on each assignment.\n",
    "\n",
    "---\n",
    "\n",
    "### Navigating the Project\n",
    "\n",
    "Click on the links below to navigate to different parts of the project. Note that Questions 1, 2, 3, and 4 constitute your Checkpoint submission.\n",
    "\n",
    "- [Part 1: Enumerating the Assignments  🔢](#part1)\n",
    "    - [Question 1 (Checkpoint Question)](#Question-1-(Checkpoint-Question))\n",
    "- [Part 2: Computing Project Grades 🧮](#part2)\n",
    "    - [Question 2 (Checkpoint Question)](#Question-2-(Checkpoint-Question))\n",
    "- [Part 3: Computing Lab Grades 🧪](#part3)\n",
    "    - [Question 3 (Checkpoint Question)](#Question-3-(Checkpoint-Question))\n",
    "    - [Question 4 (Checkpoint Question)](#Question-4-(Checkpoint-Question))\n",
    "    - [Question 5](#Question-5)\n",
    "    - [Question 6](#Question-6)\n",
    "- [Part 4: Putting It All Together 🧩](#part4)\n",
    "    - [Question 7](#Question-7)\n",
    "    - [Question 8](#Question-8)\n",
    "- [Part 5: Do Seniors Get Worse Grades? 👵](#part5)\n",
    "    - [Question 9](#Question-9)\n",
    "- [Part 6: What is the True Distribution of Grades? 🧐](#part6)\n",
    "    - [Question 10](#Question-10)\n",
    "    - [Question 11](#Question-11)\n",
    "\n",
    "---\n",
    "\n",
    "### The Syllabus\n",
    "\n",
    "The course syllabus for this fictional class is as follows:\n",
    "\n",
    "* **Lab assignments (20% total)**\n",
    "    - Each lab is worth the same amount, regardless of each lab's raw point total.\n",
    "    - The lowest lab is dropped.\n",
    "    - Each lab may be revised for up to (and including) one week after the deadline for a 10% penalty, for up to (and including) two weeks after the deadline for a 30% penalty, and beyond that for a 60% penalty. Such revisions are reflected in the `'Lateness'` columns in the gradebook.\n",
    "* **Projects (30% total)** \n",
    "    - Each project consists of an autograded portion, and **possibly** a free response portion.\n",
    "    - The total points for a single project consist of the sum of the raw score of the two portions.\n",
    "    - Each project is worth the same amount, regardless of each project's raw point total.\n",
    "* **Checkpoints (2.5% total)**\n",
    "    - Each project checkpoint is worth the same amount, regardless of each project checkpoint's raw point total.\n",
    "* **Discussions (2.5% total)**\n",
    "    - Each discussion is worth the same amount, regardless of each discussion's raw point total.\n",
    "* **Midterm Exam (15%)**\n",
    "* **Final Exam (30%)**\n",
    "\n",
    "You will need to refer to this syllabus repeatedly throughout the project, and several questions will link you back to it.\n",
    "\n",
    "---\n",
    "\n",
    "### Generalization\n",
    "\n",
    "You may assume that your code will only need to work on a gradebook for a class with the syllabus given above. That is, you may assume that the DataFrame `grades` looks **like** the given one in `data/grades.csv`.\n",
    "\n",
    "However, such a class:\n",
    "1. May have a different numbers of labs, projects, discussions, and project checkpoints.\n",
    "2. May have a different number of students.\n",
    "\n",
    "You may assume the course components and the naming conventions are as given in the data file, and you may assume that the course has no more than 99 of any type of assignment.\n",
    "\n",
    "---\n",
    "\n",
    "### Putting Everything Together\n",
    "\n",
    "Here are a few remarks and tips for approaching Project 1, and projects more generally:\n",
    "\n",
    "1. If you are having trouble figuring out what a question is asking you to do, look at the big picture and try to understand what the current step is doing to contribute to this big picture. This may clarify what's being asked!\n",
    "1. These questions intentionally build off of each other and the final result matters! In fact, you can \"get a question correct\", but only receive partial credit for it because a previous answer was wrong.\n",
    "    - Credit for a question will typically receive partial credit based on *how close* your answer is to correct (as well as some credit for a solution in the correct form). \n",
    "    - You should try to assess your answer to each question based on what you understand of the data. This might involve writing extensive code (that isn't turned in) just to check your work! Suggestions on checking your work are given in the assignment, but you should also think of your own ways of checking your work.\n",
    "    - As you do this project, think about the data from the perspective of the student (which should be easy to do, since you've used Gradescope before!)\n",
    "1. To test the correctness of your answers:\n",
    "     - Once you have implemented a particular function in `project.py`, you should test out your function in the notebook. In particular, you should inspect/analyze the output to assess its correctness.\n",
    "    - Run your functions on the main dataset (`grades`) and ask yourself if the output *looks correct.*\n",
    "    - Run your functions on very small datasets (e.g. 1-5 row DataFrames that you construct by hand), calculate the expected output by hand, and see if the function output matches (this *is* unit-testing your code with data).\n",
    "    * Run your functions on (large and small) samples of the dataset `grades`. Does your code break, or does it still run as expected?"
   ]
  },
  {
   "cell_type": "markdown",
   "metadata": {},
   "source": [
    "Run the cell below to load in the aforementioned `grades` dataset."
   ]
  },
  {
   "cell_type": "code",
   "execution_count": 5,
   "metadata": {},
   "outputs": [
    {
     "data": {
      "text/html": [
       "<div>\n",
       "<style scoped>\n",
       "    .dataframe tbody tr th:only-of-type {\n",
       "        vertical-align: middle;\n",
       "    }\n",
       "\n",
       "    .dataframe tbody tr th {\n",
       "        vertical-align: top;\n",
       "    }\n",
       "\n",
       "    .dataframe thead th {\n",
       "        text-align: right;\n",
       "    }\n",
       "</style>\n",
       "<table border=\"1\" class=\"dataframe\">\n",
       "  <thead>\n",
       "    <tr style=\"text-align: right;\">\n",
       "      <th></th>\n",
       "      <th>PID</th>\n",
       "      <th>College</th>\n",
       "      <th>Level</th>\n",
       "      <th>lab01</th>\n",
       "      <th>lab01 - Max Points</th>\n",
       "      <th>lab01 - Lateness (H:M:S)</th>\n",
       "      <th>lab02</th>\n",
       "      <th>lab02 - Max Points</th>\n",
       "      <th>lab02 - Lateness (H:M:S)</th>\n",
       "      <th>project01</th>\n",
       "      <th>...</th>\n",
       "      <th>discussion07 - Lateness (H:M:S)</th>\n",
       "      <th>discussion08</th>\n",
       "      <th>discussion08 - Max Points</th>\n",
       "      <th>discussion08 - Lateness (H:M:S)</th>\n",
       "      <th>discussion09</th>\n",
       "      <th>discussion09 - Max Points</th>\n",
       "      <th>discussion09 - Lateness (H:M:S)</th>\n",
       "      <th>discussion10</th>\n",
       "      <th>discussion10 - Max Points</th>\n",
       "      <th>discussion10 - Lateness (H:M:S)</th>\n",
       "    </tr>\n",
       "  </thead>\n",
       "  <tbody>\n",
       "    <tr>\n",
       "      <th>0</th>\n",
       "      <td>A14721419</td>\n",
       "      <td>SI</td>\n",
       "      <td>JR</td>\n",
       "      <td>99.735279</td>\n",
       "      <td>100</td>\n",
       "      <td>00:00:00</td>\n",
       "      <td>84.990171</td>\n",
       "      <td>100</td>\n",
       "      <td>00:00:00</td>\n",
       "      <td>75.282632</td>\n",
       "      <td>...</td>\n",
       "      <td>00:00:00</td>\n",
       "      <td>8.895294</td>\n",
       "      <td>10</td>\n",
       "      <td>00:00:00</td>\n",
       "      <td>10.000000</td>\n",
       "      <td>10</td>\n",
       "      <td>780:01:28</td>\n",
       "      <td>10.000000</td>\n",
       "      <td>10</td>\n",
       "      <td>00:00:00</td>\n",
       "    </tr>\n",
       "    <tr>\n",
       "      <th>1</th>\n",
       "      <td>A14540219</td>\n",
       "      <td>WA</td>\n",
       "      <td>JR</td>\n",
       "      <td>69.586809</td>\n",
       "      <td>100</td>\n",
       "      <td>00:00:00</td>\n",
       "      <td>75.455147</td>\n",
       "      <td>100</td>\n",
       "      <td>00:00:00</td>\n",
       "      <td>NaN</td>\n",
       "      <td>...</td>\n",
       "      <td>00:00:00</td>\n",
       "      <td>NaN</td>\n",
       "      <td>10</td>\n",
       "      <td>00:00:00</td>\n",
       "      <td>NaN</td>\n",
       "      <td>10</td>\n",
       "      <td>00:00:00</td>\n",
       "      <td>NaN</td>\n",
       "      <td>10</td>\n",
       "      <td>00:00:00</td>\n",
       "    </tr>\n",
       "    <tr>\n",
       "      <th>2</th>\n",
       "      <td>A14654940</td>\n",
       "      <td>SI</td>\n",
       "      <td>SO</td>\n",
       "      <td>99.916912</td>\n",
       "      <td>100</td>\n",
       "      <td>00:00:00</td>\n",
       "      <td>NaN</td>\n",
       "      <td>100</td>\n",
       "      <td>00:00:00</td>\n",
       "      <td>63.995207</td>\n",
       "      <td>...</td>\n",
       "      <td>00:00:00</td>\n",
       "      <td>10.000000</td>\n",
       "      <td>10</td>\n",
       "      <td>00:00:00</td>\n",
       "      <td>10.000000</td>\n",
       "      <td>10</td>\n",
       "      <td>00:00:00</td>\n",
       "      <td>10.000000</td>\n",
       "      <td>10</td>\n",
       "      <td>46:27:42</td>\n",
       "    </tr>\n",
       "    <tr>\n",
       "      <th>3</th>\n",
       "      <td>A14883274</td>\n",
       "      <td>TH</td>\n",
       "      <td>JR</td>\n",
       "      <td>98.829476</td>\n",
       "      <td>100</td>\n",
       "      <td>00:00:00</td>\n",
       "      <td>50.784231</td>\n",
       "      <td>100</td>\n",
       "      <td>00:00:00</td>\n",
       "      <td>52.929482</td>\n",
       "      <td>...</td>\n",
       "      <td>669:12:21</td>\n",
       "      <td>9.022407</td>\n",
       "      <td>10</td>\n",
       "      <td>00:00:00</td>\n",
       "      <td>9.020283</td>\n",
       "      <td>10</td>\n",
       "      <td>00:00:00</td>\n",
       "      <td>9.437368</td>\n",
       "      <td>10</td>\n",
       "      <td>00:00:00</td>\n",
       "    </tr>\n",
       "    <tr>\n",
       "      <th>4</th>\n",
       "      <td>A14755997</td>\n",
       "      <td>WA</td>\n",
       "      <td>JR</td>\n",
       "      <td>86.370726</td>\n",
       "      <td>100</td>\n",
       "      <td>00:00:00</td>\n",
       "      <td>NaN</td>\n",
       "      <td>100</td>\n",
       "      <td>00:00:00</td>\n",
       "      <td>85.000000</td>\n",
       "      <td>...</td>\n",
       "      <td>00:00:00</td>\n",
       "      <td>9.232778</td>\n",
       "      <td>10</td>\n",
       "      <td>00:00:00</td>\n",
       "      <td>9.134615</td>\n",
       "      <td>10</td>\n",
       "      <td>00:00:00</td>\n",
       "      <td>10.000000</td>\n",
       "      <td>10</td>\n",
       "      <td>00:00:00</td>\n",
       "    </tr>\n",
       "  </tbody>\n",
       "</table>\n",
       "<p>5 rows × 100 columns</p>\n",
       "</div>"
      ],
      "text/plain": [
       "         PID College Level      lab01  lab01 - Max Points  \\\n",
       "0  A14721419      SI    JR  99.735279                 100   \n",
       "1  A14540219      WA    JR  69.586809                 100   \n",
       "2  A14654940      SI    SO  99.916912                 100   \n",
       "3  A14883274      TH    JR  98.829476                 100   \n",
       "4  A14755997      WA    JR  86.370726                 100   \n",
       "\n",
       "  lab01 - Lateness (H:M:S)      lab02  lab02 - Max Points  \\\n",
       "0                 00:00:00  84.990171                 100   \n",
       "1                 00:00:00  75.455147                 100   \n",
       "2                 00:00:00        NaN                 100   \n",
       "3                 00:00:00  50.784231                 100   \n",
       "4                 00:00:00        NaN                 100   \n",
       "\n",
       "  lab02 - Lateness (H:M:S)  project01  ...  discussion07 - Lateness (H:M:S)  \\\n",
       "0                 00:00:00  75.282632  ...                         00:00:00   \n",
       "1                 00:00:00        NaN  ...                         00:00:00   \n",
       "2                 00:00:00  63.995207  ...                         00:00:00   \n",
       "3                 00:00:00  52.929482  ...                        669:12:21   \n",
       "4                 00:00:00  85.000000  ...                         00:00:00   \n",
       "\n",
       "  discussion08  discussion08 - Max Points  discussion08 - Lateness (H:M:S)  \\\n",
       "0     8.895294                         10                         00:00:00   \n",
       "1          NaN                         10                         00:00:00   \n",
       "2    10.000000                         10                         00:00:00   \n",
       "3     9.022407                         10                         00:00:00   \n",
       "4     9.232778                         10                         00:00:00   \n",
       "\n",
       "  discussion09  discussion09 - Max Points  discussion09 - Lateness (H:M:S)  \\\n",
       "0    10.000000                         10                        780:01:28   \n",
       "1          NaN                         10                         00:00:00   \n",
       "2    10.000000                         10                         00:00:00   \n",
       "3     9.020283                         10                         00:00:00   \n",
       "4     9.134615                         10                         00:00:00   \n",
       "\n",
       "  discussion10  discussion10 - Max Points  discussion10 - Lateness (H:M:S)  \n",
       "0    10.000000                         10                         00:00:00  \n",
       "1          NaN                         10                         00:00:00  \n",
       "2    10.000000                         10                         46:27:42  \n",
       "3     9.437368                         10                         00:00:00  \n",
       "4    10.000000                         10                         00:00:00  \n",
       "\n",
       "[5 rows x 100 columns]"
      ]
     },
     "execution_count": 5,
     "metadata": {},
     "output_type": "execute_result"
    }
   ],
   "source": [
    "grades_fp = os.path.join('data', 'grades.csv')\n",
    "grades = pd.read_csv(grades_fp)\n",
    "grades.head()"
   ]
  },
  {
   "cell_type": "markdown",
   "metadata": {},
   "source": [
    "**Tip:** The `grades` DataFrame has 100 columns, and you can't see them all right now. To get a feel for what all of the columns represent, you might consider opening `grades.csv` with a spreadsheet application, like Google Sheets or Excel."
   ]
  },
  {
   "cell_type": "markdown",
   "metadata": {},
   "source": [
    "<a name='part1'></a>\n",
    "\n",
    "## Part 1: Enumerating the Assignments 🔢\n",
    "\n",
    "To start, you'll list out the names of each assignment in the course."
   ]
  },
  {
   "cell_type": "markdown",
   "metadata": {},
   "source": [
    "### Question 1 (Checkpoint Question)\n",
    "\n",
    "Complete the implementation of the function `get_assignment_names`, which takes in a DataFrame like `grades` and returns a dictionary with the following structure:\n",
    "- The keys are the general areas of [the syllabus](#The-Syllabus): `'lab'`, `'project'`, `'midterm'`, `'final'`, `'disc'`, and `'checkpoint'`.\n",
    "- The values are **lists** that contain all the assignment names of that type. For example, the lab assignments all have names of the form `'labXX'` where `XX` is a zero-padded two digit number. If the class has 5 labs, the returned dictionary's value for the `'lab'` key should be `['lab01', 'lab02', 'lab03', 'lab04', 'lab05']`.\n",
    "\n",
    "See the doctests for more details."
   ]
  },
  {
   "cell_type": "code",
   "execution_count": 6,
   "metadata": {
    "scrolled": true
   },
   "outputs": [
    {
     "data": {
      "text/plain": [
       "True"
      ]
     },
     "execution_count": 6,
     "metadata": {},
     "output_type": "execute_result"
    }
   ],
   "source": [
    "cols2 = np.array(grades.columns)\n",
    "word = 'lab06'\n",
    "word.startswith('lab')"
   ]
  },
  {
   "cell_type": "code",
   "execution_count": 7,
   "metadata": {},
   "outputs": [
    {
     "name": "stdout",
     "output_type": "stream",
     "text": [
      "[]\n",
      "['cool']\n",
      "['cool', 'cool2']\n"
     ]
    }
   ],
   "source": [
    "temp = []\n",
    "print(temp)\n",
    "temp.append('cool')\n",
    "print(temp)\n",
    "temp.append('cool2')\n",
    "print(temp)"
   ]
  },
  {
   "cell_type": "code",
   "execution_count": 9,
   "metadata": {},
   "outputs": [],
   "source": [
    "def col_filter(cols_arg):\n",
    "    str_arr = cols_arg.astype(str)\n",
    "   \n",
    "    lab = []\n",
    "    project = []\n",
    "    midterm = []\n",
    "    final = []\n",
    "    disc = []\n",
    "    checkpoint = [] \n",
    "    \n",
    "    for i in range(str_arr.shape[0]):\n",
    "        print('in loop')\n",
    "        if(str_arr[i].startswith('lab') and len(str_arr[i]) == 5):\n",
    "            lab.append(str(str_arr[i]))\n",
    "           \n",
    "        if(str_arr[i].startswith('project') and len(str_arr[i]) == 9):\n",
    "             project.append(str(str_arr[i]))\n",
    "            \n",
    "        if(str_arr[i] == 'Midterm'):\n",
    "             midterm.append(str(str_arr[i]))\n",
    "           \n",
    "        if(str_arr[i] == 'Final'):\n",
    "            final.append(str(str_arr[i]))\n",
    "           \n",
    "        if(str_arr[i].startswith('discussion') and len(str_arr[i]) == 12):\n",
    "            disc.append(str(str_arr[i]))\n",
    "                \n",
    "        if(str_arr[i].startswith('project') and str_arr[i].find('_checkpoint') != -1 and len(str_arr[i]) == 22):\n",
    "            checkpoint.append(str(str_arr[i]))\n",
    "         \n",
    "        \n",
    "        \n",
    "    assignment_dict = {'lab': lab,'project':project,'midterm':midterm,'final':final,'disc':disc, 'checkpoint': checkpoint}\n",
    "    return assignment_dict\n",
    "        \n",
    "        \n",
    "        \n",
    "    "
   ]
  },
  {
   "cell_type": "code",
   "execution_count": 126,
   "metadata": {
    "tags": []
   },
   "outputs": [
    {
     "name": "stdout",
     "output_type": "stream",
     "text": [
      "{'lab': ['lab01', 'lab02', 'lab03', 'lab04', 'lab05', 'lab06', 'lab07', 'lab08', 'lab09'], 'project': ['project01', 'project02', 'project03', 'project04', 'project05'], 'midterm': ['Midterm'], 'final': ['Final'], 'disc': ['discussion01', 'discussion02', 'discussion03', 'discussion04', 'discussion05', 'discussion06', 'discussion07', 'discussion08', 'discussion09', 'discussion10'], 'checkpoint': ['project02_checkpoint01', 'project02_checkpoint02', 'project03_checkpoint01']}\n"
     ]
    },
    {
     "data": {
      "text/plain": [
       "list"
      ]
     },
     "execution_count": 126,
     "metadata": {},
     "output_type": "execute_result"
    }
   ],
   "source": [
    "cols = np.array(grades.columns)\n",
    "\n",
    "dict_result = get_assignment_names(grades)\n",
    "print(dict_result)\n",
    "type(dict_result['final'])"
   ]
  },
  {
   "cell_type": "code",
   "execution_count": null,
   "metadata": {
    "tags": []
   },
   "outputs": [],
   "source": []
  },
  {
   "cell_type": "code",
   "execution_count": null,
   "metadata": {
    "tags": []
   },
   "outputs": [],
   "source": []
  },
  {
   "cell_type": "code",
   "execution_count": 10,
   "metadata": {
    "deletable": false,
    "editable": false
   },
   "outputs": [
    {
     "data": {
      "text/html": [
       "<p><strong><pre style='display: inline;'>q1</pre></strong> passed!</p>"
      ],
      "text/plain": [
       "q1 results: All test cases passed!"
      ]
     },
     "execution_count": 10,
     "metadata": {},
     "output_type": "execute_result"
    }
   ],
   "source": [
    "grader.check(\"q1\")"
   ]
  },
  {
   "cell_type": "markdown",
   "metadata": {},
   "source": [
    "<a name='part2'></a>\n",
    "\n",
    "## Part 2: Computing Project Grades 🧮\n",
    "\n",
    "Now you're ready to compute each student's overall grade on the first type of assignment – projects."
   ]
  },
  {
   "cell_type": "markdown",
   "metadata": {},
   "source": [
    "### Question 2 (Checkpoint Question)\n",
    "\n",
    "Complete the implementation of the function `projects_total`, which takes in a DataFrame `grades` and returns a Series containing the total project grade for each student for the entire quarter, according to [the syllabus](#The-Syllabus). The output Series should contain values between 0 and 1.\n",
    "\n",
    "***Note***: Don't forget to properly handle students who didn't turn in assignments. Also, don't forget the fact that some projects have free response components that you need to account for.\n",
    "\n",
    "***Hints:*** To check your work, try:\n",
    "1. Calculating the total project scores for a few types of students by hand.\n",
    "2. Calculating summary statistics for the whole class' performance on a few projects in particular and ensuring the results seem reasonable."
   ]
  },
  {
   "cell_type": "code",
   "execution_count": 401,
   "metadata": {},
   "outputs": [
    {
     "data": {
      "text/html": [
       "<div>\n",
       "<style scoped>\n",
       "    .dataframe tbody tr th:only-of-type {\n",
       "        vertical-align: middle;\n",
       "    }\n",
       "\n",
       "    .dataframe tbody tr th {\n",
       "        vertical-align: top;\n",
       "    }\n",
       "\n",
       "    .dataframe thead th {\n",
       "        text-align: right;\n",
       "    }\n",
       "</style>\n",
       "<table border=\"1\" class=\"dataframe\">\n",
       "  <thead>\n",
       "    <tr style=\"text-align: right;\">\n",
       "      <th></th>\n",
       "      <th>PID</th>\n",
       "      <th>College</th>\n",
       "      <th>Level</th>\n",
       "      <th>lab01</th>\n",
       "      <th>lab01 - Max Points</th>\n",
       "      <th>lab01 - Lateness (H:M:S)</th>\n",
       "      <th>lab02</th>\n",
       "      <th>lab02 - Max Points</th>\n",
       "      <th>lab02 - Lateness (H:M:S)</th>\n",
       "      <th>project01</th>\n",
       "      <th>...</th>\n",
       "      <th>discussion07 - Lateness (H:M:S)</th>\n",
       "      <th>discussion08</th>\n",
       "      <th>discussion08 - Max Points</th>\n",
       "      <th>discussion08 - Lateness (H:M:S)</th>\n",
       "      <th>discussion09</th>\n",
       "      <th>discussion09 - Max Points</th>\n",
       "      <th>discussion09 - Lateness (H:M:S)</th>\n",
       "      <th>discussion10</th>\n",
       "      <th>discussion10 - Max Points</th>\n",
       "      <th>discussion10 - Lateness (H:M:S)</th>\n",
       "    </tr>\n",
       "  </thead>\n",
       "  <tbody>\n",
       "    <tr>\n",
       "      <th>0</th>\n",
       "      <td>A14721419</td>\n",
       "      <td>SI</td>\n",
       "      <td>JR</td>\n",
       "      <td>99.735279</td>\n",
       "      <td>100</td>\n",
       "      <td>00:00:00</td>\n",
       "      <td>84.990171</td>\n",
       "      <td>100</td>\n",
       "      <td>00:00:00</td>\n",
       "      <td>75.282632</td>\n",
       "      <td>...</td>\n",
       "      <td>00:00:00</td>\n",
       "      <td>8.895294</td>\n",
       "      <td>10</td>\n",
       "      <td>00:00:00</td>\n",
       "      <td>10.000000</td>\n",
       "      <td>10</td>\n",
       "      <td>780:01:28</td>\n",
       "      <td>10.000000</td>\n",
       "      <td>10</td>\n",
       "      <td>00:00:00</td>\n",
       "    </tr>\n",
       "    <tr>\n",
       "      <th>1</th>\n",
       "      <td>A14540219</td>\n",
       "      <td>WA</td>\n",
       "      <td>JR</td>\n",
       "      <td>69.586809</td>\n",
       "      <td>100</td>\n",
       "      <td>00:00:00</td>\n",
       "      <td>75.455147</td>\n",
       "      <td>100</td>\n",
       "      <td>00:00:00</td>\n",
       "      <td>NaN</td>\n",
       "      <td>...</td>\n",
       "      <td>00:00:00</td>\n",
       "      <td>NaN</td>\n",
       "      <td>10</td>\n",
       "      <td>00:00:00</td>\n",
       "      <td>NaN</td>\n",
       "      <td>10</td>\n",
       "      <td>00:00:00</td>\n",
       "      <td>NaN</td>\n",
       "      <td>10</td>\n",
       "      <td>00:00:00</td>\n",
       "    </tr>\n",
       "    <tr>\n",
       "      <th>2</th>\n",
       "      <td>A14654940</td>\n",
       "      <td>SI</td>\n",
       "      <td>SO</td>\n",
       "      <td>99.916912</td>\n",
       "      <td>100</td>\n",
       "      <td>00:00:00</td>\n",
       "      <td>NaN</td>\n",
       "      <td>100</td>\n",
       "      <td>00:00:00</td>\n",
       "      <td>63.995207</td>\n",
       "      <td>...</td>\n",
       "      <td>00:00:00</td>\n",
       "      <td>10.000000</td>\n",
       "      <td>10</td>\n",
       "      <td>00:00:00</td>\n",
       "      <td>10.000000</td>\n",
       "      <td>10</td>\n",
       "      <td>00:00:00</td>\n",
       "      <td>10.000000</td>\n",
       "      <td>10</td>\n",
       "      <td>46:27:42</td>\n",
       "    </tr>\n",
       "    <tr>\n",
       "      <th>3</th>\n",
       "      <td>A14883274</td>\n",
       "      <td>TH</td>\n",
       "      <td>JR</td>\n",
       "      <td>98.829476</td>\n",
       "      <td>100</td>\n",
       "      <td>00:00:00</td>\n",
       "      <td>50.784231</td>\n",
       "      <td>100</td>\n",
       "      <td>00:00:00</td>\n",
       "      <td>52.929482</td>\n",
       "      <td>...</td>\n",
       "      <td>669:12:21</td>\n",
       "      <td>9.022407</td>\n",
       "      <td>10</td>\n",
       "      <td>00:00:00</td>\n",
       "      <td>9.020283</td>\n",
       "      <td>10</td>\n",
       "      <td>00:00:00</td>\n",
       "      <td>9.437368</td>\n",
       "      <td>10</td>\n",
       "      <td>00:00:00</td>\n",
       "    </tr>\n",
       "    <tr>\n",
       "      <th>4</th>\n",
       "      <td>A14755997</td>\n",
       "      <td>WA</td>\n",
       "      <td>JR</td>\n",
       "      <td>86.370726</td>\n",
       "      <td>100</td>\n",
       "      <td>00:00:00</td>\n",
       "      <td>NaN</td>\n",
       "      <td>100</td>\n",
       "      <td>00:00:00</td>\n",
       "      <td>85.000000</td>\n",
       "      <td>...</td>\n",
       "      <td>00:00:00</td>\n",
       "      <td>9.232778</td>\n",
       "      <td>10</td>\n",
       "      <td>00:00:00</td>\n",
       "      <td>9.134615</td>\n",
       "      <td>10</td>\n",
       "      <td>00:00:00</td>\n",
       "      <td>10.000000</td>\n",
       "      <td>10</td>\n",
       "      <td>00:00:00</td>\n",
       "    </tr>\n",
       "  </tbody>\n",
       "</table>\n",
       "<p>5 rows × 100 columns</p>\n",
       "</div>"
      ],
      "text/plain": [
       "         PID College Level      lab01  lab01 - Max Points  \\\n",
       "0  A14721419      SI    JR  99.735279                 100   \n",
       "1  A14540219      WA    JR  69.586809                 100   \n",
       "2  A14654940      SI    SO  99.916912                 100   \n",
       "3  A14883274      TH    JR  98.829476                 100   \n",
       "4  A14755997      WA    JR  86.370726                 100   \n",
       "\n",
       "  lab01 - Lateness (H:M:S)      lab02  lab02 - Max Points  \\\n",
       "0                 00:00:00  84.990171                 100   \n",
       "1                 00:00:00  75.455147                 100   \n",
       "2                 00:00:00        NaN                 100   \n",
       "3                 00:00:00  50.784231                 100   \n",
       "4                 00:00:00        NaN                 100   \n",
       "\n",
       "  lab02 - Lateness (H:M:S)  project01  ...  discussion07 - Lateness (H:M:S)  \\\n",
       "0                 00:00:00  75.282632  ...                         00:00:00   \n",
       "1                 00:00:00        NaN  ...                         00:00:00   \n",
       "2                 00:00:00  63.995207  ...                         00:00:00   \n",
       "3                 00:00:00  52.929482  ...                        669:12:21   \n",
       "4                 00:00:00  85.000000  ...                         00:00:00   \n",
       "\n",
       "  discussion08  discussion08 - Max Points  discussion08 - Lateness (H:M:S)  \\\n",
       "0     8.895294                         10                         00:00:00   \n",
       "1          NaN                         10                         00:00:00   \n",
       "2    10.000000                         10                         00:00:00   \n",
       "3     9.022407                         10                         00:00:00   \n",
       "4     9.232778                         10                         00:00:00   \n",
       "\n",
       "  discussion09  discussion09 - Max Points  discussion09 - Lateness (H:M:S)  \\\n",
       "0    10.000000                         10                        780:01:28   \n",
       "1          NaN                         10                         00:00:00   \n",
       "2    10.000000                         10                         00:00:00   \n",
       "3     9.020283                         10                         00:00:00   \n",
       "4     9.134615                         10                         00:00:00   \n",
       "\n",
       "  discussion10  discussion10 - Max Points  discussion10 - Lateness (H:M:S)  \n",
       "0    10.000000                         10                         00:00:00  \n",
       "1          NaN                         10                         00:00:00  \n",
       "2    10.000000                         10                         46:27:42  \n",
       "3     9.437368                         10                         00:00:00  \n",
       "4    10.000000                         10                         00:00:00  \n",
       "\n",
       "[5 rows x 100 columns]"
      ]
     },
     "execution_count": 401,
     "metadata": {},
     "output_type": "execute_result"
    }
   ],
   "source": [
    "grades_fp = os.path.join('data', 'grades.csv')\n",
    "grades = pd.read_csv(grades_fp)\n",
    "grades.head()"
   ]
  },
  {
   "cell_type": "code",
   "execution_count": 46,
   "metadata": {},
   "outputs": [
    {
     "data": {
      "text/plain": [
       "PID                                 object\n",
       "College                             object\n",
       "Level                               object\n",
       "lab01                              float64\n",
       "lab01 - Max Points                 float64\n",
       "                                    ...   \n",
       "discussion09 - Max Points            int64\n",
       "discussion09 - Lateness (H:M:S)     object\n",
       "discussion10                       float64\n",
       "discussion10 - Max Points            int64\n",
       "discussion10 - Lateness (H:M:S)     object\n",
       "Length: 100, dtype: object"
      ]
     },
     "execution_count": 46,
     "metadata": {},
     "output_type": "execute_result"
    }
   ],
   "source": [
    "grades.dtypes"
   ]
  },
  {
   "cell_type": "code",
   "execution_count": 225,
   "metadata": {
    "tags": []
   },
   "outputs": [
    {
     "data": {
      "text/plain": [
       "True"
      ]
     },
     "execution_count": 225,
     "metadata": {},
     "output_type": "execute_result"
    }
   ],
   "source": [
    "assign_cols = get_assignment_names(grades)\n",
    "assign_cols\n",
    "\n",
    "#projects\n",
    "\n",
    "projects_df = grades[assign_cols['project']].astype(str)\n",
    "\n",
    "#for i in assign_cols['project']:\n",
    " #   project_df[i] = projects_df[i].apply(convert_nan)\n",
    "\n",
    "    \n",
    "projects_df['project01'][1] == 'nan' #[62][0]# == 'NaN'\n",
    "#projects_df"
   ]
  },
  {
   "cell_type": "code",
   "execution_count": 182,
   "metadata": {},
   "outputs": [],
   "source": [
    "def convert_nan(number):\n",
    "    if(np.isnan(number)):\n",
    "        return 0\n",
    "    return number\n",
    "        "
   ]
  },
  {
   "cell_type": "code",
   "execution_count": 156,
   "metadata": {
    "scrolled": true,
    "tags": []
   },
   "outputs": [
    {
     "name": "stdout",
     "output_type": "stream",
     "text": [
      "project01                               float64\n",
      "project01 - Max Points                    int64\n",
      "project01_free_response                 float64\n",
      "project01_free_response - Max Points      int64\n",
      "project02                               float64\n",
      "project02 - Max Points                    int64\n",
      "project02_free_response                 float64\n",
      "project02_free_response - Max Points      int64\n",
      "project03                               float64\n",
      "project03 - Max Points                    int64\n",
      "project04                               float64\n",
      "project04 - Max Points                    int64\n",
      "project05                               float64\n",
      "project05 - Max Points                    int64\n",
      "project05_free_response                 float64\n",
      "project05_free_response - Max Points      int64\n",
      "dtype: object\n",
      "16\n",
      "loop\n",
      "01\n",
      "01\n",
      "0\n",
      "4\n",
      "has free response\n",
      "loop\n",
      "02\n",
      "02\n",
      "4\n",
      "8\n",
      "has free response\n",
      "loop\n",
      "03\n",
      "04\n",
      "8\n",
      "10\n",
      "loop\n",
      "04\n",
      "05\n",
      "10\n",
      "12\n",
      "loop\n",
      "05\n",
      "05\n",
      "12\n",
      "16\n",
      "has free response\n"
     ]
    },
    {
     "data": {
      "text/plain": [
       "0      0.916234\n",
       "1      0.333682\n",
       "2      0.886669\n",
       "3      0.765932\n",
       "4      0.946077\n",
       "         ...   \n",
       "530    0.949434\n",
       "531    0.866795\n",
       "532    0.862050\n",
       "533    0.813468\n",
       "534    0.939433\n",
       "Name: Total, Length: 535, dtype: float64"
      ]
     },
     "execution_count": 156,
     "metadata": {},
     "output_type": "execute_result"
    }
   ],
   "source": [
    "project_free = np.array(grades.columns)\n",
    "\n",
    "all_project_cols = []\n",
    "for i in project_free:\n",
    "    #print(i)\n",
    "    if i.find('project') != -1:\n",
    "        #print('appened')\n",
    "        all_project_cols.append(i)\n",
    "    \n",
    "\n",
    "\n",
    "        \n",
    "#project_free = project_free[all_project_cols]\n",
    "#project_free\n",
    "#print(len(all_project_cols))\n",
    "\n",
    "filter_proj_cols = []\n",
    "#print(type(filter_proj_cols))\n",
    "\n",
    "for i in np.arange(len(all_project_cols)):\n",
    "    if all_project_cols[i].find('Late') == -1 and all_project_cols[i].find('checkpoint') == -1:\n",
    "        filter_proj_cols.append(all_project_cols[i])\n",
    "\n",
    "grades = grades[sorted(filter_proj_cols)]\n",
    "grades\n",
    "\n",
    "#sorted_cols = grades_01 = grades.assign( project01 = grades['project01'].apply(convert_nan))\n",
    "\n",
    "sorted_cols = sorted(filter_proj_cols)\n",
    "grades_01 = grades[sorted(filter_proj_cols)]\n",
    "grades.dtypes\n",
    "\n",
    "\n",
    "for i in filter_proj_cols:\n",
    "    grades_01[i] = grades_01[i].apply(convert_nan)\n",
    "    \n",
    "#i = 10\n",
    "#grades_01['new' + str(i) ] = grades_01['project01'] /grades_01['project01 - Max Points']\n",
    "#grades_01\n",
    "counter = 0\n",
    "print(grades_01.dtypes)\n",
    "print(len(sorted_cols) )\n",
    "for i in np.arange(1,len(assign_cols['project']) + 1):\n",
    "    print('loop')\n",
    "    print(sorted_cols[counter][7:9])\n",
    "    print(sorted_cols[counter+2][7:9])\n",
    "    print(counter)\n",
    "    if(sorted_cols[counter][7:9] == sorted_cols[counter+2][7:9]):\n",
    "        grades_01['project' + str(i) + ' total'] = (grades_01[sorted_cols[counter]] + grades_01[sorted_cols[counter+2]]) / (grades_01[sorted_cols[counter+1]] + grades_01[sorted_cols[counter+3]])\n",
    "        counter = counter + 4\n",
    "        print(counter)\n",
    "        print('has free response')\n",
    "    else:\n",
    "        grades_01['project' + str(i) + ' total'] = (grades_01[sorted_cols[counter]] / grades_01[sorted_cols[counter+1]])\n",
    "        counter+=2\n",
    "        print(counter)\n",
    "grades_01\n",
    "\n",
    "grades_01['Total'] = grades_01['project1 total']\n",
    "for i in np.arange(2,len(assign_cols['project']) + 1):\n",
    "        grades_01['Total'] = grades_01['Total'] + grades_01['project' + str(i) + ' total']\n",
    "grades_01\n",
    "\n",
    "grades_01['Total'] / len(assign_cols['project'])\n",
    "#grades"
   ]
  },
  {
   "cell_type": "code",
   "execution_count": 157,
   "metadata": {},
   "outputs": [
    {
     "data": {
      "text/html": [
       "<div>\n",
       "<style scoped>\n",
       "    .dataframe tbody tr th:only-of-type {\n",
       "        vertical-align: middle;\n",
       "    }\n",
       "\n",
       "    .dataframe tbody tr th {\n",
       "        vertical-align: top;\n",
       "    }\n",
       "\n",
       "    .dataframe thead th {\n",
       "        text-align: right;\n",
       "    }\n",
       "</style>\n",
       "<table border=\"1\" class=\"dataframe\">\n",
       "  <thead>\n",
       "    <tr style=\"text-align: right;\">\n",
       "      <th></th>\n",
       "      <th>project01</th>\n",
       "      <th>project01 - Max Points</th>\n",
       "      <th>project01_free_response</th>\n",
       "      <th>project01_free_response - Max Points</th>\n",
       "      <th>project02</th>\n",
       "      <th>project02 - Max Points</th>\n",
       "      <th>project02_free_response</th>\n",
       "      <th>project02_free_response - Max Points</th>\n",
       "      <th>project03</th>\n",
       "      <th>project03 - Max Points</th>\n",
       "      <th>...</th>\n",
       "      <th>project05</th>\n",
       "      <th>project05 - Max Points</th>\n",
       "      <th>project05_free_response</th>\n",
       "      <th>project05_free_response - Max Points</th>\n",
       "      <th>project1 total</th>\n",
       "      <th>project2 total</th>\n",
       "      <th>project3 total</th>\n",
       "      <th>project4 total</th>\n",
       "      <th>project5 total</th>\n",
       "      <th>Total</th>\n",
       "    </tr>\n",
       "  </thead>\n",
       "  <tbody>\n",
       "    <tr>\n",
       "      <th>0</th>\n",
       "      <td>75.282632</td>\n",
       "      <td>85</td>\n",
       "      <td>15.000000</td>\n",
       "      <td>15</td>\n",
       "      <td>75.000000</td>\n",
       "      <td>75</td>\n",
       "      <td>19.955421</td>\n",
       "      <td>25</td>\n",
       "      <td>85.519583</td>\n",
       "      <td>100</td>\n",
       "      <td>...</td>\n",
       "      <td>73.917020</td>\n",
       "      <td>75</td>\n",
       "      <td>22.467797</td>\n",
       "      <td>25</td>\n",
       "      <td>0.902826</td>\n",
       "      <td>0.949554</td>\n",
       "      <td>0.855196</td>\n",
       "      <td>0.909746</td>\n",
       "      <td>0.963848</td>\n",
       "      <td>4.581171</td>\n",
       "    </tr>\n",
       "    <tr>\n",
       "      <th>1</th>\n",
       "      <td>0.000000</td>\n",
       "      <td>85</td>\n",
       "      <td>0.000000</td>\n",
       "      <td>15</td>\n",
       "      <td>62.013012</td>\n",
       "      <td>75</td>\n",
       "      <td>24.876735</td>\n",
       "      <td>25</td>\n",
       "      <td>79.951253</td>\n",
       "      <td>100</td>\n",
       "      <td>...</td>\n",
       "      <td>0.000000</td>\n",
       "      <td>75</td>\n",
       "      <td>0.000000</td>\n",
       "      <td>25</td>\n",
       "      <td>0.000000</td>\n",
       "      <td>0.868897</td>\n",
       "      <td>0.799513</td>\n",
       "      <td>0.000000</td>\n",
       "      <td>0.000000</td>\n",
       "      <td>1.668410</td>\n",
       "    </tr>\n",
       "    <tr>\n",
       "      <th>2</th>\n",
       "      <td>63.995207</td>\n",
       "      <td>85</td>\n",
       "      <td>13.871541</td>\n",
       "      <td>15</td>\n",
       "      <td>74.295852</td>\n",
       "      <td>75</td>\n",
       "      <td>25.000000</td>\n",
       "      <td>25</td>\n",
       "      <td>95.795380</td>\n",
       "      <td>100</td>\n",
       "      <td>...</td>\n",
       "      <td>70.983869</td>\n",
       "      <td>75</td>\n",
       "      <td>17.006956</td>\n",
       "      <td>25</td>\n",
       "      <td>0.778667</td>\n",
       "      <td>0.992959</td>\n",
       "      <td>0.957954</td>\n",
       "      <td>0.823858</td>\n",
       "      <td>0.879908</td>\n",
       "      <td>4.433346</td>\n",
       "    </tr>\n",
       "    <tr>\n",
       "      <th>3</th>\n",
       "      <td>52.929482</td>\n",
       "      <td>85</td>\n",
       "      <td>9.987089</td>\n",
       "      <td>15</td>\n",
       "      <td>62.926075</td>\n",
       "      <td>75</td>\n",
       "      <td>25.000000</td>\n",
       "      <td>25</td>\n",
       "      <td>88.201035</td>\n",
       "      <td>100</td>\n",
       "      <td>...</td>\n",
       "      <td>57.680370</td>\n",
       "      <td>75</td>\n",
       "      <td>19.729680</td>\n",
       "      <td>25</td>\n",
       "      <td>0.629166</td>\n",
       "      <td>0.879261</td>\n",
       "      <td>0.882010</td>\n",
       "      <td>0.665124</td>\n",
       "      <td>0.774100</td>\n",
       "      <td>3.829661</td>\n",
       "    </tr>\n",
       "    <tr>\n",
       "      <th>4</th>\n",
       "      <td>85.000000</td>\n",
       "      <td>85</td>\n",
       "      <td>3.413691</td>\n",
       "      <td>15</td>\n",
       "      <td>69.268002</td>\n",
       "      <td>75</td>\n",
       "      <td>25.000000</td>\n",
       "      <td>25</td>\n",
       "      <td>90.356828</td>\n",
       "      <td>100</td>\n",
       "      <td>...</td>\n",
       "      <td>75.000000</td>\n",
       "      <td>75</td>\n",
       "      <td>25.000000</td>\n",
       "      <td>25</td>\n",
       "      <td>0.884137</td>\n",
       "      <td>0.942680</td>\n",
       "      <td>0.903568</td>\n",
       "      <td>1.000000</td>\n",
       "      <td>1.000000</td>\n",
       "      <td>4.730385</td>\n",
       "    </tr>\n",
       "    <tr>\n",
       "      <th>...</th>\n",
       "      <td>...</td>\n",
       "      <td>...</td>\n",
       "      <td>...</td>\n",
       "      <td>...</td>\n",
       "      <td>...</td>\n",
       "      <td>...</td>\n",
       "      <td>...</td>\n",
       "      <td>...</td>\n",
       "      <td>...</td>\n",
       "      <td>...</td>\n",
       "      <td>...</td>\n",
       "      <td>...</td>\n",
       "      <td>...</td>\n",
       "      <td>...</td>\n",
       "      <td>...</td>\n",
       "      <td>...</td>\n",
       "      <td>...</td>\n",
       "      <td>...</td>\n",
       "      <td>...</td>\n",
       "      <td>...</td>\n",
       "      <td>...</td>\n",
       "    </tr>\n",
       "    <tr>\n",
       "      <th>530</th>\n",
       "      <td>78.936816</td>\n",
       "      <td>85</td>\n",
       "      <td>13.693789</td>\n",
       "      <td>15</td>\n",
       "      <td>65.932566</td>\n",
       "      <td>75</td>\n",
       "      <td>25.000000</td>\n",
       "      <td>25</td>\n",
       "      <td>98.070705</td>\n",
       "      <td>100</td>\n",
       "      <td>...</td>\n",
       "      <td>75.000000</td>\n",
       "      <td>75</td>\n",
       "      <td>22.167221</td>\n",
       "      <td>25</td>\n",
       "      <td>0.926306</td>\n",
       "      <td>0.909326</td>\n",
       "      <td>0.980707</td>\n",
       "      <td>0.959160</td>\n",
       "      <td>0.971672</td>\n",
       "      <td>4.747171</td>\n",
       "    </tr>\n",
       "    <tr>\n",
       "      <th>531</th>\n",
       "      <td>72.076801</td>\n",
       "      <td>85</td>\n",
       "      <td>3.581466</td>\n",
       "      <td>15</td>\n",
       "      <td>71.058797</td>\n",
       "      <td>75</td>\n",
       "      <td>24.585857</td>\n",
       "      <td>25</td>\n",
       "      <td>76.384220</td>\n",
       "      <td>100</td>\n",
       "      <td>...</td>\n",
       "      <td>73.221261</td>\n",
       "      <td>75</td>\n",
       "      <td>21.363680</td>\n",
       "      <td>25</td>\n",
       "      <td>0.756583</td>\n",
       "      <td>0.956447</td>\n",
       "      <td>0.763842</td>\n",
       "      <td>0.911254</td>\n",
       "      <td>0.945849</td>\n",
       "      <td>4.333975</td>\n",
       "    </tr>\n",
       "    <tr>\n",
       "      <th>532</th>\n",
       "      <td>66.273252</td>\n",
       "      <td>85</td>\n",
       "      <td>15.000000</td>\n",
       "      <td>15</td>\n",
       "      <td>75.000000</td>\n",
       "      <td>75</td>\n",
       "      <td>21.738233</td>\n",
       "      <td>25</td>\n",
       "      <td>90.107681</td>\n",
       "      <td>100</td>\n",
       "      <td>...</td>\n",
       "      <td>63.822615</td>\n",
       "      <td>75</td>\n",
       "      <td>21.473725</td>\n",
       "      <td>25</td>\n",
       "      <td>0.812733</td>\n",
       "      <td>0.967382</td>\n",
       "      <td>0.901077</td>\n",
       "      <td>0.776096</td>\n",
       "      <td>0.852963</td>\n",
       "      <td>4.310251</td>\n",
       "    </tr>\n",
       "    <tr>\n",
       "      <th>533</th>\n",
       "      <td>63.965217</td>\n",
       "      <td>85</td>\n",
       "      <td>12.828692</td>\n",
       "      <td>15</td>\n",
       "      <td>75.000000</td>\n",
       "      <td>75</td>\n",
       "      <td>17.087958</td>\n",
       "      <td>25</td>\n",
       "      <td>88.717789</td>\n",
       "      <td>100</td>\n",
       "      <td>...</td>\n",
       "      <td>60.524285</td>\n",
       "      <td>75</td>\n",
       "      <td>20.315673</td>\n",
       "      <td>25</td>\n",
       "      <td>0.767939</td>\n",
       "      <td>0.920880</td>\n",
       "      <td>0.887178</td>\n",
       "      <td>0.682945</td>\n",
       "      <td>0.808400</td>\n",
       "      <td>4.067341</td>\n",
       "    </tr>\n",
       "    <tr>\n",
       "      <th>534</th>\n",
       "      <td>77.572115</td>\n",
       "      <td>85</td>\n",
       "      <td>15.000000</td>\n",
       "      <td>15</td>\n",
       "      <td>67.047679</td>\n",
       "      <td>75</td>\n",
       "      <td>25.000000</td>\n",
       "      <td>25</td>\n",
       "      <td>88.324616</td>\n",
       "      <td>100</td>\n",
       "      <td>...</td>\n",
       "      <td>74.845402</td>\n",
       "      <td>75</td>\n",
       "      <td>21.926826</td>\n",
       "      <td>25</td>\n",
       "      <td>0.925721</td>\n",
       "      <td>0.920477</td>\n",
       "      <td>0.883246</td>\n",
       "      <td>1.000000</td>\n",
       "      <td>0.967722</td>\n",
       "      <td>4.697166</td>\n",
       "    </tr>\n",
       "  </tbody>\n",
       "</table>\n",
       "<p>535 rows × 22 columns</p>\n",
       "</div>"
      ],
      "text/plain": [
       "     project01  project01 - Max Points  project01_free_response  \\\n",
       "0    75.282632                      85                15.000000   \n",
       "1     0.000000                      85                 0.000000   \n",
       "2    63.995207                      85                13.871541   \n",
       "3    52.929482                      85                 9.987089   \n",
       "4    85.000000                      85                 3.413691   \n",
       "..         ...                     ...                      ...   \n",
       "530  78.936816                      85                13.693789   \n",
       "531  72.076801                      85                 3.581466   \n",
       "532  66.273252                      85                15.000000   \n",
       "533  63.965217                      85                12.828692   \n",
       "534  77.572115                      85                15.000000   \n",
       "\n",
       "     project01_free_response - Max Points  project02  project02 - Max Points  \\\n",
       "0                                      15  75.000000                      75   \n",
       "1                                      15  62.013012                      75   \n",
       "2                                      15  74.295852                      75   \n",
       "3                                      15  62.926075                      75   \n",
       "4                                      15  69.268002                      75   \n",
       "..                                    ...        ...                     ...   \n",
       "530                                    15  65.932566                      75   \n",
       "531                                    15  71.058797                      75   \n",
       "532                                    15  75.000000                      75   \n",
       "533                                    15  75.000000                      75   \n",
       "534                                    15  67.047679                      75   \n",
       "\n",
       "     project02_free_response  project02_free_response - Max Points  project03  \\\n",
       "0                  19.955421                                    25  85.519583   \n",
       "1                  24.876735                                    25  79.951253   \n",
       "2                  25.000000                                    25  95.795380   \n",
       "3                  25.000000                                    25  88.201035   \n",
       "4                  25.000000                                    25  90.356828   \n",
       "..                       ...                                   ...        ...   \n",
       "530                25.000000                                    25  98.070705   \n",
       "531                24.585857                                    25  76.384220   \n",
       "532                21.738233                                    25  90.107681   \n",
       "533                17.087958                                    25  88.717789   \n",
       "534                25.000000                                    25  88.324616   \n",
       "\n",
       "     project03 - Max Points  ...  project05  project05 - Max Points  \\\n",
       "0                       100  ...  73.917020                      75   \n",
       "1                       100  ...   0.000000                      75   \n",
       "2                       100  ...  70.983869                      75   \n",
       "3                       100  ...  57.680370                      75   \n",
       "4                       100  ...  75.000000                      75   \n",
       "..                      ...  ...        ...                     ...   \n",
       "530                     100  ...  75.000000                      75   \n",
       "531                     100  ...  73.221261                      75   \n",
       "532                     100  ...  63.822615                      75   \n",
       "533                     100  ...  60.524285                      75   \n",
       "534                     100  ...  74.845402                      75   \n",
       "\n",
       "     project05_free_response  project05_free_response - Max Points  \\\n",
       "0                  22.467797                                    25   \n",
       "1                   0.000000                                    25   \n",
       "2                  17.006956                                    25   \n",
       "3                  19.729680                                    25   \n",
       "4                  25.000000                                    25   \n",
       "..                       ...                                   ...   \n",
       "530                22.167221                                    25   \n",
       "531                21.363680                                    25   \n",
       "532                21.473725                                    25   \n",
       "533                20.315673                                    25   \n",
       "534                21.926826                                    25   \n",
       "\n",
       "     project1 total  project2 total  project3 total  project4 total  \\\n",
       "0          0.902826        0.949554        0.855196        0.909746   \n",
       "1          0.000000        0.868897        0.799513        0.000000   \n",
       "2          0.778667        0.992959        0.957954        0.823858   \n",
       "3          0.629166        0.879261        0.882010        0.665124   \n",
       "4          0.884137        0.942680        0.903568        1.000000   \n",
       "..              ...             ...             ...             ...   \n",
       "530        0.926306        0.909326        0.980707        0.959160   \n",
       "531        0.756583        0.956447        0.763842        0.911254   \n",
       "532        0.812733        0.967382        0.901077        0.776096   \n",
       "533        0.767939        0.920880        0.887178        0.682945   \n",
       "534        0.925721        0.920477        0.883246        1.000000   \n",
       "\n",
       "     project5 total     Total  \n",
       "0          0.963848  4.581171  \n",
       "1          0.000000  1.668410  \n",
       "2          0.879908  4.433346  \n",
       "3          0.774100  3.829661  \n",
       "4          1.000000  4.730385  \n",
       "..              ...       ...  \n",
       "530        0.971672  4.747171  \n",
       "531        0.945849  4.333975  \n",
       "532        0.852963  4.310251  \n",
       "533        0.808400  4.067341  \n",
       "534        0.967722  4.697166  \n",
       "\n",
       "[535 rows x 22 columns]"
      ]
     },
     "execution_count": 157,
     "metadata": {},
     "output_type": "execute_result"
    }
   ],
   "source": [
    "grades_01"
   ]
  },
  {
   "cell_type": "code",
   "execution_count": 244,
   "metadata": {
    "scrolled": true
   },
   "outputs": [
    {
     "data": {
      "text/plain": [
       "project01                                75.282632\n",
       "project01 - Max Points                   85.000000\n",
       "project01_free_response                  15.000000\n",
       "project01_free_response - Max Points     15.000000\n",
       "project02                                75.000000\n",
       "project02 - Max Points                   75.000000\n",
       "project02_free_response                  19.955421\n",
       "project02_free_response - Max Points     25.000000\n",
       "project03                                85.519583\n",
       "project03 - Max Points                  100.000000\n",
       "project04                                68.230985\n",
       "project04 - Max Points                   75.000000\n",
       "project05                                73.917020\n",
       "project05 - Max Points                   75.000000\n",
       "project05_free_response                  22.467797\n",
       "project05_free_response - Max Points     25.000000\n",
       "Name: 0, dtype: float64"
      ]
     },
     "execution_count": 244,
     "metadata": {},
     "output_type": "execute_result"
    }
   ],
   "source": [
    "grades.iloc[0]"
   ]
  },
  {
   "cell_type": "code",
   "execution_count": 104,
   "metadata": {},
   "outputs": [
    {
     "data": {
      "text/plain": [
       "array(['PID', 'College', 'Level', 'lab01', 'lab01 - Max Points',\n",
       "       'lab01 - Lateness (H:M:S)', 'lab02', 'lab02 - Max Points',\n",
       "       'lab02 - Lateness (H:M:S)', 'project01', 'project01 - Max Points',\n",
       "       'project01 - Lateness (H:M:S)', 'lab03', 'lab03 - Max Points',\n",
       "       'lab03 - Lateness (H:M:S)', 'project01_free_response',\n",
       "       'project01_free_response - Max Points',\n",
       "       'project01_free_response - Lateness (H:M:S)', 'lab04',\n",
       "       'lab04 - Max Points', 'lab04 - Lateness (H:M:S)', 'lab05',\n",
       "       'lab05 - Max Points', 'lab05 - Lateness (H:M:S)',\n",
       "       'project02_checkpoint01', 'project02_checkpoint01 - Max Points',\n",
       "       'project02_checkpoint01 - Lateness (H:M:S)', 'Midterm',\n",
       "       'Midterm - Max Points', 'Midterm - Lateness (H:M:S)', 'lab06',\n",
       "       'lab06 - Max Points', 'lab06 - Lateness (H:M:S)',\n",
       "       'project02_checkpoint02', 'project02_checkpoint02 - Max Points',\n",
       "       'project02_checkpoint02 - Lateness (H:M:S)', 'lab07',\n",
       "       'lab07 - Max Points', 'lab07 - Lateness (H:M:S)', 'project02',\n",
       "       'project02 - Max Points', 'project02 - Lateness (H:M:S)',\n",
       "       'project02_free_response', 'project02_free_response - Max Points',\n",
       "       'project02_free_response - Lateness (H:M:S)', 'lab08',\n",
       "       'lab08 - Max Points', 'lab08 - Lateness (H:M:S)', 'lab09',\n",
       "       'lab09 - Max Points', 'lab09 - Lateness (H:M:S)',\n",
       "       'project03_checkpoint01', 'project03_checkpoint01 - Max Points',\n",
       "       'project03_checkpoint01 - Lateness (H:M:S)', 'project03',\n",
       "       'project03 - Max Points', 'project03 - Lateness (H:M:S)', 'Final',\n",
       "       'Final - Max Points', 'Final - Lateness (H:M:S)',\n",
       "       'Total Lateness (H:M:S)', 'project05_free_response',\n",
       "       'project05_free_response - Max Points',\n",
       "       'project05_free_response - Lateness (H:M:S)', 'project04',\n",
       "       'project04 - Max Points', 'project04 - Lateness (H:M:S)',\n",
       "       'project05', 'project05 - Max Points',\n",
       "       'project05 - Lateness (H:M:S)', 'discussion01',\n",
       "       'discussion01 - Max Points', 'discussion01 - Lateness (H:M:S)',\n",
       "       'discussion02', 'discussion02 - Max Points',\n",
       "       'discussion02 - Lateness (H:M:S)', 'discussion03',\n",
       "       'discussion03 - Max Points', 'discussion03 - Lateness (H:M:S)',\n",
       "       'discussion04', 'discussion04 - Max Points',\n",
       "       'discussion04 - Lateness (H:M:S)', 'discussion05',\n",
       "       'discussion05 - Max Points', 'discussion05 - Lateness (H:M:S)',\n",
       "       'discussion06', 'discussion06 - Max Points',\n",
       "       'discussion06 - Lateness (H:M:S)', 'discussion07',\n",
       "       'discussion07 - Max Points', 'discussion07 - Lateness (H:M:S)',\n",
       "       'discussion08', 'discussion08 - Max Points',\n",
       "       'discussion08 - Lateness (H:M:S)', 'discussion09',\n",
       "       'discussion09 - Max Points', 'discussion09 - Lateness (H:M:S)',\n",
       "       'discussion10', 'discussion10 - Max Points',\n",
       "       'discussion10 - Lateness (H:M:S)'], dtype=object)"
      ]
     },
     "execution_count": 104,
     "metadata": {},
     "output_type": "execute_result"
    }
   ],
   "source": [
    "project_free"
   ]
  },
  {
   "cell_type": "code",
   "execution_count": 274,
   "metadata": {},
   "outputs": [],
   "source": [
    "#grades.T.loc(pd.Series(grades.columns).str.contains('project') == True)\n",
    "#projects = grades[]"
   ]
  },
  {
   "cell_type": "code",
   "execution_count": 12,
   "metadata": {
    "scrolled": true,
    "tags": []
   },
   "outputs": [
    {
     "data": {
      "text/plain": [
       "0      0.916234\n",
       "1      0.333682\n",
       "2      0.886669\n",
       "3      0.765932\n",
       "4      0.946077\n",
       "         ...   \n",
       "530    0.949434\n",
       "531    0.866795\n",
       "532    0.862050\n",
       "533    0.813468\n",
       "534    0.939433\n",
       "Name: Total, Length: 535, dtype: float64"
      ]
     },
     "execution_count": 12,
     "metadata": {},
     "output_type": "execute_result"
    }
   ],
   "source": [
    "projects_total(grades)"
   ]
  },
  {
   "cell_type": "code",
   "execution_count": 16,
   "metadata": {},
   "outputs": [
    {
     "data": {
      "text/plain": [
       "0      0.916234\n",
       "1      0.333682\n",
       "2      0.886669\n",
       "3      0.765932\n",
       "4      0.946077\n",
       "         ...   \n",
       "530    0.949434\n",
       "531    0.866795\n",
       "532    0.862050\n",
       "533    0.813468\n",
       "534    0.939433\n",
       "Name: Total, Length: 535, dtype: float64"
      ]
     },
     "execution_count": 16,
     "metadata": {},
     "output_type": "execute_result"
    }
   ],
   "source": [
    "projects_total(grades)"
   ]
  },
  {
   "cell_type": "code",
   "execution_count": 252,
   "metadata": {
    "deletable": false,
    "editable": false
   },
   "outputs": [
    {
     "data": {
      "text/html": [
       "<p><strong><pre style='display: inline;'>q2</pre></strong> passed!</p>"
      ],
      "text/plain": [
       "q2 results: All test cases passed!"
      ]
     },
     "execution_count": 252,
     "metadata": {},
     "output_type": "execute_result"
    }
   ],
   "source": [
    "grader.check(\"q2\")"
   ]
  },
  {
   "cell_type": "markdown",
   "metadata": {},
   "source": [
    "<a name='part3'></a>\n",
    "\n",
    "## Part 3: Computing Lab Grades 🧪\n",
    "\n",
    "Now, you will clean and process the lab grades, which involves a bit more work than was necessary for projects. To do this, you will develop functions that:\n",
    "- identify late submissions (Questions 3 and 4), \n",
    "- compute normalized scores for each lab assignment, factoring in late penalties (Question 5), and \n",
    "- drop the lowest lab grade and compute a total lab score for each student (Question 6)."
   ]
  },
  {
   "cell_type": "markdown",
   "metadata": {},
   "source": [
    "### Question 3 (Checkpoint Question)\n",
    "\n",
    "Unfortunately, Gradescope sometimes experiences a delay in registering when an assignment is submitted during \"periods of heavy usage\" (i.e. near a submission deadline). For instance, let's say that 15 students submit their assignment at 11:59 PM, right before the deadline. In this case, Gradescope has trouble registering the 15 submissions at the same time. As a result, Gradescope registers these submissions one-by-one **after** the deadline over some period of time, and these submissions are **marked as despite being submitted on-time**. \n",
    "\n",
    "Your job is to identify when a student's lab assignment was actually submitted on time, even if Gradescope did not process it in time and marked it as late. To do this, it is helpful to know that in our fictional class:\n",
    "* Late submissions are turned off, so the students cannot submit their assignment on their own after the deadline.\n",
    "* The only way that a student can make a late submission is by attending office hours and having a tutor submit for them.\n",
    "* However, there are no office hours \"just after\" the deadline, since deadlines are at 11:59 PM and tutors are asleep by then.\n",
    "* As a result, **truly late submissions are not submitted within a few hours of a deadline, but are instead submitted later**.\n",
    "\n",
    "Complete the implementation of the function `last_minute_submissions`, which takes in a DataFrame `grades` and outputs a **Series indexed by lab assignment that contains the number of submissions that were turned in on time by students that were marked \"late\" by Gradescope**. For instance, if the value for the `'lab01'` index in your returned Series is 15, that should mean that 15 students submitted Lab 1 on time but were marked as late by Gradescope.\n",
    "\n",
    "***Notes:***\n",
    "\n",
    "- You have to figure out what a truly late submission is by looking at the data and understanding the data generating process described above. This question is about \"cleaning\" a messy \"data recording process\". There is some ambiguity in finding which submissions are truly late; you will make a best guess for **a threshold** by looking at this dataset.  All the submissions that occur before this **threshold time** are on-time submissions that are incorrectly marked as \"late\".\n",
    "\n",
    "- There is no one correct value for the threshold; a range of threshold values will return the correct answer.\n",
    "\n",
    "- This function only involves **labs**, do not look at any other assignments categories.\n",
    "\n",
    "- If you're curious, this is not how Gradescope actually works.\n",
    "\n",
    "***Hints:*** \n",
    "\n",
    "- At some point, you'll need to convert times of the form `'00:11:08'` into a more usable numeric form.\n",
    "- Plot the distribution of number of submissions over time and use that to determine the threshold."
   ]
  },
  {
   "cell_type": "code",
   "execution_count": 122,
   "metadata": {},
   "outputs": [],
   "source": [
    "grades_fp = os.path.join('data', 'grades.csv')\n",
    "grades = pd.read_csv(grades_fp)"
   ]
  },
  {
   "cell_type": "code",
   "execution_count": null,
   "metadata": {},
   "outputs": [],
   "source": [
    "threshhold = 500000"
   ]
  },
  {
   "cell_type": "code",
   "execution_count": 128,
   "metadata": {
    "scrolled": true,
    "tags": []
   },
   "outputs": [
    {
     "name": "stdout",
     "output_type": "stream",
     "text": [
      "['lab01 - Lateness (H:M:S)', 'lab02 - Lateness (H:M:S)', 'lab03 - Lateness (H:M:S)', 'lab04 - Lateness (H:M:S)', 'lab05 - Lateness (H:M:S)', 'lab06 - Lateness (H:M:S)', 'lab07 - Lateness (H:M:S)', 'lab08 - Lateness (H:M:S)', 'lab09 - Lateness (H:M:S)']\n",
      "[0, 38, 170770, 180584, 181717, 189510, 192276, 200516, 251945, 346173]\n",
      "[0, 116601, 781739, 1487158, 3922439]\n",
      "[0, 14, 909212, 910582, 912634, 962140, 966367, 1388130]\n",
      "[0, 8277, 8502, 14992, 43738, 52018, 88712, 127447, 132472, 133306, 134840, 136928, 138180, 142349, 143704, 144695, 145086, 150482, 151512, 151596, 151732, 152090, 152307, 153403, 156926, 160807, 161546, 163034, 163075, 163215, 163486, 163748, 164761, 167262, 167458, 167738, 167978, 168255, 168374, 168518, 169394, 169448, 170019, 170132, 170278, 171455, 171633, 171753, 172107, 172408, 172425, 172636, 172692, 172707, 172727, 172829, 784868, 963660]\n",
      "[0, 79, 973375, 1029267, 1039894, 1227711, 1385421]\n",
      "[0, 28, 216, 968386, 1031262, 1127237, 1144858, 1305744, 1382073, 1384395, 1388850, 1495674, 1505252, 1507802, 1508030, 1508801, 1510230, 1553045, 1553321, 1553479, 1553739, 1554354, 1554522, 1589350, 1589991, 1591209, 1656056, 1816388, 1817126, 1995537, 2003578, 2008462, 2104318, 2164023, 2323490, 2422003, 2538147, 2674831, 2676845, 2678019, 2752845]\n",
      "[0, 8, 104, 291, 1279994, 1378304, 1498759, 1563250]\n",
      "[0, 114, 138, 657440, 764602, 782333, 863226, 880937, 925936, 926417, 1447722, 1460262, 1634089]\n",
      "[0, 13, 53, 82, 155, 648795]\n"
     ]
    },
    {
     "name": "stderr",
     "output_type": "stream",
     "text": [
      "/tmp/ipykernel_3692/2643969385.py:18: SettingWithCopyWarning: \n",
      "A value is trying to be set on a copy of a slice from a DataFrame.\n",
      "Try using .loc[row_indexer,col_indexer] = value instead\n",
      "\n",
      "See the caveats in the documentation: https://pandas.pydata.org/pandas-docs/stable/user_guide/indexing.html#returning-a-view-versus-a-copy\n",
      "  grades2[i] = grades2[i].apply(convert_mins)\n"
     ]
    },
    {
     "data": {
      "text/plain": [
       "lab01      8501166\n",
       "lab02     27949616\n",
       "lab03     39359704\n",
       "lab04     49027063\n",
       "lab05     17951559\n",
       "lab06    325522338\n",
       "lab07     33890684\n",
       "lab08     56502653\n",
       "lab09      3894796\n",
       "dtype: int64"
      ]
     },
     "execution_count": 128,
     "metadata": {},
     "output_type": "execute_result"
    }
   ],
   "source": [
    "assign_cols = get_assignment_names(grades)\n",
    "assign_cols['lab']\n",
    "#assign_cols2 = \n",
    "labs = assign_cols['lab']\n",
    "\n",
    "lab_names = assign_cols['lab']\n",
    "\n",
    "for i in np.arange(len(lab_names)):\n",
    "    lab_names[i] = lab_names[i] + \" - Lateness (H:M:S)\"\n",
    "\n",
    "print(lab_names)\n",
    "grades2 = grades[lab_names]\n",
    "grades2\n",
    "\n",
    "grades2\n",
    "\n",
    "for i in lab_names:\n",
    "    grades2[i] = grades2[i].apply(convert_mins)\n",
    "\n",
    "\n",
    "counts = []    \n",
    "    \n",
    "for i in np.arange(len(lab_names)):\n",
    "    counts.append(grades2[lab_names[i]].sum()) \n",
    "counts\n",
    "\n",
    "for i in np.arange(len(lab_names)):\n",
    "    lab_names[i] = lab_names[i].strip(' - Lateness (H:M:S)')\n",
    "\n",
    "ret_ser = pd.Series(index = labs, data = counts)\n",
    "\n",
    "\n",
    "\n",
    "print(sorted(grades2['lab01 - Lateness (H:M:S)'].unique()))\n",
    "print(sorted(grades2['lab02 - Lateness (H:M:S)'].unique()))\n",
    "print(sorted(grades2['lab03 - Lateness (H:M:S)'].unique()))\n",
    "print(sorted(grades2['lab04 - Lateness (H:M:S)'].unique()))\n",
    "print(sorted(grades2['lab05 - Lateness (H:M:S)'].unique()))\n",
    "print(sorted(grades2['lab06 - Lateness (H:M:S)'].unique()))\n",
    "print(sorted(grades2['lab07 - Lateness (H:M:S)'].unique()))\n",
    "print(sorted(grades2['lab08 - Lateness (H:M:S)'].unique()))\n",
    "print(sorted(grades2['lab09 - Lateness (H:M:S)'].unique()))\n",
    "\n",
    "\n",
    "counts\n",
    "ret_ser\n",
    "\n"
   ]
  },
  {
   "cell_type": "code",
   "execution_count": 80,
   "metadata": {
    "scrolled": true
   },
   "outputs": [
    {
     "name": "stderr",
     "output_type": "stream",
     "text": [
      "/home/v/Documents/github_repos/dsc80-2022-sp/projects/01-gradebook/project.py:206: SettingWithCopyWarning: \n",
      "A value is trying to be set on a copy of a slice from a DataFrame.\n",
      "Try using .loc[row_indexer,col_indexer] = value instead\n",
      "\n",
      "See the caveats in the documentation: https://pandas.pydata.org/pandas-docs/stable/user_guide/indexing.html#returning-a-view-versus-a-copy\n",
      "  grades2[i] = grades2[i].apply(convert_mins)\n"
     ]
    },
    {
     "data": {
      "text/plain": [
       "lab01     2\n",
       "lab02     0\n",
       "lab03     2\n",
       "lab04    12\n",
       "lab05     7\n",
       "lab06     8\n",
       "lab07    16\n",
       "lab08    11\n",
       "lab09    26\n",
       "dtype: int64"
      ]
     },
     "execution_count": 80,
     "metadata": {},
     "output_type": "execute_result"
    }
   ],
   "source": [
    "last_minute_submissions(grades)"
   ]
  },
  {
   "cell_type": "code",
   "execution_count": null,
   "metadata": {},
   "outputs": [],
   "source": [
    "lab01     2\n",
    "lab02     0\n",
    "lab03     2\n",
    "lab04    12\n",
    "lab05     7\n",
    "lab06     8\n",
    "lab07    16\n",
    "lab08    11\n",
    "lab09    26"
   ]
  },
  {
   "cell_type": "code",
   "execution_count": null,
   "metadata": {},
   "outputs": [],
   "source": [
    "[2, 0, 2, 6, 7, 8, 16, 11, 26]"
   ]
  },
  {
   "cell_type": "code",
   "execution_count": 344,
   "metadata": {
    "scrolled": true
   },
   "outputs": [
    {
     "ename": "TypeError",
     "evalue": "no numeric data to plot",
     "output_type": "error",
     "traceback": [
      "\u001b[0;31m---------------------------------------------------------------------------\u001b[0m",
      "\u001b[0;31mTypeError\u001b[0m                                 Traceback (most recent call last)",
      "Input \u001b[0;32mIn [344]\u001b[0m, in \u001b[0;36m<cell line: 1>\u001b[0;34m()\u001b[0m\n\u001b[0;32m----> 1\u001b[0m \u001b[43mgrades2\u001b[49m\u001b[38;5;241;43m.\u001b[39;49m\u001b[43mplot\u001b[49m\u001b[43m(\u001b[49m\u001b[43mkind\u001b[49m\u001b[43m \u001b[49m\u001b[38;5;241;43m=\u001b[39;49m\u001b[43m \u001b[49m\u001b[38;5;124;43m'\u001b[39;49m\u001b[38;5;124;43mhist\u001b[39;49m\u001b[38;5;124;43m'\u001b[39;49m\u001b[43m,\u001b[49m\u001b[43m \u001b[49m\u001b[43mx\u001b[49m\u001b[43m \u001b[49m\u001b[38;5;241;43m=\u001b[39;49m\u001b[43m \u001b[49m\u001b[38;5;124;43m'\u001b[39;49m\u001b[38;5;124;43mlab01 - Lateness (H:M:S)\u001b[39;49m\u001b[38;5;124;43m'\u001b[39;49m\u001b[43m,\u001b[49m\u001b[43m \u001b[49m\u001b[43mbins\u001b[49m\u001b[43m \u001b[49m\u001b[38;5;241;43m=\u001b[39;49m\u001b[43m \u001b[49m\u001b[38;5;241;43m200\u001b[39;49m\u001b[43m)\u001b[49m\n",
      "File \u001b[0;32m~/Documents/anaconda3/envs/dsc80/lib/python3.8/site-packages/pandas/plotting/_core.py:972\u001b[0m, in \u001b[0;36mPlotAccessor.__call__\u001b[0;34m(self, *args, **kwargs)\u001b[0m\n\u001b[1;32m    969\u001b[0m             label_name \u001b[38;5;241m=\u001b[39m label_kw \u001b[38;5;129;01mor\u001b[39;00m data\u001b[38;5;241m.\u001b[39mcolumns\n\u001b[1;32m    970\u001b[0m             data\u001b[38;5;241m.\u001b[39mcolumns \u001b[38;5;241m=\u001b[39m label_name\n\u001b[0;32m--> 972\u001b[0m \u001b[38;5;28;01mreturn\u001b[39;00m \u001b[43mplot_backend\u001b[49m\u001b[38;5;241;43m.\u001b[39;49m\u001b[43mplot\u001b[49m\u001b[43m(\u001b[49m\u001b[43mdata\u001b[49m\u001b[43m,\u001b[49m\u001b[43m \u001b[49m\u001b[43mkind\u001b[49m\u001b[38;5;241;43m=\u001b[39;49m\u001b[43mkind\u001b[49m\u001b[43m,\u001b[49m\u001b[43m \u001b[49m\u001b[38;5;241;43m*\u001b[39;49m\u001b[38;5;241;43m*\u001b[39;49m\u001b[43mkwargs\u001b[49m\u001b[43m)\u001b[49m\n",
      "File \u001b[0;32m~/Documents/anaconda3/envs/dsc80/lib/python3.8/site-packages/pandas/plotting/_matplotlib/__init__.py:71\u001b[0m, in \u001b[0;36mplot\u001b[0;34m(data, kind, **kwargs)\u001b[0m\n\u001b[1;32m     69\u001b[0m         kwargs[\u001b[38;5;124m\"\u001b[39m\u001b[38;5;124max\u001b[39m\u001b[38;5;124m\"\u001b[39m] \u001b[38;5;241m=\u001b[39m \u001b[38;5;28mgetattr\u001b[39m(ax, \u001b[38;5;124m\"\u001b[39m\u001b[38;5;124mleft_ax\u001b[39m\u001b[38;5;124m\"\u001b[39m, ax)\n\u001b[1;32m     70\u001b[0m plot_obj \u001b[38;5;241m=\u001b[39m PLOT_CLASSES[kind](data, \u001b[38;5;241m*\u001b[39m\u001b[38;5;241m*\u001b[39mkwargs)\n\u001b[0;32m---> 71\u001b[0m \u001b[43mplot_obj\u001b[49m\u001b[38;5;241;43m.\u001b[39;49m\u001b[43mgenerate\u001b[49m\u001b[43m(\u001b[49m\u001b[43m)\u001b[49m\n\u001b[1;32m     72\u001b[0m plot_obj\u001b[38;5;241m.\u001b[39mdraw()\n\u001b[1;32m     73\u001b[0m \u001b[38;5;28;01mreturn\u001b[39;00m plot_obj\u001b[38;5;241m.\u001b[39mresult\n",
      "File \u001b[0;32m~/Documents/anaconda3/envs/dsc80/lib/python3.8/site-packages/pandas/plotting/_matplotlib/core.py:286\u001b[0m, in \u001b[0;36mMPLPlot.generate\u001b[0;34m(self)\u001b[0m\n\u001b[1;32m    284\u001b[0m \u001b[38;5;28;01mdef\u001b[39;00m \u001b[38;5;21mgenerate\u001b[39m(\u001b[38;5;28mself\u001b[39m):\n\u001b[1;32m    285\u001b[0m     \u001b[38;5;28mself\u001b[39m\u001b[38;5;241m.\u001b[39m_args_adjust()\n\u001b[0;32m--> 286\u001b[0m     \u001b[38;5;28;43mself\u001b[39;49m\u001b[38;5;241;43m.\u001b[39;49m\u001b[43m_compute_plot_data\u001b[49m\u001b[43m(\u001b[49m\u001b[43m)\u001b[49m\n\u001b[1;32m    287\u001b[0m     \u001b[38;5;28mself\u001b[39m\u001b[38;5;241m.\u001b[39m_setup_subplots()\n\u001b[1;32m    288\u001b[0m     \u001b[38;5;28mself\u001b[39m\u001b[38;5;241m.\u001b[39m_make_plot()\n",
      "File \u001b[0;32m~/Documents/anaconda3/envs/dsc80/lib/python3.8/site-packages/pandas/plotting/_matplotlib/core.py:453\u001b[0m, in \u001b[0;36mMPLPlot._compute_plot_data\u001b[0;34m(self)\u001b[0m\n\u001b[1;32m    451\u001b[0m \u001b[38;5;66;03m# no non-numeric frames or series allowed\u001b[39;00m\n\u001b[1;32m    452\u001b[0m \u001b[38;5;28;01mif\u001b[39;00m is_empty:\n\u001b[0;32m--> 453\u001b[0m     \u001b[38;5;28;01mraise\u001b[39;00m \u001b[38;5;167;01mTypeError\u001b[39;00m(\u001b[38;5;124m\"\u001b[39m\u001b[38;5;124mno numeric data to plot\u001b[39m\u001b[38;5;124m\"\u001b[39m)\n\u001b[1;32m    455\u001b[0m \u001b[38;5;28mself\u001b[39m\u001b[38;5;241m.\u001b[39mdata \u001b[38;5;241m=\u001b[39m numeric_data\u001b[38;5;241m.\u001b[39mapply(\u001b[38;5;28mself\u001b[39m\u001b[38;5;241m.\u001b[39m_convert_to_ndarray)\n",
      "\u001b[0;31mTypeError\u001b[0m: no numeric data to plot"
     ]
    }
   ],
   "source": [
    "grades2.plot(kind = 'hist', x = 'lab01 - Lateness (H:M:S)', bins = 200)"
   ]
  },
  {
   "cell_type": "code",
   "execution_count": 127,
   "metadata": {},
   "outputs": [],
   "source": [
    "def convert_mins(time):\n",
    "    nums = time.split(':')\n",
    "    return int(nums[0]) * 60 * 60 + int(nums[1]) * 60 + int(nums[2]) #< 20_000 #and float(nums[0]) * 60 * 60 + float(nums[1]) * 60 + float(nums[2]) != 0"
   ]
  },
  {
   "cell_type": "code",
   "execution_count": 339,
   "metadata": {
    "scrolled": false,
    "tags": []
   },
   "outputs": [
    {
     "data": {
      "text/plain": [
       "array([[<AxesSubplot:title={'center':'lab01 - Lateness (H:M:S)'}>]],\n",
       "      dtype=object)"
      ]
     },
     "execution_count": 339,
     "metadata": {},
     "output_type": "execute_result"
    },
    {
     "data": {
      "image/png": "[encoded data removed]",
      "text/plain": [
       "<Figure size 432x288 with 1 Axes>"
      ]
     },
     "metadata": {
      "needs_background": "light"
     },
     "output_type": "display_data"
    }
   ],
   "source": [
    "grades2.hist(column = 'lab01 - Lateness (H:M:S)', bins = 100)"
   ]
  },
  {
   "cell_type": "code",
   "execution_count": 340,
   "metadata": {
    "scrolled": true,
    "tags": []
   },
   "outputs": [
    {
     "data": {
      "text/plain": [
       "array([[<AxesSubplot:title={'center':'lab02 - Lateness (H:M:S)'}>]],\n",
       "      dtype=object)"
      ]
     },
     "execution_count": 340,
     "metadata": {},
     "output_type": "execute_result"
    },
    {
     "data": {
      "image/png": "[encoded data removed]",
      "text/plain": [
       "<Figure size 432x288 with 1 Axes>"
      ]
     },
     "metadata": {
      "needs_background": "light"
     },
     "output_type": "display_data"
    }
   ],
   "source": [
    "grades2.hist(column = 'lab02 - Lateness (H:M:S)', bins = 100)"
   ]
  },
  {
   "cell_type": "code",
   "execution_count": 341,
   "metadata": {},
   "outputs": [
    {
     "data": {
      "text/plain": [
       "array([[<AxesSubplot:title={'center':'lab03 - Lateness (H:M:S)'}>]],\n",
       "      dtype=object)"
      ]
     },
     "execution_count": 341,
     "metadata": {},
     "output_type": "execute_result"
    },
    {
     "data": {
      "image/png": "[encoded data removed]",
      "text/plain": [
       "<Figure size 432x288 with 1 Axes>"
      ]
     },
     "metadata": {
      "needs_background": "light"
     },
     "output_type": "display_data"
    }
   ],
   "source": [
    "grades2.hist(column = 'lab03 - Lateness (H:M:S)', bins = 100)"
   ]
  },
  {
   "cell_type": "code",
   "execution_count": 357,
   "metadata": {
    "scrolled": true
   },
   "outputs": [
    {
     "data": {
      "text/plain": [
       "array([[<AxesSubplot:title={'center':'lab04 - Lateness (H:M:S)'}>]],\n",
       "      dtype=object)"
      ]
     },
     "execution_count": 357,
     "metadata": {},
     "output_type": "execute_result"
    },
    {
     "data": {
      "image/png": "[encoded data removed]",
      "text/plain": [
       "<Figure size 432x288 with 1 Axes>"
      ]
     },
     "metadata": {
      "needs_background": "light"
     },
     "output_type": "display_data"
    }
   ],
   "source": [
    "grades2.hist(column = 'lab04 - Lateness (H:M:S)', bins = 200)"
   ]
  },
  {
   "cell_type": "code",
   "execution_count": 316,
   "metadata": {},
   "outputs": [
    {
     "data": {
      "text/plain": [
       "array([[<AxesSubplot:title={'center':'lab05 - Lateness (H:M:S)'}>]],\n",
       "      dtype=object)"
      ]
     },
     "execution_count": 316,
     "metadata": {},
     "output_type": "execute_result"
    },
    {
     "data": {
      "image/png": "[encoded data removed]",
      "text/plain": [
       "<Figure size 432x288 with 1 Axes>"
      ]
     },
     "metadata": {
      "needs_background": "light"
     },
     "output_type": "display_data"
    }
   ],
   "source": [
    "grades2.hist(column = 'lab05 - Lateness (H:M:S)', bins = 30)"
   ]
  },
  {
   "cell_type": "code",
   "execution_count": 317,
   "metadata": {
    "scrolled": false
   },
   "outputs": [
    {
     "data": {
      "text/plain": [
       "array([[<AxesSubplot:title={'center':'lab06 - Lateness (H:M:S)'}>]],\n",
       "      dtype=object)"
      ]
     },
     "execution_count": 317,
     "metadata": {},
     "output_type": "execute_result"
    },
    {
     "data": {
      "image/png": "[encoded data removed]",
      "text/plain": [
       "<Figure size 432x288 with 1 Axes>"
      ]
     },
     "metadata": {
      "needs_background": "light"
     },
     "output_type": "display_data"
    }
   ],
   "source": [
    "grades2.hist(column = 'lab06 - Lateness (H:M:S)', bins = 30)"
   ]
  },
  {
   "cell_type": "code",
   "execution_count": 318,
   "metadata": {
    "scrolled": true
   },
   "outputs": [
    {
     "data": {
      "text/plain": [
       "array([[<AxesSubplot:title={'center':'lab07 - Lateness (H:M:S)'}>]],\n",
       "      dtype=object)"
      ]
     },
     "execution_count": 318,
     "metadata": {},
     "output_type": "execute_result"
    },
    {
     "data": {
      "image/png": "[encoded data removed]",
      "text/plain": [
       "<Figure size 432x288 with 1 Axes>"
      ]
     },
     "metadata": {
      "needs_background": "light"
     },
     "output_type": "display_data"
    }
   ],
   "source": [
    "grades2.hist(column = 'lab07 - Lateness (H:M:S)', bins = 30)"
   ]
  },
  {
   "cell_type": "code",
   "execution_count": 319,
   "metadata": {
    "scrolled": true
   },
   "outputs": [
    {
     "data": {
      "text/plain": [
       "array([[<AxesSubplot:title={'center':'lab08 - Lateness (H:M:S)'}>]],\n",
       "      dtype=object)"
      ]
     },
     "execution_count": 319,
     "metadata": {},
     "output_type": "execute_result"
    },
    {
     "data": {
      "image/png": "[encoded data removed]",
      "text/plain": [
       "<Figure size 432x288 with 1 Axes>"
      ]
     },
     "metadata": {
      "needs_background": "light"
     },
     "output_type": "display_data"
    }
   ],
   "source": [
    "grades2.hist(column = 'lab08 - Lateness (H:M:S)', bins = 30)"
   ]
  },
  {
   "cell_type": "code",
   "execution_count": 320,
   "metadata": {
    "scrolled": true
   },
   "outputs": [
    {
     "data": {
      "text/plain": [
       "array([[<AxesSubplot:title={'center':'lab09 - Lateness (H:M:S)'}>]],\n",
       "      dtype=object)"
      ]
     },
     "execution_count": 320,
     "metadata": {},
     "output_type": "execute_result"
    },
    {
     "data": {
      "image/png": "[encoded data removed]",
      "text/plain": [
       "<Figure size 432x288 with 1 Axes>"
      ]
     },
     "metadata": {
      "needs_background": "light"
     },
     "output_type": "display_data"
    }
   ],
   "source": [
    "grades2.hist(column = 'lab09 - Lateness (H:M:S)', bins = 30)"
   ]
  },
  {
   "cell_type": "code",
   "execution_count": 103,
   "metadata": {
    "deletable": false,
    "editable": false,
    "scrolled": true
   },
   "outputs": [
    {
     "data": {
      "text/html": [
       "<p><strong><pre style='display: inline;'>q3</pre></strong> passed!</p>"
      ],
      "text/plain": [
       "q3 results: All test cases passed!"
      ]
     },
     "execution_count": 103,
     "metadata": {},
     "output_type": "execute_result"
    }
   ],
   "source": [
    "grader.check(\"q3\")"
   ]
  },
  {
   "cell_type": "markdown",
   "metadata": {},
   "source": [
    "### Question 4 (Checkpoint Question)\n",
    "\n",
    "Now you need to adjust lab grades for truly late submissions. However, you need to take into account your investigation in the previous question, since students shouldn't be penalized by a bug in Gradescope!\n",
    "\n",
    "Complete the implementation of the function `lateness_penalty`, which takes in a Series (like `grades['lab01 - Lateness (H:M:S)']`) containing data on how late a student turned in an assignment and returns a Series of penalties (represented by the values `1.0` ,`0.9`, `0.7`, and `0.4` according to [the syllabus](#The-Syllabus)). **Only truly late submissions should be counted as late**.\n",
    "\n",
    "***Note***: For the purpose of this project, we will only be calculating lateness for labs. There is no penalty for lateness for projects, discussions, nor checkpoints (unlike in real DSC 80 😢)."
   ]
  },
  {
   "cell_type": "code",
   "execution_count": 397,
   "metadata": {
    "tags": []
   },
   "outputs": [],
   "source": [
    "def deter_penalty(seconds):\n",
    "    if seconds >= 0 and seconds <= 20_000:\n",
    "        return 1.0\n",
    "    elif seconds > 10_000 and seconds <= 604800:\n",
    "        return 0.9\n",
    "    elif seconds > 604800 and seconds <= (604800 * 2):\n",
    "        return 0.7\n",
    "    else:\n",
    "        return 0.4\n",
    "    "
   ]
  },
  {
   "cell_type": "code",
   "execution_count": 414,
   "metadata": {},
   "outputs": [],
   "source": [
    "def convert_mins2(time):\n",
    "    nums = time.split(':')\n",
    "    return int(nums[0]) * 60 * 60 + int(nums[1]) * 60 + int(nums[2])"
   ]
  },
  {
   "cell_type": "code",
   "execution_count": null,
   "metadata": {},
   "outputs": [],
   "source": []
  },
  {
   "cell_type": "code",
   "execution_count": 35,
   "metadata": {
    "tags": []
   },
   "outputs": [
    {
     "data": {
      "text/plain": [
       "0.4"
      ]
     },
     "execution_count": 35,
     "metadata": {},
     "output_type": "execute_result"
    }
   ],
   "source": [
    "late = grades['lab03 - Lateness (H:M:S)']\n",
    "late\n",
    "late = late.apply(convert_mins2)\n",
    "late\n",
    "late = late.apply(deter_penalty)\n",
    "late[13]"
   ]
  },
  {
   "cell_type": "code",
   "execution_count": 142,
   "metadata": {
    "tags": []
   },
   "outputs": [
    {
     "data": {
      "text/plain": [
       "nan"
      ]
     },
     "execution_count": 142,
     "metadata": {},
     "output_type": "execute_result"
    }
   ],
   "source": [
    "np.nan * .5"
   ]
  },
  {
   "cell_type": "code",
   "execution_count": 104,
   "metadata": {
    "deletable": false,
    "editable": false
   },
   "outputs": [
    {
     "data": {
      "text/html": [
       "<p><strong><pre style='display: inline;'>q4</pre></strong> passed!</p>"
      ],
      "text/plain": [
       "q4 results: All test cases passed!"
      ]
     },
     "execution_count": 104,
     "metadata": {},
     "output_type": "execute_result"
    }
   ],
   "source": [
    "grader.check(\"q4\")"
   ]
  },
  {
   "cell_type": "markdown",
   "metadata": {},
   "source": [
    "### Question 5\n",
    "\n",
    "Complete the implementation of the function `process_labs`, which takes in a DataFrame like `grades` and returns a DataFrame of processed lab scores. The returned DataFrame should:\n",
    "* have the same index as `grades`,\n",
    "* have one column for each lab assignment (e.g. `'lab01'`, `'lab02'`,..., `'lab09'`),\n",
    "* have values representing the final score for each lab assignment, adjusted for lateness and **normalized** to a score between 0 and 1."
   ]
  },
  {
   "cell_type": "code",
   "execution_count": 6,
   "metadata": {
    "scrolled": true,
    "tags": []
   },
   "outputs": [
    {
     "data": {
      "text/html": [
       "<div>\n",
       "<style scoped>\n",
       "    .dataframe tbody tr th:only-of-type {\n",
       "        vertical-align: middle;\n",
       "    }\n",
       "\n",
       "    .dataframe tbody tr th {\n",
       "        vertical-align: top;\n",
       "    }\n",
       "\n",
       "    .dataframe thead th {\n",
       "        text-align: right;\n",
       "    }\n",
       "</style>\n",
       "<table border=\"1\" class=\"dataframe\">\n",
       "  <thead>\n",
       "    <tr style=\"text-align: right;\">\n",
       "      <th></th>\n",
       "      <th>PID</th>\n",
       "      <th>College</th>\n",
       "      <th>Level</th>\n",
       "      <th>lab01</th>\n",
       "      <th>lab01 - Max Points</th>\n",
       "      <th>lab01 - Lateness (H:M:S)</th>\n",
       "      <th>lab02</th>\n",
       "      <th>lab02 - Max Points</th>\n",
       "      <th>lab02 - Lateness (H:M:S)</th>\n",
       "      <th>project01</th>\n",
       "      <th>...</th>\n",
       "      <th>discussion07 - Lateness (H:M:S)</th>\n",
       "      <th>discussion08</th>\n",
       "      <th>discussion08 - Max Points</th>\n",
       "      <th>discussion08 - Lateness (H:M:S)</th>\n",
       "      <th>discussion09</th>\n",
       "      <th>discussion09 - Max Points</th>\n",
       "      <th>discussion09 - Lateness (H:M:S)</th>\n",
       "      <th>discussion10</th>\n",
       "      <th>discussion10 - Max Points</th>\n",
       "      <th>discussion10 - Lateness (H:M:S)</th>\n",
       "    </tr>\n",
       "  </thead>\n",
       "  <tbody>\n",
       "    <tr>\n",
       "      <th>0</th>\n",
       "      <td>A14721419</td>\n",
       "      <td>SI</td>\n",
       "      <td>JR</td>\n",
       "      <td>99.735279</td>\n",
       "      <td>100</td>\n",
       "      <td>00:00:00</td>\n",
       "      <td>84.990171</td>\n",
       "      <td>100</td>\n",
       "      <td>00:00:00</td>\n",
       "      <td>75.282632</td>\n",
       "      <td>...</td>\n",
       "      <td>00:00:00</td>\n",
       "      <td>8.895294</td>\n",
       "      <td>10</td>\n",
       "      <td>00:00:00</td>\n",
       "      <td>10.000000</td>\n",
       "      <td>10</td>\n",
       "      <td>780:01:28</td>\n",
       "      <td>10.000000</td>\n",
       "      <td>10</td>\n",
       "      <td>00:00:00</td>\n",
       "    </tr>\n",
       "    <tr>\n",
       "      <th>1</th>\n",
       "      <td>A14540219</td>\n",
       "      <td>WA</td>\n",
       "      <td>JR</td>\n",
       "      <td>69.586809</td>\n",
       "      <td>100</td>\n",
       "      <td>00:00:00</td>\n",
       "      <td>75.455147</td>\n",
       "      <td>100</td>\n",
       "      <td>00:00:00</td>\n",
       "      <td>NaN</td>\n",
       "      <td>...</td>\n",
       "      <td>00:00:00</td>\n",
       "      <td>NaN</td>\n",
       "      <td>10</td>\n",
       "      <td>00:00:00</td>\n",
       "      <td>NaN</td>\n",
       "      <td>10</td>\n",
       "      <td>00:00:00</td>\n",
       "      <td>NaN</td>\n",
       "      <td>10</td>\n",
       "      <td>00:00:00</td>\n",
       "    </tr>\n",
       "    <tr>\n",
       "      <th>2</th>\n",
       "      <td>A14654940</td>\n",
       "      <td>SI</td>\n",
       "      <td>SO</td>\n",
       "      <td>99.916912</td>\n",
       "      <td>100</td>\n",
       "      <td>00:00:00</td>\n",
       "      <td>NaN</td>\n",
       "      <td>100</td>\n",
       "      <td>00:00:00</td>\n",
       "      <td>63.995207</td>\n",
       "      <td>...</td>\n",
       "      <td>00:00:00</td>\n",
       "      <td>10.000000</td>\n",
       "      <td>10</td>\n",
       "      <td>00:00:00</td>\n",
       "      <td>10.000000</td>\n",
       "      <td>10</td>\n",
       "      <td>00:00:00</td>\n",
       "      <td>10.000000</td>\n",
       "      <td>10</td>\n",
       "      <td>46:27:42</td>\n",
       "    </tr>\n",
       "    <tr>\n",
       "      <th>3</th>\n",
       "      <td>A14883274</td>\n",
       "      <td>TH</td>\n",
       "      <td>JR</td>\n",
       "      <td>98.829476</td>\n",
       "      <td>100</td>\n",
       "      <td>00:00:00</td>\n",
       "      <td>50.784231</td>\n",
       "      <td>100</td>\n",
       "      <td>00:00:00</td>\n",
       "      <td>52.929482</td>\n",
       "      <td>...</td>\n",
       "      <td>669:12:21</td>\n",
       "      <td>9.022407</td>\n",
       "      <td>10</td>\n",
       "      <td>00:00:00</td>\n",
       "      <td>9.020283</td>\n",
       "      <td>10</td>\n",
       "      <td>00:00:00</td>\n",
       "      <td>9.437368</td>\n",
       "      <td>10</td>\n",
       "      <td>00:00:00</td>\n",
       "    </tr>\n",
       "    <tr>\n",
       "      <th>4</th>\n",
       "      <td>A14755997</td>\n",
       "      <td>WA</td>\n",
       "      <td>JR</td>\n",
       "      <td>86.370726</td>\n",
       "      <td>100</td>\n",
       "      <td>00:00:00</td>\n",
       "      <td>NaN</td>\n",
       "      <td>100</td>\n",
       "      <td>00:00:00</td>\n",
       "      <td>85.000000</td>\n",
       "      <td>...</td>\n",
       "      <td>00:00:00</td>\n",
       "      <td>9.232778</td>\n",
       "      <td>10</td>\n",
       "      <td>00:00:00</td>\n",
       "      <td>9.134615</td>\n",
       "      <td>10</td>\n",
       "      <td>00:00:00</td>\n",
       "      <td>10.000000</td>\n",
       "      <td>10</td>\n",
       "      <td>00:00:00</td>\n",
       "    </tr>\n",
       "    <tr>\n",
       "      <th>...</th>\n",
       "      <td>...</td>\n",
       "      <td>...</td>\n",
       "      <td>...</td>\n",
       "      <td>...</td>\n",
       "      <td>...</td>\n",
       "      <td>...</td>\n",
       "      <td>...</td>\n",
       "      <td>...</td>\n",
       "      <td>...</td>\n",
       "      <td>...</td>\n",
       "      <td>...</td>\n",
       "      <td>...</td>\n",
       "      <td>...</td>\n",
       "      <td>...</td>\n",
       "      <td>...</td>\n",
       "      <td>...</td>\n",
       "      <td>...</td>\n",
       "      <td>...</td>\n",
       "      <td>...</td>\n",
       "      <td>...</td>\n",
       "      <td>...</td>\n",
       "    </tr>\n",
       "    <tr>\n",
       "      <th>530</th>\n",
       "      <td>A14490387</td>\n",
       "      <td>SI</td>\n",
       "      <td>JR</td>\n",
       "      <td>100.000000</td>\n",
       "      <td>100</td>\n",
       "      <td>47:26:10</td>\n",
       "      <td>82.022753</td>\n",
       "      <td>100</td>\n",
       "      <td>00:00:00</td>\n",
       "      <td>78.936816</td>\n",
       "      <td>...</td>\n",
       "      <td>00:00:00</td>\n",
       "      <td>10.000000</td>\n",
       "      <td>10</td>\n",
       "      <td>12:08:58</td>\n",
       "      <td>9.169447</td>\n",
       "      <td>10</td>\n",
       "      <td>00:00:00</td>\n",
       "      <td>10.000000</td>\n",
       "      <td>10</td>\n",
       "      <td>00:00:00</td>\n",
       "    </tr>\n",
       "    <tr>\n",
       "      <th>531</th>\n",
       "      <td>A14088257</td>\n",
       "      <td>SI</td>\n",
       "      <td>SO</td>\n",
       "      <td>100.000000</td>\n",
       "      <td>100</td>\n",
       "      <td>00:00:00</td>\n",
       "      <td>87.498073</td>\n",
       "      <td>100</td>\n",
       "      <td>00:00:00</td>\n",
       "      <td>72.076801</td>\n",
       "      <td>...</td>\n",
       "      <td>00:00:00</td>\n",
       "      <td>10.000000</td>\n",
       "      <td>10</td>\n",
       "      <td>00:00:00</td>\n",
       "      <td>10.000000</td>\n",
       "      <td>10</td>\n",
       "      <td>00:00:00</td>\n",
       "      <td>10.000000</td>\n",
       "      <td>10</td>\n",
       "      <td>00:00:00</td>\n",
       "    </tr>\n",
       "    <tr>\n",
       "      <th>532</th>\n",
       "      <td>A14847419</td>\n",
       "      <td>WA</td>\n",
       "      <td>JR</td>\n",
       "      <td>88.656641</td>\n",
       "      <td>100</td>\n",
       "      <td>00:00:00</td>\n",
       "      <td>90.326041</td>\n",
       "      <td>100</td>\n",
       "      <td>00:00:00</td>\n",
       "      <td>66.273252</td>\n",
       "      <td>...</td>\n",
       "      <td>00:00:00</td>\n",
       "      <td>9.878661</td>\n",
       "      <td>10</td>\n",
       "      <td>00:00:00</td>\n",
       "      <td>8.878946</td>\n",
       "      <td>10</td>\n",
       "      <td>00:00:00</td>\n",
       "      <td>10.000000</td>\n",
       "      <td>10</td>\n",
       "      <td>00:00:00</td>\n",
       "    </tr>\n",
       "    <tr>\n",
       "      <th>533</th>\n",
       "      <td>A14513929</td>\n",
       "      <td>TH</td>\n",
       "      <td>SR</td>\n",
       "      <td>83.799719</td>\n",
       "      <td>100</td>\n",
       "      <td>00:00:00</td>\n",
       "      <td>85.636947</td>\n",
       "      <td>100</td>\n",
       "      <td>00:00:00</td>\n",
       "      <td>63.965217</td>\n",
       "      <td>...</td>\n",
       "      <td>00:00:00</td>\n",
       "      <td>7.759434</td>\n",
       "      <td>10</td>\n",
       "      <td>00:00:00</td>\n",
       "      <td>8.655478</td>\n",
       "      <td>10</td>\n",
       "      <td>419:06:41</td>\n",
       "      <td>8.102277</td>\n",
       "      <td>10</td>\n",
       "      <td>00:00:00</td>\n",
       "    </tr>\n",
       "    <tr>\n",
       "      <th>534</th>\n",
       "      <td>A14365863</td>\n",
       "      <td>WA</td>\n",
       "      <td>SR</td>\n",
       "      <td>88.389331</td>\n",
       "      <td>100</td>\n",
       "      <td>00:00:00</td>\n",
       "      <td>73.045171</td>\n",
       "      <td>100</td>\n",
       "      <td>00:00:00</td>\n",
       "      <td>77.572115</td>\n",
       "      <td>...</td>\n",
       "      <td>21:47:10</td>\n",
       "      <td>10.000000</td>\n",
       "      <td>10</td>\n",
       "      <td>00:00:00</td>\n",
       "      <td>9.515494</td>\n",
       "      <td>10</td>\n",
       "      <td>00:00:00</td>\n",
       "      <td>10.000000</td>\n",
       "      <td>10</td>\n",
       "      <td>00:00:00</td>\n",
       "    </tr>\n",
       "  </tbody>\n",
       "</table>\n",
       "<p>535 rows × 100 columns</p>\n",
       "</div>"
      ],
      "text/plain": [
       "           PID College Level       lab01  lab01 - Max Points  \\\n",
       "0    A14721419      SI    JR   99.735279                 100   \n",
       "1    A14540219      WA    JR   69.586809                 100   \n",
       "2    A14654940      SI    SO   99.916912                 100   \n",
       "3    A14883274      TH    JR   98.829476                 100   \n",
       "4    A14755997      WA    JR   86.370726                 100   \n",
       "..         ...     ...   ...         ...                 ...   \n",
       "530  A14490387      SI    JR  100.000000                 100   \n",
       "531  A14088257      SI    SO  100.000000                 100   \n",
       "532  A14847419      WA    JR   88.656641                 100   \n",
       "533  A14513929      TH    SR   83.799719                 100   \n",
       "534  A14365863      WA    SR   88.389331                 100   \n",
       "\n",
       "    lab01 - Lateness (H:M:S)      lab02  lab02 - Max Points  \\\n",
       "0                   00:00:00  84.990171                 100   \n",
       "1                   00:00:00  75.455147                 100   \n",
       "2                   00:00:00        NaN                 100   \n",
       "3                   00:00:00  50.784231                 100   \n",
       "4                   00:00:00        NaN                 100   \n",
       "..                       ...        ...                 ...   \n",
       "530                 47:26:10  82.022753                 100   \n",
       "531                 00:00:00  87.498073                 100   \n",
       "532                 00:00:00  90.326041                 100   \n",
       "533                 00:00:00  85.636947                 100   \n",
       "534                 00:00:00  73.045171                 100   \n",
       "\n",
       "    lab02 - Lateness (H:M:S)  project01  ...  discussion07 - Lateness (H:M:S)  \\\n",
       "0                   00:00:00  75.282632  ...                         00:00:00   \n",
       "1                   00:00:00        NaN  ...                         00:00:00   \n",
       "2                   00:00:00  63.995207  ...                         00:00:00   \n",
       "3                   00:00:00  52.929482  ...                        669:12:21   \n",
       "4                   00:00:00  85.000000  ...                         00:00:00   \n",
       "..                       ...        ...  ...                              ...   \n",
       "530                 00:00:00  78.936816  ...                         00:00:00   \n",
       "531                 00:00:00  72.076801  ...                         00:00:00   \n",
       "532                 00:00:00  66.273252  ...                         00:00:00   \n",
       "533                 00:00:00  63.965217  ...                         00:00:00   \n",
       "534                 00:00:00  77.572115  ...                         21:47:10   \n",
       "\n",
       "    discussion08  discussion08 - Max Points  discussion08 - Lateness (H:M:S)  \\\n",
       "0       8.895294                         10                         00:00:00   \n",
       "1            NaN                         10                         00:00:00   \n",
       "2      10.000000                         10                         00:00:00   \n",
       "3       9.022407                         10                         00:00:00   \n",
       "4       9.232778                         10                         00:00:00   \n",
       "..           ...                        ...                              ...   \n",
       "530    10.000000                         10                         12:08:58   \n",
       "531    10.000000                         10                         00:00:00   \n",
       "532     9.878661                         10                         00:00:00   \n",
       "533     7.759434                         10                         00:00:00   \n",
       "534    10.000000                         10                         00:00:00   \n",
       "\n",
       "    discussion09  discussion09 - Max Points  discussion09 - Lateness (H:M:S)  \\\n",
       "0      10.000000                         10                        780:01:28   \n",
       "1            NaN                         10                         00:00:00   \n",
       "2      10.000000                         10                         00:00:00   \n",
       "3       9.020283                         10                         00:00:00   \n",
       "4       9.134615                         10                         00:00:00   \n",
       "..           ...                        ...                              ...   \n",
       "530     9.169447                         10                         00:00:00   \n",
       "531    10.000000                         10                         00:00:00   \n",
       "532     8.878946                         10                         00:00:00   \n",
       "533     8.655478                         10                        419:06:41   \n",
       "534     9.515494                         10                         00:00:00   \n",
       "\n",
       "    discussion10  discussion10 - Max Points  discussion10 - Lateness (H:M:S)  \n",
       "0      10.000000                         10                         00:00:00  \n",
       "1            NaN                         10                         00:00:00  \n",
       "2      10.000000                         10                         46:27:42  \n",
       "3       9.437368                         10                         00:00:00  \n",
       "4      10.000000                         10                         00:00:00  \n",
       "..           ...                        ...                              ...  \n",
       "530    10.000000                         10                         00:00:00  \n",
       "531    10.000000                         10                         00:00:00  \n",
       "532    10.000000                         10                         00:00:00  \n",
       "533     8.102277                         10                         00:00:00  \n",
       "534    10.000000                         10                         00:00:00  \n",
       "\n",
       "[535 rows x 100 columns]"
      ]
     },
     "execution_count": 6,
     "metadata": {},
     "output_type": "execute_result"
    }
   ],
   "source": [
    "grades"
   ]
  },
  {
   "cell_type": "code",
   "execution_count": 64,
   "metadata": {
    "scrolled": true,
    "tags": []
   },
   "outputs": [
    {
     "data": {
      "text/html": [
       "<div>\n",
       "<style scoped>\n",
       "    .dataframe tbody tr th:only-of-type {\n",
       "        vertical-align: middle;\n",
       "    }\n",
       "\n",
       "    .dataframe tbody tr th {\n",
       "        vertical-align: top;\n",
       "    }\n",
       "\n",
       "    .dataframe thead th {\n",
       "        text-align: right;\n",
       "    }\n",
       "</style>\n",
       "<table border=\"1\" class=\"dataframe\">\n",
       "  <thead>\n",
       "    <tr style=\"text-align: right;\">\n",
       "      <th></th>\n",
       "      <th>lab01</th>\n",
       "      <th>lab02</th>\n",
       "      <th>lab03</th>\n",
       "      <th>lab04</th>\n",
       "      <th>lab05</th>\n",
       "      <th>lab06</th>\n",
       "      <th>lab07</th>\n",
       "      <th>lab08</th>\n",
       "      <th>lab09</th>\n",
       "    </tr>\n",
       "  </thead>\n",
       "  <tbody>\n",
       "    <tr>\n",
       "      <th>0</th>\n",
       "      <td>99.735279</td>\n",
       "      <td>84.990171</td>\n",
       "      <td>91.106354</td>\n",
       "      <td>100.000000</td>\n",
       "      <td>70.000000</td>\n",
       "      <td>84.534049</td>\n",
       "      <td>97.285131</td>\n",
       "      <td>88.791712</td>\n",
       "      <td>43.745650</td>\n",
       "    </tr>\n",
       "    <tr>\n",
       "      <th>1</th>\n",
       "      <td>69.586809</td>\n",
       "      <td>75.455147</td>\n",
       "      <td>84.594115</td>\n",
       "      <td>66.924208</td>\n",
       "      <td>47.899066</td>\n",
       "      <td>70.224934</td>\n",
       "      <td>80.854734</td>\n",
       "      <td>56.407798</td>\n",
       "      <td>36.947283</td>\n",
       "    </tr>\n",
       "    <tr>\n",
       "      <th>2</th>\n",
       "      <td>99.916912</td>\n",
       "      <td>0.000000</td>\n",
       "      <td>89.721294</td>\n",
       "      <td>91.269980</td>\n",
       "      <td>68.296467</td>\n",
       "      <td>78.644413</td>\n",
       "      <td>94.566724</td>\n",
       "      <td>86.624530</td>\n",
       "      <td>31.458266</td>\n",
       "    </tr>\n",
       "    <tr>\n",
       "      <th>3</th>\n",
       "      <td>98.829476</td>\n",
       "      <td>50.784231</td>\n",
       "      <td>71.447699</td>\n",
       "      <td>78.367244</td>\n",
       "      <td>70.000000</td>\n",
       "      <td>83.700983</td>\n",
       "      <td>91.406063</td>\n",
       "      <td>94.437778</td>\n",
       "      <td>45.148857</td>\n",
       "    </tr>\n",
       "    <tr>\n",
       "      <th>4</th>\n",
       "      <td>86.370726</td>\n",
       "      <td>0.000000</td>\n",
       "      <td>74.256403</td>\n",
       "      <td>87.681782</td>\n",
       "      <td>63.283773</td>\n",
       "      <td>85.000000</td>\n",
       "      <td>93.846704</td>\n",
       "      <td>93.515112</td>\n",
       "      <td>43.699192</td>\n",
       "    </tr>\n",
       "    <tr>\n",
       "      <th>...</th>\n",
       "      <td>...</td>\n",
       "      <td>...</td>\n",
       "      <td>...</td>\n",
       "      <td>...</td>\n",
       "      <td>...</td>\n",
       "      <td>...</td>\n",
       "      <td>...</td>\n",
       "      <td>...</td>\n",
       "      <td>...</td>\n",
       "    </tr>\n",
       "    <tr>\n",
       "      <th>530</th>\n",
       "      <td>100.000000</td>\n",
       "      <td>82.022753</td>\n",
       "      <td>100.000000</td>\n",
       "      <td>88.103895</td>\n",
       "      <td>70.000000</td>\n",
       "      <td>60.372530</td>\n",
       "      <td>77.028069</td>\n",
       "      <td>93.124547</td>\n",
       "      <td>50.000000</td>\n",
       "    </tr>\n",
       "    <tr>\n",
       "      <th>531</th>\n",
       "      <td>100.000000</td>\n",
       "      <td>87.498073</td>\n",
       "      <td>80.994468</td>\n",
       "      <td>65.873998</td>\n",
       "      <td>69.131760</td>\n",
       "      <td>64.573469</td>\n",
       "      <td>85.617836</td>\n",
       "      <td>84.969411</td>\n",
       "      <td>29.132265</td>\n",
       "    </tr>\n",
       "    <tr>\n",
       "      <th>532</th>\n",
       "      <td>88.656641</td>\n",
       "      <td>90.326041</td>\n",
       "      <td>100.000000</td>\n",
       "      <td>100.000000</td>\n",
       "      <td>65.899735</td>\n",
       "      <td>65.357255</td>\n",
       "      <td>96.728227</td>\n",
       "      <td>87.789808</td>\n",
       "      <td>50.000000</td>\n",
       "    </tr>\n",
       "    <tr>\n",
       "      <th>533</th>\n",
       "      <td>83.799719</td>\n",
       "      <td>85.636947</td>\n",
       "      <td>90.936251</td>\n",
       "      <td>95.528740</td>\n",
       "      <td>51.649780</td>\n",
       "      <td>81.340995</td>\n",
       "      <td>76.909286</td>\n",
       "      <td>94.744971</td>\n",
       "      <td>43.368644</td>\n",
       "    </tr>\n",
       "    <tr>\n",
       "      <th>534</th>\n",
       "      <td>88.389331</td>\n",
       "      <td>73.045171</td>\n",
       "      <td>94.479542</td>\n",
       "      <td>81.909969</td>\n",
       "      <td>62.367750</td>\n",
       "      <td>72.953550</td>\n",
       "      <td>98.940982</td>\n",
       "      <td>80.797380</td>\n",
       "      <td>33.187273</td>\n",
       "    </tr>\n",
       "  </tbody>\n",
       "</table>\n",
       "<p>535 rows × 9 columns</p>\n",
       "</div>"
      ],
      "text/plain": [
       "          lab01      lab02       lab03       lab04      lab05      lab06  \\\n",
       "0     99.735279  84.990171   91.106354  100.000000  70.000000  84.534049   \n",
       "1     69.586809  75.455147   84.594115   66.924208  47.899066  70.224934   \n",
       "2     99.916912   0.000000   89.721294   91.269980  68.296467  78.644413   \n",
       "3     98.829476  50.784231   71.447699   78.367244  70.000000  83.700983   \n",
       "4     86.370726   0.000000   74.256403   87.681782  63.283773  85.000000   \n",
       "..          ...        ...         ...         ...        ...        ...   \n",
       "530  100.000000  82.022753  100.000000   88.103895  70.000000  60.372530   \n",
       "531  100.000000  87.498073   80.994468   65.873998  69.131760  64.573469   \n",
       "532   88.656641  90.326041  100.000000  100.000000  65.899735  65.357255   \n",
       "533   83.799719  85.636947   90.936251   95.528740  51.649780  81.340995   \n",
       "534   88.389331  73.045171   94.479542   81.909969  62.367750  72.953550   \n",
       "\n",
       "         lab07      lab08      lab09  \n",
       "0    97.285131  88.791712  43.745650  \n",
       "1    80.854734  56.407798  36.947283  \n",
       "2    94.566724  86.624530  31.458266  \n",
       "3    91.406063  94.437778  45.148857  \n",
       "4    93.846704  93.515112  43.699192  \n",
       "..         ...        ...        ...  \n",
       "530  77.028069  93.124547  50.000000  \n",
       "531  85.617836  84.969411  29.132265  \n",
       "532  96.728227  87.789808  50.000000  \n",
       "533  76.909286  94.744971  43.368644  \n",
       "534  98.940982  80.797380  33.187273  \n",
       "\n",
       "[535 rows x 9 columns]"
      ]
     },
     "execution_count": 64,
     "metadata": {},
     "output_type": "execute_result"
    }
   ],
   "source": [
    "assignments = get_assignment_names(grades)\n",
    "grades_clean_nan = grades[assignments['lab']].applymap(convert_nan)\n",
    "grades_clean_nan"
   ]
  },
  {
   "cell_type": "code",
   "execution_count": 20,
   "metadata": {},
   "outputs": [],
   "source": [
    "for i in assignments['lab']:\n",
    "    grades_clean_nan[i + 'late weight'] = lateness_penalty(grades[i + ' - Lateness (H:M:S)'])"
   ]
  },
  {
   "cell_type": "code",
   "execution_count": 30,
   "metadata": {},
   "outputs": [],
   "source": [
    "df_late_apply = pd.DataFrame(index = grades.index)\n",
    "for i in assignments['lab']:\n",
    "    df_late_apply[i] = (grades_clean_nan[i] * lateness_penalty(grades[i + ' - Lateness (H:M:S)'])) / grades[i + ' - Max Points']"
   ]
  },
  {
   "cell_type": "code",
   "execution_count": 31,
   "metadata": {},
   "outputs": [
    {
     "data": {
      "text/html": [
       "<div>\n",
       "<style scoped>\n",
       "    .dataframe tbody tr th:only-of-type {\n",
       "        vertical-align: middle;\n",
       "    }\n",
       "\n",
       "    .dataframe tbody tr th {\n",
       "        vertical-align: top;\n",
       "    }\n",
       "\n",
       "    .dataframe thead th {\n",
       "        text-align: right;\n",
       "    }\n",
       "</style>\n",
       "<table border=\"1\" class=\"dataframe\">\n",
       "  <thead>\n",
       "    <tr style=\"text-align: right;\">\n",
       "      <th></th>\n",
       "      <th>lab01</th>\n",
       "      <th>lab02</th>\n",
       "      <th>lab03</th>\n",
       "      <th>lab04</th>\n",
       "      <th>lab05</th>\n",
       "      <th>lab06</th>\n",
       "      <th>lab07</th>\n",
       "      <th>lab08</th>\n",
       "      <th>lab09</th>\n",
       "    </tr>\n",
       "  </thead>\n",
       "  <tbody>\n",
       "    <tr>\n",
       "      <th>0</th>\n",
       "      <td>0.997353</td>\n",
       "      <td>0.849902</td>\n",
       "      <td>0.637744</td>\n",
       "      <td>1.000000</td>\n",
       "      <td>1.000000</td>\n",
       "      <td>0.994518</td>\n",
       "      <td>0.389141</td>\n",
       "      <td>0.887917</td>\n",
       "      <td>0.874913</td>\n",
       "    </tr>\n",
       "    <tr>\n",
       "      <th>1</th>\n",
       "      <td>0.695868</td>\n",
       "      <td>0.754551</td>\n",
       "      <td>0.845941</td>\n",
       "      <td>0.602318</td>\n",
       "      <td>0.684272</td>\n",
       "      <td>0.826176</td>\n",
       "      <td>0.808547</td>\n",
       "      <td>0.564078</td>\n",
       "      <td>0.738946</td>\n",
       "    </tr>\n",
       "    <tr>\n",
       "      <th>2</th>\n",
       "      <td>0.999169</td>\n",
       "      <td>0.000000</td>\n",
       "      <td>0.897213</td>\n",
       "      <td>0.821430</td>\n",
       "      <td>0.975664</td>\n",
       "      <td>0.925228</td>\n",
       "      <td>0.945667</td>\n",
       "      <td>0.866245</td>\n",
       "      <td>0.629165</td>\n",
       "    </tr>\n",
       "    <tr>\n",
       "      <th>3</th>\n",
       "      <td>0.988295</td>\n",
       "      <td>0.507842</td>\n",
       "      <td>0.714477</td>\n",
       "      <td>0.783672</td>\n",
       "      <td>1.000000</td>\n",
       "      <td>0.393887</td>\n",
       "      <td>0.914061</td>\n",
       "      <td>0.944378</td>\n",
       "      <td>0.902977</td>\n",
       "    </tr>\n",
       "    <tr>\n",
       "      <th>4</th>\n",
       "      <td>0.863707</td>\n",
       "      <td>0.000000</td>\n",
       "      <td>0.519795</td>\n",
       "      <td>0.789136</td>\n",
       "      <td>0.904054</td>\n",
       "      <td>0.400000</td>\n",
       "      <td>0.938467</td>\n",
       "      <td>0.935151</td>\n",
       "      <td>0.873984</td>\n",
       "    </tr>\n",
       "    <tr>\n",
       "      <th>...</th>\n",
       "      <td>...</td>\n",
       "      <td>...</td>\n",
       "      <td>...</td>\n",
       "      <td>...</td>\n",
       "      <td>...</td>\n",
       "      <td>...</td>\n",
       "      <td>...</td>\n",
       "      <td>...</td>\n",
       "      <td>...</td>\n",
       "    </tr>\n",
       "    <tr>\n",
       "      <th>530</th>\n",
       "      <td>0.900000</td>\n",
       "      <td>0.820228</td>\n",
       "      <td>1.000000</td>\n",
       "      <td>0.792935</td>\n",
       "      <td>1.000000</td>\n",
       "      <td>0.284106</td>\n",
       "      <td>0.770281</td>\n",
       "      <td>0.931245</td>\n",
       "      <td>1.000000</td>\n",
       "    </tr>\n",
       "    <tr>\n",
       "      <th>531</th>\n",
       "      <td>1.000000</td>\n",
       "      <td>0.874981</td>\n",
       "      <td>0.809945</td>\n",
       "      <td>0.592866</td>\n",
       "      <td>0.987597</td>\n",
       "      <td>0.759688</td>\n",
       "      <td>0.856178</td>\n",
       "      <td>0.849694</td>\n",
       "      <td>0.582645</td>\n",
       "    </tr>\n",
       "    <tr>\n",
       "      <th>532</th>\n",
       "      <td>0.886566</td>\n",
       "      <td>0.903260</td>\n",
       "      <td>1.000000</td>\n",
       "      <td>1.000000</td>\n",
       "      <td>0.941425</td>\n",
       "      <td>0.768909</td>\n",
       "      <td>0.967282</td>\n",
       "      <td>0.877898</td>\n",
       "      <td>1.000000</td>\n",
       "    </tr>\n",
       "    <tr>\n",
       "      <th>533</th>\n",
       "      <td>0.837997</td>\n",
       "      <td>0.856369</td>\n",
       "      <td>0.909363</td>\n",
       "      <td>0.955287</td>\n",
       "      <td>0.737854</td>\n",
       "      <td>0.382781</td>\n",
       "      <td>0.769093</td>\n",
       "      <td>0.947450</td>\n",
       "      <td>0.867373</td>\n",
       "    </tr>\n",
       "    <tr>\n",
       "      <th>534</th>\n",
       "      <td>0.883893</td>\n",
       "      <td>0.730452</td>\n",
       "      <td>0.944795</td>\n",
       "      <td>0.819100</td>\n",
       "      <td>0.890968</td>\n",
       "      <td>0.858277</td>\n",
       "      <td>0.989410</td>\n",
       "      <td>0.807974</td>\n",
       "      <td>0.663745</td>\n",
       "    </tr>\n",
       "  </tbody>\n",
       "</table>\n",
       "<p>535 rows × 9 columns</p>\n",
       "</div>"
      ],
      "text/plain": [
       "        lab01     lab02     lab03     lab04     lab05     lab06     lab07  \\\n",
       "0    0.997353  0.849902  0.637744  1.000000  1.000000  0.994518  0.389141   \n",
       "1    0.695868  0.754551  0.845941  0.602318  0.684272  0.826176  0.808547   \n",
       "2    0.999169  0.000000  0.897213  0.821430  0.975664  0.925228  0.945667   \n",
       "3    0.988295  0.507842  0.714477  0.783672  1.000000  0.393887  0.914061   \n",
       "4    0.863707  0.000000  0.519795  0.789136  0.904054  0.400000  0.938467   \n",
       "..        ...       ...       ...       ...       ...       ...       ...   \n",
       "530  0.900000  0.820228  1.000000  0.792935  1.000000  0.284106  0.770281   \n",
       "531  1.000000  0.874981  0.809945  0.592866  0.987597  0.759688  0.856178   \n",
       "532  0.886566  0.903260  1.000000  1.000000  0.941425  0.768909  0.967282   \n",
       "533  0.837997  0.856369  0.909363  0.955287  0.737854  0.382781  0.769093   \n",
       "534  0.883893  0.730452  0.944795  0.819100  0.890968  0.858277  0.989410   \n",
       "\n",
       "        lab08     lab09  \n",
       "0    0.887917  0.874913  \n",
       "1    0.564078  0.738946  \n",
       "2    0.866245  0.629165  \n",
       "3    0.944378  0.902977  \n",
       "4    0.935151  0.873984  \n",
       "..        ...       ...  \n",
       "530  0.931245  1.000000  \n",
       "531  0.849694  0.582645  \n",
       "532  0.877898  1.000000  \n",
       "533  0.947450  0.867373  \n",
       "534  0.807974  0.663745  \n",
       "\n",
       "[535 rows x 9 columns]"
      ]
     },
     "execution_count": 31,
     "metadata": {},
     "output_type": "execute_result"
    }
   ],
   "source": [
    "df_late_apply"
   ]
  },
  {
   "cell_type": "code",
   "execution_count": 26,
   "metadata": {
    "scrolled": true,
    "tags": []
   },
   "outputs": [
    {
     "data": {
      "text/plain": [
       "0      674.485361\n",
       "1      582.201672\n",
       "2      631.371587\n",
       "3      633.901741\n",
       "4      545.608594\n",
       "          ...    \n",
       "530    665.617886\n",
       "531    661.203880\n",
       "532    744.757706\n",
       "533    655.110736\n",
       "534    686.070948\n",
       "Length: 535, dtype: float64"
      ]
     },
     "execution_count": 26,
     "metadata": {},
     "output_type": "execute_result"
    }
   ],
   "source": [
    "df_late_apply.sum(axis = 1)"
   ]
  },
  {
   "cell_type": "code",
   "execution_count": 23,
   "metadata": {
    "scrolled": true
   },
   "outputs": [
    {
     "data": {
      "text/html": [
       "<div>\n",
       "<style scoped>\n",
       "    .dataframe tbody tr th:only-of-type {\n",
       "        vertical-align: middle;\n",
       "    }\n",
       "\n",
       "    .dataframe tbody tr th {\n",
       "        vertical-align: top;\n",
       "    }\n",
       "\n",
       "    .dataframe thead th {\n",
       "        text-align: right;\n",
       "    }\n",
       "</style>\n",
       "<table border=\"1\" class=\"dataframe\">\n",
       "  <thead>\n",
       "    <tr style=\"text-align: right;\">\n",
       "      <th></th>\n",
       "      <th>lab01</th>\n",
       "      <th>lab02</th>\n",
       "      <th>lab03</th>\n",
       "      <th>lab04</th>\n",
       "      <th>lab05</th>\n",
       "      <th>lab06</th>\n",
       "      <th>lab07</th>\n",
       "      <th>lab08</th>\n",
       "      <th>lab09</th>\n",
       "      <th>lab01late weight</th>\n",
       "      <th>...</th>\n",
       "      <th>lab09late weight</th>\n",
       "      <th>lab01late applied</th>\n",
       "      <th>lab02late applied</th>\n",
       "      <th>lab03late applied</th>\n",
       "      <th>lab04late applied</th>\n",
       "      <th>lab05late applied</th>\n",
       "      <th>lab06late applied</th>\n",
       "      <th>lab07late applied</th>\n",
       "      <th>lab08late applied</th>\n",
       "      <th>lab09late applied</th>\n",
       "    </tr>\n",
       "  </thead>\n",
       "  <tbody>\n",
       "    <tr>\n",
       "      <th>0</th>\n",
       "      <td>99.735279</td>\n",
       "      <td>84.990171</td>\n",
       "      <td>91.106354</td>\n",
       "      <td>100.000000</td>\n",
       "      <td>70.000000</td>\n",
       "      <td>84.534049</td>\n",
       "      <td>97.285131</td>\n",
       "      <td>88.791712</td>\n",
       "      <td>43.745650</td>\n",
       "      <td>1.0</td>\n",
       "      <td>...</td>\n",
       "      <td>1.0</td>\n",
       "      <td>99.735279</td>\n",
       "      <td>84.990171</td>\n",
       "      <td>63.774447</td>\n",
       "      <td>100.000000</td>\n",
       "      <td>70.000000</td>\n",
       "      <td>84.534049</td>\n",
       "      <td>38.914053</td>\n",
       "      <td>88.791712</td>\n",
       "      <td>43.745650</td>\n",
       "    </tr>\n",
       "    <tr>\n",
       "      <th>1</th>\n",
       "      <td>69.586809</td>\n",
       "      <td>75.455147</td>\n",
       "      <td>84.594115</td>\n",
       "      <td>66.924208</td>\n",
       "      <td>47.899066</td>\n",
       "      <td>70.224934</td>\n",
       "      <td>80.854734</td>\n",
       "      <td>56.407798</td>\n",
       "      <td>36.947283</td>\n",
       "      <td>1.0</td>\n",
       "      <td>...</td>\n",
       "      <td>1.0</td>\n",
       "      <td>69.586809</td>\n",
       "      <td>75.455147</td>\n",
       "      <td>84.594115</td>\n",
       "      <td>60.231787</td>\n",
       "      <td>47.899066</td>\n",
       "      <td>70.224934</td>\n",
       "      <td>80.854734</td>\n",
       "      <td>56.407798</td>\n",
       "      <td>36.947283</td>\n",
       "    </tr>\n",
       "    <tr>\n",
       "      <th>2</th>\n",
       "      <td>99.916912</td>\n",
       "      <td>0.000000</td>\n",
       "      <td>89.721294</td>\n",
       "      <td>91.269980</td>\n",
       "      <td>68.296467</td>\n",
       "      <td>78.644413</td>\n",
       "      <td>94.566724</td>\n",
       "      <td>86.624530</td>\n",
       "      <td>31.458266</td>\n",
       "      <td>1.0</td>\n",
       "      <td>...</td>\n",
       "      <td>1.0</td>\n",
       "      <td>99.916912</td>\n",
       "      <td>0.000000</td>\n",
       "      <td>89.721294</td>\n",
       "      <td>82.142982</td>\n",
       "      <td>68.296467</td>\n",
       "      <td>78.644413</td>\n",
       "      <td>94.566724</td>\n",
       "      <td>86.624530</td>\n",
       "      <td>31.458266</td>\n",
       "    </tr>\n",
       "    <tr>\n",
       "      <th>3</th>\n",
       "      <td>98.829476</td>\n",
       "      <td>50.784231</td>\n",
       "      <td>71.447699</td>\n",
       "      <td>78.367244</td>\n",
       "      <td>70.000000</td>\n",
       "      <td>83.700983</td>\n",
       "      <td>91.406063</td>\n",
       "      <td>94.437778</td>\n",
       "      <td>45.148857</td>\n",
       "      <td>1.0</td>\n",
       "      <td>...</td>\n",
       "      <td>1.0</td>\n",
       "      <td>98.829476</td>\n",
       "      <td>50.784231</td>\n",
       "      <td>71.447699</td>\n",
       "      <td>78.367244</td>\n",
       "      <td>70.000000</td>\n",
       "      <td>33.480393</td>\n",
       "      <td>91.406063</td>\n",
       "      <td>94.437778</td>\n",
       "      <td>45.148857</td>\n",
       "    </tr>\n",
       "    <tr>\n",
       "      <th>4</th>\n",
       "      <td>86.370726</td>\n",
       "      <td>0.000000</td>\n",
       "      <td>74.256403</td>\n",
       "      <td>87.681782</td>\n",
       "      <td>63.283773</td>\n",
       "      <td>85.000000</td>\n",
       "      <td>93.846704</td>\n",
       "      <td>93.515112</td>\n",
       "      <td>43.699192</td>\n",
       "      <td>1.0</td>\n",
       "      <td>...</td>\n",
       "      <td>1.0</td>\n",
       "      <td>86.370726</td>\n",
       "      <td>0.000000</td>\n",
       "      <td>51.979482</td>\n",
       "      <td>78.913604</td>\n",
       "      <td>63.283773</td>\n",
       "      <td>34.000000</td>\n",
       "      <td>93.846704</td>\n",
       "      <td>93.515112</td>\n",
       "      <td>43.699192</td>\n",
       "    </tr>\n",
       "    <tr>\n",
       "      <th>...</th>\n",
       "      <td>...</td>\n",
       "      <td>...</td>\n",
       "      <td>...</td>\n",
       "      <td>...</td>\n",
       "      <td>...</td>\n",
       "      <td>...</td>\n",
       "      <td>...</td>\n",
       "      <td>...</td>\n",
       "      <td>...</td>\n",
       "      <td>...</td>\n",
       "      <td>...</td>\n",
       "      <td>...</td>\n",
       "      <td>...</td>\n",
       "      <td>...</td>\n",
       "      <td>...</td>\n",
       "      <td>...</td>\n",
       "      <td>...</td>\n",
       "      <td>...</td>\n",
       "      <td>...</td>\n",
       "      <td>...</td>\n",
       "      <td>...</td>\n",
       "    </tr>\n",
       "    <tr>\n",
       "      <th>530</th>\n",
       "      <td>100.000000</td>\n",
       "      <td>82.022753</td>\n",
       "      <td>100.000000</td>\n",
       "      <td>88.103895</td>\n",
       "      <td>70.000000</td>\n",
       "      <td>60.372530</td>\n",
       "      <td>77.028069</td>\n",
       "      <td>93.124547</td>\n",
       "      <td>50.000000</td>\n",
       "      <td>0.9</td>\n",
       "      <td>...</td>\n",
       "      <td>1.0</td>\n",
       "      <td>90.000000</td>\n",
       "      <td>82.022753</td>\n",
       "      <td>100.000000</td>\n",
       "      <td>79.293506</td>\n",
       "      <td>70.000000</td>\n",
       "      <td>24.149012</td>\n",
       "      <td>77.028069</td>\n",
       "      <td>93.124547</td>\n",
       "      <td>50.000000</td>\n",
       "    </tr>\n",
       "    <tr>\n",
       "      <th>531</th>\n",
       "      <td>100.000000</td>\n",
       "      <td>87.498073</td>\n",
       "      <td>80.994468</td>\n",
       "      <td>65.873998</td>\n",
       "      <td>69.131760</td>\n",
       "      <td>64.573469</td>\n",
       "      <td>85.617836</td>\n",
       "      <td>84.969411</td>\n",
       "      <td>29.132265</td>\n",
       "      <td>1.0</td>\n",
       "      <td>...</td>\n",
       "      <td>1.0</td>\n",
       "      <td>100.000000</td>\n",
       "      <td>87.498073</td>\n",
       "      <td>80.994468</td>\n",
       "      <td>59.286598</td>\n",
       "      <td>69.131760</td>\n",
       "      <td>64.573469</td>\n",
       "      <td>85.617836</td>\n",
       "      <td>84.969411</td>\n",
       "      <td>29.132265</td>\n",
       "    </tr>\n",
       "    <tr>\n",
       "      <th>532</th>\n",
       "      <td>88.656641</td>\n",
       "      <td>90.326041</td>\n",
       "      <td>100.000000</td>\n",
       "      <td>100.000000</td>\n",
       "      <td>65.899735</td>\n",
       "      <td>65.357255</td>\n",
       "      <td>96.728227</td>\n",
       "      <td>87.789808</td>\n",
       "      <td>50.000000</td>\n",
       "      <td>1.0</td>\n",
       "      <td>...</td>\n",
       "      <td>1.0</td>\n",
       "      <td>88.656641</td>\n",
       "      <td>90.326041</td>\n",
       "      <td>100.000000</td>\n",
       "      <td>100.000000</td>\n",
       "      <td>65.899735</td>\n",
       "      <td>65.357255</td>\n",
       "      <td>96.728227</td>\n",
       "      <td>87.789808</td>\n",
       "      <td>50.000000</td>\n",
       "    </tr>\n",
       "    <tr>\n",
       "      <th>533</th>\n",
       "      <td>83.799719</td>\n",
       "      <td>85.636947</td>\n",
       "      <td>90.936251</td>\n",
       "      <td>95.528740</td>\n",
       "      <td>51.649780</td>\n",
       "      <td>81.340995</td>\n",
       "      <td>76.909286</td>\n",
       "      <td>94.744971</td>\n",
       "      <td>43.368644</td>\n",
       "      <td>1.0</td>\n",
       "      <td>...</td>\n",
       "      <td>1.0</td>\n",
       "      <td>83.799719</td>\n",
       "      <td>85.636947</td>\n",
       "      <td>90.936251</td>\n",
       "      <td>95.528740</td>\n",
       "      <td>51.649780</td>\n",
       "      <td>32.536398</td>\n",
       "      <td>76.909286</td>\n",
       "      <td>94.744971</td>\n",
       "      <td>43.368644</td>\n",
       "    </tr>\n",
       "    <tr>\n",
       "      <th>534</th>\n",
       "      <td>88.389331</td>\n",
       "      <td>73.045171</td>\n",
       "      <td>94.479542</td>\n",
       "      <td>81.909969</td>\n",
       "      <td>62.367750</td>\n",
       "      <td>72.953550</td>\n",
       "      <td>98.940982</td>\n",
       "      <td>80.797380</td>\n",
       "      <td>33.187273</td>\n",
       "      <td>1.0</td>\n",
       "      <td>...</td>\n",
       "      <td>1.0</td>\n",
       "      <td>88.389331</td>\n",
       "      <td>73.045171</td>\n",
       "      <td>94.479542</td>\n",
       "      <td>81.909969</td>\n",
       "      <td>62.367750</td>\n",
       "      <td>72.953550</td>\n",
       "      <td>98.940982</td>\n",
       "      <td>80.797380</td>\n",
       "      <td>33.187273</td>\n",
       "    </tr>\n",
       "  </tbody>\n",
       "</table>\n",
       "<p>535 rows × 27 columns</p>\n",
       "</div>"
      ],
      "text/plain": [
       "          lab01      lab02       lab03       lab04      lab05      lab06  \\\n",
       "0     99.735279  84.990171   91.106354  100.000000  70.000000  84.534049   \n",
       "1     69.586809  75.455147   84.594115   66.924208  47.899066  70.224934   \n",
       "2     99.916912   0.000000   89.721294   91.269980  68.296467  78.644413   \n",
       "3     98.829476  50.784231   71.447699   78.367244  70.000000  83.700983   \n",
       "4     86.370726   0.000000   74.256403   87.681782  63.283773  85.000000   \n",
       "..          ...        ...         ...         ...        ...        ...   \n",
       "530  100.000000  82.022753  100.000000   88.103895  70.000000  60.372530   \n",
       "531  100.000000  87.498073   80.994468   65.873998  69.131760  64.573469   \n",
       "532   88.656641  90.326041  100.000000  100.000000  65.899735  65.357255   \n",
       "533   83.799719  85.636947   90.936251   95.528740  51.649780  81.340995   \n",
       "534   88.389331  73.045171   94.479542   81.909969  62.367750  72.953550   \n",
       "\n",
       "         lab07      lab08      lab09  lab01late weight  ...  lab09late weight  \\\n",
       "0    97.285131  88.791712  43.745650               1.0  ...               1.0   \n",
       "1    80.854734  56.407798  36.947283               1.0  ...               1.0   \n",
       "2    94.566724  86.624530  31.458266               1.0  ...               1.0   \n",
       "3    91.406063  94.437778  45.148857               1.0  ...               1.0   \n",
       "4    93.846704  93.515112  43.699192               1.0  ...               1.0   \n",
       "..         ...        ...        ...               ...  ...               ...   \n",
       "530  77.028069  93.124547  50.000000               0.9  ...               1.0   \n",
       "531  85.617836  84.969411  29.132265               1.0  ...               1.0   \n",
       "532  96.728227  87.789808  50.000000               1.0  ...               1.0   \n",
       "533  76.909286  94.744971  43.368644               1.0  ...               1.0   \n",
       "534  98.940982  80.797380  33.187273               1.0  ...               1.0   \n",
       "\n",
       "     lab01late applied   lab02late applied   lab03late applied   \\\n",
       "0             99.735279           84.990171           63.774447   \n",
       "1             69.586809           75.455147           84.594115   \n",
       "2             99.916912            0.000000           89.721294   \n",
       "3             98.829476           50.784231           71.447699   \n",
       "4             86.370726            0.000000           51.979482   \n",
       "..                  ...                 ...                 ...   \n",
       "530           90.000000           82.022753          100.000000   \n",
       "531          100.000000           87.498073           80.994468   \n",
       "532           88.656641           90.326041          100.000000   \n",
       "533           83.799719           85.636947           90.936251   \n",
       "534           88.389331           73.045171           94.479542   \n",
       "\n",
       "     lab04late applied   lab05late applied   lab06late applied   \\\n",
       "0            100.000000           70.000000           84.534049   \n",
       "1             60.231787           47.899066           70.224934   \n",
       "2             82.142982           68.296467           78.644413   \n",
       "3             78.367244           70.000000           33.480393   \n",
       "4             78.913604           63.283773           34.000000   \n",
       "..                  ...                 ...                 ...   \n",
       "530           79.293506           70.000000           24.149012   \n",
       "531           59.286598           69.131760           64.573469   \n",
       "532          100.000000           65.899735           65.357255   \n",
       "533           95.528740           51.649780           32.536398   \n",
       "534           81.909969           62.367750           72.953550   \n",
       "\n",
       "     lab07late applied   lab08late applied   lab09late applied   \n",
       "0             38.914053           88.791712           43.745650  \n",
       "1             80.854734           56.407798           36.947283  \n",
       "2             94.566724           86.624530           31.458266  \n",
       "3             91.406063           94.437778           45.148857  \n",
       "4             93.846704           93.515112           43.699192  \n",
       "..                  ...                 ...                 ...  \n",
       "530           77.028069           93.124547           50.000000  \n",
       "531           85.617836           84.969411           29.132265  \n",
       "532           96.728227           87.789808           50.000000  \n",
       "533           76.909286           94.744971           43.368644  \n",
       "534           98.940982           80.797380           33.187273  \n",
       "\n",
       "[535 rows x 27 columns]"
      ]
     },
     "execution_count": 23,
     "metadata": {},
     "output_type": "execute_result"
    }
   ],
   "source": [
    "grades_clean_nan"
   ]
  },
  {
   "cell_type": "code",
   "execution_count": 130,
   "metadata": {
    "scrolled": true
   },
   "outputs": [
    {
     "data": {
      "text/html": [
       "<div>\n",
       "<style scoped>\n",
       "    .dataframe tbody tr th:only-of-type {\n",
       "        vertical-align: middle;\n",
       "    }\n",
       "\n",
       "    .dataframe tbody tr th {\n",
       "        vertical-align: top;\n",
       "    }\n",
       "\n",
       "    .dataframe thead th {\n",
       "        text-align: right;\n",
       "    }\n",
       "</style>\n",
       "<table border=\"1\" class=\"dataframe\">\n",
       "  <thead>\n",
       "    <tr style=\"text-align: right;\">\n",
       "      <th></th>\n",
       "      <th>lab01</th>\n",
       "      <th>lab02</th>\n",
       "      <th>lab03</th>\n",
       "      <th>lab04</th>\n",
       "      <th>lab05</th>\n",
       "      <th>lab06</th>\n",
       "      <th>lab07</th>\n",
       "      <th>lab08</th>\n",
       "      <th>lab09</th>\n",
       "    </tr>\n",
       "  </thead>\n",
       "  <tbody>\n",
       "    <tr>\n",
       "      <th>0</th>\n",
       "      <td>0.997353</td>\n",
       "      <td>0.849902</td>\n",
       "      <td>0.637744</td>\n",
       "      <td>1.000000</td>\n",
       "      <td>1.000000</td>\n",
       "      <td>0.994518</td>\n",
       "      <td>0.389141</td>\n",
       "      <td>0.887917</td>\n",
       "      <td>0.874913</td>\n",
       "    </tr>\n",
       "    <tr>\n",
       "      <th>1</th>\n",
       "      <td>0.988295</td>\n",
       "      <td>0.507842</td>\n",
       "      <td>0.714477</td>\n",
       "      <td>0.783672</td>\n",
       "      <td>1.000000</td>\n",
       "      <td>0.393887</td>\n",
       "      <td>0.914061</td>\n",
       "      <td>0.944378</td>\n",
       "      <td>0.902977</td>\n",
       "    </tr>\n",
       "    <tr>\n",
       "      <th>2</th>\n",
       "      <td>0.865134</td>\n",
       "      <td>0.478028</td>\n",
       "      <td>0.433667</td>\n",
       "      <td>0.738875</td>\n",
       "      <td>0.927838</td>\n",
       "      <td>0.345076</td>\n",
       "      <td>0.734070</td>\n",
       "      <td>0.718204</td>\n",
       "      <td>0.757840</td>\n",
       "    </tr>\n",
       "    <tr>\n",
       "      <th>3</th>\n",
       "      <td>1.000000</td>\n",
       "      <td>1.000000</td>\n",
       "      <td>0.925903</td>\n",
       "      <td>0.950614</td>\n",
       "      <td>0.891614</td>\n",
       "      <td>0.688403</td>\n",
       "      <td>0.985371</td>\n",
       "      <td>0.963307</td>\n",
       "      <td>0.777880</td>\n",
       "    </tr>\n",
       "    <tr>\n",
       "      <th>4</th>\n",
       "      <td>0.665070</td>\n",
       "      <td>0.334224</td>\n",
       "      <td>0.706932</td>\n",
       "      <td>0.747915</td>\n",
       "      <td>0.659720</td>\n",
       "      <td>0.731345</td>\n",
       "      <td>0.607859</td>\n",
       "      <td>0.370186</td>\n",
       "      <td>1.000000</td>\n",
       "    </tr>\n",
       "    <tr>\n",
       "      <th>...</th>\n",
       "      <td>...</td>\n",
       "      <td>...</td>\n",
       "      <td>...</td>\n",
       "      <td>...</td>\n",
       "      <td>...</td>\n",
       "      <td>...</td>\n",
       "      <td>...</td>\n",
       "      <td>...</td>\n",
       "      <td>...</td>\n",
       "    </tr>\n",
       "    <tr>\n",
       "      <th>530</th>\n",
       "      <td>0.900000</td>\n",
       "      <td>0.820228</td>\n",
       "      <td>1.000000</td>\n",
       "      <td>0.792935</td>\n",
       "      <td>1.000000</td>\n",
       "      <td>0.284106</td>\n",
       "      <td>0.770281</td>\n",
       "      <td>0.931245</td>\n",
       "      <td>1.000000</td>\n",
       "    </tr>\n",
       "    <tr>\n",
       "      <th>531</th>\n",
       "      <td>1.000000</td>\n",
       "      <td>0.874981</td>\n",
       "      <td>0.809945</td>\n",
       "      <td>0.592866</td>\n",
       "      <td>0.987597</td>\n",
       "      <td>0.759688</td>\n",
       "      <td>0.856178</td>\n",
       "      <td>0.849694</td>\n",
       "      <td>0.582645</td>\n",
       "    </tr>\n",
       "    <tr>\n",
       "      <th>532</th>\n",
       "      <td>0.886566</td>\n",
       "      <td>0.903260</td>\n",
       "      <td>1.000000</td>\n",
       "      <td>1.000000</td>\n",
       "      <td>0.941425</td>\n",
       "      <td>0.768909</td>\n",
       "      <td>0.967282</td>\n",
       "      <td>0.877898</td>\n",
       "      <td>1.000000</td>\n",
       "    </tr>\n",
       "    <tr>\n",
       "      <th>533</th>\n",
       "      <td>0.837997</td>\n",
       "      <td>0.856369</td>\n",
       "      <td>0.909363</td>\n",
       "      <td>0.955287</td>\n",
       "      <td>0.737854</td>\n",
       "      <td>0.382781</td>\n",
       "      <td>0.769093</td>\n",
       "      <td>0.947450</td>\n",
       "      <td>0.867373</td>\n",
       "    </tr>\n",
       "    <tr>\n",
       "      <th>534</th>\n",
       "      <td>0.883893</td>\n",
       "      <td>0.730452</td>\n",
       "      <td>0.944795</td>\n",
       "      <td>0.819100</td>\n",
       "      <td>0.890968</td>\n",
       "      <td>0.858277</td>\n",
       "      <td>0.989410</td>\n",
       "      <td>0.807974</td>\n",
       "      <td>0.663745</td>\n",
       "    </tr>\n",
       "  </tbody>\n",
       "</table>\n",
       "<p>535 rows × 9 columns</p>\n",
       "</div>"
      ],
      "text/plain": [
       "        lab01     lab02     lab03     lab04     lab05     lab06     lab07  \\\n",
       "0    0.997353  0.849902  0.637744  1.000000  1.000000  0.994518  0.389141   \n",
       "1    0.988295  0.507842  0.714477  0.783672  1.000000  0.393887  0.914061   \n",
       "2    0.865134  0.478028  0.433667  0.738875  0.927838  0.345076  0.734070   \n",
       "3    1.000000  1.000000  0.925903  0.950614  0.891614  0.688403  0.985371   \n",
       "4    0.665070  0.334224  0.706932  0.747915  0.659720  0.731345  0.607859   \n",
       "..        ...       ...       ...       ...       ...       ...       ...   \n",
       "530  0.900000  0.820228  1.000000  0.792935  1.000000  0.284106  0.770281   \n",
       "531  1.000000  0.874981  0.809945  0.592866  0.987597  0.759688  0.856178   \n",
       "532  0.886566  0.903260  1.000000  1.000000  0.941425  0.768909  0.967282   \n",
       "533  0.837997  0.856369  0.909363  0.955287  0.737854  0.382781  0.769093   \n",
       "534  0.883893  0.730452  0.944795  0.819100  0.890968  0.858277  0.989410   \n",
       "\n",
       "        lab08     lab09  \n",
       "0    0.887917  0.874913  \n",
       "1    0.944378  0.902977  \n",
       "2    0.718204  0.757840  \n",
       "3    0.963307  0.777880  \n",
       "4    0.370186  1.000000  \n",
       "..        ...       ...  \n",
       "530  0.931245  1.000000  \n",
       "531  0.849694  0.582645  \n",
       "532  0.877898  1.000000  \n",
       "533  0.947450  0.867373  \n",
       "534  0.807974  0.663745  \n",
       "\n",
       "[535 rows x 9 columns]"
      ]
     },
     "execution_count": 130,
     "metadata": {},
     "output_type": "execute_result"
    }
   ],
   "source": [
    "process_labs(grades)#.iloc[13]"
   ]
  },
  {
   "cell_type": "code",
   "execution_count": 115,
   "metadata": {},
   "outputs": [
    {
     "data": {
      "text/plain": [
       "True"
      ]
     },
     "execution_count": 115,
     "metadata": {},
     "output_type": "execute_result"
    }
   ],
   "source": [
    "out = process_labs(grades)\n",
    "out.columns.tolist() == ['lab%02d' % x for x in range(1, 10)]"
   ]
  },
  {
   "cell_type": "code",
   "execution_count": null,
   "metadata": {},
   "outputs": [],
   "source": [
    "lab01    0.893585\n",
    "lab02    0.784569\n",
    "lab03    0.850241\n",
    "lab04    0.807901\n",
    "lab05    0.848179\n",
    "lab06    0.660588\n",
    "lab07    0.840851\n",
    "lab08    0.746800\n",
    "lab09    0.857812"
   ]
  },
  {
   "cell_type": "code",
   "execution_count": 117,
   "metadata": {
    "scrolled": true
   },
   "outputs": [
    {
     "data": {
      "text/plain": [
       "lab01    0.880223\n",
       "lab02    0.742041\n",
       "lab03    0.837527\n",
       "lab04    0.782230\n",
       "lab05    0.789520\n",
       "lab06    0.647006\n",
       "lab07    0.820419\n",
       "lab08    0.703528\n",
       "lab09    0.836968\n",
       "dtype: float64"
      ]
     },
     "execution_count": 117,
     "metadata": {},
     "output_type": "execute_result"
    }
   ],
   "source": [
    " out.mean()"
   ]
  },
  {
   "cell_type": "code",
   "execution_count": 146,
   "metadata": {
    "deletable": false,
    "editable": false,
    "scrolled": true
   },
   "outputs": [
    {
     "data": {
      "text/html": [
       "<p><strong><pre style='display: inline;'>q5</pre></strong> passed!</p>"
      ],
      "text/plain": [
       "q5 results: All test cases passed!"
      ]
     },
     "execution_count": 146,
     "metadata": {},
     "output_type": "execute_result"
    }
   ],
   "source": [
    "grader.check(\"q5\")"
   ]
  },
  {
   "cell_type": "code",
   "execution_count": 59,
   "metadata": {
    "scrolled": true
   },
   "outputs": [
    {
     "ename": "NameError",
     "evalue": "name 'out' is not defined",
     "output_type": "error",
     "traceback": [
      "\u001b[0;31m---------------------------------------------------------------------------\u001b[0m",
      "\u001b[0;31mNameError\u001b[0m                                 Traceback (most recent call last)",
      "Input \u001b[0;32mIn [59]\u001b[0m, in \u001b[0;36m<cell line: 1>\u001b[0;34m()\u001b[0m\n\u001b[0;32m----> 1\u001b[0m \u001b[43mout\u001b[49m\u001b[38;5;241m.\u001b[39mmean()\n",
      "\u001b[0;31mNameError\u001b[0m: name 'out' is not defined"
     ]
    }
   ],
   "source": [
    "out.mean()"
   ]
  },
  {
   "cell_type": "markdown",
   "metadata": {},
   "source": [
    "### Question 6\n",
    "\n",
    "Complete the implementation of the function `lab_total`, which takes in a DataFrame of processed assignments (like the output of Question 5) and returns a Series containing the total lab grade for each student according to [the syllabus](#The-Syllabus). Your answers should be proportions between 0 and 1. \n",
    "\n",
    "For example, if the class only has 3 labs, and a student received scores of 20%, 90%, and 100%, then your output should be `0.95`. This is because we drop the lowest score, and thus in effect we only compute the average of 90% and 100%, which is 95%, or 0.95 as a proportion.\n",
    "\n",
    "***Note:*** If a student does not turn in a lab, their score for that lab is a 0."
   ]
  },
  {
   "cell_type": "code",
   "execution_count": 39,
   "metadata": {
    "scrolled": true
   },
   "outputs": [
    {
     "data": {
      "text/plain": [
       "0      7.631488\n",
       "1      6.520698\n",
       "2      7.059782\n",
       "3      7.149589\n",
       "4      6.224294\n",
       "         ...   \n",
       "530    7.498795\n",
       "531    7.313594\n",
       "532    8.345341\n",
       "533    7.263567\n",
       "534    7.588614\n",
       "Length: 535, dtype: float64"
      ]
     },
     "execution_count": 39,
     "metadata": {},
     "output_type": "execute_result"
    }
   ],
   "source": [
    "out process_labs(grades).sum(axis = 1)"
   ]
  },
  {
   "cell_type": "code",
   "execution_count": 40,
   "metadata": {
    "scrolled": true
   },
   "outputs": [
    {
     "data": {
      "text/plain": [
       "0      0.389141\n",
       "1      0.564078\n",
       "2      0.000000\n",
       "3      0.393887\n",
       "4      0.000000\n",
       "         ...   \n",
       "530    0.284106\n",
       "531    0.582645\n",
       "532    0.768909\n",
       "533    0.382781\n",
       "534    0.663745\n",
       "Length: 535, dtype: float64"
      ]
     },
     "execution_count": 40,
     "metadata": {},
     "output_type": "execute_result"
    }
   ],
   "source": [
    "process_labs(grades).min(axis = 1)"
   ]
  },
  {
   "cell_type": "code",
   "execution_count": 41,
   "metadata": {},
   "outputs": [],
   "source": [
    "assigns = get_assignment_names(grades)"
   ]
  },
  {
   "cell_type": "code",
   "execution_count": 47,
   "metadata": {
    "scrolled": true,
    "tags": []
   },
   "outputs": [
    {
     "data": {
      "text/plain": [
       "0      0.905293\n",
       "1      0.744577\n",
       "2      0.882473\n",
       "3      0.844463\n",
       "4      0.778037\n",
       "         ...   \n",
       "530    0.901836\n",
       "531    0.841369\n",
       "532    0.947054\n",
       "533    0.860098\n",
       "534    0.865609\n",
       "Length: 535, dtype: float64"
      ]
     },
     "execution_count": 47,
     "metadata": {},
     "output_type": "execute_result"
    }
   ],
   "source": [
    "df_labs = process_labs(grades)\n",
    "(df_labs.sum(axis = 1) - df_labs.min(axis = 1)) / (df_labs.shape[1] - 1) "
   ]
  },
  {
   "cell_type": "code",
   "execution_count": 44,
   "metadata": {
    "tags": []
   },
   "outputs": [
    {
     "data": {
      "text/plain": [
       "(535, 9)"
      ]
     },
     "execution_count": 44,
     "metadata": {},
     "output_type": "execute_result"
    }
   ],
   "source": [
    "df_labs.shape"
   ]
  },
  {
   "cell_type": "code",
   "execution_count": 148,
   "metadata": {},
   "outputs": [
    {
     "data": {
      "text/plain": [
       "0.660587942294387"
      ]
     },
     "execution_count": 148,
     "metadata": {},
     "output_type": "execute_result"
    }
   ],
   "source": [
    "out = process_labs(grades)\n",
    "out['lab06'].mean()"
   ]
  },
  {
   "cell_type": "code",
   "execution_count": 150,
   "metadata": {},
   "outputs": [
    {
     "data": {
      "text/html": [
       "<div>\n",
       "<style scoped>\n",
       "    .dataframe tbody tr th:only-of-type {\n",
       "        vertical-align: middle;\n",
       "    }\n",
       "\n",
       "    .dataframe tbody tr th {\n",
       "        vertical-align: top;\n",
       "    }\n",
       "\n",
       "    .dataframe thead th {\n",
       "        text-align: right;\n",
       "    }\n",
       "</style>\n",
       "<table border=\"1\" class=\"dataframe\">\n",
       "  <thead>\n",
       "    <tr style=\"text-align: right;\">\n",
       "      <th></th>\n",
       "      <th>lab01</th>\n",
       "      <th>lab02</th>\n",
       "      <th>lab03</th>\n",
       "      <th>lab04</th>\n",
       "      <th>lab05</th>\n",
       "      <th>lab06</th>\n",
       "      <th>lab07</th>\n",
       "      <th>lab08</th>\n",
       "      <th>lab09</th>\n",
       "    </tr>\n",
       "  </thead>\n",
       "  <tbody>\n",
       "    <tr>\n",
       "      <th>0</th>\n",
       "      <td>0.997353</td>\n",
       "      <td>0.849902</td>\n",
       "      <td>0.637744</td>\n",
       "      <td>1.000000</td>\n",
       "      <td>1.000000</td>\n",
       "      <td>0.994518</td>\n",
       "      <td>0.389141</td>\n",
       "      <td>0.887917</td>\n",
       "      <td>0.874913</td>\n",
       "    </tr>\n",
       "    <tr>\n",
       "      <th>1</th>\n",
       "      <td>0.695868</td>\n",
       "      <td>0.754551</td>\n",
       "      <td>0.845941</td>\n",
       "      <td>0.602318</td>\n",
       "      <td>0.684272</td>\n",
       "      <td>0.826176</td>\n",
       "      <td>0.808547</td>\n",
       "      <td>0.564078</td>\n",
       "      <td>0.738946</td>\n",
       "    </tr>\n",
       "    <tr>\n",
       "      <th>2</th>\n",
       "      <td>0.999169</td>\n",
       "      <td>NaN</td>\n",
       "      <td>0.897213</td>\n",
       "      <td>0.821430</td>\n",
       "      <td>0.975664</td>\n",
       "      <td>0.925228</td>\n",
       "      <td>0.945667</td>\n",
       "      <td>0.866245</td>\n",
       "      <td>0.629165</td>\n",
       "    </tr>\n",
       "    <tr>\n",
       "      <th>3</th>\n",
       "      <td>0.988295</td>\n",
       "      <td>0.507842</td>\n",
       "      <td>0.714477</td>\n",
       "      <td>0.783672</td>\n",
       "      <td>1.000000</td>\n",
       "      <td>0.393887</td>\n",
       "      <td>0.914061</td>\n",
       "      <td>0.944378</td>\n",
       "      <td>0.902977</td>\n",
       "    </tr>\n",
       "    <tr>\n",
       "      <th>4</th>\n",
       "      <td>0.863707</td>\n",
       "      <td>NaN</td>\n",
       "      <td>0.519795</td>\n",
       "      <td>0.789136</td>\n",
       "      <td>0.904054</td>\n",
       "      <td>0.400000</td>\n",
       "      <td>0.938467</td>\n",
       "      <td>0.935151</td>\n",
       "      <td>0.873984</td>\n",
       "    </tr>\n",
       "    <tr>\n",
       "      <th>...</th>\n",
       "      <td>...</td>\n",
       "      <td>...</td>\n",
       "      <td>...</td>\n",
       "      <td>...</td>\n",
       "      <td>...</td>\n",
       "      <td>...</td>\n",
       "      <td>...</td>\n",
       "      <td>...</td>\n",
       "      <td>...</td>\n",
       "    </tr>\n",
       "    <tr>\n",
       "      <th>530</th>\n",
       "      <td>0.900000</td>\n",
       "      <td>0.820228</td>\n",
       "      <td>1.000000</td>\n",
       "      <td>0.792935</td>\n",
       "      <td>1.000000</td>\n",
       "      <td>0.284106</td>\n",
       "      <td>0.770281</td>\n",
       "      <td>0.931245</td>\n",
       "      <td>1.000000</td>\n",
       "    </tr>\n",
       "    <tr>\n",
       "      <th>531</th>\n",
       "      <td>1.000000</td>\n",
       "      <td>0.874981</td>\n",
       "      <td>0.809945</td>\n",
       "      <td>0.592866</td>\n",
       "      <td>0.987597</td>\n",
       "      <td>0.759688</td>\n",
       "      <td>0.856178</td>\n",
       "      <td>0.849694</td>\n",
       "      <td>0.582645</td>\n",
       "    </tr>\n",
       "    <tr>\n",
       "      <th>532</th>\n",
       "      <td>0.886566</td>\n",
       "      <td>0.903260</td>\n",
       "      <td>1.000000</td>\n",
       "      <td>1.000000</td>\n",
       "      <td>0.941425</td>\n",
       "      <td>0.768909</td>\n",
       "      <td>0.967282</td>\n",
       "      <td>0.877898</td>\n",
       "      <td>1.000000</td>\n",
       "    </tr>\n",
       "    <tr>\n",
       "      <th>533</th>\n",
       "      <td>0.837997</td>\n",
       "      <td>0.856369</td>\n",
       "      <td>0.909363</td>\n",
       "      <td>0.955287</td>\n",
       "      <td>0.737854</td>\n",
       "      <td>0.382781</td>\n",
       "      <td>0.769093</td>\n",
       "      <td>0.947450</td>\n",
       "      <td>0.867373</td>\n",
       "    </tr>\n",
       "    <tr>\n",
       "      <th>534</th>\n",
       "      <td>0.883893</td>\n",
       "      <td>0.730452</td>\n",
       "      <td>0.944795</td>\n",
       "      <td>0.819100</td>\n",
       "      <td>0.890968</td>\n",
       "      <td>0.858277</td>\n",
       "      <td>0.989410</td>\n",
       "      <td>0.807974</td>\n",
       "      <td>0.663745</td>\n",
       "    </tr>\n",
       "  </tbody>\n",
       "</table>\n",
       "<p>535 rows × 9 columns</p>\n",
       "</div>"
      ],
      "text/plain": [
       "        lab01     lab02     lab03     lab04     lab05     lab06     lab07  \\\n",
       "0    0.997353  0.849902  0.637744  1.000000  1.000000  0.994518  0.389141   \n",
       "1    0.695868  0.754551  0.845941  0.602318  0.684272  0.826176  0.808547   \n",
       "2    0.999169       NaN  0.897213  0.821430  0.975664  0.925228  0.945667   \n",
       "3    0.988295  0.507842  0.714477  0.783672  1.000000  0.393887  0.914061   \n",
       "4    0.863707       NaN  0.519795  0.789136  0.904054  0.400000  0.938467   \n",
       "..        ...       ...       ...       ...       ...       ...       ...   \n",
       "530  0.900000  0.820228  1.000000  0.792935  1.000000  0.284106  0.770281   \n",
       "531  1.000000  0.874981  0.809945  0.592866  0.987597  0.759688  0.856178   \n",
       "532  0.886566  0.903260  1.000000  1.000000  0.941425  0.768909  0.967282   \n",
       "533  0.837997  0.856369  0.909363  0.955287  0.737854  0.382781  0.769093   \n",
       "534  0.883893  0.730452  0.944795  0.819100  0.890968  0.858277  0.989410   \n",
       "\n",
       "        lab08     lab09  \n",
       "0    0.887917  0.874913  \n",
       "1    0.564078  0.738946  \n",
       "2    0.866245  0.629165  \n",
       "3    0.944378  0.902977  \n",
       "4    0.935151  0.873984  \n",
       "..        ...       ...  \n",
       "530  0.931245  1.000000  \n",
       "531  0.849694  0.582645  \n",
       "532  0.877898  1.000000  \n",
       "533  0.947450  0.867373  \n",
       "534  0.807974  0.663745  \n",
       "\n",
       "[535 rows x 9 columns]"
      ]
     },
     "execution_count": 150,
     "metadata": {},
     "output_type": "execute_result"
    }
   ],
   "source": [
    "processed = process_labs(grades)\n",
    "processed"
   ]
  },
  {
   "cell_type": "code",
   "execution_count": 151,
   "metadata": {},
   "outputs": [
    {
     "data": {
      "text/html": [
       "<div>\n",
       "<style scoped>\n",
       "    .dataframe tbody tr th:only-of-type {\n",
       "        vertical-align: middle;\n",
       "    }\n",
       "\n",
       "    .dataframe tbody tr th {\n",
       "        vertical-align: top;\n",
       "    }\n",
       "\n",
       "    .dataframe thead th {\n",
       "        text-align: right;\n",
       "    }\n",
       "</style>\n",
       "<table border=\"1\" class=\"dataframe\">\n",
       "  <thead>\n",
       "    <tr style=\"text-align: right;\">\n",
       "      <th></th>\n",
       "      <th>lab01</th>\n",
       "      <th>lab02</th>\n",
       "      <th>lab03</th>\n",
       "      <th>lab04</th>\n",
       "      <th>lab05</th>\n",
       "      <th>lab06</th>\n",
       "      <th>lab07</th>\n",
       "      <th>lab08</th>\n",
       "      <th>lab09</th>\n",
       "    </tr>\n",
       "  </thead>\n",
       "  <tbody>\n",
       "    <tr>\n",
       "      <th>0</th>\n",
       "      <td>0.997353</td>\n",
       "      <td>0.849902</td>\n",
       "      <td>0.637744</td>\n",
       "      <td>1.000000</td>\n",
       "      <td>1.000000</td>\n",
       "      <td>0.994518</td>\n",
       "      <td>0.389141</td>\n",
       "      <td>0.887917</td>\n",
       "      <td>0.874913</td>\n",
       "    </tr>\n",
       "    <tr>\n",
       "      <th>1</th>\n",
       "      <td>0.695868</td>\n",
       "      <td>0.754551</td>\n",
       "      <td>0.845941</td>\n",
       "      <td>0.602318</td>\n",
       "      <td>0.684272</td>\n",
       "      <td>0.826176</td>\n",
       "      <td>0.808547</td>\n",
       "      <td>0.564078</td>\n",
       "      <td>0.738946</td>\n",
       "    </tr>\n",
       "    <tr>\n",
       "      <th>2</th>\n",
       "      <td>0.999169</td>\n",
       "      <td>0.000000</td>\n",
       "      <td>0.897213</td>\n",
       "      <td>0.821430</td>\n",
       "      <td>0.975664</td>\n",
       "      <td>0.925228</td>\n",
       "      <td>0.945667</td>\n",
       "      <td>0.866245</td>\n",
       "      <td>0.629165</td>\n",
       "    </tr>\n",
       "    <tr>\n",
       "      <th>3</th>\n",
       "      <td>0.988295</td>\n",
       "      <td>0.507842</td>\n",
       "      <td>0.714477</td>\n",
       "      <td>0.783672</td>\n",
       "      <td>1.000000</td>\n",
       "      <td>0.393887</td>\n",
       "      <td>0.914061</td>\n",
       "      <td>0.944378</td>\n",
       "      <td>0.902977</td>\n",
       "    </tr>\n",
       "    <tr>\n",
       "      <th>4</th>\n",
       "      <td>0.863707</td>\n",
       "      <td>0.000000</td>\n",
       "      <td>0.519795</td>\n",
       "      <td>0.789136</td>\n",
       "      <td>0.904054</td>\n",
       "      <td>0.400000</td>\n",
       "      <td>0.938467</td>\n",
       "      <td>0.935151</td>\n",
       "      <td>0.873984</td>\n",
       "    </tr>\n",
       "    <tr>\n",
       "      <th>...</th>\n",
       "      <td>...</td>\n",
       "      <td>...</td>\n",
       "      <td>...</td>\n",
       "      <td>...</td>\n",
       "      <td>...</td>\n",
       "      <td>...</td>\n",
       "      <td>...</td>\n",
       "      <td>...</td>\n",
       "      <td>...</td>\n",
       "    </tr>\n",
       "    <tr>\n",
       "      <th>530</th>\n",
       "      <td>0.900000</td>\n",
       "      <td>0.820228</td>\n",
       "      <td>1.000000</td>\n",
       "      <td>0.792935</td>\n",
       "      <td>1.000000</td>\n",
       "      <td>0.284106</td>\n",
       "      <td>0.770281</td>\n",
       "      <td>0.931245</td>\n",
       "      <td>1.000000</td>\n",
       "    </tr>\n",
       "    <tr>\n",
       "      <th>531</th>\n",
       "      <td>1.000000</td>\n",
       "      <td>0.874981</td>\n",
       "      <td>0.809945</td>\n",
       "      <td>0.592866</td>\n",
       "      <td>0.987597</td>\n",
       "      <td>0.759688</td>\n",
       "      <td>0.856178</td>\n",
       "      <td>0.849694</td>\n",
       "      <td>0.582645</td>\n",
       "    </tr>\n",
       "    <tr>\n",
       "      <th>532</th>\n",
       "      <td>0.886566</td>\n",
       "      <td>0.903260</td>\n",
       "      <td>1.000000</td>\n",
       "      <td>1.000000</td>\n",
       "      <td>0.941425</td>\n",
       "      <td>0.768909</td>\n",
       "      <td>0.967282</td>\n",
       "      <td>0.877898</td>\n",
       "      <td>1.000000</td>\n",
       "    </tr>\n",
       "    <tr>\n",
       "      <th>533</th>\n",
       "      <td>0.837997</td>\n",
       "      <td>0.856369</td>\n",
       "      <td>0.909363</td>\n",
       "      <td>0.955287</td>\n",
       "      <td>0.737854</td>\n",
       "      <td>0.382781</td>\n",
       "      <td>0.769093</td>\n",
       "      <td>0.947450</td>\n",
       "      <td>0.867373</td>\n",
       "    </tr>\n",
       "    <tr>\n",
       "      <th>534</th>\n",
       "      <td>0.883893</td>\n",
       "      <td>0.730452</td>\n",
       "      <td>0.944795</td>\n",
       "      <td>0.819100</td>\n",
       "      <td>0.890968</td>\n",
       "      <td>0.858277</td>\n",
       "      <td>0.989410</td>\n",
       "      <td>0.807974</td>\n",
       "      <td>0.663745</td>\n",
       "    </tr>\n",
       "  </tbody>\n",
       "</table>\n",
       "<p>535 rows × 9 columns</p>\n",
       "</div>"
      ],
      "text/plain": [
       "        lab01     lab02     lab03     lab04     lab05     lab06     lab07  \\\n",
       "0    0.997353  0.849902  0.637744  1.000000  1.000000  0.994518  0.389141   \n",
       "1    0.695868  0.754551  0.845941  0.602318  0.684272  0.826176  0.808547   \n",
       "2    0.999169  0.000000  0.897213  0.821430  0.975664  0.925228  0.945667   \n",
       "3    0.988295  0.507842  0.714477  0.783672  1.000000  0.393887  0.914061   \n",
       "4    0.863707  0.000000  0.519795  0.789136  0.904054  0.400000  0.938467   \n",
       "..        ...       ...       ...       ...       ...       ...       ...   \n",
       "530  0.900000  0.820228  1.000000  0.792935  1.000000  0.284106  0.770281   \n",
       "531  1.000000  0.874981  0.809945  0.592866  0.987597  0.759688  0.856178   \n",
       "532  0.886566  0.903260  1.000000  1.000000  0.941425  0.768909  0.967282   \n",
       "533  0.837997  0.856369  0.909363  0.955287  0.737854  0.382781  0.769093   \n",
       "534  0.883893  0.730452  0.944795  0.819100  0.890968  0.858277  0.989410   \n",
       "\n",
       "        lab08     lab09  \n",
       "0    0.887917  0.874913  \n",
       "1    0.564078  0.738946  \n",
       "2    0.866245  0.629165  \n",
       "3    0.944378  0.902977  \n",
       "4    0.935151  0.873984  \n",
       "..        ...       ...  \n",
       "530  0.931245  1.000000  \n",
       "531  0.849694  0.582645  \n",
       "532  0.877898  1.000000  \n",
       "533  0.947450  0.867373  \n",
       "534  0.807974  0.663745  \n",
       "\n",
       "[535 rows x 9 columns]"
      ]
     },
     "execution_count": 151,
     "metadata": {},
     "output_type": "execute_result"
    }
   ],
   "source": [
    "processed = processed.fillna(0)  \n",
    "processed"
   ]
  },
  {
   "cell_type": "code",
   "execution_count": null,
   "metadata": {},
   "outputs": [],
   "source": []
  },
  {
   "cell_type": "code",
   "execution_count": 113,
   "metadata": {},
   "outputs": [
    {
     "data": {
      "text/plain": [
       "array([0.88, 0.74, 0.84, 0.78, 0.79, 0.65, 0.82, 0.7 , 0.84])"
      ]
     },
     "execution_count": 113,
     "metadata": {},
     "output_type": "execute_result"
    }
   ],
   "source": [
    "out = process_labs(grades)\n",
    "out  = out.mean(axis = 0)\n",
    "#out.values.round(decimals = 2)"
   ]
  },
  {
   "cell_type": "code",
   "execution_count": 85,
   "metadata": {
    "scrolled": true,
    "tags": []
   },
   "outputs": [
    {
     "data": {
      "text/plain": [
       "0      0.905293\n",
       "1      0.844463\n",
       "2      0.706707\n",
       "3      0.936836\n",
       "4      0.686128\n",
       "         ...   \n",
       "530    0.901836\n",
       "531    0.841369\n",
       "532    0.947054\n",
       "533    0.860098\n",
       "534    0.865609\n",
       "Length: 535, dtype: float64"
      ]
     },
     "execution_count": 85,
     "metadata": {},
     "output_type": "execute_result"
    }
   ],
   "source": [
    "lab_total(process_labs(grades))"
   ]
  },
  {
   "cell_type": "code",
   "execution_count": 99,
   "metadata": {},
   "outputs": [],
   "source": [
    "def round2(num):\n",
    "    print(round(num,2))\n",
    "    return round(num,2)"
   ]
  },
  {
   "cell_type": "code",
   "execution_count": 96,
   "metadata": {},
   "outputs": [
    {
     "data": {
      "text/plain": [
       "0.24"
      ]
     },
     "execution_count": 96,
     "metadata": {},
     "output_type": "execute_result"
    }
   ],
   "source": [
    "round2(0.236)"
   ]
  },
  {
   "cell_type": "code",
   "execution_count": 145,
   "metadata": {},
   "outputs": [
    {
     "data": {
      "text/plain": [
       "lab01    0.893585\n",
       "lab02    0.784569\n",
       "lab03    0.850241\n",
       "lab04    0.807901\n",
       "lab05    0.848179\n",
       "lab06    0.660588\n",
       "lab07    0.840851\n",
       "lab08    0.746800\n",
       "lab09    0.857812\n",
       "dtype: float64"
      ]
     },
     "execution_count": 145,
     "metadata": {},
     "output_type": "execute_result"
    }
   ],
   "source": [
    "out = process_labs(grades)\n",
    "out.mean()\n",
    "\n",
    "#out2 = out.values\n",
    "#out2"
   ]
  },
  {
   "cell_type": "code",
   "execution_count": 147,
   "metadata": {
    "deletable": false,
    "editable": false
   },
   "outputs": [
    {
     "data": {
      "text/html": [
       "<p><strong><pre style='display: inline;'>q6</pre></strong> passed!</p>"
      ],
      "text/plain": [
       "q6 results: All test cases passed!"
      ]
     },
     "execution_count": 147,
     "metadata": {},
     "output_type": "execute_result"
    }
   ],
   "source": [
    "grader.check(\"q6\")"
   ]
  },
  {
   "cell_type": "markdown",
   "metadata": {},
   "source": [
    "<a name='part4'></a>\n",
    "\n",
    "## Part 4: Putting It All Together 🧩\n",
    "\n",
    "It's time to compute the letter grade of each student."
   ]
  },
  {
   "cell_type": "markdown",
   "metadata": {},
   "source": [
    "### Question 7\n",
    "\n",
    "First, you need to compute each student's course grade, which results from adding their total grades in each course component according to the weights given in [the syllabus](#The-Syllabus).\n",
    "\n",
    "Complete the implementation of the function `total_points`, which takes in a DataFrame `grades` and returns a Series containing each student's course grade. **Course grades should be proportions between 0 and 1.**\n",
    "\n",
    "***Notes***: \n",
    "\n",
    "- Don't repeat yourself when computing the checkpoint and discussion portions of the course.\n",
    "- Remember, only the lab portion of the course accounts for late assignments; you may assume all assignments in other portions are turned in without penalty.\n",
    "- Do the work by hand for a few students to check your code!"
   ]
  },
  {
   "cell_type": "code",
   "execution_count": 198,
   "metadata": {},
   "outputs": [
    {
     "data": {
      "text/html": [
       "<div>\n",
       "<style scoped>\n",
       "    .dataframe tbody tr th:only-of-type {\n",
       "        vertical-align: middle;\n",
       "    }\n",
       "\n",
       "    .dataframe tbody tr th {\n",
       "        vertical-align: top;\n",
       "    }\n",
       "\n",
       "    .dataframe thead th {\n",
       "        text-align: right;\n",
       "    }\n",
       "</style>\n",
       "<table border=\"1\" class=\"dataframe\">\n",
       "  <thead>\n",
       "    <tr style=\"text-align: right;\">\n",
       "      <th></th>\n",
       "      <th>PID</th>\n",
       "      <th>College</th>\n",
       "      <th>Level</th>\n",
       "      <th>lab01</th>\n",
       "      <th>lab01 - Max Points</th>\n",
       "      <th>lab01 - Lateness (H:M:S)</th>\n",
       "      <th>lab02</th>\n",
       "      <th>lab02 - Max Points</th>\n",
       "      <th>lab02 - Lateness (H:M:S)</th>\n",
       "      <th>project01</th>\n",
       "      <th>...</th>\n",
       "      <th>discussion07 - Lateness (H:M:S)</th>\n",
       "      <th>discussion08</th>\n",
       "      <th>discussion08 - Max Points</th>\n",
       "      <th>discussion08 - Lateness (H:M:S)</th>\n",
       "      <th>discussion09</th>\n",
       "      <th>discussion09 - Max Points</th>\n",
       "      <th>discussion09 - Lateness (H:M:S)</th>\n",
       "      <th>discussion10</th>\n",
       "      <th>discussion10 - Max Points</th>\n",
       "      <th>discussion10 - Lateness (H:M:S)</th>\n",
       "    </tr>\n",
       "  </thead>\n",
       "  <tbody>\n",
       "    <tr>\n",
       "      <th>0</th>\n",
       "      <td>A14721419</td>\n",
       "      <td>SI</td>\n",
       "      <td>JR</td>\n",
       "      <td>99.735279</td>\n",
       "      <td>100</td>\n",
       "      <td>00:00:00</td>\n",
       "      <td>84.990171</td>\n",
       "      <td>100</td>\n",
       "      <td>00:00:00</td>\n",
       "      <td>75.282632</td>\n",
       "      <td>...</td>\n",
       "      <td>00:00:00</td>\n",
       "      <td>8.895294</td>\n",
       "      <td>10</td>\n",
       "      <td>00:00:00</td>\n",
       "      <td>10.000000</td>\n",
       "      <td>10</td>\n",
       "      <td>780:01:28</td>\n",
       "      <td>10.000000</td>\n",
       "      <td>10</td>\n",
       "      <td>00:00:00</td>\n",
       "    </tr>\n",
       "    <tr>\n",
       "      <th>1</th>\n",
       "      <td>A14540219</td>\n",
       "      <td>WA</td>\n",
       "      <td>JR</td>\n",
       "      <td>69.586809</td>\n",
       "      <td>100</td>\n",
       "      <td>00:00:00</td>\n",
       "      <td>75.455147</td>\n",
       "      <td>100</td>\n",
       "      <td>00:00:00</td>\n",
       "      <td>NaN</td>\n",
       "      <td>...</td>\n",
       "      <td>00:00:00</td>\n",
       "      <td>NaN</td>\n",
       "      <td>10</td>\n",
       "      <td>00:00:00</td>\n",
       "      <td>NaN</td>\n",
       "      <td>10</td>\n",
       "      <td>00:00:00</td>\n",
       "      <td>NaN</td>\n",
       "      <td>10</td>\n",
       "      <td>00:00:00</td>\n",
       "    </tr>\n",
       "    <tr>\n",
       "      <th>2</th>\n",
       "      <td>A14654940</td>\n",
       "      <td>SI</td>\n",
       "      <td>SO</td>\n",
       "      <td>99.916912</td>\n",
       "      <td>100</td>\n",
       "      <td>00:00:00</td>\n",
       "      <td>NaN</td>\n",
       "      <td>100</td>\n",
       "      <td>00:00:00</td>\n",
       "      <td>63.995207</td>\n",
       "      <td>...</td>\n",
       "      <td>00:00:00</td>\n",
       "      <td>10.000000</td>\n",
       "      <td>10</td>\n",
       "      <td>00:00:00</td>\n",
       "      <td>10.000000</td>\n",
       "      <td>10</td>\n",
       "      <td>00:00:00</td>\n",
       "      <td>10.000000</td>\n",
       "      <td>10</td>\n",
       "      <td>46:27:42</td>\n",
       "    </tr>\n",
       "    <tr>\n",
       "      <th>3</th>\n",
       "      <td>A14883274</td>\n",
       "      <td>TH</td>\n",
       "      <td>JR</td>\n",
       "      <td>98.829476</td>\n",
       "      <td>100</td>\n",
       "      <td>00:00:00</td>\n",
       "      <td>50.784231</td>\n",
       "      <td>100</td>\n",
       "      <td>00:00:00</td>\n",
       "      <td>52.929482</td>\n",
       "      <td>...</td>\n",
       "      <td>669:12:21</td>\n",
       "      <td>9.022407</td>\n",
       "      <td>10</td>\n",
       "      <td>00:00:00</td>\n",
       "      <td>9.020283</td>\n",
       "      <td>10</td>\n",
       "      <td>00:00:00</td>\n",
       "      <td>9.437368</td>\n",
       "      <td>10</td>\n",
       "      <td>00:00:00</td>\n",
       "    </tr>\n",
       "    <tr>\n",
       "      <th>4</th>\n",
       "      <td>A14755997</td>\n",
       "      <td>WA</td>\n",
       "      <td>JR</td>\n",
       "      <td>86.370726</td>\n",
       "      <td>100</td>\n",
       "      <td>00:00:00</td>\n",
       "      <td>NaN</td>\n",
       "      <td>100</td>\n",
       "      <td>00:00:00</td>\n",
       "      <td>85.000000</td>\n",
       "      <td>...</td>\n",
       "      <td>00:00:00</td>\n",
       "      <td>9.232778</td>\n",
       "      <td>10</td>\n",
       "      <td>00:00:00</td>\n",
       "      <td>9.134615</td>\n",
       "      <td>10</td>\n",
       "      <td>00:00:00</td>\n",
       "      <td>10.000000</td>\n",
       "      <td>10</td>\n",
       "      <td>00:00:00</td>\n",
       "    </tr>\n",
       "  </tbody>\n",
       "</table>\n",
       "<p>5 rows × 100 columns</p>\n",
       "</div>"
      ],
      "text/plain": [
       "         PID College Level      lab01  lab01 - Max Points  \\\n",
       "0  A14721419      SI    JR  99.735279                 100   \n",
       "1  A14540219      WA    JR  69.586809                 100   \n",
       "2  A14654940      SI    SO  99.916912                 100   \n",
       "3  A14883274      TH    JR  98.829476                 100   \n",
       "4  A14755997      WA    JR  86.370726                 100   \n",
       "\n",
       "  lab01 - Lateness (H:M:S)      lab02  lab02 - Max Points  \\\n",
       "0                 00:00:00  84.990171                 100   \n",
       "1                 00:00:00  75.455147                 100   \n",
       "2                 00:00:00        NaN                 100   \n",
       "3                 00:00:00  50.784231                 100   \n",
       "4                 00:00:00        NaN                 100   \n",
       "\n",
       "  lab02 - Lateness (H:M:S)  project01  ...  discussion07 - Lateness (H:M:S)  \\\n",
       "0                 00:00:00  75.282632  ...                         00:00:00   \n",
       "1                 00:00:00        NaN  ...                         00:00:00   \n",
       "2                 00:00:00  63.995207  ...                         00:00:00   \n",
       "3                 00:00:00  52.929482  ...                        669:12:21   \n",
       "4                 00:00:00  85.000000  ...                         00:00:00   \n",
       "\n",
       "  discussion08  discussion08 - Max Points  discussion08 - Lateness (H:M:S)  \\\n",
       "0     8.895294                         10                         00:00:00   \n",
       "1          NaN                         10                         00:00:00   \n",
       "2    10.000000                         10                         00:00:00   \n",
       "3     9.022407                         10                         00:00:00   \n",
       "4     9.232778                         10                         00:00:00   \n",
       "\n",
       "  discussion09  discussion09 - Max Points  discussion09 - Lateness (H:M:S)  \\\n",
       "0    10.000000                         10                        780:01:28   \n",
       "1          NaN                         10                         00:00:00   \n",
       "2    10.000000                         10                         00:00:00   \n",
       "3     9.020283                         10                         00:00:00   \n",
       "4     9.134615                         10                         00:00:00   \n",
       "\n",
       "  discussion10  discussion10 - Max Points  discussion10 - Lateness (H:M:S)  \n",
       "0    10.000000                         10                         00:00:00  \n",
       "1          NaN                         10                         00:00:00  \n",
       "2    10.000000                         10                         46:27:42  \n",
       "3     9.437368                         10                         00:00:00  \n",
       "4    10.000000                         10                         00:00:00  \n",
       "\n",
       "[5 rows x 100 columns]"
      ]
     },
     "execution_count": 198,
     "metadata": {},
     "output_type": "execute_result"
    }
   ],
   "source": [
    "grades_fp = os.path.join('data', 'grades.csv')\n",
    "grades = pd.read_csv(grades_fp)\n",
    "grades.head()"
   ]
  },
  {
   "cell_type": "code",
   "execution_count": 154,
   "metadata": {
    "scrolled": false,
    "tags": []
   },
   "outputs": [
    {
     "data": {
      "text/html": [
       "<div>\n",
       "<style scoped>\n",
       "    .dataframe tbody tr th:only-of-type {\n",
       "        vertical-align: middle;\n",
       "    }\n",
       "\n",
       "    .dataframe tbody tr th {\n",
       "        vertical-align: top;\n",
       "    }\n",
       "\n",
       "    .dataframe thead th {\n",
       "        text-align: right;\n",
       "    }\n",
       "</style>\n",
       "<table border=\"1\" class=\"dataframe\">\n",
       "  <thead>\n",
       "    <tr style=\"text-align: right;\">\n",
       "      <th></th>\n",
       "      <th>PID</th>\n",
       "      <th>College</th>\n",
       "      <th>Level</th>\n",
       "      <th>lab01</th>\n",
       "      <th>lab01 - Max Points</th>\n",
       "      <th>lab01 - Lateness (H:M:S)</th>\n",
       "      <th>lab02</th>\n",
       "      <th>lab02 - Max Points</th>\n",
       "      <th>lab02 - Lateness (H:M:S)</th>\n",
       "      <th>project01</th>\n",
       "      <th>...</th>\n",
       "      <th>discussion07 - Lateness (H:M:S)</th>\n",
       "      <th>discussion08</th>\n",
       "      <th>discussion08 - Max Points</th>\n",
       "      <th>discussion08 - Lateness (H:M:S)</th>\n",
       "      <th>discussion09</th>\n",
       "      <th>discussion09 - Max Points</th>\n",
       "      <th>discussion09 - Lateness (H:M:S)</th>\n",
       "      <th>discussion10</th>\n",
       "      <th>discussion10 - Max Points</th>\n",
       "      <th>discussion10 - Lateness (H:M:S)</th>\n",
       "    </tr>\n",
       "  </thead>\n",
       "  <tbody>\n",
       "    <tr>\n",
       "      <th>0</th>\n",
       "      <td>A14721419</td>\n",
       "      <td>SI</td>\n",
       "      <td>JR</td>\n",
       "      <td>99.735279</td>\n",
       "      <td>100</td>\n",
       "      <td>00:00:00</td>\n",
       "      <td>84.990171</td>\n",
       "      <td>100</td>\n",
       "      <td>00:00:00</td>\n",
       "      <td>75.282632</td>\n",
       "      <td>...</td>\n",
       "      <td>00:00:00</td>\n",
       "      <td>8.895294</td>\n",
       "      <td>10</td>\n",
       "      <td>00:00:00</td>\n",
       "      <td>10.000000</td>\n",
       "      <td>10</td>\n",
       "      <td>780:01:28</td>\n",
       "      <td>10.000000</td>\n",
       "      <td>10</td>\n",
       "      <td>00:00:00</td>\n",
       "    </tr>\n",
       "    <tr>\n",
       "      <th>1</th>\n",
       "      <td>A14540219</td>\n",
       "      <td>WA</td>\n",
       "      <td>JR</td>\n",
       "      <td>69.586809</td>\n",
       "      <td>100</td>\n",
       "      <td>00:00:00</td>\n",
       "      <td>75.455147</td>\n",
       "      <td>100</td>\n",
       "      <td>00:00:00</td>\n",
       "      <td>NaN</td>\n",
       "      <td>...</td>\n",
       "      <td>00:00:00</td>\n",
       "      <td>NaN</td>\n",
       "      <td>10</td>\n",
       "      <td>00:00:00</td>\n",
       "      <td>NaN</td>\n",
       "      <td>10</td>\n",
       "      <td>00:00:00</td>\n",
       "      <td>NaN</td>\n",
       "      <td>10</td>\n",
       "      <td>00:00:00</td>\n",
       "    </tr>\n",
       "    <tr>\n",
       "      <th>2</th>\n",
       "      <td>A14654940</td>\n",
       "      <td>SI</td>\n",
       "      <td>SO</td>\n",
       "      <td>99.916912</td>\n",
       "      <td>100</td>\n",
       "      <td>00:00:00</td>\n",
       "      <td>NaN</td>\n",
       "      <td>100</td>\n",
       "      <td>00:00:00</td>\n",
       "      <td>63.995207</td>\n",
       "      <td>...</td>\n",
       "      <td>00:00:00</td>\n",
       "      <td>10.000000</td>\n",
       "      <td>10</td>\n",
       "      <td>00:00:00</td>\n",
       "      <td>10.000000</td>\n",
       "      <td>10</td>\n",
       "      <td>00:00:00</td>\n",
       "      <td>10.000000</td>\n",
       "      <td>10</td>\n",
       "      <td>46:27:42</td>\n",
       "    </tr>\n",
       "    <tr>\n",
       "      <th>3</th>\n",
       "      <td>A14883274</td>\n",
       "      <td>TH</td>\n",
       "      <td>JR</td>\n",
       "      <td>98.829476</td>\n",
       "      <td>100</td>\n",
       "      <td>00:00:00</td>\n",
       "      <td>50.784231</td>\n",
       "      <td>100</td>\n",
       "      <td>00:00:00</td>\n",
       "      <td>52.929482</td>\n",
       "      <td>...</td>\n",
       "      <td>669:12:21</td>\n",
       "      <td>9.022407</td>\n",
       "      <td>10</td>\n",
       "      <td>00:00:00</td>\n",
       "      <td>9.020283</td>\n",
       "      <td>10</td>\n",
       "      <td>00:00:00</td>\n",
       "      <td>9.437368</td>\n",
       "      <td>10</td>\n",
       "      <td>00:00:00</td>\n",
       "    </tr>\n",
       "    <tr>\n",
       "      <th>4</th>\n",
       "      <td>A14755997</td>\n",
       "      <td>WA</td>\n",
       "      <td>JR</td>\n",
       "      <td>86.370726</td>\n",
       "      <td>100</td>\n",
       "      <td>00:00:00</td>\n",
       "      <td>NaN</td>\n",
       "      <td>100</td>\n",
       "      <td>00:00:00</td>\n",
       "      <td>85.000000</td>\n",
       "      <td>...</td>\n",
       "      <td>00:00:00</td>\n",
       "      <td>9.232778</td>\n",
       "      <td>10</td>\n",
       "      <td>00:00:00</td>\n",
       "      <td>9.134615</td>\n",
       "      <td>10</td>\n",
       "      <td>00:00:00</td>\n",
       "      <td>10.000000</td>\n",
       "      <td>10</td>\n",
       "      <td>00:00:00</td>\n",
       "    </tr>\n",
       "  </tbody>\n",
       "</table>\n",
       "<p>5 rows × 100 columns</p>\n",
       "</div>"
      ],
      "text/plain": [
       "         PID College Level      lab01  lab01 - Max Points  \\\n",
       "0  A14721419      SI    JR  99.735279                 100   \n",
       "1  A14540219      WA    JR  69.586809                 100   \n",
       "2  A14654940      SI    SO  99.916912                 100   \n",
       "3  A14883274      TH    JR  98.829476                 100   \n",
       "4  A14755997      WA    JR  86.370726                 100   \n",
       "\n",
       "  lab01 - Lateness (H:M:S)      lab02  lab02 - Max Points  \\\n",
       "0                 00:00:00  84.990171                 100   \n",
       "1                 00:00:00  75.455147                 100   \n",
       "2                 00:00:00        NaN                 100   \n",
       "3                 00:00:00  50.784231                 100   \n",
       "4                 00:00:00        NaN                 100   \n",
       "\n",
       "  lab02 - Lateness (H:M:S)  project01  ...  discussion07 - Lateness (H:M:S)  \\\n",
       "0                 00:00:00  75.282632  ...                         00:00:00   \n",
       "1                 00:00:00        NaN  ...                         00:00:00   \n",
       "2                 00:00:00  63.995207  ...                         00:00:00   \n",
       "3                 00:00:00  52.929482  ...                        669:12:21   \n",
       "4                 00:00:00  85.000000  ...                         00:00:00   \n",
       "\n",
       "  discussion08  discussion08 - Max Points  discussion08 - Lateness (H:M:S)  \\\n",
       "0     8.895294                         10                         00:00:00   \n",
       "1          NaN                         10                         00:00:00   \n",
       "2    10.000000                         10                         00:00:00   \n",
       "3     9.022407                         10                         00:00:00   \n",
       "4     9.232778                         10                         00:00:00   \n",
       "\n",
       "  discussion09  discussion09 - Max Points  discussion09 - Lateness (H:M:S)  \\\n",
       "0    10.000000                         10                        780:01:28   \n",
       "1          NaN                         10                         00:00:00   \n",
       "2    10.000000                         10                         00:00:00   \n",
       "3     9.020283                         10                         00:00:00   \n",
       "4     9.134615                         10                         00:00:00   \n",
       "\n",
       "  discussion10  discussion10 - Max Points  discussion10 - Lateness (H:M:S)  \n",
       "0    10.000000                         10                         00:00:00  \n",
       "1          NaN                         10                         00:00:00  \n",
       "2    10.000000                         10                         46:27:42  \n",
       "3     9.437368                         10                         00:00:00  \n",
       "4    10.000000                         10                         00:00:00  \n",
       "\n",
       "[5 rows x 100 columns]"
      ]
     },
     "execution_count": 154,
     "metadata": {},
     "output_type": "execute_result"
    }
   ],
   "source": [
    "grades.head()"
   ]
  },
  {
   "cell_type": "code",
   "execution_count": 163,
   "metadata": {
    "tags": []
   },
   "outputs": [
    {
     "data": {
      "text/plain": [
       "{'lab': ['lab01',\n",
       "  'lab02',\n",
       "  'lab03',\n",
       "  'lab04',\n",
       "  'lab05',\n",
       "  'lab06',\n",
       "  'lab07',\n",
       "  'lab08',\n",
       "  'lab09'],\n",
       " 'project': ['project01', 'project02', 'project03', 'project04', 'project05'],\n",
       " 'midterm': ['Midterm'],\n",
       " 'final': ['Final'],\n",
       " 'disc': ['discussion01',\n",
       "  'discussion02',\n",
       "  'discussion03',\n",
       "  'discussion04',\n",
       "  'discussion05',\n",
       "  'discussion06',\n",
       "  'discussion07',\n",
       "  'discussion08',\n",
       "  'discussion09',\n",
       "  'discussion10'],\n",
       " 'checkpoint': ['project02_checkpoint01',\n",
       "  'project02_checkpoint02',\n",
       "  'project03_checkpoint01']}"
      ]
     },
     "execution_count": 163,
     "metadata": {},
     "output_type": "execute_result"
    }
   ],
   "source": [
    "assign_cols = get_assignment_names(grades)\n",
    "assign_cols"
   ]
  },
  {
   "cell_type": "code",
   "execution_count": 174,
   "metadata": {
    "tags": []
   },
   "outputs": [],
   "source": [
    "\n",
    "def assign_total(grades, assign_type):\n",
    "    assign_cols = get_assignment_names(grades)\n",
    "\n",
    "    project_free = np.array(grades.columns)\n",
    "\n",
    "    all_project_cols = []\n",
    "    for i in project_free:\n",
    "        if i.find(assign_type) != -1:\n",
    "            all_project_cols.append(i)\n",
    "    \n",
    "\n",
    "\n",
    "    filter_proj_cols = []\n",
    "\n",
    "    for i in np.arange(len(all_project_cols)):\n",
    "        if all_project_cols[i].find('Late') == -1:\n",
    "            filter_proj_cols.append(all_project_cols[i])\n",
    "\n",
    "    grades = grades[sorted(filter_proj_cols)]\n",
    "    #grades\n",
    "\n",
    "    #sorted_cols = grades_01 = grades.assign( project01 = grades['project01'].apply(convert_nan))\n",
    "\n",
    "    sorted_cols = sorted(filter_proj_cols)\n",
    "    grades_01 = grades[sorted(filter_proj_cols)]\n",
    "    #grades.dtypes\n",
    "\n",
    "\n",
    "    for i in filter_proj_cols:\n",
    "        grades_01[i] = grades_01[i].apply(convert_nan)\n",
    "    \n",
    "    counter = 0\n",
    "    for i in np.arange(1,len(assign_cols[assign_type]) + 1):\n",
    "            grades_01[assign_type + str(i) + ' total'] = (grades_01[sorted_cols[counter]] / grades_01[sorted_cols[counter+1]])\n",
    "            counter+=2\n",
    "       \n",
    "\n",
    "    grades_01['Total'] = grades_01[assign_type +'1 total']\n",
    "    for i in np.arange(2,len(assign_cols[assign_type]) + 1):\n",
    "        grades_01['Total'] = grades_01['Total'] + grades_01[assign_type + str(i) + ' total']\n",
    "    #grades_01\n",
    "\n",
    "    return grades_01['Total'] / len(assign_cols[assign_type])\n",
    "    #grades\n",
    "\n"
   ]
  },
  {
   "cell_type": "code",
   "execution_count": 188,
   "metadata": {
    "scrolled": true
   },
   "outputs": [
    {
     "data": {
      "text/plain": [
       "0      90.246455\n",
       "1      58.406310\n",
       "2      88.727899\n",
       "3      81.665433\n",
       "4      88.929565\n",
       "         ...    \n",
       "530    86.566048\n",
       "531    76.483219\n",
       "532    85.964784\n",
       "533    86.632188\n",
       "534    89.471871\n",
       "Length: 535, dtype: float64"
      ]
     },
     "execution_count": 188,
     "metadata": {},
     "output_type": "execute_result"
    }
   ],
   "source": [
    "(assign_total(grades,'checkpoint') * 2.5) + (assign_total(grades,'disc') * 2.5) + ((grades['Midterm'] / grades['Midterm - Max Points']) * 15) + ((grades['Final'] / grades['Final - Max Points']) * 30) + (projects_total(grades) * 30) + (lab_total(process_labs(grades) * 20)) "
   ]
  },
  {
   "cell_type": "code",
   "execution_count": 189,
   "metadata": {},
   "outputs": [
    {
     "data": {
      "text/plain": [
       "0      0.902465\n",
       "1      0.584063\n",
       "2      0.887279\n",
       "3      0.816654\n",
       "4      0.889296\n",
       "         ...   \n",
       "530    0.865660\n",
       "531    0.764832\n",
       "532    0.859648\n",
       "533    0.866322\n",
       "534    0.894719\n",
       "Length: 535, dtype: float64"
      ]
     },
     "execution_count": 189,
     "metadata": {},
     "output_type": "execute_result"
    }
   ],
   "source": [
    "total_points(grades)"
   ]
  },
  {
   "cell_type": "code",
   "execution_count": 175,
   "metadata": {
    "scrolled": false
   },
   "outputs": [
    {
     "data": {
      "text/plain": [
       "0      0.804744\n",
       "1      0.427351\n",
       "2      0.352814\n",
       "3      0.592245\n",
       "4      0.664890\n",
       "         ...   \n",
       "530    0.709663\n",
       "531    0.465015\n",
       "532    0.588650\n",
       "533    0.661178\n",
       "534    0.504801\n",
       "Name: Total, Length: 535, dtype: float64"
      ]
     },
     "execution_count": 175,
     "metadata": {},
     "output_type": "execute_result"
    }
   ],
   "source": [
    "assign_total(grades,'checkpoint')"
   ]
  },
  {
   "cell_type": "code",
   "execution_count": 176,
   "metadata": {
    "scrolled": true
   },
   "outputs": [
    {
     "data": {
      "text/plain": [
       "0      0.984713\n",
       "1      0.000000\n",
       "2      0.964733\n",
       "3      0.871731\n",
       "4      0.959684\n",
       "         ...   \n",
       "530    0.984922\n",
       "531    0.964986\n",
       "532    0.939407\n",
       "533    0.864160\n",
       "534    0.971873\n",
       "Name: Total, Length: 535, dtype: float64"
      ]
     },
     "execution_count": 176,
     "metadata": {},
     "output_type": "execute_result"
    }
   ],
   "source": [
    "assign_total(grades,'disc')"
   ]
  },
  {
   "cell_type": "code",
   "execution_count": 184,
   "metadata": {},
   "outputs": [
    {
     "data": {
      "text/plain": [
       "0      1.000000\n",
       "1      0.525808\n",
       "2      0.814651\n",
       "3      0.912166\n",
       "4      0.900370\n",
       "         ...   \n",
       "530    0.882106\n",
       "531    0.537590\n",
       "532    0.880445\n",
       "533    1.000000\n",
       "534    0.811584\n",
       "Length: 535, dtype: float64"
      ]
     },
     "execution_count": 184,
     "metadata": {},
     "output_type": "execute_result"
    }
   ],
   "source": [
    "grades['Midterm'] / grades['Midterm - Max Points']"
   ]
  },
  {
   "cell_type": "code",
   "execution_count": 185,
   "metadata": {
    "scrolled": true
   },
   "outputs": [
    {
     "data": {
      "text/plain": [
       "0      0.839331\n",
       "1      0.818294\n",
       "2      0.965491\n",
       "3      0.815193\n",
       "4      0.913985\n",
       "         ...   \n",
       "530    0.752608\n",
       "531    0.733772\n",
       "532    0.804513\n",
       "533    0.873761\n",
       "534    0.937042\n",
       "Length: 535, dtype: float64"
      ]
     },
     "execution_count": 185,
     "metadata": {},
     "output_type": "execute_result"
    }
   ],
   "source": [
    "grades['Final'] / grades['Final - Max Points']"
   ]
  },
  {
   "cell_type": "code",
   "execution_count": 180,
   "metadata": {},
   "outputs": [
    {
     "data": {
      "text/plain": [
       "0      0.916234\n",
       "1      0.333682\n",
       "2      0.886669\n",
       "3      0.765932\n",
       "4      0.946077\n",
       "         ...   \n",
       "530    0.949434\n",
       "531    0.866795\n",
       "532    0.862050\n",
       "533    0.813468\n",
       "534    0.939433\n",
       "Name: Total, Length: 535, dtype: float64"
      ]
     },
     "execution_count": 180,
     "metadata": {},
     "output_type": "execute_result"
    }
   ],
   "source": [
    "projects_total(grades)"
   ]
  },
  {
   "cell_type": "code",
   "execution_count": 196,
   "metadata": {},
   "outputs": [
    {
     "data": {
      "text/plain": [
       "[0.5704133735746834,\n",
       " 0.5840631001540988,\n",
       " 0.6441077356413119,\n",
       " 0.6606690989255619,\n",
       " 0.6750826136557552,\n",
       " 0.6785608467386817,\n",
       " 0.6851491135793207,\n",
       " 0.6893348582071462,\n",
       " 0.6970434648992153,\n",
       " 0.7038232113520628,\n",
       " 0.7039893263998002,\n",
       " 0.7044749581894105,\n",
       " 0.705010916637182,\n",
       " 0.7136548976424897,\n",
       " 0.7152159079576101,\n",
       " 0.7157157569068364,\n",
       " 0.7185993362096501,\n",
       " 0.720286593935106,\n",
       " 0.7203932050880781,\n",
       " 0.7205373526502321,\n",
       " 0.720573428890485,\n",
       " 0.7227556506313296,\n",
       " 0.7255893372568404,\n",
       " 0.7261430889838714,\n",
       " 0.7269648264117646,\n",
       " 0.7300345643835677,\n",
       " 0.7304606537414224,\n",
       " 0.7331131814905993,\n",
       " 0.733191067648885,\n",
       " 0.7336929227906696,\n",
       " 0.733819229355916,\n",
       " 0.7339338481197808,\n",
       " 0.734875022614261,\n",
       " 0.735646033502997,\n",
       " 0.7357930444226632,\n",
       " 0.7381902513532524,\n",
       " 0.7421499342413003,\n",
       " 0.7441929711978195,\n",
       " 0.7476499301551826,\n",
       " 0.7495463681254652,\n",
       " 0.7500928450880139,\n",
       " 0.7508837365458152,\n",
       " 0.7532688045649379,\n",
       " 0.7532982912859545,\n",
       " 0.7540957739358634,\n",
       " 0.759664719696993,\n",
       " 0.7648400359459745,\n",
       " 0.7655033886247531,\n",
       " 0.768157578013327,\n",
       " 0.7689277788832163,\n",
       " 0.7701348339961445,\n",
       " 0.7704303784910317,\n",
       " 0.7707987339427259,\n",
       " 0.7715068322540409,\n",
       " 0.7717631772004038,\n",
       " 0.7738045263681669,\n",
       " 0.7738067308351514,\n",
       " 0.7744185759540627,\n",
       " 0.7751803369184758,\n",
       " 0.7757969860350112,\n",
       " 0.7769021941984576,\n",
       " 0.7791608034639969,\n",
       " 0.7812998248459928,\n",
       " 0.7820193721306786,\n",
       " 0.7825444344276896,\n",
       " 0.7833450478102574,\n",
       " 0.7841436050887489,\n",
       " 0.7853385261731546,\n",
       " 0.7870703898347479,\n",
       " 0.7874829507673599,\n",
       " 0.7877025247193136,\n",
       " 0.7891223148370142,\n",
       " 0.790194722379821,\n",
       " 0.7910770219825747,\n",
       " 0.7913809582429172,\n",
       " 0.7950695748529519,\n",
       " 0.7963030160000344,\n",
       " 0.7972975246262535,\n",
       " 0.7986574732252285,\n",
       " 0.7992700074354632,\n",
       " 0.8019206016966384,\n",
       " 0.8022506719341738,\n",
       " 0.8034213866911855,\n",
       " 0.8064338454085628,\n",
       " 0.8085212796097296,\n",
       " 0.808674594528157,\n",
       " 0.8094454266093252,\n",
       " 0.8103987552974874,\n",
       " 0.810587343965983,\n",
       " 0.8124653866543468,\n",
       " 0.814909276561612,\n",
       " 0.8164833767517437,\n",
       " 0.8166543262054646,\n",
       " 0.8202167657934322,\n",
       " 0.8207190130662864,\n",
       " 0.8210659681774208,\n",
       " 0.8228542402127706,\n",
       " 0.8241945587389661,\n",
       " 0.8242715740025366,\n",
       " 0.824585350366724,\n",
       " 0.8258251415507145,\n",
       " 0.8265004495995353,\n",
       " 0.8266057317021521,\n",
       " 0.8267089794588398,\n",
       " 0.8270595279367515,\n",
       " 0.8287111973627543,\n",
       " 0.8290926786421611,\n",
       " 0.830042795924639,\n",
       " 0.8320145508276614,\n",
       " 0.8323280728905172,\n",
       " 0.8333871872481331,\n",
       " 0.8345263017313869,\n",
       " 0.8348479950376106,\n",
       " 0.8349052131596032,\n",
       " 0.8349828816880769,\n",
       " 0.8352425719478128,\n",
       " 0.835682051933428,\n",
       " 0.8361634458648376,\n",
       " 0.8367217478557589,\n",
       " 0.8370443486743924,\n",
       " 0.8382936977286256,\n",
       " 0.8394918881353775,\n",
       " 0.8407579889729877,\n",
       " 0.8410268921985988,\n",
       " 0.8433672337613651,\n",
       " 0.8452812882057592,\n",
       " 0.8471104567721249,\n",
       " 0.8476203576681585,\n",
       " 0.8486895640811118,\n",
       " 0.849580254494595,\n",
       " 0.8497171309378081,\n",
       " 0.8502512847916381,\n",
       " 0.8507514112170562,\n",
       " 0.8514770694339211,\n",
       " 0.8520791209653831,\n",
       " 0.8537981094520564,\n",
       " 0.8540900775292544,\n",
       " 0.8556464845917999,\n",
       " 0.8557790297619795,\n",
       " 0.8582220126240583,\n",
       " 0.8594233908596474,\n",
       " 0.8594692213021721,\n",
       " 0.8598293878024785,\n",
       " 0.8599602692228282,\n",
       " 0.8602249024264418,\n",
       " 0.8609495195281002,\n",
       " 0.861076154046674,\n",
       " 0.8616889679343825,\n",
       " 0.8640597850453332,\n",
       " 0.8642316840099292,\n",
       " 0.8657823767202815,\n",
       " 0.8660250127301836,\n",
       " 0.8662537744251111,\n",
       " 0.8679811900228916,\n",
       " 0.869509883978138,\n",
       " 0.8699897119304622,\n",
       " 0.8712971218641472,\n",
       " 0.8722841795082207,\n",
       " 0.8728635794876801,\n",
       " 0.8730898176991542,\n",
       " 0.8733122007101335,\n",
       " 0.8753395537137609,\n",
       " 0.8763236340936778,\n",
       " 0.8764166723388417,\n",
       " 0.8767174801335906,\n",
       " 0.877201978167771,\n",
       " 0.8783623452589889,\n",
       " 0.8784088141375112,\n",
       " 0.8806543910101883,\n",
       " 0.8822029547018785,\n",
       " 0.8838464064486058,\n",
       " 0.8844401248185114,\n",
       " 0.8856990030742188,\n",
       " 0.8860553345162766,\n",
       " 0.8861342258276145,\n",
       " 0.8863140014130394,\n",
       " 0.8865624290015057,\n",
       " 0.8867026734085087,\n",
       " 0.8872789872460092,\n",
       " 0.8876153492854183,\n",
       " 0.8892956482261205,\n",
       " 0.8896305639307339,\n",
       " 0.8913940289124159,\n",
       " 0.8915022988572404,\n",
       " 0.8916979544106236,\n",
       " 0.8917937958257162,\n",
       " 0.8920961095922806,\n",
       " 0.8932106301499084,\n",
       " 0.8932196969247386,\n",
       " 0.8939400005843936,\n",
       " 0.8940645143610046,\n",
       " 0.8943891748280324,\n",
       " 0.8955170001511639,\n",
       " 0.895551723273625,\n",
       " 0.8958977475310175,\n",
       " 0.8970555389647725,\n",
       " 0.897634307594882,\n",
       " 0.898684732271503,\n",
       " 0.8989984690138612,\n",
       " 0.899091222588896,\n",
       " 0.8999577589765484,\n",
       " 0.9015874061309463,\n",
       " 0.9017704971331582,\n",
       " 0.9023033786785488,\n",
       " 0.9024645537130869,\n",
       " 0.9030245744285247,\n",
       " 0.9032929977763328,\n",
       " 0.9041003774020328,\n",
       " 0.9044867233321451,\n",
       " 0.9045907878647717,\n",
       " 0.9048370510040976,\n",
       " 0.9056735687458858,\n",
       " 0.9058195182147085,\n",
       " 0.9064414570237409,\n",
       " 0.9073409682314808,\n",
       " 0.9078309820684872,\n",
       " 0.9080730198894891,\n",
       " 0.9082685156364326,\n",
       " 0.9090203044524654,\n",
       " 0.9091386122832454,\n",
       " 0.9095737990910235,\n",
       " 0.9096323025555861,\n",
       " 0.9097753128389929,\n",
       " 0.9100681083555554,\n",
       " 0.9101974221560191,\n",
       " 0.9106542052829703,\n",
       " 0.9135127721566998,\n",
       " 0.9140752199514419,\n",
       " 0.915431361255402,\n",
       " 0.9155600393915606,\n",
       " 0.9171336756484556,\n",
       " 0.9192963978189355,\n",
       " 0.9195634445655813,\n",
       " 0.9204315879544148,\n",
       " 0.920632693037297,\n",
       " 0.9224620162370178,\n",
       " 0.9228992055120142,\n",
       " 0.9260248165733564,\n",
       " 0.927424340554767,\n",
       " 0.9283441470519063,\n",
       " 0.9285948553245078,\n",
       " 0.9288981156991243,\n",
       " 0.9289507619051639,\n",
       " 0.9318317255917116,\n",
       " 0.931923083204834,\n",
       " 0.9324667171271446,\n",
       " 0.9354715023098831,\n",
       " 0.9393066603153706,\n",
       " 0.9411680654180475,\n",
       " 0.9433756785561731,\n",
       " 0.9454454466252759,\n",
       " 0.947030541872772,\n",
       " 0.9478386734295947,\n",
       " 0.9509400780683168,\n",
       " 0.9563244969571696,\n",
       " 0.9595508742787261,\n",
       " nan,\n",
       " 0.47761133372719555,\n",
       " 0.5193962714412951,\n",
       " 0.5411666266281843,\n",
       " 0.5697945353864362,\n",
       " 0.5768645440888436,\n",
       " 0.5805351357146347,\n",
       " 0.6124312930945688,\n",
       " 0.6261708900298997,\n",
       " 0.6578761226277662,\n",
       " 0.6802380157455539,\n",
       " 0.6820488591580403,\n",
       " 0.689845436531006,\n",
       " 0.6934103612993928,\n",
       " 0.6968580472395648,\n",
       " 0.6981843011217308,\n",
       " 0.6994078906106825,\n",
       " 0.7015412257904906,\n",
       " 0.7072556349090704,\n",
       " 0.7093575334922905,\n",
       " 0.713196146537403,\n",
       " 0.7160349409018764,\n",
       " 0.7168799740519535,\n",
       " 0.7177052547101913,\n",
       " 0.7182498291218105,\n",
       " 0.722765445046662,\n",
       " 0.7297080187063827,\n",
       " 0.7344886775283507,\n",
       " 0.7353578752324296,\n",
       " 0.7361500473981674,\n",
       " 0.7377516980535657,\n",
       " 0.7381355127622226,\n",
       " 0.7404218483763525,\n",
       " 0.7425493585917954,\n",
       " 0.7456549818131215,\n",
       " 0.7468205003837954,\n",
       " 0.7470688515544636,\n",
       " 0.7477166306981622,\n",
       " 0.7548132466953494,\n",
       " 0.7614628543550659,\n",
       " 0.7616593835511505,\n",
       " 0.7623253331178461,\n",
       " 0.7626040878184134,\n",
       " 0.7648321944811458,\n",
       " 0.7658696366247753,\n",
       " 0.7733937915830573,\n",
       " 0.7734604921014392,\n",
       " 0.7743356836038392,\n",
       " 0.7750115667624972,\n",
       " 0.7755317883886215,\n",
       " 0.7808754682503394,\n",
       " 0.7819464409766571,\n",
       " 0.782373448214647,\n",
       " 0.7838144904241746,\n",
       " 0.7865229836247327,\n",
       " 0.7865403704138554,\n",
       " 0.7924161421865429,\n",
       " 0.7927977957137905,\n",
       " 0.794324025256739,\n",
       " 0.7946399584941781,\n",
       " 0.7957808080103095,\n",
       " 0.7960714540121523,\n",
       " 0.7971732009789961,\n",
       " 0.7974228627925248,\n",
       " 0.7977856235863012,\n",
       " 0.7987204073045732,\n",
       " 0.800585984136987,\n",
       " 0.8008671076813607,\n",
       " 0.8029080674330982,\n",
       " 0.8040434321079153,\n",
       " 0.8041072002069167,\n",
       " 0.8047350991890727,\n",
       " 0.8085621927456518,\n",
       " 0.8087431590986952,\n",
       " 0.8111729481450625,\n",
       " 0.812000265394856,\n",
       " 0.8124409406796385,\n",
       " 0.8127446989492816,\n",
       " 0.8127671471783907,\n",
       " 0.8141114929973454,\n",
       " 0.8142764377466176,\n",
       " 0.8144783852958,\n",
       " 0.8146532360042761,\n",
       " 0.8149314716842854,\n",
       " 0.8161600444649441,\n",
       " 0.8162609936221272,\n",
       " 0.816498869487331,\n",
       " 0.8178339295883795,\n",
       " 0.8178355105138596,\n",
       " 0.8184608463228369,\n",
       " 0.8189087568997366,\n",
       " 0.8203471187033474,\n",
       " 0.8207929442139392,\n",
       " 0.8224125394432459,\n",
       " 0.8243489673935168,\n",
       " 0.8261083315659549,\n",
       " 0.8262918452090452,\n",
       " 0.8272214213917244,\n",
       " 0.8284010478700204,\n",
       " 0.828473517697741,\n",
       " 0.8292095819207441,\n",
       " 0.8296652534362571,\n",
       " 0.8314376571230316,\n",
       " 0.831664938714377,\n",
       " 0.832257856687702,\n",
       " 0.8323707975401087,\n",
       " 0.8331197596849205,\n",
       " 0.8334559991275365,\n",
       " 0.8341833551998654,\n",
       " 0.8346413617408703,\n",
       " 0.8347679228234091,\n",
       " 0.8360854734030094,\n",
       " 0.8363337638685722,\n",
       " 0.8368615708828645,\n",
       " 0.8383799441426228,\n",
       " 0.8388649797909303,\n",
       " 0.8394420774250889,\n",
       " 0.8409812871656591,\n",
       " 0.8417431742426448,\n",
       " 0.8418100676665188,\n",
       " 0.8426409438038518,\n",
       " 0.8432525269367459,\n",
       " 0.8435475900294506,\n",
       " 0.843699296035119,\n",
       " 0.8441294338394075,\n",
       " 0.8458627776337876,\n",
       " 0.8461093088572761,\n",
       " 0.8466434659702771,\n",
       " 0.8467868211300956,\n",
       " 0.8469101478450747,\n",
       " 0.8492362976538732,\n",
       " 0.8495289027145415,\n",
       " 0.8519598779946819,\n",
       " 0.8520333442732216,\n",
       " 0.8546281053320547,\n",
       " 0.8553589182137223,\n",
       " 0.8559561731377753,\n",
       " 0.8562304697920645,\n",
       " 0.8579126523832776,\n",
       " 0.8595096312379522,\n",
       " 0.8596478448526829,\n",
       " 0.8598568078003133,\n",
       " 0.860284010096542,\n",
       " 0.8609948559284334,\n",
       " 0.8610505503450961,\n",
       " 0.8627150567329971,\n",
       " 0.8646690928052387,\n",
       " 0.8656604822338991,\n",
       " 0.8663218831575423,\n",
       " 0.8677190274363863,\n",
       " 0.8679426767988185,\n",
       " 0.8684917359087448,\n",
       " 0.8687093170352042,\n",
       " 0.868904595248246,\n",
       " 0.8690486881174354,\n",
       " 0.8700371777200911,\n",
       " 0.8707136388106486,\n",
       " 0.8711759101783089,\n",
       " 0.8721428384895737,\n",
       " 0.87269419122351,\n",
       " 0.8728115551310209,\n",
       " 0.872939924427751,\n",
       " 0.8735968462812136,\n",
       " 0.8736180864019033,\n",
       " 0.8736355074255409,\n",
       " 0.8736356283089883,\n",
       " 0.8740759530001534,\n",
       " 0.8749142110276383,\n",
       " 0.877768090534463,\n",
       " 0.8782807161146059,\n",
       " 0.8790605372868626,\n",
       " 0.8805388334146156,\n",
       " 0.8809004337718117,\n",
       " 0.8821601089928909,\n",
       " 0.8830605956439106,\n",
       " 0.8832607395403452,\n",
       " 0.883736078910772,\n",
       " 0.8846652020549053,\n",
       " 0.8849193120826933,\n",
       " 0.8853560302316237,\n",
       " 0.8860086718306647,\n",
       " 0.8860290440288828,\n",
       " 0.8864629039171092,\n",
       " 0.8867038578775044,\n",
       " 0.8868957516086985,\n",
       " 0.8869202435458632,\n",
       " 0.8876622371628049,\n",
       " 0.8892672045398925,\n",
       " 0.8895679830003477,\n",
       " 0.8914429358904294,\n",
       " 0.8916711493646386,\n",
       " 0.8919933570915258,\n",
       " 0.89275020747085,\n",
       " 0.8930623939624767,\n",
       " 0.8932232752945093,\n",
       " 0.8934231427078995,\n",
       " 0.8934396125099934,\n",
       " 0.893927810522521,\n",
       " 0.8941911642973531,\n",
       " 0.8945277695602134,\n",
       " 0.894681592042993,\n",
       " 0.8947187120854041,\n",
       " 0.8954114789928309,\n",
       " 0.8959444362838386,\n",
       " 0.8965229509484325,\n",
       " 0.8966327912185106,\n",
       " 0.8968255066797799,\n",
       " 0.8973001411075632,\n",
       " 0.8976495671970084,\n",
       " 0.8978191803471199,\n",
       " 0.8985041076058019,\n",
       " 0.8985634573379562,\n",
       " 0.8985848699693691,\n",
       " 0.8986379923275186,\n",
       " 0.8990288766697997,\n",
       " 0.8996672019547118,\n",
       " 0.9002565409552747,\n",
       " 0.9008859843373789,\n",
       " 0.9013216403234149,\n",
       " 0.9023588801423239,\n",
       " 0.903836595329927,\n",
       " 0.904627909074931,\n",
       " 0.905403883820942,\n",
       " 0.9084040237649529,\n",
       " 0.9087030361692061,\n",
       " 0.9087380970253688,\n",
       " 0.9088617223579483,\n",
       " 0.9094298028552514,\n",
       " 0.9095131488386241,\n",
       " 0.9095626841117327,\n",
       " 0.9096364152265801,\n",
       " 0.9098937646404672,\n",
       " 0.9101085043281029,\n",
       " 0.9111309344511325,\n",
       " 0.9115626859122247,\n",
       " 0.9116740627662991,\n",
       " 0.9122478637280915,\n",
       " 0.9125508078617304,\n",
       " 0.9133338538411173,\n",
       " 0.9153333150445023,\n",
       " 0.9163290171567157,\n",
       " 0.9170741576094471,\n",
       " 0.9190641409569668,\n",
       " 0.9198728655075592,\n",
       " 0.9209491174955231,\n",
       " 0.9212391673519014,\n",
       " 0.9212748588477109,\n",
       " 0.9222780934928609,\n",
       " 0.922699081707593,\n",
       " 0.924284587935972,\n",
       " 0.924537270999402,\n",
       " 0.9256847452525419,\n",
       " 0.9268261522074586,\n",
       " 0.9270798995909786,\n",
       " 0.927740313275984,\n",
       " 0.9283468368984856,\n",
       " 0.9286545817121429,\n",
       " 0.9295278144243624,\n",
       " 0.9308332360532661,\n",
       " 0.9317065750404461,\n",
       " 0.9330806955265427,\n",
       " 0.9332434035505156,\n",
       " 0.9374888381000336,\n",
       " 0.9377975551505081,\n",
       " 0.9478296708253094,\n",
       " 0.948206604625889,\n",
       " 0.951640590046448,\n",
       " 0.9550824492159643,\n",
       " 0.9574723927602503,\n",
       " 0.9614458335960419,\n",
       " 0.9673727650364654,\n",
       " 0.9696281492544166]"
      ]
     },
     "execution_count": 196,
     "metadata": {},
     "output_type": "execute_result"
    }
   ],
   "source": [
    "sorted(total_points(grades).unique())"
   ]
  },
  {
   "cell_type": "code",
   "execution_count": null,
   "metadata": {},
   "outputs": [],
   "source": []
  },
  {
   "cell_type": "code",
   "execution_count": null,
   "metadata": {},
   "outputs": [],
   "source": [
    "def convert_nan(number):\n",
    "    if(np.isnan(number)):\n",
    "        return 0\n",
    "    return number"
   ]
  },
  {
   "cell_type": "code",
   "execution_count": 217,
   "metadata": {},
   "outputs": [
    {
     "data": {
      "text/plain": [
       "0.0"
      ]
     },
     "execution_count": 217,
     "metadata": {},
     "output_type": "execute_result"
    }
   ],
   "source": [
    "out = total_points(grades)\n",
    "out.min()"
   ]
  },
  {
   "cell_type": "code",
   "execution_count": 218,
   "metadata": {
    "scrolled": false
   },
   "outputs": [
    {
     "data": {
      "text/plain": [
       "Series([], dtype: float64)"
      ]
     },
     "execution_count": 218,
     "metadata": {},
     "output_type": "execute_result"
    }
   ],
   "source": [
    "out[~((0 <= out) & (out <= 1))]"
   ]
  },
  {
   "cell_type": "code",
   "execution_count": 213,
   "metadata": {
    "deletable": false,
    "editable": false,
    "scrolled": false
   },
   "outputs": [
    {
     "data": {
      "text/html": [
       "<p><strong><pre style='display: inline;'>q7</pre></strong> passed!</p>"
      ],
      "text/plain": [
       "q7 results: All test cases passed!"
      ]
     },
     "execution_count": 213,
     "metadata": {},
     "output_type": "execute_result"
    }
   ],
   "source": [
    "grader.check(\"q7\")"
   ]
  },
  {
   "cell_type": "markdown",
   "metadata": {},
   "source": [
    "### Question 8\n",
    "\n",
    "Two more functions to go in this part!\n",
    "\n",
    "#### `final_grades`\n",
    "\n",
    "Complete the implementation of the function `final_grades`, which takes in final course grades (as computed in Question 7) and returns a Series of letter grades as determined by the standard cutoffs (without pluses or minuses):\n",
    "\n",
    "| Letter Grade | Cutoff |\n",
    "|:--- | --- |\n",
    "| A | grade >= 0.9 |\n",
    "| B | 0.8 <= grade < 0.9 |\n",
    "| C | 0.7 <= grade < 0.8 |\n",
    "| D | 0.6 <= grade < 0.7 |\n",
    "| F | grade < 0.6 |\n",
    "\n",
    "***Note:*** Do not round anyone's course grade when determining their letter grade.\n",
    "\n",
    "#### `letter_proportions`\n",
    "\n",
    "Complete the implementation of the function `letter_proportions`, which takes in a DataFrame `grades` and returns a Series containing the proportion of the class that received each letter grade. For instance, this Series might tell us that the proportion of the class receiving Bs was 0.45, As was 0.33, Cs was 0.16, Ds was 0.05, and Fs was 0.01 (though these are made up numbers). The index of this Series should be letters, and the **values should be sorted in decreasing order**.\n",
    "\n",
    "***Notes***: \n",
    "\n",
    "- The values in your returned Series should add up to exactly 1.0. If you are getting something close such as 0.99999, that means there is an issue with your code in a function you implemented earlier. \n",
    "\n",
    "- To check your work, verify the course grade distribution and relevant statistics! "
   ]
  },
  {
   "cell_type": "code",
   "execution_count": 231,
   "metadata": {
    "tags": []
   },
   "outputs": [],
   "source": [
    "def deter_letter2(total):\n",
    "    if(total >= 0.9):\n",
    "        return 'A'\n",
    "    elif total >= 0.8 & total < 0.9:\n",
    "        return 'B'\n",
    "    elif total >= 0.7 & total < 0.8:\n",
    "        return 'C'\n",
    "    elif total >= 0.6 & total < 0.7:\n",
    "        return 'D'\n",
    "    elif total < 0.6:\n",
    "        return 'F'"
   ]
  },
  {
   "cell_type": "code",
   "execution_count": 226,
   "metadata": {
    "scrolled": true
   },
   "outputs": [
    {
     "data": {
      "text/plain": [
       "0      0.902465\n",
       "1      0.584063\n",
       "2      0.887279\n",
       "3      0.816654\n",
       "4      0.889296\n",
       "         ...   \n",
       "530    0.865660\n",
       "531    0.764832\n",
       "532    0.859648\n",
       "533    0.866322\n",
       "534    0.894719\n",
       "Length: 535, dtype: float64"
      ]
     },
     "execution_count": 226,
     "metadata": {},
     "output_type": "execute_result"
    }
   ],
   "source": [
    "total =total_points(grades)\n",
    "total"
   ]
  },
  {
   "cell_type": "code",
   "execution_count": 232,
   "metadata": {
    "scrolled": true
   },
   "outputs": [
    {
     "ename": "TypeError",
     "evalue": "unsupported operand type(s) for &: 'float' and 'float'",
     "output_type": "error",
     "traceback": [
      "\u001b[0;31m---------------------------------------------------------------------------\u001b[0m",
      "\u001b[0;31mTypeError\u001b[0m                                 Traceback (most recent call last)",
      "Input \u001b[0;32mIn [232]\u001b[0m, in \u001b[0;36m<cell line: 2>\u001b[0;34m()\u001b[0m\n\u001b[1;32m      1\u001b[0m temp_df \u001b[38;5;241m=\u001b[39m pd\u001b[38;5;241m.\u001b[39mDataFrame(data \u001b[38;5;241m=\u001b[39m total, columns \u001b[38;5;241m=\u001b[39m [\u001b[38;5;124m'\u001b[39m\u001b[38;5;124m0\u001b[39m\u001b[38;5;124m'\u001b[39m])\n\u001b[0;32m----> 2\u001b[0m temp_df[\u001b[38;5;124m'\u001b[39m\u001b[38;5;124m0\u001b[39m\u001b[38;5;124m'\u001b[39m] \u001b[38;5;241m=\u001b[39m \u001b[43mtemp_df\u001b[49m\u001b[43m[\u001b[49m\u001b[38;5;124;43m'\u001b[39;49m\u001b[38;5;124;43m0\u001b[39;49m\u001b[38;5;124;43m'\u001b[39;49m\u001b[43m]\u001b[49m\u001b[38;5;241;43m.\u001b[39;49m\u001b[43mapply\u001b[49m\u001b[43m(\u001b[49m\u001b[43mdeter_letter\u001b[49m\u001b[43m)\u001b[49m\n\u001b[1;32m      3\u001b[0m temp_df\n",
      "File \u001b[0;32m~/Documents/anaconda3/envs/dsc80/lib/python3.8/site-packages/pandas/core/series.py:4357\u001b[0m, in \u001b[0;36mSeries.apply\u001b[0;34m(self, func, convert_dtype, args, **kwargs)\u001b[0m\n\u001b[1;32m   4247\u001b[0m \u001b[38;5;28;01mdef\u001b[39;00m \u001b[38;5;21mapply\u001b[39m(\n\u001b[1;32m   4248\u001b[0m     \u001b[38;5;28mself\u001b[39m,\n\u001b[1;32m   4249\u001b[0m     func: AggFuncType,\n\u001b[0;32m   (...)\u001b[0m\n\u001b[1;32m   4252\u001b[0m     \u001b[38;5;241m*\u001b[39m\u001b[38;5;241m*\u001b[39mkwargs,\n\u001b[1;32m   4253\u001b[0m ) \u001b[38;5;241m-\u001b[39m\u001b[38;5;241m>\u001b[39m FrameOrSeriesUnion:\n\u001b[1;32m   4254\u001b[0m     \u001b[38;5;124;03m\"\"\"\u001b[39;00m\n\u001b[1;32m   4255\u001b[0m \u001b[38;5;124;03m    Invoke function on values of Series.\u001b[39;00m\n\u001b[1;32m   4256\u001b[0m \n\u001b[0;32m   (...)\u001b[0m\n\u001b[1;32m   4355\u001b[0m \u001b[38;5;124;03m    dtype: float64\u001b[39;00m\n\u001b[1;32m   4356\u001b[0m \u001b[38;5;124;03m    \"\"\"\u001b[39;00m\n\u001b[0;32m-> 4357\u001b[0m     \u001b[38;5;28;01mreturn\u001b[39;00m \u001b[43mSeriesApply\u001b[49m\u001b[43m(\u001b[49m\u001b[38;5;28;43mself\u001b[39;49m\u001b[43m,\u001b[49m\u001b[43m \u001b[49m\u001b[43mfunc\u001b[49m\u001b[43m,\u001b[49m\u001b[43m \u001b[49m\u001b[43mconvert_dtype\u001b[49m\u001b[43m,\u001b[49m\u001b[43m \u001b[49m\u001b[43margs\u001b[49m\u001b[43m,\u001b[49m\u001b[43m \u001b[49m\u001b[43mkwargs\u001b[49m\u001b[43m)\u001b[49m\u001b[38;5;241;43m.\u001b[39;49m\u001b[43mapply\u001b[49m\u001b[43m(\u001b[49m\u001b[43m)\u001b[49m\n",
      "File \u001b[0;32m~/Documents/anaconda3/envs/dsc80/lib/python3.8/site-packages/pandas/core/apply.py:1043\u001b[0m, in \u001b[0;36mSeriesApply.apply\u001b[0;34m(self)\u001b[0m\n\u001b[1;32m   1039\u001b[0m \u001b[38;5;28;01mif\u001b[39;00m \u001b[38;5;28misinstance\u001b[39m(\u001b[38;5;28mself\u001b[39m\u001b[38;5;241m.\u001b[39mf, \u001b[38;5;28mstr\u001b[39m):\n\u001b[1;32m   1040\u001b[0m     \u001b[38;5;66;03m# if we are a string, try to dispatch\u001b[39;00m\n\u001b[1;32m   1041\u001b[0m     \u001b[38;5;28;01mreturn\u001b[39;00m \u001b[38;5;28mself\u001b[39m\u001b[38;5;241m.\u001b[39mapply_str()\n\u001b[0;32m-> 1043\u001b[0m \u001b[38;5;28;01mreturn\u001b[39;00m \u001b[38;5;28;43mself\u001b[39;49m\u001b[38;5;241;43m.\u001b[39;49m\u001b[43mapply_standard\u001b[49m\u001b[43m(\u001b[49m\u001b[43m)\u001b[49m\n",
      "File \u001b[0;32m~/Documents/anaconda3/envs/dsc80/lib/python3.8/site-packages/pandas/core/apply.py:1099\u001b[0m, in \u001b[0;36mSeriesApply.apply_standard\u001b[0;34m(self)\u001b[0m\n\u001b[1;32m   1093\u001b[0m         values \u001b[38;5;241m=\u001b[39m obj\u001b[38;5;241m.\u001b[39mastype(\u001b[38;5;28mobject\u001b[39m)\u001b[38;5;241m.\u001b[39m_values\n\u001b[1;32m   1094\u001b[0m         \u001b[38;5;66;03m# error: Argument 2 to \"map_infer\" has incompatible type\u001b[39;00m\n\u001b[1;32m   1095\u001b[0m         \u001b[38;5;66;03m# \"Union[Callable[..., Any], str, List[Union[Callable[..., Any], str]],\u001b[39;00m\n\u001b[1;32m   1096\u001b[0m         \u001b[38;5;66;03m# Dict[Hashable, Union[Union[Callable[..., Any], str],\u001b[39;00m\n\u001b[1;32m   1097\u001b[0m         \u001b[38;5;66;03m# List[Union[Callable[..., Any], str]]]]]\"; expected\u001b[39;00m\n\u001b[1;32m   1098\u001b[0m         \u001b[38;5;66;03m# \"Callable[[Any], Any]\"\u001b[39;00m\n\u001b[0;32m-> 1099\u001b[0m         mapped \u001b[38;5;241m=\u001b[39m \u001b[43mlib\u001b[49m\u001b[38;5;241;43m.\u001b[39;49m\u001b[43mmap_infer\u001b[49m\u001b[43m(\u001b[49m\n\u001b[1;32m   1100\u001b[0m \u001b[43m            \u001b[49m\u001b[43mvalues\u001b[49m\u001b[43m,\u001b[49m\n\u001b[1;32m   1101\u001b[0m \u001b[43m            \u001b[49m\u001b[43mf\u001b[49m\u001b[43m,\u001b[49m\u001b[43m  \u001b[49m\u001b[38;5;66;43;03m# type: ignore[arg-type]\u001b[39;49;00m\n\u001b[1;32m   1102\u001b[0m \u001b[43m            \u001b[49m\u001b[43mconvert\u001b[49m\u001b[38;5;241;43m=\u001b[39;49m\u001b[38;5;28;43mself\u001b[39;49m\u001b[38;5;241;43m.\u001b[39;49m\u001b[43mconvert_dtype\u001b[49m\u001b[43m,\u001b[49m\n\u001b[1;32m   1103\u001b[0m \u001b[43m        \u001b[49m\u001b[43m)\u001b[49m\n\u001b[1;32m   1105\u001b[0m \u001b[38;5;28;01mif\u001b[39;00m \u001b[38;5;28mlen\u001b[39m(mapped) \u001b[38;5;129;01mand\u001b[39;00m \u001b[38;5;28misinstance\u001b[39m(mapped[\u001b[38;5;241m0\u001b[39m], ABCSeries):\n\u001b[1;32m   1106\u001b[0m     \u001b[38;5;66;03m# GH 25959 use pd.array instead of tolist\u001b[39;00m\n\u001b[1;32m   1107\u001b[0m     \u001b[38;5;66;03m# so extension arrays can be used\u001b[39;00m\n\u001b[1;32m   1108\u001b[0m     \u001b[38;5;28;01mreturn\u001b[39;00m obj\u001b[38;5;241m.\u001b[39m_constructor_expanddim(pd_array(mapped), index\u001b[38;5;241m=\u001b[39mobj\u001b[38;5;241m.\u001b[39mindex)\n",
      "File \u001b[0;32m~/Documents/anaconda3/envs/dsc80/lib/python3.8/site-packages/pandas/_libs/lib.pyx:2859\u001b[0m, in \u001b[0;36mpandas._libs.lib.map_infer\u001b[0;34m()\u001b[0m\n",
      "Input \u001b[0;32mIn [228]\u001b[0m, in \u001b[0;36mdeter_letter\u001b[0;34m(total)\u001b[0m\n\u001b[1;32m      2\u001b[0m \u001b[38;5;28;01mif\u001b[39;00m(total \u001b[38;5;241m>\u001b[39m\u001b[38;5;241m=\u001b[39m \u001b[38;5;241m0.9\u001b[39m):\n\u001b[1;32m      3\u001b[0m     \u001b[38;5;28;01mreturn\u001b[39;00m \u001b[38;5;124m'\u001b[39m\u001b[38;5;124mA\u001b[39m\u001b[38;5;124m'\u001b[39m\n\u001b[0;32m----> 4\u001b[0m \u001b[38;5;28;01melif\u001b[39;00m total \u001b[38;5;241m>\u001b[39m\u001b[38;5;241m=\u001b[39m \u001b[38;5;241;43m0.8\u001b[39;49m\u001b[43m \u001b[49m\u001b[38;5;241;43m&\u001b[39;49m\u001b[43m \u001b[49m\u001b[43mtotal\u001b[49m \u001b[38;5;241m<\u001b[39m \u001b[38;5;241m0.9\u001b[39m:\n\u001b[1;32m      5\u001b[0m     \u001b[38;5;28;01mreturn\u001b[39;00m \u001b[38;5;124m'\u001b[39m\u001b[38;5;124mB\u001b[39m\u001b[38;5;124m'\u001b[39m\n\u001b[1;32m      6\u001b[0m \u001b[38;5;28;01melif\u001b[39;00m total \u001b[38;5;241m>\u001b[39m\u001b[38;5;241m=\u001b[39m \u001b[38;5;241m0.7\u001b[39m \u001b[38;5;241m&\u001b[39m total \u001b[38;5;241m<\u001b[39m \u001b[38;5;241m0.8\u001b[39m:\n",
      "\u001b[0;31mTypeError\u001b[0m: unsupported operand type(s) for &: 'float' and 'float'"
     ]
    }
   ],
   "source": [
    "temp_df = pd.DataFrame(data = total, columns = ['0'])\n",
    "temp_df['0'] = temp_df['0'].apply(deter_letter)\n",
    "temp_df"
   ]
  },
  {
   "cell_type": "code",
   "execution_count": 249,
   "metadata": {},
   "outputs": [
    {
     "data": {
      "text/plain": [
       "B    0.506542\n",
       "C    0.224299\n",
       "A    0.207477\n",
       "D    0.031776\n",
       "F    0.029907\n",
       "Name: 0, dtype: float64"
      ]
     },
     "execution_count": 249,
     "metadata": {},
     "output_type": "execute_result"
    }
   ],
   "source": [
    "letter_proportions(grades)"
   ]
  },
  {
   "cell_type": "code",
   "execution_count": 235,
   "metadata": {
    "scrolled": false,
    "tags": []
   },
   "outputs": [],
   "source": [
    "out_put = final_grades(total_points(grades))"
   ]
  },
  {
   "cell_type": "code",
   "execution_count": 248,
   "metadata": {
    "scrolled": true,
    "tags": []
   },
   "outputs": [
    {
     "data": {
      "text/plain": [
       "1.0"
      ]
     },
     "execution_count": 248,
     "metadata": {},
     "output_type": "execute_result"
    }
   ],
   "source": [
    "out_put.value_counts().sort_values(ascending = False) / out_put.shape[0]"
   ]
  },
  {
   "cell_type": "code",
   "execution_count": 246,
   "metadata": {},
   "outputs": [
    {
     "data": {
      "text/plain": [
       "535"
      ]
     },
     "execution_count": 246,
     "metadata": {},
     "output_type": "execute_result"
    }
   ],
   "source": [
    "out_put.shape[0]"
   ]
  },
  {
   "cell_type": "code",
   "execution_count": null,
   "metadata": {
    "deletable": false,
    "editable": false
   },
   "outputs": [],
   "source": [
    "grader.check(\"q8\")"
   ]
  },
  {
   "cell_type": "markdown",
   "metadata": {},
   "source": [
    "<a name='part5'></a>\n",
    "\n",
    "## Part 5: Do Seniors Get Worse Grades? 👵\n",
    "\n",
    "Now that you've computed the overall course grades and letter grades for all students in our fictional class, it's time to perform some analyses of these grades."
   ]
  },
  {
   "cell_type": "markdown",
   "metadata": {},
   "source": [
    "### Question 9\n",
    "\n",
    "You notice that students who are seniors on average did worse in the class (if you can't verify this, you should go back and check your work!). Is this difference significant, or just due to noise?\n",
    "\n",
    "Perform a hypothesis test, assessing the likelihood of the above statement under the null hypothesis: \n",
    "> Seniors earn grades that are roughly equal on average to the rest of the class.\n",
    "\n",
    "To do this, complete the implementation of the function `simulate_pval`, which takes in a DataFrame `grades` and a number of simulations `N` and returns the **probability that the mean grade (between 0 and 1) earned by a random subset of students* is less than or equal to the average grade of seniors** (i.e. calculate and return the p-value).\n",
    "\n",
    "*_The size of each random subset must be same the number of seniors in the class._\n",
    "\n",
    "***Note:*** To check your work, plot the sampling distribution of your test statistic along with the observed test statistic. Do these values look reasonable?"
   ]
  },
  {
   "cell_type": "code",
   "execution_count": null,
   "metadata": {},
   "outputs": [],
   "source": []
  },
  {
   "cell_type": "code",
   "execution_count": 6,
   "metadata": {
    "scrolled": true,
    "tags": []
   },
   "outputs": [
    {
     "data": {
      "text/html": [
       "<div>\n",
       "<style scoped>\n",
       "    .dataframe tbody tr th:only-of-type {\n",
       "        vertical-align: middle;\n",
       "    }\n",
       "\n",
       "    .dataframe tbody tr th {\n",
       "        vertical-align: top;\n",
       "    }\n",
       "\n",
       "    .dataframe thead th {\n",
       "        text-align: right;\n",
       "    }\n",
       "</style>\n",
       "<table border=\"1\" class=\"dataframe\">\n",
       "  <thead>\n",
       "    <tr style=\"text-align: right;\">\n",
       "      <th></th>\n",
       "      <th>PID</th>\n",
       "      <th>College</th>\n",
       "      <th>Level</th>\n",
       "      <th>lab01</th>\n",
       "      <th>lab01 - Max Points</th>\n",
       "      <th>lab01 - Lateness (H:M:S)</th>\n",
       "      <th>lab02</th>\n",
       "      <th>lab02 - Max Points</th>\n",
       "      <th>lab02 - Lateness (H:M:S)</th>\n",
       "      <th>project01</th>\n",
       "      <th>...</th>\n",
       "      <th>discussion07 - Lateness (H:M:S)</th>\n",
       "      <th>discussion08</th>\n",
       "      <th>discussion08 - Max Points</th>\n",
       "      <th>discussion08 - Lateness (H:M:S)</th>\n",
       "      <th>discussion09</th>\n",
       "      <th>discussion09 - Max Points</th>\n",
       "      <th>discussion09 - Lateness (H:M:S)</th>\n",
       "      <th>discussion10</th>\n",
       "      <th>discussion10 - Max Points</th>\n",
       "      <th>discussion10 - Lateness (H:M:S)</th>\n",
       "    </tr>\n",
       "  </thead>\n",
       "  <tbody>\n",
       "    <tr>\n",
       "      <th>0</th>\n",
       "      <td>A14721419</td>\n",
       "      <td>SI</td>\n",
       "      <td>JR</td>\n",
       "      <td>99.735279</td>\n",
       "      <td>100</td>\n",
       "      <td>00:00:00</td>\n",
       "      <td>84.990171</td>\n",
       "      <td>100</td>\n",
       "      <td>00:00:00</td>\n",
       "      <td>75.282632</td>\n",
       "      <td>...</td>\n",
       "      <td>00:00:00</td>\n",
       "      <td>8.895294</td>\n",
       "      <td>10</td>\n",
       "      <td>00:00:00</td>\n",
       "      <td>10.000000</td>\n",
       "      <td>10</td>\n",
       "      <td>780:01:28</td>\n",
       "      <td>10.000000</td>\n",
       "      <td>10</td>\n",
       "      <td>00:00:00</td>\n",
       "    </tr>\n",
       "    <tr>\n",
       "      <th>1</th>\n",
       "      <td>A14540219</td>\n",
       "      <td>WA</td>\n",
       "      <td>JR</td>\n",
       "      <td>69.586809</td>\n",
       "      <td>100</td>\n",
       "      <td>00:00:00</td>\n",
       "      <td>75.455147</td>\n",
       "      <td>100</td>\n",
       "      <td>00:00:00</td>\n",
       "      <td>NaN</td>\n",
       "      <td>...</td>\n",
       "      <td>00:00:00</td>\n",
       "      <td>NaN</td>\n",
       "      <td>10</td>\n",
       "      <td>00:00:00</td>\n",
       "      <td>NaN</td>\n",
       "      <td>10</td>\n",
       "      <td>00:00:00</td>\n",
       "      <td>NaN</td>\n",
       "      <td>10</td>\n",
       "      <td>00:00:00</td>\n",
       "    </tr>\n",
       "    <tr>\n",
       "      <th>2</th>\n",
       "      <td>A14654940</td>\n",
       "      <td>SI</td>\n",
       "      <td>SO</td>\n",
       "      <td>99.916912</td>\n",
       "      <td>100</td>\n",
       "      <td>00:00:00</td>\n",
       "      <td>NaN</td>\n",
       "      <td>100</td>\n",
       "      <td>00:00:00</td>\n",
       "      <td>63.995207</td>\n",
       "      <td>...</td>\n",
       "      <td>00:00:00</td>\n",
       "      <td>10.000000</td>\n",
       "      <td>10</td>\n",
       "      <td>00:00:00</td>\n",
       "      <td>10.000000</td>\n",
       "      <td>10</td>\n",
       "      <td>00:00:00</td>\n",
       "      <td>10.000000</td>\n",
       "      <td>10</td>\n",
       "      <td>46:27:42</td>\n",
       "    </tr>\n",
       "    <tr>\n",
       "      <th>3</th>\n",
       "      <td>A14883274</td>\n",
       "      <td>TH</td>\n",
       "      <td>JR</td>\n",
       "      <td>98.829476</td>\n",
       "      <td>100</td>\n",
       "      <td>00:00:00</td>\n",
       "      <td>50.784231</td>\n",
       "      <td>100</td>\n",
       "      <td>00:00:00</td>\n",
       "      <td>52.929482</td>\n",
       "      <td>...</td>\n",
       "      <td>669:12:21</td>\n",
       "      <td>9.022407</td>\n",
       "      <td>10</td>\n",
       "      <td>00:00:00</td>\n",
       "      <td>9.020283</td>\n",
       "      <td>10</td>\n",
       "      <td>00:00:00</td>\n",
       "      <td>9.437368</td>\n",
       "      <td>10</td>\n",
       "      <td>00:00:00</td>\n",
       "    </tr>\n",
       "    <tr>\n",
       "      <th>4</th>\n",
       "      <td>A14755997</td>\n",
       "      <td>WA</td>\n",
       "      <td>JR</td>\n",
       "      <td>86.370726</td>\n",
       "      <td>100</td>\n",
       "      <td>00:00:00</td>\n",
       "      <td>NaN</td>\n",
       "      <td>100</td>\n",
       "      <td>00:00:00</td>\n",
       "      <td>85.000000</td>\n",
       "      <td>...</td>\n",
       "      <td>00:00:00</td>\n",
       "      <td>9.232778</td>\n",
       "      <td>10</td>\n",
       "      <td>00:00:00</td>\n",
       "      <td>9.134615</td>\n",
       "      <td>10</td>\n",
       "      <td>00:00:00</td>\n",
       "      <td>10.000000</td>\n",
       "      <td>10</td>\n",
       "      <td>00:00:00</td>\n",
       "    </tr>\n",
       "    <tr>\n",
       "      <th>...</th>\n",
       "      <td>...</td>\n",
       "      <td>...</td>\n",
       "      <td>...</td>\n",
       "      <td>...</td>\n",
       "      <td>...</td>\n",
       "      <td>...</td>\n",
       "      <td>...</td>\n",
       "      <td>...</td>\n",
       "      <td>...</td>\n",
       "      <td>...</td>\n",
       "      <td>...</td>\n",
       "      <td>...</td>\n",
       "      <td>...</td>\n",
       "      <td>...</td>\n",
       "      <td>...</td>\n",
       "      <td>...</td>\n",
       "      <td>...</td>\n",
       "      <td>...</td>\n",
       "      <td>...</td>\n",
       "      <td>...</td>\n",
       "      <td>...</td>\n",
       "    </tr>\n",
       "    <tr>\n",
       "      <th>530</th>\n",
       "      <td>A14490387</td>\n",
       "      <td>SI</td>\n",
       "      <td>JR</td>\n",
       "      <td>100.000000</td>\n",
       "      <td>100</td>\n",
       "      <td>47:26:10</td>\n",
       "      <td>82.022753</td>\n",
       "      <td>100</td>\n",
       "      <td>00:00:00</td>\n",
       "      <td>78.936816</td>\n",
       "      <td>...</td>\n",
       "      <td>00:00:00</td>\n",
       "      <td>10.000000</td>\n",
       "      <td>10</td>\n",
       "      <td>12:08:58</td>\n",
       "      <td>9.169447</td>\n",
       "      <td>10</td>\n",
       "      <td>00:00:00</td>\n",
       "      <td>10.000000</td>\n",
       "      <td>10</td>\n",
       "      <td>00:00:00</td>\n",
       "    </tr>\n",
       "    <tr>\n",
       "      <th>531</th>\n",
       "      <td>A14088257</td>\n",
       "      <td>SI</td>\n",
       "      <td>SO</td>\n",
       "      <td>100.000000</td>\n",
       "      <td>100</td>\n",
       "      <td>00:00:00</td>\n",
       "      <td>87.498073</td>\n",
       "      <td>100</td>\n",
       "      <td>00:00:00</td>\n",
       "      <td>72.076801</td>\n",
       "      <td>...</td>\n",
       "      <td>00:00:00</td>\n",
       "      <td>10.000000</td>\n",
       "      <td>10</td>\n",
       "      <td>00:00:00</td>\n",
       "      <td>10.000000</td>\n",
       "      <td>10</td>\n",
       "      <td>00:00:00</td>\n",
       "      <td>10.000000</td>\n",
       "      <td>10</td>\n",
       "      <td>00:00:00</td>\n",
       "    </tr>\n",
       "    <tr>\n",
       "      <th>532</th>\n",
       "      <td>A14847419</td>\n",
       "      <td>WA</td>\n",
       "      <td>JR</td>\n",
       "      <td>88.656641</td>\n",
       "      <td>100</td>\n",
       "      <td>00:00:00</td>\n",
       "      <td>90.326041</td>\n",
       "      <td>100</td>\n",
       "      <td>00:00:00</td>\n",
       "      <td>66.273252</td>\n",
       "      <td>...</td>\n",
       "      <td>00:00:00</td>\n",
       "      <td>9.878661</td>\n",
       "      <td>10</td>\n",
       "      <td>00:00:00</td>\n",
       "      <td>8.878946</td>\n",
       "      <td>10</td>\n",
       "      <td>00:00:00</td>\n",
       "      <td>10.000000</td>\n",
       "      <td>10</td>\n",
       "      <td>00:00:00</td>\n",
       "    </tr>\n",
       "    <tr>\n",
       "      <th>533</th>\n",
       "      <td>A14513929</td>\n",
       "      <td>TH</td>\n",
       "      <td>SR</td>\n",
       "      <td>83.799719</td>\n",
       "      <td>100</td>\n",
       "      <td>00:00:00</td>\n",
       "      <td>85.636947</td>\n",
       "      <td>100</td>\n",
       "      <td>00:00:00</td>\n",
       "      <td>63.965217</td>\n",
       "      <td>...</td>\n",
       "      <td>00:00:00</td>\n",
       "      <td>7.759434</td>\n",
       "      <td>10</td>\n",
       "      <td>00:00:00</td>\n",
       "      <td>8.655478</td>\n",
       "      <td>10</td>\n",
       "      <td>419:06:41</td>\n",
       "      <td>8.102277</td>\n",
       "      <td>10</td>\n",
       "      <td>00:00:00</td>\n",
       "    </tr>\n",
       "    <tr>\n",
       "      <th>534</th>\n",
       "      <td>A14365863</td>\n",
       "      <td>WA</td>\n",
       "      <td>SR</td>\n",
       "      <td>88.389331</td>\n",
       "      <td>100</td>\n",
       "      <td>00:00:00</td>\n",
       "      <td>73.045171</td>\n",
       "      <td>100</td>\n",
       "      <td>00:00:00</td>\n",
       "      <td>77.572115</td>\n",
       "      <td>...</td>\n",
       "      <td>21:47:10</td>\n",
       "      <td>10.000000</td>\n",
       "      <td>10</td>\n",
       "      <td>00:00:00</td>\n",
       "      <td>9.515494</td>\n",
       "      <td>10</td>\n",
       "      <td>00:00:00</td>\n",
       "      <td>10.000000</td>\n",
       "      <td>10</td>\n",
       "      <td>00:00:00</td>\n",
       "    </tr>\n",
       "  </tbody>\n",
       "</table>\n",
       "<p>535 rows × 100 columns</p>\n",
       "</div>"
      ],
      "text/plain": [
       "           PID College Level       lab01  lab01 - Max Points  \\\n",
       "0    A14721419      SI    JR   99.735279                 100   \n",
       "1    A14540219      WA    JR   69.586809                 100   \n",
       "2    A14654940      SI    SO   99.916912                 100   \n",
       "3    A14883274      TH    JR   98.829476                 100   \n",
       "4    A14755997      WA    JR   86.370726                 100   \n",
       "..         ...     ...   ...         ...                 ...   \n",
       "530  A14490387      SI    JR  100.000000                 100   \n",
       "531  A14088257      SI    SO  100.000000                 100   \n",
       "532  A14847419      WA    JR   88.656641                 100   \n",
       "533  A14513929      TH    SR   83.799719                 100   \n",
       "534  A14365863      WA    SR   88.389331                 100   \n",
       "\n",
       "    lab01 - Lateness (H:M:S)      lab02  lab02 - Max Points  \\\n",
       "0                   00:00:00  84.990171                 100   \n",
       "1                   00:00:00  75.455147                 100   \n",
       "2                   00:00:00        NaN                 100   \n",
       "3                   00:00:00  50.784231                 100   \n",
       "4                   00:00:00        NaN                 100   \n",
       "..                       ...        ...                 ...   \n",
       "530                 47:26:10  82.022753                 100   \n",
       "531                 00:00:00  87.498073                 100   \n",
       "532                 00:00:00  90.326041                 100   \n",
       "533                 00:00:00  85.636947                 100   \n",
       "534                 00:00:00  73.045171                 100   \n",
       "\n",
       "    lab02 - Lateness (H:M:S)  project01  ...  discussion07 - Lateness (H:M:S)  \\\n",
       "0                   00:00:00  75.282632  ...                         00:00:00   \n",
       "1                   00:00:00        NaN  ...                         00:00:00   \n",
       "2                   00:00:00  63.995207  ...                         00:00:00   \n",
       "3                   00:00:00  52.929482  ...                        669:12:21   \n",
       "4                   00:00:00  85.000000  ...                         00:00:00   \n",
       "..                       ...        ...  ...                              ...   \n",
       "530                 00:00:00  78.936816  ...                         00:00:00   \n",
       "531                 00:00:00  72.076801  ...                         00:00:00   \n",
       "532                 00:00:00  66.273252  ...                         00:00:00   \n",
       "533                 00:00:00  63.965217  ...                         00:00:00   \n",
       "534                 00:00:00  77.572115  ...                         21:47:10   \n",
       "\n",
       "    discussion08  discussion08 - Max Points  discussion08 - Lateness (H:M:S)  \\\n",
       "0       8.895294                         10                         00:00:00   \n",
       "1            NaN                         10                         00:00:00   \n",
       "2      10.000000                         10                         00:00:00   \n",
       "3       9.022407                         10                         00:00:00   \n",
       "4       9.232778                         10                         00:00:00   \n",
       "..           ...                        ...                              ...   \n",
       "530    10.000000                         10                         12:08:58   \n",
       "531    10.000000                         10                         00:00:00   \n",
       "532     9.878661                         10                         00:00:00   \n",
       "533     7.759434                         10                         00:00:00   \n",
       "534    10.000000                         10                         00:00:00   \n",
       "\n",
       "    discussion09  discussion09 - Max Points  discussion09 - Lateness (H:M:S)  \\\n",
       "0      10.000000                         10                        780:01:28   \n",
       "1            NaN                         10                         00:00:00   \n",
       "2      10.000000                         10                         00:00:00   \n",
       "3       9.020283                         10                         00:00:00   \n",
       "4       9.134615                         10                         00:00:00   \n",
       "..           ...                        ...                              ...   \n",
       "530     9.169447                         10                         00:00:00   \n",
       "531    10.000000                         10                         00:00:00   \n",
       "532     8.878946                         10                         00:00:00   \n",
       "533     8.655478                         10                        419:06:41   \n",
       "534     9.515494                         10                         00:00:00   \n",
       "\n",
       "    discussion10  discussion10 - Max Points  discussion10 - Lateness (H:M:S)  \n",
       "0      10.000000                         10                         00:00:00  \n",
       "1            NaN                         10                         00:00:00  \n",
       "2      10.000000                         10                         46:27:42  \n",
       "3       9.437368                         10                         00:00:00  \n",
       "4      10.000000                         10                         00:00:00  \n",
       "..           ...                        ...                              ...  \n",
       "530    10.000000                         10                         00:00:00  \n",
       "531    10.000000                         10                         00:00:00  \n",
       "532    10.000000                         10                         00:00:00  \n",
       "533     8.102277                         10                         00:00:00  \n",
       "534    10.000000                         10                         00:00:00  \n",
       "\n",
       "[535 rows x 100 columns]"
      ]
     },
     "execution_count": 6,
     "metadata": {},
     "output_type": "execute_result"
    }
   ],
   "source": [
    "grades"
   ]
  },
  {
   "cell_type": "code",
   "execution_count": 58,
   "metadata": {
    "tags": []
   },
   "outputs": [],
   "source": [
    "N = 100_000\n",
    "\n",
    "df_gradecheck = pd.DataFrame()\n",
    "df_gradecheck['grades'] = total_points(grades)\n",
    "df_gradecheck['level'] = grades['Level']\n",
    "df_gradecheck = df_gradecheck.groupby('level').mean()\n",
    "\n",
    "\n",
    "\n",
    "observed_senior = df_gradecheck.loc['SR'][0]\n",
    "observed_senior\n",
    "\n",
    "num_seniors = grades['Level'].value_counts().loc['SR']\n",
    "num_seniors\n",
    "\n",
    "test_stats = np.random.choice(total_points(grades), size = (N,num_seniors), replace = True)\n",
    "test_stats = test_stats.mean(axis = 1) \n",
    "\n",
    "#test_stats = test_stats.mean()\n",
    "\n",
    "\n",
    "\n",
    "\n",
    "\n",
    "\n",
    "\n",
    "\n"
   ]
  },
  {
   "cell_type": "code",
   "execution_count": 59,
   "metadata": {},
   "outputs": [
    {
     "data": {
      "image/png": "[encoded data removed]",
      "text/plain": [
       "<Figure size 432x288 with 1 Axes>"
      ]
     },
     "metadata": {
      "needs_background": "light"
     },
     "output_type": "display_data"
    }
   ],
   "source": [
    "pd.Series(test_stats).plot(kind='hist', \n",
    "                        density=True,\n",
    "                        bins = 100\n",
    "                          ).axvline(x=observed_senior, color='red', linewidth=4);"
   ]
  },
  {
   "cell_type": "code",
   "execution_count": 60,
   "metadata": {},
   "outputs": [
    {
     "data": {
      "text/plain": [
       "0.00724"
      ]
     },
     "execution_count": 60,
     "metadata": {},
     "output_type": "execute_result"
    }
   ],
   "source": [
    "test_stats = test_stats <= observed_senior\n",
    "test_stats.mean()"
   ]
  },
  {
   "cell_type": "code",
   "execution_count": 70,
   "metadata": {
    "tags": []
   },
   "outputs": [
    {
     "data": {
      "text/plain": [
       "0.00702"
      ]
     },
     "execution_count": 70,
     "metadata": {},
     "output_type": "execute_result"
    }
   ],
   "source": [
    "simulate_pval(grades,100_000)"
   ]
  },
  {
   "cell_type": "code",
   "execution_count": 71,
   "metadata": {
    "deletable": false,
    "editable": false
   },
   "outputs": [
    {
     "data": {
      "text/html": [
       "<p><strong><pre style='display: inline;'>q9</pre></strong> passed!</p>"
      ],
      "text/plain": [
       "q9 results: All test cases passed!"
      ]
     },
     "execution_count": 71,
     "metadata": {},
     "output_type": "execute_result"
    }
   ],
   "source": [
    "grader.check(\"q9\")"
   ]
  },
  {
   "cell_type": "markdown",
   "metadata": {},
   "source": [
    "<a name='part6'></a>\n",
    "\n",
    "## Part 6: What is the True Distribution of Grades? 🧐\n",
    "\n",
    "The gradebook for this class only reflects one particular instance of each student's performance, subject to the effects of all the little events and hiccups that occurred throughout the quarter. Would you have done better on the midterm if your roommate didn't kept you up all night with their coughing? Wasn't it lucky that the example you were studying just before the final happened to appear on the exam?"
   ]
  },
  {
   "cell_type": "markdown",
   "metadata": {},
   "source": [
    "### Question 10\n",
    "\n",
    "This question will simulate these \"(un)lucky, random events\" by **adding or subtracting random amounts to each assignment right before calculating the final grades for that assignment**. These \"random amounts\" will be drawn from a Gaussian distribution with mean 0 and standard deviation 0.02:\n",
    "```\n",
    "np.random.normal(0, 0.02, size=(num_rows, num_cols))\n",
    "```\n",
    "Intuitively, such a model says that random events may bump up or down a particular grade, given as a proportion, in a way that:\n",
    "- on average has no effect on the class as a whole (mean 0), but\n",
    "- could perturb an individual grade by 0.02 or more (standard deviation 0.02).\n",
    "\n",
    "Create a function `total_points_with_noise` that takes in a DataFrame like `grades`, adds noise to the assignments as described above, and returns the final scores using **the same procedure** as Questions 1-8.\n",
    "\n",
    "***Notes:*** \n",
    "\n",
    "- **For any given assignment, the noise should be applied after calculating the normalized scores (i.e. proportions) for that assignment. For example, the noise should be added to `'lab1'` once the column contains scores that are less than or equal to 1.**\n",
    "\n",
    "- Once adding the noise to the assignment scores, use the `np.clip` function to be sure each assignment retains a score between 0 and 1.\n",
    "\n",
    "- You should be able to reuse (or minorly change) the code from previous problems. Try to practice DRY (don't repeat yourself)!\n",
    "\n",
    "- To check your work - what would you expect the difference between the actual scores and noisy scores to be, on average?"
   ]
  },
  {
   "cell_type": "code",
   "execution_count": 83,
   "metadata": {},
   "outputs": [
    {
     "data": {
      "text/html": [
       "<div>\n",
       "<style scoped>\n",
       "    .dataframe tbody tr th:only-of-type {\n",
       "        vertical-align: middle;\n",
       "    }\n",
       "\n",
       "    .dataframe tbody tr th {\n",
       "        vertical-align: top;\n",
       "    }\n",
       "\n",
       "    .dataframe thead th {\n",
       "        text-align: right;\n",
       "    }\n",
       "</style>\n",
       "<table border=\"1\" class=\"dataframe\">\n",
       "  <thead>\n",
       "    <tr style=\"text-align: right;\">\n",
       "      <th></th>\n",
       "      <th>lab01</th>\n",
       "      <th>lab02</th>\n",
       "      <th>lab03</th>\n",
       "      <th>lab04</th>\n",
       "      <th>lab05</th>\n",
       "      <th>lab06</th>\n",
       "      <th>lab07</th>\n",
       "      <th>lab08</th>\n",
       "      <th>lab09</th>\n",
       "    </tr>\n",
       "  </thead>\n",
       "  <tbody>\n",
       "    <tr>\n",
       "      <th>0</th>\n",
       "      <td>0.997353</td>\n",
       "      <td>0.849902</td>\n",
       "      <td>0.637744</td>\n",
       "      <td>1.000000</td>\n",
       "      <td>1.000000</td>\n",
       "      <td>0.994518</td>\n",
       "      <td>0.389141</td>\n",
       "      <td>0.887917</td>\n",
       "      <td>0.874913</td>\n",
       "    </tr>\n",
       "    <tr>\n",
       "      <th>1</th>\n",
       "      <td>0.695868</td>\n",
       "      <td>0.754551</td>\n",
       "      <td>0.845941</td>\n",
       "      <td>0.602318</td>\n",
       "      <td>0.684272</td>\n",
       "      <td>0.826176</td>\n",
       "      <td>0.808547</td>\n",
       "      <td>0.564078</td>\n",
       "      <td>0.738946</td>\n",
       "    </tr>\n",
       "    <tr>\n",
       "      <th>2</th>\n",
       "      <td>0.999169</td>\n",
       "      <td>NaN</td>\n",
       "      <td>0.897213</td>\n",
       "      <td>0.821430</td>\n",
       "      <td>0.975664</td>\n",
       "      <td>0.925228</td>\n",
       "      <td>0.945667</td>\n",
       "      <td>0.866245</td>\n",
       "      <td>0.629165</td>\n",
       "    </tr>\n",
       "    <tr>\n",
       "      <th>3</th>\n",
       "      <td>0.988295</td>\n",
       "      <td>0.507842</td>\n",
       "      <td>0.714477</td>\n",
       "      <td>0.783672</td>\n",
       "      <td>1.000000</td>\n",
       "      <td>0.393887</td>\n",
       "      <td>0.914061</td>\n",
       "      <td>0.944378</td>\n",
       "      <td>0.902977</td>\n",
       "    </tr>\n",
       "    <tr>\n",
       "      <th>4</th>\n",
       "      <td>0.863707</td>\n",
       "      <td>NaN</td>\n",
       "      <td>0.519795</td>\n",
       "      <td>0.789136</td>\n",
       "      <td>0.904054</td>\n",
       "      <td>0.400000</td>\n",
       "      <td>0.938467</td>\n",
       "      <td>0.935151</td>\n",
       "      <td>0.873984</td>\n",
       "    </tr>\n",
       "    <tr>\n",
       "      <th>...</th>\n",
       "      <td>...</td>\n",
       "      <td>...</td>\n",
       "      <td>...</td>\n",
       "      <td>...</td>\n",
       "      <td>...</td>\n",
       "      <td>...</td>\n",
       "      <td>...</td>\n",
       "      <td>...</td>\n",
       "      <td>...</td>\n",
       "    </tr>\n",
       "    <tr>\n",
       "      <th>530</th>\n",
       "      <td>0.900000</td>\n",
       "      <td>0.820228</td>\n",
       "      <td>1.000000</td>\n",
       "      <td>0.792935</td>\n",
       "      <td>1.000000</td>\n",
       "      <td>0.284106</td>\n",
       "      <td>0.770281</td>\n",
       "      <td>0.931245</td>\n",
       "      <td>1.000000</td>\n",
       "    </tr>\n",
       "    <tr>\n",
       "      <th>531</th>\n",
       "      <td>1.000000</td>\n",
       "      <td>0.874981</td>\n",
       "      <td>0.809945</td>\n",
       "      <td>0.592866</td>\n",
       "      <td>0.987597</td>\n",
       "      <td>0.759688</td>\n",
       "      <td>0.856178</td>\n",
       "      <td>0.849694</td>\n",
       "      <td>0.582645</td>\n",
       "    </tr>\n",
       "    <tr>\n",
       "      <th>532</th>\n",
       "      <td>0.886566</td>\n",
       "      <td>0.903260</td>\n",
       "      <td>1.000000</td>\n",
       "      <td>1.000000</td>\n",
       "      <td>0.941425</td>\n",
       "      <td>0.768909</td>\n",
       "      <td>0.967282</td>\n",
       "      <td>0.877898</td>\n",
       "      <td>1.000000</td>\n",
       "    </tr>\n",
       "    <tr>\n",
       "      <th>533</th>\n",
       "      <td>0.837997</td>\n",
       "      <td>0.856369</td>\n",
       "      <td>0.909363</td>\n",
       "      <td>0.955287</td>\n",
       "      <td>0.737854</td>\n",
       "      <td>0.382781</td>\n",
       "      <td>0.769093</td>\n",
       "      <td>0.947450</td>\n",
       "      <td>0.867373</td>\n",
       "    </tr>\n",
       "    <tr>\n",
       "      <th>534</th>\n",
       "      <td>0.883893</td>\n",
       "      <td>0.730452</td>\n",
       "      <td>0.944795</td>\n",
       "      <td>0.819100</td>\n",
       "      <td>0.890968</td>\n",
       "      <td>0.858277</td>\n",
       "      <td>0.989410</td>\n",
       "      <td>0.807974</td>\n",
       "      <td>0.663745</td>\n",
       "    </tr>\n",
       "  </tbody>\n",
       "</table>\n",
       "<p>535 rows × 9 columns</p>\n",
       "</div>"
      ],
      "text/plain": [
       "        lab01     lab02     lab03     lab04     lab05     lab06     lab07  \\\n",
       "0    0.997353  0.849902  0.637744  1.000000  1.000000  0.994518  0.389141   \n",
       "1    0.695868  0.754551  0.845941  0.602318  0.684272  0.826176  0.808547   \n",
       "2    0.999169       NaN  0.897213  0.821430  0.975664  0.925228  0.945667   \n",
       "3    0.988295  0.507842  0.714477  0.783672  1.000000  0.393887  0.914061   \n",
       "4    0.863707       NaN  0.519795  0.789136  0.904054  0.400000  0.938467   \n",
       "..        ...       ...       ...       ...       ...       ...       ...   \n",
       "530  0.900000  0.820228  1.000000  0.792935  1.000000  0.284106  0.770281   \n",
       "531  1.000000  0.874981  0.809945  0.592866  0.987597  0.759688  0.856178   \n",
       "532  0.886566  0.903260  1.000000  1.000000  0.941425  0.768909  0.967282   \n",
       "533  0.837997  0.856369  0.909363  0.955287  0.737854  0.382781  0.769093   \n",
       "534  0.883893  0.730452  0.944795  0.819100  0.890968  0.858277  0.989410   \n",
       "\n",
       "        lab08     lab09  \n",
       "0    0.887917  0.874913  \n",
       "1    0.564078  0.738946  \n",
       "2    0.866245  0.629165  \n",
       "3    0.944378  0.902977  \n",
       "4    0.935151  0.873984  \n",
       "..        ...       ...  \n",
       "530  0.931245  1.000000  \n",
       "531  0.849694  0.582645  \n",
       "532  0.877898  1.000000  \n",
       "533  0.947450  0.867373  \n",
       "534  0.807974  0.663745  \n",
       "\n",
       "[535 rows x 9 columns]"
      ]
     },
     "execution_count": 83,
     "metadata": {},
     "output_type": "execute_result"
    }
   ],
   "source": [
    "process_labs(grades)"
   ]
  },
  {
   "cell_type": "code",
   "execution_count": 74,
   "metadata": {
    "tags": []
   },
   "outputs": [
    {
     "data": {
      "text/plain": [
       "0.0"
      ]
     },
     "execution_count": 74,
     "metadata": {},
     "output_type": "execute_result"
    }
   ],
   "source": [
    "np.clip(-0.1,0,1)"
   ]
  },
  {
   "cell_type": "code",
   "execution_count": 76,
   "metadata": {
    "scrolled": false
   },
   "outputs": [
    {
     "data": {
      "text/plain": [
       "0    1.027336\n",
       "1    1.027336\n",
       "2    1.027336\n",
       "3    1.027336\n",
       "dtype: float64"
      ]
     },
     "execution_count": 76,
     "metadata": {},
     "output_type": "execute_result"
    }
   ],
   "source": [
    "pd.Series([1,1,1,1]) + np.random.normal(0, 0.02)"
   ]
  },
  {
   "cell_type": "code",
   "execution_count": 84,
   "metadata": {},
   "outputs": [
    {
     "data": {
      "text/plain": [
       "535"
      ]
     },
     "execution_count": 84,
     "metadata": {},
     "output_type": "execute_result"
    }
   ],
   "source": [
    "grades.shape[0]"
   ]
  },
  {
   "cell_type": "code",
   "execution_count": 82,
   "metadata": {
    "scrolled": false
   },
   "outputs": [
    {
     "data": {
      "text/plain": [
       "0    0.946788\n",
       "1    1.004655\n",
       "2    1.022789\n",
       "3    1.016890\n",
       "dtype: float64"
      ]
     },
     "execution_count": 82,
     "metadata": {},
     "output_type": "execute_result"
    }
   ],
   "source": [
    "pd.Series([1,1,1,1]) + np.random.normal(0, 0.02, size=(4))"
   ]
  },
  {
   "cell_type": "code",
   "execution_count": 86,
   "metadata": {},
   "outputs": [
    {
     "data": {
      "text/plain": [
       "0      0.902465\n",
       "1      0.584063\n",
       "2      0.887279\n",
       "3      0.816654\n",
       "4      0.889296\n",
       "         ...   \n",
       "530    0.865660\n",
       "531    0.764832\n",
       "532    0.859648\n",
       "533    0.866322\n",
       "534    0.894719\n",
       "Length: 535, dtype: float64"
      ]
     },
     "execution_count": 86,
     "metadata": {},
     "output_type": "execute_result"
    }
   ],
   "source": [
    "total_points(grades)"
   ]
  },
  {
   "cell_type": "code",
   "execution_count": 85,
   "metadata": {
    "tags": []
   },
   "outputs": [
    {
     "data": {
      "text/plain": [
       "0      0.907005\n",
       "1      0.585082\n",
       "2      0.872935\n",
       "3      0.817549\n",
       "4      0.895629\n",
       "         ...   \n",
       "530    0.852920\n",
       "531    0.773036\n",
       "532    0.862344\n",
       "533    0.874218\n",
       "534    0.896720\n",
       "Length: 535, dtype: float64"
      ]
     },
     "execution_count": 85,
     "metadata": {},
     "output_type": "execute_result"
    }
   ],
   "source": [
    "total_points_with_noise(grades)"
   ]
  },
  {
   "cell_type": "code",
   "execution_count": null,
   "metadata": {
    "tags": []
   },
   "outputs": [],
   "source": []
  },
  {
   "cell_type": "code",
   "execution_count": 87,
   "metadata": {
    "deletable": false,
    "editable": false
   },
   "outputs": [
    {
     "data": {
      "text/html": [
       "<p><strong><pre style='display: inline;'>q10</pre></strong> passed!</p>"
      ],
      "text/plain": [
       "q10 results: All test cases passed!"
      ]
     },
     "execution_count": 87,
     "metadata": {},
     "output_type": "execute_result"
    }
   ],
   "source": [
    "grader.check(\"q10\")"
   ]
  },
  {
   "cell_type": "markdown",
   "metadata": {},
   "source": [
    "### Question 11\n",
    "\n",
    "To conclude, you will answer the following five questions about the class described in `grades`. The function you are required to implement in this question, `short_answer`, should return a **hard-coded list of length 5** containing your answers to the following questions, in order:\n",
    "\n",
    "0. What is the **mean difference** between students' scores (`total_points`) and their scores with noise (`total_points_with_noise`), amongst all students in `grades`? (***Hint:*** Plot the distribution of differences.)\n",
    "1. What **proportion** of the class only sees their grade change at most (but not including) $\\pm 0.01$? (Your answer should be a number between 0 and 1.)\n",
    "2. What is the 95% confidence interval for the statistic above, as a **tuple**? (***Hint:*** See the [DSC 10 course notes](https://notes.dsc10.com/05-hypothesis_testing/1_hypothesis_tests.html) and use `np.percentile`).\n",
    "3. What **proportion** of the class sees a change in their letter grade when moving from `total_points` to `total_points_with_noise`?\n",
    "4. Answer the following two true-or-false questions with a tuple, like `(True, True)`.\n",
    "    - True or False: The model in Question 10 assumes that the observed gradebook (i.e. `grades`) is a good representation of the grades of students in DSC 80.\n",
    "    - True or False: The Series that `total_points_with_noise(grades)` evaluates to **cannot** be interpreted as a Series of grades drawn from the population of students in DSC 80.\n",
    "\n",
    "For example, `[0.0, 0.0, (0.0, 1.0), 0.0, (True, True)]` is an answer in valid form."
   ]
  },
  {
   "cell_type": "code",
   "execution_count": null,
   "metadata": {
    "tags": []
   },
   "outputs": [],
   "source": []
  },
  {
   "cell_type": "code",
   "execution_count": null,
   "metadata": {
    "tags": []
   },
   "outputs": [],
   "source": []
  },
  {
   "cell_type": "code",
   "execution_count": null,
   "metadata": {
    "tags": []
   },
   "outputs": [],
   "source": []
  },
  {
   "cell_type": "code",
   "execution_count": null,
   "metadata": {
    "deletable": false,
    "editable": false
   },
   "outputs": [],
   "source": [
    "grader.check(\"q11\")"
   ]
  },
  {
   "cell_type": "markdown",
   "metadata": {},
   "source": [
    "## Congratulations, you've finished Project 1! 🎉\n",
    "\n",
    "Submit your `.py` file to Gradescope. Note that you only need to submit the `.py` file; this notebook should not be uploaded because there are no manually-graded questions in this project.\n",
    "\n",
    "Before submitting, you should ensure that all of your work is in the `.py` file. You can do this by running the doctests below, which will verify that your work passes the public tests **and** that your work is in the `.py` file. Run the cell below; you should see no output."
   ]
  },
  {
   "cell_type": "code",
   "execution_count": null,
   "metadata": {},
   "outputs": [],
   "source": [
    "!python -m doctest lab.py"
   ]
  },
  {
   "cell_type": "markdown",
   "metadata": {},
   "source": [
    "In addition, `grader.check_all()` will verify that your work passes the public tests. Ultimately, the Gradescope autograder is also going to run `grader.check_all()`, so you should ensure these pass as well (which they should if the doctests above passed)."
   ]
  },
  {
   "cell_type": "markdown",
   "metadata": {
    "deletable": false,
    "editable": false
   },
   "source": [
    "---\n",
    "\n",
    "To double-check your work, the cell below will rerun all of the autograder tests."
   ]
  },
  {
   "cell_type": "code",
   "execution_count": null,
   "metadata": {
    "deletable": false,
    "editable": false
   },
   "outputs": [],
   "source": [
    "grader.check_all()"
   ]
  }
 ],
 "metadata": {
  "kernelspec": {
   "display_name": "Python 3 (ipykernel)",
   "language": "python",
   "name": "python3"
  },
  "language_info": {
   "codemirror_mode": {
    "name": "ipython",
    "version": 3
   },
   "file_extension": ".py",
   "mimetype": "text/x-python",
   "name": "python",
   "nbconvert_exporter": "python",
   "pygments_lexer": "ipython3",
   "version": "3.8.12"
  },
  "otter": {
   "tests": {
    "q1": {
     "name": "q1",
     "points": null,
     "suites": [
      {
       "cases": [
        {
         "code": ">>> out = get_assignment_names(grades)\n>>> out['final'] == ['Final']\nTrue",
         "hidden": false,
         "locked": false,
         "points": 1
        },
        {
         "code": ">>> out = get_assignment_names(grades)\n>>> set(out.keys()) == {'lab', 'project', 'midterm', 'final', 'disc', 'checkpoint'}\nTrue",
         "hidden": false,
         "locked": false,
         "points": 1
        },
        {
         "code": ">>> out = get_assignment_names(grades)\n>>> 'project02' in out['project']\nTrue",
         "hidden": false,
         "locked": false,
         "points": 1
        }
       ],
       "scored": true,
       "setup": "",
       "teardown": "",
       "type": "doctest"
      }
     ]
    },
    "q10": {
     "name": "q10",
     "points": null,
     "suites": [
      {
       "cases": [
        {
         "code": ">>> out = total_points_with_noise(grades)\n>>> np.all((0 <= out) & (out <= 1))\nTrue",
         "hidden": false,
         "locked": false,
         "points": 1
        },
        {
         "code": ">>> out = total_points_with_noise(grades)\n>>> 0.7 < out.mean() < 0.9\nTrue",
         "hidden": false,
         "locked": false,
         "points": 1
        }
       ],
       "scored": true,
       "setup": "",
       "teardown": "",
       "type": "doctest"
      }
     ]
    },
    "q11": {
     "name": "q11",
     "points": null,
     "suites": [
      {
       "cases": [
        {
         "code": ">>> out = short_answer()\n>>> len(out) == 5\nTrue",
         "hidden": false,
         "locked": false,
         "points": 1
        },
        {
         "code": ">>> out = short_answer()\n>>> (len(out[2])) == 2 and (0.5 < out[2][0] < 1) and (0 < out[3] < 1)\nTrue",
         "hidden": false,
         "locked": false,
         "points": 1
        },
        {
         "code": ">>> out = short_answer()\n>>> isinstance(out[4][0], bool) and isinstance(out[4][1], bool)\nTrue",
         "hidden": false,
         "locked": false,
         "points": 1
        }
       ],
       "scored": true,
       "setup": "",
       "teardown": "",
       "type": "doctest"
      }
     ]
    },
    "q2": {
     "name": "q2",
     "points": null,
     "suites": [
      {
       "cases": [
        {
         "code": ">>> out = projects_total(grades)\n>>> np.all((0 <= out) & (out <= 1))\nTrue",
         "hidden": false,
         "locked": false,
         "points": 1
        },
        {
         "code": ">>> out = projects_total(grades)\n>>> 0.7 < out.mean() < 0.9\nTrue",
         "hidden": false,
         "locked": false,
         "points": 1
        }
       ],
       "scored": true,
       "setup": "",
       "teardown": "",
       "type": "doctest"
      }
     ]
    },
    "q3": {
     "name": "q3",
     "points": null,
     "suites": [
      {
       "cases": [
        {
         "code": ">>> out = last_minute_submissions(grades)\n>>> isinstance(out, pd.Series)\nTrue",
         "hidden": false,
         "locked": false,
         "points": 1
        },
        {
         "code": ">>> out = last_minute_submissions(grades)\n>>> np.all(out.index == ['lab0%d' % d for d in range(1, 10)])\nTrue",
         "failure_message": "Checking that all labs, and only labs, are included in the results of last_minute_submissions.",
         "hidden": false,
         "locked": false,
         "points": 1
        },
        {
         "code": ">>> out = last_minute_submissions(grades)\n>>> (out > 0).sum() == 8\nTrue",
         "failure_message": "Checking that there are exactly 8 labs that are incorrectly marked as late.",
         "hidden": false,
         "locked": false,
         "points": 1
        }
       ],
       "scored": true,
       "setup": "",
       "teardown": "",
       "type": "doctest"
      }
     ]
    },
    "q4": {
     "name": "q4",
     "points": null,
     "suites": [
      {
       "cases": [
        {
         "code": ">>> out = lateness_penalty(grades['lab01 - Lateness (H:M:S)'])\n>>> isinstance(out, pd.Series)\nTrue",
         "hidden": false,
         "locked": false,
         "points": 1
        },
        {
         "code": ">>> out = lateness_penalty(grades['lab01 - Lateness (H:M:S)'])\n>>> set(out.unique()) <= {1.0, 0.9, 0.7, 0.4}\nTrue",
         "hidden": false,
         "locked": false,
         "points": 1
        }
       ],
       "scored": true,
       "setup": "",
       "teardown": "",
       "type": "doctest"
      }
     ]
    },
    "q5": {
     "name": "q5",
     "points": null,
     "suites": [
      {
       "cases": [
        {
         "code": ">>> out = process_labs(grades)\n>>> out.columns.tolist() == ['lab%02d' % x for x in range(1, 10)]\nTrue",
         "hidden": false,
         "locked": false,
         "points": 1
        },
        {
         "code": ">>> out = process_labs(grades)\n>>> np.all((0.65 <= out.mean()) & (out.mean() <= 0.90))\nTrue",
         "hidden": false,
         "locked": false,
         "points": 1
        }
       ],
       "scored": true,
       "setup": "",
       "teardown": "",
       "type": "doctest"
      }
     ]
    },
    "q6": {
     "name": "q6",
     "points": null,
     "suites": [
      {
       "cases": [
        {
         "code": ">>> cols = 'lab01 lab02 lab03'.split()\n>>> processed = pd.DataFrame([[0.2, 0.90, 1.0]], index=[0], columns=cols)\n>>> np.isclose(lab_total(processed), 0.95).all()\nTrue",
         "hidden": false,
         "locked": false,
         "points": 1
        }
       ],
       "scored": true,
       "setup": "",
       "teardown": "",
       "type": "doctest"
      }
     ]
    },
    "q7": {
     "name": "q7",
     "points": null,
     "suites": [
      {
       "cases": [
        {
         "code": ">>> out = total_points(grades)\n>>> np.all((0 <= out) & (out <= 1))\nTrue",
         "hidden": false,
         "locked": false,
         "points": 1
        },
        {
         "code": ">>> out = total_points(grades)\n>>> 0.7 < out.mean() < 0.9\nTrue",
         "hidden": false,
         "locked": false,
         "points": 1
        }
       ],
       "scored": true,
       "setup": "",
       "teardown": "",
       "type": "doctest"
      }
     ]
    },
    "q8": {
     "name": "q8",
     "points": null,
     "suites": [
      {
       "cases": [
        {
         "code": ">>> out = final_grades(pd.Series([0.92, 0.81, 0.41]))\n>>> np.all(out == ['A', 'B', 'F'])\nTrue",
         "hidden": false,
         "locked": false,
         "points": 1
        },
        {
         "code": ">>> out = letter_proportions(grades)\n>>> np.all(out.index == ['B', 'C', 'A', 'D', 'F'])\nTrue",
         "hidden": false,
         "locked": false,
         "points": 1
        },
        {
         "code": ">>> out = letter_proportions(grades)\n>>> out.sum() == 1.0\nTrue",
         "hidden": false,
         "locked": false,
         "points": 1
        }
       ],
       "scored": true,
       "setup": "",
       "teardown": "",
       "type": "doctest"
      }
     ]
    },
    "q9": {
     "name": "q9",
     "points": null,
     "suites": [
      {
       "cases": [
        {
         "code": ">>> out = simulate_pval(grades, 1000)\n>>> 0 <= out <= 0.1\nTrue",
         "hidden": false,
         "locked": false,
         "points": 1
        }
       ],
       "scored": true,
       "setup": "",
       "teardown": "",
       "type": "doctest"
      }
     ]
    }
   }
  }
 },
 "nbformat": 4,
 "nbformat_minor": 4
}
