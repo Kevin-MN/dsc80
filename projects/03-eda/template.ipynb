{
 "cells": [
  {
   "cell_type": "markdown",
   "metadata": {},
   "source": [
    "# EDA, Missingness and Hypothesis Analysis of Congressmember Stock Trades\n",
    "\n",
    "**Kevin Morales Nguyen - A17186624**"
   ]
  },
  {
   "cell_type": "markdown",
   "metadata": {},
   "source": [
    "## Summary of Findings\n",
    "\n",
    "### Introduction\n",
    "This dataset primarily contains information relating to stock trades made by members of the US congress.\n",
    "The majority of the data is categorical which had great impact on how to approach analysis. This analysis is primarily focused in inquiring further about how party affilition is related to various other variables part of transactions.\n",
    "\n",
    "### Cleaning and EDA\n",
    "It was observed that the owner variable had many values missing and the missingness mechanism was to be further explored. Cleaning involved converting the dates formating to timestamps, making sure to replace user nan values with appropriate nan values for analysis. The data cleaning also involved manual cleanup of representative names in order to merge with a second dataset that contained party affiliation which was not part of the original dataset. EDA revealed that the two biggest stocks held amongst both republicans and democrats was Apple and Microsoft, further exploration showed that republicans tended to trade older technology and traditional energy companies compared to democrats who traded newer technology, solar energy and large holdings companies. Within the data set it was observed that democrats traded about 63% of the trades and republicans made up 36% of the trades, further more when analysing the amount traded by party it was found that democrats engaged in many more high usd value trades that were at or exceeded $500,000. \n",
    "\n",
    "### Assessment of Missingness\n",
    "It was found that the Owner variable may be NMAR, but MAR permutation testing showed that the missingness of owner is in fact MAR dependent on amount, type, and party variables.\n",
    "\n",
    "### Hypothesis Test\n",
    "When hypothesizing about the proportion of trades based on party affiliation, a null hypothesis in which party affiliates traded at equal proportions was rejected in favor of a alternative hypothesis that democrats tend to initiate more trades than republicans.\n"
   ]
  },
  {
   "cell_type": "markdown",
   "metadata": {},
   "source": [
    "## Code"
   ]
  },
  {
   "cell_type": "code",
   "execution_count": 207,
   "metadata": {
    "ExecuteTime": {
     "end_time": "2019-10-31T23:36:28.652554Z",
     "start_time": "2019-10-31T23:36:27.180520Z"
    }
   },
   "outputs": [],
   "source": [
    "import matplotlib.pyplot as plt\n",
    "import numpy as np\n",
    "import os\n",
    "import pandas as pd\n",
    "import seaborn as sns\n",
    "import requests\n",
    "import bs4"
   ]
  },
  {
   "cell_type": "markdown",
   "metadata": {},
   "source": [
    "### Cleaning and EDA"
   ]
  },
  {
   "cell_type": "markdown",
   "metadata": {},
   "source": [
    "Load the data and take an initial look"
   ]
  },
  {
   "cell_type": "code",
   "execution_count": 208,
   "metadata": {
    "scrolled": true
   },
   "outputs": [
    {
     "data": {
      "text/html": [
       "<div>\n",
       "<style scoped>\n",
       "    .dataframe tbody tr th:only-of-type {\n",
       "        vertical-align: middle;\n",
       "    }\n",
       "\n",
       "    .dataframe tbody tr th {\n",
       "        vertical-align: top;\n",
       "    }\n",
       "\n",
       "    .dataframe thead th {\n",
       "        text-align: right;\n",
       "    }\n",
       "</style>\n",
       "<table border=\"1\" class=\"dataframe\">\n",
       "  <thead>\n",
       "    <tr style=\"text-align: right;\">\n",
       "      <th></th>\n",
       "      <th>disclosure_year</th>\n",
       "      <th>disclosure_date</th>\n",
       "      <th>transaction_date</th>\n",
       "      <th>owner</th>\n",
       "      <th>ticker</th>\n",
       "      <th>asset_description</th>\n",
       "      <th>type</th>\n",
       "      <th>amount</th>\n",
       "      <th>representative</th>\n",
       "      <th>district</th>\n",
       "      <th>ptr_link</th>\n",
       "      <th>cap_gains_over_200_usd</th>\n",
       "    </tr>\n",
       "  </thead>\n",
       "  <tbody>\n",
       "    <tr>\n",
       "      <th>0</th>\n",
       "      <td>2021</td>\n",
       "      <td>10/04/2021</td>\n",
       "      <td>2021-09-27</td>\n",
       "      <td>joint</td>\n",
       "      <td>BP</td>\n",
       "      <td>BP plc</td>\n",
       "      <td>purchase</td>\n",
       "      <td>$1,001 - $15,000</td>\n",
       "      <td>Hon. Virginia Foxx</td>\n",
       "      <td>NC05</td>\n",
       "      <td>https://disclosures-clerk.house.gov/public_dis...</td>\n",
       "      <td>False</td>\n",
       "    </tr>\n",
       "    <tr>\n",
       "      <th>1</th>\n",
       "      <td>2021</td>\n",
       "      <td>10/04/2021</td>\n",
       "      <td>2021-09-13</td>\n",
       "      <td>joint</td>\n",
       "      <td>XOM</td>\n",
       "      <td>Exxon Mobil Corporation</td>\n",
       "      <td>purchase</td>\n",
       "      <td>$1,001 - $15,000</td>\n",
       "      <td>Hon. Virginia Foxx</td>\n",
       "      <td>NC05</td>\n",
       "      <td>https://disclosures-clerk.house.gov/public_dis...</td>\n",
       "      <td>False</td>\n",
       "    </tr>\n",
       "    <tr>\n",
       "      <th>2</th>\n",
       "      <td>2021</td>\n",
       "      <td>10/04/2021</td>\n",
       "      <td>2021-09-10</td>\n",
       "      <td>joint</td>\n",
       "      <td>ILPT</td>\n",
       "      <td>Industrial Logistics Properties Trust - Common...</td>\n",
       "      <td>purchase</td>\n",
       "      <td>$15,001 - $50,000</td>\n",
       "      <td>Hon. Virginia Foxx</td>\n",
       "      <td>NC05</td>\n",
       "      <td>https://disclosures-clerk.house.gov/public_dis...</td>\n",
       "      <td>False</td>\n",
       "    </tr>\n",
       "    <tr>\n",
       "      <th>3</th>\n",
       "      <td>2021</td>\n",
       "      <td>10/04/2021</td>\n",
       "      <td>2021-09-28</td>\n",
       "      <td>joint</td>\n",
       "      <td>PM</td>\n",
       "      <td>Phillip Morris International Inc</td>\n",
       "      <td>purchase</td>\n",
       "      <td>$15,001 - $50,000</td>\n",
       "      <td>Hon. Virginia Foxx</td>\n",
       "      <td>NC05</td>\n",
       "      <td>https://disclosures-clerk.house.gov/public_dis...</td>\n",
       "      <td>False</td>\n",
       "    </tr>\n",
       "    <tr>\n",
       "      <th>4</th>\n",
       "      <td>2021</td>\n",
       "      <td>10/04/2021</td>\n",
       "      <td>2021-09-17</td>\n",
       "      <td>self</td>\n",
       "      <td>BLK</td>\n",
       "      <td>BlackRock Inc</td>\n",
       "      <td>sale_partial</td>\n",
       "      <td>$1,001 - $15,000</td>\n",
       "      <td>Hon. Alan S. Lowenthal</td>\n",
       "      <td>CA47</td>\n",
       "      <td>https://disclosures-clerk.house.gov/public_dis...</td>\n",
       "      <td>False</td>\n",
       "    </tr>\n",
       "  </tbody>\n",
       "</table>\n",
       "</div>"
      ],
      "text/plain": [
       "   disclosure_year disclosure_date transaction_date  owner ticker  \\\n",
       "0             2021      10/04/2021       2021-09-27  joint     BP   \n",
       "1             2021      10/04/2021       2021-09-13  joint    XOM   \n",
       "2             2021      10/04/2021       2021-09-10  joint   ILPT   \n",
       "3             2021      10/04/2021       2021-09-28  joint     PM   \n",
       "4             2021      10/04/2021       2021-09-17   self    BLK   \n",
       "\n",
       "                                   asset_description          type  \\\n",
       "0                                             BP plc      purchase   \n",
       "1                            Exxon Mobil Corporation      purchase   \n",
       "2  Industrial Logistics Properties Trust - Common...      purchase   \n",
       "3                   Phillip Morris International Inc      purchase   \n",
       "4                                      BlackRock Inc  sale_partial   \n",
       "\n",
       "              amount          representative district  \\\n",
       "0   $1,001 - $15,000      Hon. Virginia Foxx     NC05   \n",
       "1   $1,001 - $15,000      Hon. Virginia Foxx     NC05   \n",
       "2  $15,001 - $50,000      Hon. Virginia Foxx     NC05   \n",
       "3  $15,001 - $50,000      Hon. Virginia Foxx     NC05   \n",
       "4   $1,001 - $15,000  Hon. Alan S. Lowenthal     CA47   \n",
       "\n",
       "                                            ptr_link  cap_gains_over_200_usd  \n",
       "0  https://disclosures-clerk.house.gov/public_dis...                   False  \n",
       "1  https://disclosures-clerk.house.gov/public_dis...                   False  \n",
       "2  https://disclosures-clerk.house.gov/public_dis...                   False  \n",
       "3  https://disclosures-clerk.house.gov/public_dis...                   False  \n",
       "4  https://disclosures-clerk.house.gov/public_dis...                   False  "
      ]
     },
     "execution_count": 208,
     "metadata": {},
     "output_type": "execute_result"
    }
   ],
   "source": [
    "raw_data = pd.read_csv('all_transactions.csv')\n",
    "raw_data.head()"
   ]
  },
  {
   "cell_type": "markdown",
   "metadata": {},
   "source": [
    "Okay merging political party on names might be a good idea, let's get clean up names column by removing 'Hon.' from all names, also by deafult if there was no value in csv is was loaded into dataframe with np.nan float\n",
    "but some values were loaded with '--' so let's change those to np.nan floats across all columns and rows and lets check to make sure all columns have appropriate data"
   ]
  },
  {
   "cell_type": "code",
   "execution_count": 299,
   "metadata": {
    "ExecuteTime": {
     "end_time": "2019-10-31T23:36:28.657068Z",
     "start_time": "2019-10-31T23:36:28.654650Z"
    },
    "scrolled": false
   },
   "outputs": [],
   "source": [
    "raw_data = pd.read_csv('all_transactions.csv')\n",
    "#raw_data\n",
    "\n",
    "raw_data['representative'] = raw_data['representative']\n",
    "    .apply(lambda x: x.replace('Hon. ',''))\n",
    "#raw_data[:50]\n",
    "                  \n",
    "raw_data_nan = raw_data.replace('--',np.nan)\n",
    "#raw_data_nan['ticker'].value_counts()"
   ]
  },
  {
   "cell_type": "markdown",
   "metadata": {},
   "source": [
    "The transaction_date has a different format to where we can't just easily convert it to timestamp so we let's make a helper function to prep is to that we can call to_datetime on cleaned series"
   ]
  },
  {
   "cell_type": "code",
   "execution_count": 210,
   "metadata": {},
   "outputs": [],
   "source": [
    "def convert_date(x):\n",
    "    return x[5:7] + '/' + x[8:] + '/' + x[0:4]"
   ]
  },
  {
   "cell_type": "markdown",
   "metadata": {},
   "source": [
    "Convert the transaction and discolse dates to timestamps"
   ]
  },
  {
   "cell_type": "code",
   "execution_count": 211,
   "metadata": {
    "scrolled": true
   },
   "outputs": [
    {
     "data": {
      "text/html": [
       "<div>\n",
       "<style scoped>\n",
       "    .dataframe tbody tr th:only-of-type {\n",
       "        vertical-align: middle;\n",
       "    }\n",
       "\n",
       "    .dataframe tbody tr th {\n",
       "        vertical-align: top;\n",
       "    }\n",
       "\n",
       "    .dataframe thead th {\n",
       "        text-align: right;\n",
       "    }\n",
       "</style>\n",
       "<table border=\"1\" class=\"dataframe\">\n",
       "  <thead>\n",
       "    <tr style=\"text-align: right;\">\n",
       "      <th></th>\n",
       "      <th>disclosure_year</th>\n",
       "      <th>disclosure_date</th>\n",
       "      <th>transaction_date</th>\n",
       "      <th>owner</th>\n",
       "      <th>ticker</th>\n",
       "      <th>asset_description</th>\n",
       "      <th>type</th>\n",
       "      <th>amount</th>\n",
       "      <th>representative</th>\n",
       "      <th>district</th>\n",
       "      <th>ptr_link</th>\n",
       "      <th>cap_gains_over_200_usd</th>\n",
       "    </tr>\n",
       "  </thead>\n",
       "  <tbody>\n",
       "    <tr>\n",
       "      <th>0</th>\n",
       "      <td>2021</td>\n",
       "      <td>2021-10-04</td>\n",
       "      <td>2021-09-27</td>\n",
       "      <td>joint</td>\n",
       "      <td>BP</td>\n",
       "      <td>BP plc</td>\n",
       "      <td>purchase</td>\n",
       "      <td>$1,001 - $15,000</td>\n",
       "      <td>Virginia Foxx</td>\n",
       "      <td>NC05</td>\n",
       "      <td>https://disclosures-clerk.house.gov/public_dis...</td>\n",
       "      <td>False</td>\n",
       "    </tr>\n",
       "    <tr>\n",
       "      <th>1</th>\n",
       "      <td>2021</td>\n",
       "      <td>2021-10-04</td>\n",
       "      <td>2021-09-13</td>\n",
       "      <td>joint</td>\n",
       "      <td>XOM</td>\n",
       "      <td>Exxon Mobil Corporation</td>\n",
       "      <td>purchase</td>\n",
       "      <td>$1,001 - $15,000</td>\n",
       "      <td>Virginia Foxx</td>\n",
       "      <td>NC05</td>\n",
       "      <td>https://disclosures-clerk.house.gov/public_dis...</td>\n",
       "      <td>False</td>\n",
       "    </tr>\n",
       "    <tr>\n",
       "      <th>2</th>\n",
       "      <td>2021</td>\n",
       "      <td>2021-10-04</td>\n",
       "      <td>2021-09-10</td>\n",
       "      <td>joint</td>\n",
       "      <td>ILPT</td>\n",
       "      <td>Industrial Logistics Properties Trust - Common...</td>\n",
       "      <td>purchase</td>\n",
       "      <td>$15,001 - $50,000</td>\n",
       "      <td>Virginia Foxx</td>\n",
       "      <td>NC05</td>\n",
       "      <td>https://disclosures-clerk.house.gov/public_dis...</td>\n",
       "      <td>False</td>\n",
       "    </tr>\n",
       "    <tr>\n",
       "      <th>3</th>\n",
       "      <td>2021</td>\n",
       "      <td>2021-10-04</td>\n",
       "      <td>2021-09-28</td>\n",
       "      <td>joint</td>\n",
       "      <td>PM</td>\n",
       "      <td>Phillip Morris International Inc</td>\n",
       "      <td>purchase</td>\n",
       "      <td>$15,001 - $50,000</td>\n",
       "      <td>Virginia Foxx</td>\n",
       "      <td>NC05</td>\n",
       "      <td>https://disclosures-clerk.house.gov/public_dis...</td>\n",
       "      <td>False</td>\n",
       "    </tr>\n",
       "    <tr>\n",
       "      <th>4</th>\n",
       "      <td>2021</td>\n",
       "      <td>2021-10-04</td>\n",
       "      <td>2021-09-17</td>\n",
       "      <td>self</td>\n",
       "      <td>BLK</td>\n",
       "      <td>BlackRock Inc</td>\n",
       "      <td>sale_partial</td>\n",
       "      <td>$1,001 - $15,000</td>\n",
       "      <td>Alan S. Lowenthal</td>\n",
       "      <td>CA47</td>\n",
       "      <td>https://disclosures-clerk.house.gov/public_dis...</td>\n",
       "      <td>False</td>\n",
       "    </tr>\n",
       "    <tr>\n",
       "      <th>...</th>\n",
       "      <td>...</td>\n",
       "      <td>...</td>\n",
       "      <td>...</td>\n",
       "      <td>...</td>\n",
       "      <td>...</td>\n",
       "      <td>...</td>\n",
       "      <td>...</td>\n",
       "      <td>...</td>\n",
       "      <td>...</td>\n",
       "      <td>...</td>\n",
       "      <td>...</td>\n",
       "      <td>...</td>\n",
       "    </tr>\n",
       "    <tr>\n",
       "      <th>14269</th>\n",
       "      <td>2020</td>\n",
       "      <td>2020-06-10</td>\n",
       "      <td>2020-04-09</td>\n",
       "      <td>NaN</td>\n",
       "      <td>SWK</td>\n",
       "      <td>Stanley Black &amp; Decker, Inc.</td>\n",
       "      <td>sale_partial</td>\n",
       "      <td>$1,001 - $15,000</td>\n",
       "      <td>Ed Perlmutter</td>\n",
       "      <td>CO07</td>\n",
       "      <td>https://disclosures-clerk.house.gov/public_dis...</td>\n",
       "      <td>False</td>\n",
       "    </tr>\n",
       "    <tr>\n",
       "      <th>14270</th>\n",
       "      <td>2020</td>\n",
       "      <td>2020-06-10</td>\n",
       "      <td>2020-04-09</td>\n",
       "      <td>NaN</td>\n",
       "      <td>USB</td>\n",
       "      <td>U.S. Bancorp</td>\n",
       "      <td>sale_partial</td>\n",
       "      <td>$1,001 - $15,000</td>\n",
       "      <td>Ed Perlmutter</td>\n",
       "      <td>CO07</td>\n",
       "      <td>https://disclosures-clerk.house.gov/public_dis...</td>\n",
       "      <td>False</td>\n",
       "    </tr>\n",
       "    <tr>\n",
       "      <th>14271</th>\n",
       "      <td>2020</td>\n",
       "      <td>2020-06-10</td>\n",
       "      <td>2020-03-13</td>\n",
       "      <td>NaN</td>\n",
       "      <td>BMY</td>\n",
       "      <td>Bristol-Myers Squibb Company</td>\n",
       "      <td>sale_full</td>\n",
       "      <td>$100,001 - $250,000</td>\n",
       "      <td>Nicholas Van Taylor</td>\n",
       "      <td>TX03</td>\n",
       "      <td>https://disclosures-clerk.house.gov/public_dis...</td>\n",
       "      <td>False</td>\n",
       "    </tr>\n",
       "    <tr>\n",
       "      <th>14272</th>\n",
       "      <td>2020</td>\n",
       "      <td>2020-06-10</td>\n",
       "      <td>2020-03-13</td>\n",
       "      <td>NaN</td>\n",
       "      <td>LLY</td>\n",
       "      <td>Eli Lilly and Company</td>\n",
       "      <td>sale_full</td>\n",
       "      <td>$500,001 - $1,000,000</td>\n",
       "      <td>Nicholas Van Taylor</td>\n",
       "      <td>TX03</td>\n",
       "      <td>https://disclosures-clerk.house.gov/public_dis...</td>\n",
       "      <td>False</td>\n",
       "    </tr>\n",
       "    <tr>\n",
       "      <th>14273</th>\n",
       "      <td>2020</td>\n",
       "      <td>2020-06-10</td>\n",
       "      <td>2020-03-13</td>\n",
       "      <td>NaN</td>\n",
       "      <td>DIS</td>\n",
       "      <td>Walt Disney Company</td>\n",
       "      <td>sale_full</td>\n",
       "      <td>$250,001 - $500,000</td>\n",
       "      <td>Nicholas Van Taylor</td>\n",
       "      <td>TX03</td>\n",
       "      <td>https://disclosures-clerk.house.gov/public_dis...</td>\n",
       "      <td>False</td>\n",
       "    </tr>\n",
       "  </tbody>\n",
       "</table>\n",
       "<p>14274 rows × 12 columns</p>\n",
       "</div>"
      ],
      "text/plain": [
       "       disclosure_year disclosure_date transaction_date  owner ticker  \\\n",
       "0                 2021      2021-10-04       2021-09-27  joint     BP   \n",
       "1                 2021      2021-10-04       2021-09-13  joint    XOM   \n",
       "2                 2021      2021-10-04       2021-09-10  joint   ILPT   \n",
       "3                 2021      2021-10-04       2021-09-28  joint     PM   \n",
       "4                 2021      2021-10-04       2021-09-17   self    BLK   \n",
       "...                ...             ...              ...    ...    ...   \n",
       "14269             2020      2020-06-10       2020-04-09    NaN    SWK   \n",
       "14270             2020      2020-06-10       2020-04-09    NaN    USB   \n",
       "14271             2020      2020-06-10       2020-03-13    NaN    BMY   \n",
       "14272             2020      2020-06-10       2020-03-13    NaN    LLY   \n",
       "14273             2020      2020-06-10       2020-03-13    NaN    DIS   \n",
       "\n",
       "                                       asset_description          type  \\\n",
       "0                                                 BP plc      purchase   \n",
       "1                                Exxon Mobil Corporation      purchase   \n",
       "2      Industrial Logistics Properties Trust - Common...      purchase   \n",
       "3                       Phillip Morris International Inc      purchase   \n",
       "4                                          BlackRock Inc  sale_partial   \n",
       "...                                                  ...           ...   \n",
       "14269                       Stanley Black & Decker, Inc.  sale_partial   \n",
       "14270                                       U.S. Bancorp  sale_partial   \n",
       "14271                       Bristol-Myers Squibb Company     sale_full   \n",
       "14272                              Eli Lilly and Company     sale_full   \n",
       "14273                                Walt Disney Company     sale_full   \n",
       "\n",
       "                      amount       representative district  \\\n",
       "0           $1,001 - $15,000        Virginia Foxx     NC05   \n",
       "1           $1,001 - $15,000        Virginia Foxx     NC05   \n",
       "2          $15,001 - $50,000        Virginia Foxx     NC05   \n",
       "3          $15,001 - $50,000        Virginia Foxx     NC05   \n",
       "4           $1,001 - $15,000    Alan S. Lowenthal     CA47   \n",
       "...                      ...                  ...      ...   \n",
       "14269       $1,001 - $15,000        Ed Perlmutter     CO07   \n",
       "14270       $1,001 - $15,000        Ed Perlmutter     CO07   \n",
       "14271    $100,001 - $250,000  Nicholas Van Taylor     TX03   \n",
       "14272  $500,001 - $1,000,000  Nicholas Van Taylor     TX03   \n",
       "14273    $250,001 - $500,000  Nicholas Van Taylor     TX03   \n",
       "\n",
       "                                                ptr_link  \\\n",
       "0      https://disclosures-clerk.house.gov/public_dis...   \n",
       "1      https://disclosures-clerk.house.gov/public_dis...   \n",
       "2      https://disclosures-clerk.house.gov/public_dis...   \n",
       "3      https://disclosures-clerk.house.gov/public_dis...   \n",
       "4      https://disclosures-clerk.house.gov/public_dis...   \n",
       "...                                                  ...   \n",
       "14269  https://disclosures-clerk.house.gov/public_dis...   \n",
       "14270  https://disclosures-clerk.house.gov/public_dis...   \n",
       "14271  https://disclosures-clerk.house.gov/public_dis...   \n",
       "14272  https://disclosures-clerk.house.gov/public_dis...   \n",
       "14273  https://disclosures-clerk.house.gov/public_dis...   \n",
       "\n",
       "       cap_gains_over_200_usd  \n",
       "0                       False  \n",
       "1                       False  \n",
       "2                       False  \n",
       "3                       False  \n",
       "4                       False  \n",
       "...                       ...  \n",
       "14269                   False  \n",
       "14270                   False  \n",
       "14271                   False  \n",
       "14272                   False  \n",
       "14273                   False  \n",
       "\n",
       "[14274 rows x 12 columns]"
      ]
     },
     "execution_count": 211,
     "metadata": {},
     "output_type": "execute_result"
    }
   ],
   "source": [
    "raw_data_nan['disclosure_date'] = pd.to_datetime(\n",
    "    raw_data_nan['disclosure_date'])\n",
    "\n",
    "\n",
    "raw_data_nan['transaction_date'] = raw_data_nan['transaction_date']\n",
    "    .apply(convert_date)\n",
    "raw_data_nan['transaction_date'] = pd.to_datetime(\n",
    "    raw_data_nan['transaction_date'])\n",
    "raw_data_nan\n",
    "#raw_data_nan['transaction_date'] = pd.to_datetime(raw_data_nan['transaction_date'])\n",
    "#raw_data_nan"
   ]
  },
  {
   "cell_type": "markdown",
   "metadata": {},
   "source": [
    "Let's go over a couple columns and check values to make sure different forms of nans aren't showing up"
   ]
  },
  {
   "cell_type": "code",
   "execution_count": 216,
   "metadata": {
    "scrolled": true
   },
   "outputs": [
    {
     "name": "stdout",
     "output_type": "stream",
     "text": [
      "2020    7379\n",
      "2021    5520\n",
      "2022    1375\n",
      "Name: disclosure_year, dtype: int64\n",
      "sum: 14274\n"
     ]
    }
   ],
   "source": [
    "print(raw_data_nan['disclosure_year'].value_counts())\n",
    "print('sum:', raw_data_nan['disclosure_year'].value_counts().sum())"
   ]
  },
  {
   "cell_type": "markdown",
   "metadata": {},
   "source": [
    "Overall data types, leaving disclosure year as int seems fine because it can be used as a broad categorial variable, more refined data with months and days have been converted to datetimes, the rest are fine as strings in cludeing amount. The amount has a coarse granularity because it only captures ranges no a specific monetary amount so we will have to use it as a categorical variable. We could extract days and months for further accuracy if we want."
   ]
  },
  {
   "cell_type": "code",
   "execution_count": 217,
   "metadata": {
    "scrolled": true
   },
   "outputs": [
    {
     "data": {
      "text/plain": [
       "disclosure_year                    int64\n",
       "disclosure_date           datetime64[ns]\n",
       "transaction_date          datetime64[ns]\n",
       "owner                             object\n",
       "ticker                            object\n",
       "asset_description                 object\n",
       "type                              object\n",
       "amount                            object\n",
       "representative                    object\n",
       "district                          object\n",
       "ptr_link                          object\n",
       "cap_gains_over_200_usd              bool\n",
       "dtype: object"
      ]
     },
     "execution_count": 217,
     "metadata": {},
     "output_type": "execute_result"
    }
   ],
   "source": [
    "raw_data_nan.dtypes"
   ]
  },
  {
   "cell_type": "markdown",
   "metadata": {},
   "source": [
    "Verify datetime data type"
   ]
  },
  {
   "cell_type": "code",
   "execution_count": 218,
   "metadata": {},
   "outputs": [
    {
     "data": {
      "text/plain": [
       "Timestamp('2021-10-04 00:00:00')"
      ]
     },
     "execution_count": 218,
     "metadata": {},
     "output_type": "execute_result"
    }
   ],
   "source": [
    "raw_data_nan['disclosure_date'][0]"
   ]
  },
  {
   "cell_type": "code",
   "execution_count": 219,
   "metadata": {
    "scrolled": true
   },
   "outputs": [
    {
     "data": {
      "text/html": [
       "<div>\n",
       "<style scoped>\n",
       "    .dataframe tbody tr th:only-of-type {\n",
       "        vertical-align: middle;\n",
       "    }\n",
       "\n",
       "    .dataframe tbody tr th {\n",
       "        vertical-align: top;\n",
       "    }\n",
       "\n",
       "    .dataframe thead th {\n",
       "        text-align: right;\n",
       "    }\n",
       "</style>\n",
       "<table border=\"1\" class=\"dataframe\">\n",
       "  <thead>\n",
       "    <tr style=\"text-align: right;\">\n",
       "      <th></th>\n",
       "      <th>disclosure_year</th>\n",
       "      <th>disclosure_date</th>\n",
       "      <th>transaction_date</th>\n",
       "      <th>owner</th>\n",
       "      <th>ticker</th>\n",
       "      <th>asset_description</th>\n",
       "      <th>type</th>\n",
       "      <th>amount</th>\n",
       "      <th>representative</th>\n",
       "      <th>district</th>\n",
       "      <th>ptr_link</th>\n",
       "      <th>cap_gains_over_200_usd</th>\n",
       "    </tr>\n",
       "  </thead>\n",
       "  <tbody>\n",
       "    <tr>\n",
       "      <th>0</th>\n",
       "      <td>2021</td>\n",
       "      <td>2021-10-04</td>\n",
       "      <td>2021-09-27</td>\n",
       "      <td>joint</td>\n",
       "      <td>BP</td>\n",
       "      <td>BP plc</td>\n",
       "      <td>purchase</td>\n",
       "      <td>$1,001 - $15,000</td>\n",
       "      <td>Virginia Foxx</td>\n",
       "      <td>NC05</td>\n",
       "      <td>https://disclosures-clerk.house.gov/public_dis...</td>\n",
       "      <td>False</td>\n",
       "    </tr>\n",
       "    <tr>\n",
       "      <th>1</th>\n",
       "      <td>2021</td>\n",
       "      <td>2021-10-04</td>\n",
       "      <td>2021-09-13</td>\n",
       "      <td>joint</td>\n",
       "      <td>XOM</td>\n",
       "      <td>Exxon Mobil Corporation</td>\n",
       "      <td>purchase</td>\n",
       "      <td>$1,001 - $15,000</td>\n",
       "      <td>Virginia Foxx</td>\n",
       "      <td>NC05</td>\n",
       "      <td>https://disclosures-clerk.house.gov/public_dis...</td>\n",
       "      <td>False</td>\n",
       "    </tr>\n",
       "    <tr>\n",
       "      <th>2</th>\n",
       "      <td>2021</td>\n",
       "      <td>2021-10-04</td>\n",
       "      <td>2021-09-10</td>\n",
       "      <td>joint</td>\n",
       "      <td>ILPT</td>\n",
       "      <td>Industrial Logistics Properties Trust - Common...</td>\n",
       "      <td>purchase</td>\n",
       "      <td>$15,001 - $50,000</td>\n",
       "      <td>Virginia Foxx</td>\n",
       "      <td>NC05</td>\n",
       "      <td>https://disclosures-clerk.house.gov/public_dis...</td>\n",
       "      <td>False</td>\n",
       "    </tr>\n",
       "    <tr>\n",
       "      <th>3</th>\n",
       "      <td>2021</td>\n",
       "      <td>2021-10-04</td>\n",
       "      <td>2021-09-28</td>\n",
       "      <td>joint</td>\n",
       "      <td>PM</td>\n",
       "      <td>Phillip Morris International Inc</td>\n",
       "      <td>purchase</td>\n",
       "      <td>$15,001 - $50,000</td>\n",
       "      <td>Virginia Foxx</td>\n",
       "      <td>NC05</td>\n",
       "      <td>https://disclosures-clerk.house.gov/public_dis...</td>\n",
       "      <td>False</td>\n",
       "    </tr>\n",
       "    <tr>\n",
       "      <th>4</th>\n",
       "      <td>2021</td>\n",
       "      <td>2021-10-04</td>\n",
       "      <td>2021-09-17</td>\n",
       "      <td>self</td>\n",
       "      <td>BLK</td>\n",
       "      <td>BlackRock Inc</td>\n",
       "      <td>sale_partial</td>\n",
       "      <td>$1,001 - $15,000</td>\n",
       "      <td>Alan S. Lowenthal</td>\n",
       "      <td>CA47</td>\n",
       "      <td>https://disclosures-clerk.house.gov/public_dis...</td>\n",
       "      <td>False</td>\n",
       "    </tr>\n",
       "    <tr>\n",
       "      <th>...</th>\n",
       "      <td>...</td>\n",
       "      <td>...</td>\n",
       "      <td>...</td>\n",
       "      <td>...</td>\n",
       "      <td>...</td>\n",
       "      <td>...</td>\n",
       "      <td>...</td>\n",
       "      <td>...</td>\n",
       "      <td>...</td>\n",
       "      <td>...</td>\n",
       "      <td>...</td>\n",
       "      <td>...</td>\n",
       "    </tr>\n",
       "    <tr>\n",
       "      <th>14269</th>\n",
       "      <td>2020</td>\n",
       "      <td>2020-06-10</td>\n",
       "      <td>2020-04-09</td>\n",
       "      <td>NaN</td>\n",
       "      <td>SWK</td>\n",
       "      <td>Stanley Black &amp; Decker, Inc.</td>\n",
       "      <td>sale_partial</td>\n",
       "      <td>$1,001 - $15,000</td>\n",
       "      <td>Ed Perlmutter</td>\n",
       "      <td>CO07</td>\n",
       "      <td>https://disclosures-clerk.house.gov/public_dis...</td>\n",
       "      <td>False</td>\n",
       "    </tr>\n",
       "    <tr>\n",
       "      <th>14270</th>\n",
       "      <td>2020</td>\n",
       "      <td>2020-06-10</td>\n",
       "      <td>2020-04-09</td>\n",
       "      <td>NaN</td>\n",
       "      <td>USB</td>\n",
       "      <td>U.S. Bancorp</td>\n",
       "      <td>sale_partial</td>\n",
       "      <td>$1,001 - $15,000</td>\n",
       "      <td>Ed Perlmutter</td>\n",
       "      <td>CO07</td>\n",
       "      <td>https://disclosures-clerk.house.gov/public_dis...</td>\n",
       "      <td>False</td>\n",
       "    </tr>\n",
       "    <tr>\n",
       "      <th>14271</th>\n",
       "      <td>2020</td>\n",
       "      <td>2020-06-10</td>\n",
       "      <td>2020-03-13</td>\n",
       "      <td>NaN</td>\n",
       "      <td>BMY</td>\n",
       "      <td>Bristol-Myers Squibb Company</td>\n",
       "      <td>sale_full</td>\n",
       "      <td>$100,001 - $250,000</td>\n",
       "      <td>Nicholas Van Taylor</td>\n",
       "      <td>TX03</td>\n",
       "      <td>https://disclosures-clerk.house.gov/public_dis...</td>\n",
       "      <td>False</td>\n",
       "    </tr>\n",
       "    <tr>\n",
       "      <th>14272</th>\n",
       "      <td>2020</td>\n",
       "      <td>2020-06-10</td>\n",
       "      <td>2020-03-13</td>\n",
       "      <td>NaN</td>\n",
       "      <td>LLY</td>\n",
       "      <td>Eli Lilly and Company</td>\n",
       "      <td>sale_full</td>\n",
       "      <td>$500,001 - $1,000,000</td>\n",
       "      <td>Nicholas Van Taylor</td>\n",
       "      <td>TX03</td>\n",
       "      <td>https://disclosures-clerk.house.gov/public_dis...</td>\n",
       "      <td>False</td>\n",
       "    </tr>\n",
       "    <tr>\n",
       "      <th>14273</th>\n",
       "      <td>2020</td>\n",
       "      <td>2020-06-10</td>\n",
       "      <td>2020-03-13</td>\n",
       "      <td>NaN</td>\n",
       "      <td>DIS</td>\n",
       "      <td>Walt Disney Company</td>\n",
       "      <td>sale_full</td>\n",
       "      <td>$250,001 - $500,000</td>\n",
       "      <td>Nicholas Van Taylor</td>\n",
       "      <td>TX03</td>\n",
       "      <td>https://disclosures-clerk.house.gov/public_dis...</td>\n",
       "      <td>False</td>\n",
       "    </tr>\n",
       "  </tbody>\n",
       "</table>\n",
       "<p>14274 rows × 12 columns</p>\n",
       "</div>"
      ],
      "text/plain": [
       "       disclosure_year disclosure_date transaction_date  owner ticker  \\\n",
       "0                 2021      2021-10-04       2021-09-27  joint     BP   \n",
       "1                 2021      2021-10-04       2021-09-13  joint    XOM   \n",
       "2                 2021      2021-10-04       2021-09-10  joint   ILPT   \n",
       "3                 2021      2021-10-04       2021-09-28  joint     PM   \n",
       "4                 2021      2021-10-04       2021-09-17   self    BLK   \n",
       "...                ...             ...              ...    ...    ...   \n",
       "14269             2020      2020-06-10       2020-04-09    NaN    SWK   \n",
       "14270             2020      2020-06-10       2020-04-09    NaN    USB   \n",
       "14271             2020      2020-06-10       2020-03-13    NaN    BMY   \n",
       "14272             2020      2020-06-10       2020-03-13    NaN    LLY   \n",
       "14273             2020      2020-06-10       2020-03-13    NaN    DIS   \n",
       "\n",
       "                                       asset_description          type  \\\n",
       "0                                                 BP plc      purchase   \n",
       "1                                Exxon Mobil Corporation      purchase   \n",
       "2      Industrial Logistics Properties Trust - Common...      purchase   \n",
       "3                       Phillip Morris International Inc      purchase   \n",
       "4                                          BlackRock Inc  sale_partial   \n",
       "...                                                  ...           ...   \n",
       "14269                       Stanley Black & Decker, Inc.  sale_partial   \n",
       "14270                                       U.S. Bancorp  sale_partial   \n",
       "14271                       Bristol-Myers Squibb Company     sale_full   \n",
       "14272                              Eli Lilly and Company     sale_full   \n",
       "14273                                Walt Disney Company     sale_full   \n",
       "\n",
       "                      amount       representative district  \\\n",
       "0           $1,001 - $15,000        Virginia Foxx     NC05   \n",
       "1           $1,001 - $15,000        Virginia Foxx     NC05   \n",
       "2          $15,001 - $50,000        Virginia Foxx     NC05   \n",
       "3          $15,001 - $50,000        Virginia Foxx     NC05   \n",
       "4           $1,001 - $15,000    Alan S. Lowenthal     CA47   \n",
       "...                      ...                  ...      ...   \n",
       "14269       $1,001 - $15,000        Ed Perlmutter     CO07   \n",
       "14270       $1,001 - $15,000        Ed Perlmutter     CO07   \n",
       "14271    $100,001 - $250,000  Nicholas Van Taylor     TX03   \n",
       "14272  $500,001 - $1,000,000  Nicholas Van Taylor     TX03   \n",
       "14273    $250,001 - $500,000  Nicholas Van Taylor     TX03   \n",
       "\n",
       "                                                ptr_link  \\\n",
       "0      https://disclosures-clerk.house.gov/public_dis...   \n",
       "1      https://disclosures-clerk.house.gov/public_dis...   \n",
       "2      https://disclosures-clerk.house.gov/public_dis...   \n",
       "3      https://disclosures-clerk.house.gov/public_dis...   \n",
       "4      https://disclosures-clerk.house.gov/public_dis...   \n",
       "...                                                  ...   \n",
       "14269  https://disclosures-clerk.house.gov/public_dis...   \n",
       "14270  https://disclosures-clerk.house.gov/public_dis...   \n",
       "14271  https://disclosures-clerk.house.gov/public_dis...   \n",
       "14272  https://disclosures-clerk.house.gov/public_dis...   \n",
       "14273  https://disclosures-clerk.house.gov/public_dis...   \n",
       "\n",
       "       cap_gains_over_200_usd  \n",
       "0                       False  \n",
       "1                       False  \n",
       "2                       False  \n",
       "3                       False  \n",
       "4                       False  \n",
       "...                       ...  \n",
       "14269                   False  \n",
       "14270                   False  \n",
       "14271                   False  \n",
       "14272                   False  \n",
       "14273                   False  \n",
       "\n",
       "[14274 rows x 12 columns]"
      ]
     },
     "execution_count": 219,
     "metadata": {},
     "output_type": "execute_result"
    }
   ],
   "source": [
    "raw_data_nan"
   ]
  },
  {
   "cell_type": "markdown",
   "metadata": {},
   "source": [
    "Just going to check values to make sure nothing weird appears, or variation of nan value"
   ]
  },
  {
   "cell_type": "code",
   "execution_count": 220,
   "metadata": {
    "scrolled": false
   },
   "outputs": [
    {
     "data": {
      "text/plain": [
       "2020    7379\n",
       "2021    5520\n",
       "2022    1375\n",
       "Name: disclosure_year, dtype: int64"
      ]
     },
     "execution_count": 220,
     "metadata": {},
     "output_type": "execute_result"
    }
   ],
   "source": [
    "raw_data_nan['disclosure_year'].value_counts()"
   ]
  },
  {
   "cell_type": "code",
   "execution_count": 221,
   "metadata": {
    "scrolled": true
   },
   "outputs": [
    {
     "data": {
      "text/plain": [
       "2020-04-27    581\n",
       "2020-04-16    272\n",
       "2021-03-16    199\n",
       "2020-06-15    165\n",
       "2021-10-08    163\n",
       "             ... \n",
       "2020-08-11      1\n",
       "2020-12-24      1\n",
       "2021-11-23      1\n",
       "2021-05-27      1\n",
       "2022-04-27      1\n",
       "Name: disclosure_date, Length: 606, dtype: int64"
      ]
     },
     "execution_count": 221,
     "metadata": {},
     "output_type": "execute_result"
    }
   ],
   "source": [
    "raw_data_nan['disclosure_date'].value_counts()"
   ]
  },
  {
   "cell_type": "code",
   "execution_count": 222,
   "metadata": {
    "scrolled": true
   },
   "outputs": [
    {
     "data": {
      "text/plain": [
       "2020-03-18    292\n",
       "2019-06-24    204\n",
       "2021-02-16    194\n",
       "2020-11-13    133\n",
       "2020-02-20    129\n",
       "             ... \n",
       "2020-06-21      1\n",
       "2019-11-04      1\n",
       "2019-10-03      1\n",
       "2019-10-30      1\n",
       "2020-03-28      1\n",
       "Name: transaction_date, Length: 790, dtype: int64"
      ]
     },
     "execution_count": 222,
     "metadata": {},
     "output_type": "execute_result"
    }
   ],
   "source": [
    "raw_data_nan['transaction_date'].value_counts()"
   ]
  },
  {
   "cell_type": "code",
   "execution_count": 229,
   "metadata": {
    "scrolled": false
   },
   "outputs": [
    {
     "name": "stdout",
     "output_type": "stream",
     "text": [
      "joint        4418\n",
      "self         2799\n",
      "dependent     388\n",
      "Name: owner, dtype: int64\n",
      "14274\n"
     ]
    },
    {
     "data": {
      "text/plain": [
       "6669"
      ]
     },
     "execution_count": 229,
     "metadata": {},
     "output_type": "execute_result"
    }
   ],
   "source": [
    "print(raw_data_nan['owner'].value_counts())\n",
    "print((raw_data_nan['owner'].astype(str) == 'nan').sum()\n",
    "      + (raw_data_nan['owner'].astype(str) != 'nan').sum())\n",
    "(raw_data_nan['owner'].astype(str) == 'nan').sum()"
   ]
  },
  {
   "cell_type": "markdown",
   "metadata": {},
   "source": [
    "A significant amount of owner types are still nan, this could be looked at for missingness analysis"
   ]
  },
  {
   "cell_type": "code",
   "execution_count": 300,
   "metadata": {
    "scrolled": false
   },
   "outputs": [
    {
     "name": "stdout",
     "output_type": "stream",
     "text": [
      "MSFT     239\n",
      "AAPL     173\n",
      "NTAP     124\n",
      "TDDXX    122\n",
      "FB       106\n",
      "        ... \n",
      "GME        1\n",
      "PB         1\n",
      "PSB        1\n",
      "QRTEA      1\n",
      "LSFYX      1\n",
      "Name: ticker, Length: 2072, dtype: int64\n"
     ]
    },
    {
     "data": {
      "text/plain": [
       "1147"
      ]
     },
     "execution_count": 300,
     "metadata": {},
     "output_type": "execute_result"
    }
   ],
   "source": [
    "print(raw_data_nan['ticker'].value_counts())\n",
    "(raw_data_nan['ticker'].astype(str) == 'nan').sum()"
   ]
  },
  {
   "cell_type": "markdown",
   "metadata": {},
   "source": [
    "there are around 1,000 nan's here in tickers... I'm thinking maybe they didn't invest particularly in stock but some sort of investment that doesn't have a ticker?"
   ]
  },
  {
   "cell_type": "code",
   "execution_count": 232,
   "metadata": {
    "scrolled": true
   },
   "outputs": [
    {
     "name": "stdout",
     "output_type": "stream",
     "text": [
      "Microsoft Corporation                         191\n",
      "BLF FedFund                                   119\n",
      "Apple Inc.                                    113\n",
      "Sunrun Inc.                                    93\n",
      "Apple Inc                                      61\n",
      "                                             ... \n",
      "Proctor & Gamble Company                        1\n",
      "Prudential Financial                            1\n",
      "Reata Pharmaceuticals, Inc - Class A stock      1\n",
      "Republic Services                               1\n",
      "GrubHub Inc.                                    1\n",
      "Name: asset_description, Length: 5000, dtype: int64\n"
     ]
    },
    {
     "data": {
      "text/plain": [
       "4"
      ]
     },
     "execution_count": 232,
     "metadata": {},
     "output_type": "execute_result"
    }
   ],
   "source": [
    "print(raw_data_nan['asset_description'].value_counts())\n",
    "(raw_data_nan['asset_description'].astype(str) == 'nan').sum()\n"
   ]
  },
  {
   "cell_type": "markdown",
   "metadata": {},
   "source": [
    "only 4 missing here"
   ]
  },
  {
   "cell_type": "code",
   "execution_count": 233,
   "metadata": {
    "scrolled": false
   },
   "outputs": [
    {
     "name": "stdout",
     "output_type": "stream",
     "text": [
      "purchase        7428\n",
      "sale_full       4563\n",
      "sale_partial    2155\n",
      "exchange         128\n",
      "Name: type, dtype: int64\n"
     ]
    },
    {
     "data": {
      "text/plain": [
       "14274"
      ]
     },
     "execution_count": 233,
     "metadata": {},
     "output_type": "execute_result"
    }
   ],
   "source": [
    "print(raw_data_nan['type'].value_counts())\n",
    "raw_data_nan['type'].value_counts().sum()"
   ]
  },
  {
   "cell_type": "markdown",
   "metadata": {},
   "source": [
    "All types are present "
   ]
  },
  {
   "cell_type": "code",
   "execution_count": 234,
   "metadata": {
    "scrolled": true
   },
   "outputs": [
    {
     "name": "stdout",
     "output_type": "stream",
     "text": [
      "$1,001 - $15,000            10054\n",
      "$15,001 - $50,000            2258\n",
      "$50,001 - $100,000            722\n",
      "$100,001 - $250,000           545\n",
      "$1,001 -                      242\n",
      "$250,001 - $500,000           227\n",
      "$500,001 - $1,000,000         142\n",
      "$1,000,001 - $5,000,000        38\n",
      "$1,000,000 +                   28\n",
      "$5,000,001 - $25,000,000        9\n",
      "$1,000 - $15,000                4\n",
      "$15,000 - $50,000               3\n",
      "$50,000,000 +                   1\n",
      "$1,000,000 - $5,000,000         1\n",
      "Name: amount, dtype: int64\n"
     ]
    },
    {
     "data": {
      "text/plain": [
       "14274"
      ]
     },
     "execution_count": 234,
     "metadata": {},
     "output_type": "execute_result"
    }
   ],
   "source": [
    "print(raw_data_nan['amount'].value_counts())\n",
    "raw_data_nan['amount'].value_counts().sum()"
   ]
  },
  {
   "cell_type": "markdown",
   "metadata": {},
   "source": [
    "Hmmm, not sure how to interperet $1,001 -  , but all amounts are present"
   ]
  },
  {
   "cell_type": "markdown",
   "metadata": {},
   "source": [
    "I tried to webscrape because the site that hosts the data convenietnly had all formated names and party affiliation in one place but the get request never seemed to return the html I was looking for, bummer."
   ]
  },
  {
   "cell_type": "code",
   "execution_count": 51,
   "metadata": {
    "scrolled": false
   },
   "outputs": [
    {
     "data": {
      "text/plain": [
       "'<!doctype html><html lang=\"en\"><head><meta charset=\"utf-8\"/><meta name=\"viewport\" content=\"width=device-width,initial-scale=1\"/><meta http-equiv=\"X-UA-Compatible\" content=\"IE=edge,chrome=1\"/><meta content=\"width=device-width,initial-scale=1,shrink-to-fit=no\" name=\"viewport\"/><meta name=\"title\" content=\"House Stock Watcher - See What Your Representative Is Trading\"><meta name=\"description\" content=\"Updated Daily - See the stock trades US Representatives are making as they are reported. Get notifications when new reports are uploaded. Get insight now!\"><meta property=\"og:type\" content=\"website\"><meta property=\"og:url\" content=\"https://housestockwatcher.com\"><meta property=\"og:title\" content=\"House Stock Watcher - See What Your Representative Is Trading\"><meta property=\"og:description\" content=\"Updated Daily - See the stock trades US Representatives are making as they are reported. Get notifications when new reports are uploaded. Get insight now!\"><meta property=\"og:image\" content=\"https://housestockwatcher.com/promo1.png\"><meta property=\"twitter:card\" content=\"summary_large_image\"><meta property=\"twitter:url\" content=\"https://housestockwatcher.com/\"><meta property=\"twitter:title\" content=\"House Stock Watcher - See What Your Representative Is Trading\"><meta property=\"twitter:description\" content=\"Updated Daily - See the stock trades US Representatives are making as they are reported. Get notifications when new reports are uploaded. Get insight now!\"><meta property=\"twitter:image\" content=\"https://housestockwatcher.com/promo1.png\"><title>House Stock Watcher - See What Your Representative Is Trading</title><link rel=\"shortcut icon\" href=\"/favicon.png\"/><link rel=\"apple-touch-icon\" sizes=\"76x76\" href=\"/apple-icon.png\"/><link rel=\"manifest\" href=\"/manifest.json\"/><link rel=\"stylesheet\" href=\"/tailwind.min.css\"/><link href=\"https://unpkg.com/tailwindcss@^2/dist/tailwind.min.css\" rel=\"stylesheet\"><script async src=\"https://www.googletagmanager.com/gtag/js?id=G-Z63X8GDP3C\"></script><script>function gtag(){dataLayer.push(arguments)}window.dataLayer=window.dataLayer||[],gtag(\"js\",new Date),gtag(\"config\",\"G-Z63X8GDP3C\")</script><script async src=\"https://pagead2.googlesyndication.com/pagead/js/adsbygoogle.js?client=ca-pub-2466331850146937\" crossorigin=\"anonymous\"></script><link href=\"/static/css/2.15bea899.chunk.css\" rel=\"stylesheet\"><link href=\"/static/css/main.ce686fcf.chunk.css\" rel=\"stylesheet\"></head><body class=\"text-blueGray-700 antialiased\"><noscript>You need to enable JavaScript to run this app.</noscript><div id=\"root\"></div><script>!function(e){function t(t){for(var n,f,l=t[0],a=t[1],c=t[2],p=0,s=[];p<l.length;p++)f=l[p],Object.prototype.hasOwnProperty.call(o,f)&&o[f]&&s.push(o[f][0]),o[f]=0;for(n in a)Object.prototype.hasOwnProperty.call(a,n)&&(e[n]=a[n]);for(i&&i(t);s.length;)s.shift()();return u.push.apply(u,c||[]),r()}function r(){for(var e,t=0;t<u.length;t++){for(var r=u[t],n=!0,l=1;l<r.length;l++){var a=r[l];0!==o[a]&&(n=!1)}n&&(u.splice(t--,1),e=f(f.s=r[0]))}return e}var n={},o={1:0},u=[];function f(t){if(n[t])return n[t].exports;var r=n[t]={i:t,l:!1,exports:{}};return e[t].call(r.exports,r,r.exports,f),r.l=!0,r.exports}f.m=e,f.c=n,f.d=function(e,t,r){f.o(e,t)||Object.defineProperty(e,t,{enumerable:!0,get:r})},f.r=function(e){\"undefined\"!=typeof Symbol&&Symbol.toStringTag&&Object.defineProperty(e,Symbol.toStringTag,{value:\"Module\"}),Object.defineProperty(e,\"__esModule\",{value:!0})},f.t=function(e,t){if(1&t&&(e=f(e)),8&t)return e;if(4&t&&\"object\"==typeof e&&e&&e.__esModule)return e;var r=Object.create(null);if(f.r(r),Object.defineProperty(r,\"default\",{enumerable:!0,value:e}),2&t&&\"string\"!=typeof e)for(var n in e)f.d(r,n,function(t){return e[t]}.bind(null,n));return r},f.n=function(e){var t=e&&e.__esModule?function(){return e.default}:function(){return e};return f.d(t,\"a\",t),t},f.o=function(e,t){return Object.prototype.hasOwnProperty.call(e,t)},f.p=\"/\";var l=this[\"webpackJsonphouse-stock-watcher-frontend\"]=this[\"webpackJsonphouse-stock-watcher-frontend\"]||[],a=l.push.bind(l);l.push=t,l=l.slice();for(var c=0;c<l.length;c++)t(l[c]);var i=a;r()}([])</script><script src=\"/static/js/2.d782ad26.chunk.js\"></script><script src=\"/static/js/main.8db78f46.chunk.js\"></script></body></html>'"
      ]
     },
     "execution_count": 51,
     "metadata": {},
     "output_type": "execute_result"
    }
   ],
   "source": [
    "raw_get = requests.get('https://housestockwatcher.com/summary_by_rep')\n",
    "raw_get.text\n",
    "#stock_party_soup = bs4.BeautifulSoup(raw_get.text)\n",
    "#stock_party_soup"
   ]
  },
  {
   "cell_type": "markdown",
   "metadata": {},
   "source": [
    "Now that raw data is all cleaned up lets merge with our political party dataset which has congressmember names and party affiliation. I was able to copy and paste the text from this website https://ballotpedia.org/List_of_current_members_of_the_U.S._Congress\n",
    "\n",
    "right into google sheets and then generate a csv but I still had to clean up around 90 names manually. Some had middle initals, some former members were not included and there were some that had titles like Mr. Mrs. and Dr. This process took quite a while and actually made me appreciate/respect the data cleaning process more."
   ]
  },
  {
   "cell_type": "code",
   "execution_count": 303,
   "metadata": {
    "scrolled": false
   },
   "outputs": [
    {
     "name": "stdout",
     "output_type": "stream",
     "text": [
      "502\n"
     ]
    },
    {
     "data": {
      "text/plain": [
       "disclosure_year           14274\n",
       "disclosure_date           14274\n",
       "transaction_date          14274\n",
       "owner                      7605\n",
       "ticker                    13127\n",
       "asset_description         14270\n",
       "type                      14274\n",
       "amount                    14274\n",
       "representative            14274\n",
       "district                  14274\n",
       "ptr_link                  14274\n",
       "cap_gains_over_200_usd    14274\n",
       "full_name                 14274\n",
       "last_name                 14274\n",
       "dtype: int64"
      ]
     },
     "execution_count": 303,
     "metadata": {},
     "output_type": "execute_result"
    }
   ],
   "source": [
    "congress_party = pd.read_csv('congress_parties.csv')\n",
    "congress_party.shape\n",
    "\n",
    "congress_party = pd.read_csv('congress_parties.csv')\n",
    "#split name so we can extract last name\n",
    "congress_party['last_name'] = congress_party['full_name']\n",
    "    .apply(str.split,' ')\n",
    "#extract last name and set it to new column\n",
    "congress_party['last_name'] = congress_party['last_name']\n",
    "    .apply(lambda x: x[-1])\n",
    "print(congress_party['last_name'].nunique())\n",
    "congress_party.nunique()\n",
    "\n",
    "\n",
    "#merge and then verify all names have been mapped to political party\n",
    "merged = raw_data_nan.merge(congress_party,left_on = 'representative',\n",
    "                            right_on='full_name', how='left')\n",
    "merged.groupby('party').count().sum()#[merged['full_name'].astype(str) == 'nan'].groupby('representative').count()"
   ]
  },
  {
   "cell_type": "code",
   "execution_count": 305,
   "metadata": {
    "scrolled": true
   },
   "outputs": [
    {
     "data": {
      "text/plain": [
       "13127"
      ]
     },
     "execution_count": 305,
     "metadata": {},
     "output_type": "execute_result"
    }
   ],
   "source": [
    "merged['ticker'].value_counts().sum()"
   ]
  },
  {
   "cell_type": "markdown",
   "metadata": {},
   "source": [
    "About 1000 tickers missing, maybe "
   ]
  },
  {
   "cell_type": "markdown",
   "metadata": {},
   "source": [
    "While it says there are 502 unique congress members part of the data set there is actually a bit less, when manually cleaning name mappings I noticed some transactions had different names for the same people, for example same person but one identidy might have mr. or a middle initail while another just has first and last name.\n",
    "When looking at value counts we see they all add up to the original size of the data set except for owner which has a significant amount of values missign almost half and asset description missing 4. For our missingness question we will probably be inquiring further about the mechanism behind the owner data missing. "
   ]
  },
  {
   "cell_type": "markdown",
   "metadata": {},
   "source": [
    "Now that we have our merged and cleaned dataset let's perform some univariate analysis and take a look into some of the individual columns"
   ]
  },
  {
   "cell_type": "code",
   "execution_count": 236,
   "metadata": {
    "scrolled": false
   },
   "outputs": [
    {
     "data": {
      "text/html": [
       "<div>\n",
       "<style scoped>\n",
       "    .dataframe tbody tr th:only-of-type {\n",
       "        vertical-align: middle;\n",
       "    }\n",
       "\n",
       "    .dataframe tbody tr th {\n",
       "        vertical-align: top;\n",
       "    }\n",
       "\n",
       "    .dataframe thead th {\n",
       "        text-align: right;\n",
       "    }\n",
       "</style>\n",
       "<table border=\"1\" class=\"dataframe\">\n",
       "  <thead>\n",
       "    <tr style=\"text-align: right;\">\n",
       "      <th></th>\n",
       "      <th>disclosure_year</th>\n",
       "      <th>disclosure_date</th>\n",
       "      <th>transaction_date</th>\n",
       "      <th>owner</th>\n",
       "      <th>ticker</th>\n",
       "      <th>asset_description</th>\n",
       "      <th>type</th>\n",
       "      <th>amount</th>\n",
       "      <th>representative</th>\n",
       "      <th>district</th>\n",
       "      <th>ptr_link</th>\n",
       "      <th>cap_gains_over_200_usd</th>\n",
       "    </tr>\n",
       "  </thead>\n",
       "  <tbody>\n",
       "    <tr>\n",
       "      <th>0</th>\n",
       "      <td>2021</td>\n",
       "      <td>2021-10-04</td>\n",
       "      <td>2021-09-27</td>\n",
       "      <td>joint</td>\n",
       "      <td>BP</td>\n",
       "      <td>BP plc</td>\n",
       "      <td>purchase</td>\n",
       "      <td>$1,001 - $15,000</td>\n",
       "      <td>Virginia Foxx</td>\n",
       "      <td>NC05</td>\n",
       "      <td>https://disclosures-clerk.house.gov/public_dis...</td>\n",
       "      <td>False</td>\n",
       "    </tr>\n",
       "    <tr>\n",
       "      <th>1</th>\n",
       "      <td>2021</td>\n",
       "      <td>2021-10-04</td>\n",
       "      <td>2021-09-13</td>\n",
       "      <td>joint</td>\n",
       "      <td>XOM</td>\n",
       "      <td>Exxon Mobil Corporation</td>\n",
       "      <td>purchase</td>\n",
       "      <td>$1,001 - $15,000</td>\n",
       "      <td>Virginia Foxx</td>\n",
       "      <td>NC05</td>\n",
       "      <td>https://disclosures-clerk.house.gov/public_dis...</td>\n",
       "      <td>False</td>\n",
       "    </tr>\n",
       "    <tr>\n",
       "      <th>2</th>\n",
       "      <td>2021</td>\n",
       "      <td>2021-10-04</td>\n",
       "      <td>2021-09-10</td>\n",
       "      <td>joint</td>\n",
       "      <td>ILPT</td>\n",
       "      <td>Industrial Logistics Properties Trust - Common...</td>\n",
       "      <td>purchase</td>\n",
       "      <td>$15,001 - $50,000</td>\n",
       "      <td>Virginia Foxx</td>\n",
       "      <td>NC05</td>\n",
       "      <td>https://disclosures-clerk.house.gov/public_dis...</td>\n",
       "      <td>False</td>\n",
       "    </tr>\n",
       "    <tr>\n",
       "      <th>3</th>\n",
       "      <td>2021</td>\n",
       "      <td>2021-10-04</td>\n",
       "      <td>2021-09-28</td>\n",
       "      <td>joint</td>\n",
       "      <td>PM</td>\n",
       "      <td>Phillip Morris International Inc</td>\n",
       "      <td>purchase</td>\n",
       "      <td>$15,001 - $50,000</td>\n",
       "      <td>Virginia Foxx</td>\n",
       "      <td>NC05</td>\n",
       "      <td>https://disclosures-clerk.house.gov/public_dis...</td>\n",
       "      <td>False</td>\n",
       "    </tr>\n",
       "    <tr>\n",
       "      <th>4</th>\n",
       "      <td>2021</td>\n",
       "      <td>2021-10-04</td>\n",
       "      <td>2021-09-17</td>\n",
       "      <td>self</td>\n",
       "      <td>BLK</td>\n",
       "      <td>BlackRock Inc</td>\n",
       "      <td>sale_partial</td>\n",
       "      <td>$1,001 - $15,000</td>\n",
       "      <td>Alan S. Lowenthal</td>\n",
       "      <td>CA47</td>\n",
       "      <td>https://disclosures-clerk.house.gov/public_dis...</td>\n",
       "      <td>False</td>\n",
       "    </tr>\n",
       "    <tr>\n",
       "      <th>...</th>\n",
       "      <td>...</td>\n",
       "      <td>...</td>\n",
       "      <td>...</td>\n",
       "      <td>...</td>\n",
       "      <td>...</td>\n",
       "      <td>...</td>\n",
       "      <td>...</td>\n",
       "      <td>...</td>\n",
       "      <td>...</td>\n",
       "      <td>...</td>\n",
       "      <td>...</td>\n",
       "      <td>...</td>\n",
       "    </tr>\n",
       "    <tr>\n",
       "      <th>14269</th>\n",
       "      <td>2020</td>\n",
       "      <td>2020-06-10</td>\n",
       "      <td>2020-04-09</td>\n",
       "      <td>NaN</td>\n",
       "      <td>SWK</td>\n",
       "      <td>Stanley Black &amp; Decker, Inc.</td>\n",
       "      <td>sale_partial</td>\n",
       "      <td>$1,001 - $15,000</td>\n",
       "      <td>Ed Perlmutter</td>\n",
       "      <td>CO07</td>\n",
       "      <td>https://disclosures-clerk.house.gov/public_dis...</td>\n",
       "      <td>False</td>\n",
       "    </tr>\n",
       "    <tr>\n",
       "      <th>14270</th>\n",
       "      <td>2020</td>\n",
       "      <td>2020-06-10</td>\n",
       "      <td>2020-04-09</td>\n",
       "      <td>NaN</td>\n",
       "      <td>USB</td>\n",
       "      <td>U.S. Bancorp</td>\n",
       "      <td>sale_partial</td>\n",
       "      <td>$1,001 - $15,000</td>\n",
       "      <td>Ed Perlmutter</td>\n",
       "      <td>CO07</td>\n",
       "      <td>https://disclosures-clerk.house.gov/public_dis...</td>\n",
       "      <td>False</td>\n",
       "    </tr>\n",
       "    <tr>\n",
       "      <th>14271</th>\n",
       "      <td>2020</td>\n",
       "      <td>2020-06-10</td>\n",
       "      <td>2020-03-13</td>\n",
       "      <td>NaN</td>\n",
       "      <td>BMY</td>\n",
       "      <td>Bristol-Myers Squibb Company</td>\n",
       "      <td>sale_full</td>\n",
       "      <td>$100,001 - $250,000</td>\n",
       "      <td>Nicholas Van Taylor</td>\n",
       "      <td>TX03</td>\n",
       "      <td>https://disclosures-clerk.house.gov/public_dis...</td>\n",
       "      <td>False</td>\n",
       "    </tr>\n",
       "    <tr>\n",
       "      <th>14272</th>\n",
       "      <td>2020</td>\n",
       "      <td>2020-06-10</td>\n",
       "      <td>2020-03-13</td>\n",
       "      <td>NaN</td>\n",
       "      <td>LLY</td>\n",
       "      <td>Eli Lilly and Company</td>\n",
       "      <td>sale_full</td>\n",
       "      <td>$500,001 - $1,000,000</td>\n",
       "      <td>Nicholas Van Taylor</td>\n",
       "      <td>TX03</td>\n",
       "      <td>https://disclosures-clerk.house.gov/public_dis...</td>\n",
       "      <td>False</td>\n",
       "    </tr>\n",
       "    <tr>\n",
       "      <th>14273</th>\n",
       "      <td>2020</td>\n",
       "      <td>2020-06-10</td>\n",
       "      <td>2020-03-13</td>\n",
       "      <td>NaN</td>\n",
       "      <td>DIS</td>\n",
       "      <td>Walt Disney Company</td>\n",
       "      <td>sale_full</td>\n",
       "      <td>$250,001 - $500,000</td>\n",
       "      <td>Nicholas Van Taylor</td>\n",
       "      <td>TX03</td>\n",
       "      <td>https://disclosures-clerk.house.gov/public_dis...</td>\n",
       "      <td>False</td>\n",
       "    </tr>\n",
       "  </tbody>\n",
       "</table>\n",
       "<p>14274 rows × 12 columns</p>\n",
       "</div>"
      ],
      "text/plain": [
       "       disclosure_year disclosure_date transaction_date  owner ticker  \\\n",
       "0                 2021      2021-10-04       2021-09-27  joint     BP   \n",
       "1                 2021      2021-10-04       2021-09-13  joint    XOM   \n",
       "2                 2021      2021-10-04       2021-09-10  joint   ILPT   \n",
       "3                 2021      2021-10-04       2021-09-28  joint     PM   \n",
       "4                 2021      2021-10-04       2021-09-17   self    BLK   \n",
       "...                ...             ...              ...    ...    ...   \n",
       "14269             2020      2020-06-10       2020-04-09    NaN    SWK   \n",
       "14270             2020      2020-06-10       2020-04-09    NaN    USB   \n",
       "14271             2020      2020-06-10       2020-03-13    NaN    BMY   \n",
       "14272             2020      2020-06-10       2020-03-13    NaN    LLY   \n",
       "14273             2020      2020-06-10       2020-03-13    NaN    DIS   \n",
       "\n",
       "                                       asset_description          type  \\\n",
       "0                                                 BP plc      purchase   \n",
       "1                                Exxon Mobil Corporation      purchase   \n",
       "2      Industrial Logistics Properties Trust - Common...      purchase   \n",
       "3                       Phillip Morris International Inc      purchase   \n",
       "4                                          BlackRock Inc  sale_partial   \n",
       "...                                                  ...           ...   \n",
       "14269                       Stanley Black & Decker, Inc.  sale_partial   \n",
       "14270                                       U.S. Bancorp  sale_partial   \n",
       "14271                       Bristol-Myers Squibb Company     sale_full   \n",
       "14272                              Eli Lilly and Company     sale_full   \n",
       "14273                                Walt Disney Company     sale_full   \n",
       "\n",
       "                      amount       representative district  \\\n",
       "0           $1,001 - $15,000        Virginia Foxx     NC05   \n",
       "1           $1,001 - $15,000        Virginia Foxx     NC05   \n",
       "2          $15,001 - $50,000        Virginia Foxx     NC05   \n",
       "3          $15,001 - $50,000        Virginia Foxx     NC05   \n",
       "4           $1,001 - $15,000    Alan S. Lowenthal     CA47   \n",
       "...                      ...                  ...      ...   \n",
       "14269       $1,001 - $15,000        Ed Perlmutter     CO07   \n",
       "14270       $1,001 - $15,000        Ed Perlmutter     CO07   \n",
       "14271    $100,001 - $250,000  Nicholas Van Taylor     TX03   \n",
       "14272  $500,001 - $1,000,000  Nicholas Van Taylor     TX03   \n",
       "14273    $250,001 - $500,000  Nicholas Van Taylor     TX03   \n",
       "\n",
       "                                                ptr_link  \\\n",
       "0      https://disclosures-clerk.house.gov/public_dis...   \n",
       "1      https://disclosures-clerk.house.gov/public_dis...   \n",
       "2      https://disclosures-clerk.house.gov/public_dis...   \n",
       "3      https://disclosures-clerk.house.gov/public_dis...   \n",
       "4      https://disclosures-clerk.house.gov/public_dis...   \n",
       "...                                                  ...   \n",
       "14269  https://disclosures-clerk.house.gov/public_dis...   \n",
       "14270  https://disclosures-clerk.house.gov/public_dis...   \n",
       "14271  https://disclosures-clerk.house.gov/public_dis...   \n",
       "14272  https://disclosures-clerk.house.gov/public_dis...   \n",
       "14273  https://disclosures-clerk.house.gov/public_dis...   \n",
       "\n",
       "       cap_gains_over_200_usd  \n",
       "0                       False  \n",
       "1                       False  \n",
       "2                       False  \n",
       "3                       False  \n",
       "4                       False  \n",
       "...                       ...  \n",
       "14269                   False  \n",
       "14270                   False  \n",
       "14271                   False  \n",
       "14272                   False  \n",
       "14273                   False  \n",
       "\n",
       "[14274 rows x 12 columns]"
      ]
     },
     "execution_count": 236,
     "metadata": {},
     "output_type": "execute_result"
    }
   ],
   "source": [
    "raw_data_nan"
   ]
  },
  {
   "cell_type": "markdown",
   "metadata": {},
   "source": [
    "Let's take a quick look at the range of the year in which data was gathered"
   ]
  },
  {
   "cell_type": "code",
   "execution_count": 237,
   "metadata": {
    "scrolled": true
   },
   "outputs": [
    {
     "data": {
      "text/plain": [
       "2020    7379\n",
       "2021    5520\n",
       "2022    1375\n",
       "Name: disclosure_year, dtype: int64"
      ]
     },
     "execution_count": 237,
     "metadata": {},
     "output_type": "execute_result"
    }
   ],
   "source": [
    "raw_data_nan['disclosure_year'].value_counts()"
   ]
  },
  {
   "cell_type": "markdown",
   "metadata": {},
   "source": [
    "The years are quite relavent and given the turbulence of the markets over the last recent year this should be an interesting analysis"
   ]
  },
  {
   "cell_type": "markdown",
   "metadata": {},
   "source": [
    "lets look at the volume of trades by date"
   ]
  },
  {
   "cell_type": "code",
   "execution_count": 251,
   "metadata": {
    "scrolled": false
   },
   "outputs": [
    {
     "data": {
      "text/plain": [
       "<AxesSubplot:xlabel='transaction_date'>"
      ]
     },
     "execution_count": 251,
     "metadata": {},
     "output_type": "execute_result"
    },
    {
     "data": {
      "image/png": "[encoded data removed]",
      "text/plain": [
       "<Figure size 432x288 with 1 Axes>"
      ]
     },
     "metadata": {
      "needs_background": "light"
     },
     "output_type": "display_data"
    }
   ],
   "source": [
    "date_group = raw_data_nan.groupby('transaction_date').count()\n",
    "\n",
    "date_group['disclosure_year'].plot(kind='bar')\n",
    "#date_group.plot(kind='bar', x='transaction_year')"
   ]
  },
  {
   "cell_type": "markdown",
   "metadata": {},
   "source": [
    "Well that doesn't look pretty at all, even with the messed up x axis we can kind of see some huge spikes this may be because the transaction dates were not properly recorded? It's weird that there is a massive spike early on and seemingly nothing around the massive spike. I should probably create a column that contains the month, but lets try the years instead"
   ]
  },
  {
   "cell_type": "code",
   "execution_count": 270,
   "metadata": {},
   "outputs": [
    {
     "data": {
      "text/plain": [
       "transaction_date\n",
       "2020-03-18    292\n",
       "2019-06-24    204\n",
       "2021-02-16    194\n",
       "2020-11-13    133\n",
       "2020-04-02    129\n",
       "2020-02-20    129\n",
       "2021-02-11    124\n",
       "2020-10-22     98\n",
       "2020-11-05     91\n",
       "2020-03-23     90\n",
       "2020-11-19     84\n",
       "2021-02-05     81\n",
       "2020-04-29     77\n",
       "2020-01-13     76\n",
       "2021-01-28     75\n",
       "2020-08-07     71\n",
       "2020-10-16     70\n",
       "2020-03-27     70\n",
       "2021-01-15     69\n",
       "2021-02-17     69\n",
       "Name: disclosure_date, dtype: int64"
      ]
     },
     "execution_count": 270,
     "metadata": {},
     "output_type": "execute_result"
    }
   ],
   "source": [
    "date_group = raw_data_nan.groupby('transaction_date').count()\n",
    "date_group['disclosure_date'].sort_values(ascending = False)[:20]"
   ]
  },
  {
   "cell_type": "markdown",
   "metadata": {},
   "source": [
    "We can sort of get some sense of the months now"
   ]
  },
  {
   "cell_type": "code",
   "execution_count": 254,
   "metadata": {
    "scrolled": true
   },
   "outputs": [
    {
     "data": {
      "text/plain": [
       "<AxesSubplot:title={'center':'Volume of trades by year'}, xlabel='disclosure_year'>"
      ]
     },
     "execution_count": 254,
     "metadata": {},
     "output_type": "execute_result"
    },
    {
     "data": {
      "image/png": "[encoded data removed]",
      "text/plain": [
       "<Figure size 432x288 with 1 Axes>"
      ]
     },
     "metadata": {
      "needs_background": "light"
     },
     "output_type": "display_data"
    }
   ],
   "source": [
    "date_group = raw_data_nan.groupby('disclosure_year').count()\n",
    "\n",
    "date_group['disclosure_date'].plot(kind='bar',\n",
    "                                   title='Volume of trades by year')"
   ]
  },
  {
   "cell_type": "markdown",
   "metadata": {},
   "source": [
    "Okay this is pretty interesting we se that there were way more trades in 2020 and 2021 compared to 2022, maybe congressmembers knew something about the direction the economy was heading? 2022 has been a bloodbath so it makes sense why there is less trade compared to the booming markets of 2020 and 2021, later we'll look at whether they were selling or buying."
   ]
  },
  {
   "cell_type": "markdown",
   "metadata": {},
   "source": [
    "we can take a quick look at the hottest stocks congressmembers were trading, lets look at the top 10"
   ]
  },
  {
   "cell_type": "code",
   "execution_count": 291,
   "metadata": {
    "scrolled": false
   },
   "outputs": [
    {
     "data": {
      "text/plain": [
       "<AxesSubplot:title={'center':'Top 10 stocks traded'}, xlabel='ticker'>"
      ]
     },
     "execution_count": 291,
     "metadata": {},
     "output_type": "execute_result"
    },
    {
     "data": {
      "image/png": "[encoded data removed]",
      "text/plain": [
       "<Figure size 1440x720 with 1 Axes>"
      ]
     },
     "metadata": {
      "needs_background": "light"
     },
     "output_type": "display_data"
    }
   ],
   "source": [
    "group_stocks = raw_data_nan.groupby('ticker').count()\n",
    "    .sort_values(by='disclosure_year',ascending=False)\n",
    "plt.figure(figsize=(20, 10))\n",
    "group_stocks['disclosure_year'][:10].plot(kind='bar',\n",
    "                                          title= 'Top 10 stocks traded')"
   ]
  },
  {
   "cell_type": "markdown",
   "metadata": {},
   "source": [
    "lets take a look at the distribution of types transactions"
   ]
  },
  {
   "cell_type": "code",
   "execution_count": 290,
   "metadata": {
    "scrolled": false
   },
   "outputs": [
    {
     "data": {
      "text/plain": [
       "<AxesSubplot:title={'center':'Distribution of types of transactions'}, xlabel='type'>"
      ]
     },
     "execution_count": 290,
     "metadata": {},
     "output_type": "execute_result"
    },
    {
     "data": {
      "image/png": "[encoded data removed]",
      "text/plain": [
       "<Figure size 720x720 with 1 Axes>"
      ]
     },
     "metadata": {
      "needs_background": "light"
     },
     "output_type": "display_data"
    }
   ],
   "source": [
    "group_types = raw_data_nan.groupby('type').count()\n",
    "plt.figure(figsize=(10, 10))\n",
    "group_types['disclosure_year'].plot(kind='bar',\n",
    "                                    title= 'Distribution of types of transactions')"
   ]
  },
  {
   "cell_type": "markdown",
   "metadata": {},
   "source": [
    "Let's check real quick to see who is making the most trades!"
   ]
  },
  {
   "cell_type": "code",
   "execution_count": 286,
   "metadata": {
    "scrolled": false
   },
   "outputs": [
    {
     "data": {
      "text/plain": [
       "<AxesSubplot:title={'center':'Top 20 traders'}, xlabel='representative'>"
      ]
     },
     "execution_count": 286,
     "metadata": {},
     "output_type": "execute_result"
    },
    {
     "data": {
      "image/png": "[encoded data removed]",
      "text/plain": [
       "<Figure size 1440x720 with 1 Axes>"
      ]
     },
     "metadata": {
      "needs_background": "light"
     },
     "output_type": "display_data"
    }
   ],
   "source": [
    "group_rep = raw_data_nan.groupby('representative').count()\n",
    "    .sort_values(by='disclosure_year',ascending=False)\n",
    "plt.figure(figsize=(20, 10))\n",
    "group_rep['disclosure_year'][:20].plot(kind='bar',\n",
    "                                       title= 'Top 20 traders')"
   ]
  },
  {
   "cell_type": "markdown",
   "metadata": {},
   "source": [
    "Okay we have some names but maybe in bivariate analysis we can explore how these names relate to party affiliation\n",
    "and look at proportion"
   ]
  },
  {
   "cell_type": "markdown",
   "metadata": {},
   "source": [
    "before we dive into bivariate and aggregate analyasis based on party affiliation let's look at distribution of amount ranges"
   ]
  },
  {
   "cell_type": "code",
   "execution_count": 283,
   "metadata": {
    "scrolled": false
   },
   "outputs": [
    {
     "data": {
      "text/plain": [
       "<AxesSubplot:title={'center':'Distribution of of amount ranges'}, xlabel='amount'>"
      ]
     },
     "execution_count": 283,
     "metadata": {},
     "output_type": "execute_result"
    },
    {
     "data": {
      "image/png": "[encoded data removed]",
      "text/plain": [
       "<Figure size 720x720 with 1 Axes>"
      ]
     },
     "metadata": {
      "needs_background": "light"
     },
     "output_type": "display_data"
    }
   ],
   "source": [
    "group_amount = raw_data_nan.groupby('amount').count()\n",
    "plt.figure(figsize=(10, 10))\n",
    "group_amount['disclosure_year'].plot(kind='bar',\n",
    "                                    title= 'Distribution of of amount ranges')"
   ]
  },
  {
   "cell_type": "markdown",
   "metadata": {},
   "source": [
    "We see most trades were in $1,000 to $15,000 but there were a couple that were above $50,000 let's check real quick how many."
   ]
  },
  {
   "cell_type": "code",
   "execution_count": 280,
   "metadata": {},
   "outputs": [
    {
     "data": {
      "text/plain": [
       "amount\n",
       "$1,000 - $15,000               1\n",
       "$1,000,000 +                  28\n",
       "$1,000,000 - $5,000,000        0\n",
       "$1,000,001 - $5,000,000       34\n",
       "$1,001 -                     232\n",
       "$1,001 - $15,000            5201\n",
       "$100,001 - $250,000          272\n",
       "$15,000 - $50,000              1\n",
       "$15,001 - $50,000           1216\n",
       "$250,001 - $500,000          136\n",
       "$5,000,001 - $25,000,000       8\n",
       "$50,000,000 +                  1\n",
       "$50,001 - $100,000           373\n",
       "$500,001 - $1,000,000        102\n",
       "Name: owner, dtype: int64"
      ]
     },
     "execution_count": 280,
     "metadata": {},
     "output_type": "execute_result"
    }
   ],
   "source": [
    "group_amount = raw_data_nan.groupby('amount').count()\n",
    "group_amount['owner']"
   ]
  },
  {
   "cell_type": "code",
   "execution_count": 279,
   "metadata": {},
   "outputs": [
    {
     "data": {
      "text/plain": [
       "954"
      ]
     },
     "execution_count": 279,
     "metadata": {},
     "output_type": "execute_result"
    }
   ],
   "source": [
    "28 + 34 +272 + 136+8+1+373+102"
   ]
  },
  {
   "cell_type": "markdown",
   "metadata": {},
   "source": [
    "As a proportion of all trades these high value trades account for ..."
   ]
  },
  {
   "cell_type": "code",
   "execution_count": 281,
   "metadata": {
    "scrolled": true
   },
   "outputs": [
    {
     "data": {
      "text/plain": [
       "0.12544378698224853"
      ]
     },
     "execution_count": 281,
     "metadata": {},
     "output_type": "execute_result"
    }
   ],
   "source": [
    "(28 + 34 +272 + 136+8+1+373+102) / group_amount['owner'].sum()"
   ]
  },
  {
   "cell_type": "markdown",
   "metadata": {},
   "source": [
    "To explore bivariate distributions we'll mainly plot conditional plots based on part affiliation and pivot tables will be nice too let's use out merged data set"
   ]
  },
  {
   "cell_type": "code",
   "execution_count": 289,
   "metadata": {
    "scrolled": false
   },
   "outputs": [
    {
     "data": {
      "text/html": [
       "<div>\n",
       "<style scoped>\n",
       "    .dataframe tbody tr th:only-of-type {\n",
       "        vertical-align: middle;\n",
       "    }\n",
       "\n",
       "    .dataframe tbody tr th {\n",
       "        vertical-align: top;\n",
       "    }\n",
       "\n",
       "    .dataframe thead th {\n",
       "        text-align: right;\n",
       "    }\n",
       "</style>\n",
       "<table border=\"1\" class=\"dataframe\">\n",
       "  <thead>\n",
       "    <tr style=\"text-align: right;\">\n",
       "      <th></th>\n",
       "      <th>disclosure_year</th>\n",
       "      <th>disclosure_date</th>\n",
       "      <th>transaction_date</th>\n",
       "      <th>owner</th>\n",
       "      <th>ticker</th>\n",
       "      <th>asset_description</th>\n",
       "      <th>type</th>\n",
       "      <th>amount</th>\n",
       "      <th>representative</th>\n",
       "      <th>district</th>\n",
       "      <th>ptr_link</th>\n",
       "      <th>cap_gains_over_200_usd</th>\n",
       "      <th>full_name</th>\n",
       "      <th>party</th>\n",
       "      <th>last_name</th>\n",
       "    </tr>\n",
       "  </thead>\n",
       "  <tbody>\n",
       "    <tr>\n",
       "      <th>0</th>\n",
       "      <td>2021</td>\n",
       "      <td>10/04/2021</td>\n",
       "      <td>2021-09-27</td>\n",
       "      <td>joint</td>\n",
       "      <td>BP</td>\n",
       "      <td>BP plc</td>\n",
       "      <td>purchase</td>\n",
       "      <td>$1,001 - $15,000</td>\n",
       "      <td>Virginia Foxx</td>\n",
       "      <td>NC05</td>\n",
       "      <td>https://disclosures-clerk.house.gov/public_dis...</td>\n",
       "      <td>False</td>\n",
       "      <td>Virginia Foxx</td>\n",
       "      <td>Republican</td>\n",
       "      <td>Foxx</td>\n",
       "    </tr>\n",
       "    <tr>\n",
       "      <th>1</th>\n",
       "      <td>2021</td>\n",
       "      <td>10/04/2021</td>\n",
       "      <td>2021-09-13</td>\n",
       "      <td>joint</td>\n",
       "      <td>XOM</td>\n",
       "      <td>Exxon Mobil Corporation</td>\n",
       "      <td>purchase</td>\n",
       "      <td>$1,001 - $15,000</td>\n",
       "      <td>Virginia Foxx</td>\n",
       "      <td>NC05</td>\n",
       "      <td>https://disclosures-clerk.house.gov/public_dis...</td>\n",
       "      <td>False</td>\n",
       "      <td>Virginia Foxx</td>\n",
       "      <td>Republican</td>\n",
       "      <td>Foxx</td>\n",
       "    </tr>\n",
       "    <tr>\n",
       "      <th>2</th>\n",
       "      <td>2021</td>\n",
       "      <td>10/04/2021</td>\n",
       "      <td>2021-09-10</td>\n",
       "      <td>joint</td>\n",
       "      <td>ILPT</td>\n",
       "      <td>Industrial Logistics Properties Trust - Common...</td>\n",
       "      <td>purchase</td>\n",
       "      <td>$15,001 - $50,000</td>\n",
       "      <td>Virginia Foxx</td>\n",
       "      <td>NC05</td>\n",
       "      <td>https://disclosures-clerk.house.gov/public_dis...</td>\n",
       "      <td>False</td>\n",
       "      <td>Virginia Foxx</td>\n",
       "      <td>Republican</td>\n",
       "      <td>Foxx</td>\n",
       "    </tr>\n",
       "    <tr>\n",
       "      <th>3</th>\n",
       "      <td>2021</td>\n",
       "      <td>10/04/2021</td>\n",
       "      <td>2021-09-28</td>\n",
       "      <td>joint</td>\n",
       "      <td>PM</td>\n",
       "      <td>Phillip Morris International Inc</td>\n",
       "      <td>purchase</td>\n",
       "      <td>$15,001 - $50,000</td>\n",
       "      <td>Virginia Foxx</td>\n",
       "      <td>NC05</td>\n",
       "      <td>https://disclosures-clerk.house.gov/public_dis...</td>\n",
       "      <td>False</td>\n",
       "      <td>Virginia Foxx</td>\n",
       "      <td>Republican</td>\n",
       "      <td>Foxx</td>\n",
       "    </tr>\n",
       "    <tr>\n",
       "      <th>4</th>\n",
       "      <td>2021</td>\n",
       "      <td>10/04/2021</td>\n",
       "      <td>2021-09-17</td>\n",
       "      <td>self</td>\n",
       "      <td>BLK</td>\n",
       "      <td>BlackRock Inc</td>\n",
       "      <td>sale_partial</td>\n",
       "      <td>$1,001 - $15,000</td>\n",
       "      <td>Alan S. Lowenthal</td>\n",
       "      <td>CA47</td>\n",
       "      <td>https://disclosures-clerk.house.gov/public_dis...</td>\n",
       "      <td>False</td>\n",
       "      <td>Alan S. Lowenthal</td>\n",
       "      <td>Democratic</td>\n",
       "      <td>Lowenthal</td>\n",
       "    </tr>\n",
       "  </tbody>\n",
       "</table>\n",
       "</div>"
      ],
      "text/plain": [
       "   disclosure_year disclosure_date transaction_date  owner ticker  \\\n",
       "0             2021      10/04/2021       2021-09-27  joint     BP   \n",
       "1             2021      10/04/2021       2021-09-13  joint    XOM   \n",
       "2             2021      10/04/2021       2021-09-10  joint   ILPT   \n",
       "3             2021      10/04/2021       2021-09-28  joint     PM   \n",
       "4             2021      10/04/2021       2021-09-17   self    BLK   \n",
       "\n",
       "                                   asset_description          type  \\\n",
       "0                                             BP plc      purchase   \n",
       "1                            Exxon Mobil Corporation      purchase   \n",
       "2  Industrial Logistics Properties Trust - Common...      purchase   \n",
       "3                   Phillip Morris International Inc      purchase   \n",
       "4                                      BlackRock Inc  sale_partial   \n",
       "\n",
       "              amount     representative district  \\\n",
       "0   $1,001 - $15,000      Virginia Foxx     NC05   \n",
       "1   $1,001 - $15,000      Virginia Foxx     NC05   \n",
       "2  $15,001 - $50,000      Virginia Foxx     NC05   \n",
       "3  $15,001 - $50,000      Virginia Foxx     NC05   \n",
       "4   $1,001 - $15,000  Alan S. Lowenthal     CA47   \n",
       "\n",
       "                                            ptr_link  cap_gains_over_200_usd  \\\n",
       "0  https://disclosures-clerk.house.gov/public_dis...                   False   \n",
       "1  https://disclosures-clerk.house.gov/public_dis...                   False   \n",
       "2  https://disclosures-clerk.house.gov/public_dis...                   False   \n",
       "3  https://disclosures-clerk.house.gov/public_dis...                   False   \n",
       "4  https://disclosures-clerk.house.gov/public_dis...                   False   \n",
       "\n",
       "           full_name       party  last_name  \n",
       "0      Virginia Foxx  Republican       Foxx  \n",
       "1      Virginia Foxx  Republican       Foxx  \n",
       "2      Virginia Foxx  Republican       Foxx  \n",
       "3      Virginia Foxx  Republican       Foxx  \n",
       "4  Alan S. Lowenthal  Democratic  Lowenthal  "
      ]
     },
     "execution_count": 289,
     "metadata": {},
     "output_type": "execute_result"
    }
   ],
   "source": [
    "merged.head()"
   ]
  },
  {
   "cell_type": "markdown",
   "metadata": {},
   "source": [
    "lets revisit the top 10 stocks based on party affiliation"
   ]
  },
  {
   "cell_type": "code",
   "execution_count": 306,
   "metadata": {
    "scrolled": false
   },
   "outputs": [
    {
     "data": {
      "text/plain": [
       "<AxesSubplot:title={'center':'Top 10 stocks traded'}, xlabel='ticker'>"
      ]
     },
     "execution_count": 306,
     "metadata": {},
     "output_type": "execute_result"
    },
    {
     "data": {
      "image/png": "[encoded data removed]",
      "text/plain": [
       "<Figure size 1440x720 with 1 Axes>"
      ]
     },
     "metadata": {
      "needs_background": "light"
     },
     "output_type": "display_data"
    }
   ],
   "source": [
    "group_stocks = merged[merged['party'] == 'Republican']\n",
    "    .groupby('ticker').count().sort_values(by='disclosure_year',\n",
    "                                           ascending=False)\n",
    "plt.figure(figsize=(20, 10))\n",
    "group_stocks['disclosure_year'][:10].plot(kind='bar',\n",
    "                                          title= 'Top 10 stocks traded for Republicans')"
   ]
  },
  {
   "cell_type": "code",
   "execution_count": 308,
   "metadata": {
    "scrolled": false
   },
   "outputs": [
    {
     "data": {
      "text/plain": [
       "<AxesSubplot:title={'center':'Top 10 stocks traded for Democrats'}, xlabel='ticker'>"
      ]
     },
     "execution_count": 308,
     "metadata": {},
     "output_type": "execute_result"
    },
    {
     "data": {
      "image/png": "[encoded data removed]",
      "text/plain": [
       "<Figure size 1440x720 with 1 Axes>"
      ]
     },
     "metadata": {
      "needs_background": "light"
     },
     "output_type": "display_data"
    }
   ],
   "source": [
    "group_stocks = merged[merged['party'] == 'Democratic']\n",
    "    .groupby('ticker').count().sort_values(by='disclosure_year',ascending=False)\n",
    "plt.figure(figsize=(20, 10))\n",
    "group_stocks['disclosure_year'][:10].plot(kind='bar',\n",
    "                                          title= 'Top 10 stocks traded for Democrats')"
   ]
  },
  {
   "cell_type": "markdown",
   "metadata": {},
   "source": [
    "This is pretty intersting among the top 10 only apple and microsoft are shared amongst the top 10 stocks, \n",
    "We see for republicans there are sort of older well established tech and traditional energy while democrats are trading new tech,solar energy, and blackrock + berkshire"
   ]
  },
  {
   "cell_type": "markdown",
   "metadata": {},
   "source": [
    "Let's see which party makes more trades"
   ]
  },
  {
   "cell_type": "code",
   "execution_count": null,
   "metadata": {},
   "outputs": [],
   "source": [
    "merged.sort_values(by='pivot_table(index='')"
   ]
  },
  {
   "cell_type": "code",
   "execution_count": 331,
   "metadata": {
    "scrolled": true
   },
   "outputs": [
    {
     "data": {
      "text/plain": [
       "party\n",
       "Democratic    0.638434\n",
       "Republican    0.361566\n",
       "Name: disclosure_year, dtype: float64"
      ]
     },
     "execution_count": 331,
     "metadata": {},
     "output_type": "execute_result"
    }
   ],
   "source": [
    "group_rep = raw_data_nan.groupby('representative').count()\n",
    "    .sort_values(by='disclosure_year',ascending=False)\n",
    "all_trades = pd.DataFrame(group_rep['disclosure_year'])\n",
    "    .merge(congress_party,left_index = True, right_on='full_name', how='left')\n",
    "all_trades.groupby('party')['disclosure_year'].sum() / raw_data_nan.shape[0]"
   ]
  },
  {
   "cell_type": "code",
   "execution_count": null,
   "metadata": {},
   "outputs": [],
   "source": [
    "merged.pivot_table(index='party',columns='')"
   ]
  },
  {
   "cell_type": "markdown",
   "metadata": {},
   "source": [
    "Okay so we observe from the data that Democrats tend to trade more, how extreme is this value, could this be due to chance? I think I'll hypothesis test if the distribution of trades comes from a null distribution of 50% / 50% from each party, we will visit this later "
   ]
  },
  {
   "cell_type": "markdown",
   "metadata": {},
   "source": [
    "Lets look at the type of trades congressmembers make based on party affiliation"
   ]
  },
  {
   "cell_type": "code",
   "execution_count": 333,
   "metadata": {
    "scrolled": false
   },
   "outputs": [
    {
     "data": {
      "text/html": [
       "<div>\n",
       "<style scoped>\n",
       "    .dataframe tbody tr th:only-of-type {\n",
       "        vertical-align: middle;\n",
       "    }\n",
       "\n",
       "    .dataframe tbody tr th {\n",
       "        vertical-align: top;\n",
       "    }\n",
       "\n",
       "    .dataframe thead th {\n",
       "        text-align: right;\n",
       "    }\n",
       "</style>\n",
       "<table border=\"1\" class=\"dataframe\">\n",
       "  <thead>\n",
       "    <tr style=\"text-align: right;\">\n",
       "      <th>type</th>\n",
       "      <th>exchange</th>\n",
       "      <th>purchase</th>\n",
       "      <th>sale_full</th>\n",
       "      <th>sale_partial</th>\n",
       "    </tr>\n",
       "    <tr>\n",
       "      <th>party</th>\n",
       "      <th></th>\n",
       "      <th></th>\n",
       "      <th></th>\n",
       "      <th></th>\n",
       "    </tr>\n",
       "  </thead>\n",
       "  <tbody>\n",
       "    <tr>\n",
       "      <th>Democratic</th>\n",
       "      <td>57</td>\n",
       "      <td>4373</td>\n",
       "      <td>2925</td>\n",
       "      <td>1758</td>\n",
       "    </tr>\n",
       "    <tr>\n",
       "      <th>Republican</th>\n",
       "      <td>71</td>\n",
       "      <td>3055</td>\n",
       "      <td>1638</td>\n",
       "      <td>397</td>\n",
       "    </tr>\n",
       "  </tbody>\n",
       "</table>\n",
       "</div>"
      ],
      "text/plain": [
       "type        exchange  purchase  sale_full  sale_partial\n",
       "party                                                  \n",
       "Democratic        57      4373       2925          1758\n",
       "Republican        71      3055       1638           397"
      ]
     },
     "execution_count": 333,
     "metadata": {},
     "output_type": "execute_result"
    }
   ],
   "source": [
    "types = merged.pivot_table(index='party',columns = 'type',\n",
    "                           values='representative',aggfunc='count')\n",
    "types"
   ]
  },
  {
   "cell_type": "markdown",
   "metadata": {},
   "source": [
    "We can clearly see much more buying and much more selling from democrats but lets dig a bit deeper"
   ]
  },
  {
   "cell_type": "markdown",
   "metadata": {},
   "source": [
    "Okay this is interesting, let's extend this to also see the types of trades within years as proportions"
   ]
  },
  {
   "cell_type": "code",
   "execution_count": 385,
   "metadata": {
    "scrolled": false
   },
   "outputs": [
    {
     "data": {
      "text/html": [
       "<div>\n",
       "<style scoped>\n",
       "    .dataframe tbody tr th:only-of-type {\n",
       "        vertical-align: middle;\n",
       "    }\n",
       "\n",
       "    .dataframe tbody tr th {\n",
       "        vertical-align: top;\n",
       "    }\n",
       "\n",
       "    .dataframe thead tr th {\n",
       "        text-align: left;\n",
       "    }\n",
       "\n",
       "    .dataframe thead tr:last-of-type th {\n",
       "        text-align: right;\n",
       "    }\n",
       "</style>\n",
       "<table border=\"1\" class=\"dataframe\">\n",
       "  <thead>\n",
       "    <tr>\n",
       "      <th>type</th>\n",
       "      <th colspan=\"3\" halign=\"left\">exchange</th>\n",
       "      <th colspan=\"3\" halign=\"left\">purchase</th>\n",
       "      <th colspan=\"3\" halign=\"left\">sale_full</th>\n",
       "      <th colspan=\"3\" halign=\"left\">sale_partial</th>\n",
       "    </tr>\n",
       "    <tr>\n",
       "      <th>disclosure_year</th>\n",
       "      <th>2020</th>\n",
       "      <th>2021</th>\n",
       "      <th>2022</th>\n",
       "      <th>2020</th>\n",
       "      <th>2021</th>\n",
       "      <th>2022</th>\n",
       "      <th>2020</th>\n",
       "      <th>2021</th>\n",
       "      <th>2022</th>\n",
       "      <th>2020</th>\n",
       "      <th>2021</th>\n",
       "      <th>2022</th>\n",
       "    </tr>\n",
       "    <tr>\n",
       "      <th>party</th>\n",
       "      <th></th>\n",
       "      <th></th>\n",
       "      <th></th>\n",
       "      <th></th>\n",
       "      <th></th>\n",
       "      <th></th>\n",
       "      <th></th>\n",
       "      <th></th>\n",
       "      <th></th>\n",
       "      <th></th>\n",
       "      <th></th>\n",
       "      <th></th>\n",
       "    </tr>\n",
       "  </thead>\n",
       "  <tbody>\n",
       "    <tr>\n",
       "      <th>Democratic</th>\n",
       "      <td>0.43956</td>\n",
       "      <td>0.518519</td>\n",
       "      <td>0.3</td>\n",
       "      <td>0.601844</td>\n",
       "      <td>0.583416</td>\n",
       "      <td>0.543417</td>\n",
       "      <td>0.713609</td>\n",
       "      <td>0.548747</td>\n",
       "      <td>0.634529</td>\n",
       "      <td>0.820954</td>\n",
       "      <td>0.822653</td>\n",
       "      <td>0.760976</td>\n",
       "    </tr>\n",
       "    <tr>\n",
       "      <th>Republican</th>\n",
       "      <td>0.56044</td>\n",
       "      <td>0.481481</td>\n",
       "      <td>0.7</td>\n",
       "      <td>0.398156</td>\n",
       "      <td>0.416584</td>\n",
       "      <td>0.456583</td>\n",
       "      <td>0.286391</td>\n",
       "      <td>0.451253</td>\n",
       "      <td>0.365471</td>\n",
       "      <td>0.179046</td>\n",
       "      <td>0.177347</td>\n",
       "      <td>0.239024</td>\n",
       "    </tr>\n",
       "  </tbody>\n",
       "</table>\n",
       "</div>"
      ],
      "text/plain": [
       "type            exchange                 purchase                      \\\n",
       "disclosure_year     2020      2021 2022      2020      2021      2022   \n",
       "party                                                                   \n",
       "Democratic       0.43956  0.518519  0.3  0.601844  0.583416  0.543417   \n",
       "Republican       0.56044  0.481481  0.7  0.398156  0.416584  0.456583   \n",
       "\n",
       "type            sale_full                     sale_partial                      \n",
       "disclosure_year      2020      2021      2022         2020      2021      2022  \n",
       "party                                                                           \n",
       "Democratic       0.713609  0.548747  0.634529     0.820954  0.822653  0.760976  \n",
       "Republican       0.286391  0.451253  0.365471     0.179046  0.177347  0.239024  "
      ]
     },
     "execution_count": 385,
     "metadata": {},
     "output_type": "execute_result"
    }
   ],
   "source": [
    "types = merged.pivot_table(index='party',columns = ['type','disclosure_year']\n",
    "                           ,values='representative',aggfunc='count')\n",
    "types / types.sum(axis=0)"
   ]
  },
  {
   "cell_type": "markdown",
   "metadata": {},
   "source": [
    "We can see that the majority of purchases were conducted in 2020 and 2021 amongst both parties and that democratic congress members participated in much more selling activity both full and partialy. Okay we can see they participate in more raw number of trades but what about the actual amount of money?"
   ]
  },
  {
   "cell_type": "code",
   "execution_count": 388,
   "metadata": {
    "scrolled": false
   },
   "outputs": [
    {
     "data": {
      "text/html": [
       "<div>\n",
       "<style scoped>\n",
       "    .dataframe tbody tr th:only-of-type {\n",
       "        vertical-align: middle;\n",
       "    }\n",
       "\n",
       "    .dataframe tbody tr th {\n",
       "        vertical-align: top;\n",
       "    }\n",
       "\n",
       "    .dataframe thead th {\n",
       "        text-align: right;\n",
       "    }\n",
       "</style>\n",
       "<table border=\"1\" class=\"dataframe\">\n",
       "  <thead>\n",
       "    <tr style=\"text-align: right;\">\n",
       "      <th></th>\n",
       "      <th>party</th>\n",
       "      <th>Democratic</th>\n",
       "      <th>Republican</th>\n",
       "    </tr>\n",
       "    <tr>\n",
       "      <th>type</th>\n",
       "      <th>amount</th>\n",
       "      <th></th>\n",
       "      <th></th>\n",
       "    </tr>\n",
       "  </thead>\n",
       "  <tbody>\n",
       "    <tr>\n",
       "      <th rowspan=\"8\" valign=\"top\">exchange</th>\n",
       "      <th>$1,000,001 - $5,000,000</th>\n",
       "      <td>NaN</td>\n",
       "      <td>1.0</td>\n",
       "    </tr>\n",
       "    <tr>\n",
       "      <th>$1,001 -</th>\n",
       "      <td>1.0</td>\n",
       "      <td>NaN</td>\n",
       "    </tr>\n",
       "    <tr>\n",
       "      <th>$1,001 - $15,000</th>\n",
       "      <td>44.0</td>\n",
       "      <td>17.0</td>\n",
       "    </tr>\n",
       "    <tr>\n",
       "      <th>$100,001 - $250,000</th>\n",
       "      <td>1.0</td>\n",
       "      <td>9.0</td>\n",
       "    </tr>\n",
       "    <tr>\n",
       "      <th>$15,001 - $50,000</th>\n",
       "      <td>6.0</td>\n",
       "      <td>15.0</td>\n",
       "    </tr>\n",
       "    <tr>\n",
       "      <th>$250,001 - $500,000</th>\n",
       "      <td>2.0</td>\n",
       "      <td>7.0</td>\n",
       "    </tr>\n",
       "    <tr>\n",
       "      <th>$50,001 - $100,000</th>\n",
       "      <td>3.0</td>\n",
       "      <td>21.0</td>\n",
       "    </tr>\n",
       "    <tr>\n",
       "      <th>$500,001 - $1,000,000</th>\n",
       "      <td>NaN</td>\n",
       "      <td>1.0</td>\n",
       "    </tr>\n",
       "    <tr>\n",
       "      <th rowspan=\"10\" valign=\"top\">purchase</th>\n",
       "      <th>$1,000,000 +</th>\n",
       "      <td>9.0</td>\n",
       "      <td>NaN</td>\n",
       "    </tr>\n",
       "    <tr>\n",
       "      <th>$1,000,001 - $5,000,000</th>\n",
       "      <td>17.0</td>\n",
       "      <td>2.0</td>\n",
       "    </tr>\n",
       "    <tr>\n",
       "      <th>$1,001 -</th>\n",
       "      <td>88.0</td>\n",
       "      <td>5.0</td>\n",
       "    </tr>\n",
       "    <tr>\n",
       "      <th>$1,001 - $15,000</th>\n",
       "      <td>3567.0</td>\n",
       "      <td>1626.0</td>\n",
       "    </tr>\n",
       "    <tr>\n",
       "      <th>$100,001 - $250,000</th>\n",
       "      <td>47.0</td>\n",
       "      <td>230.0</td>\n",
       "    </tr>\n",
       "    <tr>\n",
       "      <th>$15,001 - $50,000</th>\n",
       "      <td>461.0</td>\n",
       "      <td>814.0</td>\n",
       "    </tr>\n",
       "    <tr>\n",
       "      <th>$250,001 - $500,000</th>\n",
       "      <td>36.0</td>\n",
       "      <td>59.0</td>\n",
       "    </tr>\n",
       "    <tr>\n",
       "      <th>$5,000,001 - $25,000,000</th>\n",
       "      <td>4.0</td>\n",
       "      <td>NaN</td>\n",
       "    </tr>\n",
       "    <tr>\n",
       "      <th>$50,001 - $100,000</th>\n",
       "      <td>90.0</td>\n",
       "      <td>301.0</td>\n",
       "    </tr>\n",
       "    <tr>\n",
       "      <th>$500,001 - $1,000,000</th>\n",
       "      <td>54.0</td>\n",
       "      <td>18.0</td>\n",
       "    </tr>\n",
       "    <tr>\n",
       "      <th rowspan=\"14\" valign=\"top\">sale_full</th>\n",
       "      <th>$1,000 - $15,000</th>\n",
       "      <td>NaN</td>\n",
       "      <td>3.0</td>\n",
       "    </tr>\n",
       "    <tr>\n",
       "      <th>$1,000,000 +</th>\n",
       "      <td>12.0</td>\n",
       "      <td>1.0</td>\n",
       "    </tr>\n",
       "    <tr>\n",
       "      <th>$1,000,000 - $5,000,000</th>\n",
       "      <td>NaN</td>\n",
       "      <td>1.0</td>\n",
       "    </tr>\n",
       "    <tr>\n",
       "      <th>$1,000,001 - $5,000,000</th>\n",
       "      <td>11.0</td>\n",
       "      <td>4.0</td>\n",
       "    </tr>\n",
       "    <tr>\n",
       "      <th>$1,001 -</th>\n",
       "      <td>21.0</td>\n",
       "      <td>1.0</td>\n",
       "    </tr>\n",
       "    <tr>\n",
       "      <th>$1,001 - $15,000</th>\n",
       "      <td>2267.0</td>\n",
       "      <td>826.0</td>\n",
       "    </tr>\n",
       "    <tr>\n",
       "      <th>$100,001 - $250,000</th>\n",
       "      <td>62.0</td>\n",
       "      <td>156.0</td>\n",
       "    </tr>\n",
       "    <tr>\n",
       "      <th>$15,000 - $50,000</th>\n",
       "      <td>NaN</td>\n",
       "      <td>2.0</td>\n",
       "    </tr>\n",
       "    <tr>\n",
       "      <th>$15,001 - $50,000</th>\n",
       "      <td>369.0</td>\n",
       "      <td>415.0</td>\n",
       "    </tr>\n",
       "    <tr>\n",
       "      <th>$250,001 - $500,000</th>\n",
       "      <td>52.0</td>\n",
       "      <td>58.0</td>\n",
       "    </tr>\n",
       "    <tr>\n",
       "      <th>$5,000,001 - $25,000,000</th>\n",
       "      <td>2.0</td>\n",
       "      <td>1.0</td>\n",
       "    </tr>\n",
       "    <tr>\n",
       "      <th>$50,000,000 +</th>\n",
       "      <td>NaN</td>\n",
       "      <td>1.0</td>\n",
       "    </tr>\n",
       "    <tr>\n",
       "      <th>$50,001 - $100,000</th>\n",
       "      <td>102.0</td>\n",
       "      <td>144.0</td>\n",
       "    </tr>\n",
       "    <tr>\n",
       "      <th>$500,001 - $1,000,000</th>\n",
       "      <td>27.0</td>\n",
       "      <td>25.0</td>\n",
       "    </tr>\n",
       "    <tr>\n",
       "      <th rowspan=\"12\" valign=\"top\">sale_partial</th>\n",
       "      <th>$1,000 - $15,000</th>\n",
       "      <td>NaN</td>\n",
       "      <td>1.0</td>\n",
       "    </tr>\n",
       "    <tr>\n",
       "      <th>$1,000,000 +</th>\n",
       "      <td>6.0</td>\n",
       "      <td>NaN</td>\n",
       "    </tr>\n",
       "    <tr>\n",
       "      <th>$1,000,001 - $5,000,000</th>\n",
       "      <td>3.0</td>\n",
       "      <td>NaN</td>\n",
       "    </tr>\n",
       "    <tr>\n",
       "      <th>$1,001 -</th>\n",
       "      <td>126.0</td>\n",
       "      <td>NaN</td>\n",
       "    </tr>\n",
       "    <tr>\n",
       "      <th>$1,001 - $15,000</th>\n",
       "      <td>1472.0</td>\n",
       "      <td>235.0</td>\n",
       "    </tr>\n",
       "    <tr>\n",
       "      <th>$100,001 - $250,000</th>\n",
       "      <td>20.0</td>\n",
       "      <td>20.0</td>\n",
       "    </tr>\n",
       "    <tr>\n",
       "      <th>$15,000 - $50,000</th>\n",
       "      <td>NaN</td>\n",
       "      <td>1.0</td>\n",
       "    </tr>\n",
       "    <tr>\n",
       "      <th>$15,001 - $50,000</th>\n",
       "      <td>80.0</td>\n",
       "      <td>98.0</td>\n",
       "    </tr>\n",
       "    <tr>\n",
       "      <th>$250,001 - $500,000</th>\n",
       "      <td>10.0</td>\n",
       "      <td>3.0</td>\n",
       "    </tr>\n",
       "    <tr>\n",
       "      <th>$5,000,001 - $25,000,000</th>\n",
       "      <td>2.0</td>\n",
       "      <td>NaN</td>\n",
       "    </tr>\n",
       "    <tr>\n",
       "      <th>$50,001 - $100,000</th>\n",
       "      <td>23.0</td>\n",
       "      <td>38.0</td>\n",
       "    </tr>\n",
       "    <tr>\n",
       "      <th>$500,001 - $1,000,000</th>\n",
       "      <td>16.0</td>\n",
       "      <td>1.0</td>\n",
       "    </tr>\n",
       "  </tbody>\n",
       "</table>\n",
       "</div>"
      ],
      "text/plain": [
       "party                                  Democratic  Republican\n",
       "type         amount                                          \n",
       "exchange     $1,000,001 - $5,000,000          NaN         1.0\n",
       "             $1,001 -                         1.0         NaN\n",
       "             $1,001 - $15,000                44.0        17.0\n",
       "             $100,001 - $250,000              1.0         9.0\n",
       "             $15,001 - $50,000                6.0        15.0\n",
       "             $250,001 - $500,000              2.0         7.0\n",
       "             $50,001 - $100,000               3.0        21.0\n",
       "             $500,001 - $1,000,000            NaN         1.0\n",
       "purchase     $1,000,000 +                     9.0         NaN\n",
       "             $1,000,001 - $5,000,000         17.0         2.0\n",
       "             $1,001 -                        88.0         5.0\n",
       "             $1,001 - $15,000              3567.0      1626.0\n",
       "             $100,001 - $250,000             47.0       230.0\n",
       "             $15,001 - $50,000              461.0       814.0\n",
       "             $250,001 - $500,000             36.0        59.0\n",
       "             $5,000,001 - $25,000,000         4.0         NaN\n",
       "             $50,001 - $100,000              90.0       301.0\n",
       "             $500,001 - $1,000,000           54.0        18.0\n",
       "sale_full    $1,000 - $15,000                 NaN         3.0\n",
       "             $1,000,000 +                    12.0         1.0\n",
       "             $1,000,000 - $5,000,000          NaN         1.0\n",
       "             $1,000,001 - $5,000,000         11.0         4.0\n",
       "             $1,001 -                        21.0         1.0\n",
       "             $1,001 - $15,000              2267.0       826.0\n",
       "             $100,001 - $250,000             62.0       156.0\n",
       "             $15,000 - $50,000                NaN         2.0\n",
       "             $15,001 - $50,000              369.0       415.0\n",
       "             $250,001 - $500,000             52.0        58.0\n",
       "             $5,000,001 - $25,000,000         2.0         1.0\n",
       "             $50,000,000 +                    NaN         1.0\n",
       "             $50,001 - $100,000             102.0       144.0\n",
       "             $500,001 - $1,000,000           27.0        25.0\n",
       "sale_partial $1,000 - $15,000                 NaN         1.0\n",
       "             $1,000,000 +                     6.0         NaN\n",
       "             $1,000,001 - $5,000,000          3.0         NaN\n",
       "             $1,001 -                       126.0         NaN\n",
       "             $1,001 - $15,000              1472.0       235.0\n",
       "             $100,001 - $250,000             20.0        20.0\n",
       "             $15,000 - $50,000                NaN         1.0\n",
       "             $15,001 - $50,000               80.0        98.0\n",
       "             $250,001 - $500,000             10.0         3.0\n",
       "             $5,000,001 - $25,000,000         2.0         NaN\n",
       "             $50,001 - $100,000              23.0        38.0\n",
       "             $500,001 - $1,000,000           16.0         1.0"
      ]
     },
     "execution_count": 388,
     "metadata": {},
     "output_type": "execute_result"
    }
   ],
   "source": [
    "types = merged.pivot_table(columns='party',index = ['type','amount']\n",
    "                           ,values='representative',aggfunc='count')\n",
    "types "
   ]
  },
  {
   "cell_type": "markdown",
   "metadata": {},
   "source": [
    " There are some baffling findings, when looking at the $500,000+ trades we clearly see that democrats engage in far more high value trades compared to republicans aside from the one republican trade for more than $50,000,000.\n",
    "Due to the coarse granularity of the amount variable it is definitely a limiting factor in unlocking this particular data set but it is still better than nothing."
   ]
  },
  {
   "cell_type": "markdown",
   "metadata": {},
   "source": [
    "### Assessment of Missingness"
   ]
  },
  {
   "cell_type": "markdown",
   "metadata": {
    "ExecuteTime": {
     "end_time": "2019-10-31T23:36:28.662099Z",
     "start_time": "2019-10-31T23:36:28.660016Z"
    }
   },
   "source": [
    "During the EDA phase I noticed that the owner columns had almost half of it's values missing. Thinking about it, it could potentially be NMAR maybe if the transaction would appear shady based on a certian value it could look bad for the congressmember, so they just don't report it at all. But we should conduct an appropriate MAR test to see if there is actually dependence on other columns, it could very well be the case the maybe party affiliation, type of trade, or amount of trade could be valid variables that influence whether the owner variable is missing so we'll conduct some MAR tests.Given the categorical nature of most columns, we will mostly use tvd as the test statistic. We will use 0.01 significance level."
   ]
  },
  {
   "cell_type": "code",
   "execution_count": 372,
   "metadata": {},
   "outputs": [
    {
     "name": "stdout",
     "output_type": "stream",
     "text": [
      "observed tvd:  0.08209972663413961\n"
     ]
    },
    {
     "data": {
      "image/png": "[encoded data removed]",
      "text/plain": [
       "<Figure size 432x288 with 1 Axes>"
      ]
     },
     "metadata": {
      "needs_background": "light"
     },
     "output_type": "display_data"
    }
   ],
   "source": [
    "merged['owner_isnull'] = merged['owner'].isna()\n",
    "\n",
    "\n",
    "emp_distributions = (\n",
    "    merged\n",
    "    .pivot_table(columns='owner_isnull', index='party',\n",
    "                 aggfunc='size')\n",
    "    .fillna(0)\n",
    "    .apply(lambda x:x / x.sum())\n",
    ")\n",
    "\n",
    "emp_distributions.plot(kind='barh', title='distribution of party affiltion with missing');\n",
    "\n",
    "observed_tvd = np.sum(np.abs(emp_distributions.diff(axis=1)\n",
    "                             .iloc[:,-1])) / 2\n",
    "print('observed tvd: ', observed_tvd)\n",
    "\n",
    "\n",
    "n_repetitions = 500\n",
    "\n",
    "merged_type = merged.copy()[['party', 'owner_isnull']]\n",
    "tvds = []\n",
    "for _ in range(n_repetitions):\n",
    "    \n",
    "    shuffled_types = (\n",
    "        merged_type['party']\n",
    "        .sample(replace=False, frac=1)\n",
    "        .reset_index(drop=True)\n",
    "    )\n",
    "    \n",
    "    shuffled = (\n",
    "        merged_type\n",
    "        .assign(**{'Shuffled Types': shuffled_types})\n",
    "    )\n",
    "    \n",
    "    # compute the tvd\n",
    "    shuffed_emp_distributions = (\n",
    "        shuffled\n",
    "        .pivot_table(columns='owner_isnull', index='Shuffled Types',\n",
    "                     values=None, aggfunc='size')\n",
    "        .fillna(0)\n",
    "        .apply(lambda x:x/x.sum())\n",
    "    )\n",
    "    \n",
    "    tvd = np.sum(np.abs(shuffed_emp_distributions.diff(axis=1).iloc[:,-1])) / 2\n",
    "    # add it to the list of results\n",
    "    \n",
    "    tvds.append(tvd)"
   ]
  },
  {
   "cell_type": "code",
   "execution_count": 373,
   "metadata": {},
   "outputs": [
    {
     "data": {
      "image/png": "[encoded data removed]",
      "text/plain": [
       "<Figure size 432x288 with 1 Axes>"
      ]
     },
     "metadata": {
      "needs_background": "light"
     },
     "output_type": "display_data"
    }
   ],
   "source": [
    "pd.Series(tvds).plot(kind='hist', density=True, alpha=0.8)\n",
    "plt.scatter(observed_tvd, 0, color='red', s=40);"
   ]
  },
  {
   "cell_type": "code",
   "execution_count": 374,
   "metadata": {},
   "outputs": [
    {
     "data": {
      "text/plain": [
       "0.0"
      ]
     },
     "execution_count": 374,
     "metadata": {},
     "output_type": "execute_result"
    }
   ],
   "source": [
    "pval = np.mean(tvds >= observed_tvd)\n",
    "pval"
   ]
  },
  {
   "cell_type": "code",
   "execution_count": 375,
   "metadata": {
    "scrolled": false
   },
   "outputs": [
    {
     "name": "stdout",
     "output_type": "stream",
     "text": [
      "observed tvd:  0.05289456382573785\n"
     ]
    },
    {
     "data": {
      "image/png": "[encoded data removed]",
      "text/plain": [
       "<Figure size 432x288 with 1 Axes>"
      ]
     },
     "metadata": {
      "needs_background": "light"
     },
     "output_type": "display_data"
    }
   ],
   "source": [
    "merged['owner_isnull'] = merged['owner'].isna()\n",
    "\n",
    "\n",
    "emp_distributions = (\n",
    "    merged\n",
    "    .pivot_table(columns='owner_isnull', index='amount',\n",
    "                 aggfunc='size')\n",
    "    .fillna(0)\n",
    "    .apply(lambda x:x / x.sum())\n",
    ")\n",
    "\n",
    "emp_distributions.plot(kind='barh',\n",
    "                       title='distribution of amount with missingness');\n",
    "\n",
    "observed_tvd = np.sum(np.abs(emp_distributions.diff(axis=1).iloc[:,-1])) / 2\n",
    "print('observed tvd: ', observed_tvd)\n",
    "\n",
    "n_repetitions = 500\n",
    "\n",
    "payments_type = merged.copy()[['amount', 'owner_isnull']]\n",
    "tvds = []\n",
    "for _ in range(n_repetitions):\n",
    "    \n",
    "    shuffled_types = (\n",
    "        payments_type['amount']\n",
    "        .sample(replace=False, frac=1)\n",
    "        .reset_index(drop=True)\n",
    "    )\n",
    "    \n",
    "    shuffled = (\n",
    "        payments_type\n",
    "        .assign(**{'Shuffled Types': shuffled_types})\n",
    "    )\n",
    "    \n",
    "    # compute the tvd\n",
    "    shuffed_emp_distributions = (\n",
    "        shuffled\n",
    "        .pivot_table(columns='owner_isnull', index='Shuffled Types',\n",
    "                     values=None, aggfunc='size')\n",
    "        .fillna(0)\n",
    "        .apply(lambda x:x/x.sum())\n",
    "    )\n",
    "    \n",
    "    tvd = np.sum(np.abs(shuffed_emp_distributions.diff(axis=1).iloc[:,-1])) / 2\n",
    "    # add it to the list of results\n",
    "    \n",
    "    tvds.append(tvd)"
   ]
  },
  {
   "cell_type": "code",
   "execution_count": 376,
   "metadata": {},
   "outputs": [
    {
     "data": {
      "image/png": "[encoded data removed]",
      "text/plain": [
       "<Figure size 432x288 with 1 Axes>"
      ]
     },
     "metadata": {
      "needs_background": "light"
     },
     "output_type": "display_data"
    }
   ],
   "source": [
    "pd.Series(tvds).plot(kind='hist', density=True, alpha=0.8)\n",
    "plt.scatter(observed_tvd, 0, color='red', s=40);"
   ]
  },
  {
   "cell_type": "code",
   "execution_count": 377,
   "metadata": {},
   "outputs": [
    {
     "data": {
      "text/plain": [
       "0.0"
      ]
     },
     "execution_count": 377,
     "metadata": {},
     "output_type": "execute_result"
    }
   ],
   "source": [
    "pval = np.mean(tvds >= observed_tvd)\n",
    "pval"
   ]
  },
  {
   "cell_type": "code",
   "execution_count": 381,
   "metadata": {
    "scrolled": true
   },
   "outputs": [
    {
     "name": "stdout",
     "output_type": "stream",
     "text": [
      "observed_tvd 0.07241542383242788\n"
     ]
    },
    {
     "data": {
      "image/png": "[encoded data removed]",
      "text/plain": [
       "<Figure size 432x288 with 1 Axes>"
      ]
     },
     "metadata": {
      "needs_background": "light"
     },
     "output_type": "display_data"
    }
   ],
   "source": [
    "merged['owner_isnull'] = merged['owner'].isna()\n",
    "\n",
    "\n",
    "emp_distributions = (\n",
    "    merged\n",
    "    .pivot_table(columns='owner_isnull', index='type', aggfunc='size')\n",
    "    .fillna(0)\n",
    "    .apply(lambda x:x / x.sum())\n",
    ")\n",
    "\n",
    "emp_distributions.plot(kind='barh',\n",
    "                       title='distribution of type with missingness');\n",
    "\n",
    "observed_tvd = np.sum(np.abs(emp_distributions.diff(axis=1)\n",
    "                             .iloc[:,-1])) / 2\n",
    "print('observed_tvd', observed_tvd)\n",
    "\n",
    "n_repetitions = 500\n",
    "\n",
    "merged_type = merged.copy()[['type', 'owner_isnull']]\n",
    "tvds = []\n",
    "for _ in range(n_repetitions):\n",
    "    \n",
    "    shuffled_types = (\n",
    "        merged_type['type']\n",
    "        .sample(replace=False, frac=1)\n",
    "        .reset_index(drop=True)\n",
    "    )\n",
    "    \n",
    "    shuffled = (\n",
    "        merged_type\n",
    "        .assign(**{'Shuffled Types': shuffled_types})\n",
    "    )\n",
    "    \n",
    "    # compute the tvd\n",
    "    shuffed_emp_distributions = (\n",
    "        shuffled\n",
    "        .pivot_table(columns='owner_isnull', index='Shuffled Types',\n",
    "                     values=None, aggfunc='size')\n",
    "        .fillna(0)\n",
    "        .apply(lambda x:x/x.sum())\n",
    "    )\n",
    "    \n",
    "    tvd = np.sum(np.abs(shuffed_emp_distributions.diff(axis=1).iloc[:,-1])) / 2\n",
    "    # add it to the list of results\n",
    "    \n",
    "    tvds.append(tvd)\n",
    "    \n",
    "    \n"
   ]
  },
  {
   "cell_type": "code",
   "execution_count": 382,
   "metadata": {
    "scrolled": true
   },
   "outputs": [
    {
     "data": {
      "image/png": "[encoded data removed]",
      "text/plain": [
       "<Figure size 432x288 with 1 Axes>"
      ]
     },
     "metadata": {
      "needs_background": "light"
     },
     "output_type": "display_data"
    }
   ],
   "source": [
    "pd.Series(tvds).plot(kind='hist', density=True, alpha=0.8)\n",
    "plt.scatter(observed_tvd, 0, color='red', s=40);"
   ]
  },
  {
   "cell_type": "code",
   "execution_count": 383,
   "metadata": {},
   "outputs": [
    {
     "data": {
      "text/plain": [
       "0.0"
      ]
     },
     "execution_count": 383,
     "metadata": {},
     "output_type": "execute_result"
    }
   ],
   "source": [
    "pval = np.mean(tvds >= observed_tvd)\n",
    "pval"
   ]
  },
  {
   "cell_type": "markdown",
   "metadata": {},
   "source": [
    "Even with significane level of 0.01 we see from all three MAR permutation tests that the observed total variation distance among variables party, amount, and type are all much greater than the repective null distribution generated by permutation tests. In all three cases the null hypothesis that these tvd's come from the same distribution is rejected in favor of alternative hypothesis that they come from different distributions. Because these tvd's do not come from the same distributions that means there is a MAR dependence of owner on these variables. After obtaining MAR dependence varification from permutation testing we can think how intuitevely these variables migh influence the probability that the owner column is missing. In terms of party it could be due to that fact that one party or the other might tend to report less or more often, for amount maybe the amount a very large transaction might have a higher probability to report owner because it could appear shady or might not want to diclose the ownership of the position based on size. For the type it could be maybe that buys or sells are over or under reported so as not to appear to buy or sell in a motivated fashion in which the ownership could hint at the scope of those involved."
   ]
  },
  {
   "cell_type": "markdown",
   "metadata": {},
   "source": [
    "### Hypothesis Testing"
   ]
  },
  {
   "cell_type": "markdown",
   "metadata": {
    "ExecuteTime": {
     "end_time": "2019-10-31T23:36:28.666489Z",
     "start_time": "2019-10-31T23:36:28.664381Z"
    }
   },
   "source": [
    "Let's further explore the distribution behind the proportion of trades made between party affiliations, the test statistic of interest is the signed difference between the proportions, we'll use democrats - rep, my proposed null hypothesis is a world in which I would think both parties of interest would have an equal interest in trading so the proportion of trades from democrats is around 50% and the proportion of trades from republicans is around 50% we might expect our test statistic to be close to zero under our null. My alternative hypothesis is that we live in a world where democrats are more interested in trading, so the proportion of trades from democrats is above 50% and republicans trade less that 50% of the time yeilding a test statistic that is positive because, dem % - rep % would expect higher number of dem % trades. We will use 0.01 significance level."
   ]
  },
  {
   "cell_type": "code",
   "execution_count": 339,
   "metadata": {},
   "outputs": [
    {
     "data": {
      "text/plain": [
       "0.2768670309653916"
      ]
     },
     "execution_count": 339,
     "metadata": {},
     "output_type": "execute_result"
    }
   ],
   "source": [
    "observed = all_trades.groupby('party')['disclosure_year'].sum() / raw_data_nan.shape[0]\n",
    "observed = observed[0] - observed[1]\n",
    "observed"
   ]
  },
  {
   "cell_type": "markdown",
   "metadata": {},
   "source": [
    "I think this test might be too easy but I have other homework and I think it answers an honest question so we'll go ahead"
   ]
  },
  {
   "cell_type": "code",
   "execution_count": 345,
   "metadata": {},
   "outputs": [],
   "source": [
    "N = 10000\n",
    "\n",
    "# 10000 times, we want to 'flip a coin' the size of original data set times\n",
    "results = []\n",
    "for _ in range(N):\n",
    "    simulation = np.random.choice([0, 1], p=[0.5, 0.5], size=merged.shape[0]) # 0 will represent dems, 1 repubs\n",
    "    party_prop_diff = (simulation == 0).mean() - (simulation == 1).mean()  # Test statistic\n",
    "    results.append(party_prop_diff)"
   ]
  },
  {
   "cell_type": "code",
   "execution_count": 346,
   "metadata": {
    "scrolled": true
   },
   "outputs": [
    {
     "data": {
      "text/plain": [
       "[-0.013310914950259267,\n",
       " -0.001961608518985525,\n",
       " -0.005884825556956741,\n",
       " 0.0,\n",
       " -0.004763906403250695,\n",
       " -0.012189995796553221,\n",
       " 0.015973097940311043,\n",
       " 0.003502872355331421,\n",
       " 0.0025220680958386033,\n",
       " -0.003502872355331421,\n",
       " -0.005464480874316946,\n",
       " -0.008547008547008517,\n",
       " 0.01429171920975203,\n",
       " 0.015973097940311043,\n",
       " 0.0044836766148241836,\n",
       " -0.008126663864368833,\n",
       " -0.008547008547008517,\n",
       " 0.0009808042594927624,\n",
       " 0.0030825276726915707,\n",
       " 0.009387697912288051,\n",
       " 0.007285974499089243,\n",
       " -0.0007005744710662509,\n",
       " 0.009527812806501279,\n",
       " -0.00028022978842651147,\n",
       " 0.007566204287515754,\n",
       " -0.007285974499089243,\n",
       " 0.007846434075942321,\n",
       " -0.0037831021437579326,\n",
       " -0.008406893652795289,\n",
       " 0.0023819532016253753,\n",
       " -0.0001401148942132835,\n",
       " -0.010648731960207325,\n",
       " 0.0007005744710662509,\n",
       " -0.0023819532016253753,\n",
       " -0.008266778758582005,\n",
       " 0.015973097940311043,\n",
       " -0.005464480874316946,\n",
       " 0.0001401148942132835,\n",
       " -0.010928961748633892,\n",
       " 0.0086871234412218,\n",
       " -0.014151604315538746,\n",
       " -0.003502872355331421,\n",
       " -0.014431834103965258,\n",
       " -0.017234131988230317,\n",
       " -0.003222642566904854,\n",
       " 0.0029424127784783427,\n",
       " 0.001961608518985525,\n",
       " 0.0015412638363458409,\n",
       " -0.008266778758582005,\n",
       " -0.0023819532016253753,\n",
       " -0.0026621829900518867,\n",
       " -0.0130306851618327,\n",
       " 0.014011489421325463,\n",
       " 0.009808042594927846,\n",
       " -0.002802297884265059,\n",
       " -0.007005744710662787,\n",
       " 0.00042034468263979496,\n",
       " 0.007145859604875959,\n",
       " -0.003502872355331421,\n",
       " 0.009667927700714563,\n",
       " 0.017794591565083395,\n",
       " -0.013310914950259267,\n",
       " -0.009247583018074768,\n",
       " 0.006305170239596425,\n",
       " 0.015973097940311043,\n",
       " 0.012049880902339938,\n",
       " 0.0025220680958386033,\n",
       " 0.016253327728737554,\n",
       " -0.002802297884265059,\n",
       " 0.0030825276726915707,\n",
       " -0.011349306431273687,\n",
       " 0.010228387277567641,\n",
       " -0.014571948998178541,\n",
       " 0.006725514922236275,\n",
       " 0.0023819532016253753,\n",
       " -0.0009808042594927624,\n",
       " -0.010788846854420608,\n",
       " 0.012750455373406189,\n",
       " 0.005884825556956741,\n",
       " -0.012470225584979733,\n",
       " 0.011909766008126654,\n",
       " -0.0033627574611181377,\n",
       " -0.009527812806501279,\n",
       " -0.003642987249544649,\n",
       " -0.008967353229648367,\n",
       " -0.008126663864368833,\n",
       " 0.00028022978842651147,\n",
       " -0.0021017234131988083,\n",
       " -0.004063331932184389,\n",
       " 0.011629536219700143,\n",
       " -0.01583298304609776,\n",
       " -0.005184251085890379,\n",
       " 0.0005604595768529674,\n",
       " -0.002802297884265059,\n",
       " 0.0130306851618327,\n",
       " 0.0037831021437579326,\n",
       " -0.0046237915090374115,\n",
       " -0.010648731960207325,\n",
       " -0.0005604595768529674,\n",
       " -0.0007005744710662509,\n",
       " 0.010228387277567641,\n",
       " 0.0030825276726915707,\n",
       " -0.0009808042594927624,\n",
       " -0.01176965111391337,\n",
       " 0.0046237915090374115,\n",
       " 0.010788846854420608,\n",
       " 0.013731259632898951,\n",
       " 0.015132408575031508,\n",
       " 0.005184251085890379,\n",
       " -0.0022418383074120918,\n",
       " 0.0026621829900518867,\n",
       " 0.007145859604875959,\n",
       " 0.008827238335435084,\n",
       " -0.006585400028022992,\n",
       " 0.009107468123861595,\n",
       " -0.0025220680958386033,\n",
       " -0.00994815748914113,\n",
       " -0.007706319181729038,\n",
       " -0.010648731960207325,\n",
       " -0.011069076642847175,\n",
       " -0.009247583018074768,\n",
       " -0.003923217037971105,\n",
       " -0.0015412638363458409,\n",
       " 0.009107468123861595,\n",
       " -0.00798654897015555,\n",
       " 0.004063331932184389,\n",
       " -0.01807482135350985,\n",
       " 0.0029424127784783427,\n",
       " -0.004203446826397617,\n",
       " 0.0033627574611181377,\n",
       " 0.0044836766148241836,\n",
       " -0.0037831021437579326,\n",
       " -0.007706319181729038,\n",
       " 0.0,\n",
       " 0.0011209191537060459,\n",
       " -0.00994815748914113,\n",
       " -0.006725514922236275,\n",
       " 0.026201485217878684,\n",
       " 0.008547008547008517,\n",
       " -0.002802297884265059,\n",
       " 0.003222642566904854,\n",
       " -0.005044136191677151,\n",
       " -0.008547008547008517,\n",
       " -0.0011209191537060459,\n",
       " 0.003923217037971105,\n",
       " -0.008827238335435084,\n",
       " -0.008827238335435084,\n",
       " -0.0029424127784783427,\n",
       " 0.00042034468263979496,\n",
       " -0.0026621829900518867,\n",
       " 0.009527812806501279,\n",
       " -0.005184251085890379,\n",
       " -0.0030825276726915707,\n",
       " 0.01429171920975203,\n",
       " -0.023118957545187058,\n",
       " 0.0008406893652794789,\n",
       " 0.006024940451169913,\n",
       " -0.01176965111391337,\n",
       " 0.008126663864368833,\n",
       " 0.0043435617206109,\n",
       " 0.003502872355331421,\n",
       " 0.007706319181729038,\n",
       " -0.010088272383354357,\n",
       " -0.0014011489421325574,\n",
       " -0.01233011069076645,\n",
       " 0.0005604595768529674,\n",
       " 0.006305170239596425,\n",
       " 0.003222642566904854,\n",
       " 0.017794591565083395,\n",
       " 0.012470225584979733,\n",
       " 0.0007005744710662509,\n",
       " -0.004763906403250695,\n",
       " 0.005464480874316946,\n",
       " 0.0053243659801036625,\n",
       " -0.011349306431273687,\n",
       " -0.007285974499089243,\n",
       " 0.022698612862547263,\n",
       " -0.013451029844472495,\n",
       " -0.0049040212974638675,\n",
       " -0.00042034468263979496,\n",
       " 0.0021017234131988083,\n",
       " 0.0009808042594927624,\n",
       " -0.007566204287515754,\n",
       " 0.013451029844472495,\n",
       " 0.007706319181729038,\n",
       " 0.003222642566904854,\n",
       " 0.009808042594927846,\n",
       " -0.0008406893652794789,\n",
       " 0.005464480874316946,\n",
       " 0.009808042594927846,\n",
       " 0.0008406893652794789,\n",
       " -0.009247583018074768,\n",
       " -0.003923217037971105,\n",
       " -0.010508617065994097,\n",
       " 0.0009808042594927624,\n",
       " 0.0015412638363458409,\n",
       " -0.010648731960207325,\n",
       " -0.0001401148942132835,\n",
       " 0.010368502171780813,\n",
       " 0.0053243659801036625,\n",
       " 0.0029424127784783427,\n",
       " 0.00994815748914113,\n",
       " 0.0008406893652794789,\n",
       " 0.0023819532016253753,\n",
       " 0.008266778758582005,\n",
       " -0.009667927700714563,\n",
       " -0.0026621829900518867,\n",
       " 0.015132408575031508,\n",
       " 0.004203446826397617,\n",
       " 0.006165055345383197,\n",
       " 0.0053243659801036625,\n",
       " -0.0015412638363458409,\n",
       " -0.008406893652795289,\n",
       " 0.0023819532016253753,\n",
       " 0.0018214936247722968,\n",
       " -0.019335855401429125,\n",
       " -0.009667927700714563,\n",
       " 0.011909766008126654,\n",
       " -0.010648731960207325,\n",
       " -0.003923217037971105,\n",
       " -0.0033627574611181377,\n",
       " 0.006865629816449503,\n",
       " 0.0015412638363458409,\n",
       " 0.0033627574611181377,\n",
       " 0.0014011489421325574,\n",
       " 0.0086871234412218,\n",
       " -0.0037831021437579326,\n",
       " 0.0001401148942132835,\n",
       " -0.012189995796553221,\n",
       " 0.011069076642847175,\n",
       " -0.012189995796553221,\n",
       " -0.0012610340479193294,\n",
       " -0.009247583018074768,\n",
       " 0.003502872355331421,\n",
       " 0.0026621829900518867,\n",
       " -0.007426089393302471,\n",
       " 0.009387697912288051,\n",
       " 0.0014011489421325574,\n",
       " 0.0029424127784783427,\n",
       " -0.013310914950259267,\n",
       " 0.009107468123861595,\n",
       " 0.008406893652795289,\n",
       " 0.012049880902339938,\n",
       " 0.0014011489421325574,\n",
       " -0.01821493624772308,\n",
       " -0.00798654897015555,\n",
       " -0.0018214936247722968,\n",
       " 0.0030825276726915707,\n",
       " 0.0005604595768529674,\n",
       " 0.0011209191537060459,\n",
       " -0.017514361776656884,\n",
       " 0.0033627574611181377,\n",
       " 0.005464480874316946,\n",
       " -0.008967353229648367,\n",
       " 0.002802297884265059,\n",
       " 0.014571948998178541,\n",
       " -0.0029424127784783427,\n",
       " -0.0043435617206109,\n",
       " 0.002802297884265059,\n",
       " -0.0046237915090374115,\n",
       " 0.006165055345383197,\n",
       " -0.006585400028022992,\n",
       " -0.013310914950259267,\n",
       " 0.012470225584979733,\n",
       " -0.0015412638363458409,\n",
       " 0.006445285133809708,\n",
       " 0.010228387277567641,\n",
       " -0.004063331932184389,\n",
       " 0.013451029844472495,\n",
       " -0.009527812806501279,\n",
       " 0.006165055345383197,\n",
       " -0.006445285133809708,\n",
       " 0.012750455373406189,\n",
       " -0.0015412638363458409,\n",
       " -0.014571948998178541,\n",
       " -0.004203446826397617,\n",
       " 0.00028022978842651147,\n",
       " 0.0043435617206109,\n",
       " -0.016253327728737554,\n",
       " 0.01807482135350985,\n",
       " -0.0022418383074120918,\n",
       " -0.002802297884265059,\n",
       " -0.008406893652795289,\n",
       " -0.0008406893652794789,\n",
       " 0.010928961748633892,\n",
       " -0.00994815748914113,\n",
       " 0.006024940451169913,\n",
       " -0.0007005744710662509,\n",
       " 0.010788846854420608,\n",
       " -0.0023819532016253753,\n",
       " 0.006305170239596425,\n",
       " 0.010088272383354357,\n",
       " -0.008126663864368833,\n",
       " 0.00042034468263979496,\n",
       " 0.0026621829900518867,\n",
       " -0.0056045957685302294,\n",
       " 0.007005744710662787,\n",
       " 0.021157349026201533,\n",
       " 0.0009808042594927624,\n",
       " -0.007005744710662787,\n",
       " -0.010088272383354357,\n",
       " -0.011909766008126654,\n",
       " 0.0012610340479193294,\n",
       " 0.010788846854420608,\n",
       " -0.0015412638363458409,\n",
       " -0.0008406893652794789,\n",
       " 0.0001401148942132835,\n",
       " 0.0018214936247722968,\n",
       " 0.0023819532016253753,\n",
       " 0.009107468123861595,\n",
       " 0.011909766008126654,\n",
       " -0.0043435617206109,\n",
       " -0.012890570267619417,\n",
       " -0.009808042594927846,\n",
       " 0.004063331932184389,\n",
       " -0.0025220680958386033,\n",
       " 0.005184251085890379,\n",
       " -0.004763906403250695,\n",
       " -0.005464480874316946,\n",
       " -0.010508617065994097,\n",
       " 0.006305170239596425,\n",
       " 0.0044836766148241836,\n",
       " 0.0030825276726915707,\n",
       " -0.011909766008126654,\n",
       " 0.0026621829900518867,\n",
       " -0.0022418383074120918,\n",
       " 0.006165055345383197,\n",
       " -0.0022418383074120918,\n",
       " 0.003222642566904854,\n",
       " 0.008266778758582005,\n",
       " -0.005744710662743457,\n",
       " 0.01148942132548686,\n",
       " 0.007285974499089243,\n",
       " 0.0016813787305590133,\n",
       " 0.0025220680958386033,\n",
       " 0.0007005744710662509,\n",
       " 0.004763906403250695,\n",
       " 0.001961608518985525,\n",
       " 0.014431834103965258,\n",
       " -0.0025220680958386033,\n",
       " -0.018495166036149646,\n",
       " -0.01176965111391337,\n",
       " -0.006445285133809708,\n",
       " 0.0014011489421325574,\n",
       " 0.0021017234131988083,\n",
       " -0.006445285133809708,\n",
       " 0.009107468123861595,\n",
       " 0.011209191537060403,\n",
       " -0.011349306431273687,\n",
       " 0.013591144738685668,\n",
       " 0.005744710662743457,\n",
       " 0.015973097940311043,\n",
       " 0.014852178786604997,\n",
       " 0.00028022978842651147,\n",
       " 0.0001401148942132835,\n",
       " -0.0014011489421325574,\n",
       " 0.010648731960207325,\n",
       " 0.010088272383354357,\n",
       " 0.0053243659801036625,\n",
       " 0.01611321283452427,\n",
       " 0.0008406893652794789,\n",
       " 0.0029424127784783427,\n",
       " -0.0043435617206109,\n",
       " -0.0007005744710662509,\n",
       " -0.0053243659801036625,\n",
       " 0.009387697912288051,\n",
       " 0.010648731960207325,\n",
       " -0.00994815748914113,\n",
       " 0.0026621829900518867,\n",
       " -0.0014011489421325574,\n",
       " -0.012049880902339938,\n",
       " -0.0053243659801036625,\n",
       " 0.0056045957685302294,\n",
       " -0.009808042594927846,\n",
       " -0.003222642566904854,\n",
       " -0.010788846854420608,\n",
       " -0.012890570267619417,\n",
       " 0.0021017234131988083,\n",
       " 0.0012610340479193294,\n",
       " -0.008266778758582005,\n",
       " -0.008266778758582005,\n",
       " -0.007285974499089243,\n",
       " 0.0023819532016253753,\n",
       " 0.005744710662743457,\n",
       " -0.0029424127784783427,\n",
       " -0.003502872355331421,\n",
       " 0.0023819532016253753,\n",
       " 0.005044136191677151,\n",
       " -0.013591144738685668,\n",
       " 0.020737004343561738,\n",
       " -0.007285974499089243,\n",
       " -0.017234131988230317,\n",
       " -0.005184251085890379,\n",
       " 0.010228387277567641,\n",
       " 0.003222642566904854,\n",
       " -0.010788846854420608,\n",
       " 0.0021017234131988083,\n",
       " 0.0012610340479193294,\n",
       " 0.019756200084068976,\n",
       " 0.003222642566904854,\n",
       " -0.021998038391481067,\n",
       " -0.003222642566904854,\n",
       " -0.013451029844472495,\n",
       " -0.010228387277567641,\n",
       " -0.0007005744710662509,\n",
       " 0.012750455373406189,\n",
       " 0.011349306431273687,\n",
       " 0.0,\n",
       " -0.008126663864368833,\n",
       " 0.010088272383354357,\n",
       " 0.004063331932184389,\n",
       " 0.003222642566904854,\n",
       " -0.007426089393302471,\n",
       " 0.014712063892391714,\n",
       " -0.012189995796553221,\n",
       " 0.0015412638363458409,\n",
       " 0.0021017234131988083,\n",
       " 0.00798654897015555,\n",
       " 0.009247583018074768,\n",
       " 0.0016813787305590133,\n",
       " 0.008126663864368833,\n",
       " 0.005464480874316946,\n",
       " -0.0037831021437579326,\n",
       " -0.0043435617206109,\n",
       " 0.004763906403250695,\n",
       " 0.0046237915090374115,\n",
       " -0.004203446826397617,\n",
       " 0.007706319181729038,\n",
       " 0.01176965111391337,\n",
       " 0.024239876698893104,\n",
       " 0.007566204287515754,\n",
       " -0.00994815748914113,\n",
       " 0.006305170239596425,\n",
       " 0.009527812806501279,\n",
       " -0.009247583018074768,\n",
       " -0.01891551071878944,\n",
       " -0.015552753257671303,\n",
       " 0.005884825556956741,\n",
       " -0.005044136191677151,\n",
       " -0.006165055345383197,\n",
       " 0.0033627574611181377,\n",
       " -0.009387697912288051,\n",
       " 0.0056045957685302294,\n",
       " -0.006024940451169913,\n",
       " -0.015973097940311043,\n",
       " 0.006024940451169913,\n",
       " 0.013591144738685668,\n",
       " 0.0023819532016253753,\n",
       " -0.0053243659801036625,\n",
       " 0.0015412638363458409,\n",
       " -0.014852178786604997,\n",
       " -0.006725514922236275,\n",
       " 0.00028022978842651147,\n",
       " 0.007145859604875959,\n",
       " -0.0022418383074120918,\n",
       " 0.0012610340479193294,\n",
       " -0.00798654897015555,\n",
       " 0.00028022978842651147,\n",
       " 0.008547008547008517,\n",
       " -0.006725514922236275,\n",
       " 0.017234131988230317,\n",
       " 0.01148942132548686,\n",
       " 0.008827238335435084,\n",
       " 0.007566204287515754,\n",
       " -0.003923217037971105,\n",
       " -0.012610340479192905,\n",
       " 0.003642987249544649,\n",
       " -0.0033627574611181377,\n",
       " -0.005184251085890379,\n",
       " -0.01233011069076645,\n",
       " 0.014852178786604997,\n",
       " -0.009667927700714563,\n",
       " -0.0056045957685302294,\n",
       " -0.003502872355331421,\n",
       " 0.006024940451169913,\n",
       " -0.0044836766148241836,\n",
       " 0.005184251085890379,\n",
       " 0.008547008547008517,\n",
       " -0.0018214936247722968,\n",
       " -0.0011209191537060459,\n",
       " 0.014151604315538746,\n",
       " -0.007706319181729038,\n",
       " -0.0043435617206109,\n",
       " 0.01148942132548686,\n",
       " 0.0033627574611181377,\n",
       " 0.006865629816449503,\n",
       " 0.013170800056045984,\n",
       " -0.014992293680818225,\n",
       " -0.012189995796553221,\n",
       " -0.0016813787305590133,\n",
       " 0.007285974499089243,\n",
       " -0.011349306431273687,\n",
       " 0.0012610340479193294,\n",
       " 0.0021017234131988083,\n",
       " 0.00042034468263979496,\n",
       " -0.006445285133809708,\n",
       " -0.0046237915090374115,\n",
       " 0.0056045957685302294,\n",
       " 0.006585400028022992,\n",
       " 0.012890570267619417,\n",
       " 0.00028022978842651147,\n",
       " -0.0022418383074120918,\n",
       " 0.0030825276726915707,\n",
       " 0.0046237915090374115,\n",
       " 0.015973097940311043,\n",
       " 0.02522068095838592,\n",
       " -0.008126663864368833,\n",
       " -0.0053243659801036625,\n",
       " 0.01667367241137735,\n",
       " -0.014992293680818225,\n",
       " 0.015412638363458075,\n",
       " 0.0043435617206109,\n",
       " 0.010928961748633892,\n",
       " 0.015272523469244792,\n",
       " -0.00798654897015555,\n",
       " 0.009527812806501279,\n",
       " -0.001961608518985525,\n",
       " -0.003222642566904854,\n",
       " -0.009247583018074768,\n",
       " 0.0012610340479193294,\n",
       " -0.0005604595768529674,\n",
       " 0.0021017234131988083,\n",
       " -0.012470225584979733,\n",
       " 0.001961608518985525,\n",
       " -0.009667927700714563,\n",
       " 0.007846434075942321,\n",
       " 0.0043435617206109,\n",
       " 0.011209191537060403,\n",
       " 0.012750455373406189,\n",
       " 0.0023819532016253753,\n",
       " 0.006305170239596425,\n",
       " 0.0011209191537060459,\n",
       " 0.005044136191677151,\n",
       " -0.009808042594927846,\n",
       " -0.014712063892391714,\n",
       " 0.006165055345383197,\n",
       " 0.0086871234412218,\n",
       " -0.00028022978842651147,\n",
       " -0.006445285133809708,\n",
       " 0.0053243659801036625,\n",
       " 0.012890570267619417,\n",
       " -0.0025220680958386033,\n",
       " -0.0029424127784783427,\n",
       " -0.0049040212974638675,\n",
       " 0.005184251085890379,\n",
       " -0.010648731960207325,\n",
       " 0.0015412638363458409,\n",
       " -0.005744710662743457,\n",
       " -0.008126663864368833,\n",
       " -0.008967353229648367,\n",
       " -0.00798654897015555,\n",
       " 0.015132408575031508,\n",
       " -0.0033627574611181377,\n",
       " 0.006585400028022992,\n",
       " 0.003502872355331421,\n",
       " 0.00798654897015555,\n",
       " 0.0022418383074120918,\n",
       " -0.024379991593106387,\n",
       " 0.00798654897015555,\n",
       " 0.0026621829900518867,\n",
       " -0.007005744710662787,\n",
       " 0.008827238335435084,\n",
       " 0.004763906403250695,\n",
       " 0.005044136191677151,\n",
       " 0.013451029844472495,\n",
       " 0.008827238335435084,\n",
       " 0.007285974499089243,\n",
       " -0.00042034468263979496,\n",
       " -0.007706319181729038,\n",
       " 0.005884825556956741,\n",
       " -0.004063331932184389,\n",
       " -0.01148942132548686,\n",
       " 0.006165055345383197,\n",
       " 0.008266778758582005,\n",
       " 0.0130306851618327,\n",
       " 0.012049880902339938,\n",
       " 0.00028022978842651147,\n",
       " 0.0033627574611181377,\n",
       " -0.007426089393302471,\n",
       " 0.005744710662743457,\n",
       " -0.013871374527112179,\n",
       " -0.007285974499089243,\n",
       " 0.002802297884265059,\n",
       " -0.006725514922236275,\n",
       " -0.006725514922236275,\n",
       " 0.013451029844472495,\n",
       " 0.0049040212974638675,\n",
       " 0.014712063892391714,\n",
       " -0.004063331932184389,\n",
       " -0.0014011489421325574,\n",
       " 0.0018214936247722968,\n",
       " -0.006165055345383197,\n",
       " -0.00798654897015555,\n",
       " -0.003222642566904854,\n",
       " 0.00994815748914113,\n",
       " 0.007566204287515754,\n",
       " 0.0,\n",
       " 0.005464480874316946,\n",
       " -0.006445285133809708,\n",
       " -0.0026621829900518867,\n",
       " 0.006725514922236275,\n",
       " -0.0014011489421325574,\n",
       " 0.0,\n",
       " -0.00798654897015555,\n",
       " -0.001961608518985525,\n",
       " 0.0018214936247722968,\n",
       " -0.007706319181729038,\n",
       " 0.010648731960207325,\n",
       " -0.0037831021437579326,\n",
       " -0.016253327728737554,\n",
       " 0.0011209191537060459,\n",
       " 0.00994815748914113,\n",
       " 0.0022418383074120918,\n",
       " 0.0022418383074120918,\n",
       " -0.009527812806501279,\n",
       " -0.006305170239596425,\n",
       " -0.0014011489421325574,\n",
       " 0.0037831021437579326,\n",
       " -0.012189995796553221,\n",
       " 0.00028022978842651147,\n",
       " -0.0011209191537060459,\n",
       " 0.006024940451169913,\n",
       " -0.016393442622950838,\n",
       " -0.014712063892391714,\n",
       " -0.00028022978842651147,\n",
       " -0.0016813787305590133,\n",
       " 0.014992293680818225,\n",
       " -0.0046237915090374115,\n",
       " 0.0021017234131988083,\n",
       " -0.0025220680958386033,\n",
       " 0.0026621829900518867,\n",
       " -0.0025220680958386033,\n",
       " 0.0023819532016253753,\n",
       " 0.004063331932184389,\n",
       " -0.006305170239596425,\n",
       " 0.011209191537060403,\n",
       " 0.007005744710662787,\n",
       " -0.01429171920975203,\n",
       " 0.0049040212974638675,\n",
       " -0.015973097940311043,\n",
       " 0.007426089393302471,\n",
       " 0.0026621829900518867,\n",
       " 0.012189995796553221,\n",
       " 0.0007005744710662509,\n",
       " 0.0022418383074120918,\n",
       " 0.008547008547008517,\n",
       " 0.007426089393302471,\n",
       " -0.002802297884265059,\n",
       " 0.007005744710662787,\n",
       " -0.003222642566904854,\n",
       " -0.008266778758582005,\n",
       " -0.003502872355331421,\n",
       " -0.008967353229648367,\n",
       " -0.0033627574611181377,\n",
       " 0.0023819532016253753,\n",
       " -0.011349306431273687,\n",
       " 0.021577693708841217,\n",
       " -0.002802297884265059,\n",
       " 0.009808042594927846,\n",
       " 0.008827238335435084,\n",
       " -0.0005604595768529674,\n",
       " -0.004063331932184389,\n",
       " -0.009667927700714563,\n",
       " -0.013591144738685668,\n",
       " 0.006445285133809708,\n",
       " -0.005884825556956741,\n",
       " -0.0021017234131988083,\n",
       " 0.0043435617206109,\n",
       " -0.0016813787305590133,\n",
       " 0.0005604595768529674,\n",
       " 0.007846434075942321,\n",
       " 0.0016813787305590133,\n",
       " 0.00028022978842651147,\n",
       " -0.010928961748633892,\n",
       " -0.00042034468263979496,\n",
       " 0.010088272383354357,\n",
       " -0.00028022978842651147,\n",
       " 0.006305170239596425,\n",
       " 0.006445285133809708,\n",
       " -0.0021017234131988083,\n",
       " 0.0,\n",
       " -0.006024940451169913,\n",
       " 0.0008406893652794789,\n",
       " 0.0029424127784783427,\n",
       " 0.0043435617206109,\n",
       " 0.0033627574611181377,\n",
       " -0.008406893652795289,\n",
       " -0.005464480874316946,\n",
       " -0.0044836766148241836,\n",
       " -0.007846434075942321,\n",
       " 0.014011489421325463,\n",
       " -0.004063331932184389,\n",
       " -0.0130306851618327,\n",
       " 0.004203446826397617,\n",
       " 0.006865629816449503,\n",
       " -0.017514361776656884,\n",
       " 0.015552753257671303,\n",
       " -0.007426089393302471,\n",
       " -0.016253327728737554,\n",
       " 0.0056045957685302294,\n",
       " -0.015132408575031508,\n",
       " -0.006865629816449503,\n",
       " -0.0008406893652794789,\n",
       " 0.004203446826397617,\n",
       " 0.003642987249544649,\n",
       " 0.004203446826397617,\n",
       " -0.008827238335435084,\n",
       " -0.010788846854420608,\n",
       " -0.01429171920975203,\n",
       " -0.001961608518985525,\n",
       " 0.010648731960207325,\n",
       " 0.017654476670870167,\n",
       " 0.008547008547008517,\n",
       " -0.007285974499089243,\n",
       " -0.007145859604875959,\n",
       " -0.0014011489421325574,\n",
       " 0.0046237915090374115,\n",
       " -0.0086871234412218,\n",
       " 0.0056045957685302294,\n",
       " -0.005744710662743457,\n",
       " -0.0022418383074120918,\n",
       " 0.0005604595768529674,\n",
       " -0.0049040212974638675,\n",
       " 0.005744710662743457,\n",
       " 0.007846434075942321,\n",
       " -0.00994815748914113,\n",
       " -0.005464480874316946,\n",
       " 0.005044136191677151,\n",
       " 0.0023819532016253753,\n",
       " 0.009247583018074768,\n",
       " -0.0018214936247722968,\n",
       " 0.006024940451169913,\n",
       " 0.0053243659801036625,\n",
       " -0.007706319181729038,\n",
       " 0.005044136191677151,\n",
       " 0.006585400028022992,\n",
       " 0.0037831021437579326,\n",
       " 0.016953902199803805,\n",
       " -0.0026621829900518867,\n",
       " 0.0029424127784783427,\n",
       " -0.0033627574611181377,\n",
       " 0.0086871234412218,\n",
       " -0.02143757881462799,\n",
       " 0.014011489421325463,\n",
       " -0.01891551071878944,\n",
       " 0.01233011069076645,\n",
       " -0.007566204287515754,\n",
       " 0.015272523469244792,\n",
       " -0.010928961748633892,\n",
       " -0.009387697912288051,\n",
       " -0.009247583018074768,\n",
       " -0.007145859604875959,\n",
       " 0.010228387277567641,\n",
       " -0.006024940451169913,\n",
       " 0.005744710662743457,\n",
       " 0.006024940451169913,\n",
       " -0.0046237915090374115,\n",
       " 0.0007005744710662509,\n",
       " 0.015692868151884587,\n",
       " -0.0022418383074120918,\n",
       " -0.005884825556956741,\n",
       " -0.0012610340479193294,\n",
       " 0.008967353229648367,\n",
       " 0.005884825556956741,\n",
       " -0.010088272383354357,\n",
       " 0.009387697912288051,\n",
       " 0.00994815748914113,\n",
       " 0.01653355751716412,\n",
       " -0.003642987249544649,\n",
       " -0.0018214936247722968,\n",
       " 0.008827238335435084,\n",
       " -0.007145859604875959,\n",
       " 0.009527812806501279,\n",
       " 0.008967353229648367,\n",
       " -0.0012610340479193294,\n",
       " 0.007285974499089243,\n",
       " 0.0023819532016253753,\n",
       " 0.01176965111391337,\n",
       " 0.011349306431273687,\n",
       " -0.006865629816449503,\n",
       " -0.013871374527112179,\n",
       " 0.0033627574611181377,\n",
       " 0.007426089393302471,\n",
       " 0.0014011489421325574,\n",
       " -0.0037831021437579326,\n",
       " -0.0130306851618327,\n",
       " -0.0056045957685302294,\n",
       " -0.003642987249544649,\n",
       " -0.00028022978842651147,\n",
       " 0.015692868151884587,\n",
       " -0.0043435617206109,\n",
       " -0.014571948998178541,\n",
       " 0.015272523469244792,\n",
       " 0.011069076642847175,\n",
       " 0.015973097940311043,\n",
       " -0.0012610340479193294,\n",
       " -0.009247583018074768,\n",
       " 0.009667927700714563,\n",
       " -0.0056045957685302294,\n",
       " 0.006585400028022992,\n",
       " -0.009527812806501279,\n",
       " -0.0012610340479193294,\n",
       " 0.0,\n",
       " 0.007285974499089243,\n",
       " 0.0022418383074120918,\n",
       " -0.008126663864368833,\n",
       " -0.005464480874316946,\n",
       " -0.0014011489421325574,\n",
       " -0.002802297884265059,\n",
       " -0.013871374527112179,\n",
       " -0.017514361776656884,\n",
       " -0.00798654897015555,\n",
       " -0.0012610340479193294,\n",
       " 0.007426089393302471,\n",
       " -0.007145859604875959,\n",
       " 0.0014011489421325574,\n",
       " 0.0026621829900518867,\n",
       " 0.0008406893652794789,\n",
       " -0.010088272383354357,\n",
       " -0.015973097940311043,\n",
       " 0.0217178086030545,\n",
       " 0.006585400028022992,\n",
       " -0.011629536219700143,\n",
       " -0.010928961748633892,\n",
       " -0.005464480874316946,\n",
       " -0.011909766008126654,\n",
       " -0.0011209191537060459,\n",
       " 0.009527812806501279,\n",
       " -0.01429171920975203,\n",
       " 0.01891551071878944,\n",
       " -0.0014011489421325574,\n",
       " -0.005044136191677151,\n",
       " -0.004203446826397617,\n",
       " -0.008967353229648367,\n",
       " -0.0008406893652794789,\n",
       " -0.008547008547008517,\n",
       " 0.002802297884265059,\n",
       " 0.0046237915090374115,\n",
       " 0.008547008547008517,\n",
       " 0.0018214936247722968,\n",
       " -0.003923217037971105,\n",
       " 0.0012610340479193294,\n",
       " 0.011349306431273687,\n",
       " 0.0008406893652794789,\n",
       " 0.010648731960207325,\n",
       " -0.0015412638363458409,\n",
       " 0.002802297884265059,\n",
       " 0.0015412638363458409,\n",
       " -0.006865629816449503,\n",
       " 0.007145859604875959,\n",
       " -0.0023819532016253753,\n",
       " -0.0005604595768529674,\n",
       " -0.008967353229648367,\n",
       " -0.0007005744710662509,\n",
       " -0.0016813787305590133,\n",
       " -0.009107468123861595,\n",
       " -0.014151604315538746,\n",
       " 0.0023819532016253753,\n",
       " -0.003642987249544649,\n",
       " -0.006585400028022992,\n",
       " 0.0021017234131988083,\n",
       " 0.013731259632898951,\n",
       " -0.0086871234412218,\n",
       " 0.003642987249544649,\n",
       " 0.024379991593106387,\n",
       " -0.00028022978842651147,\n",
       " 0.0029424127784783427,\n",
       " 0.0008406893652794789,\n",
       " -0.013451029844472495,\n",
       " 0.0011209191537060459,\n",
       " -0.014431834103965258,\n",
       " 0.006585400028022992,\n",
       " -0.005044136191677151,\n",
       " 0.005184251085890379,\n",
       " -0.003923217037971105,\n",
       " 0.00042034468263979496,\n",
       " 0.008827238335435084,\n",
       " 0.0026621829900518867,\n",
       " -0.014571948998178541,\n",
       " 0.003502872355331421,\n",
       " -0.012750455373406189,\n",
       " 0.0014011489421325574,\n",
       " 0.006305170239596425,\n",
       " 0.00994815748914113,\n",
       " 0.0033627574611181377,\n",
       " 0.0025220680958386033,\n",
       " -0.0044836766148241836,\n",
       " 0.0037831021437579326,\n",
       " -0.008266778758582005,\n",
       " 0.0001401148942132835,\n",
       " -0.0026621829900518867,\n",
       " -0.0011209191537060459,\n",
       " 0.0011209191537060459,\n",
       " 0.005184251085890379,\n",
       " -0.0043435617206109,\n",
       " 0.009387697912288051,\n",
       " 0.0053243659801036625,\n",
       " -0.007566204287515754,\n",
       " -0.0018214936247722968,\n",
       " -0.012049880902339938,\n",
       " -0.00028022978842651147,\n",
       " 0.00994815748914113,\n",
       " 0.013310914950259267,\n",
       " 0.005044136191677151,\n",
       " 0.01429171920975203,\n",
       " 0.001961608518985525,\n",
       " 0.0026621829900518867,\n",
       " -0.012890570267619417,\n",
       " 0.003642987249544649,\n",
       " 0.002802297884265059,\n",
       " -0.01807482135350985,\n",
       " -0.0018214936247722968,\n",
       " -0.0021017234131988083,\n",
       " 0.010508617065994097,\n",
       " 0.005464480874316946,\n",
       " 0.0046237915090374115,\n",
       " 0.003502872355331421,\n",
       " -0.007706319181729038,\n",
       " 0.010088272383354357,\n",
       " -0.0046237915090374115,\n",
       " 0.005884825556956741,\n",
       " 0.012189995796553221,\n",
       " -0.0053243659801036625,\n",
       " 0.008126663864368833,\n",
       " -0.017794591565083395,\n",
       " 0.010508617065994097,\n",
       " -0.007706319181729038,\n",
       " -0.0025220680958386033,\n",
       " -0.016393442622950838,\n",
       " 0.011209191537060403,\n",
       " 0.0001401148942132835,\n",
       " -0.007566204287515754,\n",
       " -0.0029424127784783427,\n",
       " -0.0023819532016253753,\n",
       " 0.0,\n",
       " -0.004063331932184389,\n",
       " -0.006865629816449503,\n",
       " -0.005884825556956741,\n",
       " -0.011629536219700143,\n",
       " -0.00042034468263979496,\n",
       " -0.011349306431273687,\n",
       " -0.020036429872495487,\n",
       " -0.006024940451169913,\n",
       " 0.005044136191677151,\n",
       " -0.013451029844472495,\n",
       " -0.009527812806501279,\n",
       " -0.009247583018074768,\n",
       " 0.008967353229648367,\n",
       " 0.007285974499089243,\n",
       " -0.010088272383354357,\n",
       " 0.0053243659801036625,\n",
       " 0.0022418383074120918,\n",
       " -0.002802297884265059,\n",
       " 0.003923217037971105,\n",
       " -0.0001401148942132835,\n",
       " -0.0037831021437579326,\n",
       " -0.003642987249544649,\n",
       " 0.0046237915090374115,\n",
       " 0.0029424127784783427,\n",
       " 0.0012610340479193294,\n",
       " -0.010648731960207325,\n",
       " 0.0056045957685302294,\n",
       " -0.011069076642847175,\n",
       " -0.001961608518985525,\n",
       " 0.001961608518985525,\n",
       " 0.009667927700714563,\n",
       " 0.005884825556956741,\n",
       " 0.0011209191537060459,\n",
       " 0.0008406893652794789,\n",
       " 0.0009808042594927624,\n",
       " -0.005464480874316946,\n",
       " -0.011909766008126654,\n",
       " -0.005044136191677151,\n",
       " -0.0033627574611181377,\n",
       " -0.0011209191537060459,\n",
       " -0.004203446826397617,\n",
       " 0.0009808042594927624,\n",
       " -0.016253327728737554,\n",
       " -0.0005604595768529674,\n",
       " -0.011349306431273687,\n",
       " -0.007005744710662787,\n",
       " 0.01807482135350985,\n",
       " 0.006725514922236275,\n",
       " 0.005464480874316946,\n",
       " -0.0023819532016253753,\n",
       " 0.007426089393302471,\n",
       " 0.0012610340479193294,\n",
       " 0.003502872355331421,\n",
       " 0.0026621829900518867,\n",
       " 0.011069076642847175,\n",
       " -0.014852178786604997,\n",
       " 0.013871374527112179,\n",
       " -0.013310914950259267,\n",
       " -0.01148942132548686,\n",
       " 0.0044836766148241836,\n",
       " -0.00798654897015555,\n",
       " -0.011209191537060403,\n",
       " -0.00798654897015555,\n",
       " 0.0015412638363458409,\n",
       " 0.010228387277567641,\n",
       " ...]"
      ]
     },
     "execution_count": 346,
     "metadata": {},
     "output_type": "execute_result"
    }
   ],
   "source": [
    "results"
   ]
  },
  {
   "cell_type": "code",
   "execution_count": 347,
   "metadata": {
    "scrolled": true
   },
   "outputs": [
    {
     "data": {
      "image/png": "[encoded data removed]",
      "text/plain": [
       "<Figure size 432x288 with 1 Axes>"
      ]
     },
     "metadata": {
      "needs_background": "light"
     },
     "output_type": "display_data"
    }
   ],
   "source": [
    "pd.Series(results).plot(kind='hist', \n",
    "                        density=True,\n",
    "                        ec='w',\n",
    "                        title='differences of party trading proportions');\n",
    "plt.axvline(x=observed, color='red', linewidth=4);"
   ]
  },
  {
   "cell_type": "code",
   "execution_count": 348,
   "metadata": {},
   "outputs": [
    {
     "data": {
      "text/plain": [
       "0.0"
      ]
     },
     "execution_count": 348,
     "metadata": {},
     "output_type": "execute_result"
    }
   ],
   "source": [
    "p_val = (results >= observed).mean()\n",
    "p_val"
   ]
  },
  {
   "cell_type": "markdown",
   "metadata": {},
   "source": [
    "It was pretty obvious from the graph but this difference in proportions is definitely not a feasible occurance under the null hypothesis even with an extreme significance level of 0.01. Based on the p value of zero we will reject the null hypothesis that the interest of trading is evenly divided among republicans and democrats in favor of the alternative that democrats are more interested in trading than republicans."
   ]
  }
 ],
 "metadata": {
  "kernelspec": {
   "display_name": "Python 3 (ipykernel)",
   "language": "python",
   "name": "python3"
  },
  "language_info": {
   "codemirror_mode": {
    "name": "ipython",
    "version": 3
   },
   "file_extension": ".py",
   "mimetype": "text/x-python",
   "name": "python",
   "nbconvert_exporter": "python",
   "pygments_lexer": "ipython3",
   "version": "3.8.12"
  }
 },
 "nbformat": 4,
 "nbformat_minor": 2
}
