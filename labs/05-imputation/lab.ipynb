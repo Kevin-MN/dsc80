{
 "cells": [
  {
   "cell_type": "code",
   "execution_count": 1,
   "id": "lesbian-arkansas",
   "metadata": {
    "deletable": false,
    "editable": false
   },
   "outputs": [],
   "source": [
    "# Initialize Otter\n",
    "import otter\n",
    "grader = otter.Notebook(\"lab.ipynb\")"
   ]
  },
  {
   "cell_type": "markdown",
   "id": "diverse-covering",
   "metadata": {},
   "source": [
    "# Lab 5 – Imputation\n",
    "\n",
    "## DSC 80, Spring 2022\n",
    "\n",
    "### Due Date: Monday, May 2nd at 11:59 PM"
   ]
  },
  {
   "cell_type": "markdown",
   "id": "portuguese-microwave",
   "metadata": {},
   "source": [
    "## Instructions\n",
    "Much like in DSC 10, this Jupyter Notebook contains the statements of the problems and provides code and Markdown cells to display your answers to the problems. Unlike DSC 10, the notebook is *only* for displaying a readable version of your final answers. The coding will be done in an accompanying `lab.py` file that is imported into the current notebook.\n",
    "\n",
    "Labs and programming assignments will be graded in (at most) two ways:\n",
    "1. The functions and classes in the accompanying `lab.py` file will be tested (a la DSC 20),\n",
    "2. The notebook may be graded (if it contains free response questions or asks you to draw plots).\n",
    "\n",
    "**Do not change the function names in the `lab.py` file!**\n",
    "- The functions in the `lab.py` file are how your assignment is graded, and they are graded by their name.\n",
    "- If you changed something you weren't supposed to, just use git to revert! Ask us if you need help with this, or google around for `git revert`.\n",
    "\n",
    "**Tips for working in the notebook**:\n",
    "- The notebooks serve to present the questions and give you a place to present your results for later review.\n",
    "- The notebooks in *lab assignments* are not graded (only the `lab.py` file is submitted and graded).\n",
    "- The notebook serves as a nice environment for 'pre-development' and experimentation before designing your function in your `lab.py` file. You can write code here, but make sure that all of your real work is in the `lab.py` file.\n",
    "\n",
    "**Tips for developing in the `lab.py` file**:\n",
    "- Do not change the function names in the starter code; grading is done using these function names.\n",
    "- Do not change the docstrings in the functions. These are there to tell you if your work is on the right track!\n",
    "- You are encouraged to write your own additional helper functions to solve the lab! \n",
    "- Always document your code!"
   ]
  },
  {
   "cell_type": "markdown",
   "id": "racial-whale",
   "metadata": {},
   "source": [
    "### Importing code from `lab.py`\n",
    "\n",
    "* We import our `lab.py` file that's contained in the same directory as this notebook.\n",
    "* We use the `autoreload` notebook extension to make changes to our `lab.py` file immediately available in our notebook. Without this extension, we would need to restart the notebook kernel to see any changes to `lab.py` in the notebook.\n",
    "    - `autoreload` is necessary because, upon import, `lab.py` is compiled to bytecode (in the directory `__pycache__`). Subsequent imports of `lab` merely import the existing compiled python."
   ]
  },
  {
   "cell_type": "code",
   "execution_count": 3,
   "id": "broad-reggae",
   "metadata": {},
   "outputs": [],
   "source": [
    "%load_ext autoreload\n",
    "%autoreload 2"
   ]
  },
  {
   "cell_type": "code",
   "execution_count": 4,
   "id": "brief-prescription",
   "metadata": {},
   "outputs": [],
   "source": [
    "from lab import *"
   ]
  },
  {
   "cell_type": "code",
   "execution_count": 2,
   "id": "abstract-minister",
   "metadata": {},
   "outputs": [],
   "source": [
    "import os\n",
    "import pandas as pd\n",
    "import numpy as np\n",
    "from scipy import stats\n",
    "import matplotlib.pyplot as plt\n",
    "\n",
    "import requests\n",
    "import bs4"
   ]
  },
  {
   "cell_type": "markdown",
   "id": "preceding-decade",
   "metadata": {},
   "source": [
    "***Note:*** While working on the lab, check the Campuswire post titled \"Lab 5 Released!\" for any clarifications."
   ]
  },
  {
   "cell_type": "markdown",
   "id": "pretty-slope",
   "metadata": {},
   "source": [
    "## Question 1 – Payment Data 💰\n",
    "\n",
    "In `data/payment.csv`, you are given a dataset of payment information for purchases made on January 1st, 2019. The dataset contains the purchaser's `'Id'`, `'credit_card_type'`, `'credit_card_number'`, and `'date_of_birth'`.\n",
    "\n",
    "Your job is to assess the missingness in the payments data. The question you need to answer is, **is `'credit_card_number'` missing at random dependent on the age of the shopper?**. Let's approach this question in two ways.\n",
    "\n",
    "#### `first_round`\n",
    "\n",
    "Look at distribution of ages by missingness of `'credit_card_number'` and determine if the missingness is dependent on age or not.\n",
    "\n",
    "Use the following steps to approach this problem:\n",
    "\n",
    "- Compute the ages of the purchasers.\n",
    "- Draw the distribution of ages by missingness of `'credit_card_number'`. Specifically, you will draw two histograms or density curves:\n",
    "    - One of ages where `'credit_card_number'` is missing.\n",
    "    - One of ages where `'credit_card_number'` is not missing.\n",
    "- Perform a permutation test for whether or not the two distributions mentioned above are drawn from the same population distribution. Use a 5% significance level. Use the **absolute difference of means** as your test statistic.\n",
    "\n",
    "Write a function `first_round` with no arguments that returns a **list** with two values:\n",
    "* The first value is the p-value from your permutation test. \n",
    "* The second value is either `'R'` if you reject the null hypothesis, or `'NR'` if you fail to reject the null.\n",
    "\n",
    "**Does the result match your guess? If not, what might be a problem?**\n",
    "\n",
    "***Hint:*** \n",
    "- Look at [Lecture 12](https://dsc80.com/resources/lectures/lec12/lec12.html#Assessing-missingness-through-data).\n",
    "- To find a customer's age, compute the number of years between their birth year and 2022.\n",
    "\n",
    "<br>\n",
    "\n",
    "#### `second_round`\n",
    "\n",
    "Run another permutation test for the empirical distribution of age conditional on `'credit_card_number'` with a 5% significance level. This time, use the **Kolmogorov-Smirnov statistic** as your test statistic.\n",
    "\n",
    "Write a function `second_round` with no arguments that returns a __list__ with three values: \n",
    "* The first value is the p-value from your new permutation test.\n",
    "* The second value is either `'R'` if you reject the null hypothesis, or `'NR'` if you fail to reject the null. \n",
    "* The third value is your final conclusion: `'D'` (the missingness of `'credit_card_number'` is dependent on age) or `'ND'` (the missingness of `'credit_card_number'` is not dependent on age).\n",
    "\n",
    "***Hint:*** \n",
    "- In both [Lecture 12](https://dsc80.com/resources/lectures/lec12/lec12.html#Assessing-missingness-through-data) and [Lecture 13](https://dsc80.com/resources/lectures/lec13/lec13.html), we ran permutation tests using the Kolmogorov-Smirnov test statistic **without `for`-loops**. You can use this same procedure; we have already imported `stats` from `scipy`."
   ]
  },
  {
   "cell_type": "code",
   "execution_count": 30,
   "id": "178ff163",
   "metadata": {},
   "outputs": [],
   "source": [
    "def extract_byear(date):\n",
    "    if type(date) == float:\n",
    "        return np.nan\n",
    "    else:\n",
    "        return int(date[7:])"
   ]
  },
  {
   "cell_type": "code",
   "execution_count": 45,
   "id": "veterinary-article",
   "metadata": {
    "scrolled": true
   },
   "outputs": [
    {
     "data": {
      "text/html": [
       "<div>\n",
       "<style scoped>\n",
       "    .dataframe tbody tr th:only-of-type {\n",
       "        vertical-align: middle;\n",
       "    }\n",
       "\n",
       "    .dataframe tbody tr th {\n",
       "        vertical-align: top;\n",
       "    }\n",
       "\n",
       "    .dataframe thead th {\n",
       "        text-align: right;\n",
       "    }\n",
       "</style>\n",
       "<table border=\"1\" class=\"dataframe\">\n",
       "  <thead>\n",
       "    <tr style=\"text-align: right;\">\n",
       "      <th></th>\n",
       "      <th>id</th>\n",
       "      <th>credit_card_type</th>\n",
       "      <th>credit_card_number</th>\n",
       "      <th>date_of_birth</th>\n",
       "    </tr>\n",
       "  </thead>\n",
       "  <tbody>\n",
       "    <tr>\n",
       "      <th>0</th>\n",
       "      <td>1</td>\n",
       "      <td>diners-club-enroute</td>\n",
       "      <td>2.018706e+14</td>\n",
       "      <td>25-Sep-1982</td>\n",
       "    </tr>\n",
       "    <tr>\n",
       "      <th>1</th>\n",
       "      <td>2</td>\n",
       "      <td>americanexpress</td>\n",
       "      <td>3.737511e+14</td>\n",
       "      <td>08-Jan-1946</td>\n",
       "    </tr>\n",
       "    <tr>\n",
       "      <th>2</th>\n",
       "      <td>3</td>\n",
       "      <td>jcb</td>\n",
       "      <td>3.570296e+15</td>\n",
       "      <td>NaN</td>\n",
       "    </tr>\n",
       "    <tr>\n",
       "      <th>3</th>\n",
       "      <td>4</td>\n",
       "      <td>mastercard</td>\n",
       "      <td>5.318327e+15</td>\n",
       "      <td>NaN</td>\n",
       "    </tr>\n",
       "    <tr>\n",
       "      <th>4</th>\n",
       "      <td>5</td>\n",
       "      <td>maestro</td>\n",
       "      <td>6.759827e+17</td>\n",
       "      <td>20-Apr-1975</td>\n",
       "    </tr>\n",
       "  </tbody>\n",
       "</table>\n",
       "</div>"
      ],
      "text/plain": [
       "   id     credit_card_type  credit_card_number date_of_birth\n",
       "0   1  diners-club-enroute        2.018706e+14   25-Sep-1982\n",
       "1   2      americanexpress        3.737511e+14   08-Jan-1946\n",
       "2   3                  jcb        3.570296e+15           NaN\n",
       "3   4           mastercard        5.318327e+15           NaN\n",
       "4   5              maestro        6.759827e+17   20-Apr-1975"
      ]
     },
     "execution_count": 45,
     "metadata": {},
     "output_type": "execute_result"
    }
   ],
   "source": [
    "# Run your permutation tests in the Jupyter Notebook;\n",
    "# put your final results in lab.py\n",
    "payments_fp = os.path.join('data', 'payment.csv')\n",
    "payments = pd.read_csv(payments_fp)\n",
    "payments.head()\n"
   ]
  },
  {
   "cell_type": "code",
   "execution_count": 46,
   "id": "animated-consideration",
   "metadata": {
    "scrolled": false
   },
   "outputs": [
    {
     "data": {
      "text/html": [
       "<div>\n",
       "<style scoped>\n",
       "    .dataframe tbody tr th:only-of-type {\n",
       "        vertical-align: middle;\n",
       "    }\n",
       "\n",
       "    .dataframe tbody tr th {\n",
       "        vertical-align: top;\n",
       "    }\n",
       "\n",
       "    .dataframe thead th {\n",
       "        text-align: right;\n",
       "    }\n",
       "</style>\n",
       "<table border=\"1\" class=\"dataframe\">\n",
       "  <thead>\n",
       "    <tr style=\"text-align: right;\">\n",
       "      <th></th>\n",
       "      <th>id</th>\n",
       "      <th>credit_card_type</th>\n",
       "      <th>credit_card_number</th>\n",
       "      <th>date_of_birth</th>\n",
       "      <th>Age</th>\n",
       "      <th>Credit_missing</th>\n",
       "    </tr>\n",
       "  </thead>\n",
       "  <tbody>\n",
       "    <tr>\n",
       "      <th>0</th>\n",
       "      <td>1</td>\n",
       "      <td>diners-club-enroute</td>\n",
       "      <td>2.018706e+14</td>\n",
       "      <td>1982.0</td>\n",
       "      <td>40.0</td>\n",
       "      <td>False</td>\n",
       "    </tr>\n",
       "    <tr>\n",
       "      <th>1</th>\n",
       "      <td>2</td>\n",
       "      <td>americanexpress</td>\n",
       "      <td>3.737511e+14</td>\n",
       "      <td>1946.0</td>\n",
       "      <td>76.0</td>\n",
       "      <td>False</td>\n",
       "    </tr>\n",
       "    <tr>\n",
       "      <th>2</th>\n",
       "      <td>3</td>\n",
       "      <td>jcb</td>\n",
       "      <td>3.570296e+15</td>\n",
       "      <td>NaN</td>\n",
       "      <td>NaN</td>\n",
       "      <td>False</td>\n",
       "    </tr>\n",
       "    <tr>\n",
       "      <th>3</th>\n",
       "      <td>4</td>\n",
       "      <td>mastercard</td>\n",
       "      <td>5.318327e+15</td>\n",
       "      <td>NaN</td>\n",
       "      <td>NaN</td>\n",
       "      <td>False</td>\n",
       "    </tr>\n",
       "    <tr>\n",
       "      <th>4</th>\n",
       "      <td>5</td>\n",
       "      <td>maestro</td>\n",
       "      <td>6.759827e+17</td>\n",
       "      <td>1975.0</td>\n",
       "      <td>47.0</td>\n",
       "      <td>False</td>\n",
       "    </tr>\n",
       "    <tr>\n",
       "      <th>...</th>\n",
       "      <td>...</td>\n",
       "      <td>...</td>\n",
       "      <td>...</td>\n",
       "      <td>...</td>\n",
       "      <td>...</td>\n",
       "      <td>...</td>\n",
       "    </tr>\n",
       "    <tr>\n",
       "      <th>995</th>\n",
       "      <td>996</td>\n",
       "      <td>visa-electron</td>\n",
       "      <td>NaN</td>\n",
       "      <td>1987.0</td>\n",
       "      <td>35.0</td>\n",
       "      <td>True</td>\n",
       "    </tr>\n",
       "    <tr>\n",
       "      <th>996</th>\n",
       "      <td>997</td>\n",
       "      <td>jcb</td>\n",
       "      <td>3.570380e+15</td>\n",
       "      <td>1994.0</td>\n",
       "      <td>28.0</td>\n",
       "      <td>False</td>\n",
       "    </tr>\n",
       "    <tr>\n",
       "      <th>997</th>\n",
       "      <td>998</td>\n",
       "      <td>mastercard</td>\n",
       "      <td>5.010121e+15</td>\n",
       "      <td>1961.0</td>\n",
       "      <td>61.0</td>\n",
       "      <td>False</td>\n",
       "    </tr>\n",
       "    <tr>\n",
       "      <th>998</th>\n",
       "      <td>999</td>\n",
       "      <td>visa-electron</td>\n",
       "      <td>NaN</td>\n",
       "      <td>NaN</td>\n",
       "      <td>NaN</td>\n",
       "      <td>True</td>\n",
       "    </tr>\n",
       "    <tr>\n",
       "      <th>999</th>\n",
       "      <td>1000</td>\n",
       "      <td>jcb</td>\n",
       "      <td>3.549735e+15</td>\n",
       "      <td>2000.0</td>\n",
       "      <td>22.0</td>\n",
       "      <td>False</td>\n",
       "    </tr>\n",
       "  </tbody>\n",
       "</table>\n",
       "<p>1000 rows × 6 columns</p>\n",
       "</div>"
      ],
      "text/plain": [
       "       id     credit_card_type  credit_card_number  date_of_birth   Age  \\\n",
       "0       1  diners-club-enroute        2.018706e+14         1982.0  40.0   \n",
       "1       2      americanexpress        3.737511e+14         1946.0  76.0   \n",
       "2       3                  jcb        3.570296e+15            NaN   NaN   \n",
       "3       4           mastercard        5.318327e+15            NaN   NaN   \n",
       "4       5              maestro        6.759827e+17         1975.0  47.0   \n",
       "..    ...                  ...                 ...            ...   ...   \n",
       "995   996        visa-electron                 NaN         1987.0  35.0   \n",
       "996   997                  jcb        3.570380e+15         1994.0  28.0   \n",
       "997   998           mastercard        5.010121e+15         1961.0  61.0   \n",
       "998   999        visa-electron                 NaN            NaN   NaN   \n",
       "999  1000                  jcb        3.549735e+15         2000.0  22.0   \n",
       "\n",
       "     Credit_missing  \n",
       "0             False  \n",
       "1             False  \n",
       "2             False  \n",
       "3             False  \n",
       "4             False  \n",
       "..              ...  \n",
       "995            True  \n",
       "996           False  \n",
       "997           False  \n",
       "998            True  \n",
       "999           False  \n",
       "\n",
       "[1000 rows x 6 columns]"
      ]
     },
     "execution_count": 46,
     "metadata": {},
     "output_type": "execute_result"
    }
   ],
   "source": [
    "payments['date_of_birth'] = payments['date_of_birth'].apply(extract_byear)\n",
    "#payments['date_of_birth'][3]\n",
    "payments['Age'] = 2022 - payments['date_of_birth'] \n",
    "payments\n",
    "payments['Credit_missing'] = payments['credit_card_number'].isna()\n",
    "payments"
   ]
  },
  {
   "cell_type": "code",
   "execution_count": 50,
   "id": "7cbe6fbe",
   "metadata": {},
   "outputs": [
    {
     "data": {
      "text/plain": [
       "nan"
      ]
     },
     "execution_count": 50,
     "metadata": {},
     "output_type": "execute_result"
    }
   ],
   "source": [
    "(1 + np.nan) / 2"
   ]
  },
  {
   "cell_type": "code",
   "execution_count": 89,
   "id": "b190fc42",
   "metadata": {},
   "outputs": [],
   "source": [
    "shuffled = payments.copy()\n",
    "shuffled['Credit_missing'] = shuffled['credit_card_number'].isna()\n",
    "\n",
    "n_repetitions = 100\n",
    "means1 = []\n",
    "\n",
    "for _ in range(n_repetitions):\n",
    "    \n",
    "    # Shuffling genders and assigning back to the DataFrame\n",
    "    shuffled['Credit_missing'] = np.random.permutation(shuffled['Credit_missing'])\n",
    "    \n",
    "    test_stat1 = np.abs(np.nanmean(shuffled['Age'][shuffled['Credit_missing'].values].values) - np.nanmean(shuffled['Age'][~shuffled['Credit_missing'].values].values))\n",
    "    \n",
    "    means1.append(test_stat1)\n",
    "   "
   ]
  },
  {
   "cell_type": "code",
   "execution_count": 54,
   "id": "available-avatar",
   "metadata": {
    "scrolled": true
   },
   "outputs": [
    {
     "data": {
      "text/plain": [
       "[1.2663537962769311,\n",
       " 2.0325954376767967,\n",
       " 0.9815734989648064,\n",
       " 1.8890051075853052,\n",
       " 0.41189427312774995,\n",
       " 1.9062374622194866,\n",
       " 3.6740659873847648,\n",
       " 0.8865180970444158,\n",
       " 0.6807564698075623,\n",
       " 1.0388370289137896,\n",
       " 0.1519512129884717,\n",
       " 4.729736935655886,\n",
       " 1.1102412828076567,\n",
       " 0.3923273657288959,\n",
       " 0.5991226079721628,\n",
       " 0.059309309309306,\n",
       " 0.12010839838894327,\n",
       " 4.006260143751447,\n",
       " 0.7337947205203861,\n",
       " 0.7145451735064512,\n",
       " 3.4760594814834036,\n",
       " 2.8405370843989743,\n",
       " 0.8437611091361532,\n",
       " 4.141252552756974,\n",
       " 0.6812212908416129,\n",
       " 2.123711340206185,\n",
       " 1.1840669378608126,\n",
       " 1.7475292825768634,\n",
       " 3.7942505191088216,\n",
       " 2.518840579710144,\n",
       " 0.8953258393210319,\n",
       " 4.467076281010897,\n",
       " 1.532884360213309,\n",
       " 1.6415623772377828,\n",
       " 4.7129795396419425,\n",
       " 0.38686721656153367,\n",
       " 1.648956817079089,\n",
       " 0.3916253600809654,\n",
       " 1.7054173005868236,\n",
       " 0.4198364735158151,\n",
       " 1.7444146431934229,\n",
       " 2.992464641780657,\n",
       " 0.6649616368286431,\n",
       " 1.3033447662919642,\n",
       " 0.2687292555713583,\n",
       " 3.8584979108815816,\n",
       " 1.3001712817584874,\n",
       " 1.9418793139510555,\n",
       " 0.43288869280875986,\n",
       " 4.254048033036291,\n",
       " 1.4653959609711862,\n",
       " 2.1552010056971653,\n",
       " 1.7636311732800465,\n",
       " 0.5324578261797939,\n",
       " 3.4364715403291086,\n",
       " 0.026342710997447227,\n",
       " 1.8562659846547334,\n",
       " 1.6509096099447262,\n",
       " 1.8811932003104417,\n",
       " 2.721655460236498,\n",
       " 1.124650177747526,\n",
       " 1.591943734015345,\n",
       " 1.3200290275761972,\n",
       " 0.4703036920420516,\n",
       " 2.7164834889717895,\n",
       " 3.094868227838319,\n",
       " 0.03868150552592908,\n",
       " 0.9274526378598722,\n",
       " 2.0251851851851868,\n",
       " 2.018925831202047,\n",
       " 1.5835185185185168,\n",
       " 0.4071201219675302,\n",
       " 2.561123265874393,\n",
       " 2.238912101315755,\n",
       " 2.4216323822163233,\n",
       " 0.7440610484406136,\n",
       " 4.342593076762178,\n",
       " 1.1241595177370698,\n",
       " 1.9638689234098479,\n",
       " 4.062065340449621,\n",
       " 3.465743648301455,\n",
       " 2.7783309625414887,\n",
       " 0.45829312884058737,\n",
       " 1.2485921158487585,\n",
       " 0.026192169011224564,\n",
       " 1.2982583454281595,\n",
       " 0.834627203622837,\n",
       " 0.3468518518518522,\n",
       " 0.9486803519061553,\n",
       " 2.363242909034703,\n",
       " 3.7776565220590044,\n",
       " 4.425715188873085,\n",
       " 2.2832480818414282,\n",
       " 2.5170716112532006,\n",
       " 3.129758418740849,\n",
       " 1.9218424661012676,\n",
       " 0.3803069053708441,\n",
       " 3.26937340153453,\n",
       " 3.528617134731604,\n",
       " 0.4683865725458318]"
      ]
     },
     "execution_count": 54,
     "metadata": {},
     "output_type": "execute_result"
    }
   ],
   "source": [
    "means1"
   ]
  },
  {
   "cell_type": "code",
   "execution_count": 93,
   "id": "b8c33a33",
   "metadata": {},
   "outputs": [],
   "source": [
    "from scipy.stats import ks_2samp"
   ]
  },
  {
   "cell_type": "code",
   "execution_count": 90,
   "id": "16b94ec8",
   "metadata": {},
   "outputs": [
    {
     "data": {
      "text/plain": [
       "2.940722967870805"
      ]
     },
     "execution_count": 90,
     "metadata": {},
     "output_type": "execute_result"
    }
   ],
   "source": [
    "observed = np.abs(np.nanmean(payments['Age'][payments['credit_card_number'].isna().values].values) - np.nanmean(shuffled['Age'][~payments['credit_card_number'].isna().values].values))\n",
    "observed"
   ]
  },
  {
   "cell_type": "code",
   "execution_count": 91,
   "id": "e50bb050",
   "metadata": {},
   "outputs": [
    {
     "data": {
      "text/plain": [
       "0.13"
      ]
     },
     "execution_count": 91,
     "metadata": {},
     "output_type": "execute_result"
    }
   ],
   "source": [
    "(means1 >= observed).mean()"
   ]
  },
  {
   "cell_type": "code",
   "execution_count": 134,
   "id": "eaeff5de",
   "metadata": {},
   "outputs": [
    {
     "data": {
      "text/html": [
       "<div>\n",
       "<style scoped>\n",
       "    .dataframe tbody tr th:only-of-type {\n",
       "        vertical-align: middle;\n",
       "    }\n",
       "\n",
       "    .dataframe tbody tr th {\n",
       "        vertical-align: top;\n",
       "    }\n",
       "\n",
       "    .dataframe thead th {\n",
       "        text-align: right;\n",
       "    }\n",
       "</style>\n",
       "<table border=\"1\" class=\"dataframe\">\n",
       "  <thead>\n",
       "    <tr style=\"text-align: right;\">\n",
       "      <th></th>\n",
       "      <th>id</th>\n",
       "      <th>credit_card_type</th>\n",
       "      <th>credit_card_number</th>\n",
       "      <th>date_of_birth</th>\n",
       "      <th>Age</th>\n",
       "      <th>Credit_missing</th>\n",
       "    </tr>\n",
       "  </thead>\n",
       "  <tbody>\n",
       "    <tr>\n",
       "      <th>0</th>\n",
       "      <td>1</td>\n",
       "      <td>diners-club-enroute</td>\n",
       "      <td>2.018706e+14</td>\n",
       "      <td>1982.0</td>\n",
       "      <td>40.0</td>\n",
       "      <td>False</td>\n",
       "    </tr>\n",
       "    <tr>\n",
       "      <th>1</th>\n",
       "      <td>2</td>\n",
       "      <td>americanexpress</td>\n",
       "      <td>3.737511e+14</td>\n",
       "      <td>1946.0</td>\n",
       "      <td>76.0</td>\n",
       "      <td>False</td>\n",
       "    </tr>\n",
       "    <tr>\n",
       "      <th>2</th>\n",
       "      <td>3</td>\n",
       "      <td>jcb</td>\n",
       "      <td>3.570296e+15</td>\n",
       "      <td>NaN</td>\n",
       "      <td>NaN</td>\n",
       "      <td>False</td>\n",
       "    </tr>\n",
       "    <tr>\n",
       "      <th>3</th>\n",
       "      <td>4</td>\n",
       "      <td>mastercard</td>\n",
       "      <td>5.318327e+15</td>\n",
       "      <td>NaN</td>\n",
       "      <td>NaN</td>\n",
       "      <td>False</td>\n",
       "    </tr>\n",
       "    <tr>\n",
       "      <th>4</th>\n",
       "      <td>5</td>\n",
       "      <td>maestro</td>\n",
       "      <td>6.759827e+17</td>\n",
       "      <td>1975.0</td>\n",
       "      <td>47.0</td>\n",
       "      <td>False</td>\n",
       "    </tr>\n",
       "    <tr>\n",
       "      <th>...</th>\n",
       "      <td>...</td>\n",
       "      <td>...</td>\n",
       "      <td>...</td>\n",
       "      <td>...</td>\n",
       "      <td>...</td>\n",
       "      <td>...</td>\n",
       "    </tr>\n",
       "    <tr>\n",
       "      <th>995</th>\n",
       "      <td>996</td>\n",
       "      <td>visa-electron</td>\n",
       "      <td>NaN</td>\n",
       "      <td>1987.0</td>\n",
       "      <td>35.0</td>\n",
       "      <td>True</td>\n",
       "    </tr>\n",
       "    <tr>\n",
       "      <th>996</th>\n",
       "      <td>997</td>\n",
       "      <td>jcb</td>\n",
       "      <td>3.570380e+15</td>\n",
       "      <td>1994.0</td>\n",
       "      <td>28.0</td>\n",
       "      <td>False</td>\n",
       "    </tr>\n",
       "    <tr>\n",
       "      <th>997</th>\n",
       "      <td>998</td>\n",
       "      <td>mastercard</td>\n",
       "      <td>5.010121e+15</td>\n",
       "      <td>1961.0</td>\n",
       "      <td>61.0</td>\n",
       "      <td>False</td>\n",
       "    </tr>\n",
       "    <tr>\n",
       "      <th>998</th>\n",
       "      <td>999</td>\n",
       "      <td>visa-electron</td>\n",
       "      <td>NaN</td>\n",
       "      <td>NaN</td>\n",
       "      <td>NaN</td>\n",
       "      <td>True</td>\n",
       "    </tr>\n",
       "    <tr>\n",
       "      <th>999</th>\n",
       "      <td>1000</td>\n",
       "      <td>jcb</td>\n",
       "      <td>3.549735e+15</td>\n",
       "      <td>2000.0</td>\n",
       "      <td>22.0</td>\n",
       "      <td>False</td>\n",
       "    </tr>\n",
       "  </tbody>\n",
       "</table>\n",
       "<p>1000 rows × 6 columns</p>\n",
       "</div>"
      ],
      "text/plain": [
       "       id     credit_card_type  credit_card_number  date_of_birth   Age  \\\n",
       "0       1  diners-club-enroute        2.018706e+14         1982.0  40.0   \n",
       "1       2      americanexpress        3.737511e+14         1946.0  76.0   \n",
       "2       3                  jcb        3.570296e+15            NaN   NaN   \n",
       "3       4           mastercard        5.318327e+15            NaN   NaN   \n",
       "4       5              maestro        6.759827e+17         1975.0  47.0   \n",
       "..    ...                  ...                 ...            ...   ...   \n",
       "995   996        visa-electron                 NaN         1987.0  35.0   \n",
       "996   997                  jcb        3.570380e+15         1994.0  28.0   \n",
       "997   998           mastercard        5.010121e+15         1961.0  61.0   \n",
       "998   999        visa-electron                 NaN            NaN   NaN   \n",
       "999  1000                  jcb        3.549735e+15         2000.0  22.0   \n",
       "\n",
       "     Credit_missing  \n",
       "0             False  \n",
       "1             False  \n",
       "2             False  \n",
       "3             False  \n",
       "4             False  \n",
       "..              ...  \n",
       "995            True  \n",
       "996           False  \n",
       "997           False  \n",
       "998            True  \n",
       "999           False  \n",
       "\n",
       "[1000 rows x 6 columns]"
      ]
     },
     "execution_count": 134,
     "metadata": {},
     "output_type": "execute_result"
    }
   ],
   "source": [
    "payments"
   ]
  },
  {
   "cell_type": "code",
   "execution_count": 113,
   "id": "798977a6",
   "metadata": {},
   "outputs": [
    {
     "data": {
      "text/plain": [
       "KstestResult(statistic=0.12699202780883062, pvalue=0.0344518152440148)"
      ]
     },
     "execution_count": 113,
     "metadata": {},
     "output_type": "execute_result"
    }
   ],
   "source": [
    "obs = ks_2samp(\n",
    "    payments.groupby('Credit_missing')['Age'].get_group(True),\n",
    "    payments.groupby('Credit_missing')['Age'].get_group(False)\n",
    ")\n",
    "obs"
   ]
  },
  {
   "cell_type": "code",
   "execution_count": 117,
   "id": "70027017",
   "metadata": {},
   "outputs": [],
   "source": [
    "n_repetitions = 500\n",
    "shuffled = payments.copy()\n",
    "\n",
    "ks_stats = []\n",
    "for _ in range(n_repetitions):\n",
    "    \n",
    "    # Shuffling the data and assigning it back to the DataFrame\n",
    "    shuffled['Credit_missing'] = np.random.permutation(shuffled['Credit_missing'])\n",
    "    \n",
    "    # Computing and storing the K-S statistic\n",
    "    groups = shuffled.groupby('Credit_missing')['Age']\n",
    "    ks_stat = ks_2samp(groups.get_group(True), groups.get_group(False)).statistic\n",
    "    ks_stats.append(ks_stat)\n",
    "    "
   ]
  },
  {
   "cell_type": "code",
   "execution_count": 111,
   "id": "bf9ab0a0",
   "metadata": {},
   "outputs": [
    {
     "data": {
      "text/plain": [
       "0.12699202780883062"
      ]
     },
     "execution_count": 111,
     "metadata": {},
     "output_type": "execute_result"
    }
   ],
   "source": [
    "obs.statistic"
   ]
  },
  {
   "cell_type": "code",
   "execution_count": 118,
   "id": "5161c874",
   "metadata": {},
   "outputs": [
    {
     "data": {
      "text/plain": [
       "0.986"
      ]
     },
     "execution_count": 118,
     "metadata": {},
     "output_type": "execute_result"
    }
   ],
   "source": [
    "np.mean(ks_stats >= obs.pvalue)"
   ]
  },
  {
   "cell_type": "code",
   "execution_count": 119,
   "id": "cooperative-immunology",
   "metadata": {},
   "outputs": [],
   "source": [
    "# don't change this cell, but do run it -- it is needed for the tests to work\n",
    "first_pval, first_result = first_round()\n",
    "second_pval, second_result, second_result1 = second_round()"
   ]
  },
  {
   "cell_type": "code",
   "execution_count": 120,
   "id": "right-receipt",
   "metadata": {
    "deletable": false,
    "editable": false
   },
   "outputs": [
    {
     "data": {
      "text/html": [
       "<p><strong><pre style='display: inline;'>q1</pre></strong> passed!</p>"
      ],
      "text/plain": [
       "q1 results: All test cases passed!"
      ]
     },
     "execution_count": 120,
     "metadata": {},
     "output_type": "execute_result"
    }
   ],
   "source": [
    "grader.check(\"q1\")"
   ]
  },
  {
   "cell_type": "markdown",
   "id": "sitting-aside",
   "metadata": {},
   "source": [
    "## Question 2 – Missing Heights 🕵️\n",
    "\n",
    "In the file `data/missing_heights.csv` are the heights of children and their fathers (`'child'` and `'father'`). The `'child_X'` columns are missing values in varying proportions; for each X, `'child_X'` is X\\% not missing (and hence (100-X)\\% missing). The missingness of these `'child_X'` columns were created as MAR dependent on `'father'` height (similar to what was done in Lecture 12). The missingness of these `'child_X'` columns are all equally dependent on father height.\n",
    "\n",
    "You will attempt to **verify** the missingness of the `'child_X'` columns as being dependent on the `'father'` height column by using permutation tests. Your permutation tests should use the Kolmogorov-Smirnov test statistic. You can use `scipy.stats`' built-in K-S function to run your permutation tests and compute your p-values; you don't need to simulate manually using a `for`-loop.\n",
    "\n",
    "#### `verify_child`\n",
    "\n",
    "Write a function `verify_child` that takes in the `heights` DataFrame and returns a Series of p-values from your permutation tests, indexed by the columns `'child_X'`.\n",
    "\n",
    "***Notes:*** \n",
    "\n",
    "- Unlike in Question 1, your permutation tests should run within your `verify_child` function.\n",
    "- You may loop over the **columns** of `heights`.\n",
    "\n",
    "<br>\n",
    "\n",
    "#### `missing_data_amounts`\n",
    "\n",
    "Now, interpret your results. In the function `missing_data_amounts`, return a __list__ of correct statements from the options below:\n",
    "1. The p-value for `'child_50'` is small because the *sampling distribution* of test statistics has low variance.\n",
    "2. MAR is hardest to determine when there are very different proportions of missing and not-missing values.\n",
    "3. The difference between p-values for `'child_5'` and `'child_95'` is due to randomness.\n",
    "4. We should expect the p-value of `'child_X'` and `'child_(100-X)'` to be similar.\n",
    "5. We should only expect the p-value of `'child_X'` and `'child_(100-X)'` to be similar if the columns are MCAR."
   ]
  },
  {
   "cell_type": "code",
   "execution_count": 189,
   "id": "5e01271f",
   "metadata": {},
   "outputs": [
    {
     "data": {
      "text/plain": [
       "child_95     4.155249e-80\n",
       "child_90    1.514759e-130\n",
       "child_75    3.043878e-227\n",
       "child_50    5.276715e-280\n",
       "child_25    3.043878e-227\n",
       "child_10    1.514759e-130\n",
       "child_5      4.155249e-80\n",
       "dtype: float64"
      ]
     },
     "execution_count": 189,
     "metadata": {},
     "output_type": "execute_result"
    }
   ],
   "source": [
    "ser"
   ]
  },
  {
   "cell_type": "code",
   "execution_count": 179,
   "id": "municipal-wrist",
   "metadata": {
    "scrolled": true
   },
   "outputs": [
    {
     "data": {
      "text/html": [
       "<div>\n",
       "<style scoped>\n",
       "    .dataframe tbody tr th:only-of-type {\n",
       "        vertical-align: middle;\n",
       "    }\n",
       "\n",
       "    .dataframe tbody tr th {\n",
       "        vertical-align: top;\n",
       "    }\n",
       "\n",
       "    .dataframe thead th {\n",
       "        text-align: right;\n",
       "    }\n",
       "</style>\n",
       "<table border=\"1\" class=\"dataframe\">\n",
       "  <thead>\n",
       "    <tr style=\"text-align: right;\">\n",
       "      <th></th>\n",
       "      <th>child</th>\n",
       "      <th>father</th>\n",
       "      <th>child_95</th>\n",
       "      <th>child_90</th>\n",
       "      <th>child_75</th>\n",
       "      <th>child_50</th>\n",
       "      <th>child_25</th>\n",
       "      <th>child_10</th>\n",
       "      <th>child_5</th>\n",
       "    </tr>\n",
       "  </thead>\n",
       "  <tbody>\n",
       "    <tr>\n",
       "      <th>0</th>\n",
       "      <td>73.2</td>\n",
       "      <td>78.5</td>\n",
       "      <td>73.2</td>\n",
       "      <td>73.2</td>\n",
       "      <td>73.2</td>\n",
       "      <td>NaN</td>\n",
       "      <td>NaN</td>\n",
       "      <td>NaN</td>\n",
       "      <td>NaN</td>\n",
       "    </tr>\n",
       "    <tr>\n",
       "      <th>1</th>\n",
       "      <td>69.2</td>\n",
       "      <td>78.5</td>\n",
       "      <td>69.2</td>\n",
       "      <td>69.2</td>\n",
       "      <td>69.2</td>\n",
       "      <td>NaN</td>\n",
       "      <td>NaN</td>\n",
       "      <td>NaN</td>\n",
       "      <td>69.2</td>\n",
       "    </tr>\n",
       "    <tr>\n",
       "      <th>2</th>\n",
       "      <td>69.0</td>\n",
       "      <td>78.5</td>\n",
       "      <td>69.0</td>\n",
       "      <td>69.0</td>\n",
       "      <td>69.0</td>\n",
       "      <td>69.0</td>\n",
       "      <td>NaN</td>\n",
       "      <td>NaN</td>\n",
       "      <td>NaN</td>\n",
       "    </tr>\n",
       "    <tr>\n",
       "      <th>3</th>\n",
       "      <td>69.0</td>\n",
       "      <td>78.5</td>\n",
       "      <td>69.0</td>\n",
       "      <td>69.0</td>\n",
       "      <td>NaN</td>\n",
       "      <td>69.0</td>\n",
       "      <td>NaN</td>\n",
       "      <td>NaN</td>\n",
       "      <td>NaN</td>\n",
       "    </tr>\n",
       "    <tr>\n",
       "      <th>4</th>\n",
       "      <td>73.5</td>\n",
       "      <td>75.5</td>\n",
       "      <td>73.5</td>\n",
       "      <td>73.5</td>\n",
       "      <td>NaN</td>\n",
       "      <td>73.5</td>\n",
       "      <td>73.5</td>\n",
       "      <td>NaN</td>\n",
       "      <td>NaN</td>\n",
       "    </tr>\n",
       "    <tr>\n",
       "      <th>...</th>\n",
       "      <td>...</td>\n",
       "      <td>...</td>\n",
       "      <td>...</td>\n",
       "      <td>...</td>\n",
       "      <td>...</td>\n",
       "      <td>...</td>\n",
       "      <td>...</td>\n",
       "      <td>...</td>\n",
       "      <td>...</td>\n",
       "    </tr>\n",
       "    <tr>\n",
       "      <th>929</th>\n",
       "      <td>64.0</td>\n",
       "      <td>62.0</td>\n",
       "      <td>64.0</td>\n",
       "      <td>64.0</td>\n",
       "      <td>64.0</td>\n",
       "      <td>64.0</td>\n",
       "      <td>NaN</td>\n",
       "      <td>NaN</td>\n",
       "      <td>NaN</td>\n",
       "    </tr>\n",
       "    <tr>\n",
       "      <th>930</th>\n",
       "      <td>62.0</td>\n",
       "      <td>62.0</td>\n",
       "      <td>62.0</td>\n",
       "      <td>62.0</td>\n",
       "      <td>62.0</td>\n",
       "      <td>62.0</td>\n",
       "      <td>62.0</td>\n",
       "      <td>NaN</td>\n",
       "      <td>NaN</td>\n",
       "    </tr>\n",
       "    <tr>\n",
       "      <th>931</th>\n",
       "      <td>61.0</td>\n",
       "      <td>62.0</td>\n",
       "      <td>61.0</td>\n",
       "      <td>61.0</td>\n",
       "      <td>61.0</td>\n",
       "      <td>NaN</td>\n",
       "      <td>NaN</td>\n",
       "      <td>NaN</td>\n",
       "      <td>NaN</td>\n",
       "    </tr>\n",
       "    <tr>\n",
       "      <th>932</th>\n",
       "      <td>66.5</td>\n",
       "      <td>62.5</td>\n",
       "      <td>66.5</td>\n",
       "      <td>66.5</td>\n",
       "      <td>66.5</td>\n",
       "      <td>66.5</td>\n",
       "      <td>66.5</td>\n",
       "      <td>NaN</td>\n",
       "      <td>NaN</td>\n",
       "    </tr>\n",
       "    <tr>\n",
       "      <th>933</th>\n",
       "      <td>57.0</td>\n",
       "      <td>62.5</td>\n",
       "      <td>57.0</td>\n",
       "      <td>57.0</td>\n",
       "      <td>NaN</td>\n",
       "      <td>NaN</td>\n",
       "      <td>NaN</td>\n",
       "      <td>NaN</td>\n",
       "      <td>57.0</td>\n",
       "    </tr>\n",
       "  </tbody>\n",
       "</table>\n",
       "<p>934 rows × 9 columns</p>\n",
       "</div>"
      ],
      "text/plain": [
       "     child  father  child_95  child_90  child_75  child_50  child_25  \\\n",
       "0     73.2    78.5      73.2      73.2      73.2       NaN       NaN   \n",
       "1     69.2    78.5      69.2      69.2      69.2       NaN       NaN   \n",
       "2     69.0    78.5      69.0      69.0      69.0      69.0       NaN   \n",
       "3     69.0    78.5      69.0      69.0       NaN      69.0       NaN   \n",
       "4     73.5    75.5      73.5      73.5       NaN      73.5      73.5   \n",
       "..     ...     ...       ...       ...       ...       ...       ...   \n",
       "929   64.0    62.0      64.0      64.0      64.0      64.0       NaN   \n",
       "930   62.0    62.0      62.0      62.0      62.0      62.0      62.0   \n",
       "931   61.0    62.0      61.0      61.0      61.0       NaN       NaN   \n",
       "932   66.5    62.5      66.5      66.5      66.5      66.5      66.5   \n",
       "933   57.0    62.5      57.0      57.0       NaN       NaN       NaN   \n",
       "\n",
       "     child_10  child_5  \n",
       "0         NaN      NaN  \n",
       "1         NaN     69.2  \n",
       "2         NaN      NaN  \n",
       "3         NaN      NaN  \n",
       "4         NaN      NaN  \n",
       "..        ...      ...  \n",
       "929       NaN      NaN  \n",
       "930       NaN      NaN  \n",
       "931       NaN      NaN  \n",
       "932       NaN      NaN  \n",
       "933       NaN     57.0  \n",
       "\n",
       "[934 rows x 9 columns]"
      ]
     },
     "execution_count": 179,
     "metadata": {},
     "output_type": "execute_result"
    }
   ],
   "source": [
    "heights_fp = os.path.join('data', 'missing_heights.csv')\n",
    "heights = pd.read_csv(heights_fp)\n",
    "heights"
   ]
  },
  {
   "cell_type": "code",
   "execution_count": null,
   "id": "94d2b4d9",
   "metadata": {},
   "outputs": [],
   "source": [
    "gpA = heights.loc[data['group'] == 'A', 'data']\n",
    "gpB = heights.loc[data['group'] == 'B', 'data']"
   ]
  },
  {
   "cell_type": "code",
   "execution_count": 180,
   "id": "587f3fea",
   "metadata": {
    "scrolled": true
   },
   "outputs": [
    {
     "data": {
      "text/plain": [
       "child_95     4.155249e-80\n",
       "child_90    1.514759e-130\n",
       "child_75    3.043878e-227\n",
       "child_50    5.276715e-280\n",
       "child_25    3.043878e-227\n",
       "child_10    1.514759e-130\n",
       "child_5      4.155249e-80\n",
       "dtype: float64"
      ]
     },
     "execution_count": 180,
     "metadata": {},
     "output_type": "execute_result"
    }
   ],
   "source": [
    "indeces = heights.columns\n",
    "#ser = pd.Series()\n",
    "names = []\n",
    "k_stats = []\n",
    "for n in indeces:\n",
    "    if n.find('child_') != -1:\n",
    "        heights[n + ' missing'] = heights[n].isna()\n",
    "        \n",
    "        names.append(n)\n",
    "        k_stats.append(ks_2samp(\n",
    "        heights.groupby(n + ' missing')[n].get_group(True),\n",
    "        heights.groupby(n + ' missing')[n].get_group(False)\n",
    "        ).pvalue)\n",
    "        \n",
    "heights\n",
    "\n",
    "ser = pd.Series(index = names, data = k_stats)\n",
    "ser"
   ]
  },
  {
   "cell_type": "code",
   "execution_count": 181,
   "id": "5568f109",
   "metadata": {},
   "outputs": [],
   "source": [
    "names = names[::-1]\n",
    "k_stats = k_stats[::-1]"
   ]
  },
  {
   "cell_type": "code",
   "execution_count": 182,
   "id": "8db31838",
   "metadata": {
    "scrolled": true
   },
   "outputs": [
    {
     "data": {
      "text/plain": [
       "[4.155248607980582e-80,\n",
       " 1.5147594924454639e-130,\n",
       " 3.0438784208535273e-227,\n",
       " 5.276715361764929e-280,\n",
       " 3.0438784208535273e-227,\n",
       " 1.5147594924454639e-130,\n",
       " 4.155248607980582e-80]"
      ]
     },
     "execution_count": 182,
     "metadata": {},
     "output_type": "execute_result"
    }
   ],
   "source": [
    "k_stats"
   ]
  },
  {
   "cell_type": "code",
   "execution_count": 172,
   "id": "8001f913",
   "metadata": {},
   "outputs": [
    {
     "data": {
      "text/plain": [
       "['child_5',\n",
       " 'child_10',\n",
       " 'child_25',\n",
       " 'child_50',\n",
       " 'child_75',\n",
       " 'child_90',\n",
       " 'child_95']"
      ]
     },
     "execution_count": 172,
     "metadata": {},
     "output_type": "execute_result"
    }
   ],
   "source": [
    "names"
   ]
  },
  {
   "cell_type": "code",
   "execution_count": 187,
   "id": "853dff4d",
   "metadata": {
    "scrolled": true
   },
   "outputs": [
    {
     "data": {
      "text/plain": [
       "[4.155248607980582e-80,\n",
       " 1.5147594924454639e-130,\n",
       " 3.0438784208535273e-227,\n",
       " 5.276715361764929e-280,\n",
       " 3.0438784208535273e-227,\n",
       " 1.5147594924454639e-130,\n",
       " 4.155248607980582e-80]"
      ]
     },
     "execution_count": 187,
     "metadata": {},
     "output_type": "execute_result"
    }
   ],
   "source": [
    "k_stats"
   ]
  },
  {
   "cell_type": "code",
   "execution_count": null,
   "id": "c15a068c",
   "metadata": {},
   "outputs": [],
   "source": []
  },
  {
   "cell_type": "code",
   "execution_count": null,
   "id": "weekly-accused",
   "metadata": {},
   "outputs": [],
   "source": []
  },
  {
   "cell_type": "code",
   "execution_count": 190,
   "id": "continuing-playlist",
   "metadata": {},
   "outputs": [],
   "source": [
    "# don't change this cell, but do run it -- it is needed for the tests to work\n",
    "heights_fp = os.path.join('data', 'missing_heights.csv')\n",
    "heights = pd.read_csv(heights_fp)\n",
    "out1_q2 = verify_child(heights.copy())\n",
    "out2_q2 = missing_data_amounts()"
   ]
  },
  {
   "cell_type": "code",
   "execution_count": 178,
   "id": "8ae20ba1",
   "metadata": {},
   "outputs": [
    {
     "data": {
      "text/plain": [
       "False"
      ]
     },
     "execution_count": 178,
     "metadata": {},
     "output_type": "execute_result"
    }
   ],
   "source": [
    "out1_q2['child_50'] < out1_q2['child_95']"
   ]
  },
  {
   "cell_type": "code",
   "execution_count": 191,
   "id": "continuing-prompt",
   "metadata": {
    "deletable": false,
    "editable": false
   },
   "outputs": [
    {
     "data": {
      "text/html": [
       "<p><strong><pre style='display: inline;'>q2</pre></strong> passed!</p>"
      ],
      "text/plain": [
       "q2 results: All test cases passed!"
      ]
     },
     "execution_count": 191,
     "metadata": {},
     "output_type": "execute_result"
    }
   ],
   "source": [
    "grader.check(\"q2\")"
   ]
  },
  {
   "cell_type": "markdown",
   "id": "immediate-mexico",
   "metadata": {},
   "source": [
    "## Question 3 – Imputing Heights 🧍📏\n",
    "\n",
    "In [Lecture 13](https://dsc80.com/resources/lectures/lec13/lec13.html), you learned how to perform single-valued imputation conditionally on a **categorical** column: impute with the mean for each group. That is, for each distinct value of the **categorical** column, there is a single imputed value.\n",
    "\n",
    "Here, you will perform single-valued imputation conditionally on a **quantitative** column. \n",
    "\n",
    "You will work with a version of the `heights` DataFrame, `new_heights`, that has a `'father'` column and a single `'child'` column. The `'child'` column has missing values. To impute the `'child'` column, transform the `'father'` column into a categorical column by binning the values of `'father'` into [quartiles](https://en.wikipedia.org/wiki/Quartile). Once this is done, you can impute `'child'` as in lecture (and described above).\n",
    "\n",
    "<br>\n",
    "\n",
    "#### `cond_single_imputation`\n",
    "\n",
    "Write a function `cond_single_imputation` that takes in a DataFrame with columns `'father'` and `'child'` (where `'child'` has missing values) and performs a single-valued mean imputation of the `'child'` column, conditional on `'father'`. Your function should return a **Series**.\n",
    "\n",
    "***Hints:*** \n",
    "- `pd.qcut` may be helpful!\n",
    "- The `transform` is useful for this question (see [Lecture 7](https://dsc80.com/resources/lectures/lec07/lec07.html#The-transform-method)), though it's also possible using `aggregate`. \n",
    "- As a reminder, *loops are not allowed*, and functions mentioned in \"Hints\" are not required."
   ]
  },
  {
   "cell_type": "code",
   "execution_count": 193,
   "id": "enabling-sherman",
   "metadata": {
    "scrolled": true
   },
   "outputs": [
    {
     "data": {
      "text/html": [
       "<div>\n",
       "<style scoped>\n",
       "    .dataframe tbody tr th:only-of-type {\n",
       "        vertical-align: middle;\n",
       "    }\n",
       "\n",
       "    .dataframe tbody tr th {\n",
       "        vertical-align: top;\n",
       "    }\n",
       "\n",
       "    .dataframe thead th {\n",
       "        text-align: right;\n",
       "    }\n",
       "</style>\n",
       "<table border=\"1\" class=\"dataframe\">\n",
       "  <thead>\n",
       "    <tr style=\"text-align: right;\">\n",
       "      <th></th>\n",
       "      <th>father</th>\n",
       "      <th>child_50</th>\n",
       "    </tr>\n",
       "  </thead>\n",
       "  <tbody>\n",
       "    <tr>\n",
       "      <th>0</th>\n",
       "      <td>78.5</td>\n",
       "      <td>NaN</td>\n",
       "    </tr>\n",
       "    <tr>\n",
       "      <th>1</th>\n",
       "      <td>78.5</td>\n",
       "      <td>NaN</td>\n",
       "    </tr>\n",
       "    <tr>\n",
       "      <th>2</th>\n",
       "      <td>78.5</td>\n",
       "      <td>69.0</td>\n",
       "    </tr>\n",
       "    <tr>\n",
       "      <th>3</th>\n",
       "      <td>78.5</td>\n",
       "      <td>69.0</td>\n",
       "    </tr>\n",
       "    <tr>\n",
       "      <th>4</th>\n",
       "      <td>75.5</td>\n",
       "      <td>73.5</td>\n",
       "    </tr>\n",
       "    <tr>\n",
       "      <th>...</th>\n",
       "      <td>...</td>\n",
       "      <td>...</td>\n",
       "    </tr>\n",
       "    <tr>\n",
       "      <th>929</th>\n",
       "      <td>62.0</td>\n",
       "      <td>64.0</td>\n",
       "    </tr>\n",
       "    <tr>\n",
       "      <th>930</th>\n",
       "      <td>62.0</td>\n",
       "      <td>62.0</td>\n",
       "    </tr>\n",
       "    <tr>\n",
       "      <th>931</th>\n",
       "      <td>62.0</td>\n",
       "      <td>NaN</td>\n",
       "    </tr>\n",
       "    <tr>\n",
       "      <th>932</th>\n",
       "      <td>62.5</td>\n",
       "      <td>66.5</td>\n",
       "    </tr>\n",
       "    <tr>\n",
       "      <th>933</th>\n",
       "      <td>62.5</td>\n",
       "      <td>NaN</td>\n",
       "    </tr>\n",
       "  </tbody>\n",
       "</table>\n",
       "<p>934 rows × 2 columns</p>\n",
       "</div>"
      ],
      "text/plain": [
       "     father  child_50\n",
       "0      78.5       NaN\n",
       "1      78.5       NaN\n",
       "2      78.5      69.0\n",
       "3      78.5      69.0\n",
       "4      75.5      73.5\n",
       "..      ...       ...\n",
       "929    62.0      64.0\n",
       "930    62.0      62.0\n",
       "931    62.0       NaN\n",
       "932    62.5      66.5\n",
       "933    62.5       NaN\n",
       "\n",
       "[934 rows x 2 columns]"
      ]
     },
     "execution_count": 193,
     "metadata": {},
     "output_type": "execute_result"
    }
   ],
   "source": [
    "heights_fp = os.path.join('data', 'missing_heights.csv')\n",
    "new_heights = pd.read_csv(heights_fp)[['father', 'child_50']]\n",
    "new_heights"
   ]
  },
  {
   "cell_type": "code",
   "execution_count": 225,
   "id": "44e15f2c",
   "metadata": {
    "scrolled": false
   },
   "outputs": [
    {
     "data": {
      "text/plain": [
       "0        (71.0, 78.5]\n",
       "1        (71.0, 78.5]\n",
       "2        (71.0, 78.5]\n",
       "3        (71.0, 78.5]\n",
       "4        (71.0, 78.5]\n",
       "            ...      \n",
       "929    (61.999, 68.0]\n",
       "930    (61.999, 68.0]\n",
       "931    (61.999, 68.0]\n",
       "932    (61.999, 68.0]\n",
       "933    (61.999, 68.0]\n",
       "Name: father, Length: 934, dtype: category\n",
       "Categories (4, interval[float64, right]): [(61.999, 68.0] < (68.0, 69.0] < (69.0, 71.0] < (71.0, 78.5]]"
      ]
     },
     "execution_count": 225,
     "metadata": {},
     "output_type": "execute_result"
    }
   ],
   "source": [
    "pd.qcut(new_heights['father'],4)"
   ]
  },
  {
   "cell_type": "code",
   "execution_count": null,
   "id": "eb5a4636",
   "metadata": {},
   "outputs": [],
   "source": []
  },
  {
   "cell_type": "code",
   "execution_count": 206,
   "id": "9876df9e",
   "metadata": {},
   "outputs": [],
   "source": [
    "def mean_impute(ser):\n",
    "    return ser.fillna(ser.mean())"
   ]
  },
  {
   "cell_type": "code",
   "execution_count": null,
   "id": "dd5b85f7",
   "metadata": {},
   "outputs": [],
   "source": [
    "heights_mar_cat.groupby('gender')['child'].transform(mean_impute)"
   ]
  },
  {
   "cell_type": "code",
   "execution_count": 209,
   "id": "bce0a72c",
   "metadata": {},
   "outputs": [],
   "source": [
    "heights_fp = os.path.join('data', 'missing_heights.csv')\n",
    "new_heights = pd.read_csv(heights_fp)[['father', 'child_50']]\n",
    "new_heights = new_heights.rename(columns={'child_50': 'child'})"
   ]
  },
  {
   "cell_type": "code",
   "execution_count": 213,
   "id": "a4037613",
   "metadata": {},
   "outputs": [
    {
     "data": {
      "text/html": [
       "<div>\n",
       "<style scoped>\n",
       "    .dataframe tbody tr th:only-of-type {\n",
       "        vertical-align: middle;\n",
       "    }\n",
       "\n",
       "    .dataframe tbody tr th {\n",
       "        vertical-align: top;\n",
       "    }\n",
       "\n",
       "    .dataframe thead th {\n",
       "        text-align: right;\n",
       "    }\n",
       "</style>\n",
       "<table border=\"1\" class=\"dataframe\">\n",
       "  <thead>\n",
       "    <tr style=\"text-align: right;\">\n",
       "      <th></th>\n",
       "      <th>father</th>\n",
       "      <th>child</th>\n",
       "      <th>cuts</th>\n",
       "    </tr>\n",
       "  </thead>\n",
       "  <tbody>\n",
       "    <tr>\n",
       "      <th>0</th>\n",
       "      <td>78.5</td>\n",
       "      <td>NaN</td>\n",
       "      <td>(71.0, 78.5]</td>\n",
       "    </tr>\n",
       "    <tr>\n",
       "      <th>1</th>\n",
       "      <td>78.5</td>\n",
       "      <td>NaN</td>\n",
       "      <td>(71.0, 78.5]</td>\n",
       "    </tr>\n",
       "    <tr>\n",
       "      <th>2</th>\n",
       "      <td>78.5</td>\n",
       "      <td>69.0</td>\n",
       "      <td>(71.0, 78.5]</td>\n",
       "    </tr>\n",
       "    <tr>\n",
       "      <th>3</th>\n",
       "      <td>78.5</td>\n",
       "      <td>69.0</td>\n",
       "      <td>(71.0, 78.5]</td>\n",
       "    </tr>\n",
       "    <tr>\n",
       "      <th>4</th>\n",
       "      <td>75.5</td>\n",
       "      <td>73.5</td>\n",
       "      <td>(71.0, 78.5]</td>\n",
       "    </tr>\n",
       "    <tr>\n",
       "      <th>...</th>\n",
       "      <td>...</td>\n",
       "      <td>...</td>\n",
       "      <td>...</td>\n",
       "    </tr>\n",
       "    <tr>\n",
       "      <th>929</th>\n",
       "      <td>62.0</td>\n",
       "      <td>64.0</td>\n",
       "      <td>(61.999, 68.0]</td>\n",
       "    </tr>\n",
       "    <tr>\n",
       "      <th>930</th>\n",
       "      <td>62.0</td>\n",
       "      <td>62.0</td>\n",
       "      <td>(61.999, 68.0]</td>\n",
       "    </tr>\n",
       "    <tr>\n",
       "      <th>931</th>\n",
       "      <td>62.0</td>\n",
       "      <td>NaN</td>\n",
       "      <td>(61.999, 68.0]</td>\n",
       "    </tr>\n",
       "    <tr>\n",
       "      <th>932</th>\n",
       "      <td>62.5</td>\n",
       "      <td>66.5</td>\n",
       "      <td>(61.999, 68.0]</td>\n",
       "    </tr>\n",
       "    <tr>\n",
       "      <th>933</th>\n",
       "      <td>62.5</td>\n",
       "      <td>NaN</td>\n",
       "      <td>(61.999, 68.0]</td>\n",
       "    </tr>\n",
       "  </tbody>\n",
       "</table>\n",
       "<p>934 rows × 3 columns</p>\n",
       "</div>"
      ],
      "text/plain": [
       "     father  child            cuts\n",
       "0      78.5    NaN    (71.0, 78.5]\n",
       "1      78.5    NaN    (71.0, 78.5]\n",
       "2      78.5   69.0    (71.0, 78.5]\n",
       "3      78.5   69.0    (71.0, 78.5]\n",
       "4      75.5   73.5    (71.0, 78.5]\n",
       "..      ...    ...             ...\n",
       "929    62.0   64.0  (61.999, 68.0]\n",
       "930    62.0   62.0  (61.999, 68.0]\n",
       "931    62.0    NaN  (61.999, 68.0]\n",
       "932    62.5   66.5  (61.999, 68.0]\n",
       "933    62.5    NaN  (61.999, 68.0]\n",
       "\n",
       "[934 rows x 3 columns]"
      ]
     },
     "execution_count": 213,
     "metadata": {},
     "output_type": "execute_result"
    }
   ],
   "source": [
    "heights_fp = os.path.join('data', 'missing_heights.csv')\n",
    "new_heights = pd.read_csv(heights_fp)[['father', 'child_50']]\n",
    "new_heights = new_heights.rename(columns={'child_50': 'child'})\n",
    "new_heights['cuts'] = pd.qcut(new_heights['father'],4)\n",
    "new_heights"
   ]
  },
  {
   "cell_type": "code",
   "execution_count": 214,
   "id": "12edda8e",
   "metadata": {},
   "outputs": [
    {
     "data": {
      "text/plain": [
       "cuts\n",
       "(61.999, 68.0]    65.481383\n",
       "(68.0, 69.0]      66.933750\n",
       "(69.0, 71.0]      67.434307\n",
       "(71.0, 78.5]      68.083871\n",
       "Name: child, dtype: float64"
      ]
     },
     "execution_count": 214,
     "metadata": {},
     "output_type": "execute_result"
    }
   ],
   "source": [
    "new_heights.groupby('cuts')['child'].mean()"
   ]
  },
  {
   "cell_type": "code",
   "execution_count": 221,
   "id": "dedicated-mother",
   "metadata": {
    "scrolled": true
   },
   "outputs": [
    {
     "data": {
      "text/plain": [
       "0      68.083871\n",
       "1      68.083871\n",
       "2      69.000000\n",
       "3      69.000000\n",
       "4      73.500000\n",
       "         ...    \n",
       "929    64.000000\n",
       "930    62.000000\n",
       "931    65.481383\n",
       "932    66.500000\n",
       "933    65.481383\n",
       "Name: child, Length: 934, dtype: float64"
      ]
     },
     "execution_count": 221,
     "metadata": {},
     "output_type": "execute_result"
    }
   ],
   "source": [
    "new_heights['cuts'] = pd.qcut(new_heights['father'],4)\n",
    "ser = new_heights.groupby('cuts')['child'].transform(mean_impute)#[:50]\n",
    "ser"
   ]
  },
  {
   "cell_type": "code",
   "execution_count": 201,
   "id": "b6c98741",
   "metadata": {},
   "outputs": [
    {
     "data": {
      "text/plain": [
       "68.0"
      ]
     },
     "execution_count": 201,
     "metadata": {},
     "output_type": "execute_result"
    }
   ],
   "source": [
    "np.quantile(new_heights['father'],0.25)"
   ]
  },
  {
   "cell_type": "code",
   "execution_count": 226,
   "id": "jewish-seeking",
   "metadata": {},
   "outputs": [],
   "source": [
    "# don't change this cell, but do run it -- it is needed for the tests to work\n",
    "heights_fp = os.path.join('data', 'missing_heights.csv')\n",
    "new_heights = pd.read_csv(heights_fp)[['father', 'child_50']]\n",
    "new_heights = new_heights.rename(columns={'child_50': 'child'})\n",
    "out_q3 = cond_single_imputation(new_heights.copy())"
   ]
  },
  {
   "cell_type": "code",
   "execution_count": 227,
   "id": "alone-perfume",
   "metadata": {
    "deletable": false,
    "editable": false
   },
   "outputs": [
    {
     "data": {
      "text/html": [
       "<p><strong><pre style='display: inline;'>q3</pre></strong> passed!</p>"
      ],
      "text/plain": [
       "q3 results: All test cases passed!"
      ]
     },
     "execution_count": 227,
     "metadata": {},
     "output_type": "execute_result"
    }
   ],
   "source": [
    "grader.check(\"q3\")"
   ]
  },
  {
   "cell_type": "markdown",
   "id": "specific-strand",
   "metadata": {},
   "source": [
    "## Question 4 – Probabilistic Imputation 🎲\n",
    "\n",
    "In [Lecture 13](https://dsc80.com/resources/lectures/lec13/lec13.html#Probabilistic-imputation), you learned how to impute a quantitative column by sampling from the observed values. **One problem with this technique is that the imputation will never generate imputed values that weren't already in the dataset.** For example, 57, 57.5, and 59 are values in the `'child'` column of `new_heights` while 58 is not. Thus, any imputation done by sampling from the observed values in the `'child'` column will not be able to generate a height of 58, even though it's clearly a reasonable value to occur in the dataset.\n",
    "\n",
    "To keep things simple, you will impute the `'child'` column **unconditionally** from the distribution of `'child'` heights present in the dataset. This means that you will use the values present in `'child'` to impute missing values, without looking at other columns.\n",
    "\n",
    "An approach to quantitative imputation that overcomes the limitation mentioned above is as follows:\n",
    "- Create a histogram of observed `'child'` heights, using 10 bins.\n",
    "- Use the histogram to generate a number within the observed range of `'child'` heights:\n",
    "    - The likelihood a generated number belongs to a given bin is equal to the area of that bin. (Remember, in histograms, areas are proportions.)\n",
    "    - Any number within a fixed bin is equally likely to occur.\n",
    "    \n",
    "Let's illustrate this approach with an example. Let `demo` be the array of 10 numbers defined below.\n",
    "\n",
    "```py\n",
    "demo = np.array([10, 11, 11, 13, 14, 14, 13.5, 14, 15, 16])\n",
    "```\n",
    "\n",
    "- The first step is creating a histogram of `demo`. Note that with this small dataset, we will use 3 bins, but you will be using 10 bins in your imputation process.\n",
    "\n",
    "<img src='imgs/demo_histogram.png' width=300>\n",
    "\n",
    "- Note that in your process, you don't actually need to draw a histogram – instead, use `np.histogram`.\n",
    "- In the histogram above, we see that $2 \\cdot 0.15 = 0.3 = 30\\%$ of values lie in the [10, 12) bin, $2 \\cdot 0.1 = 0.2 = 20\\%$ of values lie in the [12, 14) bin, and $2 \\cdot 0.25 = 0.5 = 50\\%$ of values lie in the [14, 16] bin.\n",
    "- Next, we need to pick a bin at random. There's a 30\\% chance we pick the [10, 12) bin, a 20\\% chance we pick the [12, 14) bin, and a 50\\% chance we pick the [14, 16] bin. `np.random.choice` will be helpful in picking a bin at random.\n",
    "- Once we pick a bin, we pick a number **uniformly at random** from within the bin. For instance, suppose we randomly chose the [14, 16] bin in the previous step. We then must select a (real) number between 14 and 16 uniformly at random. `np.random.uniform` can help you here.\n",
    "\n",
    "<br>\n",
    "\n",
    "#### `quantitative_distribution`\n",
    "    \n",
    "Create a function `quantitative_distribution` that takes in a Series, `child`, in which some values are missing, and an integer `N > 0`, and returns an **array** of `N` imputed values using the method described above. \n",
    "\n",
    "***Note:*** You may use a `for`-loop.\n",
    "\n",
    "<br>\n",
    "\n",
    "#### `impute_height_quant`\n",
    "\n",
    "Create a function `impute_height_quant` that takes in a Series, `child`, in which some values are missing and imputes them using the scheme above. `impute_height_quant` should return a Series that is the same length of `child` but with no missing values. **You should use `quantitative_distribution` to help you do this.**"
   ]
  },
  {
   "cell_type": "code",
   "execution_count": 311,
   "id": "157b0fcc",
   "metadata": {},
   "outputs": [
    {
     "data": {
      "text/plain": [
       "array([  3,  15,  54, 110,  81,  85,  99,  16,   3,   1])"
      ]
     },
     "execution_count": 311,
     "metadata": {},
     "output_type": "execute_result"
    }
   ],
   "source": [
    "hist"
   ]
  },
  {
   "cell_type": "code",
   "execution_count": 310,
   "id": "190f98ba",
   "metadata": {},
   "outputs": [
    {
     "data": {
      "text/plain": [
       "array([0.00642398, 0.03211991, 0.11563169, 0.23554604, 0.17344754,\n",
       "       0.18201285, 0.21199143, 0.03426124, 0.00642398, 0.00214133])"
      ]
     },
     "execution_count": 310,
     "metadata": {},
     "output_type": "execute_result"
    }
   ],
   "source": [
    "p=hist/hist.sum()\n",
    "p"
   ]
  },
  {
   "cell_type": "code",
   "execution_count": 239,
   "id": "7cdb74f1",
   "metadata": {
    "scrolled": true
   },
   "outputs": [
    {
     "data": {
      "text/html": [
       "<div>\n",
       "<style scoped>\n",
       "    .dataframe tbody tr th:only-of-type {\n",
       "        vertical-align: middle;\n",
       "    }\n",
       "\n",
       "    .dataframe tbody tr th {\n",
       "        vertical-align: top;\n",
       "    }\n",
       "\n",
       "    .dataframe thead th {\n",
       "        text-align: right;\n",
       "    }\n",
       "</style>\n",
       "<table border=\"1\" class=\"dataframe\">\n",
       "  <thead>\n",
       "    <tr style=\"text-align: right;\">\n",
       "      <th></th>\n",
       "      <th>child</th>\n",
       "      <th>father</th>\n",
       "      <th>child_95</th>\n",
       "      <th>child_90</th>\n",
       "      <th>child_75</th>\n",
       "      <th>child_50</th>\n",
       "      <th>child_25</th>\n",
       "      <th>child_10</th>\n",
       "      <th>child_5</th>\n",
       "    </tr>\n",
       "  </thead>\n",
       "  <tbody>\n",
       "    <tr>\n",
       "      <th>0</th>\n",
       "      <td>73.2</td>\n",
       "      <td>78.5</td>\n",
       "      <td>73.2</td>\n",
       "      <td>73.2</td>\n",
       "      <td>73.2</td>\n",
       "      <td>NaN</td>\n",
       "      <td>NaN</td>\n",
       "      <td>NaN</td>\n",
       "      <td>NaN</td>\n",
       "    </tr>\n",
       "    <tr>\n",
       "      <th>1</th>\n",
       "      <td>69.2</td>\n",
       "      <td>78.5</td>\n",
       "      <td>69.2</td>\n",
       "      <td>69.2</td>\n",
       "      <td>69.2</td>\n",
       "      <td>NaN</td>\n",
       "      <td>NaN</td>\n",
       "      <td>NaN</td>\n",
       "      <td>69.2</td>\n",
       "    </tr>\n",
       "    <tr>\n",
       "      <th>2</th>\n",
       "      <td>69.0</td>\n",
       "      <td>78.5</td>\n",
       "      <td>69.0</td>\n",
       "      <td>69.0</td>\n",
       "      <td>69.0</td>\n",
       "      <td>69.0</td>\n",
       "      <td>NaN</td>\n",
       "      <td>NaN</td>\n",
       "      <td>NaN</td>\n",
       "    </tr>\n",
       "    <tr>\n",
       "      <th>3</th>\n",
       "      <td>69.0</td>\n",
       "      <td>78.5</td>\n",
       "      <td>69.0</td>\n",
       "      <td>69.0</td>\n",
       "      <td>NaN</td>\n",
       "      <td>69.0</td>\n",
       "      <td>NaN</td>\n",
       "      <td>NaN</td>\n",
       "      <td>NaN</td>\n",
       "    </tr>\n",
       "    <tr>\n",
       "      <th>4</th>\n",
       "      <td>73.5</td>\n",
       "      <td>75.5</td>\n",
       "      <td>73.5</td>\n",
       "      <td>73.5</td>\n",
       "      <td>NaN</td>\n",
       "      <td>73.5</td>\n",
       "      <td>73.5</td>\n",
       "      <td>NaN</td>\n",
       "      <td>NaN</td>\n",
       "    </tr>\n",
       "    <tr>\n",
       "      <th>...</th>\n",
       "      <td>...</td>\n",
       "      <td>...</td>\n",
       "      <td>...</td>\n",
       "      <td>...</td>\n",
       "      <td>...</td>\n",
       "      <td>...</td>\n",
       "      <td>...</td>\n",
       "      <td>...</td>\n",
       "      <td>...</td>\n",
       "    </tr>\n",
       "    <tr>\n",
       "      <th>929</th>\n",
       "      <td>64.0</td>\n",
       "      <td>62.0</td>\n",
       "      <td>64.0</td>\n",
       "      <td>64.0</td>\n",
       "      <td>64.0</td>\n",
       "      <td>64.0</td>\n",
       "      <td>NaN</td>\n",
       "      <td>NaN</td>\n",
       "      <td>NaN</td>\n",
       "    </tr>\n",
       "    <tr>\n",
       "      <th>930</th>\n",
       "      <td>62.0</td>\n",
       "      <td>62.0</td>\n",
       "      <td>62.0</td>\n",
       "      <td>62.0</td>\n",
       "      <td>62.0</td>\n",
       "      <td>62.0</td>\n",
       "      <td>62.0</td>\n",
       "      <td>NaN</td>\n",
       "      <td>NaN</td>\n",
       "    </tr>\n",
       "    <tr>\n",
       "      <th>931</th>\n",
       "      <td>61.0</td>\n",
       "      <td>62.0</td>\n",
       "      <td>61.0</td>\n",
       "      <td>61.0</td>\n",
       "      <td>61.0</td>\n",
       "      <td>NaN</td>\n",
       "      <td>NaN</td>\n",
       "      <td>NaN</td>\n",
       "      <td>NaN</td>\n",
       "    </tr>\n",
       "    <tr>\n",
       "      <th>932</th>\n",
       "      <td>66.5</td>\n",
       "      <td>62.5</td>\n",
       "      <td>66.5</td>\n",
       "      <td>66.5</td>\n",
       "      <td>66.5</td>\n",
       "      <td>66.5</td>\n",
       "      <td>66.5</td>\n",
       "      <td>NaN</td>\n",
       "      <td>NaN</td>\n",
       "    </tr>\n",
       "    <tr>\n",
       "      <th>933</th>\n",
       "      <td>57.0</td>\n",
       "      <td>62.5</td>\n",
       "      <td>57.0</td>\n",
       "      <td>57.0</td>\n",
       "      <td>NaN</td>\n",
       "      <td>NaN</td>\n",
       "      <td>NaN</td>\n",
       "      <td>NaN</td>\n",
       "      <td>57.0</td>\n",
       "    </tr>\n",
       "  </tbody>\n",
       "</table>\n",
       "<p>934 rows × 9 columns</p>\n",
       "</div>"
      ],
      "text/plain": [
       "     child  father  child_95  child_90  child_75  child_50  child_25  \\\n",
       "0     73.2    78.5      73.2      73.2      73.2       NaN       NaN   \n",
       "1     69.2    78.5      69.2      69.2      69.2       NaN       NaN   \n",
       "2     69.0    78.5      69.0      69.0      69.0      69.0       NaN   \n",
       "3     69.0    78.5      69.0      69.0       NaN      69.0       NaN   \n",
       "4     73.5    75.5      73.5      73.5       NaN      73.5      73.5   \n",
       "..     ...     ...       ...       ...       ...       ...       ...   \n",
       "929   64.0    62.0      64.0      64.0      64.0      64.0       NaN   \n",
       "930   62.0    62.0      62.0      62.0      62.0      62.0      62.0   \n",
       "931   61.0    62.0      61.0      61.0      61.0       NaN       NaN   \n",
       "932   66.5    62.5      66.5      66.5      66.5      66.5      66.5   \n",
       "933   57.0    62.5      57.0      57.0       NaN       NaN       NaN   \n",
       "\n",
       "     child_10  child_5  \n",
       "0         NaN      NaN  \n",
       "1         NaN     69.2  \n",
       "2         NaN      NaN  \n",
       "3         NaN      NaN  \n",
       "4         NaN      NaN  \n",
       "..        ...      ...  \n",
       "929       NaN      NaN  \n",
       "930       NaN      NaN  \n",
       "931       NaN      NaN  \n",
       "932       NaN      NaN  \n",
       "933       NaN     57.0  \n",
       "\n",
       "[934 rows x 9 columns]"
      ]
     },
     "execution_count": 239,
     "metadata": {},
     "output_type": "execute_result"
    }
   ],
   "source": [
    "heights"
   ]
  },
  {
   "cell_type": "code",
   "execution_count": 250,
   "id": "81680e45",
   "metadata": {},
   "outputs": [
    {
     "data": {
      "text/plain": [
       "0       NaN\n",
       "1       NaN\n",
       "2      69.0\n",
       "3      69.0\n",
       "4      73.5\n",
       "       ... \n",
       "929    64.0\n",
       "930    62.0\n",
       "931     NaN\n",
       "932    66.5\n",
       "933     NaN\n",
       "Name: child_50, Length: 934, dtype: float64"
      ]
     },
     "execution_count": 250,
     "metadata": {},
     "output_type": "execute_result"
    }
   ],
   "source": [
    "heights['child_50']"
   ]
  },
  {
   "cell_type": "code",
   "execution_count": 308,
   "id": "widespread-daughter",
   "metadata": {
    "scrolled": true
   },
   "outputs": [
    {
     "data": {
      "text/plain": [
       "[70.07826639529797,\n",
       " 62.980739256833886,\n",
       " 67.18444565070082,\n",
       " 64.90741754626394,\n",
       " 70.85537474122388,\n",
       " 62.25411479558417,\n",
       " 70.56071617579961,\n",
       " 70.79827210493248,\n",
       " 61.686829841839916,\n",
       " 68.88061900816562,\n",
       " 71.88384321670105,\n",
       " 66.35515388782699,\n",
       " 73.740640859066,\n",
       " 67.42106216244505,\n",
       " 66.68848818610644,\n",
       " 69.27770142025678,\n",
       " 71.17838103434266,\n",
       " 66.99199963264772,\n",
       " 61.49620146293728,\n",
       " 68.42375037689274,\n",
       " 61.82790539050011,\n",
       " 63.74266161999201,\n",
       " 69.44529520867486,\n",
       " 77.23541650029756,\n",
       " 71.40392850157997,\n",
       " 60.73796198142112,\n",
       " 68.65740832424083,\n",
       " 64.18133439697633,\n",
       " 67.736989433088,\n",
       " 66.1828379860519,\n",
       " 71.20014245163034,\n",
       " 66.2026233424181,\n",
       " 61.95437179620629,\n",
       " 71.15159562179684,\n",
       " 71.91662641683975,\n",
       " 58.514351039771284,\n",
       " 69.48284801262508,\n",
       " 64.04705901955364,\n",
       " 70.45837684440696,\n",
       " 70.72314862180257,\n",
       " 65.86576585288468,\n",
       " 70.43603152301836,\n",
       " 59.706642453165166,\n",
       " 73.72898500567732,\n",
       " 65.00214319043162,\n",
       " 64.20593010204112,\n",
       " 69.49807571023018,\n",
       " 68.77810564383785,\n",
       " 61.51696520009036,\n",
       " 66.39345634549333,\n",
       " 71.80971359106681,\n",
       " 71.64013443697104,\n",
       " 65.71843303912148,\n",
       " 65.04623039612466,\n",
       " 62.84367258669701,\n",
       " 64.84228211214976,\n",
       " 59.16003575611312,\n",
       " 68.44744317510514,\n",
       " 67.24551872832669,\n",
       " 61.52768852745156,\n",
       " 66.32719234694028,\n",
       " 69.27341325836171,\n",
       " 65.03169973139407,\n",
       " 72.20936375448332,\n",
       " 62.96963162712941,\n",
       " 72.0714425848405,\n",
       " 60.93272287736392,\n",
       " 69.99237367934845,\n",
       " 68.92110569373857,\n",
       " 64.50468970430666,\n",
       " 77.74701711662611,\n",
       " 69.95909975296925,\n",
       " 74.00034341682463,\n",
       " 71.18054172931484,\n",
       " 59.26168784032948,\n",
       " 65.54161548772775,\n",
       " 66.86472886320976,\n",
       " 66.21288585939361,\n",
       " 62.052972255941576,\n",
       " 64.09425871278687,\n",
       " 70.2535741308882,\n",
       " 62.994988239332535,\n",
       " 61.55319081157553,\n",
       " 65.5045770129186,\n",
       " 70.16855453170163,\n",
       " 68.58958664914483,\n",
       " 69.9909162286038,\n",
       " 64.37666864179657,\n",
       " 71.46714430685252,\n",
       " 71.91769377306184,\n",
       " 68.004375065201,\n",
       " 69.29033169694283,\n",
       " 63.776635854639366,\n",
       " 62.2769397354886,\n",
       " 61.53448786706774,\n",
       " 63.17278934122366,\n",
       " 65.37738014949856,\n",
       " 70.9320376735301,\n",
       " 70.44563354978463,\n",
       " 71.55970361138421]"
      ]
     },
     "execution_count": 308,
     "metadata": {},
     "output_type": "execute_result"
    }
   ],
   "source": [
    "demo = heights['child_50'].dropna()\n",
    "probs = []\n",
    "N =100\n",
    "for n in np.arange(N):\n",
    "    hist, edges = np.histogram(demo, bins=10)\n",
    "    #hist\n",
    "    #edges\n",
    "    index = np.random.choice(a=[0,1,2,3,4,5,6,7,8,9], p=hist/hist.sum())\n",
    "    probs.append(np.random.uniform(edges[index], edges[index+1]))\n",
    "    \n",
    "probs"
   ]
  },
  {
   "cell_type": "code",
   "execution_count": 260,
   "id": "d121cb7f",
   "metadata": {},
   "outputs": [
    {
     "data": {
      "text/plain": [
       "array([0.00642398, 0.03211991, 0.11563169, 0.23554604, 0.17344754,\n",
       "       0.18201285, 0.21199143, 0.03426124, 0.00642398, 0.00214133])"
      ]
     },
     "execution_count": 260,
     "metadata": {},
     "output_type": "execute_result"
    }
   ],
   "source": [
    "hist/hist.sum()"
   ]
  },
  {
   "cell_type": "code",
   "execution_count": 321,
   "id": "alternate-width",
   "metadata": {
    "scrolled": true
   },
   "outputs": [
    {
     "data": {
      "text/plain": [
       "True"
      ]
     },
     "execution_count": 321,
     "metadata": {},
     "output_type": "execute_result"
    }
   ],
   "source": [
    "out = quantitative_distribution(heights['child_50'],100)\n",
    "np.isclose(out.std(), 3.5, atol=0.65)"
   ]
  },
  {
   "cell_type": "code",
   "execution_count": 362,
   "id": "ecfaadc4",
   "metadata": {},
   "outputs": [
    {
     "data": {
      "text/plain": [
       "0       NaN\n",
       "1       NaN\n",
       "2      69.0\n",
       "3      69.0\n",
       "4      73.5\n",
       "       ... \n",
       "929    64.0\n",
       "930    62.0\n",
       "931     NaN\n",
       "932    66.5\n",
       "933     NaN\n",
       "Name: child_50, Length: 934, dtype: float64"
      ]
     },
     "execution_count": 362,
     "metadata": {},
     "output_type": "execute_result"
    }
   ],
   "source": [
    "heights['child_50']"
   ]
  },
  {
   "cell_type": "code",
   "execution_count": 370,
   "id": "81cb1672",
   "metadata": {
    "scrolled": true
   },
   "outputs": [
    {
     "data": {
      "text/plain": [
       "array([68.94810864, 69.87437343, 70.15140315, 70.22255209, 70.27412561,\n",
       "       65.80525835, 63.50214171, 71.53575737, 71.75136091, 64.62275085,\n",
       "       66.15914137, 63.66134586, 71.87243996, 64.27831216, 67.71174897,\n",
       "       68.5692397 , 69.55388693, 64.06712093, 66.3753672 , 60.73606001,\n",
       "       65.685719  , 62.96210567, 66.5088366 , 70.12238731, 67.49363938,\n",
       "       78.8839469 , 67.45530833, 64.06918367, 60.93471734, 63.23698229,\n",
       "       71.52205961, 70.41079117, 70.98846298, 66.40570101, 67.5121258 ,\n",
       "       62.22043502, 68.55355951, 68.25394908, 65.78962919, 64.29333822,\n",
       "       71.1954316 , 65.12763339, 66.53744068, 66.08129467, 69.46257377,\n",
       "       63.10815267, 64.55782396, 71.62890716, 66.43329319, 64.6485864 ,\n",
       "       66.41404115, 75.75658152, 63.07022508, 71.05544104, 69.76947417,\n",
       "       71.96322857, 70.15630264, 71.52149126, 63.27158822, 63.0894732 ,\n",
       "       67.66853014, 63.49858972, 69.23818034, 67.61584483, 61.33239116,\n",
       "       63.24083218, 63.92913872, 63.52940326, 70.6799695 , 68.11482072,\n",
       "       67.15587559, 68.88579465, 71.74044013, 61.36441064, 64.93249384,\n",
       "       70.96994666, 64.24748687, 72.08922184, 73.05483611, 63.43948659,\n",
       "       67.80588445, 66.84729545, 68.40472639, 65.96318126, 68.38281584,\n",
       "       67.80197665, 62.82092922, 68.178019  , 67.07881352, 63.71970328,\n",
       "       63.30361944, 68.10131018, 64.76250093, 65.63379032, 63.19771146,\n",
       "       64.99426537, 67.29218436, 71.21969859, 58.3923123 , 62.65891529,\n",
       "       65.4019808 , 64.88445405, 71.0927302 , 61.31997863, 59.60978853,\n",
       "       68.00695764, 63.7651995 , 73.20795053, 67.49755144, 61.58459596,\n",
       "       67.6056365 , 63.11570641, 62.36554072, 68.81417004, 67.71629576,\n",
       "       70.34267944, 67.51210677, 68.93631196, 65.28055779, 69.66448834,\n",
       "       70.0904128 , 70.28616578, 71.61474627, 70.99508273, 71.48672087,\n",
       "       62.08776751, 66.96172714, 68.10342218, 64.69572962, 75.71961706,\n",
       "       70.66931142, 68.81107333, 63.96227961, 64.2836271 , 57.37117293,\n",
       "       72.42188594, 68.09544698, 70.05936962, 66.93209681, 65.18904881,\n",
       "       71.28144826, 63.22123513, 59.83195167, 69.04656861, 71.41235577,\n",
       "       65.79872759, 68.47820961, 71.01710472, 68.77130817, 68.16511989,\n",
       "       71.40474024, 66.75512311, 69.16053562, 72.04987289, 76.25828789,\n",
       "       58.61485136, 64.7008442 , 65.71084899, 64.75431326, 69.16670926,\n",
       "       71.39024161, 63.85299119, 70.79631872, 59.25343519, 66.57720365,\n",
       "       66.27260476, 62.4311468 , 71.48477742, 69.27484494, 63.42894677,\n",
       "       63.72437433, 70.9721007 , 67.0892809 , 67.86262161, 62.15435402,\n",
       "       68.33711255, 61.36858954, 68.4967941 , 61.9921053 , 68.62541649,\n",
       "       66.22165521, 71.57765718, 65.0906113 , 69.19569825, 63.21493507,\n",
       "       71.96886487, 61.9348699 , 71.32913656, 61.09993185, 68.00358002,\n",
       "       69.99225162, 69.43817746, 58.32369839, 59.19675847, 67.6200723 ,\n",
       "       63.95127345, 69.39484724, 72.07760956, 63.47275026, 68.51932954,\n",
       "       73.57832343, 66.88513197, 66.35149793, 69.05212416, 61.97598778,\n",
       "       69.34350592, 70.36604558, 64.73045886, 69.74824667, 62.42984767,\n",
       "       67.676152  , 64.91882741, 58.77860316, 61.57516146, 69.15581696,\n",
       "       64.34372789, 66.10047906, 69.87667932, 70.59554618, 71.33636671,\n",
       "       69.9074932 , 60.82851893, 70.36438855, 70.8564714 , 64.00210917,\n",
       "       62.69357973, 61.93746979, 65.01461066, 70.80370895, 58.84140439,\n",
       "       75.13771312, 62.45848586, 66.02059015, 71.14905902, 63.96100947,\n",
       "       71.34215476, 68.51962175, 64.40311221, 65.2910819 , 66.09339961,\n",
       "       68.52010182, 71.26750538, 67.31721383, 62.2893615 , 68.20910032,\n",
       "       71.60139475, 66.2001083 , 67.1625177 , 66.22154058, 68.81111527,\n",
       "       71.99592943, 71.92162192, 65.60159008, 69.22318539, 64.35538782,\n",
       "       65.91187716, 61.48351136, 59.39983509, 63.20726601, 66.23692733,\n",
       "       66.12800741, 69.883255  , 65.42535573, 70.19831127, 66.44462224,\n",
       "       64.98878541, 65.16524175, 71.44488094, 64.52848705, 63.82992188,\n",
       "       68.05518343, 61.44107147, 70.22533163, 68.72102007, 68.80120959,\n",
       "       68.7996589 , 66.89435531, 67.89456848, 67.45711839, 70.97562149,\n",
       "       72.07842277, 66.32864555, 71.63467573, 67.03588184, 62.29640992,\n",
       "       58.47629635, 69.77573715, 61.7266636 , 73.75058434, 70.24382187,\n",
       "       69.38916673, 62.49692692, 65.61163616, 63.0232081 , 72.07801075,\n",
       "       70.80651359, 68.4929765 , 64.66198617, 69.85427088, 73.33298048,\n",
       "       63.62252726, 68.63018329, 66.73884892, 66.86932807, 76.33227155,\n",
       "       67.78002788, 61.09417955, 69.04612651, 69.29175789, 63.27732071,\n",
       "       70.3277458 , 66.04085742, 70.27859214, 72.09224796, 71.73687456,\n",
       "       67.28509752, 69.77862081, 63.42153892, 59.62280688, 66.77690796,\n",
       "       68.54081743, 62.83550936, 71.94264358, 67.64018253, 66.03317834,\n",
       "       66.4754575 , 61.1438983 , 68.76936207, 65.28882203, 71.0813368 ,\n",
       "       72.03731886, 71.87766178, 61.00918012, 63.60127082, 70.26574243,\n",
       "       68.58237434, 62.97882666, 71.89566892, 66.78241293, 61.67722358,\n",
       "       74.99945247, 70.18235582, 73.51782914, 67.11879516, 63.83799317,\n",
       "       71.66377   , 67.99902203, 71.29117961, 63.93059866, 66.66964894,\n",
       "       64.26348617, 69.13705927, 60.45101421, 70.32288991, 63.2807987 ,\n",
       "       63.38930371, 75.02408144, 64.71939235, 64.9822277 , 69.35717291,\n",
       "       64.46312632, 69.56891281, 61.31517582, 76.32778264, 67.25667712,\n",
       "       61.63943763, 65.73745317, 58.31401857, 65.08701865, 63.06524916,\n",
       "       65.08009041, 65.73146182, 61.67551437, 65.96718241, 65.29052189,\n",
       "       64.34601973, 64.08705299, 63.51486018, 66.45325408, 71.49293281,\n",
       "       61.91468328, 69.57479229, 66.10960184, 70.94185427, 68.80710135,\n",
       "       68.62031006, 63.31031224, 71.52562315, 66.29032506, 63.80212636,\n",
       "       66.56667506, 61.21385411, 71.70436717, 65.318256  , 67.08356855,\n",
       "       71.6585995 , 60.94221721, 70.32616748, 63.53122276, 61.74826013,\n",
       "       66.93841504, 63.33587776, 70.92493607, 67.39766093, 70.83361097,\n",
       "       68.8852357 , 67.29589893, 62.23395827, 72.02968886, 70.0620078 ,\n",
       "       71.19720524, 73.18063811, 70.96587871, 68.20270767, 62.22369213,\n",
       "       67.08874406, 70.43870176, 71.54748808, 66.19639286, 64.96985126,\n",
       "       71.59969465, 71.65278994, 61.01716441, 72.23000664, 64.80440874,\n",
       "       60.70657249, 67.05749401, 68.57683927, 70.20491017, 68.39961745,\n",
       "       63.00626327, 72.87699536, 73.09315073, 69.18910596, 71.17540876,\n",
       "       63.64761892, 68.84389516, 70.02728624, 64.0407072 , 70.21429628,\n",
       "       57.38864264, 71.37818686, 67.26990156, 66.0165001 , 69.72945878,\n",
       "       63.7693251 , 61.10381883, 56.32234464, 64.15434539, 59.70830692,\n",
       "       73.2829219 , 71.62989478, 71.43837023, 69.72378944, 70.77034808,\n",
       "       68.0916892 , 65.85645283, 63.47682902, 63.37509919, 64.79744777,\n",
       "       66.15924199, 69.19023039, 70.50854084, 72.08712924, 71.14991566,\n",
       "       63.34862875, 59.01616945])"
      ]
     },
     "execution_count": 370,
     "metadata": {},
     "output_type": "execute_result"
    }
   ],
   "source": [
    "ser = heights['child_50']\n",
    "missing = heights['child_50'].isna().sum()\n",
    "missing\n",
    "out = quantitative_distribution(heights['child_50'],missing)\n",
    "out"
   ]
  },
  {
   "cell_type": "code",
   "execution_count": 371,
   "id": "3892e950",
   "metadata": {
    "scrolled": false
   },
   "outputs": [
    {
     "data": {
      "text/plain": [
       "0      68.948109\n",
       "1      69.874373\n",
       "2      69.000000\n",
       "3      69.000000\n",
       "4      73.500000\n",
       "         ...    \n",
       "929    64.000000\n",
       "930    62.000000\n",
       "931    63.348629\n",
       "932    66.500000\n",
       "933    59.016169\n",
       "Name: child_50, Length: 934, dtype: float64"
      ]
     },
     "execution_count": 371,
     "metadata": {},
     "output_type": "execute_result"
    }
   ],
   "source": [
    "\n",
    "ser.update(pd.Series(out, index = ser.index[ser.isna()]))\n",
    "ser"
   ]
  },
  {
   "cell_type": "code",
   "execution_count": 359,
   "id": "97692d4b",
   "metadata": {
    "scrolled": true
   },
   "outputs": [
    {
     "data": {
      "text/plain": [
       "0"
      ]
     },
     "execution_count": 359,
     "metadata": {},
     "output_type": "execute_result"
    }
   ],
   "source": [
    "ser.isna().sum()"
   ]
  },
  {
   "cell_type": "code",
   "execution_count": null,
   "id": "dc0fa92b",
   "metadata": {},
   "outputs": [],
   "source": []
  },
  {
   "cell_type": "code",
   "execution_count": 369,
   "id": "ec3d2d92",
   "metadata": {},
   "outputs": [
    {
     "data": {
      "text/html": [
       "<div>\n",
       "<style scoped>\n",
       "    .dataframe tbody tr th:only-of-type {\n",
       "        vertical-align: middle;\n",
       "    }\n",
       "\n",
       "    .dataframe tbody tr th {\n",
       "        vertical-align: top;\n",
       "    }\n",
       "\n",
       "    .dataframe thead th {\n",
       "        text-align: right;\n",
       "    }\n",
       "</style>\n",
       "<table border=\"1\" class=\"dataframe\">\n",
       "  <thead>\n",
       "    <tr style=\"text-align: right;\">\n",
       "      <th></th>\n",
       "      <th>child</th>\n",
       "      <th>father</th>\n",
       "      <th>child_95</th>\n",
       "      <th>child_90</th>\n",
       "      <th>child_75</th>\n",
       "      <th>child_50</th>\n",
       "      <th>child_25</th>\n",
       "      <th>child_10</th>\n",
       "      <th>child_5</th>\n",
       "    </tr>\n",
       "  </thead>\n",
       "  <tbody>\n",
       "    <tr>\n",
       "      <th>0</th>\n",
       "      <td>73.2</td>\n",
       "      <td>78.5</td>\n",
       "      <td>73.2</td>\n",
       "      <td>73.2</td>\n",
       "      <td>73.2</td>\n",
       "      <td>NaN</td>\n",
       "      <td>NaN</td>\n",
       "      <td>NaN</td>\n",
       "      <td>NaN</td>\n",
       "    </tr>\n",
       "    <tr>\n",
       "      <th>1</th>\n",
       "      <td>69.2</td>\n",
       "      <td>78.5</td>\n",
       "      <td>69.2</td>\n",
       "      <td>69.2</td>\n",
       "      <td>69.2</td>\n",
       "      <td>NaN</td>\n",
       "      <td>NaN</td>\n",
       "      <td>NaN</td>\n",
       "      <td>69.2</td>\n",
       "    </tr>\n",
       "    <tr>\n",
       "      <th>2</th>\n",
       "      <td>69.0</td>\n",
       "      <td>78.5</td>\n",
       "      <td>69.0</td>\n",
       "      <td>69.0</td>\n",
       "      <td>69.0</td>\n",
       "      <td>69.0</td>\n",
       "      <td>NaN</td>\n",
       "      <td>NaN</td>\n",
       "      <td>NaN</td>\n",
       "    </tr>\n",
       "    <tr>\n",
       "      <th>3</th>\n",
       "      <td>69.0</td>\n",
       "      <td>78.5</td>\n",
       "      <td>69.0</td>\n",
       "      <td>69.0</td>\n",
       "      <td>NaN</td>\n",
       "      <td>69.0</td>\n",
       "      <td>NaN</td>\n",
       "      <td>NaN</td>\n",
       "      <td>NaN</td>\n",
       "    </tr>\n",
       "    <tr>\n",
       "      <th>4</th>\n",
       "      <td>73.5</td>\n",
       "      <td>75.5</td>\n",
       "      <td>73.5</td>\n",
       "      <td>73.5</td>\n",
       "      <td>NaN</td>\n",
       "      <td>73.5</td>\n",
       "      <td>73.5</td>\n",
       "      <td>NaN</td>\n",
       "      <td>NaN</td>\n",
       "    </tr>\n",
       "    <tr>\n",
       "      <th>...</th>\n",
       "      <td>...</td>\n",
       "      <td>...</td>\n",
       "      <td>...</td>\n",
       "      <td>...</td>\n",
       "      <td>...</td>\n",
       "      <td>...</td>\n",
       "      <td>...</td>\n",
       "      <td>...</td>\n",
       "      <td>...</td>\n",
       "    </tr>\n",
       "    <tr>\n",
       "      <th>929</th>\n",
       "      <td>64.0</td>\n",
       "      <td>62.0</td>\n",
       "      <td>64.0</td>\n",
       "      <td>64.0</td>\n",
       "      <td>64.0</td>\n",
       "      <td>64.0</td>\n",
       "      <td>NaN</td>\n",
       "      <td>NaN</td>\n",
       "      <td>NaN</td>\n",
       "    </tr>\n",
       "    <tr>\n",
       "      <th>930</th>\n",
       "      <td>62.0</td>\n",
       "      <td>62.0</td>\n",
       "      <td>62.0</td>\n",
       "      <td>62.0</td>\n",
       "      <td>62.0</td>\n",
       "      <td>62.0</td>\n",
       "      <td>62.0</td>\n",
       "      <td>NaN</td>\n",
       "      <td>NaN</td>\n",
       "    </tr>\n",
       "    <tr>\n",
       "      <th>931</th>\n",
       "      <td>61.0</td>\n",
       "      <td>62.0</td>\n",
       "      <td>61.0</td>\n",
       "      <td>61.0</td>\n",
       "      <td>61.0</td>\n",
       "      <td>NaN</td>\n",
       "      <td>NaN</td>\n",
       "      <td>NaN</td>\n",
       "      <td>NaN</td>\n",
       "    </tr>\n",
       "    <tr>\n",
       "      <th>932</th>\n",
       "      <td>66.5</td>\n",
       "      <td>62.5</td>\n",
       "      <td>66.5</td>\n",
       "      <td>66.5</td>\n",
       "      <td>66.5</td>\n",
       "      <td>66.5</td>\n",
       "      <td>66.5</td>\n",
       "      <td>NaN</td>\n",
       "      <td>NaN</td>\n",
       "    </tr>\n",
       "    <tr>\n",
       "      <th>933</th>\n",
       "      <td>57.0</td>\n",
       "      <td>62.5</td>\n",
       "      <td>57.0</td>\n",
       "      <td>57.0</td>\n",
       "      <td>NaN</td>\n",
       "      <td>NaN</td>\n",
       "      <td>NaN</td>\n",
       "      <td>NaN</td>\n",
       "      <td>57.0</td>\n",
       "    </tr>\n",
       "  </tbody>\n",
       "</table>\n",
       "<p>934 rows × 9 columns</p>\n",
       "</div>"
      ],
      "text/plain": [
       "     child  father  child_95  child_90  child_75  child_50  child_25  \\\n",
       "0     73.2    78.5      73.2      73.2      73.2       NaN       NaN   \n",
       "1     69.2    78.5      69.2      69.2      69.2       NaN       NaN   \n",
       "2     69.0    78.5      69.0      69.0      69.0      69.0       NaN   \n",
       "3     69.0    78.5      69.0      69.0       NaN      69.0       NaN   \n",
       "4     73.5    75.5      73.5      73.5       NaN      73.5      73.5   \n",
       "..     ...     ...       ...       ...       ...       ...       ...   \n",
       "929   64.0    62.0      64.0      64.0      64.0      64.0       NaN   \n",
       "930   62.0    62.0      62.0      62.0      62.0      62.0      62.0   \n",
       "931   61.0    62.0      61.0      61.0      61.0       NaN       NaN   \n",
       "932   66.5    62.5      66.5      66.5      66.5      66.5      66.5   \n",
       "933   57.0    62.5      57.0      57.0       NaN       NaN       NaN   \n",
       "\n",
       "     child_10  child_5  \n",
       "0         NaN      NaN  \n",
       "1         NaN     69.2  \n",
       "2         NaN      NaN  \n",
       "3         NaN      NaN  \n",
       "4         NaN      NaN  \n",
       "..        ...      ...  \n",
       "929       NaN      NaN  \n",
       "930       NaN      NaN  \n",
       "931       NaN      NaN  \n",
       "932       NaN      NaN  \n",
       "933       NaN     57.0  \n",
       "\n",
       "[934 rows x 9 columns]"
      ]
     },
     "execution_count": 369,
     "metadata": {},
     "output_type": "execute_result"
    }
   ],
   "source": [
    "heights_fp = os.path.join('data', 'missing_heights.csv')\n",
    "heights = pd.read_csv(heights_fp)\n",
    "heights"
   ]
  },
  {
   "cell_type": "code",
   "execution_count": 329,
   "id": "289dbb1b",
   "metadata": {
    "scrolled": true
   },
   "outputs": [
    {
     "data": {
      "text/plain": [
       "0      73.026297\n",
       "1      67.110077\n",
       "2      69.507603\n",
       "3      64.700070\n",
       "4      64.059559\n",
       "         ...    \n",
       "929    64.000000\n",
       "930    62.000000\n",
       "931          NaN\n",
       "932    66.500000\n",
       "933          NaN\n",
       "Name: child_50, Length: 934, dtype: float64"
      ]
     },
     "execution_count": 329,
     "metadata": {},
     "output_type": "execute_result"
    }
   ],
   "source": [
    "heights[heights['child_50'].isna() == True].update(out)\n",
    "heights['child_50']"
   ]
  },
  {
   "cell_type": "code",
   "execution_count": 339,
   "id": "dbcb7500",
   "metadata": {},
   "outputs": [
    {
     "data": {
      "text/plain": [
       "0     NaN\n",
       "1     NaN\n",
       "5     NaN\n",
       "6     NaN\n",
       "8     NaN\n",
       "       ..\n",
       "921   NaN\n",
       "922   NaN\n",
       "928   NaN\n",
       "931   NaN\n",
       "933   NaN\n",
       "Name: child_50, Length: 467, dtype: float64"
      ]
     },
     "execution_count": 339,
     "metadata": {},
     "output_type": "execute_result"
    }
   ],
   "source": [
    "heights[heights['child_50'].isna()]['child_50']"
   ]
  },
  {
   "cell_type": "code",
   "execution_count": 372,
   "id": "french-bristol",
   "metadata": {
    "scrolled": true
   },
   "outputs": [],
   "source": [
    "# don't change this cell, but do run it -- it is needed for the tests to work\n",
    "heights_fp = os.path.join('data', 'missing_heights.csv')\n",
    "heights = pd.read_csv(heights_fp)\n",
    "child = heights['child_50']\n",
    "quantitative_distribution_out_q4 = quantitative_distribution(child.copy(), 100)\n",
    "impute_height_quant_out_q4 = impute_height_quant(child.copy())"
   ]
  },
  {
   "cell_type": "code",
   "execution_count": 373,
   "id": "operating-south",
   "metadata": {
    "deletable": false,
    "editable": false
   },
   "outputs": [
    {
     "data": {
      "text/html": [
       "<p><strong><pre style='display: inline;'>q4</pre></strong> passed!</p>"
      ],
      "text/plain": [
       "q4 results: All test cases passed!"
      ]
     },
     "execution_count": 373,
     "metadata": {},
     "output_type": "execute_result"
    }
   ],
   "source": [
    "grader.check(\"q4\")"
   ]
  },
  {
   "cell_type": "markdown",
   "id": "split-bottom",
   "metadata": {},
   "source": [
    "## Question 5 – The Rules of Web Scraping 🚔\n",
    "\n",
    "In Lecture 14, we will start studying web scraping. This question will give you an introduction to the rules behind it.\n",
    "\n",
    "Many sites have a published policy allowing or disallowing automatic access to their site. Often, this policy is in a text file named `robots.txt`. [Here is a good article](https://moz.com/learn/seo/robotstxt) that explains what these files are, where to find them, and how to use them. **After reading the article**, please answer the following questions.\n",
    "\n",
    "<br>\n",
    "\n",
    "### Multiple-Choice Questions\n",
    "\n",
    "**1. What is the purpose of `robots.txt`?**\n",
    "\n",
    "1. To informs agents which pages to crawl.\n",
    "\n",
    "2. To informs agents that the site is automated.\n",
    "\n",
    "3. To inform agents that robots will chase them down if their info is stolen.\n",
    "\n",
    "\n",
    "**2. Where do you put your `robots.txt` file?**\n",
    "\n",
    "1. In the folder you want to disallow.\n",
    "\n",
    "2. In the root directory of your website.\n",
    "\n",
    "3. In a Google search.\n",
    "\n",
    "**3. Is it illegal to scrape a site if there is no `robots.txt` present?** (***Hint:*** [Read this](https://medium.com/@tjwaterman99/web-scraping-is-now-legal-6bf0e5730a78) if you're not sure. If you aren't able to access the article because Medium says \"You've read all your free member-only stories...\", try opening the article in a new incognito or private browsing window 😅.)\n",
    "\n",
    "1. Yes.\n",
    "\n",
    "2. No.\n",
    "\n",
    "**4. Can each subdomain on a root domain use separate `robots.txt` files?**\n",
    "\n",
    "1. Yes.\n",
    "\n",
    "2. No.\n",
    "\n",
    "\n",
    "<br>\n",
    "\n",
    "\n",
    "### Website Hunt\n",
    "\n",
    "Next, **find three websites that explicitly use a `robots.txt` file and allow scraping by everyone, and three that do not allow scraping by generic user-agents**.\n",
    "\n",
    "When browsing through `robots.txt` files, you may notice that some have entries for several different user-agents. The user-agent you are interested in for this question is the generic user-agent, which is denoted by `*`. A `/` after a `Disallow:` indicates that no scraping is allowed, whereas nothing after the `Disallow:` indicates that all scraping is allowed.\n",
    "\n",
    "***Notes:***\n",
    "- During your search, you may notice that very few websites allow scraping by everyone. When trying to find websites that satisfy this criteria, you are encouraged to think contextually about what kinds of websites would and wouldn't mind you scraping their data. Would a government website likely mind scraping by everyone? How about a website someone created just for fun?\n",
    "\n",
    "- Some websites may cause Gradescope to time out. Please change a website if you encounter this issue. \n",
    "\n",
    "- Below, you are asked to store the URLs of the websites you find in a list. When storing URLs, you can add `'/robots.txt'` to the end, but you don't have to – either format will be accepted.\n",
    "\n",
    "<br>\n",
    "\n",
    "\n",
    "#### `answers`\n",
    "\n",
    "Create an argument-free function `answers` that returns **two lists**:\n",
    "\n",
    "* one containing your answers to the multiple-choice questions, and\n",
    "* one containing the URLs of the sites you found. The first 3 URLs in the list should be of websites that allow scraping by everyone, and the last 3 URLs in the list should be of websits that disallow scraping by generic user-agents."
   ]
  },
  {
   "cell_type": "code",
   "execution_count": null,
   "id": "ambient-mortality",
   "metadata": {},
   "outputs": [],
   "source": []
  },
  {
   "cell_type": "code",
   "execution_count": null,
   "id": "acting-howard",
   "metadata": {},
   "outputs": [],
   "source": []
  },
  {
   "cell_type": "code",
   "execution_count": 374,
   "id": "natural-specification",
   "metadata": {},
   "outputs": [],
   "source": [
    "# don't change this cell, but do run it -- it is needed for the tests to work\n",
    "mc_answers, websites = answers()"
   ]
  },
  {
   "cell_type": "code",
   "execution_count": 375,
   "id": "attempted-michael",
   "metadata": {
    "deletable": false,
    "editable": false
   },
   "outputs": [
    {
     "data": {
      "text/html": [
       "<p><strong><pre style='display: inline;'>q5</pre></strong> passed!</p>"
      ],
      "text/plain": [
       "q5 results: All test cases passed!"
      ]
     },
     "execution_count": 375,
     "metadata": {},
     "output_type": "execute_result"
    }
   ],
   "source": [
    "grader.check(\"q5\")"
   ]
  },
  {
   "cell_type": "markdown",
   "id": "pressed-technique",
   "metadata": {},
   "source": [
    "## Congratulations! You're done! 🏁\n",
    "\n",
    "Submit your `lab.py` file to Gradescope. Note that you only need to submit the `lab.py` file; this notebook should not be uploaded.\n",
    "\n",
    "Before submitting, you should ensure that all of your work is in the `lab.py` file. You can do this by running the doctests below, which will verify that your work passes the public tests **and** that your work is in the `lab.py` file. Run the cell below; you should see no output."
   ]
  },
  {
   "cell_type": "code",
   "execution_count": 376,
   "id": "turkish-corner",
   "metadata": {},
   "outputs": [],
   "source": [
    "!python -m doctest lab.py"
   ]
  },
  {
   "cell_type": "markdown",
   "id": "streaming-roman",
   "metadata": {},
   "source": [
    "In addition, `grader.check_all()` will verify that your work passes the public tests."
   ]
  },
  {
   "cell_type": "markdown",
   "id": "experimental-reservation",
   "metadata": {
    "deletable": false,
    "editable": false
   },
   "source": [
    "---\n",
    "\n",
    "To double-check your work, the cell below will rerun all of the autograder tests."
   ]
  },
  {
   "cell_type": "code",
   "execution_count": 377,
   "id": "remarkable-mountain",
   "metadata": {
    "deletable": false,
    "editable": false
   },
   "outputs": [
    {
     "data": {
      "text/plain": [
       "q1 results: All test cases passed!\n",
       "\n",
       "q2 results: All test cases passed!\n",
       "\n",
       "q3 results: All test cases passed!\n",
       "\n",
       "q4 results: All test cases passed!\n",
       "\n",
       "q5 results: All test cases passed!"
      ]
     },
     "execution_count": 377,
     "metadata": {},
     "output_type": "execute_result"
    }
   ],
   "source": [
    "grader.check_all()"
   ]
  }
 ],
 "metadata": {
  "kernelspec": {
   "display_name": "Python 3 (ipykernel)",
   "language": "python",
   "name": "python3"
  },
  "language_info": {
   "codemirror_mode": {
    "name": "ipython",
    "version": 3
   },
   "file_extension": ".py",
   "mimetype": "text/x-python",
   "name": "python",
   "nbconvert_exporter": "python",
   "pygments_lexer": "ipython3",
   "version": "3.8.12"
  },
  "otter": {
   "tests": {
    "q1": {
     "name": "q1",
     "points": null,
     "suites": [
      {
       "cases": [
        {
         "code": ">>> isinstance(first_round(), list) and isinstance(second_round(), list)\nTrue",
         "hidden": false,
         "locked": false,
         "points": 0.5
        },
        {
         "code": ">>> first_pval < 1\nTrue",
         "hidden": false,
         "locked": false,
         "points": 0.5
        },
        {
         "code": ">>> first_result in ['NR', 'R']\nTrue",
         "hidden": false,
         "locked": false,
         "points": 0.5
        },
        {
         "code": ">>> second_pval < 1\nTrue",
         "hidden": false,
         "locked": false,
         "points": 0.5
        },
        {
         "code": ">>> second_result in ['NR', 'R']\nTrue",
         "hidden": false,
         "locked": false,
         "points": 0.5
        },
        {
         "code": ">>> second_result1 in ['ND', 'D']\nTrue",
         "hidden": false,
         "locked": false,
         "points": 0.5
        }
       ],
       "scored": true,
       "setup": "",
       "teardown": "",
       "type": "doctest"
      }
     ]
    },
    "q2": {
     "name": "q2",
     "points": null,
     "suites": [
      {
       "cases": [
        {
         "code": ">>> out1_q2['child_50'] < out1_q2['child_95']\nTrue",
         "hidden": false,
         "locked": false,
         "points": 0.5
        },
        {
         "code": ">>> out1_q2['child_5'] > out1_q2['child_50']\nTrue",
         "hidden": false,
         "locked": false,
         "points": 0.5
        },
        {
         "code": ">>> set(out2_q2) <= set(range(1, 6))\nTrue",
         "hidden": false,
         "locked": false,
         "points": 1
        }
       ],
       "scored": true,
       "setup": "",
       "teardown": "",
       "type": "doctest"
      }
     ]
    },
    "q3": {
     "name": "q3",
     "points": null,
     "suites": [
      {
       "cases": [
        {
         "code": ">>> out_q3.isna().sum() == 0\nTrue",
         "hidden": false,
         "locked": false,
         "points": 1
        },
        {
         "code": ">>> (new_heights['child'].std() - out_q3.std()) > 0.5\nTrue",
         "hidden": false,
         "locked": false,
         "points": 1
        }
       ],
       "scored": true,
       "setup": "",
       "teardown": "",
       "type": "doctest"
      }
     ]
    },
    "q4": {
     "name": "q4",
     "points": null,
     "suites": [
      {
       "cases": [
        {
         "code": ">>> quantitative_distribution_out_q4.min() >= 56\nTrue",
         "hidden": false,
         "locked": false,
         "points": 0.5
        },
        {
         "code": ">>> quantitative_distribution_out_q4.max() <= 79\nTrue",
         "hidden": false,
         "locked": false,
         "points": 0.5
        },
        {
         "code": ">>> np.isclose(quantitative_distribution_out_q4.mean(), child.mean(), atol=1)\nTrue",
         "hidden": false,
         "locked": false,
         "points": 0.5
        },
        {
         "code": ">>> np.isclose(quantitative_distribution_out_q4.std(), 3.5, atol=0.65)\nTrue",
         "hidden": false,
         "locked": false,
         "points": 0.5
        },
        {
         "code": ">>> impute_height_quant_out_q4.isna().sum() == 0\nTrue",
         "hidden": false,
         "locked": false,
         "points": 0.5
        },
        {
         "code": ">>> np.isclose(impute_height_quant_out_q4.mean(), child.mean(), atol=0.5)\nTrue",
         "hidden": false,
         "locked": false,
         "points": 0.5
        },
        {
         "code": ">>> np.isclose(impute_height_quant_out_q4.mean(), child.mean(), atol=0.2)\nTrue",
         "hidden": false,
         "locked": false,
         "points": 0.5
        },
        {
         "code": ">>> np.isclose(impute_height_quant_out_q4.std(), child.std(), atol=0.15)\nTrue",
         "hidden": false,
         "locked": false,
         "points": 0.5
        }
       ],
       "scored": true,
       "setup": "",
       "teardown": "",
       "type": "doctest"
      }
     ]
    },
    "q5": {
     "name": "q5",
     "points": null,
     "suites": [
      {
       "cases": [
        {
         "code": ">>> len(mc_answers) == 4\nTrue",
         "hidden": false,
         "locked": false,
         "points": 1
        },
        {
         "code": ">>> len(websites) == 6\nTrue",
         "hidden": false,
         "locked": false,
         "points": 1
        }
       ],
       "scored": true,
       "setup": "",
       "teardown": "",
       "type": "doctest"
      }
     ]
    }
   }
  }
 },
 "nbformat": 4,
 "nbformat_minor": 5
}
