{
 "cells": [
  {
   "cell_type": "code",
   "execution_count": 1,
   "metadata": {
    "deletable": false,
    "editable": false
   },
   "outputs": [],
   "source": [
    "# Initialize Otter\n",
    "import otter\n",
    "grader = otter.Notebook(\"lab.ipynb\")"
   ]
  },
  {
   "cell_type": "markdown",
   "metadata": {},
   "source": [
    "# Lab 1 – Introduction\n",
    "\n",
    "## DSC 80, Spring 2022\n",
    "\n",
    "### Due Date: Monday, April 4th at 11:59 PM"
   ]
  },
  {
   "cell_type": "markdown",
   "metadata": {},
   "source": [
    "## Instructions\n",
    "\n",
    "Welcome to the first assignment in DSC 80 this quarter!\n",
    "\n",
    "Much like in DSC 10, this Jupyter Notebook contains the statements of the problems and provides code and Markdown cells to display your answers to the problems. Unlike DSC 10, the notebook is *only* for displaying a readable version of your final answers. The coding will be done in an accompanying `lab.py` file that is imported into the current notebook.\n",
    "\n",
    "Labs and programming assignments will be graded in (at most) two ways:\n",
    "1. The functions and classes in the accompanying `.py` file will be tested (a la DSC 20),\n",
    "2. The notebook may be graded (if it contains free response questions or asks you to draw plots).\n",
    "\n",
    "**Note**: Labs will have public tests and private tests. The public \"smoke tests\" that you will run below and which appear on Gradescope are generally worth no points. After the due date, we will replace these tests with private tests that will determine your grade. This is different from DSC 10, where labs only had public tests!\n",
    "\n",
    "**Do not change the function names in the `*.py` file!**\n",
    "- The functions in the `*.py` file are how your assignment is graded, and they are graded by their name.\n",
    "- If you changed something you weren't supposed to, just use git to revert! Ask us if you need help with this, or google around for `git revert`.\n",
    "\n",
    "**Tips for working in the notebook**:\n",
    "- The notebooks serve to present the questions and give you a place to present your results for later review.\n",
    "- The notebooks in *lab assignments* are not graded (only the `.py` file is submitted and graded).\n",
    "- Notebooks for *projects* will serve as a final report for the assignment, and contain conclusions and answers to open ended questions that are graded.\n",
    "- The notebook serves as a nice environment for 'pre-development' and experimentation before designing your function in your `.py` file. You can write code here, but make sure that all of your real work is in the `.py` file.\n",
    "\n",
    "**Tips for developing in the `.py` file**:\n",
    "- Do not change the function names in the starter code; grading is done using these function names.\n",
    "- Do not change the docstrings in the functions. These are there to tell you if your work is on the right track!\n",
    "- You are encouraged to write your own additional helper functions to solve the lab! \n",
    "    - Developing in python usually consists of larger files, with many short functions.\n",
    "    - You may write your other functions in an additional `.py` file that you import in `lab.py` (much like we do in the notebook).\n",
    "- Always document your code!"
   ]
  },
  {
   "cell_type": "markdown",
   "metadata": {},
   "source": [
    "**Importing code from `lab.py`**:\n",
    "\n",
    "* Below, we import the `.py` file that's contained in the same directory as this notebook.\n",
    "* We use the `autoreload` notebook extension to make changes to our `lab.py` file immediately available in our notebook. Without this extension, we would need to restart the notebook kernel to see any changes to `lab.py` in the notebook.\n",
    "    - `autoreload` is necessary because, upon import, `lab.py` is compiled to bytecode (in the directory `__pycache__`). Subsequent imports of `lab` merely import the existing compiled python."
   ]
  },
  {
   "cell_type": "code",
   "execution_count": 53,
   "metadata": {},
   "outputs": [
    {
     "name": "stdout",
     "output_type": "stream",
     "text": [
      "The autoreload extension is already loaded. To reload it, use:\n",
      "  %reload_ext autoreload\n"
     ]
    }
   ],
   "source": [
    "%load_ext autoreload\n",
    "%autoreload 2"
   ]
  },
  {
   "cell_type": "code",
   "execution_count": 54,
   "metadata": {},
   "outputs": [],
   "source": [
    "from lab import *"
   ]
  },
  {
   "cell_type": "code",
   "execution_count": 55,
   "metadata": {},
   "outputs": [],
   "source": [
    "import os\n",
    "import io\n",
    "import pandas as pd\n",
    "import numpy as np\n",
    "import doctest"
   ]
  },
  {
   "cell_type": "markdown",
   "metadata": {},
   "source": [
    "### Infrastructure Summary\n",
    "\n",
    "Run the following cell to see a [YouTube video 🎥](https://youtu.be/FpTo4AM9B30) that summarizes the above information and walks you through how to\n",
    "- set up your programming environment (see the instructions in [Tech Support](https://dsc80.com/tech_support) for more details),\n",
    "- access assignments,\n",
    "- work on and test assignments, and\n",
    "- submit assignments.\n",
    "\n",
    "The video is also linked on the [Resources tab of the course website](https://dsc80.com/resources)."
   ]
  },
  {
   "cell_type": "code",
   "execution_count": 5,
   "metadata": {},
   "outputs": [
    {
     "data": {
      "image/jpeg": "[encoded data removed]",
      "text/html": [
       "\n",
       "        <iframe\n",
       "            width=\"400\"\n",
       "            height=\"300\"\n",
       "            src=\"https://www.youtube.com/embed/FpTo4AM9B30\"\n",
       "            frameborder=\"0\"\n",
       "            allowfullscreen\n",
       "            \n",
       "        ></iframe>\n",
       "        "
      ],
      "text/plain": [
       "<IPython.lib.display.YouTubeVideo at 0x7fddfae882e0>"
      ]
     },
     "execution_count": 5,
     "metadata": {},
     "output_type": "execute_result"
    }
   ],
   "source": [
    "from IPython.display import YouTubeVideo\n",
    "YouTubeVideo('FpTo4AM9B30')"
   ]
  },
  {
   "cell_type": "markdown",
   "metadata": {},
   "source": [
    "Let's get started! 🎉"
   ]
  },
  {
   "cell_type": "markdown",
   "metadata": {},
   "source": [
    "## Part 1: Python Basics 🐍"
   ]
  },
  {
   "cell_type": "markdown",
   "metadata": {},
   "source": [
    "### Question 0 – Consecutive Integers\n",
    "\n",
    "Complete the implementation of the function `consecutive_ints`, which takes in a possibly empty list of integers (`ints`) and returns `True` if there exist two adjacent list elements that are consecutive integers and `False` otherwise.\n",
    "\n",
    "For example, since `9` is next to `8`, `consecutive_ints([5, 3, 6, 4, 9, 8])` should evaluate to `True`, since `9` and `8` are consecutive integers. On the other hand, `consecutive_ints([1, 3, 5, 7, 9])` should evaluate to `False`.\n",
    "\n",
    "***Note***: If you look at `lab.py`, you'll notice that the solution to this problem is already there. This question is done for you to show you what a completed homework problem looks like."
   ]
  },
  {
   "cell_type": "code",
   "execution_count": 5,
   "metadata": {
    "tags": []
   },
   "outputs": [],
   "source": [
    "# The cells below are here for you to write scratch work in. \n",
    "# You should write the code for your answer in `lab.py`, not here."
   ]
  },
  {
   "cell_type": "code",
   "execution_count": 6,
   "metadata": {
    "tags": []
   },
   "outputs": [
    {
     "data": {
      "text/plain": [
       "True"
      ]
     },
     "execution_count": 6,
     "metadata": {},
     "output_type": "execute_result"
    }
   ],
   "source": [
    "consecutive_ints([5,3,6,4,9,8])"
   ]
  },
  {
   "cell_type": "code",
   "execution_count": 7,
   "metadata": {
    "tags": []
   },
   "outputs": [
    {
     "data": {
      "text/plain": [
       "False"
      ]
     },
     "execution_count": 7,
     "metadata": {},
     "output_type": "execute_result"
    }
   ],
   "source": [
    "consecutive_ints([1, 3, 5, 7, 9])"
   ]
  },
  {
   "cell_type": "markdown",
   "metadata": {},
   "source": [
    "There are two ways to test your code:\n",
    "\n",
    "1. Run the cell below containing `grader.check` to test your code.\n",
    "2. Run doctests on `lab.py` by running the following command on the command line:\n",
    "```\n",
    "python -m doctest lab.py\n",
    "```\n",
    "If the doctests pass, then there should be *no* output.\n",
    "\n",
    "The `grader.check` tests in your notebook will **always include** the doctests, so you do not need to run both. However, it is a good idea to run the doctests separately in the command line because that will ensure that all of your code is in `lab.py`, which is where it needs to be.\n",
    "\n",
    "In addition, you should also try writing some of your own tests by calling your functions on different inputs. Does it work for corner cases? Real-world data is **very messy** and you should expect your data processing code to break without thorough testing!"
   ]
  },
  {
   "cell_type": "code",
   "execution_count": 9,
   "metadata": {
    "deletable": false,
    "editable": false
   },
   "outputs": [
    {
     "data": {
      "text/html": [
       "<p><strong><pre style='display: inline;'>q0</pre></strong> passed!</p>"
      ],
      "text/plain": [
       "q0 results: All test cases passed!"
      ]
     },
     "execution_count": 9,
     "metadata": {},
     "output_type": "execute_result"
    }
   ],
   "source": [
    "grader.check(\"q0\")"
   ]
  },
  {
   "cell_type": "markdown",
   "metadata": {},
   "source": [
    "### Question 1 – Median vs. Mean\n",
    "\n",
    "Complete the implementation of the function `median_vs_mean`, which takes in a non-empty list of numbers (`nums`) and returns `True` if median of the list is less than or equal to the mean of the list and `False` otherwise.\n",
    "\n",
    "Recall, if a list has even length, the median is the mean of the middle two elements.\n",
    "\n",
    "***Note:*** In this question, you may only use built-in functions and methods in Python. You should not use `numpy` or `pandas` at all, nor should you import any additional packages."
   ]
  },
  {
   "cell_type": "code",
   "execution_count": 9,
   "metadata": {},
   "outputs": [
    {
     "data": {
      "text/plain": [
       "7"
      ]
     },
     "execution_count": 9,
     "metadata": {},
     "output_type": "execute_result"
    }
   ],
   "source": [
    "int(7.9)"
   ]
  },
  {
   "cell_type": "code",
   "execution_count": 11,
   "metadata": {},
   "outputs": [
    {
     "data": {
      "text/plain": [
       "26"
      ]
     },
     "execution_count": 11,
     "metadata": {},
     "output_type": "execute_result"
    }
   ],
   "source": [
    "int(53/2)"
   ]
  },
  {
   "cell_type": "code",
   "execution_count": 8,
   "metadata": {},
   "outputs": [
    {
     "data": {
      "text/plain": [
       "2.0"
      ]
     },
     "execution_count": 8,
     "metadata": {},
     "output_type": "execute_result"
    }
   ],
   "source": [
    "mean([1,2,3])"
   ]
  },
  {
   "cell_type": "code",
   "execution_count": 11,
   "metadata": {},
   "outputs": [
    {
     "data": {
      "text/plain": [
       "[1, 3, 3, 5, 6, 8, 9, 10]"
      ]
     },
     "execution_count": 11,
     "metadata": {},
     "output_type": "execute_result"
    }
   ],
   "source": [
    "sorted([1,5,8,3,6,3,9,10])"
   ]
  },
  {
   "cell_type": "code",
   "execution_count": 12,
   "metadata": {},
   "outputs": [
    {
     "data": {
      "text/plain": [
       "5.5"
      ]
     },
     "execution_count": 12,
     "metadata": {},
     "output_type": "execute_result"
    }
   ],
   "source": [
    "median([1,5,8,3,6,3,9,10])"
   ]
  },
  {
   "cell_type": "code",
   "execution_count": 13,
   "metadata": {},
   "outputs": [
    {
     "data": {
      "text/plain": [
       "3"
      ]
     },
     "execution_count": 13,
     "metadata": {},
     "output_type": "execute_result"
    }
   ],
   "source": [
    "median([1,2,3,4,5])"
   ]
  },
  {
   "cell_type": "code",
   "execution_count": 14,
   "metadata": {
    "tags": []
   },
   "outputs": [
    {
     "data": {
      "text/plain": [
       "True"
      ]
     },
     "execution_count": 14,
     "metadata": {},
     "output_type": "execute_result"
    }
   ],
   "source": [
    " median_vs_mean([6, 5, 4, 3, 2])"
   ]
  },
  {
   "cell_type": "code",
   "execution_count": 15,
   "metadata": {
    "scrolled": true,
    "tags": []
   },
   "outputs": [
    {
     "data": {
      "text/plain": [
       "True"
      ]
     },
     "execution_count": 15,
     "metadata": {},
     "output_type": "execute_result"
    }
   ],
   "source": [
    "median_vs_mean([50, 20, 15, 40])"
   ]
  },
  {
   "cell_type": "code",
   "execution_count": 16,
   "metadata": {},
   "outputs": [
    {
     "data": {
      "text/plain": [
       "False"
      ]
     },
     "execution_count": 16,
     "metadata": {},
     "output_type": "execute_result"
    }
   ],
   "source": [
    "median_vs_mean([1, 8, 9])"
   ]
  },
  {
   "cell_type": "code",
   "execution_count": 17,
   "metadata": {
    "deletable": false,
    "editable": false
   },
   "outputs": [
    {
     "data": {
      "text/html": [
       "<p><strong><pre style='display: inline;'>q1</pre></strong> passed!</p>"
      ],
      "text/plain": [
       "q1 results: All test cases passed!"
      ]
     },
     "execution_count": 17,
     "metadata": {},
     "output_type": "execute_result"
    }
   ],
   "source": [
    "grader.check(\"q1\")"
   ]
  },
  {
   "cell_type": "markdown",
   "metadata": {},
   "source": [
    "### Question 2 – Same Difference\n",
    "\n",
    "Complete the implementation of the function `same_diff_ints`, which takes in a list of integers (`ints`) and returns `True` if there exist two list elements $i$ positions apart, whose absolute difference as integers is also $i$. If there are no two elements satisfying this condition, `same_diff_ints` should return `False`.\n",
    "\n",
    "For example, because `3` (position 1) `5` (position 3) are 2 positions apart, and $|3-5| = 2$:\n",
    "```py\n",
    ">>> same_diff_ints([5, 3, 1, 5, 9, 8])\n",
    "True\n",
    "```\n",
    "Whereas:\n",
    "```py\n",
    ">>> same_diff_ints([1, 3, 5, 7, 9])\n",
    "False\n",
    "```\n",
    "\n",
    "**Important:** While implementing `same_diff_ints`, we will assume that `ints` tends to satisfy the condition, and that the pair(s) saitifying the condition tend to be close together. As such, you must implement `same_diff_ints` such that it **runs quicker in cases where the pairs are close together than in cases where the pairs are further apart**. While you will still likely need a nested `for`-loop, this will inform how you configure your loop variables. (Optimizing your code for an assumed distribution of incoming data is very common in data science).\n",
    "\n",
    "***Hint 1:*** This is similar to Question 0.\n",
    "\n",
    "***Hint 2:*** Make sure to define some extreme test cases, like when `ints` is an empty list. Also, use the `%%time` magic command to time your function, to make sure it satisfies the optimization requirement above."
   ]
  },
  {
   "cell_type": "code",
   "execution_count": 94,
   "metadata": {},
   "outputs": [
    {
     "name": "stdout",
     "output_type": "stream",
     "text": [
      "True\n"
     ]
    }
   ],
   "source": [
    "print(same_diff_ints([0,1,2,3]))\n"
   ]
  },
  {
   "cell_type": "code",
   "execution_count": 93,
   "metadata": {
    "scrolled": true,
    "tags": []
   },
   "outputs": [
    {
     "data": {
      "text/plain": [
       "True"
      ]
     },
     "execution_count": 93,
     "metadata": {},
     "output_type": "execute_result"
    }
   ],
   "source": [
    "same_diff_ints([5,4])"
   ]
  },
  {
   "cell_type": "code",
   "execution_count": 91,
   "metadata": {},
   "outputs": [
    {
     "data": {
      "text/plain": [
       "False"
      ]
     },
     "execution_count": 91,
     "metadata": {},
     "output_type": "execute_result"
    }
   ],
   "source": [
    "same_diff_ints([1, 3, 5, 7, 9,90])"
   ]
  },
  {
   "cell_type": "code",
   "execution_count": 92,
   "metadata": {
    "tags": []
   },
   "outputs": [
    {
     "data": {
      "text/plain": [
       "False"
      ]
     },
     "execution_count": 92,
     "metadata": {},
     "output_type": "execute_result"
    }
   ],
   "source": [
    "same_diff_ints([1, 3, 5, 7, 9])"
   ]
  },
  {
   "cell_type": "markdown",
   "metadata": {},
   "source": [
    "Make sure your function runs in under 5 seconds."
   ]
  },
  {
   "cell_type": "code",
   "execution_count": 104,
   "metadata": {},
   "outputs": [
    {
     "name": "stdout",
     "output_type": "stream",
     "text": [
      "CPU times: user 8 µs, sys: 3 µs, total: 11 µs\n",
      "Wall time: 13.8 µs\n"
     ]
    },
    {
     "data": {
      "text/plain": [
       "True"
      ]
     },
     "execution_count": 104,
     "metadata": {},
     "output_type": "execute_result"
    }
   ],
   "source": [
    "%%time\n",
    "same_diff_ints([5, 3, 1, 5, 9, 8])"
   ]
  },
  {
   "cell_type": "code",
   "execution_count": 105,
   "metadata": {
    "deletable": false,
    "editable": false
   },
   "outputs": [
    {
     "data": {
      "text/html": [
       "<p><strong><pre style='display: inline;'>q2</pre></strong> passed!</p>"
      ],
      "text/plain": [
       "q2 results: All test cases passed!"
      ]
     },
     "execution_count": 105,
     "metadata": {},
     "output_type": "execute_result"
    }
   ],
   "source": [
    "grader.check(\"q2\")"
   ]
  },
  {
   "cell_type": "markdown",
   "metadata": {},
   "source": [
    "## Part 2: Strings and Files 🧵\n",
    "\n",
    "The following questions will familiarize you with the basics of working with strings and reading data from files. Remember that by default, data from files are stored as strings in Python."
   ]
  },
  {
   "cell_type": "markdown",
   "metadata": {},
   "source": [
    "### Question 3 – $n$ Prefixes\n",
    "\n",
    "Complete the implementation of the function `n_prefixes`, which takes a string `s` and a positive integer `n`. It returns a string containing the first `n` consecutive prefixes of `s` in reverse order.\n",
    "\n",
    "For example, let's suppose `s` is the string `'Billy!'` and `n` is `4`. The consecutive prefixes of `'Billy!'` are:\n",
    "- `'B'`\n",
    "- `'Bi'`\n",
    "- `'Bil'`\n",
    "- `'Bill'`\n",
    "- `'Billy'`\n",
    "- `'Billy!'`\n",
    "\n",
    "The first 4 of these are `'B'`, `'Bi'`, `'Bil'`, and `'Bill'`. If we combine these 4 in reverse order, we get `'BillBilBiB'`, which is what `n_prefixes('Billy!', 4)` should return. See the doctests for more examples. **You may assume that `n` is no larger than the length of `s`.**\n",
    "\n",
    "***Hint:*** Recall that [strings may be sliced](https://docs.python.org/3/tutorial/introduction.html#strings), like lists."
   ]
  },
  {
   "cell_type": "code",
   "execution_count": 22,
   "metadata": {
    "tags": []
   },
   "outputs": [
    {
     "data": {
      "text/plain": [
       "'BillBilBiB'"
      ]
     },
     "execution_count": 22,
     "metadata": {},
     "output_type": "execute_result"
    }
   ],
   "source": [
    "n_prefixes('Billy!', 4)"
   ]
  },
  {
   "cell_type": "code",
   "execution_count": 23,
   "metadata": {
    "tags": []
   },
   "outputs": [
    {
     "data": {
      "text/plain": [
       "'MarMaM'"
      ]
     },
     "execution_count": 23,
     "metadata": {},
     "output_type": "execute_result"
    }
   ],
   "source": [
    "n_prefixes('Marina', 3)"
   ]
  },
  {
   "cell_type": "code",
   "execution_count": 24,
   "metadata": {},
   "outputs": [
    {
     "data": {
      "text/plain": [
       "'aaa'"
      ]
     },
     "execution_count": 24,
     "metadata": {},
     "output_type": "execute_result"
    }
   ],
   "source": [
    "n_prefixes('aaron', 2)"
   ]
  },
  {
   "cell_type": "code",
   "execution_count": 25,
   "metadata": {},
   "outputs": [
    {
     "data": {
      "text/plain": [
       "'JustiJustJusJuJ'"
      ]
     },
     "execution_count": 25,
     "metadata": {},
     "output_type": "execute_result"
    }
   ],
   "source": [
    "n_prefixes('Justin', 5)"
   ]
  },
  {
   "cell_type": "code",
   "execution_count": 26,
   "metadata": {
    "deletable": false,
    "editable": false
   },
   "outputs": [
    {
     "data": {
      "text/html": [
       "<p><strong><pre style='display: inline;'>q3</pre></strong> passed!</p>"
      ],
      "text/plain": [
       "q3 results: All test cases passed!"
      ]
     },
     "execution_count": 26,
     "metadata": {},
     "output_type": "execute_result"
    }
   ],
   "source": [
    "grader.check(\"q3\")"
   ]
  },
  {
   "cell_type": "markdown",
   "metadata": {},
   "source": [
    "### Question 4 – Exploded Numbers 💣\n",
    "\n",
    "Complete the implementation of the function `exploded_numbers`, which takes in a list of integers (`ints`) and a non-negative integer (`n`) and **returns a list of strings** containing numbers from the list expanded by `n` numbers in both directions, separated by spaces. Each integer should be [zero padded](https://www.tutorialspoint.com/python/string_zfill.htm) so that all integers outputted have the same length.\n",
    "\n",
    "For example, consider `exploded_numbers([3, 8, 15], 2)`.\n",
    "- If we explode 3 by 2 numbers in both directions, we get 1, 2, 3, 4, 5.\n",
    "- If we explode 8 by 2 numbers in both directions, we get 6, 7, 8, 9, 10.\n",
    "- If we explode 15 by 2 numbers in both directions, we get 13, 14, 15, 16, 17.\n",
    "\n",
    "The longest length of any of the exploded numbers above is 2, so all of the outputted integers should have length 2.\n",
    "\n",
    "- The string corresponding to 3 in the input is `'01 02 03 04 05'`.\n",
    "- The string corresponding to 8 in the input is `'06 07 08 09 10'`.\n",
    "- The string corresponding to 15 in the input is `'13 14 15 16 17'`.\n",
    "\n",
    "So, `exploded_numbers([3, 8, 15], 2)` should return `['01 02 03 04 05', '06 07 08 09 10', '13 14 15 16 17']`. See the doctest for another example.\n",
    "\n",
    "***Note***: You can assume that negative numbers will never be encountered. That is, when testing your code, we will never explode a number so much that it becomes negative."
   ]
  },
  {
   "cell_type": "code",
   "execution_count": 27,
   "metadata": {
    "tags": []
   },
   "outputs": [
    {
     "data": {
      "text/plain": [
       "True"
      ]
     },
     "execution_count": 27,
     "metadata": {},
     "output_type": "execute_result"
    }
   ],
   "source": [
    "exploded_numbers([3, 8, 15], 2) == ['01 02 03 04 05', '06 07 08 09 10', '13 14 15 16 17']"
   ]
  },
  {
   "cell_type": "code",
   "execution_count": 28,
   "metadata": {
    "tags": []
   },
   "outputs": [
    {
     "data": {
      "text/plain": [
       "['006 007 008 009 010 011 012', '096 097 098 099 100 101 102']"
      ]
     },
     "execution_count": 28,
     "metadata": {},
     "output_type": "execute_result"
    }
   ],
   "source": [
    "exploded_numbers([9, 99], 3)"
   ]
  },
  {
   "cell_type": "code",
   "execution_count": 29,
   "metadata": {},
   "outputs": [
    {
     "data": {
      "text/plain": [
       "True"
      ]
     },
     "execution_count": 29,
     "metadata": {},
     "output_type": "execute_result"
    }
   ],
   "source": [
    "exploded_numbers([9, 99], 3) == ['006 007 008 009 010 011 012', '096 097 098 099 100 101 102']"
   ]
  },
  {
   "cell_type": "code",
   "execution_count": 30,
   "metadata": {
    "deletable": false,
    "editable": false
   },
   "outputs": [
    {
     "data": {
      "text/html": [
       "<p><strong><pre style='display: inline;'>q4</pre></strong> passed!</p>"
      ],
      "text/plain": [
       "q4 results: All test cases passed!"
      ]
     },
     "execution_count": 30,
     "metadata": {},
     "output_type": "execute_result"
    }
   ],
   "source": [
    "grader.check(\"q4\")"
   ]
  },
  {
   "cell_type": "markdown",
   "metadata": {},
   "source": [
    "### Question 5 – Reading Files\n",
    "\n",
    "[Recall](https://docs.python.org/3/tutorial/inputoutput.html#reading-and-writing-files) that the built-in function `open` takes in a file path and returns *a file object* (sometimes called a *file handle*). Below are a few properties of file objects:\n",
    "\n",
    "* `open(path)` opens the file at location `path` for reading.\n",
    "* `open(path)` is an *iterable*, which contains successive lines of the file.\n",
    "* Once a file object is opened, after use it should be closed to avoid memory leaks. To ensure a file is closed once done, you should use a *context manager* as follows:\n",
    "```py\n",
    "with open(path) as fh:\n",
    "    for line in fh:\n",
    "        process_line(line)\n",
    "```\n",
    "* To read the entire file into a string, use the `read` method:\n",
    "```py\n",
    "with open(path) as fh:\n",
    "    s = fh.read()\n",
    "```\n",
    "\n",
    "However, you should be careful when reading an entire file into memory that the file isn't too big! *You should avoid this whenever possible!*\n",
    "\n",
    "Complete the implementation of the function `last_chars`, which takes in file object (`fh`) and returns a string consisting of the last character of each line. Note that you don't have to use `open` at all; the argument given to you is a file object, not a file path.\n",
    "\n",
    "***Note:*** A newline (`'\\n'`) is the \"delimiter\" of the lines of a file, and doesn't count as part of the line (as the tests imply). Every other character is part of the line. For more info on this, see [the interpretation](https://en.wikipedia.org/wiki/Newline#Interpretation) of files as a 'newline delimited variables' file."
   ]
  },
  {
   "cell_type": "code",
   "execution_count": 31,
   "metadata": {
    "tags": []
   },
   "outputs": [
    {
     "data": {
      "text/plain": [
       "'hrg'"
      ]
     },
     "execution_count": 31,
     "metadata": {},
     "output_type": "execute_result"
    }
   ],
   "source": [
    "fp = os.path.join('data', 'chars.txt')\n",
    "last_chars(open(fp))"
   ]
  },
  {
   "cell_type": "code",
   "execution_count": null,
   "metadata": {
    "tags": []
   },
   "outputs": [],
   "source": []
  },
  {
   "cell_type": "code",
   "execution_count": 32,
   "metadata": {
    "deletable": false,
    "editable": false
   },
   "outputs": [
    {
     "data": {
      "text/html": [
       "<p><strong><pre style='display: inline;'>q5</pre></strong> passed!</p>"
      ],
      "text/plain": [
       "q5 results: All test cases passed!"
      ]
     },
     "execution_count": 32,
     "metadata": {},
     "output_type": "execute_result"
    }
   ],
   "source": [
    "grader.check(\"q5\")"
   ]
  },
  {
   "cell_type": "markdown",
   "metadata": {},
   "source": [
    "## Part 3: `numpy` exercises 🥧\n",
    "\n",
    "For a refresher on `numpy` and arrays, refer to the relevant section of the [DSC 10 course notes](https://notes.dsc10.com/02-data_sets/arrays.html)."
   ]
  },
  {
   "cell_type": "markdown",
   "metadata": {},
   "source": [
    "### Question 6 – Array Methods\n",
    "\n",
    "Complete the implementations of the functions `add_root` and `where_square`. Specifications are given below. Your solutions should **not** contain any loops or list comprehensions.\n",
    "\n",
    "#### `add_root`\n",
    "\n",
    "`add_root` should take in a `numpy` array, `A`, and return a new `numpy` array that contains the element-wise sum of the elements in `A` with the _square roots of the positions of the elements in `A`_. If `A` contains the values 5, 9, and 4, the output array should contain the values 5 (5 + $\\sqrt{0}$), 10 (9 + $\\sqrt{1}$), and 5.4142... (4 + $\\sqrt{2}$).\n",
    "\n",
    "#### `where_square`\n",
    "\n",
    "`where_square` should take in a `numpy` array, `A`, and return a new `numpy` array of Booleans whose `i`th element is `True` if and only if the `i`th element of `A` is a perfect square."
   ]
  },
  {
   "cell_type": "code",
   "execution_count": 33,
   "metadata": {
    "tags": []
   },
   "outputs": [
    {
     "data": {
      "text/plain": [
       "array([2.        , 5.        , 7.41421356, 8.73205081])"
      ]
     },
     "execution_count": 33,
     "metadata": {},
     "output_type": "execute_result"
    }
   ],
   "source": [
    "l = np.array([2, 4, 6, 7])\n",
    "add_root(l)"
   ]
  },
  {
   "cell_type": "code",
   "execution_count": 107,
   "metadata": {},
   "outputs": [
    {
     "data": {
      "text/plain": [
       "dtype('float64')"
      ]
     },
     "execution_count": 107,
     "metadata": {},
     "output_type": "execute_result"
    }
   ],
   "source": [
    "A = np.array([2, 4, 6, 7])\n",
    "out = add_root(A)\n",
    "isinstance(out, np.ndarray)\n",
    "out.dtype\n",
    "\n"
   ]
  },
  {
   "cell_type": "code",
   "execution_count": 35,
   "metadata": {},
   "outputs": [
    {
     "data": {
      "text/plain": [
       "True"
      ]
     },
     "execution_count": 35,
     "metadata": {},
     "output_type": "execute_result"
    }
   ],
   "source": [
    "  \n",
    "np.all(out >= A)"
   ]
  },
  {
   "cell_type": "code",
   "execution_count": 36,
   "metadata": {},
   "outputs": [
    {
     "data": {
      "text/plain": [
       "True"
      ]
     },
     "execution_count": 36,
     "metadata": {},
     "output_type": "execute_result"
    }
   ],
   "source": [
    "    \n",
    "np.isclose(out[3], 7 + np.sqrt(3))"
   ]
  },
  {
   "cell_type": "code",
   "execution_count": 37,
   "metadata": {
    "tags": []
   },
   "outputs": [
    {
     "data": {
      "text/plain": [
       "3.0"
      ]
     },
     "execution_count": 37,
     "metadata": {},
     "output_type": "execute_result"
    }
   ],
   "source": [
    "np.sqrt(9)"
   ]
  },
  {
   "cell_type": "code",
   "execution_count": 108,
   "metadata": {},
   "outputs": [],
   "source": [
    "out = where_square(np.array([1, 2, 16, 17, 32, 49]))"
   ]
  },
  {
   "cell_type": "code",
   "execution_count": 39,
   "metadata": {},
   "outputs": [
    {
     "data": {
      "text/plain": [
       "True"
      ]
     },
     "execution_count": 39,
     "metadata": {},
     "output_type": "execute_result"
    }
   ],
   "source": [
    "isinstance(out, np.ndarray)"
   ]
  },
  {
   "cell_type": "code",
   "execution_count": 40,
   "metadata": {},
   "outputs": [
    {
     "data": {
      "text/plain": [
       "True"
      ]
     },
     "execution_count": 40,
     "metadata": {},
     "output_type": "execute_result"
    }
   ],
   "source": [
    "out.dtype == np.dtype('bool')"
   ]
  },
  {
   "cell_type": "code",
   "execution_count": 109,
   "metadata": {},
   "outputs": [
    {
     "data": {
      "text/plain": [
       "True"
      ]
     },
     "execution_count": 109,
     "metadata": {},
     "output_type": "execute_result"
    }
   ],
   "source": [
    "out[2]"
   ]
  },
  {
   "cell_type": "code",
   "execution_count": 110,
   "metadata": {},
   "outputs": [
    {
     "data": {
      "text/plain": [
       "array([ True, False,  True, False, False,  True])"
      ]
     },
     "execution_count": 110,
     "metadata": {},
     "output_type": "execute_result"
    }
   ],
   "source": [
    "out"
   ]
  },
  {
   "cell_type": "code",
   "execution_count": 43,
   "metadata": {
    "deletable": false,
    "editable": false
   },
   "outputs": [
    {
     "data": {
      "text/html": [
       "<p><strong><pre style='display: inline;'>q6</pre></strong> passed!</p>"
      ],
      "text/plain": [
       "q6 results: All test cases passed!"
      ]
     },
     "execution_count": 43,
     "metadata": {},
     "output_type": "execute_result"
    }
   ],
   "source": [
    "grader.check(\"q6\")"
   ]
  },
  {
   "cell_type": "markdown",
   "metadata": {},
   "source": [
    "### Question 7 – Stock Prices 📈\n",
    "\n",
    "Complete the implementations of the functions `growth_rates` and `with_leftover`. Specifications are given below. Your solutions should **not** contain any loops or list comprehensions.\n",
    "\n",
    "#### `growth_rates`\n",
    "\n",
    "`growth_rates` should take in a `numpy` array, `A`, of [stock prices](https://en.wikipedia.org/wiki/Stock) for a single stock on successive days in USD. It should return an array of growth rates. That is, the `i`th number of the returned array should contain the rate of growth in stock price between the $i^{th}$ day to the $(i+1)^{th}$ day. The growth rate between two values is defined as $\\frac{\\text{final} - \\text{initial}}{\\text{initial}}$. You should return growth rates as **proportions, rounded to two decimal places**.\n",
    "\n",
    "#### `with_leftover`\n",
    "\n",
    "Again, suppose `A` is a `numpy` array of stock prices. Consider the following scheme: \n",
    "\n",
    "- Suppose that you start each day with \\$20 to purchase stocks. \n",
    "- Each day, you purchase as many shares as possible of the stock. (The price changes each day, according to `A`.)\n",
    "- Any money left-over after a given day is saved for possibly buying stock on a future day.\n",
    "\n",
    "The function `with_leftover` should take in `A` and return the day (as an `int`) on which you can buy at least one full share using just \"left-over\" money. If this never happens, return `-1`. Note that the first stock purchase occurs on Day 0, and that you cannot purchase fractions of a share of a stock.\n",
    "\n",
    "For example, if the stock price is \\$3 every day, then the answer is `1` (corresponding to Day 1):\n",
    "- Day 0: Buy 6 stocks with \\\\$20, and \\\\$2 is added to the leftover. Your total leftover is currently \\\\$2. This is not enough to buy one extra share, so you continue.\n",
    "- Day 1: Buy 6 stocks with \\\\$20, and another \\\\$2 is added to the leftover. Your total leftover is now \\\\$4, so you can now buy one extra share. Hence, the answer is Day 1, and `with_leftover` should return `1`.\n",
    "\n",
    "***Hint:*** `np.cumsum` may be helpful."
   ]
  },
  {
   "cell_type": "code",
   "execution_count": 111,
   "metadata": {
    "tags": []
   },
   "outputs": [
    {
     "data": {
      "text/plain": [
       "True"
      ]
     },
     "execution_count": 111,
     "metadata": {},
     "output_type": "execute_result"
    }
   ],
   "source": [
    "fp = os.path.join('data', 'stocks.csv')\n",
    "\n",
    "stocks = np.array([float(x) for x in open(fp)])\n",
    "out = growth_rates(stocks)\n",
    "isinstance(out, np.ndarray)"
   ]
  },
  {
   "cell_type": "code",
   "execution_count": 112,
   "metadata": {},
   "outputs": [
    {
     "data": {
      "text/plain": [
       "array([-0.  ,  0.01, -0.01,  0.  ,  0.  , -0.  ,  0.02,  0.01,  0.02,\n",
       "        0.01,  0.01,  0.  ,  0.  ,  0.01, -0.  , -0.01, -0.  ,  0.  ,\n",
       "       -0.01,  0.01,  0.  , -0.  ,  0.02,  0.  ,  0.01, -0.  ,  0.  ,\n",
       "        0.01, -0.02,  0.01,  0.  , -0.01,  0.01,  0.  , -0.  , -0.01,\n",
       "        0.01,  0.03, -0.01, -0.  ,  0.01,  0.01,  0.  ,  0.  , -0.  ,\n",
       "        0.01,  0.01, -0.  ,  0.  ,  0.02, -0.01, -0.01,  0.01, -0.01,\n",
       "        0.01,  0.02, -0.01, -0.01, -0.  ,  0.01,  0.  , -0.  ,  0.  ,\n",
       "        0.01, -0.  ,  0.01, -0.  ,  0.01,  0.01,  0.01, -0.  , -0.  ,\n",
       "        0.01,  0.  ,  0.  ,  0.02, -0.02, -0.  ,  0.01,  0.  ,  0.01,\n",
       "        0.01, -0.  , -0.02, -0.01, -0.01, -0.01, -0.01,  0.  ,  0.01,\n",
       "        0.01,  0.01, -0.  ,  0.  , -0.  , -0.01,  0.01,  0.01,  0.  ])"
      ]
     },
     "execution_count": 112,
     "metadata": {},
     "output_type": "execute_result"
    }
   ],
   "source": [
    "out"
   ]
  },
  {
   "cell_type": "code",
   "execution_count": 45,
   "metadata": {
    "tags": []
   },
   "outputs": [
    {
     "data": {
      "text/plain": [
       "True"
      ]
     },
     "execution_count": 45,
     "metadata": {},
     "output_type": "execute_result"
    }
   ],
   "source": [
    "out.dtype == np.dtype('float')"
   ]
  },
  {
   "cell_type": "code",
   "execution_count": 46,
   "metadata": {},
   "outputs": [
    {
     "data": {
      "text/plain": [
       "True"
      ]
     },
     "execution_count": 46,
     "metadata": {},
     "output_type": "execute_result"
    }
   ],
   "source": [
    "out.max() == 0.03"
   ]
  },
  {
   "cell_type": "code",
   "execution_count": 47,
   "metadata": {},
   "outputs": [
    {
     "data": {
      "text/plain": [
       "99"
      ]
     },
     "execution_count": 47,
     "metadata": {},
     "output_type": "execute_result"
    }
   ],
   "source": [
    "len(out)"
   ]
  },
  {
   "cell_type": "code",
   "execution_count": 68,
   "metadata": {},
   "outputs": [
    {
     "data": {
      "text/plain": [
       "3"
      ]
     },
     "execution_count": 68,
     "metadata": {},
     "output_type": "execute_result"
    }
   ],
   "source": [
    "# Don't change this cell -- it is needed for the tests to work\n",
    "fp = os.path.join('data', 'stocks.csv')\n",
    "stocks = np.array([float(x) for x in open(fp)])\n",
    "out_3_stocks = growth_rates(stocks)\n",
    "\n",
    "A_4 = np.array([3, 5, 4, 3])\n",
    "out_4 = with_leftover(A_4)\n",
    "out_4 "
   ]
  },
  {
   "cell_type": "code",
   "execution_count": 49,
   "metadata": {},
   "outputs": [
    {
     "data": {
      "text/plain": [
       "array([ 1,  3,  6, 10, 15])"
      ]
     },
     "execution_count": 49,
     "metadata": {},
     "output_type": "execute_result"
    }
   ],
   "source": [
    "np.cumsum(np.array([1,2,3,4,5]))"
   ]
  },
  {
   "cell_type": "code",
   "execution_count": 50,
   "metadata": {},
   "outputs": [],
   "source": [
    "import numbers"
   ]
  },
  {
   "cell_type": "code",
   "execution_count": 118,
   "metadata": {},
   "outputs": [],
   "source": [
    "stocks = np.array([3, 7, 4, 3])"
   ]
  },
  {
   "cell_type": "code",
   "execution_count": 120,
   "metadata": {},
   "outputs": [],
   "source": [
    "out = with_leftover(stocks)"
   ]
  },
  {
   "cell_type": "code",
   "execution_count": 53,
   "metadata": {},
   "outputs": [
    {
     "data": {
      "text/plain": [
       "True"
      ]
     },
     "execution_count": 53,
     "metadata": {},
     "output_type": "execute_result"
    }
   ],
   "source": [
    "isinstance(out, numbers.Integral)"
   ]
  },
  {
   "cell_type": "code",
   "execution_count": 121,
   "metadata": {},
   "outputs": [
    {
     "data": {
      "text/plain": [
       "1"
      ]
     },
     "execution_count": 121,
     "metadata": {},
     "output_type": "execute_result"
    }
   ],
   "source": [
    "out "
   ]
  },
  {
   "cell_type": "code",
   "execution_count": 55,
   "metadata": {
    "deletable": false,
    "editable": false
   },
   "outputs": [
    {
     "data": {
      "text/html": [
       "<p><strong><pre style='display: inline;'>q7</pre></strong> passed!</p>"
      ],
      "text/plain": [
       "q7 results: All test cases passed!"
      ]
     },
     "execution_count": 55,
     "metadata": {},
     "output_type": "execute_result"
    }
   ],
   "source": [
    "grader.check(\"q7\")"
   ]
  },
  {
   "cell_type": "markdown",
   "metadata": {},
   "source": [
    "## Part 4: Introduction to `pandas` 🐼\n",
    "\n",
    "This part will help build familiarity with DataFrames in `pandas`. Fortunately, you've already a version of `pandas` before in DSC 10, called `babypandas`! Review the [DSC 10 course notes](https://notes.dsc10.com/02-data_sets/dataframes.html) as necessary.\n",
    "\n",
    "One key difference between `babypandas` and `pandas` is the idiomatic way of accessing a column. In `babypandas`, to access column `'x'` in DataFrame `df`, you used `df.get('x')`. In `pandas`, the more common way is `df['x']`.\n",
    "\n",
    "As always for `pandas` questions:\n",
    "1. Avoid writing loops through the rows of the DataFrame to do the problem, and\n",
    "2. Test the output/correctness of your code with the help of the dataset given, but be sure your code will also run on data that is similar to but different from the dataset given. (One way to do this is to sample rows from the provided DataFrame using the `.sample` method)."
   ]
  },
  {
   "cell_type": "markdown",
   "metadata": {},
   "source": [
    "The file `data/salary.csv` contains salary information for the 2021-22 National Basketball Association (NBA) season 🏀. Specifically, it contains the name, team, and salary of all players who have played at least 15 games this season. We will load this file and store it as a DataFrame named `salary`."
   ]
  },
  {
   "cell_type": "code",
   "execution_count": 69,
   "metadata": {},
   "outputs": [
    {
     "data": {
      "text/html": [
       "<div>\n",
       "<style scoped>\n",
       "    .dataframe tbody tr th:only-of-type {\n",
       "        vertical-align: middle;\n",
       "    }\n",
       "\n",
       "    .dataframe tbody tr th {\n",
       "        vertical-align: top;\n",
       "    }\n",
       "\n",
       "    .dataframe thead th {\n",
       "        text-align: right;\n",
       "    }\n",
       "</style>\n",
       "<table border=\"1\" class=\"dataframe\">\n",
       "  <thead>\n",
       "    <tr style=\"text-align: right;\">\n",
       "      <th></th>\n",
       "      <th>Player</th>\n",
       "      <th>Position</th>\n",
       "      <th>Team</th>\n",
       "      <th>Salary</th>\n",
       "    </tr>\n",
       "  </thead>\n",
       "  <tbody>\n",
       "    <tr>\n",
       "      <th>0</th>\n",
       "      <td>John Collins</td>\n",
       "      <td>PF</td>\n",
       "      <td>Atlanta Hawks</td>\n",
       "      <td>23000000</td>\n",
       "    </tr>\n",
       "    <tr>\n",
       "      <th>1</th>\n",
       "      <td>Danilo Gallinari</td>\n",
       "      <td>PF</td>\n",
       "      <td>Atlanta Hawks</td>\n",
       "      <td>20475000</td>\n",
       "    </tr>\n",
       "    <tr>\n",
       "      <th>2</th>\n",
       "      <td>Bogdan Bogdanović</td>\n",
       "      <td>SG</td>\n",
       "      <td>Atlanta Hawks</td>\n",
       "      <td>18000000</td>\n",
       "    </tr>\n",
       "    <tr>\n",
       "      <th>3</th>\n",
       "      <td>Clint Capela</td>\n",
       "      <td>C</td>\n",
       "      <td>Atlanta Hawks</td>\n",
       "      <td>17103448</td>\n",
       "    </tr>\n",
       "    <tr>\n",
       "      <th>4</th>\n",
       "      <td>Delon Wright</td>\n",
       "      <td>SG</td>\n",
       "      <td>Atlanta Hawks</td>\n",
       "      <td>8526316</td>\n",
       "    </tr>\n",
       "  </tbody>\n",
       "</table>\n",
       "</div>"
      ],
      "text/plain": [
       "              Player Position           Team    Salary\n",
       "0       John Collins       PF  Atlanta Hawks  23000000\n",
       "1   Danilo Gallinari       PF  Atlanta Hawks  20475000\n",
       "2  Bogdan Bogdanović       SG  Atlanta Hawks  18000000\n",
       "3       Clint Capela        C  Atlanta Hawks  17103448\n",
       "4       Delon Wright       SG  Atlanta Hawks   8526316"
      ]
     },
     "execution_count": 69,
     "metadata": {},
     "output_type": "execute_result"
    }
   ],
   "source": [
    "# Do not edit this cell -- it is needed for the tests\n",
    "salary_fp = os.path.join('data', 'salary.csv')\n",
    "salary = pd.read_csv(salary_fp)\n",
    "salary.head()"
   ]
  },
  {
   "cell_type": "markdown",
   "metadata": {},
   "source": [
    "### Question 8 – `pandas` Basics\n",
    "\n",
    "Your job is to complete the implementation of the function `salary_stats`, which takes in a DataFrame like `salary` and returns a **Series** containing the following statistics:\n",
    "- `'num_players'`: The number of players.\n",
    "- `'num_teams'`: The number of teams.\n",
    "- `'total_salary'`: The total salary amount for all players.\n",
    "- `'highest_salary'`: The name of the player with the highest salary. **Assume there are no ties.**\n",
    "- `'avg_los'`: The average salary of the `'Los Angeles Lakers'`, rounded to two decimal places.\n",
    "- `'fifth_lowest'`: The name and team of the player who has the fifth lowest salary, separated by a comma and a space (e.g. `'Billy Triton, Cleveland Cavaliers'`). **Assume there are no ties.**\n",
    "- `'duplicates'`: A Boolean that is `True` if there are any duplicate last names, and `False` otherwise.\n",
    "- `'total_highest'`: The total salary of the team that has the highest paid player.\n",
    "\n",
    "The index of each element in the outputted Series is specified above.\n",
    "\n",
    "***Note 1***: Your function should work on a dataset of the same format that contains information from other years. This means that `salary_stats` should not \"hard-code\" any numbers or strings, but should compute them all programatically. In all cases, you may assume that none of the answers involving ranking involves a tie.\n",
    "\n",
    "***Note 2***: The doctests and public tests don't test to see if your function returns the right numbers. You should manually inspect your result to make sure that all values seem appropriate."
   ]
  },
  {
   "cell_type": "code",
   "execution_count": null,
   "metadata": {
    "tags": []
   },
   "outputs": [],
   "source": []
  },
  {
   "cell_type": "code",
   "execution_count": null,
   "metadata": {
    "tags": []
   },
   "outputs": [],
   "source": []
  },
  {
   "cell_type": "code",
   "execution_count": 122,
   "metadata": {
    "tags": []
   },
   "outputs": [
    {
     "data": {
      "text/plain": [
       "num_players                                        50\n",
       "num_teams                                          26\n",
       "total_salary                                428424568\n",
       "highest_salary                           Kevin Durant\n",
       "avg_los                                     1789256.0\n",
       "fifth_lowest      Keita Bates-Diop, San Antonio Spurs\n",
       "duplicates                                       True\n",
       "total_highest                                46202282\n",
       "dtype: object"
      ]
     },
     "execution_count": 122,
     "metadata": {},
     "output_type": "execute_result"
    }
   ],
   "source": [
    "# Do not edit this cell -- it is needed for the tests\n",
    "salary_fp = os.path.join('data', 'salary.csv')\n",
    "salary = pd.read_csv(salary_fp)\n",
    "stats = salary_stats(salary)\n",
    "\n",
    "salary_sample = pd.read_csv('data/salary_sample.csv')\n",
    "sample_stats = salary_stats(salary_sample)\n",
    "sample_stats"
   ]
  },
  {
   "cell_type": "code",
   "execution_count": 100,
   "metadata": {},
   "outputs": [
    {
     "data": {
      "text/plain": [
       "'Stephen Curry'"
      ]
     },
     "execution_count": 100,
     "metadata": {},
     "output_type": "execute_result"
    }
   ],
   "source": [
    "salary.loc[salary['Salary'] == np.max(salary['Salary']), 'Player'].iloc[0]"
   ]
  },
  {
   "cell_type": "code",
   "execution_count": 164,
   "metadata": {},
   "outputs": [
    {
     "data": {
      "text/plain": [
       "130428103"
      ]
     },
     "execution_count": 164,
     "metadata": {},
     "output_type": "execute_result"
    }
   ],
   "source": [
    "highest_paid_team = salary.loc[salary['Salary'] == np.max(salary['Salary']), 'Team'].iloc[0]\n",
    "np.sum(salary.loc[salary['Team'] == highest_paid_team, 'Salary'])"
   ]
  },
  {
   "cell_type": "code",
   "execution_count": 175,
   "metadata": {
    "scrolled": true
   },
   "outputs": [
    {
     "data": {
      "text/plain": [
       "26"
      ]
     },
     "execution_count": 175,
     "metadata": {},
     "output_type": "execute_result"
    }
   ],
   "source": [
    "salary_sample.groupby('Team').count().shape[0] #.shape[0]"
   ]
  },
  {
   "cell_type": "code",
   "execution_count": 93,
   "metadata": {},
   "outputs": [
    {
     "data": {
      "text/plain": [
       "13266896.82"
      ]
     },
     "execution_count": 93,
     "metadata": {},
     "output_type": "execute_result"
    }
   ],
   "source": [
    "np.round(np.mean(salary.loc[salary['Team'] == 'Los Angeles Lakers', 'Salary']),2)"
   ]
  },
  {
   "cell_type": "code",
   "execution_count": 106,
   "metadata": {},
   "outputs": [
    {
     "data": {
      "text/plain": [
       "'Miye Oni, Oklahoma City Thunder'"
      ]
     },
     "execution_count": 106,
     "metadata": {},
     "output_type": "execute_result"
    }
   ],
   "source": [
    "fifth_lowest_name = salary.sort_values(by= 'Salary').iloc[4][0]\n",
    "fifth_lowest_team = salary.sort_values(by= 'Salary').iloc[4][2]\n",
    "fifth_lowest = fifth_lowest_name + \", \" + fifth_lowest_team\n",
    "fifth_lowest"
   ]
  },
  {
   "cell_type": "code",
   "execution_count": 109,
   "metadata": {},
   "outputs": [
    {
     "data": {
      "text/plain": [
       "381"
      ]
     },
     "execution_count": 109,
     "metadata": {},
     "output_type": "execute_result"
    }
   ],
   "source": [
    "salary.shape[0]"
   ]
  },
  {
   "cell_type": "code",
   "execution_count": 171,
   "metadata": {},
   "outputs": [],
   "source": [
    "def extract_last(full_name):\n",
    "    return full_name.split(' ')[1]"
   ]
  },
  {
   "cell_type": "code",
   "execution_count": 172,
   "metadata": {},
   "outputs": [
    {
     "data": {
      "text/plain": [
       "False"
      ]
     },
     "execution_count": 172,
     "metadata": {},
     "output_type": "execute_result"
    }
   ],
   "source": [
    "temp_df = pd.DataFrame(salary_sample['Player'].apply(extract_last)).groupby('Player').count().shape[0]\n",
    "temp_df\n",
    "\n",
    "orig_count = salary_sample.shape[0]\n",
    "temp_df == orig_count"
   ]
  },
  {
   "cell_type": "code",
   "execution_count": 143,
   "metadata": {},
   "outputs": [
    {
     "data": {
      "text/html": [
       "<div>\n",
       "<style scoped>\n",
       "    .dataframe tbody tr th:only-of-type {\n",
       "        vertical-align: middle;\n",
       "    }\n",
       "\n",
       "    .dataframe tbody tr th {\n",
       "        vertical-align: top;\n",
       "    }\n",
       "\n",
       "    .dataframe thead th {\n",
       "        text-align: right;\n",
       "    }\n",
       "</style>\n",
       "<table border=\"1\" class=\"dataframe\">\n",
       "  <thead>\n",
       "    <tr style=\"text-align: right;\">\n",
       "      <th></th>\n",
       "      <th>Player</th>\n",
       "    </tr>\n",
       "  </thead>\n",
       "  <tbody>\n",
       "    <tr>\n",
       "      <th>0</th>\n",
       "      <td>Collins</td>\n",
       "    </tr>\n",
       "    <tr>\n",
       "      <th>1</th>\n",
       "      <td>Gallinari</td>\n",
       "    </tr>\n",
       "    <tr>\n",
       "      <th>2</th>\n",
       "      <td>Bogdanović</td>\n",
       "    </tr>\n",
       "    <tr>\n",
       "      <th>3</th>\n",
       "      <td>Capela</td>\n",
       "    </tr>\n",
       "    <tr>\n",
       "      <th>4</th>\n",
       "      <td>Wright</td>\n",
       "    </tr>\n",
       "    <tr>\n",
       "      <th>...</th>\n",
       "      <td>...</td>\n",
       "    </tr>\n",
       "    <tr>\n",
       "      <th>376</th>\n",
       "      <td>Holiday</td>\n",
       "    </tr>\n",
       "    <tr>\n",
       "      <th>377</th>\n",
       "      <td>Kispert</td>\n",
       "    </tr>\n",
       "    <tr>\n",
       "      <th>378</th>\n",
       "      <td>Neto</td>\n",
       "    </tr>\n",
       "    <tr>\n",
       "      <th>379</th>\n",
       "      <td>Gafford</td>\n",
       "    </tr>\n",
       "    <tr>\n",
       "      <th>380</th>\n",
       "      <td>Gill</td>\n",
       "    </tr>\n",
       "  </tbody>\n",
       "</table>\n",
       "<p>381 rows × 1 columns</p>\n",
       "</div>"
      ],
      "text/plain": [
       "         Player\n",
       "0       Collins\n",
       "1     Gallinari\n",
       "2    Bogdanović\n",
       "3        Capela\n",
       "4        Wright\n",
       "..          ...\n",
       "376     Holiday\n",
       "377     Kispert\n",
       "378        Neto\n",
       "379     Gafford\n",
       "380        Gill\n",
       "\n",
       "[381 rows x 1 columns]"
      ]
     },
     "execution_count": 143,
     "metadata": {},
     "output_type": "execute_result"
    }
   ],
   "source": [
    "temp_df = pd.DataFrame(salary['Player'].apply(extract_last))#.groupby('Player').count()\n",
    "temp_df"
   ]
  },
  {
   "cell_type": "code",
   "execution_count": 140,
   "metadata": {},
   "outputs": [
    {
     "name": "stdout",
     "output_type": "stream",
     "text": [
      "There are no dupes\n"
     ]
    },
    {
     "data": {
      "text/plain": [
       "381"
      ]
     },
     "execution_count": 140,
     "metadata": {},
     "output_type": "execute_result"
    }
   ],
   "source": [
    "frame = salary['Player'].apply(extract_last)\n",
    "\n",
    "orig_player_count = frame.shape[0]\n",
    "dupe_count = salary.groupby('Player').count()\n",
    "dupe_count\n",
    "dupe_count = dupe_count.shape[0]\n",
    "if(dupe_count == orig_player_count):\n",
    "    print('There are no dupes')\n",
    "else:\n",
    "    print('There are dupes')\n",
    "\n",
    "frame\n",
    "dupe_count"
   ]
  },
  {
   "cell_type": "code",
   "execution_count": null,
   "metadata": {},
   "outputs": [],
   "source": []
  },
  {
   "cell_type": "code",
   "execution_count": null,
   "metadata": {},
   "outputs": [],
   "source": [
    "'Billy Triton, Cleveland Cavaliers'"
   ]
  },
  {
   "cell_type": "code",
   "execution_count": 166,
   "metadata": {
    "deletable": false,
    "editable": false,
    "scrolled": true
   },
   "outputs": [
    {
     "data": {
      "text/html": [
       "<p><strong><pre style='display: inline;'>q8</pre></strong> passed!</p>"
      ],
      "text/plain": [
       "q8 results: All test cases passed!"
      ]
     },
     "execution_count": 166,
     "metadata": {},
     "output_type": "execute_result"
    }
   ],
   "source": [
    "grader.check(\"q8\")"
   ]
  },
  {
   "cell_type": "markdown",
   "metadata": {},
   "source": [
    "### Question 9 – Reading Malformed `.csv` Files\n",
    "\n",
    "`data/malformed.csv` is a file of comma-separated values, containing the following fields:\n",
    "\n",
    "\n",
    "|column name|description|type|\n",
    "|---|---|---|\n",
    "|first|first name of person|str|\n",
    "|last|last name of person|str|\n",
    "|weight|weight of person (lbs)|float|\n",
    "|height|height of person (in)|float|\n",
    "|geo|location of person; comma-separated latitude/longitude|str|\n",
    "\n",
    "Unfortunately, the entries contains errors that cause `pandas`' `read_csv` function to fail parsing the file with the default settings. Instead, you must read in the file manually using Python's built-in `open` function.\n",
    "\n",
    "Complete the implementation of the function `parse_malformed`, which takes in a file path (`fp`) and returns a parsed, properly-typed DataFrame. The DataFrame should contain columns as described in the table above (with the specified types); it should agree with `pd.read_csv` when the lines are not malformed.\n",
    "\n",
    "***Note:*** Assume that the given `.csv` file is a sample of a larger file; you will be graded against a **different** sample of the larger file that has the same type of parsing errors. That is, you should **not** hard-code your cleaning of the data to specific errors on specific lines in the data.\n",
    "\n",
    "***Hint:*** Open `data/malformed.csv` in your text editor, and look very carefully at the placement of commas (`,`) and quotes (`\"`)."
   ]
  },
  {
   "cell_type": "code",
   "execution_count": null,
   "metadata": {
    "tags": []
   },
   "outputs": [],
   "source": []
  },
  {
   "cell_type": "code",
   "execution_count": null,
   "metadata": {
    "tags": []
   },
   "outputs": [],
   "source": []
  },
  {
   "cell_type": "code",
   "execution_count": 125,
   "metadata": {
    "scrolled": true,
    "tags": []
   },
   "outputs": [
    {
     "data": {
      "text/html": [
       "<div>\n",
       "<style scoped>\n",
       "    .dataframe tbody tr th:only-of-type {\n",
       "        vertical-align: middle;\n",
       "    }\n",
       "\n",
       "    .dataframe tbody tr th {\n",
       "        vertical-align: top;\n",
       "    }\n",
       "\n",
       "    .dataframe thead th {\n",
       "        text-align: right;\n",
       "    }\n",
       "</style>\n",
       "<table border=\"1\" class=\"dataframe\">\n",
       "  <thead>\n",
       "    <tr style=\"text-align: right;\">\n",
       "      <th></th>\n",
       "      <th>first</th>\n",
       "      <th>last</th>\n",
       "      <th>weight</th>\n",
       "      <th>height</th>\n",
       "      <th>geo</th>\n",
       "    </tr>\n",
       "  </thead>\n",
       "  <tbody>\n",
       "    <tr>\n",
       "      <th>0</th>\n",
       "      <td>first</td>\n",
       "      <td>last</td>\n",
       "      <td>weight</td>\n",
       "      <td>height</td>\n",
       "      <td>geo</td>\n",
       "    </tr>\n",
       "    <tr>\n",
       "      <th>1</th>\n",
       "      <td>Julia</td>\n",
       "      <td>Wagner</td>\n",
       "      <td>142.0</td>\n",
       "      <td>86.0</td>\n",
       "      <td>39.8,15.4</td>\n",
       "    </tr>\n",
       "    <tr>\n",
       "      <th>2</th>\n",
       "      <td>Angelica</td>\n",
       "      <td>Rija</td>\n",
       "      <td>155.0</td>\n",
       "      <td>56.0</td>\n",
       "      <td>38.2,-71.7</td>\n",
       "    </tr>\n",
       "    <tr>\n",
       "      <th>3</th>\n",
       "      <td>Tyler</td>\n",
       "      <td>Micajah</td>\n",
       "      <td>116.0</td>\n",
       "      <td>73.0\"</td>\n",
       "      <td>38.0,6.9</td>\n",
       "    </tr>\n",
       "    <tr>\n",
       "      <th>4</th>\n",
       "      <td>Kathleen</td>\n",
       "      <td>Nakea</td>\n",
       "      <td>163.0</td>\n",
       "      <td>69.0</td>\n",
       "      <td>36.3,-86.8</td>\n",
       "    </tr>\n",
       "    <tr>\n",
       "      <th>5</th>\n",
       "      <td>Axel</td>\n",
       "      <td>Ronit</td>\n",
       "      <td>95.0</td>\n",
       "      <td>74.0</td>\n",
       "      <td>36.8,128.2</td>\n",
       "    </tr>\n",
       "    <tr>\n",
       "      <th>6</th>\n",
       "      <td>Amiya</td>\n",
       "      <td>Kyona</td>\n",
       "      <td>130.0</td>\n",
       "      <td>72.0</td>\n",
       "      <td>36.3,114.5</td>\n",
       "    </tr>\n",
       "    <tr>\n",
       "      <th>7</th>\n",
       "      <td>Torrey</td>\n",
       "      <td>Joshuacaleb</td>\n",
       "      <td>105.0</td>\n",
       "      <td>79.0</td>\n",
       "      <td>38.3,145.1</td>\n",
       "    </tr>\n",
       "    <tr>\n",
       "      <th>8</th>\n",
       "      <td>Mariah</td>\n",
       "      <td>Alese</td>\n",
       "      <td>149.0</td>\n",
       "      <td>68.0</td>\n",
       "      <td>36.1,45.7</td>\n",
       "    </tr>\n",
       "    <tr>\n",
       "      <th>9</th>\n",
       "      <td>Grayson</td>\n",
       "      <td>Daimen</td>\n",
       "      <td>140.0</td>\n",
       "      <td>80.0\"</td>\n",
       "      <td>38.1,-72.6</td>\n",
       "    </tr>\n",
       "    <tr>\n",
       "      <th>10</th>\n",
       "      <td>Yvette</td>\n",
       "      <td>Trayce</td>\n",
       "      <td>179.0</td>\n",
       "      <td>67.0</td>\n",
       "      <td>36.9,-8.3</td>\n",
       "    </tr>\n",
       "    <tr>\n",
       "      <th>11</th>\n",
       "      <td>Cody</td>\n",
       "      <td>Hatim</td>\n",
       "      <td>150.0</td>\n",
       "      <td>63.0</td>\n",
       "      <td>38.0,-7.3</td>\n",
       "    </tr>\n",
       "    <tr>\n",
       "      <th>12</th>\n",
       "      <td>Marissa</td>\n",
       "      <td>Daud</td>\n",
       "      <td>135.0</td>\n",
       "      <td>58.0</td>\n",
       "      <td>37.3,11.0</td>\n",
       "    </tr>\n",
       "    <tr>\n",
       "      <th>13</th>\n",
       "      <td>Logan</td>\n",
       "      <td>Cristel</td>\n",
       "      <td>133.0</td>\n",
       "      <td>67.0</td>\n",
       "      <td>35.5,-110.2</td>\n",
       "    </tr>\n",
       "    <tr>\n",
       "      <th>14</th>\n",
       "      <td>Kaiyah</td>\n",
       "      <td>Brinden</td>\n",
       "      <td>187.0</td>\n",
       "      <td>82.0</td>\n",
       "      <td>34.8,83.2</td>\n",
       "    </tr>\n",
       "    <tr>\n",
       "      <th>15</th>\n",
       "      <td>Ivan</td>\n",
       "      <td>Devyne</td>\n",
       "      <td>193.0</td>\n",
       "      <td>54.0</td>\n",
       "      <td>36.6,262.0</td>\n",
       "    </tr>\n",
       "    <tr>\n",
       "      <th>16</th>\n",
       "      <td>Shamaria</td>\n",
       "      <td>Aldrick\"</td>\n",
       "      <td>139.0</td>\n",
       "      <td>73.0</td>\n",
       "      <td>38.5,-94.6</td>\n",
       "    </tr>\n",
       "    <tr>\n",
       "      <th>17</th>\n",
       "      <td>Travis</td>\n",
       "      <td>Anavictoria</td>\n",
       "      <td>117.0</td>\n",
       "      <td>62.0</td>\n",
       "      <td>36.3,69.5</td>\n",
       "    </tr>\n",
       "    <tr>\n",
       "      <th>18</th>\n",
       "      <td>Kennedy</td>\n",
       "      <td>Dalynn</td>\n",
       "      <td>171.0\"</td>\n",
       "      <td>77.0</td>\n",
       "      <td>37.3,-27.5</td>\n",
       "    </tr>\n",
       "    <tr>\n",
       "      <th>19</th>\n",
       "      <td>Alina</td>\n",
       "      <td>Danniell</td>\n",
       "      <td>105.0</td>\n",
       "      <td>55.0</td>\n",
       "      <td>37.4,314.7</td>\n",
       "    </tr>\n",
       "    <tr>\n",
       "      <th>20</th>\n",
       "      <td>Cameron</td>\n",
       "      <td>Angelica</td>\n",
       "      <td>139.0</td>\n",
       "      <td>56.0</td>\n",
       "      <td>38.8,-79.3</td>\n",
       "    </tr>\n",
       "    <tr>\n",
       "      <th>21</th>\n",
       "      <td>Madison</td>\n",
       "      <td>Barkley</td>\n",
       "      <td>120.0\"</td>\n",
       "      <td>69.0</td>\n",
       "      <td>38.2,86.1</td>\n",
       "    </tr>\n",
       "    <tr>\n",
       "      <th>22</th>\n",
       "      <td>Jackson</td>\n",
       "      <td>Taylr</td>\n",
       "      <td>113.0</td>\n",
       "      <td>78.0</td>\n",
       "      <td>36.7,56.7</td>\n",
       "    </tr>\n",
       "    <tr>\n",
       "      <th>23</th>\n",
       "      <td>Agustin</td>\n",
       "      <td>Stephanye</td>\n",
       "      <td>91.0</td>\n",
       "      <td>62.0</td>\n",
       "      <td>36.4,54.5</td>\n",
       "    </tr>\n",
       "    <tr>\n",
       "      <th>24</th>\n",
       "      <td>Janesha</td>\n",
       "      <td>Jhayla</td>\n",
       "      <td>143.0</td>\n",
       "      <td>64.0</td>\n",
       "      <td>35.9,-70.5</td>\n",
       "    </tr>\n",
       "    <tr>\n",
       "      <th>25</th>\n",
       "      <td>Nickolas</td>\n",
       "      <td>Karenna</td>\n",
       "      <td>159.0</td>\n",
       "      <td>75.0</td>\n",
       "      <td>35.9,-73.9</td>\n",
       "    </tr>\n",
       "    <tr>\n",
       "      <th>26</th>\n",
       "      <td>Stacy</td>\n",
       "      <td>Meaghen</td>\n",
       "      <td>149.0</td>\n",
       "      <td>68.0</td>\n",
       "      <td>36.6,-27.7</td>\n",
       "    </tr>\n",
       "    <tr>\n",
       "      <th>27</th>\n",
       "      <td>Matthew</td>\n",
       "      <td>Kalis</td>\n",
       "      <td>166.0</td>\n",
       "      <td>66.0</td>\n",
       "      <td>37.8,0.2</td>\n",
       "    </tr>\n",
       "    <tr>\n",
       "      <th>28</th>\n",
       "      <td>Rayona</td>\n",
       "      <td>Treniece</td>\n",
       "      <td>151.0</td>\n",
       "      <td>59.0</td>\n",
       "      <td>37.2,140.1</td>\n",
       "    </tr>\n",
       "    <tr>\n",
       "      <th>29</th>\n",
       "      <td>Jack</td>\n",
       "      <td>Hanai</td>\n",
       "      <td>164.0</td>\n",
       "      <td>70.0</td>\n",
       "      <td>38.6,-63.6</td>\n",
       "    </tr>\n",
       "    <tr>\n",
       "      <th>30</th>\n",
       "      <td>Hayley</td>\n",
       "      <td>Zsazsa</td>\n",
       "      <td>146.0\"</td>\n",
       "      <td>62.0</td>\n",
       "      <td>36.2,-2.6</td>\n",
       "    </tr>\n",
       "    <tr>\n",
       "      <th>31</th>\n",
       "      <td>Jacqueline</td>\n",
       "      <td>Treyten</td>\n",
       "      <td>164.0</td>\n",
       "      <td>73.0\"</td>\n",
       "      <td>37.1,-56.1</td>\n",
       "    </tr>\n",
       "    <tr>\n",
       "      <th>32</th>\n",
       "      <td>Anthony</td>\n",
       "      <td>Janaysia</td>\n",
       "      <td>127.0</td>\n",
       "      <td>NaN</td>\n",
       "      <td>77.0</td>\n",
       "    </tr>\n",
       "    <tr>\n",
       "      <th>33</th>\n",
       "      <td>Saige\"</td>\n",
       "      <td>Kalieb</td>\n",
       "      <td>144.0</td>\n",
       "      <td>61.0</td>\n",
       "      <td>38.2,16.2</td>\n",
       "    </tr>\n",
       "    <tr>\n",
       "      <th>34</th>\n",
       "      <td>Tiffany</td>\n",
       "      <td>Jamire</td>\n",
       "      <td>160.0</td>\n",
       "      <td>87.0</td>\n",
       "      <td>37.6,155.0</td>\n",
       "    </tr>\n",
       "    <tr>\n",
       "      <th>35</th>\n",
       "      <td>Nichole</td>\n",
       "      <td>Derryk</td>\n",
       "      <td>134.0</td>\n",
       "      <td>66.0</td>\n",
       "      <td>36.9,-52.0</td>\n",
       "    </tr>\n",
       "    <tr>\n",
       "      <th>36</th>\n",
       "      <td>Litzi</td>\n",
       "      <td>Keairah\"</td>\n",
       "      <td>137.0</td>\n",
       "      <td>69.0</td>\n",
       "      <td>36.8,182.4</td>\n",
       "    </tr>\n",
       "    <tr>\n",
       "      <th>37</th>\n",
       "      <td>Timothy</td>\n",
       "      <td>Montrice</td>\n",
       "      <td>151.0</td>\n",
       "      <td>65.0</td>\n",
       "      <td>36.7,69.2</td>\n",
       "    </tr>\n",
       "    <tr>\n",
       "      <th>38</th>\n",
       "      <td>Alicia</td>\n",
       "      <td>Lilijana</td>\n",
       "      <td>161.0\"</td>\n",
       "      <td>77.0</td>\n",
       "      <td>37.2,56.9</td>\n",
       "    </tr>\n",
       "    <tr>\n",
       "      <th>39</th>\n",
       "      <td>Margaret</td>\n",
       "      <td>Ruthie</td>\n",
       "      <td>143.0</td>\n",
       "      <td>65.0</td>\n",
       "      <td>36.7,69.2</td>\n",
       "    </tr>\n",
       "    <tr>\n",
       "      <th>40</th>\n",
       "      <td>Javier</td>\n",
       "      <td>Allycia\"</td>\n",
       "      <td>121.0\"</td>\n",
       "      <td>71.0</td>\n",
       "      <td>37.3,79.6</td>\n",
       "    </tr>\n",
       "    <tr>\n",
       "      <th>41</th>\n",
       "      <td>Melanie</td>\n",
       "      <td>Vincent</td>\n",
       "      <td>112.0</td>\n",
       "      <td>60.0</td>\n",
       "      <td>37.3,123.5</td>\n",
       "    </tr>\n",
       "    <tr>\n",
       "      <th>42</th>\n",
       "      <td>Jesus</td>\n",
       "      <td>Brennden</td>\n",
       "      <td>145.0</td>\n",
       "      <td>75.0</td>\n",
       "      <td>38.6,-43.4</td>\n",
       "    </tr>\n",
       "    <tr>\n",
       "      <th>43</th>\n",
       "      <td>John</td>\n",
       "      <td>Zyon</td>\n",
       "      <td>115.0</td>\n",
       "      <td>77.0</td>\n",
       "      <td>38.1,-106.3</td>\n",
       "    </tr>\n",
       "    <tr>\n",
       "      <th>44</th>\n",
       "      <td>David</td>\n",
       "      <td>Aubrea</td>\n",
       "      <td>122.0</td>\n",
       "      <td>62.0</td>\n",
       "      <td>38.0,-21.9</td>\n",
       "    </tr>\n",
       "    <tr>\n",
       "      <th>45</th>\n",
       "      <td>Wesley</td>\n",
       "      <td>Laniece</td>\n",
       "      <td>165.0</td>\n",
       "      <td>68.0</td>\n",
       "      <td>37.2,71.2</td>\n",
       "    </tr>\n",
       "    <tr>\n",
       "      <th>46</th>\n",
       "      <td>Lindsey</td>\n",
       "      <td>Alima</td>\n",
       "      <td>79.0</td>\n",
       "      <td>66.0</td>\n",
       "      <td>36.2,-61.4</td>\n",
       "    </tr>\n",
       "    <tr>\n",
       "      <th>47</th>\n",
       "      <td>Kenneth</td>\n",
       "      <td>Kimo</td>\n",
       "      <td>124.0\"</td>\n",
       "      <td>54.0</td>\n",
       "      <td>37.0,49.6</td>\n",
       "    </tr>\n",
       "    <tr>\n",
       "      <th>48</th>\n",
       "      <td>Lauryn</td>\n",
       "      <td>Milia\"</td>\n",
       "      <td>133.0</td>\n",
       "      <td>62.0</td>\n",
       "      <td>37.7,113.6</td>\n",
       "    </tr>\n",
       "    <tr>\n",
       "      <th>49</th>\n",
       "      <td>Ryan\"</td>\n",
       "      <td>Elleanor</td>\n",
       "      <td>149.0\"</td>\n",
       "      <td>68.0</td>\n",
       "      <td>37.0,-32.3\\nKeyara,Rozlyn,148.0,70.0,37.5</td>\n",
       "    </tr>\n",
       "    <tr>\n",
       "      <th>50</th>\n",
       "      <td>Tyree</td>\n",
       "      <td>Windy</td>\n",
       "      <td>128.0</td>\n",
       "      <td>80.0</td>\n",
       "      <td>36.9,83.6</td>\n",
       "    </tr>\n",
       "    <tr>\n",
       "      <th>51</th>\n",
       "      <td>Tori</td>\n",
       "      <td>Adithi</td>\n",
       "      <td>187.0</td>\n",
       "      <td>68.0</td>\n",
       "      <td>35.5,-12.4</td>\n",
       "    </tr>\n",
       "    <tr>\n",
       "      <th>52</th>\n",
       "      <td>Carolina</td>\n",
       "      <td>Cecille</td>\n",
       "      <td>154.0</td>\n",
       "      <td>71.0</td>\n",
       "      <td>38.6,12.4</td>\n",
       "    </tr>\n",
       "    <tr>\n",
       "      <th>53</th>\n",
       "      <td>Emmanuel</td>\n",
       "      <td>Leidi</td>\n",
       "      <td>112.0</td>\n",
       "      <td>61.0</td>\n",
       "      <td>37.6,64.6</td>\n",
       "    </tr>\n",
       "    <tr>\n",
       "      <th>54</th>\n",
       "      <td>Andrew</td>\n",
       "      <td>Vikrant</td>\n",
       "      <td>90.0</td>\n",
       "      <td>61.0</td>\n",
       "      <td>36.6,36.9</td>\n",
       "    </tr>\n",
       "    <tr>\n",
       "      <th>55</th>\n",
       "      <td>Donovan</td>\n",
       "      <td>Randa</td>\n",
       "      <td>120.0\"</td>\n",
       "      <td>73.0</td>\n",
       "      <td>36.5,28.2</td>\n",
       "    </tr>\n",
       "    <tr>\n",
       "      <th>56</th>\n",
       "      <td>Rachel\"</td>\n",
       "      <td>Alexiz</td>\n",
       "      <td>145.0</td>\n",
       "      <td>67.0</td>\n",
       "      <td>38.0,36.4\"\\nDylan</td>\n",
       "    </tr>\n",
       "    <tr>\n",
       "      <th>57</th>\n",
       "      <td>Jeevan</td>\n",
       "      <td>Ardit</td>\n",
       "      <td>148.0</td>\n",
       "      <td>71.0</td>\n",
       "      <td>36.9,-58.9</td>\n",
       "    </tr>\n",
       "    <tr>\n",
       "      <th>58</th>\n",
       "      <td>Kaitlin</td>\n",
       "      <td>Isrrael</td>\n",
       "      <td>108.0</td>\n",
       "      <td>78.0</td>\n",
       "      <td>36.2,16.0</td>\n",
       "    </tr>\n",
       "    <tr>\n",
       "      <th>59</th>\n",
       "      <td>Vanessa</td>\n",
       "      <td>Guiselle</td>\n",
       "      <td>96.0</td>\n",
       "      <td>77.0</td>\n",
       "      <td>38.0,86.0</td>\n",
       "    </tr>\n",
       "    <tr>\n",
       "      <th>60</th>\n",
       "      <td>Alyssa</td>\n",
       "      <td>Gillian</td>\n",
       "      <td>88.0</td>\n",
       "      <td>69.0</td>\n",
       "      <td>38.2,252.0</td>\n",
       "    </tr>\n",
       "    <tr>\n",
       "      <th>61</th>\n",
       "      <td>Christina</td>\n",
       "      <td>Jerard</td>\n",
       "      <td>178.0</td>\n",
       "      <td>77.0\"</td>\n",
       "      <td>38.2,-57.5</td>\n",
       "    </tr>\n",
       "    <tr>\n",
       "      <th>62</th>\n",
       "      <td>Hayli</td>\n",
       "      <td>Marton</td>\n",
       "      <td>125.0</td>\n",
       "      <td>73.0</td>\n",
       "      <td>37.7,-93.7</td>\n",
       "    </tr>\n",
       "    <tr>\n",
       "      <th>63</th>\n",
       "      <td>Isabella</td>\n",
       "      <td>Laverne</td>\n",
       "      <td>117.0</td>\n",
       "      <td>76.0</td>\n",
       "      <td>36.4,88.1</td>\n",
       "    </tr>\n",
       "    <tr>\n",
       "      <th>64</th>\n",
       "      <td>Parker</td>\n",
       "      <td>Kerly</td>\n",
       "      <td>160.0</td>\n",
       "      <td>59.0</td>\n",
       "      <td>36.7,139.3</td>\n",
       "    </tr>\n",
       "    <tr>\n",
       "      <th>65</th>\n",
       "      <td>Madeleine</td>\n",
       "      <td>Amritpal</td>\n",
       "      <td>166.0</td>\n",
       "      <td>58.0</td>\n",
       "      <td>36.2,51.4</td>\n",
       "    </tr>\n",
       "    <tr>\n",
       "      <th>66</th>\n",
       "      <td>Keaton</td>\n",
       "      <td>Kinzy</td>\n",
       "      <td>119.0</td>\n",
       "      <td>64.0\"</td>\n",
       "      <td>36.4,20.5</td>\n",
       "    </tr>\n",
       "    <tr>\n",
       "      <th>67</th>\n",
       "      <td>Mercedes</td>\n",
       "      <td>Tarika</td>\n",
       "      <td>129.0</td>\n",
       "      <td>70.0</td>\n",
       "      <td>37.0,-56.8</td>\n",
       "    </tr>\n",
       "    <tr>\n",
       "      <th>68</th>\n",
       "      <td>Dallen</td>\n",
       "      <td>Keshae</td>\n",
       "      <td>127.0</td>\n",
       "      <td>75.0</td>\n",
       "      <td>37.1,-113.1</td>\n",
       "    </tr>\n",
       "    <tr>\n",
       "      <th>69</th>\n",
       "      <td>Shay</td>\n",
       "      <td>Marcea</td>\n",
       "      <td>103.0</td>\n",
       "      <td>65.0</td>\n",
       "      <td>36.0,-33.1</td>\n",
       "    </tr>\n",
       "    <tr>\n",
       "      <th>70</th>\n",
       "      <td>Adrianna</td>\n",
       "      <td>Karsten</td>\n",
       "      <td>157.0</td>\n",
       "      <td>81.0</td>\n",
       "      <td>34.8,36.1</td>\n",
       "    </tr>\n",
       "    <tr>\n",
       "      <th>71</th>\n",
       "      <td>Max</td>\n",
       "      <td>Nairi</td>\n",
       "      <td>113.0\"</td>\n",
       "      <td>67.0</td>\n",
       "      <td>36.9,12.2</td>\n",
       "    </tr>\n",
       "    <tr>\n",
       "      <th>72</th>\n",
       "      <td>Suzanne</td>\n",
       "      <td>Dearion</td>\n",
       "      <td>129.0</td>\n",
       "      <td>70.0</td>\n",
       "      <td>36.9,-70.4</td>\n",
       "    </tr>\n",
       "    <tr>\n",
       "      <th>73</th>\n",
       "      <td>Camryn</td>\n",
       "      <td>Tasnim</td>\n",
       "      <td>126.0</td>\n",
       "      <td>63.0</td>\n",
       "      <td>36.5,19.8</td>\n",
       "    </tr>\n",
       "    <tr>\n",
       "      <th>74</th>\n",
       "      <td>Cielo</td>\n",
       "      <td>Saylah</td>\n",
       "      <td>103.0</td>\n",
       "      <td>65.0</td>\n",
       "      <td>36.1,83.1</td>\n",
       "    </tr>\n",
       "    <tr>\n",
       "      <th>75</th>\n",
       "      <td>Annastasia</td>\n",
       "      <td>Averi</td>\n",
       "      <td>91.0</td>\n",
       "      <td>67.0</td>\n",
       "      <td>37.1,-43.7</td>\n",
       "    </tr>\n",
       "    <tr>\n",
       "      <th>76</th>\n",
       "      <td>Hannah</td>\n",
       "      <td>Jerit</td>\n",
       "      <td>142.0</td>\n",
       "      <td>53.0</td>\n",
       "      <td>36.6,10.3</td>\n",
       "    </tr>\n",
       "    <tr>\n",
       "      <th>77</th>\n",
       "      <td>Jovita</td>\n",
       "      <td>Marquaveon</td>\n",
       "      <td>150.0</td>\n",
       "      <td>70.0</td>\n",
       "      <td>38.2,-32.6\"\\nJasmine,Jahmal</td>\n",
       "    </tr>\n",
       "    <tr>\n",
       "      <th>78</th>\n",
       "      <td>Cheyenne</td>\n",
       "      <td>Gerrid</td>\n",
       "      <td>55.0</td>\n",
       "      <td>71.0</td>\n",
       "      <td>36.6,68.2</td>\n",
       "    </tr>\n",
       "    <tr>\n",
       "      <th>79</th>\n",
       "      <td>Karma\"</td>\n",
       "      <td>Nameer</td>\n",
       "      <td>131.0</td>\n",
       "      <td>65.0</td>\n",
       "      <td>37.5,69.8</td>\n",
       "    </tr>\n",
       "    <tr>\n",
       "      <th>80</th>\n",
       "      <td>Madeline</td>\n",
       "      <td>Cira</td>\n",
       "      <td>128.0</td>\n",
       "      <td>65.0</td>\n",
       "      <td>37.4,149.6</td>\n",
       "    </tr>\n",
       "    <tr>\n",
       "      <th>81</th>\n",
       "      <td>Connor</td>\n",
       "      <td>Sheridyn</td>\n",
       "      <td>141.0</td>\n",
       "      <td>73.0</td>\n",
       "      <td>36.8,-80.7</td>\n",
       "    </tr>\n",
       "    <tr>\n",
       "      <th>82</th>\n",
       "      <td>Sarah</td>\n",
       "      <td>Sunday</td>\n",
       "      <td>180.0</td>\n",
       "      <td>54.0</td>\n",
       "      <td>36.7,-5.6</td>\n",
       "    </tr>\n",
       "    <tr>\n",
       "      <th>83</th>\n",
       "      <td>Victoria</td>\n",
       "      <td>Maliik</td>\n",
       "      <td>164.0</td>\n",
       "      <td>60.0</td>\n",
       "      <td>36.3,151.2\\nGeorge,Tyshonna,105.0,74.0,37.5</td>\n",
       "    </tr>\n",
       "    <tr>\n",
       "      <th>84</th>\n",
       "      <td>Marquis</td>\n",
       "      <td>Kylar</td>\n",
       "      <td>137.0</td>\n",
       "      <td>51.0</td>\n",
       "      <td>38.2,228.4</td>\n",
       "    </tr>\n",
       "    <tr>\n",
       "      <th>85</th>\n",
       "      <td>Marlene</td>\n",
       "      <td>Fatuma</td>\n",
       "      <td>117.0</td>\n",
       "      <td>64.0</td>\n",
       "      <td>36.4,-9.5</td>\n",
       "    </tr>\n",
       "    <tr>\n",
       "      <th>86</th>\n",
       "      <td>Kathryn</td>\n",
       "      <td>Diondra</td>\n",
       "      <td>149.0</td>\n",
       "      <td>65.0</td>\n",
       "      <td>38.3,68.0</td>\n",
       "    </tr>\n",
       "    <tr>\n",
       "      <th>87</th>\n",
       "      <td>Jonathan</td>\n",
       "      <td>Jersey</td>\n",
       "      <td>107.0</td>\n",
       "      <td>77.0</td>\n",
       "      <td>36.0,11.8</td>\n",
       "    </tr>\n",
       "    <tr>\n",
       "      <th>88</th>\n",
       "      <td>Joshua</td>\n",
       "      <td>Caileen</td>\n",
       "      <td>NaN</td>\n",
       "      <td>181.0</td>\n",
       "      <td>67.0</td>\n",
       "    </tr>\n",
       "    <tr>\n",
       "      <th>89</th>\n",
       "      <td>Emily</td>\n",
       "      <td>Leonid</td>\n",
       "      <td>146.0</td>\n",
       "      <td>57.0</td>\n",
       "      <td>37.8,-68.7</td>\n",
       "    </tr>\n",
       "    <tr>\n",
       "      <th>90</th>\n",
       "      <td>Jacqualyn</td>\n",
       "      <td>Angelea</td>\n",
       "      <td>116.0</td>\n",
       "      <td>63.0</td>\n",
       "      <td>36.4,-31.5</td>\n",
       "    </tr>\n",
       "    <tr>\n",
       "      <th>91</th>\n",
       "      <td>Gionna</td>\n",
       "      <td>Pamala</td>\n",
       "      <td>180.0</td>\n",
       "      <td>79.0</td>\n",
       "      <td>38.6,-28.6\"\\nYasmeen,Jahron,135.0,84.0,38.3</td>\n",
       "    </tr>\n",
       "    <tr>\n",
       "      <th>92</th>\n",
       "      <td>Meghan</td>\n",
       "      <td>Carlyann</td>\n",
       "      <td>101.0</td>\n",
       "      <td>66.0</td>\n",
       "      <td>36.6,80.5</td>\n",
       "    </tr>\n",
       "    <tr>\n",
       "      <th>93</th>\n",
       "      <td>Tess</td>\n",
       "      <td>Shree</td>\n",
       "      <td>146.0</td>\n",
       "      <td>NaN</td>\n",
       "      <td>68.0</td>\n",
       "    </tr>\n",
       "    <tr>\n",
       "      <th>94</th>\n",
       "      <td>Maria</td>\n",
       "      <td>Kalvyn</td>\n",
       "      <td>115.0</td>\n",
       "      <td>51.0</td>\n",
       "      <td>37.1,-90.4</td>\n",
       "    </tr>\n",
       "    <tr>\n",
       "      <th>95</th>\n",
       "      <td>Lexie</td>\n",
       "      <td>Cheyenna</td>\n",
       "      <td>151.0</td>\n",
       "      <td>71.0</td>\n",
       "      <td>35.9,86.1</td>\n",
       "    </tr>\n",
       "  </tbody>\n",
       "</table>\n",
       "</div>"
      ],
      "text/plain": [
       "         first         last  weight  height  \\\n",
       "0   first       last         weight  height   \n",
       "1   Julia       Wagner       142.0   86.0     \n",
       "2   Angelica    Rija         155.0   56.0     \n",
       "3   Tyler       Micajah      116.0   73.0\"    \n",
       "4   Kathleen    Nakea        163.0   69.0     \n",
       "5   Axel        Ronit        95.0    74.0     \n",
       "6   Amiya       Kyona        130.0   72.0     \n",
       "7   Torrey      Joshuacaleb  105.0   79.0     \n",
       "8   Mariah      Alese        149.0   68.0     \n",
       "9   Grayson     Daimen       140.0   80.0\"    \n",
       "10  Yvette      Trayce       179.0   67.0     \n",
       "11  Cody        Hatim        150.0   63.0     \n",
       "12  Marissa     Daud         135.0   58.0     \n",
       "13  Logan       Cristel      133.0   67.0     \n",
       "14  Kaiyah      Brinden      187.0   82.0     \n",
       "15  Ivan        Devyne       193.0   54.0     \n",
       "16  Shamaria    Aldrick\"     139.0   73.0     \n",
       "17  Travis      Anavictoria  117.0   62.0     \n",
       "18  Kennedy     Dalynn       171.0\"  77.0     \n",
       "19  Alina       Danniell     105.0   55.0     \n",
       "20  Cameron     Angelica     139.0   56.0     \n",
       "21  Madison     Barkley      120.0\"  69.0     \n",
       "22  Jackson     Taylr        113.0   78.0     \n",
       "23  Agustin     Stephanye    91.0    62.0     \n",
       "24  Janesha     Jhayla       143.0   64.0     \n",
       "25  Nickolas    Karenna      159.0   75.0     \n",
       "26  Stacy       Meaghen      149.0   68.0     \n",
       "27  Matthew     Kalis        166.0   66.0     \n",
       "28  Rayona      Treniece     151.0   59.0     \n",
       "29  Jack        Hanai        164.0   70.0     \n",
       "30  Hayley      Zsazsa       146.0\"  62.0     \n",
       "31  Jacqueline  Treyten      164.0   73.0\"    \n",
       "32  Anthony     Janaysia     127.0   NaN      \n",
       "33  Saige\"      Kalieb       144.0   61.0     \n",
       "34  Tiffany     Jamire       160.0   87.0     \n",
       "35  Nichole     Derryk       134.0   66.0     \n",
       "36  Litzi       Keairah\"     137.0   69.0     \n",
       "37  Timothy     Montrice     151.0   65.0     \n",
       "38  Alicia      Lilijana     161.0\"  77.0     \n",
       "39  Margaret    Ruthie       143.0   65.0     \n",
       "40  Javier      Allycia\"     121.0\"  71.0     \n",
       "41  Melanie     Vincent      112.0   60.0     \n",
       "42  Jesus       Brennden     145.0   75.0     \n",
       "43  John        Zyon         115.0   77.0     \n",
       "44  David       Aubrea       122.0   62.0     \n",
       "45  Wesley      Laniece      165.0   68.0     \n",
       "46  Lindsey     Alima        79.0    66.0     \n",
       "47  Kenneth     Kimo         124.0\"  54.0     \n",
       "48  Lauryn      Milia\"       133.0   62.0     \n",
       "49  Ryan\"       Elleanor     149.0\"  68.0     \n",
       "50  Tyree       Windy        128.0   80.0     \n",
       "51  Tori        Adithi       187.0   68.0     \n",
       "52  Carolina    Cecille      154.0   71.0     \n",
       "53  Emmanuel    Leidi        112.0   61.0     \n",
       "54  Andrew      Vikrant      90.0    61.0     \n",
       "55  Donovan     Randa        120.0\"  73.0     \n",
       "56  Rachel\"     Alexiz       145.0   67.0     \n",
       "57  Jeevan      Ardit        148.0   71.0     \n",
       "58  Kaitlin     Isrrael      108.0   78.0     \n",
       "59  Vanessa     Guiselle     96.0    77.0     \n",
       "60  Alyssa      Gillian      88.0    69.0     \n",
       "61  Christina   Jerard       178.0   77.0\"    \n",
       "62  Hayli       Marton       125.0   73.0     \n",
       "63  Isabella    Laverne      117.0   76.0     \n",
       "64  Parker      Kerly        160.0   59.0     \n",
       "65  Madeleine   Amritpal     166.0   58.0     \n",
       "66  Keaton      Kinzy        119.0   64.0\"    \n",
       "67  Mercedes    Tarika       129.0   70.0     \n",
       "68  Dallen      Keshae       127.0   75.0     \n",
       "69  Shay        Marcea       103.0   65.0     \n",
       "70  Adrianna    Karsten      157.0   81.0     \n",
       "71  Max         Nairi        113.0\"  67.0     \n",
       "72  Suzanne     Dearion      129.0   70.0     \n",
       "73  Camryn      Tasnim       126.0   63.0     \n",
       "74  Cielo       Saylah       103.0   65.0     \n",
       "75  Annastasia  Averi        91.0    67.0     \n",
       "76  Hannah      Jerit        142.0   53.0     \n",
       "77  Jovita      Marquaveon   150.0   70.0     \n",
       "78  Cheyenne    Gerrid       55.0    71.0     \n",
       "79  Karma\"      Nameer       131.0   65.0     \n",
       "80  Madeline    Cira         128.0   65.0     \n",
       "81  Connor      Sheridyn     141.0   73.0     \n",
       "82  Sarah       Sunday       180.0   54.0     \n",
       "83  Victoria    Maliik       164.0   60.0     \n",
       "84  Marquis     Kylar        137.0   51.0     \n",
       "85  Marlene     Fatuma       117.0   64.0     \n",
       "86  Kathryn     Diondra      149.0   65.0     \n",
       "87  Jonathan    Jersey       107.0   77.0     \n",
       "88  Joshua      Caileen      NaN     181.0    \n",
       "89  Emily       Leonid       146.0   57.0     \n",
       "90  Jacqualyn   Angelea      116.0   63.0     \n",
       "91  Gionna      Pamala       180.0   79.0     \n",
       "92  Meghan      Carlyann     101.0   66.0     \n",
       "93  Tess        Shree        146.0   NaN      \n",
       "94  Maria       Kalvyn       115.0   51.0     \n",
       "95  Lexie       Cheyenna     151.0   71.0     \n",
       "\n",
       "                                            geo  \n",
       "0   geo                                          \n",
       "1   39.8,15.4                                    \n",
       "2   38.2,-71.7                                   \n",
       "3   38.0,6.9                                     \n",
       "4   36.3,-86.8                                   \n",
       "5   36.8,128.2                                   \n",
       "6   36.3,114.5                                   \n",
       "7   38.3,145.1                                   \n",
       "8   36.1,45.7                                    \n",
       "9   38.1,-72.6                                   \n",
       "10  36.9,-8.3                                    \n",
       "11  38.0,-7.3                                    \n",
       "12  37.3,11.0                                    \n",
       "13  35.5,-110.2                                  \n",
       "14  34.8,83.2                                    \n",
       "15  36.6,262.0                                   \n",
       "16  38.5,-94.6                                   \n",
       "17  36.3,69.5                                    \n",
       "18  37.3,-27.5                                   \n",
       "19  37.4,314.7                                   \n",
       "20  38.8,-79.3                                   \n",
       "21  38.2,86.1                                    \n",
       "22  36.7,56.7                                    \n",
       "23  36.4,54.5                                    \n",
       "24  35.9,-70.5                                   \n",
       "25  35.9,-73.9                                   \n",
       "26  36.6,-27.7                                   \n",
       "27  37.8,0.2                                     \n",
       "28  37.2,140.1                                   \n",
       "29  38.6,-63.6                                   \n",
       "30  36.2,-2.6                                    \n",
       "31  37.1,-56.1                                   \n",
       "32  77.0                                         \n",
       "33  38.2,16.2                                    \n",
       "34  37.6,155.0                                   \n",
       "35  36.9,-52.0                                   \n",
       "36  36.8,182.4                                   \n",
       "37  36.7,69.2                                    \n",
       "38  37.2,56.9                                    \n",
       "39  36.7,69.2                                    \n",
       "40  37.3,79.6                                    \n",
       "41  37.3,123.5                                   \n",
       "42  38.6,-43.4                                   \n",
       "43  38.1,-106.3                                  \n",
       "44  38.0,-21.9                                   \n",
       "45  37.2,71.2                                    \n",
       "46  36.2,-61.4                                   \n",
       "47  37.0,49.6                                    \n",
       "48  37.7,113.6                                   \n",
       "49  37.0,-32.3\\nKeyara,Rozlyn,148.0,70.0,37.5    \n",
       "50  36.9,83.6                                    \n",
       "51  35.5,-12.4                                   \n",
       "52  38.6,12.4                                    \n",
       "53  37.6,64.6                                    \n",
       "54  36.6,36.9                                    \n",
       "55  36.5,28.2                                    \n",
       "56  38.0,36.4\"\\nDylan                            \n",
       "57  36.9,-58.9                                   \n",
       "58  36.2,16.0                                    \n",
       "59  38.0,86.0                                    \n",
       "60  38.2,252.0                                   \n",
       "61  38.2,-57.5                                   \n",
       "62  37.7,-93.7                                   \n",
       "63  36.4,88.1                                    \n",
       "64  36.7,139.3                                   \n",
       "65  36.2,51.4                                    \n",
       "66  36.4,20.5                                    \n",
       "67  37.0,-56.8                                   \n",
       "68  37.1,-113.1                                  \n",
       "69  36.0,-33.1                                   \n",
       "70  34.8,36.1                                    \n",
       "71  36.9,12.2                                    \n",
       "72  36.9,-70.4                                   \n",
       "73  36.5,19.8                                    \n",
       "74  36.1,83.1                                    \n",
       "75  37.1,-43.7                                   \n",
       "76  36.6,10.3                                    \n",
       "77  38.2,-32.6\"\\nJasmine,Jahmal                  \n",
       "78  36.6,68.2                                    \n",
       "79  37.5,69.8                                    \n",
       "80  37.4,149.6                                   \n",
       "81  36.8,-80.7                                   \n",
       "82  36.7,-5.6                                    \n",
       "83  36.3,151.2\\nGeorge,Tyshonna,105.0,74.0,37.5  \n",
       "84  38.2,228.4                                   \n",
       "85  36.4,-9.5                                    \n",
       "86  38.3,68.0                                    \n",
       "87  36.0,11.8                                    \n",
       "88  67.0                                         \n",
       "89  37.8,-68.7                                   \n",
       "90  36.4,-31.5                                   \n",
       "91  38.6,-28.6\"\\nYasmeen,Jahron,135.0,84.0,38.3  \n",
       "92  36.6,80.5                                    \n",
       "93  68.0                                         \n",
       "94  37.1,-90.4                                   \n",
       "95  35.9,86.1                                    "
      ]
     },
     "execution_count": 125,
     "metadata": {},
     "output_type": "execute_result"
    }
   ],
   "source": [
    "# Do not edit -- needed for tests\n",
    "fp = os.path.join('data', 'malformed.csv')\n",
    "cols = ['first', 'last', 'weight', 'height', 'geo']\n",
    "df = parse_malformed(fp)\n",
    "dg = pd.read_csv(fp, names=cols)\n",
    "dg"
   ]
  },
  {
   "cell_type": "code",
   "execution_count": 126,
   "metadata": {
    "scrolled": true
   },
   "outputs": [],
   "source": [
    "df = parse_malformed(fp)"
   ]
  },
  {
   "cell_type": "code",
   "execution_count": 127,
   "metadata": {},
   "outputs": [],
   "source": [
    "pd.set_option('display.max_columns', None)  "
   ]
  },
  {
   "cell_type": "code",
   "execution_count": 128,
   "metadata": {},
   "outputs": [
    {
     "name": "stderr",
     "output_type": "stream",
     "text": [
      "/tmp/ipykernel_3746/3462665596.py:4: FutureWarning: Passing a negative integer is deprecated in version 1.0 and will not be supported in future version. Instead, use None to not limit the column width.\n",
      "  pd.set_option('display.max_colwidth', -1)\n"
     ]
    }
   ],
   "source": [
    "pd.set_option('display.max_rows', None)\n",
    "pd.set_option('display.max_columns', None)\n",
    "pd.set_option('display.width', None)\n",
    "pd.set_option('display.max_colwidth', -1)"
   ]
  },
  {
   "cell_type": "code",
   "execution_count": 130,
   "metadata": {
    "scrolled": true
   },
   "outputs": [
    {
     "data": {
      "text/html": [
       "<div>\n",
       "<style scoped>\n",
       "    .dataframe tbody tr th:only-of-type {\n",
       "        vertical-align: middle;\n",
       "    }\n",
       "\n",
       "    .dataframe tbody tr th {\n",
       "        vertical-align: top;\n",
       "    }\n",
       "\n",
       "    .dataframe thead th {\n",
       "        text-align: right;\n",
       "    }\n",
       "</style>\n",
       "<table border=\"1\" class=\"dataframe\">\n",
       "  <thead>\n",
       "    <tr style=\"text-align: right;\">\n",
       "      <th></th>\n",
       "      <th>first</th>\n",
       "      <th>last</th>\n",
       "      <th>weight</th>\n",
       "      <th>height</th>\n",
       "      <th>geo</th>\n",
       "    </tr>\n",
       "  </thead>\n",
       "  <tbody>\n",
       "    <tr>\n",
       "      <th>0</th>\n",
       "      <td>Julia</td>\n",
       "      <td>Wagner</td>\n",
       "      <td>142.0</td>\n",
       "      <td>86.0</td>\n",
       "      <td>39.8,15.4</td>\n",
       "    </tr>\n",
       "    <tr>\n",
       "      <th>1</th>\n",
       "      <td>Angelica</td>\n",
       "      <td>Rija</td>\n",
       "      <td>155.0</td>\n",
       "      <td>56.0</td>\n",
       "      <td>38.2,-71.7</td>\n",
       "    </tr>\n",
       "    <tr>\n",
       "      <th>2</th>\n",
       "      <td>Tyler</td>\n",
       "      <td>Micajah</td>\n",
       "      <td>116.0</td>\n",
       "      <td>73.0</td>\n",
       "      <td>38.0,6.9</td>\n",
       "    </tr>\n",
       "    <tr>\n",
       "      <th>3</th>\n",
       "      <td>Kathleen</td>\n",
       "      <td>Nakea</td>\n",
       "      <td>163.0</td>\n",
       "      <td>69.0</td>\n",
       "      <td>36.3,-86.8</td>\n",
       "    </tr>\n",
       "    <tr>\n",
       "      <th>4</th>\n",
       "      <td>Axel</td>\n",
       "      <td>Ronit</td>\n",
       "      <td>95.0</td>\n",
       "      <td>74.0</td>\n",
       "      <td>36.8,128.2</td>\n",
       "    </tr>\n",
       "    <tr>\n",
       "      <th>5</th>\n",
       "      <td>Amiya</td>\n",
       "      <td>Kyona</td>\n",
       "      <td>130.0</td>\n",
       "      <td>72.0</td>\n",
       "      <td>36.3,114.5</td>\n",
       "    </tr>\n",
       "    <tr>\n",
       "      <th>6</th>\n",
       "      <td>Torrey</td>\n",
       "      <td>Joshuacaleb</td>\n",
       "      <td>105.0</td>\n",
       "      <td>79.0</td>\n",
       "      <td>38.3,145.1</td>\n",
       "    </tr>\n",
       "    <tr>\n",
       "      <th>7</th>\n",
       "      <td>Mariah</td>\n",
       "      <td>Alese</td>\n",
       "      <td>149.0</td>\n",
       "      <td>68.0</td>\n",
       "      <td>36.1,45.7</td>\n",
       "    </tr>\n",
       "    <tr>\n",
       "      <th>8</th>\n",
       "      <td>Grayson</td>\n",
       "      <td>Daimen</td>\n",
       "      <td>140.0</td>\n",
       "      <td>80.0</td>\n",
       "      <td>38.1,-72.6</td>\n",
       "    </tr>\n",
       "    <tr>\n",
       "      <th>9</th>\n",
       "      <td>Yvette</td>\n",
       "      <td>Trayce</td>\n",
       "      <td>179.0</td>\n",
       "      <td>67.0</td>\n",
       "      <td>36.9,-8.3</td>\n",
       "    </tr>\n",
       "    <tr>\n",
       "      <th>10</th>\n",
       "      <td>Cody</td>\n",
       "      <td>Hatim</td>\n",
       "      <td>150.0</td>\n",
       "      <td>63.0</td>\n",
       "      <td>38.0,-7.3</td>\n",
       "    </tr>\n",
       "    <tr>\n",
       "      <th>11</th>\n",
       "      <td>Marissa</td>\n",
       "      <td>Daud</td>\n",
       "      <td>135.0</td>\n",
       "      <td>58.0</td>\n",
       "      <td>37.3,11.0</td>\n",
       "    </tr>\n",
       "    <tr>\n",
       "      <th>12</th>\n",
       "      <td>Logan</td>\n",
       "      <td>Cristel</td>\n",
       "      <td>133.0</td>\n",
       "      <td>67.0</td>\n",
       "      <td>35.5,-110.2</td>\n",
       "    </tr>\n",
       "    <tr>\n",
       "      <th>13</th>\n",
       "      <td>Kaiyah</td>\n",
       "      <td>Brinden</td>\n",
       "      <td>187.0</td>\n",
       "      <td>82.0</td>\n",
       "      <td>34.8,83.2</td>\n",
       "    </tr>\n",
       "    <tr>\n",
       "      <th>14</th>\n",
       "      <td>Ivan</td>\n",
       "      <td>Devyne</td>\n",
       "      <td>193.0</td>\n",
       "      <td>54.0</td>\n",
       "      <td>36.6,262.0</td>\n",
       "    </tr>\n",
       "    <tr>\n",
       "      <th>15</th>\n",
       "      <td>Shamaria</td>\n",
       "      <td>Aldrick</td>\n",
       "      <td>139.0</td>\n",
       "      <td>73.0</td>\n",
       "      <td>38.5,-94.6</td>\n",
       "    </tr>\n",
       "    <tr>\n",
       "      <th>16</th>\n",
       "      <td>Travis</td>\n",
       "      <td>Anavictoria</td>\n",
       "      <td>117.0</td>\n",
       "      <td>62.0</td>\n",
       "      <td>36.3,69.5</td>\n",
       "    </tr>\n",
       "    <tr>\n",
       "      <th>17</th>\n",
       "      <td>Kennedy</td>\n",
       "      <td>Dalynn</td>\n",
       "      <td>171.0</td>\n",
       "      <td>77.0</td>\n",
       "      <td>37.3,-27.5</td>\n",
       "    </tr>\n",
       "    <tr>\n",
       "      <th>18</th>\n",
       "      <td>Alina</td>\n",
       "      <td>Danniell</td>\n",
       "      <td>105.0</td>\n",
       "      <td>55.0</td>\n",
       "      <td>37.4,314.7</td>\n",
       "    </tr>\n",
       "    <tr>\n",
       "      <th>19</th>\n",
       "      <td>Cameron</td>\n",
       "      <td>Angelica</td>\n",
       "      <td>139.0</td>\n",
       "      <td>56.0</td>\n",
       "      <td>38.8,-79.3</td>\n",
       "    </tr>\n",
       "    <tr>\n",
       "      <th>20</th>\n",
       "      <td>Madison</td>\n",
       "      <td>Barkley</td>\n",
       "      <td>120.0</td>\n",
       "      <td>69.0</td>\n",
       "      <td>38.2,86.1</td>\n",
       "    </tr>\n",
       "    <tr>\n",
       "      <th>21</th>\n",
       "      <td>Jackson</td>\n",
       "      <td>Taylr</td>\n",
       "      <td>113.0</td>\n",
       "      <td>78.0</td>\n",
       "      <td>36.7,56.7</td>\n",
       "    </tr>\n",
       "    <tr>\n",
       "      <th>22</th>\n",
       "      <td>Agustin</td>\n",
       "      <td>Stephanye</td>\n",
       "      <td>91.0</td>\n",
       "      <td>62.0</td>\n",
       "      <td>36.4,54.5</td>\n",
       "    </tr>\n",
       "    <tr>\n",
       "      <th>23</th>\n",
       "      <td>Janesha</td>\n",
       "      <td>Jhayla</td>\n",
       "      <td>143.0</td>\n",
       "      <td>64.0</td>\n",
       "      <td>35.9,-70.5</td>\n",
       "    </tr>\n",
       "    <tr>\n",
       "      <th>24</th>\n",
       "      <td>Nickolas</td>\n",
       "      <td>Karenna</td>\n",
       "      <td>159.0</td>\n",
       "      <td>75.0</td>\n",
       "      <td>35.9,-73.9</td>\n",
       "    </tr>\n",
       "    <tr>\n",
       "      <th>25</th>\n",
       "      <td>Stacy</td>\n",
       "      <td>Meaghen</td>\n",
       "      <td>149.0</td>\n",
       "      <td>68.0</td>\n",
       "      <td>36.6,-27.7</td>\n",
       "    </tr>\n",
       "    <tr>\n",
       "      <th>26</th>\n",
       "      <td>Matthew</td>\n",
       "      <td>Kalis</td>\n",
       "      <td>166.0</td>\n",
       "      <td>66.0</td>\n",
       "      <td>37.8,0.2</td>\n",
       "    </tr>\n",
       "    <tr>\n",
       "      <th>27</th>\n",
       "      <td>Rayona</td>\n",
       "      <td>Treniece</td>\n",
       "      <td>151.0</td>\n",
       "      <td>59.0</td>\n",
       "      <td>37.2,140.1</td>\n",
       "    </tr>\n",
       "    <tr>\n",
       "      <th>28</th>\n",
       "      <td>Jack</td>\n",
       "      <td>Hanai</td>\n",
       "      <td>164.0</td>\n",
       "      <td>70.0</td>\n",
       "      <td>38.6,-63.6</td>\n",
       "    </tr>\n",
       "    <tr>\n",
       "      <th>29</th>\n",
       "      <td>Hayley</td>\n",
       "      <td>Zsazsa</td>\n",
       "      <td>146.0</td>\n",
       "      <td>62.0</td>\n",
       "      <td>36.2,-2.6</td>\n",
       "    </tr>\n",
       "    <tr>\n",
       "      <th>30</th>\n",
       "      <td>Jacqueline</td>\n",
       "      <td>Treyten</td>\n",
       "      <td>164.0</td>\n",
       "      <td>73.0</td>\n",
       "      <td>37.1,-56.1</td>\n",
       "    </tr>\n",
       "    <tr>\n",
       "      <th>31</th>\n",
       "      <td>Anthony</td>\n",
       "      <td>Janaysia</td>\n",
       "      <td>127.0</td>\n",
       "      <td>77.0</td>\n",
       "      <td>39.1,93.6</td>\n",
       "    </tr>\n",
       "    <tr>\n",
       "      <th>32</th>\n",
       "      <td>Saige</td>\n",
       "      <td>Kalieb</td>\n",
       "      <td>144.0</td>\n",
       "      <td>61.0</td>\n",
       "      <td>38.2,16.2</td>\n",
       "    </tr>\n",
       "    <tr>\n",
       "      <th>33</th>\n",
       "      <td>Tiffany</td>\n",
       "      <td>Jamire</td>\n",
       "      <td>160.0</td>\n",
       "      <td>87.0</td>\n",
       "      <td>37.6,155.0</td>\n",
       "    </tr>\n",
       "    <tr>\n",
       "      <th>34</th>\n",
       "      <td>Nichole</td>\n",
       "      <td>Derryk</td>\n",
       "      <td>134.0</td>\n",
       "      <td>66.0</td>\n",
       "      <td>36.9,-52.0</td>\n",
       "    </tr>\n",
       "    <tr>\n",
       "      <th>35</th>\n",
       "      <td>Litzi</td>\n",
       "      <td>Keairah</td>\n",
       "      <td>137.0</td>\n",
       "      <td>69.0</td>\n",
       "      <td>36.8,182.4</td>\n",
       "    </tr>\n",
       "    <tr>\n",
       "      <th>36</th>\n",
       "      <td>Timothy</td>\n",
       "      <td>Montrice</td>\n",
       "      <td>151.0</td>\n",
       "      <td>65.0</td>\n",
       "      <td>36.7,69.2</td>\n",
       "    </tr>\n",
       "    <tr>\n",
       "      <th>37</th>\n",
       "      <td>Alicia</td>\n",
       "      <td>Lilijana</td>\n",
       "      <td>161.0</td>\n",
       "      <td>77.0</td>\n",
       "      <td>37.2,56.9</td>\n",
       "    </tr>\n",
       "    <tr>\n",
       "      <th>38</th>\n",
       "      <td>Margaret</td>\n",
       "      <td>Ruthie</td>\n",
       "      <td>143.0</td>\n",
       "      <td>65.0</td>\n",
       "      <td>36.7,69.2</td>\n",
       "    </tr>\n",
       "    <tr>\n",
       "      <th>39</th>\n",
       "      <td>Javier</td>\n",
       "      <td>Allycia</td>\n",
       "      <td>121.0</td>\n",
       "      <td>71.0</td>\n",
       "      <td>37.3,79.6</td>\n",
       "    </tr>\n",
       "    <tr>\n",
       "      <th>40</th>\n",
       "      <td>Melanie</td>\n",
       "      <td>Vincent</td>\n",
       "      <td>112.0</td>\n",
       "      <td>60.0</td>\n",
       "      <td>37.3,123.5</td>\n",
       "    </tr>\n",
       "    <tr>\n",
       "      <th>41</th>\n",
       "      <td>Jesus</td>\n",
       "      <td>Brennden</td>\n",
       "      <td>145.0</td>\n",
       "      <td>75.0</td>\n",
       "      <td>38.6,-43.4</td>\n",
       "    </tr>\n",
       "    <tr>\n",
       "      <th>42</th>\n",
       "      <td>John</td>\n",
       "      <td>Zyon</td>\n",
       "      <td>115.0</td>\n",
       "      <td>77.0</td>\n",
       "      <td>38.1,-106.3</td>\n",
       "    </tr>\n",
       "    <tr>\n",
       "      <th>43</th>\n",
       "      <td>David</td>\n",
       "      <td>Aubrea</td>\n",
       "      <td>122.0</td>\n",
       "      <td>62.0</td>\n",
       "      <td>38.0,-21.9</td>\n",
       "    </tr>\n",
       "    <tr>\n",
       "      <th>44</th>\n",
       "      <td>Wesley</td>\n",
       "      <td>Laniece</td>\n",
       "      <td>165.0</td>\n",
       "      <td>68.0</td>\n",
       "      <td>37.2,71.2</td>\n",
       "    </tr>\n",
       "    <tr>\n",
       "      <th>45</th>\n",
       "      <td>Lindsey</td>\n",
       "      <td>Alima</td>\n",
       "      <td>79.0</td>\n",
       "      <td>66.0</td>\n",
       "      <td>36.2,-61.4</td>\n",
       "    </tr>\n",
       "    <tr>\n",
       "      <th>46</th>\n",
       "      <td>Kenneth</td>\n",
       "      <td>Kimo</td>\n",
       "      <td>124.0</td>\n",
       "      <td>54.0</td>\n",
       "      <td>37.0,49.6</td>\n",
       "    </tr>\n",
       "    <tr>\n",
       "      <th>47</th>\n",
       "      <td>Lauryn</td>\n",
       "      <td>Milia</td>\n",
       "      <td>133.0</td>\n",
       "      <td>62.0</td>\n",
       "      <td>37.7,113.6</td>\n",
       "    </tr>\n",
       "    <tr>\n",
       "      <th>48</th>\n",
       "      <td>Ryan</td>\n",
       "      <td>Elleanor</td>\n",
       "      <td>149.0</td>\n",
       "      <td>68.0</td>\n",
       "      <td>37.0,-32.3</td>\n",
       "    </tr>\n",
       "    <tr>\n",
       "      <th>49</th>\n",
       "      <td>Keyara</td>\n",
       "      <td>Rozlyn</td>\n",
       "      <td>148.0</td>\n",
       "      <td>70.0</td>\n",
       "      <td>37.5,74.6</td>\n",
       "    </tr>\n",
       "    <tr>\n",
       "      <th>50</th>\n",
       "      <td>Tyree</td>\n",
       "      <td>Windy</td>\n",
       "      <td>128.0</td>\n",
       "      <td>80.0</td>\n",
       "      <td>36.9,83.6</td>\n",
       "    </tr>\n",
       "    <tr>\n",
       "      <th>51</th>\n",
       "      <td>Tori</td>\n",
       "      <td>Adithi</td>\n",
       "      <td>187.0</td>\n",
       "      <td>68.0</td>\n",
       "      <td>35.5,-12.4</td>\n",
       "    </tr>\n",
       "    <tr>\n",
       "      <th>52</th>\n",
       "      <td>Carolina</td>\n",
       "      <td>Cecille</td>\n",
       "      <td>154.0</td>\n",
       "      <td>71.0</td>\n",
       "      <td>38.6,12.4</td>\n",
       "    </tr>\n",
       "    <tr>\n",
       "      <th>53</th>\n",
       "      <td>Emmanuel</td>\n",
       "      <td>Leidi</td>\n",
       "      <td>112.0</td>\n",
       "      <td>61.0</td>\n",
       "      <td>37.6,64.6</td>\n",
       "    </tr>\n",
       "    <tr>\n",
       "      <th>54</th>\n",
       "      <td>Andrew</td>\n",
       "      <td>Vikrant</td>\n",
       "      <td>90.0</td>\n",
       "      <td>61.0</td>\n",
       "      <td>36.6,36.9</td>\n",
       "    </tr>\n",
       "    <tr>\n",
       "      <th>55</th>\n",
       "      <td>Donovan</td>\n",
       "      <td>Randa</td>\n",
       "      <td>120.0</td>\n",
       "      <td>73.0</td>\n",
       "      <td>36.5,28.2</td>\n",
       "    </tr>\n",
       "    <tr>\n",
       "      <th>56</th>\n",
       "      <td>Rachel</td>\n",
       "      <td>Alexiz</td>\n",
       "      <td>145.0</td>\n",
       "      <td>67.0</td>\n",
       "      <td>38.0,36.4</td>\n",
       "    </tr>\n",
       "    <tr>\n",
       "      <th>57</th>\n",
       "      <td>Dylan</td>\n",
       "      <td>Aryon</td>\n",
       "      <td>104.0</td>\n",
       "      <td>65.0</td>\n",
       "      <td>35.0,18.0</td>\n",
       "    </tr>\n",
       "    <tr>\n",
       "      <th>58</th>\n",
       "      <td>Jeevan</td>\n",
       "      <td>Ardit</td>\n",
       "      <td>148.0</td>\n",
       "      <td>71.0</td>\n",
       "      <td>36.9,-58.9</td>\n",
       "    </tr>\n",
       "    <tr>\n",
       "      <th>59</th>\n",
       "      <td>Kaitlin</td>\n",
       "      <td>Isrrael</td>\n",
       "      <td>108.0</td>\n",
       "      <td>78.0</td>\n",
       "      <td>36.2,16.0</td>\n",
       "    </tr>\n",
       "    <tr>\n",
       "      <th>60</th>\n",
       "      <td>Vanessa</td>\n",
       "      <td>Guiselle</td>\n",
       "      <td>96.0</td>\n",
       "      <td>77.0</td>\n",
       "      <td>38.0,86.0</td>\n",
       "    </tr>\n",
       "    <tr>\n",
       "      <th>61</th>\n",
       "      <td>Alyssa</td>\n",
       "      <td>Gillian</td>\n",
       "      <td>88.0</td>\n",
       "      <td>69.0</td>\n",
       "      <td>38.2,252.0</td>\n",
       "    </tr>\n",
       "    <tr>\n",
       "      <th>62</th>\n",
       "      <td>Christina</td>\n",
       "      <td>Jerard</td>\n",
       "      <td>178.0</td>\n",
       "      <td>77.0</td>\n",
       "      <td>38.2,-57.5</td>\n",
       "    </tr>\n",
       "    <tr>\n",
       "      <th>63</th>\n",
       "      <td>Hayli</td>\n",
       "      <td>Marton</td>\n",
       "      <td>125.0</td>\n",
       "      <td>73.0</td>\n",
       "      <td>37.7,-93.7</td>\n",
       "    </tr>\n",
       "    <tr>\n",
       "      <th>64</th>\n",
       "      <td>Isabella</td>\n",
       "      <td>Laverne</td>\n",
       "      <td>117.0</td>\n",
       "      <td>76.0</td>\n",
       "      <td>36.4,88.1</td>\n",
       "    </tr>\n",
       "    <tr>\n",
       "      <th>65</th>\n",
       "      <td>Parker</td>\n",
       "      <td>Kerly</td>\n",
       "      <td>160.0</td>\n",
       "      <td>59.0</td>\n",
       "      <td>36.7,139.3</td>\n",
       "    </tr>\n",
       "    <tr>\n",
       "      <th>66</th>\n",
       "      <td>Madeleine</td>\n",
       "      <td>Amritpal</td>\n",
       "      <td>166.0</td>\n",
       "      <td>58.0</td>\n",
       "      <td>36.2,51.4</td>\n",
       "    </tr>\n",
       "    <tr>\n",
       "      <th>67</th>\n",
       "      <td>Keaton</td>\n",
       "      <td>Kinzy</td>\n",
       "      <td>119.0</td>\n",
       "      <td>64.0</td>\n",
       "      <td>36.4,20.5</td>\n",
       "    </tr>\n",
       "    <tr>\n",
       "      <th>68</th>\n",
       "      <td>Mercedes</td>\n",
       "      <td>Tarika</td>\n",
       "      <td>129.0</td>\n",
       "      <td>70.0</td>\n",
       "      <td>37.0,-56.8</td>\n",
       "    </tr>\n",
       "    <tr>\n",
       "      <th>69</th>\n",
       "      <td>Dallen</td>\n",
       "      <td>Keshae</td>\n",
       "      <td>127.0</td>\n",
       "      <td>75.0</td>\n",
       "      <td>37.1,-113.1</td>\n",
       "    </tr>\n",
       "    <tr>\n",
       "      <th>70</th>\n",
       "      <td>Shay</td>\n",
       "      <td>Marcea</td>\n",
       "      <td>103.0</td>\n",
       "      <td>65.0</td>\n",
       "      <td>36.0,-33.1</td>\n",
       "    </tr>\n",
       "    <tr>\n",
       "      <th>71</th>\n",
       "      <td>Adrianna</td>\n",
       "      <td>Karsten</td>\n",
       "      <td>157.0</td>\n",
       "      <td>81.0</td>\n",
       "      <td>34.8,36.1</td>\n",
       "    </tr>\n",
       "    <tr>\n",
       "      <th>72</th>\n",
       "      <td>Max</td>\n",
       "      <td>Nairi</td>\n",
       "      <td>113.0</td>\n",
       "      <td>67.0</td>\n",
       "      <td>36.9,12.2</td>\n",
       "    </tr>\n",
       "    <tr>\n",
       "      <th>73</th>\n",
       "      <td>Suzanne</td>\n",
       "      <td>Dearion</td>\n",
       "      <td>129.0</td>\n",
       "      <td>70.0</td>\n",
       "      <td>36.9,-70.4</td>\n",
       "    </tr>\n",
       "    <tr>\n",
       "      <th>74</th>\n",
       "      <td>Camryn</td>\n",
       "      <td>Tasnim</td>\n",
       "      <td>126.0</td>\n",
       "      <td>63.0</td>\n",
       "      <td>36.5,19.8</td>\n",
       "    </tr>\n",
       "    <tr>\n",
       "      <th>75</th>\n",
       "      <td>Cielo</td>\n",
       "      <td>Saylah</td>\n",
       "      <td>103.0</td>\n",
       "      <td>65.0</td>\n",
       "      <td>36.1,83.1</td>\n",
       "    </tr>\n",
       "    <tr>\n",
       "      <th>76</th>\n",
       "      <td>Annastasia</td>\n",
       "      <td>Averi</td>\n",
       "      <td>91.0</td>\n",
       "      <td>67.0</td>\n",
       "      <td>37.1,-43.7</td>\n",
       "    </tr>\n",
       "    <tr>\n",
       "      <th>77</th>\n",
       "      <td>Hannah</td>\n",
       "      <td>Jerit</td>\n",
       "      <td>142.0</td>\n",
       "      <td>53.0</td>\n",
       "      <td>36.6,10.3</td>\n",
       "    </tr>\n",
       "    <tr>\n",
       "      <th>78</th>\n",
       "      <td>Jovita</td>\n",
       "      <td>Marquaveon</td>\n",
       "      <td>150.0</td>\n",
       "      <td>70.0</td>\n",
       "      <td>38.2,-32.6</td>\n",
       "    </tr>\n",
       "    <tr>\n",
       "      <th>79</th>\n",
       "      <td>Jasmine</td>\n",
       "      <td>Jahmal</td>\n",
       "      <td>107.0</td>\n",
       "      <td>72.0</td>\n",
       "      <td>38.5,9.1</td>\n",
       "    </tr>\n",
       "    <tr>\n",
       "      <th>80</th>\n",
       "      <td>Cheyenne</td>\n",
       "      <td>Gerrid</td>\n",
       "      <td>55.0</td>\n",
       "      <td>71.0</td>\n",
       "      <td>36.6,68.2</td>\n",
       "    </tr>\n",
       "    <tr>\n",
       "      <th>81</th>\n",
       "      <td>Karma</td>\n",
       "      <td>Nameer</td>\n",
       "      <td>131.0</td>\n",
       "      <td>65.0</td>\n",
       "      <td>37.5,69.8</td>\n",
       "    </tr>\n",
       "    <tr>\n",
       "      <th>82</th>\n",
       "      <td>Madeline</td>\n",
       "      <td>Cira</td>\n",
       "      <td>128.0</td>\n",
       "      <td>65.0</td>\n",
       "      <td>37.4,149.6</td>\n",
       "    </tr>\n",
       "    <tr>\n",
       "      <th>83</th>\n",
       "      <td>Connor</td>\n",
       "      <td>Sheridyn</td>\n",
       "      <td>141.0</td>\n",
       "      <td>73.0</td>\n",
       "      <td>36.8,-80.7</td>\n",
       "    </tr>\n",
       "    <tr>\n",
       "      <th>84</th>\n",
       "      <td>Sarah</td>\n",
       "      <td>Sunday</td>\n",
       "      <td>180.0</td>\n",
       "      <td>54.0</td>\n",
       "      <td>36.7,-5.6</td>\n",
       "    </tr>\n",
       "    <tr>\n",
       "      <th>85</th>\n",
       "      <td>Victoria</td>\n",
       "      <td>Maliik</td>\n",
       "      <td>164.0</td>\n",
       "      <td>60.0</td>\n",
       "      <td>36.3,151.2</td>\n",
       "    </tr>\n",
       "    <tr>\n",
       "      <th>86</th>\n",
       "      <td>George</td>\n",
       "      <td>Tyshonna</td>\n",
       "      <td>105.0</td>\n",
       "      <td>74.0</td>\n",
       "      <td>37.5,-91.5</td>\n",
       "    </tr>\n",
       "    <tr>\n",
       "      <th>87</th>\n",
       "      <td>Marquis</td>\n",
       "      <td>Kylar</td>\n",
       "      <td>137.0</td>\n",
       "      <td>51.0</td>\n",
       "      <td>38.2,228.4</td>\n",
       "    </tr>\n",
       "    <tr>\n",
       "      <th>88</th>\n",
       "      <td>Marlene</td>\n",
       "      <td>Fatuma</td>\n",
       "      <td>117.0</td>\n",
       "      <td>64.0</td>\n",
       "      <td>36.4,-9.5</td>\n",
       "    </tr>\n",
       "    <tr>\n",
       "      <th>89</th>\n",
       "      <td>Kathryn</td>\n",
       "      <td>Diondra</td>\n",
       "      <td>149.0</td>\n",
       "      <td>65.0</td>\n",
       "      <td>38.3,68.0</td>\n",
       "    </tr>\n",
       "    <tr>\n",
       "      <th>90</th>\n",
       "      <td>Jonathan</td>\n",
       "      <td>Jersey</td>\n",
       "      <td>107.0</td>\n",
       "      <td>77.0</td>\n",
       "      <td>36.0,11.8</td>\n",
       "    </tr>\n",
       "    <tr>\n",
       "      <th>91</th>\n",
       "      <td>Joshua</td>\n",
       "      <td>Caileen</td>\n",
       "      <td>181.0</td>\n",
       "      <td>67.0</td>\n",
       "      <td>37.3,79.0</td>\n",
       "    </tr>\n",
       "    <tr>\n",
       "      <th>92</th>\n",
       "      <td>Emily</td>\n",
       "      <td>Leonid</td>\n",
       "      <td>146.0</td>\n",
       "      <td>57.0</td>\n",
       "      <td>37.8,-68.7</td>\n",
       "    </tr>\n",
       "    <tr>\n",
       "      <th>93</th>\n",
       "      <td>Jacqualyn</td>\n",
       "      <td>Angelea</td>\n",
       "      <td>116.0</td>\n",
       "      <td>63.0</td>\n",
       "      <td>36.4,-31.5</td>\n",
       "    </tr>\n",
       "    <tr>\n",
       "      <th>94</th>\n",
       "      <td>Gionna</td>\n",
       "      <td>Pamala</td>\n",
       "      <td>180.0</td>\n",
       "      <td>79.0</td>\n",
       "      <td>38.6,-28.6</td>\n",
       "    </tr>\n",
       "    <tr>\n",
       "      <th>95</th>\n",
       "      <td>Yasmeen</td>\n",
       "      <td>Jahron</td>\n",
       "      <td>135.0</td>\n",
       "      <td>84.0</td>\n",
       "      <td>38.3,-127.3</td>\n",
       "    </tr>\n",
       "    <tr>\n",
       "      <th>96</th>\n",
       "      <td>Meghan</td>\n",
       "      <td>Carlyann</td>\n",
       "      <td>101.0</td>\n",
       "      <td>66.0</td>\n",
       "      <td>36.6,80.5</td>\n",
       "    </tr>\n",
       "    <tr>\n",
       "      <th>97</th>\n",
       "      <td>Tess</td>\n",
       "      <td>Shree</td>\n",
       "      <td>146.0</td>\n",
       "      <td>68.0</td>\n",
       "      <td>38.8,64.9</td>\n",
       "    </tr>\n",
       "    <tr>\n",
       "      <th>98</th>\n",
       "      <td>Maria</td>\n",
       "      <td>Kalvyn</td>\n",
       "      <td>115.0</td>\n",
       "      <td>51.0</td>\n",
       "      <td>37.1,-90.4</td>\n",
       "    </tr>\n",
       "    <tr>\n",
       "      <th>99</th>\n",
       "      <td>Lexie</td>\n",
       "      <td>Cheyenna</td>\n",
       "      <td>151.0</td>\n",
       "      <td>71.0</td>\n",
       "      <td>35.9,86.1</td>\n",
       "    </tr>\n",
       "  </tbody>\n",
       "</table>\n",
       "</div>"
      ],
      "text/plain": [
       "         first         last  weight  height          geo\n",
       "0   Julia       Wagner       142.0   86.0    39.8,15.4  \n",
       "1   Angelica    Rija         155.0   56.0    38.2,-71.7 \n",
       "2   Tyler       Micajah      116.0   73.0    38.0,6.9   \n",
       "3   Kathleen    Nakea        163.0   69.0    36.3,-86.8 \n",
       "4   Axel        Ronit        95.0    74.0    36.8,128.2 \n",
       "5   Amiya       Kyona        130.0   72.0    36.3,114.5 \n",
       "6   Torrey      Joshuacaleb  105.0   79.0    38.3,145.1 \n",
       "7   Mariah      Alese        149.0   68.0    36.1,45.7  \n",
       "8   Grayson     Daimen       140.0   80.0    38.1,-72.6 \n",
       "9   Yvette      Trayce       179.0   67.0    36.9,-8.3  \n",
       "10  Cody        Hatim        150.0   63.0    38.0,-7.3  \n",
       "11  Marissa     Daud         135.0   58.0    37.3,11.0  \n",
       "12  Logan       Cristel      133.0   67.0    35.5,-110.2\n",
       "13  Kaiyah      Brinden      187.0   82.0    34.8,83.2  \n",
       "14  Ivan        Devyne       193.0   54.0    36.6,262.0 \n",
       "15  Shamaria    Aldrick      139.0   73.0    38.5,-94.6 \n",
       "16  Travis      Anavictoria  117.0   62.0    36.3,69.5  \n",
       "17  Kennedy     Dalynn       171.0   77.0    37.3,-27.5 \n",
       "18  Alina       Danniell     105.0   55.0    37.4,314.7 \n",
       "19  Cameron     Angelica     139.0   56.0    38.8,-79.3 \n",
       "20  Madison     Barkley      120.0   69.0    38.2,86.1  \n",
       "21  Jackson     Taylr        113.0   78.0    36.7,56.7  \n",
       "22  Agustin     Stephanye    91.0    62.0    36.4,54.5  \n",
       "23  Janesha     Jhayla       143.0   64.0    35.9,-70.5 \n",
       "24  Nickolas    Karenna      159.0   75.0    35.9,-73.9 \n",
       "25  Stacy       Meaghen      149.0   68.0    36.6,-27.7 \n",
       "26  Matthew     Kalis        166.0   66.0    37.8,0.2   \n",
       "27  Rayona      Treniece     151.0   59.0    37.2,140.1 \n",
       "28  Jack        Hanai        164.0   70.0    38.6,-63.6 \n",
       "29  Hayley      Zsazsa       146.0   62.0    36.2,-2.6  \n",
       "30  Jacqueline  Treyten      164.0   73.0    37.1,-56.1 \n",
       "31  Anthony     Janaysia     127.0   77.0    39.1,93.6  \n",
       "32  Saige       Kalieb       144.0   61.0    38.2,16.2  \n",
       "33  Tiffany     Jamire       160.0   87.0    37.6,155.0 \n",
       "34  Nichole     Derryk       134.0   66.0    36.9,-52.0 \n",
       "35  Litzi       Keairah      137.0   69.0    36.8,182.4 \n",
       "36  Timothy     Montrice     151.0   65.0    36.7,69.2  \n",
       "37  Alicia      Lilijana     161.0   77.0    37.2,56.9  \n",
       "38  Margaret    Ruthie       143.0   65.0    36.7,69.2  \n",
       "39  Javier      Allycia      121.0   71.0    37.3,79.6  \n",
       "40  Melanie     Vincent      112.0   60.0    37.3,123.5 \n",
       "41  Jesus       Brennden     145.0   75.0    38.6,-43.4 \n",
       "42  John        Zyon         115.0   77.0    38.1,-106.3\n",
       "43  David       Aubrea       122.0   62.0    38.0,-21.9 \n",
       "44  Wesley      Laniece      165.0   68.0    37.2,71.2  \n",
       "45  Lindsey     Alima        79.0    66.0    36.2,-61.4 \n",
       "46  Kenneth     Kimo         124.0   54.0    37.0,49.6  \n",
       "47  Lauryn      Milia        133.0   62.0    37.7,113.6 \n",
       "48  Ryan        Elleanor     149.0   68.0    37.0,-32.3 \n",
       "49  Keyara      Rozlyn       148.0   70.0    37.5,74.6  \n",
       "50  Tyree       Windy        128.0   80.0    36.9,83.6  \n",
       "51  Tori        Adithi       187.0   68.0    35.5,-12.4 \n",
       "52  Carolina    Cecille      154.0   71.0    38.6,12.4  \n",
       "53  Emmanuel    Leidi        112.0   61.0    37.6,64.6  \n",
       "54  Andrew      Vikrant      90.0    61.0    36.6,36.9  \n",
       "55  Donovan     Randa        120.0   73.0    36.5,28.2  \n",
       "56  Rachel      Alexiz       145.0   67.0    38.0,36.4  \n",
       "57  Dylan       Aryon        104.0   65.0    35.0,18.0  \n",
       "58  Jeevan      Ardit        148.0   71.0    36.9,-58.9 \n",
       "59  Kaitlin     Isrrael      108.0   78.0    36.2,16.0  \n",
       "60  Vanessa     Guiselle     96.0    77.0    38.0,86.0  \n",
       "61  Alyssa      Gillian      88.0    69.0    38.2,252.0 \n",
       "62  Christina   Jerard       178.0   77.0    38.2,-57.5 \n",
       "63  Hayli       Marton       125.0   73.0    37.7,-93.7 \n",
       "64  Isabella    Laverne      117.0   76.0    36.4,88.1  \n",
       "65  Parker      Kerly        160.0   59.0    36.7,139.3 \n",
       "66  Madeleine   Amritpal     166.0   58.0    36.2,51.4  \n",
       "67  Keaton      Kinzy        119.0   64.0    36.4,20.5  \n",
       "68  Mercedes    Tarika       129.0   70.0    37.0,-56.8 \n",
       "69  Dallen      Keshae       127.0   75.0    37.1,-113.1\n",
       "70  Shay        Marcea       103.0   65.0    36.0,-33.1 \n",
       "71  Adrianna    Karsten      157.0   81.0    34.8,36.1  \n",
       "72  Max         Nairi        113.0   67.0    36.9,12.2  \n",
       "73  Suzanne     Dearion      129.0   70.0    36.9,-70.4 \n",
       "74  Camryn      Tasnim       126.0   63.0    36.5,19.8  \n",
       "75  Cielo       Saylah       103.0   65.0    36.1,83.1  \n",
       "76  Annastasia  Averi        91.0    67.0    37.1,-43.7 \n",
       "77  Hannah      Jerit        142.0   53.0    36.6,10.3  \n",
       "78  Jovita      Marquaveon   150.0   70.0    38.2,-32.6 \n",
       "79  Jasmine     Jahmal       107.0   72.0    38.5,9.1   \n",
       "80  Cheyenne    Gerrid       55.0    71.0    36.6,68.2  \n",
       "81  Karma       Nameer       131.0   65.0    37.5,69.8  \n",
       "82  Madeline    Cira         128.0   65.0    37.4,149.6 \n",
       "83  Connor      Sheridyn     141.0   73.0    36.8,-80.7 \n",
       "84  Sarah       Sunday       180.0   54.0    36.7,-5.6  \n",
       "85  Victoria    Maliik       164.0   60.0    36.3,151.2 \n",
       "86  George      Tyshonna     105.0   74.0    37.5,-91.5 \n",
       "87  Marquis     Kylar        137.0   51.0    38.2,228.4 \n",
       "88  Marlene     Fatuma       117.0   64.0    36.4,-9.5  \n",
       "89  Kathryn     Diondra      149.0   65.0    38.3,68.0  \n",
       "90  Jonathan    Jersey       107.0   77.0    36.0,11.8  \n",
       "91  Joshua      Caileen      181.0   67.0    37.3,79.0  \n",
       "92  Emily       Leonid       146.0   57.0    37.8,-68.7 \n",
       "93  Jacqualyn   Angelea      116.0   63.0    36.4,-31.5 \n",
       "94  Gionna      Pamala       180.0   79.0    38.6,-28.6 \n",
       "95  Yasmeen     Jahron       135.0   84.0    38.3,-127.3\n",
       "96  Meghan      Carlyann     101.0   66.0    36.6,80.5  \n",
       "97  Tess        Shree        146.0   68.0    38.8,64.9  \n",
       "98  Maria       Kalvyn       115.0   51.0    37.1,-90.4 \n",
       "99  Lexie       Cheyenna     151.0   71.0    35.9,86.1  "
      ]
     },
     "execution_count": 130,
     "metadata": {},
     "output_type": "execute_result"
    }
   ],
   "source": [
    "df = parse_malformed(fp)\n",
    "df"
   ]
  },
  {
   "cell_type": "code",
   "execution_count": 129,
   "metadata": {},
   "outputs": [
    {
     "data": {
      "text/plain": [
       "'cool'"
      ]
     },
     "execution_count": 129,
     "metadata": {},
     "output_type": "execute_result"
    }
   ],
   "source": [
    "str1 = 'cool\\\"'\n",
    "str1\n",
    "str1 = str1.replace('\\\"', '')\n",
    "str1"
   ]
  },
  {
   "cell_type": "code",
   "execution_count": null,
   "metadata": {},
   "outputs": [],
   "source": []
  },
  {
   "cell_type": "code",
   "execution_count": 222,
   "metadata": {
    "deletable": false,
    "editable": false,
    "scrolled": true
   },
   "outputs": [
    {
     "data": {
      "text/html": [
       "<p><strong><pre style='display: inline;'>q9</pre></strong> passed!</p>"
      ],
      "text/plain": [
       "q9 results: All test cases passed!"
      ]
     },
     "execution_count": 222,
     "metadata": {},
     "output_type": "execute_result"
    }
   ],
   "source": [
    "grader.check(\"q9\")"
   ]
  },
  {
   "cell_type": "markdown",
   "metadata": {},
   "source": [
    "## Congratulations! You're done! 🏁\n",
    "\n",
    "Submit your `.py` file to Gradescope. Note that you only need to submit the `.py` file; this notebook should not be uploaded.\n",
    "\n",
    "Before submitting, you should ensure that all of your work is in the `.py` file. You can do this by running the doctests below, which will verify that your work passes the public tests **and** that your work is in the `.py` file. Run the cell below; you should see no output."
   ]
  },
  {
   "cell_type": "code",
   "execution_count": 131,
   "metadata": {
    "scrolled": true
   },
   "outputs": [],
   "source": [
    "!python -m doctest lab.py"
   ]
  },
  {
   "cell_type": "markdown",
   "metadata": {},
   "source": [
    "In addition, `grader.check_all()` will verify that your work passes the public tests. Ultimately, the Gradescope autograder is also going to run `grader.check_all()`, so you should ensure these pass as well (which they should if the doctests above passed)."
   ]
  },
  {
   "cell_type": "markdown",
   "metadata": {
    "deletable": false,
    "editable": false
   },
   "source": [
    "---\n",
    "\n",
    "To double-check your work, the cell below will rerun all of the autograder tests."
   ]
  },
  {
   "cell_type": "code",
   "execution_count": 132,
   "metadata": {
    "deletable": false,
    "editable": false
   },
   "outputs": [
    {
     "data": {
      "text/plain": [
       "q0 results: All test cases passed!\n",
       "\n",
       "q1 results: All test cases passed!\n",
       "\n",
       "q2 results: All test cases passed!\n",
       "\n",
       "q3 results: All test cases passed!\n",
       "\n",
       "q4 results: All test cases passed!\n",
       "\n",
       "q5 results: All test cases passed!\n",
       "\n",
       "q6 results: All test cases passed!\n",
       "\n",
       "q7 results: All test cases passed!\n",
       "\n",
       "q8 results: All test cases passed!\n",
       "\n",
       "q9 results: All test cases passed!"
      ]
     },
     "execution_count": 132,
     "metadata": {},
     "output_type": "execute_result"
    }
   ],
   "source": [
    "grader.check_all()"
   ]
  }
 ],
 "metadata": {
  "kernel_info": {
   "name": "python3"
  },
  "kernelspec": {
   "display_name": "Python 3 (ipykernel)",
   "language": "python",
   "name": "python3"
  },
  "language_info": {
   "codemirror_mode": {
    "name": "ipython",
    "version": 3
   },
   "file_extension": ".py",
   "mimetype": "text/x-python",
   "name": "python",
   "nbconvert_exporter": "python",
   "pygments_lexer": "ipython3",
   "version": "3.8.12"
  },
  "nteract": {
   "version": "0.15.0"
  },
  "otter": {
   "tests": {
    "q0": {
     "name": "q0",
     "points": 0,
     "suites": [
      {
       "cases": [
        {
         "code": ">>> doctest.run_docstring_examples(consecutive_ints, {'consecutive_ints': consecutive_ints})\n",
         "failure_message": "doctest examples",
         "hidden": false,
         "locked": false,
         "points": 0
        }
       ],
       "scored": true,
       "setup": "",
       "teardown": "",
       "type": "doctest"
      }
     ]
    },
    "q1": {
     "name": "q1",
     "points": null,
     "suites": [
      {
       "cases": [
        {
         "code": ">>> doctest.run_docstring_examples(median_vs_mean, \n...                                {'median_vs_mean': median_vs_mean})\n",
         "failure_message": "doctest examples",
         "hidden": false,
         "locked": false,
         "points": 3
        }
       ],
       "scored": true,
       "setup": "",
       "teardown": "",
       "type": "doctest"
      }
     ]
    },
    "q2": {
     "name": "q2",
     "points": null,
     "suites": [
      {
       "cases": [
        {
         "code": ">>> doctest.run_docstring_examples(same_diff_ints, \n...                                {'same_diff_ints': same_diff_ints})\n",
         "failure_message": "doctest examples",
         "hidden": false,
         "locked": false,
         "points": 2
        }
       ],
       "scored": true,
       "setup": "",
       "teardown": "",
       "type": "doctest"
      }
     ]
    },
    "q3": {
     "name": "q3",
     "points": null,
     "suites": [
      {
       "cases": [
        {
         "code": ">>> doctest.run_docstring_examples(n_prefixes, \n...                                {'n_prefixes': n_prefixes})\n",
         "failure_message": "doctest examples",
         "hidden": false,
         "locked": false,
         "points": 4
        }
       ],
       "scored": true,
       "setup": "",
       "teardown": "",
       "type": "doctest"
      }
     ]
    },
    "q4": {
     "name": "q4",
     "points": null,
     "suites": [
      {
       "cases": [
        {
         "code": ">>> doctest.run_docstring_examples(exploded_numbers, \n...                                {'exploded_numbers': exploded_numbers})\n",
         "failure_message": "doctest examples",
         "hidden": false,
         "locked": false,
         "points": 2
        }
       ],
       "scored": true,
       "setup": "",
       "teardown": "",
       "type": "doctest"
      }
     ]
    },
    "q5": {
     "name": "q5",
     "points": null,
     "suites": [
      {
       "cases": [
        {
         "code": ">>> doctest.run_docstring_examples(last_chars, \n...                                {'last_chars': last_chars,\n...                                 'os': os})\n",
         "failure_message": "doctest examples",
         "hidden": false,
         "locked": false,
         "points": 1
        }
       ],
       "scored": true,
       "setup": "",
       "teardown": "",
       "type": "doctest"
      }
     ]
    },
    "q6": {
     "name": "q6",
     "points": null,
     "suites": [
      {
       "cases": [
        {
         "code": ">>> doctest.run_docstring_examples(add_root, \n...                                {'add_root': add_root, 'np': np})\n",
         "failure_message": "doctest examples for add_root",
         "hidden": false,
         "locked": false,
         "points": 3
        },
        {
         "code": ">>> doctest.run_docstring_examples(where_square, \n...                                {'where_square': where_square, 'np': np})\n",
         "failure_message": "doctest examples for where_square",
         "hidden": false,
         "locked": false,
         "points": 3
        }
       ],
       "scored": true,
       "setup": "",
       "teardown": "",
       "type": "doctest"
      }
     ]
    },
    "q7": {
     "name": "q7",
     "points": null,
     "suites": [
      {
       "cases": [
        {
         "code": ">>> doctest.run_docstring_examples(growth_rates, \n...                                {'growth_rates': growth_rates, 'np': np, 'os': os})\n",
         "failure_message": "doctest examples for growth_rates",
         "hidden": false,
         "locked": false,
         "points": 3
        },
        {
         "code": ">>> doctest.run_docstring_examples(with_leftover, \n...                                {'with_leftover': with_leftover, 'np': np})\n",
         "failure_message": "doctest examples for with_leftover",
         "hidden": false,
         "locked": false,
         "points": 3
        }
       ],
       "scored": true,
       "setup": "",
       "teardown": "",
       "type": "doctest"
      }
     ]
    },
    "q8": {
     "name": "q8",
     "points": null,
     "suites": [
      {
       "cases": [
        {
         "code": ">>> doctest.run_docstring_examples(salary_stats, \n...                                {'salary_stats': salary_stats, 'os': os, 'pd': pd})\n",
         "failure_message": "doctest examples",
         "hidden": false,
         "locked": false,
         "points": 3
        }
       ],
       "scored": true,
       "setup": "",
       "teardown": "",
       "type": "doctest"
      }
     ]
    },
    "q9": {
     "name": "q9",
     "points": null,
     "suites": [
      {
       "cases": [
        {
         "code": ">>> doctest.run_docstring_examples(parse_malformed, \n...                                {'parse_malformed': parse_malformed, 'pd': pd, 'os': os, 'np': np})\n",
         "failure_message": "doctest examples",
         "hidden": false,
         "locked": false,
         "points": 6
        }
       ],
       "scored": true,
       "setup": "",
       "teardown": "",
       "type": "doctest"
      }
     ]
    }
   }
  }
 },
 "nbformat": 4,
 "nbformat_minor": 2
}
