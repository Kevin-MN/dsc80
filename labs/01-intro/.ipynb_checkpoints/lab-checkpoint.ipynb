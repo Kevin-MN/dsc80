{
 "cells": [
  {
   "cell_type": "code",
   "execution_count": 1,
   "metadata": {
    "deletable": false,
    "editable": false
   },
   "outputs": [],
   "source": [
    "# Initialize Otter\n",
    "import otter\n",
    "grader = otter.Notebook(\"lab.ipynb\")"
   ]
  },
  {
   "cell_type": "markdown",
   "metadata": {},
   "source": [
    "# Lab 1 – Introduction\n",
    "\n",
    "## DSC 80, Spring 2022\n",
    "\n",
    "### Due Date: Monday, April 4th at 11:59 PM"
   ]
  },
  {
   "cell_type": "markdown",
   "metadata": {},
   "source": [
    "## Instructions\n",
    "\n",
    "Welcome to the first assignment in DSC 80 this quarter!\n",
    "\n",
    "Much like in DSC 10, this Jupyter Notebook contains the statements of the problems and provides code and Markdown cells to display your answers to the problems. Unlike DSC 10, the notebook is *only* for displaying a readable version of your final answers. The coding will be done in an accompanying `lab.py` file that is imported into the current notebook.\n",
    "\n",
    "Labs and programming assignments will be graded in (at most) two ways:\n",
    "1. The functions and classes in the accompanying `.py` file will be tested (a la DSC 20),\n",
    "2. The notebook may be graded (if it contains free response questions or asks you to draw plots).\n",
    "\n",
    "**Note**: Labs will have public tests and private tests. The public \"smoke tests\" that you will run below and which appear on Gradescope are generally worth no points. After the due date, we will replace these tests with private tests that will determine your grade. This is different from DSC 10, where labs only had public tests!\n",
    "\n",
    "**Do not change the function names in the `*.py` file!**\n",
    "- The functions in the `*.py` file are how your assignment is graded, and they are graded by their name.\n",
    "- If you changed something you weren't supposed to, just use git to revert! Ask us if you need help with this, or google around for `git revert`.\n",
    "\n",
    "**Tips for working in the notebook**:\n",
    "- The notebooks serve to present the questions and give you a place to present your results for later review.\n",
    "- The notebooks in *lab assignments* are not graded (only the `.py` file is submitted and graded).\n",
    "- Notebooks for *projects* will serve as a final report for the assignment, and contain conclusions and answers to open ended questions that are graded.\n",
    "- The notebook serves as a nice environment for 'pre-development' and experimentation before designing your function in your `.py` file. You can write code here, but make sure that all of your real work is in the `.py` file.\n",
    "\n",
    "**Tips for developing in the `.py` file**:\n",
    "- Do not change the function names in the starter code; grading is done using these function names.\n",
    "- Do not change the docstrings in the functions. These are there to tell you if your work is on the right track!\n",
    "- You are encouraged to write your own additional helper functions to solve the lab! \n",
    "    - Developing in python usually consists of larger files, with many short functions.\n",
    "    - You may write your other functions in an additional `.py` file that you import in `lab.py` (much like we do in the notebook).\n",
    "- Always document your code!"
   ]
  },
  {
   "cell_type": "markdown",
   "metadata": {},
   "source": [
    "**Importing code from `lab.py`**:\n",
    "\n",
    "* Below, we import the `.py` file that's contained in the same directory as this notebook.\n",
    "* We use the `autoreload` notebook extension to make changes to our `lab.py` file immediately available in our notebook. Without this extension, we would need to restart the notebook kernel to see any changes to `lab.py` in the notebook.\n",
    "    - `autoreload` is necessary because, upon import, `lab.py` is compiled to bytecode (in the directory `__pycache__`). Subsequent imports of `lab` merely import the existing compiled python."
   ]
  },
  {
   "cell_type": "code",
   "execution_count": 2,
   "metadata": {},
   "outputs": [],
   "source": [
    "%load_ext autoreload\n",
    "%autoreload 2"
   ]
  },
  {
   "cell_type": "code",
   "execution_count": 3,
   "metadata": {},
   "outputs": [],
   "source": [
    "from lab import *"
   ]
  },
  {
   "cell_type": "code",
   "execution_count": 4,
   "metadata": {},
   "outputs": [],
   "source": [
    "import os\n",
    "import io\n",
    "import pandas as pd\n",
    "import numpy as np\n",
    "import doctest"
   ]
  },
  {
   "cell_type": "markdown",
   "metadata": {},
   "source": [
    "### Infrastructure Summary\n",
    "\n",
    "Run the following cell to see a [YouTube video 🎥](https://youtu.be/FpTo4AM9B30) that summarizes the above information and walks you through how to\n",
    "- set up your programming environment (see the instructions in [Tech Support](https://dsc80.com/tech_support) for more details),\n",
    "- access assignments,\n",
    "- work on and test assignments, and\n",
    "- submit assignments.\n",
    "\n",
    "The video is also linked on the [Resources tab of the course website](https://dsc80.com/resources)."
   ]
  },
  {
   "cell_type": "code",
   "execution_count": 5,
   "metadata": {},
   "outputs": [
    {
     "data": {
      "image/jpeg": "[encoded data removed]",
      "text/html": [
       "\n",
       "        <iframe\n",
       "            width=\"400\"\n",
       "            height=\"300\"\n",
       "            src=\"https://www.youtube.com/embed/FpTo4AM9B30\"\n",
       "            frameborder=\"0\"\n",
       "            allowfullscreen\n",
       "            \n",
       "        ></iframe>\n",
       "        "
      ],
      "text/plain": [
       "<IPython.lib.display.YouTubeVideo at 0x7f7e9174be50>"
      ]
     },
     "execution_count": 5,
     "metadata": {},
     "output_type": "execute_result"
    }
   ],
   "source": [
    "from IPython.display import YouTubeVideo\n",
    "YouTubeVideo('FpTo4AM9B30')"
   ]
  },
  {
   "cell_type": "markdown",
   "metadata": {},
   "source": [
    "Let's get started! 🎉"
   ]
  },
  {
   "cell_type": "markdown",
   "metadata": {},
   "source": [
    "## Part 1: Python Basics 🐍"
   ]
  },
  {
   "cell_type": "markdown",
   "metadata": {},
   "source": [
    "### Question 0 – Consecutive Integers\n",
    "\n",
    "Complete the implementation of the function `consecutive_ints`, which takes in a possibly empty list of integers (`ints`) and returns `True` if there exist two adjacent list elements that are consecutive integers and `False` otherwise.\n",
    "\n",
    "For example, since `9` is next to `8`, `consecutive_ints([5, 3, 6, 4, 9, 8])` should evaluate to `True`, since `9` and `8` are consecutive integers. On the other hand, `consecutive_ints([1, 3, 5, 7, 9])` should evaluate to `False`.\n",
    "\n",
    "***Note***: If you look at `lab.py`, you'll notice that the solution to this problem is already there. This question is done for you to show you what a completed homework problem looks like."
   ]
  },
  {
   "cell_type": "code",
   "execution_count": 6,
   "metadata": {
    "tags": []
   },
   "outputs": [],
   "source": [
    "# The cells below are here for you to write scratch work in. \n",
    "# You should write the code for your answer in `lab.py`, not here."
   ]
  },
  {
   "cell_type": "code",
   "execution_count": 7,
   "metadata": {
    "tags": []
   },
   "outputs": [
    {
     "data": {
      "text/plain": [
       "True"
      ]
     },
     "execution_count": 7,
     "metadata": {},
     "output_type": "execute_result"
    }
   ],
   "source": [
    "consecutive_ints([5,3,6,4,9,8])"
   ]
  },
  {
   "cell_type": "code",
   "execution_count": 8,
   "metadata": {
    "tags": []
   },
   "outputs": [
    {
     "data": {
      "text/plain": [
       "False"
      ]
     },
     "execution_count": 8,
     "metadata": {},
     "output_type": "execute_result"
    }
   ],
   "source": [
    "consecutive_ints([1, 3, 5, 7, 9])"
   ]
  },
  {
   "cell_type": "markdown",
   "metadata": {},
   "source": [
    "There are two ways to test your code:\n",
    "\n",
    "1. Run the cell below containing `grader.check` to test your code.\n",
    "2. Run doctests on `lab.py` by running the following command on the command line:\n",
    "```\n",
    "python -m doctest lab.py\n",
    "```\n",
    "If the doctests pass, then there should be *no* output.\n",
    "\n",
    "The `grader.check` tests in your notebook will **always include** the doctests, so you do not need to run both. However, it is a good idea to run the doctests separately in the command line because that will ensure that all of your code is in `lab.py`, which is where it needs to be.\n",
    "\n",
    "In addition, you should also try writing some of your own tests by calling your functions on different inputs. Does it work for corner cases? Real-world data is **very messy** and you should expect your data processing code to break without thorough testing!"
   ]
  },
  {
   "cell_type": "code",
   "execution_count": 9,
   "metadata": {
    "deletable": false,
    "editable": false
   },
   "outputs": [
    {
     "data": {
      "text/html": [
       "<p><strong><pre style='display: inline;'>q0</pre></strong> passed!</p>"
      ],
      "text/plain": [
       "q0 results: All test cases passed!"
      ]
     },
     "execution_count": 9,
     "metadata": {},
     "output_type": "execute_result"
    }
   ],
   "source": [
    "grader.check(\"q0\")"
   ]
  },
  {
   "cell_type": "markdown",
   "metadata": {},
   "source": [
    "### Question 1 – Median vs. Mean\n",
    "\n",
    "Complete the implementation of the function `median_vs_mean`, which takes in a non-empty list of numbers (`nums`) and returns `True` if median of the list is less than or equal to the mean of the list and `False` otherwise.\n",
    "\n",
    "Recall, if a list has even length, the median is the mean of the middle two elements.\n",
    "\n",
    "***Note:*** In this question, you may only use built-in functions and methods in Python. You should not use `numpy` or `pandas` at all, nor should you import any additional packages."
   ]
  },
  {
   "cell_type": "code",
   "execution_count": null,
   "metadata": {},
   "outputs": [],
   "source": []
  },
  {
   "cell_type": "code",
   "execution_count": 10,
   "metadata": {},
   "outputs": [
    {
     "data": {
      "text/plain": [
       "2.0"
      ]
     },
     "execution_count": 10,
     "metadata": {},
     "output_type": "execute_result"
    }
   ],
   "source": [
    "mean([1,2,3])"
   ]
  },
  {
   "cell_type": "code",
   "execution_count": 11,
   "metadata": {},
   "outputs": [
    {
     "data": {
      "text/plain": [
       "[1, 3, 3, 5, 6, 8, 9, 10]"
      ]
     },
     "execution_count": 11,
     "metadata": {},
     "output_type": "execute_result"
    }
   ],
   "source": [
    "sorted([1,5,8,3,6,3,9,10])"
   ]
  },
  {
   "cell_type": "code",
   "execution_count": 12,
   "metadata": {},
   "outputs": [
    {
     "data": {
      "text/plain": [
       "5.5"
      ]
     },
     "execution_count": 12,
     "metadata": {},
     "output_type": "execute_result"
    }
   ],
   "source": [
    "median([1,5,8,3,6,3,9,10])"
   ]
  },
  {
   "cell_type": "code",
   "execution_count": 13,
   "metadata": {},
   "outputs": [
    {
     "data": {
      "text/plain": [
       "3"
      ]
     },
     "execution_count": 13,
     "metadata": {},
     "output_type": "execute_result"
    }
   ],
   "source": [
    "median([1,2,3,4,5])"
   ]
  },
  {
   "cell_type": "code",
   "execution_count": 14,
   "metadata": {
    "tags": []
   },
   "outputs": [
    {
     "data": {
      "text/plain": [
       "True"
      ]
     },
     "execution_count": 14,
     "metadata": {},
     "output_type": "execute_result"
    }
   ],
   "source": [
    " median_vs_mean([6, 5, 4, 3, 2])"
   ]
  },
  {
   "cell_type": "code",
   "execution_count": 15,
   "metadata": {
    "scrolled": true,
    "tags": []
   },
   "outputs": [
    {
     "data": {
      "text/plain": [
       "True"
      ]
     },
     "execution_count": 15,
     "metadata": {},
     "output_type": "execute_result"
    }
   ],
   "source": [
    "median_vs_mean([50, 20, 15, 40])"
   ]
  },
  {
   "cell_type": "code",
   "execution_count": 16,
   "metadata": {},
   "outputs": [
    {
     "data": {
      "text/plain": [
       "False"
      ]
     },
     "execution_count": 16,
     "metadata": {},
     "output_type": "execute_result"
    }
   ],
   "source": [
    "median_vs_mean([1, 8, 9])"
   ]
  },
  {
   "cell_type": "code",
   "execution_count": 17,
   "metadata": {
    "deletable": false,
    "editable": false
   },
   "outputs": [
    {
     "data": {
      "text/html": [
       "<p><strong><pre style='display: inline;'>q1</pre></strong> passed!</p>"
      ],
      "text/plain": [
       "q1 results: All test cases passed!"
      ]
     },
     "execution_count": 17,
     "metadata": {},
     "output_type": "execute_result"
    }
   ],
   "source": [
    "grader.check(\"q1\")"
   ]
  },
  {
   "cell_type": "markdown",
   "metadata": {},
   "source": [
    "### Question 2 – Same Difference\n",
    "\n",
    "Complete the implementation of the function `same_diff_ints`, which takes in a list of integers (`ints`) and returns `True` if there exist two list elements $i$ positions apart, whose absolute difference as integers is also $i$. If there are no two elements satisfying this condition, `same_diff_ints` should return `False`.\n",
    "\n",
    "For example, because `3` (position 1) `5` (position 3) are 2 positions apart, and $|3-5| = 2$:\n",
    "```py\n",
    ">>> same_diff_ints([5, 3, 1, 5, 9, 8])\n",
    "True\n",
    "```\n",
    "Whereas:\n",
    "```py\n",
    ">>> same_diff_ints([1, 3, 5, 7, 9])\n",
    "False\n",
    "```\n",
    "\n",
    "**Important:** While implementing `same_diff_ints`, we will assume that `ints` tends to satisfy the condition, and that the pair(s) saitifying the condition tend to be close together. As such, you must implement `same_diff_ints` such that it **runs quicker in cases where the pairs are close together than in cases where the pairs are further apart**. While you will still likely need a nested `for`-loop, this will inform how you configure your loop variables. (Optimizing your code for an assumed distribution of incoming data is very common in data science).\n",
    "\n",
    "***Hint 1:*** This is similar to Question 0.\n",
    "\n",
    "***Hint 2:*** Make sure to define some extreme test cases, like when `ints` is an empty list. Also, use the `%%time` magic command to time your function, to make sure it satisfies the optimization requirement above."
   ]
  },
  {
   "cell_type": "code",
   "execution_count": 18,
   "metadata": {
    "tags": []
   },
   "outputs": [
    {
     "data": {
      "text/plain": [
       "True"
      ]
     },
     "execution_count": 18,
     "metadata": {},
     "output_type": "execute_result"
    }
   ],
   "source": [
    "same_diff_ints([5, 3, 1, 5, 9, 8])"
   ]
  },
  {
   "cell_type": "code",
   "execution_count": 19,
   "metadata": {
    "tags": []
   },
   "outputs": [
    {
     "data": {
      "text/plain": [
       "False"
      ]
     },
     "execution_count": 19,
     "metadata": {},
     "output_type": "execute_result"
    }
   ],
   "source": [
    "same_diff_ints([1, 3, 5, 7, 9])"
   ]
  },
  {
   "cell_type": "markdown",
   "metadata": {},
   "source": [
    "Make sure your function runs in under 5 seconds."
   ]
  },
  {
   "cell_type": "code",
   "execution_count": 20,
   "metadata": {},
   "outputs": [
    {
     "name": "stdout",
     "output_type": "stream",
     "text": [
      "CPU times: user 8 µs, sys: 3 µs, total: 11 µs\n",
      "Wall time: 13.8 µs\n"
     ]
    },
    {
     "data": {
      "text/plain": [
       "True"
      ]
     },
     "execution_count": 20,
     "metadata": {},
     "output_type": "execute_result"
    }
   ],
   "source": [
    "%%time\n",
    "same_diff_ints([5, 3, 1, 5, 9, 8])"
   ]
  },
  {
   "cell_type": "code",
   "execution_count": 21,
   "metadata": {
    "deletable": false,
    "editable": false
   },
   "outputs": [
    {
     "data": {
      "text/html": [
       "<p><strong><pre style='display: inline;'>q2</pre></strong> passed!</p>"
      ],
      "text/plain": [
       "q2 results: All test cases passed!"
      ]
     },
     "execution_count": 21,
     "metadata": {},
     "output_type": "execute_result"
    }
   ],
   "source": [
    "grader.check(\"q2\")"
   ]
  },
  {
   "cell_type": "markdown",
   "metadata": {},
   "source": [
    "## Part 2: Strings and Files 🧵\n",
    "\n",
    "The following questions will familiarize you with the basics of working with strings and reading data from files. Remember that by default, data from files are stored as strings in Python."
   ]
  },
  {
   "cell_type": "markdown",
   "metadata": {},
   "source": [
    "### Question 3 – $n$ Prefixes\n",
    "\n",
    "Complete the implementation of the function `n_prefixes`, which takes a string `s` and a positive integer `n`. It returns a string containing the first `n` consecutive prefixes of `s` in reverse order.\n",
    "\n",
    "For example, let's suppose `s` is the string `'Billy!'` and `n` is `4`. The consecutive prefixes of `'Billy!'` are:\n",
    "- `'B'`\n",
    "- `'Bi'`\n",
    "- `'Bil'`\n",
    "- `'Bill'`\n",
    "- `'Billy'`\n",
    "- `'Billy!'`\n",
    "\n",
    "The first 4 of these are `'B'`, `'Bi'`, `'Bil'`, and `'Bill'`. If we combine these 4 in reverse order, we get `'BillBilBiB'`, which is what `n_prefixes('Billy!', 4)` should return. See the doctests for more examples. **You may assume that `n` is no larger than the length of `s`.**\n",
    "\n",
    "***Hint:*** Recall that [strings may be sliced](https://docs.python.org/3/tutorial/introduction.html#strings), like lists."
   ]
  },
  {
   "cell_type": "code",
   "execution_count": 22,
   "metadata": {
    "tags": []
   },
   "outputs": [
    {
     "data": {
      "text/plain": [
       "'BillBilBiB'"
      ]
     },
     "execution_count": 22,
     "metadata": {},
     "output_type": "execute_result"
    }
   ],
   "source": [
    "n_prefixes('Billy!', 4)"
   ]
  },
  {
   "cell_type": "code",
   "execution_count": 23,
   "metadata": {
    "tags": []
   },
   "outputs": [
    {
     "data": {
      "text/plain": [
       "'MarMaM'"
      ]
     },
     "execution_count": 23,
     "metadata": {},
     "output_type": "execute_result"
    }
   ],
   "source": [
    "n_prefixes('Marina', 3)"
   ]
  },
  {
   "cell_type": "code",
   "execution_count": 24,
   "metadata": {},
   "outputs": [
    {
     "data": {
      "text/plain": [
       "'aaa'"
      ]
     },
     "execution_count": 24,
     "metadata": {},
     "output_type": "execute_result"
    }
   ],
   "source": [
    "n_prefixes('aaron', 2)"
   ]
  },
  {
   "cell_type": "code",
   "execution_count": 25,
   "metadata": {},
   "outputs": [
    {
     "data": {
      "text/plain": [
       "'JustiJustJusJuJ'"
      ]
     },
     "execution_count": 25,
     "metadata": {},
     "output_type": "execute_result"
    }
   ],
   "source": [
    "n_prefixes('Justin', 5)"
   ]
  },
  {
   "cell_type": "code",
   "execution_count": 26,
   "metadata": {
    "deletable": false,
    "editable": false
   },
   "outputs": [
    {
     "data": {
      "text/html": [
       "<p><strong><pre style='display: inline;'>q3</pre></strong> passed!</p>"
      ],
      "text/plain": [
       "q3 results: All test cases passed!"
      ]
     },
     "execution_count": 26,
     "metadata": {},
     "output_type": "execute_result"
    }
   ],
   "source": [
    "grader.check(\"q3\")"
   ]
  },
  {
   "cell_type": "markdown",
   "metadata": {},
   "source": [
    "### Question 4 – Exploded Numbers 💣\n",
    "\n",
    "Complete the implementation of the function `exploded_numbers`, which takes in a list of integers (`ints`) and a non-negative integer (`n`) and **returns a list of strings** containing numbers from the list expanded by `n` numbers in both directions, separated by spaces. Each integer should be [zero padded](https://www.tutorialspoint.com/python/string_zfill.htm) so that all integers outputted have the same length.\n",
    "\n",
    "For example, consider `exploded_numbers([3, 8, 15], 2)`.\n",
    "- If we explode 3 by 2 numbers in both directions, we get 1, 2, 3, 4, 5.\n",
    "- If we explode 8 by 2 numbers in both directions, we get 6, 7, 8, 9, 10.\n",
    "- If we explode 15 by 2 numbers in both directions, we get 13, 14, 15, 16, 17.\n",
    "\n",
    "The longest length of any of the exploded numbers above is 2, so all of the outputted integers should have length 2.\n",
    "\n",
    "- The string corresponding to 3 in the input is `'01 02 03 04 05'`.\n",
    "- The string corresponding to 8 in the input is `'06 07 08 09 10'`.\n",
    "- The string corresponding to 15 in the input is `'13 14 15 16 17'`.\n",
    "\n",
    "So, `exploded_numbers([3, 8, 15], 2)` should return `['01 02 03 04 05', '06 07 08 09 10', '13 14 15 16 17']`. See the doctest for another example.\n",
    "\n",
    "***Note***: You can assume that negative numbers will never be encountered. That is, when testing your code, we will never explode a number so much that it becomes negative."
   ]
  },
  {
   "cell_type": "code",
   "execution_count": 27,
   "metadata": {
    "tags": []
   },
   "outputs": [
    {
     "data": {
      "text/plain": [
       "True"
      ]
     },
     "execution_count": 27,
     "metadata": {},
     "output_type": "execute_result"
    }
   ],
   "source": [
    "exploded_numbers([3, 8, 15], 2) == ['01 02 03 04 05', '06 07 08 09 10', '13 14 15 16 17']"
   ]
  },
  {
   "cell_type": "code",
   "execution_count": 28,
   "metadata": {
    "tags": []
   },
   "outputs": [
    {
     "data": {
      "text/plain": [
       "['006 007 008 009 010 011 012', '096 097 098 099 100 101 102']"
      ]
     },
     "execution_count": 28,
     "metadata": {},
     "output_type": "execute_result"
    }
   ],
   "source": [
    "exploded_numbers([9, 99], 3)"
   ]
  },
  {
   "cell_type": "code",
   "execution_count": 29,
   "metadata": {},
   "outputs": [
    {
     "data": {
      "text/plain": [
       "True"
      ]
     },
     "execution_count": 29,
     "metadata": {},
     "output_type": "execute_result"
    }
   ],
   "source": [
    "exploded_numbers([9, 99], 3) == ['006 007 008 009 010 011 012', '096 097 098 099 100 101 102']"
   ]
  },
  {
   "cell_type": "code",
   "execution_count": 30,
   "metadata": {
    "deletable": false,
    "editable": false
   },
   "outputs": [
    {
     "data": {
      "text/html": [
       "<p><strong><pre style='display: inline;'>q4</pre></strong> passed!</p>"
      ],
      "text/plain": [
       "q4 results: All test cases passed!"
      ]
     },
     "execution_count": 30,
     "metadata": {},
     "output_type": "execute_result"
    }
   ],
   "source": [
    "grader.check(\"q4\")"
   ]
  },
  {
   "cell_type": "markdown",
   "metadata": {},
   "source": [
    "### Question 5 – Reading Files\n",
    "\n",
    "[Recall](https://docs.python.org/3/tutorial/inputoutput.html#reading-and-writing-files) that the built-in function `open` takes in a file path and returns *a file object* (sometimes called a *file handle*). Below are a few properties of file objects:\n",
    "\n",
    "* `open(path)` opens the file at location `path` for reading.\n",
    "* `open(path)` is an *iterable*, which contains successive lines of the file.\n",
    "* Once a file object is opened, after use it should be closed to avoid memory leaks. To ensure a file is closed once done, you should use a *context manager* as follows:\n",
    "```py\n",
    "with open(path) as fh:\n",
    "    for line in fh:\n",
    "        process_line(line)\n",
    "```\n",
    "* To read the entire file into a string, use the `read` method:\n",
    "```py\n",
    "with open(path) as fh:\n",
    "    s = fh.read()\n",
    "```\n",
    "\n",
    "However, you should be careful when reading an entire file into memory that the file isn't too big! *You should avoid this whenever possible!*\n",
    "\n",
    "Complete the implementation of the function `last_chars`, which takes in file object (`fh`) and returns a string consisting of the last character of each line. Note that you don't have to use `open` at all; the argument given to you is a file object, not a file path.\n",
    "\n",
    "***Note:*** A newline (`'\\n'`) is the \"delimiter\" of the lines of a file, and doesn't count as part of the line (as the tests imply). Every other character is part of the line. For more info on this, see [the interpretation](https://en.wikipedia.org/wiki/Newline#Interpretation) of files as a 'newline delimited variables' file."
   ]
  },
  {
   "cell_type": "code",
   "execution_count": 31,
   "metadata": {
    "tags": []
   },
   "outputs": [
    {
     "data": {
      "text/plain": [
       "'hrg'"
      ]
     },
     "execution_count": 31,
     "metadata": {},
     "output_type": "execute_result"
    }
   ],
   "source": [
    "fp = os.path.join('data', 'chars.txt')\n",
    "last_chars(open(fp))"
   ]
  },
  {
   "cell_type": "code",
   "execution_count": null,
   "metadata": {
    "tags": []
   },
   "outputs": [],
   "source": []
  },
  {
   "cell_type": "code",
   "execution_count": 32,
   "metadata": {
    "deletable": false,
    "editable": false
   },
   "outputs": [
    {
     "data": {
      "text/html": [
       "<p><strong><pre style='display: inline;'>q5</pre></strong> passed!</p>"
      ],
      "text/plain": [
       "q5 results: All test cases passed!"
      ]
     },
     "execution_count": 32,
     "metadata": {},
     "output_type": "execute_result"
    }
   ],
   "source": [
    "grader.check(\"q5\")"
   ]
  },
  {
   "cell_type": "markdown",
   "metadata": {},
   "source": [
    "## Part 3: `numpy` exercises 🥧\n",
    "\n",
    "For a refresher on `numpy` and arrays, refer to the relevant section of the [DSC 10 course notes](https://notes.dsc10.com/02-data_sets/arrays.html)."
   ]
  },
  {
   "cell_type": "markdown",
   "metadata": {},
   "source": [
    "### Question 6 – Array Methods\n",
    "\n",
    "Complete the implementations of the functions `add_root` and `where_square`. Specifications are given below. Your solutions should **not** contain any loops or list comprehensions.\n",
    "\n",
    "#### `add_root`\n",
    "\n",
    "`add_root` should take in a `numpy` array, `A`, and return a new `numpy` array that contains the element-wise sum of the elements in `A` with the _square roots of the positions of the elements in `A`_. If `A` contains the values 5, 9, and 4, the output array should contain the values 5 (5 + $\\sqrt{0}$), 10 (9 + $\\sqrt{1}$), and 5.4142... (4 + $\\sqrt{2}$).\n",
    "\n",
    "#### `where_square`\n",
    "\n",
    "`where_square` should take in a `numpy` array, `A`, and return a new `numpy` array of Booleans whose `i`th element is `True` if and only if the `i`th element of `A` is a perfect square."
   ]
  },
  {
   "cell_type": "code",
   "execution_count": 33,
   "metadata": {
    "tags": []
   },
   "outputs": [
    {
     "data": {
      "text/plain": [
       "array([2.        , 5.        , 7.41421356, 8.73205081])"
      ]
     },
     "execution_count": 33,
     "metadata": {},
     "output_type": "execute_result"
    }
   ],
   "source": [
    "l = np.array([2, 4, 6, 7])\n",
    "add_root(l)"
   ]
  },
  {
   "cell_type": "code",
   "execution_count": 34,
   "metadata": {},
   "outputs": [
    {
     "data": {
      "text/plain": [
       "array([2.        , 5.        , 7.41421356, 8.73205081])"
      ]
     },
     "execution_count": 34,
     "metadata": {},
     "output_type": "execute_result"
    }
   ],
   "source": [
    "A = np.array([2, 4, 6, 7])\n",
    "out = add_root(A)\n",
    "isinstance(out, np.ndarray)\n",
    "out\n",
    "\n"
   ]
  },
  {
   "cell_type": "code",
   "execution_count": 35,
   "metadata": {},
   "outputs": [
    {
     "data": {
      "text/plain": [
       "True"
      ]
     },
     "execution_count": 35,
     "metadata": {},
     "output_type": "execute_result"
    }
   ],
   "source": [
    "  \n",
    "np.all(out >= A)"
   ]
  },
  {
   "cell_type": "code",
   "execution_count": 36,
   "metadata": {},
   "outputs": [
    {
     "data": {
      "text/plain": [
       "True"
      ]
     },
     "execution_count": 36,
     "metadata": {},
     "output_type": "execute_result"
    }
   ],
   "source": [
    "    \n",
    "np.isclose(out[3], 7 + np.sqrt(3))"
   ]
  },
  {
   "cell_type": "code",
   "execution_count": 37,
   "metadata": {
    "tags": []
   },
   "outputs": [
    {
     "data": {
      "text/plain": [
       "3.0"
      ]
     },
     "execution_count": 37,
     "metadata": {},
     "output_type": "execute_result"
    }
   ],
   "source": [
    "np.sqrt(9)"
   ]
  },
  {
   "cell_type": "code",
   "execution_count": 38,
   "metadata": {},
   "outputs": [],
   "source": [
    "out = where_square(np.array([1, 2, 16, 17, 32, 49]))"
   ]
  },
  {
   "cell_type": "code",
   "execution_count": 39,
   "metadata": {},
   "outputs": [
    {
     "data": {
      "text/plain": [
       "True"
      ]
     },
     "execution_count": 39,
     "metadata": {},
     "output_type": "execute_result"
    }
   ],
   "source": [
    "isinstance(out, np.ndarray)"
   ]
  },
  {
   "cell_type": "code",
   "execution_count": 40,
   "metadata": {},
   "outputs": [
    {
     "data": {
      "text/plain": [
       "True"
      ]
     },
     "execution_count": 40,
     "metadata": {},
     "output_type": "execute_result"
    }
   ],
   "source": [
    "out.dtype == np.dtype('bool')"
   ]
  },
  {
   "cell_type": "code",
   "execution_count": 41,
   "metadata": {},
   "outputs": [
    {
     "data": {
      "text/plain": [
       "True"
      ]
     },
     "execution_count": 41,
     "metadata": {},
     "output_type": "execute_result"
    }
   ],
   "source": [
    "out[2]"
   ]
  },
  {
   "cell_type": "code",
   "execution_count": 42,
   "metadata": {},
   "outputs": [
    {
     "data": {
      "text/plain": [
       "array([ True, False,  True, False, False,  True])"
      ]
     },
     "execution_count": 42,
     "metadata": {},
     "output_type": "execute_result"
    }
   ],
   "source": [
    "out"
   ]
  },
  {
   "cell_type": "code",
   "execution_count": 43,
   "metadata": {
    "deletable": false,
    "editable": false
   },
   "outputs": [
    {
     "data": {
      "text/html": [
       "<p><strong><pre style='display: inline;'>q6</pre></strong> passed!</p>"
      ],
      "text/plain": [
       "q6 results: All test cases passed!"
      ]
     },
     "execution_count": 43,
     "metadata": {},
     "output_type": "execute_result"
    }
   ],
   "source": [
    "grader.check(\"q6\")"
   ]
  },
  {
   "cell_type": "markdown",
   "metadata": {},
   "source": [
    "### Question 7 – Stock Prices 📈\n",
    "\n",
    "Complete the implementations of the functions `growth_rates` and `with_leftover`. Specifications are given below. Your solutions should **not** contain any loops or list comprehensions.\n",
    "\n",
    "#### `growth_rates`\n",
    "\n",
    "`growth_rates` should take in a `numpy` array, `A`, of [stock prices](https://en.wikipedia.org/wiki/Stock) for a single stock on successive days in USD. It should return an array of growth rates. That is, the `i`th number of the returned array should contain the rate of growth in stock price between the $i^{th}$ day to the $(i+1)^{th}$ day. The growth rate between two values is defined as $\\frac{\\text{final} - \\text{initial}}{\\text{initial}}$. You should return growth rates as **proportions, rounded to two decimal places**.\n",
    "\n",
    "#### `with_leftover`\n",
    "\n",
    "Again, suppose `A` is a `numpy` array of stock prices. Consider the following scheme: \n",
    "\n",
    "- Suppose that you start each day with \\$20 to purchase stocks. \n",
    "- Each day, you purchase as many shares as possible of the stock. (The price changes each day, according to `A`.)\n",
    "- Any money left-over after a given day is saved for possibly buying stock on a future day.\n",
    "\n",
    "The function `with_leftover` should take in `A` and return the day (as an `int`) on which you can buy at least one full share using just \"left-over\" money. If this never happens, return `-1`. Note that the first stock purchase occurs on Day 0, and that you cannot purchase fractions of a share of a stock.\n",
    "\n",
    "For example, if the stock price is \\$3 every day, then the answer is `1` (corresponding to Day 1):\n",
    "- Day 0: Buy 6 stocks with \\\\$20, and \\\\$2 is added to the leftover. Your total leftover is currently \\\\$2. This is not enough to buy one extra share, so you continue.\n",
    "- Day 1: Buy 6 stocks with \\\\$20, and another \\\\$2 is added to the leftover. Your total leftover is now \\\\$4, so you can now buy one extra share. Hence, the answer is Day 1, and `with_leftover` should return `1`.\n",
    "\n",
    "***Hint:*** `np.cumsum` may be helpful."
   ]
  },
  {
   "cell_type": "code",
   "execution_count": 44,
   "metadata": {
    "tags": []
   },
   "outputs": [
    {
     "data": {
      "text/plain": [
       "True"
      ]
     },
     "execution_count": 44,
     "metadata": {},
     "output_type": "execute_result"
    }
   ],
   "source": [
    "fp = os.path.join('data', 'stocks.csv')\n",
    "\n",
    "stocks = np.array([float(x) for x in open(fp)])\n",
    "out = growth_rates(stocks)\n",
    "isinstance(out, np.ndarray)"
   ]
  },
  {
   "cell_type": "code",
   "execution_count": 45,
   "metadata": {
    "tags": []
   },
   "outputs": [
    {
     "data": {
      "text/plain": [
       "True"
      ]
     },
     "execution_count": 45,
     "metadata": {},
     "output_type": "execute_result"
    }
   ],
   "source": [
    "out.dtype == np.dtype('float')"
   ]
  },
  {
   "cell_type": "code",
   "execution_count": 46,
   "metadata": {},
   "outputs": [
    {
     "data": {
      "text/plain": [
       "True"
      ]
     },
     "execution_count": 46,
     "metadata": {},
     "output_type": "execute_result"
    }
   ],
   "source": [
    "out.max() == 0.03"
   ]
  },
  {
   "cell_type": "code",
   "execution_count": 47,
   "metadata": {},
   "outputs": [
    {
     "data": {
      "text/plain": [
       "99"
      ]
     },
     "execution_count": 47,
     "metadata": {},
     "output_type": "execute_result"
    }
   ],
   "source": [
    "len(out)"
   ]
  },
  {
   "cell_type": "code",
   "execution_count": 48,
   "metadata": {},
   "outputs": [],
   "source": [
    "# Don't change this cell -- it is needed for the tests to work\n",
    "fp = os.path.join('data', 'stocks.csv')\n",
    "stocks = np.array([float(x) for x in open(fp)])\n",
    "out_3_stocks = growth_rates(stocks)\n",
    "\n",
    "A_4 = np.array([3, 3, 3, 3])\n",
    "out_4 = with_leftover(A_4)"
   ]
  },
  {
   "cell_type": "code",
   "execution_count": 49,
   "metadata": {},
   "outputs": [
    {
     "data": {
      "text/plain": [
       "array([ 1,  3,  6, 10, 15])"
      ]
     },
     "execution_count": 49,
     "metadata": {},
     "output_type": "execute_result"
    }
   ],
   "source": [
    "np.cumsum(np.array([1,2,3,4,5]))"
   ]
  },
  {
   "cell_type": "code",
   "execution_count": 50,
   "metadata": {},
   "outputs": [],
   "source": [
    "import numbers"
   ]
  },
  {
   "cell_type": "code",
   "execution_count": 51,
   "metadata": {},
   "outputs": [],
   "source": [
    "stocks = np.array([3, 3, 3, 3])"
   ]
  },
  {
   "cell_type": "code",
   "execution_count": 52,
   "metadata": {},
   "outputs": [],
   "source": [
    "out = with_leftover(stocks)"
   ]
  },
  {
   "cell_type": "code",
   "execution_count": 53,
   "metadata": {},
   "outputs": [
    {
     "data": {
      "text/plain": [
       "True"
      ]
     },
     "execution_count": 53,
     "metadata": {},
     "output_type": "execute_result"
    }
   ],
   "source": [
    "isinstance(out, numbers.Integral)"
   ]
  },
  {
   "cell_type": "code",
   "execution_count": 54,
   "metadata": {},
   "outputs": [
    {
     "data": {
      "text/plain": [
       "True"
      ]
     },
     "execution_count": 54,
     "metadata": {},
     "output_type": "execute_result"
    }
   ],
   "source": [
    "out == 1"
   ]
  },
  {
   "cell_type": "code",
   "execution_count": 63,
   "metadata": {
    "deletable": false,
    "editable": false
   },
   "outputs": [
    {
     "data": {
      "text/html": [
       "<p><strong><pre style='display: inline;'>q7</pre></strong> passed!</p>"
      ],
      "text/plain": [
       "q7 results: All test cases passed!"
      ]
     },
     "execution_count": 63,
     "metadata": {},
     "output_type": "execute_result"
    }
   ],
   "source": [
    "grader.check(\"q7\")"
   ]
  },
  {
   "cell_type": "markdown",
   "metadata": {},
   "source": [
    "## Part 4: Introduction to `pandas` 🐼\n",
    "\n",
    "This part will help build familiarity with DataFrames in `pandas`. Fortunately, you've already a version of `pandas` before in DSC 10, called `babypandas`! Review the [DSC 10 course notes](https://notes.dsc10.com/02-data_sets/dataframes.html) as necessary.\n",
    "\n",
    "One key difference between `babypandas` and `pandas` is the idiomatic way of accessing a column. In `babypandas`, to access column `'x'` in DataFrame `df`, you used `df.get('x')`. In `pandas`, the more common way is `df['x']`.\n",
    "\n",
    "As always for `pandas` questions:\n",
    "1. Avoid writing loops through the rows of the DataFrame to do the problem, and\n",
    "2. Test the output/correctness of your code with the help of the dataset given, but be sure your code will also run on data that is similar to but different from the dataset given. (One way to do this is to sample rows from the provided DataFrame using the `.sample` method)."
   ]
  },
  {
   "cell_type": "markdown",
   "metadata": {},
   "source": [
    "The file `data/salary.csv` contains salary information for the 2021-22 National Basketball Association (NBA) season 🏀. Specifically, it contains the name, team, and salary of all players who have played at least 15 games this season. We will load this file and store it as a DataFrame named `salary`."
   ]
  },
  {
   "cell_type": "code",
   "execution_count": 56,
   "metadata": {},
   "outputs": [
    {
     "data": {
      "text/html": [
       "<div>\n",
       "<style scoped>\n",
       "    .dataframe tbody tr th:only-of-type {\n",
       "        vertical-align: middle;\n",
       "    }\n",
       "\n",
       "    .dataframe tbody tr th {\n",
       "        vertical-align: top;\n",
       "    }\n",
       "\n",
       "    .dataframe thead th {\n",
       "        text-align: right;\n",
       "    }\n",
       "</style>\n",
       "<table border=\"1\" class=\"dataframe\">\n",
       "  <thead>\n",
       "    <tr style=\"text-align: right;\">\n",
       "      <th></th>\n",
       "      <th>Player</th>\n",
       "      <th>Position</th>\n",
       "      <th>Team</th>\n",
       "      <th>Salary</th>\n",
       "    </tr>\n",
       "  </thead>\n",
       "  <tbody>\n",
       "    <tr>\n",
       "      <th>0</th>\n",
       "      <td>John Collins</td>\n",
       "      <td>PF</td>\n",
       "      <td>Atlanta Hawks</td>\n",
       "      <td>23000000</td>\n",
       "    </tr>\n",
       "    <tr>\n",
       "      <th>1</th>\n",
       "      <td>Danilo Gallinari</td>\n",
       "      <td>PF</td>\n",
       "      <td>Atlanta Hawks</td>\n",
       "      <td>20475000</td>\n",
       "    </tr>\n",
       "    <tr>\n",
       "      <th>2</th>\n",
       "      <td>Bogdan Bogdanović</td>\n",
       "      <td>SG</td>\n",
       "      <td>Atlanta Hawks</td>\n",
       "      <td>18000000</td>\n",
       "    </tr>\n",
       "    <tr>\n",
       "      <th>3</th>\n",
       "      <td>Clint Capela</td>\n",
       "      <td>C</td>\n",
       "      <td>Atlanta Hawks</td>\n",
       "      <td>17103448</td>\n",
       "    </tr>\n",
       "    <tr>\n",
       "      <th>4</th>\n",
       "      <td>Delon Wright</td>\n",
       "      <td>SG</td>\n",
       "      <td>Atlanta Hawks</td>\n",
       "      <td>8526316</td>\n",
       "    </tr>\n",
       "  </tbody>\n",
       "</table>\n",
       "</div>"
      ],
      "text/plain": [
       "              Player Position           Team    Salary\n",
       "0       John Collins       PF  Atlanta Hawks  23000000\n",
       "1   Danilo Gallinari       PF  Atlanta Hawks  20475000\n",
       "2  Bogdan Bogdanović       SG  Atlanta Hawks  18000000\n",
       "3       Clint Capela        C  Atlanta Hawks  17103448\n",
       "4       Delon Wright       SG  Atlanta Hawks   8526316"
      ]
     },
     "execution_count": 56,
     "metadata": {},
     "output_type": "execute_result"
    }
   ],
   "source": [
    "# Do not edit this cell -- it is needed for the tests\n",
    "salary_fp = os.path.join('data', 'salary.csv')\n",
    "salary = pd.read_csv(salary_fp)\n",
    "salary.head()"
   ]
  },
  {
   "cell_type": "markdown",
   "metadata": {},
   "source": [
    "### Question 8 – `pandas` Basics\n",
    "\n",
    "Your job is to complete the implementation of the function `salary_stats`, which takes in a DataFrame like `salary` and returns a **Series** containing the following statistics:\n",
    "- `'num_players'`: The number of players.\n",
    "- `'num_teams'`: The number of teams.\n",
    "- `'total_salary'`: The total salary amount for all players.\n",
    "- `'highest_salary'`: The name of the player with the highest salary. **Assume there are no ties.**\n",
    "- `'avg_los'`: The average salary of the `'Los Angeles Lakers'`, rounded to two decimal places.\n",
    "- `'fifth_lowest'`: The name and team of the player who has the fifth lowest salary, separated by a comma and a space (e.g. `'Billy Triton, Cleveland Cavaliers'`). **Assume there are no ties.**\n",
    "- `'duplicates'`: A Boolean that is `True` if there are any duplicate last names, and `False` otherwise.\n",
    "- `'total_highest'`: The total salary of the team that has the highest paid player.\n",
    "\n",
    "The index of each element in the outputted Series is specified above.\n",
    "\n",
    "***Note 1***: Your function should work on a dataset of the same format that contains information from other years. This means that `salary_stats` should not \"hard-code\" any numbers or strings, but should compute them all programatically. In all cases, you may assume that none of the answers involving ranking involves a tie.\n",
    "\n",
    "***Note 2***: The doctests and public tests don't test to see if your function returns the right numbers. You should manually inspect your result to make sure that all values seem appropriate."
   ]
  },
  {
   "cell_type": "code",
   "execution_count": null,
   "metadata": {
    "tags": []
   },
   "outputs": [],
   "source": []
  },
  {
   "cell_type": "code",
   "execution_count": null,
   "metadata": {
    "tags": []
   },
   "outputs": [],
   "source": []
  },
  {
   "cell_type": "code",
   "execution_count": 57,
   "metadata": {
    "tags": []
   },
   "outputs": [],
   "source": [
    "# Do not edit this cell -- it is needed for the tests\n",
    "salary_fp = os.path.join('data', 'salary.csv')\n",
    "salary = pd.read_csv(salary_fp)\n",
    "stats = salary_stats(salary)\n",
    "\n",
    "salary_sample = pd.read_csv('data/salary_sample.csv')\n",
    "sample_stats = salary_stats(salary_sample)"
   ]
  },
  {
   "cell_type": "code",
   "execution_count": 58,
   "metadata": {
    "deletable": false,
    "editable": false
   },
   "outputs": [
    {
     "data": {
      "text/html": [
       "<p><strong style='color: red;'><pre style='display: inline;'>q8</pre> results:</strong></p><p><strong><pre style='display: inline;'>q8 - 1</pre> result:</strong></p><pre>    Trying:\n",
       "        doctest.run_docstring_examples(salary_stats, \n",
       "                                       {'salary_stats': salary_stats, 'os': os, 'pd': pd})\n",
       "    Expecting nothing\n",
       "    **********************************************************************\n",
       "    Line 1, in q8 0\n",
       "    Failed example:\n",
       "        doctest.run_docstring_examples(salary_stats, \n",
       "                                       {'salary_stats': salary_stats, 'os': os, 'pd': pd})\n",
       "    Expected nothing\n",
       "    Got:\n",
       "        **********************************************************************\n",
       "        File \"/home/v/Documents/github_repos/dsc80-2022-sp/labs/01-intro/lab.py\", line 363, in NoName\n",
       "        Failed example:\n",
       "            isinstance(out, pd.Series)\n",
       "        Expected:\n",
       "            True\n",
       "        Got:\n",
       "            False\n",
       "        **********************************************************************\n",
       "        File \"/home/v/Documents/github_repos/dsc80-2022-sp/labs/01-intro/lab.py\", line 365, in NoName\n",
       "        Failed example:\n",
       "            'total_highest' in out.index\n",
       "        Exception raised:\n",
       "            Traceback (most recent call last):\n",
       "              File \"/home/v/Documents/anaconda3/envs/dsc80/lib/python3.8/doctest.py\", line 1336, in __run\n",
       "                exec(compile(example.source, filename, \"single\",\n",
       "              File \"<doctest NoName[4]>\", line 1, in <module>\n",
       "                'total_highest' in out.index\n",
       "            AttributeError: 'NoneType' object has no attribute 'index'\n",
       "        **********************************************************************\n",
       "        File \"/home/v/Documents/github_repos/dsc80-2022-sp/labs/01-intro/lab.py\", line 367, in NoName\n",
       "        Failed example:\n",
       "            isinstance(out.loc['duplicates'], bool)\n",
       "        Exception raised:\n",
       "            Traceback (most recent call last):\n",
       "              File \"/home/v/Documents/anaconda3/envs/dsc80/lib/python3.8/doctest.py\", line 1336, in __run\n",
       "                exec(compile(example.source, filename, \"single\",\n",
       "              File \"<doctest NoName[5]>\", line 1, in <module>\n",
       "                isinstance(out.loc['duplicates'], bool)\n",
       "            AttributeError: 'NoneType' object has no attribute 'loc'\n",
       "</pre><p><strong><pre style='display: inline;'>q8 - 1</pre> message:</strong> doctest examples</p>"
      ],
      "text/plain": [
       "q8 results:\n",
       "    q8 - 1 result:\n",
       "        Trying:\n",
       "            doctest.run_docstring_examples(salary_stats, \n",
       "                                           {'salary_stats': salary_stats, 'os': os, 'pd': pd})\n",
       "        Expecting nothing\n",
       "        **********************************************************************\n",
       "        Line 1, in q8 0\n",
       "        Failed example:\n",
       "            doctest.run_docstring_examples(salary_stats, \n",
       "                                           {'salary_stats': salary_stats, 'os': os, 'pd': pd})\n",
       "        Expected nothing\n",
       "        Got:\n",
       "            **********************************************************************\n",
       "            File \"/home/v/Documents/github_repos/dsc80-2022-sp/labs/01-intro/lab.py\", line 363, in NoName\n",
       "            Failed example:\n",
       "                isinstance(out, pd.Series)\n",
       "            Expected:\n",
       "                True\n",
       "            Got:\n",
       "                False\n",
       "            **********************************************************************\n",
       "            File \"/home/v/Documents/github_repos/dsc80-2022-sp/labs/01-intro/lab.py\", line 365, in NoName\n",
       "            Failed example:\n",
       "                'total_highest' in out.index\n",
       "            Exception raised:\n",
       "                Traceback (most recent call last):\n",
       "                  File \"/home/v/Documents/anaconda3/envs/dsc80/lib/python3.8/doctest.py\", line 1336, in __run\n",
       "                    exec(compile(example.source, filename, \"single\",\n",
       "                  File \"<doctest NoName[4]>\", line 1, in <module>\n",
       "                    'total_highest' in out.index\n",
       "                AttributeError: 'NoneType' object has no attribute 'index'\n",
       "            **********************************************************************\n",
       "            File \"/home/v/Documents/github_repos/dsc80-2022-sp/labs/01-intro/lab.py\", line 367, in NoName\n",
       "            Failed example:\n",
       "                isinstance(out.loc['duplicates'], bool)\n",
       "            Exception raised:\n",
       "                Traceback (most recent call last):\n",
       "                  File \"/home/v/Documents/anaconda3/envs/dsc80/lib/python3.8/doctest.py\", line 1336, in __run\n",
       "                    exec(compile(example.source, filename, \"single\",\n",
       "                  File \"<doctest NoName[5]>\", line 1, in <module>\n",
       "                    isinstance(out.loc['duplicates'], bool)\n",
       "                AttributeError: 'NoneType' object has no attribute 'loc'\n",
       "\n",
       "    q8 - 1 message: doctest examples"
      ]
     },
     "execution_count": 58,
     "metadata": {},
     "output_type": "execute_result"
    }
   ],
   "source": [
    "grader.check(\"q8\")"
   ]
  },
  {
   "cell_type": "markdown",
   "metadata": {},
   "source": [
    "### Question 9 – Reading Malformed `.csv` Files\n",
    "\n",
    "`data/malformed.csv` is a file of comma-separated values, containing the following fields:\n",
    "\n",
    "\n",
    "|column name|description|type|\n",
    "|---|---|---|\n",
    "|first|first name of person|str|\n",
    "|last|last name of person|str|\n",
    "|weight|weight of person (lbs)|float|\n",
    "|height|height of person (in)|float|\n",
    "|geo|location of person; comma-separated latitude/longitude|str|\n",
    "\n",
    "Unfortunately, the entries contains errors that cause `pandas`' `read_csv` function to fail parsing the file with the default settings. Instead, you must read in the file manually using Python's built-in `open` function.\n",
    "\n",
    "Complete the implementation of the function `parse_malformed`, which takes in a file path (`fp`) and returns a parsed, properly-typed DataFrame. The DataFrame should contain columns as described in the table above (with the specified types); it should agree with `pd.read_csv` when the lines are not malformed.\n",
    "\n",
    "***Note:*** Assume that the given `.csv` file is a sample of a larger file; you will be graded against a **different** sample of the larger file that has the same type of parsing errors. That is, you should **not** hard-code your cleaning of the data to specific errors on specific lines in the data.\n",
    "\n",
    "***Hint:*** Open `data/malformed.csv` in your text editor, and look very carefully at the placement of commas (`,`) and quotes (`\"`)."
   ]
  },
  {
   "cell_type": "code",
   "execution_count": null,
   "metadata": {
    "tags": []
   },
   "outputs": [],
   "source": []
  },
  {
   "cell_type": "code",
   "execution_count": null,
   "metadata": {
    "tags": []
   },
   "outputs": [],
   "source": []
  },
  {
   "cell_type": "code",
   "execution_count": 59,
   "metadata": {
    "tags": []
   },
   "outputs": [],
   "source": [
    "# Do not edit -- needed for tests\n",
    "fp = os.path.join('data', 'malformed.csv')\n",
    "cols = ['first', 'last', 'weight', 'height', 'geo']\n",
    "df = parse_malformed(fp)\n",
    "dg = pd.read_csv(fp, nrows=4, skiprows=10, names=cols)"
   ]
  },
  {
   "cell_type": "code",
   "execution_count": 60,
   "metadata": {
    "deletable": false,
    "editable": false
   },
   "outputs": [
    {
     "data": {
      "text/html": [
       "<p><strong style='color: red;'><pre style='display: inline;'>q9</pre> results:</strong></p><p><strong><pre style='display: inline;'>q9 - 1</pre> result:</strong></p><pre>    Trying:\n",
       "        doctest.run_docstring_examples(parse_malformed, \n",
       "                                       {'parse_malformed': parse_malformed, 'pd': pd, 'os': os, 'np': np})\n",
       "    Expecting nothing\n",
       "    **********************************************************************\n",
       "    Line 1, in q9 0\n",
       "    Failed example:\n",
       "        doctest.run_docstring_examples(parse_malformed, \n",
       "                                       {'parse_malformed': parse_malformed, 'pd': pd, 'os': os, 'np': np})\n",
       "    Expected nothing\n",
       "    Got:\n",
       "        **********************************************************************\n",
       "        File \"/home/v/Documents/github_repos/dsc80-2022-sp/labs/01-intro/lab.py\", line 390, in NoName\n",
       "        Failed example:\n",
       "            list(df.columns) == cols\n",
       "        Exception raised:\n",
       "            Traceback (most recent call last):\n",
       "              File \"/home/v/Documents/anaconda3/envs/dsc80/lib/python3.8/doctest.py\", line 1336, in __run\n",
       "                exec(compile(example.source, filename, \"single\",\n",
       "              File \"<doctest NoName[3]>\", line 1, in <module>\n",
       "                list(df.columns) == cols\n",
       "            AttributeError: 'NoneType' object has no attribute 'columns'\n",
       "        **********************************************************************\n",
       "        File \"/home/v/Documents/github_repos/dsc80-2022-sp/labs/01-intro/lab.py\", line 392, in NoName\n",
       "        Failed example:\n",
       "            df['last'].dtype == np.dtype('O')\n",
       "        Exception raised:\n",
       "            Traceback (most recent call last):\n",
       "              File \"/home/v/Documents/anaconda3/envs/dsc80/lib/python3.8/doctest.py\", line 1336, in __run\n",
       "                exec(compile(example.source, filename, \"single\",\n",
       "              File \"<doctest NoName[4]>\", line 1, in <module>\n",
       "                df['last'].dtype == np.dtype('O')\n",
       "            TypeError: 'NoneType' object is not subscriptable\n",
       "        **********************************************************************\n",
       "        File \"/home/v/Documents/github_repos/dsc80-2022-sp/labs/01-intro/lab.py\", line 394, in NoName\n",
       "        Failed example:\n",
       "            df['height'].dtype == np.dtype('float64')\n",
       "        Exception raised:\n",
       "            Traceback (most recent call last):\n",
       "              File \"/home/v/Documents/anaconda3/envs/dsc80/lib/python3.8/doctest.py\", line 1336, in __run\n",
       "                exec(compile(example.source, filename, \"single\",\n",
       "              File \"<doctest NoName[5]>\", line 1, in <module>\n",
       "                df['height'].dtype == np.dtype('float64')\n",
       "            TypeError: 'NoneType' object is not subscriptable\n",
       "        **********************************************************************\n",
       "        File \"/home/v/Documents/github_repos/dsc80-2022-sp/labs/01-intro/lab.py\", line 396, in NoName\n",
       "        Failed example:\n",
       "            df['geo'].str.contains(',').all()\n",
       "        Exception raised:\n",
       "            Traceback (most recent call last):\n",
       "              File \"/home/v/Documents/anaconda3/envs/dsc80/lib/python3.8/doctest.py\", line 1336, in __run\n",
       "                exec(compile(example.source, filename, \"single\",\n",
       "              File \"<doctest NoName[6]>\", line 1, in <module>\n",
       "                df['geo'].str.contains(',').all()\n",
       "            TypeError: 'NoneType' object is not subscriptable\n",
       "        **********************************************************************\n",
       "        File \"/home/v/Documents/github_repos/dsc80-2022-sp/labs/01-intro/lab.py\", line 398, in NoName\n",
       "        Failed example:\n",
       "            len(df) == 100\n",
       "        Exception raised:\n",
       "            Traceback (most recent call last):\n",
       "              File \"/home/v/Documents/anaconda3/envs/dsc80/lib/python3.8/doctest.py\", line 1336, in __run\n",
       "                exec(compile(example.source, filename, \"single\",\n",
       "              File \"<doctest NoName[7]>\", line 1, in <module>\n",
       "                len(df) == 100\n",
       "            TypeError: object of type 'NoneType' has no len()\n",
       "        **********************************************************************\n",
       "        File \"/home/v/Documents/github_repos/dsc80-2022-sp/labs/01-intro/lab.py\", line 402, in NoName\n",
       "        Failed example:\n",
       "            (dg == df.iloc[9:13]).all().all()\n",
       "        Exception raised:\n",
       "            Traceback (most recent call last):\n",
       "              File \"/home/v/Documents/anaconda3/envs/dsc80/lib/python3.8/doctest.py\", line 1336, in __run\n",
       "                exec(compile(example.source, filename, \"single\",\n",
       "              File \"<doctest NoName[10]>\", line 1, in <module>\n",
       "                (dg == df.iloc[9:13]).all().all()\n",
       "            AttributeError: 'NoneType' object has no attribute 'iloc'\n",
       "</pre><p><strong><pre style='display: inline;'>q9 - 1</pre> message:</strong> doctest examples</p>"
      ],
      "text/plain": [
       "q9 results:\n",
       "    q9 - 1 result:\n",
       "        Trying:\n",
       "            doctest.run_docstring_examples(parse_malformed, \n",
       "                                           {'parse_malformed': parse_malformed, 'pd': pd, 'os': os, 'np': np})\n",
       "        Expecting nothing\n",
       "        **********************************************************************\n",
       "        Line 1, in q9 0\n",
       "        Failed example:\n",
       "            doctest.run_docstring_examples(parse_malformed, \n",
       "                                           {'parse_malformed': parse_malformed, 'pd': pd, 'os': os, 'np': np})\n",
       "        Expected nothing\n",
       "        Got:\n",
       "            **********************************************************************\n",
       "            File \"/home/v/Documents/github_repos/dsc80-2022-sp/labs/01-intro/lab.py\", line 390, in NoName\n",
       "            Failed example:\n",
       "                list(df.columns) == cols\n",
       "            Exception raised:\n",
       "                Traceback (most recent call last):\n",
       "                  File \"/home/v/Documents/anaconda3/envs/dsc80/lib/python3.8/doctest.py\", line 1336, in __run\n",
       "                    exec(compile(example.source, filename, \"single\",\n",
       "                  File \"<doctest NoName[3]>\", line 1, in <module>\n",
       "                    list(df.columns) == cols\n",
       "                AttributeError: 'NoneType' object has no attribute 'columns'\n",
       "            **********************************************************************\n",
       "            File \"/home/v/Documents/github_repos/dsc80-2022-sp/labs/01-intro/lab.py\", line 392, in NoName\n",
       "            Failed example:\n",
       "                df['last'].dtype == np.dtype('O')\n",
       "            Exception raised:\n",
       "                Traceback (most recent call last):\n",
       "                  File \"/home/v/Documents/anaconda3/envs/dsc80/lib/python3.8/doctest.py\", line 1336, in __run\n",
       "                    exec(compile(example.source, filename, \"single\",\n",
       "                  File \"<doctest NoName[4]>\", line 1, in <module>\n",
       "                    df['last'].dtype == np.dtype('O')\n",
       "                TypeError: 'NoneType' object is not subscriptable\n",
       "            **********************************************************************\n",
       "            File \"/home/v/Documents/github_repos/dsc80-2022-sp/labs/01-intro/lab.py\", line 394, in NoName\n",
       "            Failed example:\n",
       "                df['height'].dtype == np.dtype('float64')\n",
       "            Exception raised:\n",
       "                Traceback (most recent call last):\n",
       "                  File \"/home/v/Documents/anaconda3/envs/dsc80/lib/python3.8/doctest.py\", line 1336, in __run\n",
       "                    exec(compile(example.source, filename, \"single\",\n",
       "                  File \"<doctest NoName[5]>\", line 1, in <module>\n",
       "                    df['height'].dtype == np.dtype('float64')\n",
       "                TypeError: 'NoneType' object is not subscriptable\n",
       "            **********************************************************************\n",
       "            File \"/home/v/Documents/github_repos/dsc80-2022-sp/labs/01-intro/lab.py\", line 396, in NoName\n",
       "            Failed example:\n",
       "                df['geo'].str.contains(',').all()\n",
       "            Exception raised:\n",
       "                Traceback (most recent call last):\n",
       "                  File \"/home/v/Documents/anaconda3/envs/dsc80/lib/python3.8/doctest.py\", line 1336, in __run\n",
       "                    exec(compile(example.source, filename, \"single\",\n",
       "                  File \"<doctest NoName[6]>\", line 1, in <module>\n",
       "                    df['geo'].str.contains(',').all()\n",
       "                TypeError: 'NoneType' object is not subscriptable\n",
       "            **********************************************************************\n",
       "            File \"/home/v/Documents/github_repos/dsc80-2022-sp/labs/01-intro/lab.py\", line 398, in NoName\n",
       "            Failed example:\n",
       "                len(df) == 100\n",
       "            Exception raised:\n",
       "                Traceback (most recent call last):\n",
       "                  File \"/home/v/Documents/anaconda3/envs/dsc80/lib/python3.8/doctest.py\", line 1336, in __run\n",
       "                    exec(compile(example.source, filename, \"single\",\n",
       "                  File \"<doctest NoName[7]>\", line 1, in <module>\n",
       "                    len(df) == 100\n",
       "                TypeError: object of type 'NoneType' has no len()\n",
       "            **********************************************************************\n",
       "            File \"/home/v/Documents/github_repos/dsc80-2022-sp/labs/01-intro/lab.py\", line 402, in NoName\n",
       "            Failed example:\n",
       "                (dg == df.iloc[9:13]).all().all()\n",
       "            Exception raised:\n",
       "                Traceback (most recent call last):\n",
       "                  File \"/home/v/Documents/anaconda3/envs/dsc80/lib/python3.8/doctest.py\", line 1336, in __run\n",
       "                    exec(compile(example.source, filename, \"single\",\n",
       "                  File \"<doctest NoName[10]>\", line 1, in <module>\n",
       "                    (dg == df.iloc[9:13]).all().all()\n",
       "                AttributeError: 'NoneType' object has no attribute 'iloc'\n",
       "\n",
       "    q9 - 1 message: doctest examples"
      ]
     },
     "execution_count": 60,
     "metadata": {},
     "output_type": "execute_result"
    }
   ],
   "source": [
    "grader.check(\"q9\")"
   ]
  },
  {
   "cell_type": "markdown",
   "metadata": {},
   "source": [
    "## Congratulations! You're done! 🏁\n",
    "\n",
    "Submit your `.py` file to Gradescope. Note that you only need to submit the `.py` file; this notebook should not be uploaded.\n",
    "\n",
    "Before submitting, you should ensure that all of your work is in the `.py` file. You can do this by running the doctests below, which will verify that your work passes the public tests **and** that your work is in the `.py` file. Run the cell below; you should see no output."
   ]
  },
  {
   "cell_type": "code",
   "execution_count": 61,
   "metadata": {},
   "outputs": [
    {
     "name": "stdout",
     "output_type": "stream",
     "text": [
      "**********************************************************************\r\n",
      "File \"/home/v/Documents/github_repos/dsc80-2022-sp/labs/01-intro/lab.py\", line 390, in lab.parse_malformed\r\n",
      "Failed example:\r\n",
      "    list(df.columns) == cols\r\n",
      "Exception raised:\r\n",
      "    Traceback (most recent call last):\r\n",
      "      File \"/home/v/Documents/anaconda3/envs/dsc80/lib/python3.8/doctest.py\", line 1336, in __run\r\n",
      "        exec(compile(example.source, filename, \"single\",\r\n",
      "      File \"<doctest lab.parse_malformed[3]>\", line 1, in <module>\r\n",
      "        list(df.columns) == cols\r\n",
      "    AttributeError: 'NoneType' object has no attribute 'columns'\r\n",
      "**********************************************************************\r\n",
      "File \"/home/v/Documents/github_repos/dsc80-2022-sp/labs/01-intro/lab.py\", line 392, in lab.parse_malformed\r\n",
      "Failed example:\r\n",
      "    df['last'].dtype == np.dtype('O')\r\n",
      "Exception raised:\r\n",
      "    Traceback (most recent call last):\r\n",
      "      File \"/home/v/Documents/anaconda3/envs/dsc80/lib/python3.8/doctest.py\", line 1336, in __run\r\n",
      "        exec(compile(example.source, filename, \"single\",\r\n",
      "      File \"<doctest lab.parse_malformed[4]>\", line 1, in <module>\r\n",
      "        df['last'].dtype == np.dtype('O')\r\n",
      "    TypeError: 'NoneType' object is not subscriptable\r\n",
      "**********************************************************************\r\n",
      "File \"/home/v/Documents/github_repos/dsc80-2022-sp/labs/01-intro/lab.py\", line 394, in lab.parse_malformed\r\n",
      "Failed example:\r\n",
      "    df['height'].dtype == np.dtype('float64')\r\n",
      "Exception raised:\r\n",
      "    Traceback (most recent call last):\r\n",
      "      File \"/home/v/Documents/anaconda3/envs/dsc80/lib/python3.8/doctest.py\", line 1336, in __run\r\n",
      "        exec(compile(example.source, filename, \"single\",\r\n",
      "      File \"<doctest lab.parse_malformed[5]>\", line 1, in <module>\r\n",
      "        df['height'].dtype == np.dtype('float64')\r\n",
      "    TypeError: 'NoneType' object is not subscriptable\r\n",
      "**********************************************************************\r\n",
      "File \"/home/v/Documents/github_repos/dsc80-2022-sp/labs/01-intro/lab.py\", line 396, in lab.parse_malformed\r\n",
      "Failed example:\r\n",
      "    df['geo'].str.contains(',').all()\r\n",
      "Exception raised:\r\n",
      "    Traceback (most recent call last):\r\n",
      "      File \"/home/v/Documents/anaconda3/envs/dsc80/lib/python3.8/doctest.py\", line 1336, in __run\r\n",
      "        exec(compile(example.source, filename, \"single\",\r\n",
      "      File \"<doctest lab.parse_malformed[6]>\", line 1, in <module>\r\n",
      "        df['geo'].str.contains(',').all()\r\n",
      "    TypeError: 'NoneType' object is not subscriptable\r\n",
      "**********************************************************************\r\n",
      "File \"/home/v/Documents/github_repos/dsc80-2022-sp/labs/01-intro/lab.py\", line 398, in lab.parse_malformed\r\n",
      "Failed example:\r\n",
      "    len(df) == 100\r\n",
      "Exception raised:\r\n",
      "    Traceback (most recent call last):\r\n",
      "      File \"/home/v/Documents/anaconda3/envs/dsc80/lib/python3.8/doctest.py\", line 1336, in __run\r\n",
      "        exec(compile(example.source, filename, \"single\",\r\n",
      "      File \"<doctest lab.parse_malformed[7]>\", line 1, in <module>\r\n",
      "        len(df) == 100\r\n",
      "    TypeError: object of type 'NoneType' has no len()\r\n",
      "**********************************************************************\r\n",
      "File \"/home/v/Documents/github_repos/dsc80-2022-sp/labs/01-intro/lab.py\", line 402, in lab.parse_malformed\r\n",
      "Failed example:\r\n",
      "    (dg == df.iloc[9:13]).all().all()\r\n",
      "Exception raised:\r\n",
      "    Traceback (most recent call last):\r\n",
      "      File \"/home/v/Documents/anaconda3/envs/dsc80/lib/python3.8/doctest.py\", line 1336, in __run\r\n",
      "        exec(compile(example.source, filename, \"single\",\r\n",
      "      File \"<doctest lab.parse_malformed[10]>\", line 1, in <module>\r\n",
      "        (dg == df.iloc[9:13]).all().all()\r\n",
      "    AttributeError: 'NoneType' object has no attribute 'iloc'\r\n",
      "**********************************************************************\r\n",
      "File \"/home/v/Documents/github_repos/dsc80-2022-sp/labs/01-intro/lab.py\", line 363, in lab.salary_stats\r\n",
      "Failed example:\r\n",
      "    isinstance(out, pd.Series)\r\n",
      "Expected:\r\n",
      "    True\r\n",
      "Got:\r\n",
      "    False\r\n",
      "**********************************************************************\r\n",
      "File \"/home/v/Documents/github_repos/dsc80-2022-sp/labs/01-intro/lab.py\", line 365, in lab.salary_stats\r\n",
      "Failed example:\r\n",
      "    'total_highest' in out.index\r\n",
      "Exception raised:\r\n",
      "    Traceback (most recent call last):\r\n",
      "      File \"/home/v/Documents/anaconda3/envs/dsc80/lib/python3.8/doctest.py\", line 1336, in __run\r\n",
      "        exec(compile(example.source, filename, \"single\",\r\n",
      "      File \"<doctest lab.salary_stats[4]>\", line 1, in <module>\r\n",
      "        'total_highest' in out.index\r\n",
      "    AttributeError: 'NoneType' object has no attribute 'index'\r\n",
      "**********************************************************************\r\n",
      "File \"/home/v/Documents/github_repos/dsc80-2022-sp/labs/01-intro/lab.py\", line 367, in lab.salary_stats\r\n",
      "Failed example:\r\n",
      "    isinstance(out.loc['duplicates'], bool)\r\n",
      "Exception raised:\r\n",
      "    Traceback (most recent call last):\r\n",
      "      File \"/home/v/Documents/anaconda3/envs/dsc80/lib/python3.8/doctest.py\", line 1336, in __run\r\n",
      "        exec(compile(example.source, filename, \"single\",\r\n",
      "      File \"<doctest lab.salary_stats[5]>\", line 1, in <module>\r\n",
      "        isinstance(out.loc['duplicates'], bool)\r\n",
      "    AttributeError: 'NoneType' object has no attribute 'loc'\r\n",
      "**********************************************************************\r\n",
      "File \"/home/v/Documents/github_repos/dsc80-2022-sp/labs/01-intro/lab.py\", line 327, in lab.with_leftover\r\n",
      "Failed example:\r\n",
      "    import numbers\r\n",
      "Expected:\r\n",
      "    #>>> stocks = np.array([3, 3, 3, 3])\r\n",
      "    #>>> out = with_leftover(stocks)\r\n",
      "    #>>> isinstance(out, numbers.Integral)\r\n",
      "    True\r\n",
      "    #>>> out == 1\r\n",
      "    True\r\n",
      "Got nothing\r\n",
      "**********************************************************************\r\n",
      "3 items had failures:\r\n",
      "   6 of  11 in lab.parse_malformed\r\n",
      "   3 of   6 in lab.salary_stats\r\n",
      "   1 of   1 in lab.with_leftover\r\n",
      "***Test Failed*** 10 failures.\r\n"
     ]
    }
   ],
   "source": [
    "!python -m doctest lab.py"
   ]
  },
  {
   "cell_type": "markdown",
   "metadata": {},
   "source": [
    "In addition, `grader.check_all()` will verify that your work passes the public tests. Ultimately, the Gradescope autograder is also going to run `grader.check_all()`, so you should ensure these pass as well (which they should if the doctests above passed)."
   ]
  },
  {
   "cell_type": "markdown",
   "metadata": {
    "deletable": false,
    "editable": false
   },
   "source": [
    "---\n",
    "\n",
    "To double-check your work, the cell below will rerun all of the autograder tests."
   ]
  },
  {
   "cell_type": "code",
   "execution_count": 62,
   "metadata": {
    "deletable": false,
    "editable": false
   },
   "outputs": [
    {
     "data": {
      "text/plain": [
       "q0 results: All test cases passed!\n",
       "\n",
       "q1 results: All test cases passed!\n",
       "\n",
       "q2 results: All test cases passed!\n",
       "\n",
       "q3 results: All test cases passed!\n",
       "\n",
       "q4 results: All test cases passed!\n",
       "\n",
       "q5 results: All test cases passed!\n",
       "\n",
       "q6 results: All test cases passed!\n",
       "\n",
       "q7 results:\n",
       "    q7 - 1 result:\n",
       "        Test case passed!\n",
       "\n",
       "    q7 - 2 result:\n",
       "        Trying:\n",
       "            doctest.run_docstring_examples(with_leftover, \n",
       "                                           {'with_leftover': with_leftover, 'np': np})\n",
       "        Expecting nothing\n",
       "        **********************************************************************\n",
       "        Line 1, in q7 1\n",
       "        Failed example:\n",
       "            doctest.run_docstring_examples(with_leftover, \n",
       "                                           {'with_leftover': with_leftover, 'np': np})\n",
       "        Expected nothing\n",
       "        Got:\n",
       "            **********************************************************************\n",
       "            File \"/home/v/Documents/github_repos/dsc80-2022-sp/labs/01-intro/lab.py\", line 327, in NoName\n",
       "            Failed example:\n",
       "                import numbers\n",
       "            Expected:\n",
       "                #>>> stocks = np.array([3, 3, 3, 3])\n",
       "                #>>> out = with_leftover(stocks)\n",
       "                #>>> isinstance(out, numbers.Integral)\n",
       "                True\n",
       "                #>>> out == 1\n",
       "                True\n",
       "            Got nothing\n",
       "\n",
       "    q7 - 2 message: doctest examples for with_leftover\n",
       "\n",
       "q8 results:\n",
       "    q8 - 1 result:\n",
       "        Trying:\n",
       "            doctest.run_docstring_examples(salary_stats, \n",
       "                                           {'salary_stats': salary_stats, 'os': os, 'pd': pd})\n",
       "        Expecting nothing\n",
       "        **********************************************************************\n",
       "        Line 1, in q8 0\n",
       "        Failed example:\n",
       "            doctest.run_docstring_examples(salary_stats, \n",
       "                                           {'salary_stats': salary_stats, 'os': os, 'pd': pd})\n",
       "        Expected nothing\n",
       "        Got:\n",
       "            **********************************************************************\n",
       "            File \"/home/v/Documents/github_repos/dsc80-2022-sp/labs/01-intro/lab.py\", line 363, in NoName\n",
       "            Failed example:\n",
       "                isinstance(out, pd.Series)\n",
       "            Expected:\n",
       "                True\n",
       "            Got:\n",
       "                False\n",
       "            **********************************************************************\n",
       "            File \"/home/v/Documents/github_repos/dsc80-2022-sp/labs/01-intro/lab.py\", line 365, in NoName\n",
       "            Failed example:\n",
       "                'total_highest' in out.index\n",
       "            Exception raised:\n",
       "                Traceback (most recent call last):\n",
       "                  File \"/home/v/Documents/anaconda3/envs/dsc80/lib/python3.8/doctest.py\", line 1336, in __run\n",
       "                    exec(compile(example.source, filename, \"single\",\n",
       "                  File \"<doctest NoName[4]>\", line 1, in <module>\n",
       "                    'total_highest' in out.index\n",
       "                AttributeError: 'NoneType' object has no attribute 'index'\n",
       "            **********************************************************************\n",
       "            File \"/home/v/Documents/github_repos/dsc80-2022-sp/labs/01-intro/lab.py\", line 367, in NoName\n",
       "            Failed example:\n",
       "                isinstance(out.loc['duplicates'], bool)\n",
       "            Exception raised:\n",
       "                Traceback (most recent call last):\n",
       "                  File \"/home/v/Documents/anaconda3/envs/dsc80/lib/python3.8/doctest.py\", line 1336, in __run\n",
       "                    exec(compile(example.source, filename, \"single\",\n",
       "                  File \"<doctest NoName[5]>\", line 1, in <module>\n",
       "                    isinstance(out.loc['duplicates'], bool)\n",
       "                AttributeError: 'NoneType' object has no attribute 'loc'\n",
       "\n",
       "    q8 - 1 message: doctest examples\n",
       "\n",
       "q9 results:\n",
       "    q9 - 1 result:\n",
       "        Trying:\n",
       "            doctest.run_docstring_examples(parse_malformed, \n",
       "                                           {'parse_malformed': parse_malformed, 'pd': pd, 'os': os, 'np': np})\n",
       "        Expecting nothing\n",
       "        **********************************************************************\n",
       "        Line 1, in q9 0\n",
       "        Failed example:\n",
       "            doctest.run_docstring_examples(parse_malformed, \n",
       "                                           {'parse_malformed': parse_malformed, 'pd': pd, 'os': os, 'np': np})\n",
       "        Expected nothing\n",
       "        Got:\n",
       "            **********************************************************************\n",
       "            File \"/home/v/Documents/github_repos/dsc80-2022-sp/labs/01-intro/lab.py\", line 390, in NoName\n",
       "            Failed example:\n",
       "                list(df.columns) == cols\n",
       "            Exception raised:\n",
       "                Traceback (most recent call last):\n",
       "                  File \"/home/v/Documents/anaconda3/envs/dsc80/lib/python3.8/doctest.py\", line 1336, in __run\n",
       "                    exec(compile(example.source, filename, \"single\",\n",
       "                  File \"<doctest NoName[3]>\", line 1, in <module>\n",
       "                    list(df.columns) == cols\n",
       "                AttributeError: 'NoneType' object has no attribute 'columns'\n",
       "            **********************************************************************\n",
       "            File \"/home/v/Documents/github_repos/dsc80-2022-sp/labs/01-intro/lab.py\", line 392, in NoName\n",
       "            Failed example:\n",
       "                df['last'].dtype == np.dtype('O')\n",
       "            Exception raised:\n",
       "                Traceback (most recent call last):\n",
       "                  File \"/home/v/Documents/anaconda3/envs/dsc80/lib/python3.8/doctest.py\", line 1336, in __run\n",
       "                    exec(compile(example.source, filename, \"single\",\n",
       "                  File \"<doctest NoName[4]>\", line 1, in <module>\n",
       "                    df['last'].dtype == np.dtype('O')\n",
       "                TypeError: 'NoneType' object is not subscriptable\n",
       "            **********************************************************************\n",
       "            File \"/home/v/Documents/github_repos/dsc80-2022-sp/labs/01-intro/lab.py\", line 394, in NoName\n",
       "            Failed example:\n",
       "                df['height'].dtype == np.dtype('float64')\n",
       "            Exception raised:\n",
       "                Traceback (most recent call last):\n",
       "                  File \"/home/v/Documents/anaconda3/envs/dsc80/lib/python3.8/doctest.py\", line 1336, in __run\n",
       "                    exec(compile(example.source, filename, \"single\",\n",
       "                  File \"<doctest NoName[5]>\", line 1, in <module>\n",
       "                    df['height'].dtype == np.dtype('float64')\n",
       "                TypeError: 'NoneType' object is not subscriptable\n",
       "            **********************************************************************\n",
       "            File \"/home/v/Documents/github_repos/dsc80-2022-sp/labs/01-intro/lab.py\", line 396, in NoName\n",
       "            Failed example:\n",
       "                df['geo'].str.contains(',').all()\n",
       "            Exception raised:\n",
       "                Traceback (most recent call last):\n",
       "                  File \"/home/v/Documents/anaconda3/envs/dsc80/lib/python3.8/doctest.py\", line 1336, in __run\n",
       "                    exec(compile(example.source, filename, \"single\",\n",
       "                  File \"<doctest NoName[6]>\", line 1, in <module>\n",
       "                    df['geo'].str.contains(',').all()\n",
       "                TypeError: 'NoneType' object is not subscriptable\n",
       "            **********************************************************************\n",
       "            File \"/home/v/Documents/github_repos/dsc80-2022-sp/labs/01-intro/lab.py\", line 398, in NoName\n",
       "            Failed example:\n",
       "                len(df) == 100\n",
       "            Exception raised:\n",
       "                Traceback (most recent call last):\n",
       "                  File \"/home/v/Documents/anaconda3/envs/dsc80/lib/python3.8/doctest.py\", line 1336, in __run\n",
       "                    exec(compile(example.source, filename, \"single\",\n",
       "                  File \"<doctest NoName[7]>\", line 1, in <module>\n",
       "                    len(df) == 100\n",
       "                TypeError: object of type 'NoneType' has no len()\n",
       "            **********************************************************************\n",
       "            File \"/home/v/Documents/github_repos/dsc80-2022-sp/labs/01-intro/lab.py\", line 402, in NoName\n",
       "            Failed example:\n",
       "                (dg == df.iloc[9:13]).all().all()\n",
       "            Exception raised:\n",
       "                Traceback (most recent call last):\n",
       "                  File \"/home/v/Documents/anaconda3/envs/dsc80/lib/python3.8/doctest.py\", line 1336, in __run\n",
       "                    exec(compile(example.source, filename, \"single\",\n",
       "                  File \"<doctest NoName[10]>\", line 1, in <module>\n",
       "                    (dg == df.iloc[9:13]).all().all()\n",
       "                AttributeError: 'NoneType' object has no attribute 'iloc'\n",
       "\n",
       "    q9 - 1 message: doctest examples"
      ]
     },
     "execution_count": 62,
     "metadata": {},
     "output_type": "execute_result"
    }
   ],
   "source": [
    "grader.check_all()"
   ]
  }
 ],
 "metadata": {
  "kernel_info": {
   "name": "python3"
  },
  "kernelspec": {
   "display_name": "Python 3 (ipykernel)",
   "language": "python",
   "name": "python3"
  },
  "language_info": {
   "codemirror_mode": {
    "name": "ipython",
    "version": 3
   },
   "file_extension": ".py",
   "mimetype": "text/x-python",
   "name": "python",
   "nbconvert_exporter": "python",
   "pygments_lexer": "ipython3",
   "version": "3.8.12"
  },
  "nteract": {
   "version": "0.15.0"
  },
  "otter": {
   "tests": {
    "q0": {
     "name": "q0",
     "points": 0,
     "suites": [
      {
       "cases": [
        {
         "code": ">>> doctest.run_docstring_examples(consecutive_ints, {'consecutive_ints': consecutive_ints})\n",
         "failure_message": "doctest examples",
         "hidden": false,
         "locked": false,
         "points": 0
        }
       ],
       "scored": true,
       "setup": "",
       "teardown": "",
       "type": "doctest"
      }
     ]
    },
    "q1": {
     "name": "q1",
     "points": null,
     "suites": [
      {
       "cases": [
        {
         "code": ">>> doctest.run_docstring_examples(median_vs_mean, \n...                                {'median_vs_mean': median_vs_mean})\n",
         "failure_message": "doctest examples",
         "hidden": false,
         "locked": false,
         "points": 3
        }
       ],
       "scored": true,
       "setup": "",
       "teardown": "",
       "type": "doctest"
      }
     ]
    },
    "q2": {
     "name": "q2",
     "points": null,
     "suites": [
      {
       "cases": [
        {
         "code": ">>> doctest.run_docstring_examples(same_diff_ints, \n...                                {'same_diff_ints': same_diff_ints})\n",
         "failure_message": "doctest examples",
         "hidden": false,
         "locked": false,
         "points": 2
        }
       ],
       "scored": true,
       "setup": "",
       "teardown": "",
       "type": "doctest"
      }
     ]
    },
    "q3": {
     "name": "q3",
     "points": null,
     "suites": [
      {
       "cases": [
        {
         "code": ">>> doctest.run_docstring_examples(n_prefixes, \n...                                {'n_prefixes': n_prefixes})\n",
         "failure_message": "doctest examples",
         "hidden": false,
         "locked": false,
         "points": 4
        }
       ],
       "scored": true,
       "setup": "",
       "teardown": "",
       "type": "doctest"
      }
     ]
    },
    "q4": {
     "name": "q4",
     "points": null,
     "suites": [
      {
       "cases": [
        {
         "code": ">>> doctest.run_docstring_examples(exploded_numbers, \n...                                {'exploded_numbers': exploded_numbers})\n",
         "failure_message": "doctest examples",
         "hidden": false,
         "locked": false,
         "points": 2
        }
       ],
       "scored": true,
       "setup": "",
       "teardown": "",
       "type": "doctest"
      }
     ]
    },
    "q5": {
     "name": "q5",
     "points": null,
     "suites": [
      {
       "cases": [
        {
         "code": ">>> doctest.run_docstring_examples(last_chars, \n...                                {'last_chars': last_chars,\n...                                 'os': os})\n",
         "failure_message": "doctest examples",
         "hidden": false,
         "locked": false,
         "points": 1
        }
       ],
       "scored": true,
       "setup": "",
       "teardown": "",
       "type": "doctest"
      }
     ]
    },
    "q6": {
     "name": "q6",
     "points": null,
     "suites": [
      {
       "cases": [
        {
         "code": ">>> doctest.run_docstring_examples(add_root, \n...                                {'add_root': add_root, 'np': np})\n",
         "failure_message": "doctest examples for add_root",
         "hidden": false,
         "locked": false,
         "points": 3
        },
        {
         "code": ">>> doctest.run_docstring_examples(where_square, \n...                                {'where_square': where_square, 'np': np})\n",
         "failure_message": "doctest examples for where_square",
         "hidden": false,
         "locked": false,
         "points": 3
        }
       ],
       "scored": true,
       "setup": "",
       "teardown": "",
       "type": "doctest"
      }
     ]
    },
    "q7": {
     "name": "q7",
     "points": null,
     "suites": [
      {
       "cases": [
        {
         "code": ">>> doctest.run_docstring_examples(growth_rates, \n...                                {'growth_rates': growth_rates, 'np': np, 'os': os})\n",
         "failure_message": "doctest examples for growth_rates",
         "hidden": false,
         "locked": false,
         "points": 3
        },
        {
         "code": ">>> doctest.run_docstring_examples(with_leftover, \n...                                {'with_leftover': with_leftover, 'np': np})\n",
         "failure_message": "doctest examples for with_leftover",
         "hidden": false,
         "locked": false,
         "points": 3
        }
       ],
       "scored": true,
       "setup": "",
       "teardown": "",
       "type": "doctest"
      }
     ]
    },
    "q8": {
     "name": "q8",
     "points": null,
     "suites": [
      {
       "cases": [
        {
         "code": ">>> doctest.run_docstring_examples(salary_stats, \n...                                {'salary_stats': salary_stats, 'os': os, 'pd': pd})\n",
         "failure_message": "doctest examples",
         "hidden": false,
         "locked": false,
         "points": 3
        }
       ],
       "scored": true,
       "setup": "",
       "teardown": "",
       "type": "doctest"
      }
     ]
    },
    "q9": {
     "name": "q9",
     "points": null,
     "suites": [
      {
       "cases": [
        {
         "code": ">>> doctest.run_docstring_examples(parse_malformed, \n...                                {'parse_malformed': parse_malformed, 'pd': pd, 'os': os, 'np': np})\n",
         "failure_message": "doctest examples",
         "hidden": false,
         "locked": false,
         "points": 6
        }
       ],
       "scored": true,
       "setup": "",
       "teardown": "",
       "type": "doctest"
      }
     ]
    }
   }
  }
 },
 "nbformat": 4,
 "nbformat_minor": 2
}
